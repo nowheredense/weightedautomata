{
 "cells": [
  {
   "cell_type": "code",
   "execution_count": 1,
   "metadata": {},
   "outputs": [],
   "source": [
    "load(\"PFAcode.sage\")"
   ]
  },
  {
   "cell_type": "code",
   "execution_count": 96,
   "metadata": {
    "tags": []
   },
   "outputs": [],
   "source": [
    "#%run -i PFAcode.ipynb"
   ]
  },
  {
   "cell_type": "code",
   "execution_count": null,
   "metadata": {},
   "outputs": [],
   "source": [
    "#attach(\"PFAcode.sage\")\n",
    "#this has been a problem for eons, apparently. All these releases and they haven't bothered to fix it??"
   ]
  },
  {
   "cell_type": "code",
   "execution_count": 73,
   "metadata": {},
   "outputs": [],
   "source": [
    "#always start by running the above cell. Nothing else in this notebook is necessary; feel free to treat it as\n",
    "#usage examples. Let me know if I can clarify anything. (Functions in PFAcode file are commented too.)"
   ]
  },
  {
   "cell_type": "code",
   "execution_count": null,
   "metadata": {},
   "outputs": [],
   "source": [
    "#list of probs that are repeated\n",
    "for i in range(11,13):\n",
    "    sortlist = sortproblist([s for s in testlist if len(s[0]) == i]);\n",
    "    j = 0;\n",
    "    while j < len(sortlist) - 1: #for each listed string w/prob (and we don't need to consider the last one)\n",
    "        k = 1;\n",
    "        if sortlist[j][1] == sortlist[j+1][1]:\n",
    "            thing = print(*sortlist[j]); #make sure to print initial member of group too\n",
    "            while j+k < len(sortlist) and sortlist[j][1] == sortlist[j+k][1]: #while we still have the same prob...\n",
    "                thing = print(*sortlist[j+k]); #continue printing\n",
    "                k = k + 1;\n",
    "        j = j + k; #increment far enough to avoid duplication\n",
    "    print(\"\");"
   ]
  },
  {
   "cell_type": "code",
   "execution_count": 81,
   "metadata": {},
   "outputs": [
    {
     "name": "stdout",
     "output_type": "stream",
     "text": [
      "({'0': [ 1/27   8/9  2/27]\n",
      "[10/27  2/27   5/9]\n",
      "[ 7/27 14/27   2/9], '1': [ 95/252    5/12   13/63]\n",
      "[   5/18  61/252 121/252]\n",
      "[  71/84   13/84       0]}, [5/8 3/8   0], [1]\n",
      "[1]\n",
      "[0])\n",
      "[1, -0.5646295554962370?, -0.10203711117042969?]\n",
      "[1, -0.1904761904761905? - 0.2673201554460205?*I, -0.1904761904761905? + 0.2673201554460205?*I]\n",
      "\n",
      "0 161/216\n",
      "11 48343/63504\n",
      "011 5420959/6858432\n",
      "1011 10552135/13502538\n",
      "11011 171896640977/217768932864\n",
      "001011 249282276745/314987206464\n",
      "1001011 20917211773369/26458925342976\n",
      "11001011 2638072652727199/3333824593214976\n",
      "001001011 848161879430567/1071586476390528\n",
      "1001001011 160286163835378027/202529844037809792\n",
      "11001001011 80791541675160377575/102075041395056135168\n",
      "001001001011 116861954319518806793/147644256303563338368\n",
      "1001001001011 9816308163082635903539/12402117529499320422912\n",
      "11001001001011 1236865513135578348575375/1562666808716914373286912\n",
      "001001001001011 1192694432457631132304651/1506857279834167431383808\n",
      "1001001001001011 37569839567695267964126575/47466004314776274088589952\n"
     ]
    }
   ],
   "source": [
    "set_random_seed()\n",
    "#suitable for smaller denominators\n",
    "test=( {'0': random_stoch(3,27), '1': random_stoch(3,252)}, matrix(random_stoch_vector(3,16)), matrix([1,1,0]).transpose())\n",
    "testlist = list_probs_witness(test,range(1,17))\n",
    "print(test)\n",
    "#print(pfa2ifs(test))\n",
    "for m in test[0].values():\n",
    "    #eigval = copy(m.eigenvalues());\n",
    "    #eigval.remove(1);\n",
    "    #print(eigval);\n",
    "    print(m.eigenvalues());\n",
    "print(\"\")\n",
    "thing = [print(*s) for s in highest_prob(testlist,lengths=\"all\")]"
   ]
  },
  {
   "cell_type": "code",
   "execution_count": 82,
   "metadata": {
    "tags": []
   },
   "outputs": [
    {
     "name": "stdout",
     "output_type": "stream",
     "text": [
      "no repeated probs\n"
     ]
    }
   ],
   "source": [
    "#tells if any probs are repeated over all lengths\n",
    "sortlist = sortproblist(testlist);\n",
    "j = 0;\n",
    "any_repeated = False;\n",
    "while j < len(sortlist) - 1: #for each listed string w/prob (and we don't need to consider the last one)\n",
    "    k = 1;\n",
    "    if sortlist[j][1] == sortlist[j+1][1]:\n",
    "        thing = print(*sortlist[j]); #make sure to print initial member of group too\n",
    "        while j+k < len(sortlist) and sortlist[j][1] == sortlist[j+k][1]: #while we still have the same prob...\n",
    "            thing = print(*sortlist[j+k]); #continue printing\n",
    "            k = k + 1;\n",
    "        any_repeated = True;\n",
    "        break; #I don't need to see a giant list\n",
    "    j = j + k; #increment far enough to avoid duplication\n",
    "if not any_repeated: print(\"no repeated probs\");"
   ]
  },
  {
   "cell_type": "code",
   "execution_count": 83,
   "metadata": {
    "tags": []
   },
   "outputs": [],
   "source": [
    "uniq_prob_defect(testlist)"
   ]
  },
  {
   "cell_type": "code",
   "execution_count": null,
   "metadata": {
    "tags": []
   },
   "outputs": [],
   "source": [
    "#suitable for large denominators or reals\n",
    "test=( {'0': random_stoch_real(2), '1': random_stoch_real(2)}, matrix(random_stoch_real(2)[0]), matrix([1,0]).transpose())\n",
    "testlist = list_probs_witness(test,range(1,16))\n",
    "for m in test[0].values():\n",
    "    #eigval = copy(m.eigenvalues());\n",
    "    #eigval.remove(1);\n",
    "    print(m.change_ring(RR), m.eigenvalues());\n",
    "print(test[1].change_ring(RR))\n",
    "for s in highest_prob(testlist,lengths=\"all\"):\n",
    "    print(s[0],N(s[1]))"
   ]
  },
  {
   "cell_type": "code",
   "execution_count": null,
   "metadata": {
    "tags": []
   },
   "outputs": [],
   "source": [
    "#tells if any probs are repeated over all lengths\n",
    "sortlist = sortproblist(testlist);\n",
    "j = 0;\n",
    "any_repeated = False;\n",
    "while j < len(sortlist) - 1: #for each listed string w/prob (and we don't need to consider the last one)\n",
    "    k = 1;\n",
    "    if sortlist[j][1] == sortlist[j+1][1]:\n",
    "        thing = print(*sortlist[j]); #make sure to print initial member of group too\n",
    "        while j+k < len(sortlist) and sortlist[j][1] == sortlist[j+k][1]: #while we still have the same prob...\n",
    "            thing = print(*sortlist[j+k]); #continue printing\n",
    "            k = k + 1;\n",
    "        any_repeated = True;\n",
    "        break; #I don't need to see a giant list\n",
    "    j = j + k; #increment far enough to avoid duplication\n",
    "if not any_repeated: print(\"no repeated probs\");"
   ]
  },
  {
   "cell_type": "code",
   "execution_count": null,
   "metadata": {},
   "outputs": [],
   "source": [
    "uniq_prob_defect(testlist)"
   ]
  },
  {
   "cell_type": "code",
   "execution_count": 7,
   "metadata": {
    "tags": []
   },
   "outputs": [],
   "source": [
    "#print, for aproblist, which lengths have non-unique probabilities, and how many distinct probs there are of each length\n",
    "def uniq_prob_defect(aproblist):\n",
    "    lengths = set(sorted([len(p[0]) for p in aproblist])); #set of lengths of words given\n",
    "    for i in lengths:\n",
    "        thelen = len(set([s[1] for s in aproblist if len(s[0])==i])) #number of distinct probs per length\n",
    "        if thelen != 2^i:\n",
    "            print(i,2^i,thelen)"
   ]
  },
  {
   "cell_type": "code",
   "execution_count": 54,
   "metadata": {},
   "outputs": [],
   "source": [
    "#testmats = bruteforce(2,5);\n",
    "testmats = [];\n",
    "for t in range(5000):\n",
    "    testmats.append(random_PFA(2,200538));\n",
    "#testmatsnew = [];\n",
    "#for mats in testmats:\n",
    "#    for denom in [1000,55,741,892342]:\n",
    "#        testmatsnew.append( (mats, random_stoch_vector(2,denom), matrix([1,0]).transpose() ));"
   ]
  },
  {
   "cell_type": "code",
   "execution_count": 58,
   "metadata": {
    "tags": []
   },
   "outputs": [],
   "source": [
    "uniqnew = finduniques_witness(testmats,lengths=6);"
   ]
  },
  {
   "cell_type": "code",
   "execution_count": 59,
   "metadata": {
    "tags": []
   },
   "outputs": [
    {
     "data": {
      "text/plain": [
       "5000"
      ]
     },
     "execution_count": 59,
     "metadata": {},
     "output_type": "execute_result"
    }
   ],
   "source": [
    "len(uniqnew)"
   ]
  },
  {
   "cell_type": "code",
   "execution_count": null,
   "metadata": {
    "tags": []
   },
   "outputs": [],
   "source": [
    "set([(u[1][0],SC[u[1][0]]) for u in uniqnew])"
   ]
  },
  {
   "cell_type": "code",
   "execution_count": 15,
   "metadata": {
    "tags": []
   },
   "outputs": [
    {
     "name": "stdout",
     "output_type": "stream",
     "text": [
      "r0 =  3/10 0.300000000000000\n",
      "r1 =  7/25 0.280000000000000\n",
      "ix =  6/25 0.240000000000000\n",
      "\n",
      "1 7/20\n",
      "10 37/120\n",
      "100 217/720\n",
      "1000 1297/4320\n",
      "10000 7777/25920\n",
      "100000 46657/155520\n",
      "1000000 279937/933120\n",
      "10000000 1679617/5598720\n"
     ]
    }
   ],
   "source": [
    "testifs = (lambda x: 1/4+1/6*x, lambda x: QQ(.35)-1/4*x,QQ(0))\n",
    "testlist = list_probs_ifs(testifs,lengths=range(1,9))\n",
    "a = testifs[0](x).coefficient(x,0)\n",
    "b = testifs[0](x).coefficient(x,1)\n",
    "c = testifs[1](x).coefficient(x,0)\n",
    "d = testifs[1](x).coefficient(x,1)\n",
    "r0 = a/(1-b)\n",
    "r1 = c/(1-d)\n",
    "ix = (a-c)/(d-b)\n",
    "print(\"r0 = \",r0,r0.n())\n",
    "print(\"r1 = \",r1,r1.n())\n",
    "print(\"ix = \",ix,ix.n())\n",
    "print(\"\")\n",
    "thing = [print(*s) for s in highest_prob(testlist,lengths=\"all\")]"
   ]
  },
  {
   "cell_type": "code",
   "execution_count": null,
   "metadata": {
    "tags": []
   },
   "outputs": [],
   "source": [
    "sortproblist([s for s in testlist if len(s[0]) == 6])"
   ]
  },
  {
   "cell_type": "code",
   "execution_count": 6,
   "metadata": {
    "tags": []
   },
   "outputs": [
    {
     "name": "stdout",
     "output_type": "stream",
     "text": [
      "-0.142857142857143*x + 0.714285714285714 \t -0.857142857142857*x + 1.00000000000000 \t 1\n",
      "r0 = 5/8 0.625000000000000\n",
      "r1 = 7/13 0.538461538461538\n",
      "ix = 2/5 0.400000000000000\n",
      "\n",
      "0 4/7\n",
      "11 43/49\n",
      "010 220/343\n",
      "1111 1891/2401\n",
      "01010 10924/16807\n",
      "111111 84883/117649\n",
      "0101010 536140/823543\n",
      "11111111 3879331/5764801\n",
      "010101010 26276044/40353607\n",
      "1111111110 184690414/282475249\n",
      "01010101010 1287557260/1977326743\n",
      "111111111010 9017449456/13841287201\n",
      "0101010101010 63090492364/96889010407\n",
      "11111111101010 441660738364/678223072849\n"
     ]
    }
   ],
   "source": [
    "#testifs2 = (lambda x: QQ(.35)+QQ(.3)*x, lambda x: QQ(.63)-QQ(.1)*x,QQ(.71))\n",
    "testifs2 = pfa2ifs(SW[\"11111111101010\"][0])\n",
    "#testifs2 = (lambda x: QQ(.005)+QQ(.979)*x, lambda x: QQ(.98) - QQ(.98)*x, QQ(1))\n",
    "print(RR[x](testifs2[0](x)),'\\t',RR[x](testifs2[1](x)),'\\t',testifs2[2])\n",
    "testlist2 = list_probs_ifs(testifs2,lengths=range(1,15))\n",
    "a = testifs2[0](x).coefficient(x,0)\n",
    "b = testifs2[0](x).coefficient(x,1)\n",
    "c = testifs2[1](x).coefficient(x,0)\n",
    "d = testifs2[1](x).coefficient(x,1)\n",
    "r0 = a/(1-b)\n",
    "r1 = c/(1-d)\n",
    "print(\"r0 =\",r0,r0.n())\n",
    "print(\"r1 =\",r1,r1.n())\n",
    "if d != b:\n",
    "    ix = (a-c)/(d-b)\n",
    "    print(\"ix =\",ix,ix.n())\n",
    "else:\n",
    "    print(\"slopes coincide\")\n",
    "print(\"\")\n",
    "thing = [print(*s) for s in highest_prob(testlist2,lengths=\"all\")]"
   ]
  },
  {
   "cell_type": "code",
   "execution_count": null,
   "metadata": {
    "tags": []
   },
   "outputs": [],
   "source": [
    "for s in sortproblist([l for l in testlist2 if len(l[0]) == 8]):\n",
    "    print(s[0],s[1].n())"
   ]
  },
  {
   "cell_type": "code",
   "execution_count": 51,
   "metadata": {
    "tags": []
   },
   "outputs": [
    {
     "data": {
      "text/plain": [
       "20736"
      ]
     },
     "execution_count": 51,
     "metadata": {},
     "output_type": "execute_result"
    }
   ],
   "source": [
    "#someauts = bruteforce(2,6)+bruteforce(2,8)+bruteforce(2,9)+bruteforce(2,10);\n",
    "someauts = bruteforceprobs(2,[0,1/8,1/7,2/7,1/6,1/5])\n",
    "len(someauts)"
   ]
  },
  {
   "cell_type": "code",
   "execution_count": 58,
   "metadata": {
    "tags": []
   },
   "outputs": [
    {
     "data": {
      "text/plain": [
       "{'0': [0 1]\n",
       " [1 0],\n",
       " '1': [1/8 7/8]\n",
       " [6/7 1/7]}"
      ]
     },
     "execution_count": 58,
     "metadata": {},
     "output_type": "execute_result"
    }
   ],
   "source": [
    "w = findwitness(someauts,\"111111111101010\",[1,0],[1,0]); w"
   ]
  },
  {
   "cell_type": "code",
   "execution_count": 59,
   "metadata": {
    "tags": []
   },
   "outputs": [
    {
     "data": {
      "text/plain": [
       "2"
      ]
     },
     "execution_count": 59,
     "metadata": {},
     "output_type": "execute_result"
    }
   ],
   "source": [
    "addonewit(w,\"111111111101010\",[1,0],[1,0])"
   ]
  },
  {
   "cell_type": "code",
   "execution_count": 60,
   "metadata": {
    "tags": []
   },
   "outputs": [],
   "source": [
    "savewits()"
   ]
  },
  {
   "cell_type": "code",
   "execution_count": 61,
   "metadata": {
    "tags": []
   },
   "outputs": [
    {
     "data": {
      "text/plain": [
       "[(\n",
       "{'0': [0 1]                      \n",
       "[1 0], '1': [1/8 7/8]         [1]\n",
       "[6/7 1/7]}           , [1 0], [0]\n",
       ")]"
      ]
     },
     "execution_count": 61,
     "metadata": {},
     "output_type": "execute_result"
    }
   ],
   "source": [
    "SW[\"111111111101010\"]"
   ]
  },
  {
   "cell_type": "code",
   "execution_count": 54,
   "metadata": {
    "tags": []
   },
   "outputs": [
    {
     "name": "stdout",
     "output_type": "stream",
     "text": [
      "-1/7*x + 5/7 \t -6/7*x + 1 \t 1\n"
     ]
    }
   ],
   "source": [
    "testwp = pfa2ifs(SW[\"11111111101010\"][0])\n",
    "print(testwp[0](x),'\\t',testwp[1](x),'\\t',testwp[2])"
   ]
  },
  {
   "cell_type": "code",
   "execution_count": 55,
   "metadata": {
    "tags": []
   },
   "outputs": [
    {
     "data": {
      "text/plain": [
       "0.714285714285714"
      ]
     },
     "execution_count": 55,
     "metadata": {},
     "output_type": "execute_result"
    }
   ],
   "source": [
    "(5/7).n()"
   ]
  },
  {
   "cell_type": "code",
   "execution_count": 74,
   "metadata": {},
   "outputs": [
    {
     "data": {
      "text/plain": [
       "38"
      ]
     },
     "execution_count": 74,
     "metadata": {},
     "output_type": "execute_result"
    }
   ],
   "source": [
    "s63 = [s for s in S2[0] if len(s) == 6 and SC[s] == 3]; len(s63)"
   ]
  },
  {
   "cell_type": "code",
   "execution_count": 89,
   "metadata": {
    "tags": []
   },
   "outputs": [],
   "source": [
    "testpnfa0 = bruteforcevecs(maketuple(([1,0],[0,1],[0,0],[1/2,1/2],[1/4,3/4],[3/4,1/4],[1/3,2/3],[2/3,1/3],[-5,1],[-1,1/5])))\n",
    "testpnfa1 = bruteforcevecs(maketuple(([1,0],[0,1],[0,0],[1/2,1/2],[1/2,0],[0,1/2],[1/3,0],[0,1/3],[1/4,3/4],[3/4,1/4],[1/3,2/3],[2/3,1/3])))\n",
    "testpnfa3 = bruteforcevecs(maketuple(( [0,0],[0,1],[1,0],[-2,-1],[1,2],[2,1],[-1,-2],[1,-1],[-1,1],[-2,1],[1,-2],[2,-1],[-1,2])))\n",
    "#now generalized stochastic\n",
    "testpnfa4 = bruteforcevecs(maketuple(( [0,1],[1,0],[-2,3],[3,-2],[-1,2],[2,-1])))"
   ]
  },
  {
   "cell_type": "code",
   "execution_count": 111,
   "metadata": {
    "tags": []
   },
   "outputs": [
    {
     "data": {
      "text/plain": [
       "(\n",
       "                   [1]\n",
       "None, [-1/5  6/5], [0]\n",
       ")"
      ]
     },
     "execution_count": 111,
     "metadata": {},
     "output_type": "execute_result"
    }
   ],
   "source": [
    "init = matrix([-1/5,6/5])\n",
    "final = matrix([1,0]).transpose()\n",
    "w = (findwitness(testpnfa4,\"01101\",init.list(),final.list()),init,final); w"
   ]
  },
  {
   "cell_type": "code",
   "execution_count": 71,
   "metadata": {},
   "outputs": [],
   "source": [
    "w = ( {'0': matrix([[0,1],[0,1]]), '1': matrix([[1,0],[-2,1]])}, matrix([1,0]), matrix([1,0]).transpose())"
   ]
  },
  {
   "cell_type": "code",
   "execution_count": 72,
   "metadata": {},
   "outputs": [
    {
     "name": "stdout",
     "output_type": "stream",
     "text": [
      "1 1\n",
      "11 1\n",
      "111 1\n",
      "0101 2\n",
      "01101 6\n",
      "011011 12\n",
      "0111011 20\n",
      "01110111 30\n",
      "011110111 42\n",
      "0111101111 56\n",
      "01111101111 72\n",
      "011011011011 108\n",
      "0110110111011 180\n",
      "0110111011011 180\n",
      "0111011011011 180\n",
      "01101110111011 300\n",
      "01110110111011 300\n",
      "01110111011011 300\n",
      "011101110111011 500\n",
      "0111011101110111 750\n"
     ]
    }
   ],
   "source": [
    "wlist = list_probs_witness(w,lengths=range(1,17))\n",
    "thing = [print(*s) for s in highest_prob(wlist,lengths=\"all\")]"
   ]
  },
  {
   "cell_type": "code",
   "execution_count": 39,
   "metadata": {
    "tags": []
   },
   "outputs": [
    {
     "data": {
      "text/plain": [
       "(\n",
       "{'0': [4/5 1/5]                      \n",
       "[2/5 3/5], '1': [2/5 3/5]         [1]\n",
       "[  1   0]}               , [1 0], [0]\n",
       ")"
      ]
     },
     "execution_count": 39,
     "metadata": {},
     "output_type": "execute_result"
    }
   ],
   "source": [
    "w=SW[\"11000\"][0]; w"
   ]
  },
  {
   "cell_type": "code",
   "execution_count": 42,
   "metadata": {
    "tags": []
   },
   "outputs": [],
   "source": [
    "list0100 = list_probs_witness(w,lengths=(1,6))"
   ]
  },
  {
   "cell_type": "code",
   "execution_count": 4,
   "metadata": {
    "tags": []
   },
   "outputs": [
    {
     "name": "stdout",
     "output_type": "stream",
     "text": [
      "0 4/5\n",
      "110000 10454/15625\n"
     ]
    }
   ],
   "source": [
    "thing = [print(*s) for s in highest_prob(list0100,lengths=\"all\")]"
   ]
  },
  {
   "cell_type": "code",
   "execution_count": 5,
   "metadata": {
    "tags": []
   },
   "outputs": [
    {
     "data": {
      "text/plain": [
       "[]"
      ]
     },
     "execution_count": 5,
     "metadata": {},
     "output_type": "execute_result"
    }
   ],
   "source": [
    "sortproblist([s for s in list0100 if len(s[0])==4])"
   ]
  },
  {
   "cell_type": "code",
   "execution_count": 15,
   "metadata": {
    "tags": []
   },
   "outputs": [],
   "source": [
    "%run -i PFAcode.ipynb"
   ]
  },
  {
   "cell_type": "code",
   "execution_count": 11,
   "metadata": {},
   "outputs": [
    {
     "data": {
      "text/plain": [
       "76/125"
      ]
     },
     "execution_count": 11,
     "metadata": {},
     "output_type": "execute_result"
    }
   ],
   "source": [
    "accprob_witness(w,\"010\")"
   ]
  },
  {
   "cell_type": "code",
   "execution_count": 14,
   "metadata": {},
   "outputs": [
    {
     "name": "stdout",
     "output_type": "stream",
     "text": [
      "r0 =  59/100 0.590000000000000\n",
      "r1 =  13/20 0.650000000000000\n",
      "ix =  7/10 0.700000000000000\n",
      "\n",
      "0 159/200\n",
      "00 277/400\n",
      "101 2619/4000\n",
      "1001 5243/8000\n",
      "10001 10491/16000\n",
      "100001 20987/32000\n",
      "1000001 41979/64000\n",
      "10000001 83963/128000\n",
      "100000001 167931/256000\n",
      "1000000001 335867/512000\n"
     ]
    }
   ],
   "source": [
    "testifs = (lambda x: QQ(.295)+QQ(.5)*x, lambda x: QQ(.715)-QQ(.1)*x,QQ(1))\n",
    "testlist = list_probs_ifs(testifs,lengths=range(1,11))\n",
    "a = testifs[0](x).coefficient(x,0)\n",
    "b = testifs[0](x).coefficient(x,1)\n",
    "c = testifs[1](x).coefficient(x,0)\n",
    "d = testifs[1](x).coefficient(x,1)\n",
    "r0 = a/(1-b)\n",
    "r1 = c/(1-d)\n",
    "ix = (a-c)/(d-b)\n",
    "print(\"r0 = \",r0,r0.n())\n",
    "print(\"r1 = \",r1,r1.n())\n",
    "print(\"ix = \",ix,ix.n())\n",
    "print(\"\")\n",
    "thing = [print(*s) for s in highest_prob(testlist,lengths=\"all\")]"
   ]
  },
  {
   "cell_type": "code",
   "execution_count": 14,
   "metadata": {},
   "outputs": [],
   "source": [
    "testpnfa2 = bruteforceprobs(2,[0,1/2,-1/2,1/4,-1/4,1/3,-1/3,1/5,-1/5],oneminus=True)"
   ]
  },
  {
   "cell_type": "code",
   "execution_count": 102,
   "metadata": {},
   "outputs": [],
   "source": [
    "testnormal = bruteforce(2,11);"
   ]
  },
  {
   "cell_type": "code",
   "execution_count": 118,
   "metadata": {},
   "outputs": [
    {
     "data": {
      "text/plain": [
       "(\n",
       "               [1]\n",
       "None, [ 2 -1], [0]\n",
       ")"
      ]
     },
     "execution_count": 118,
     "metadata": {},
     "output_type": "execute_result"
    }
   ],
   "source": [
    "#init = matrix([0,1])\n",
    "init = matrix([2,-1])\n",
    "final = matrix([1,0]).transpose()\n",
    "w = (findwitness(testpnfa4,\"01101\",init.list(),final.list()),init,final); w"
   ]
  },
  {
   "cell_type": "code",
   "execution_count": 119,
   "metadata": {},
   "outputs": [
    {
     "name": "stdout",
     "output_type": "stream",
     "text": [
      "01001 (None, [ 2 -1], [1]\n",
      "[0]) \n",
      "\n",
      "01011 ({'0': [ 2 -1]\n",
      "[ 3 -2], '1': [-2  3]\n",
      "[ 0  1]}, [ 2 -1], [1]\n",
      "[0]) \n",
      "\n",
      "01100 (None, [ 2 -1], [1]\n",
      "[0]) \n",
      "\n",
      "00100 (None, [ 2 -1], [1]\n",
      "[0]) \n",
      "\n",
      "01000 ({'0': [ 1  0]\n",
      "[ 3 -2], '1': [-2  3]\n",
      "[ 1  0]}, [ 2 -1], [1]\n",
      "[0]) \n",
      "\n",
      "01101 (None, [ 2 -1], [1]\n",
      "[0]) \n",
      "\n",
      "0100 (None, [ 2 -1], [1]\n",
      "[0]) \n",
      "\n"
     ]
    }
   ],
   "source": [
    "for thestr in S2[4].union(S2[5]):\n",
    "    if SC[thestr] > 2 and thestr[0] == '0':\n",
    "        w = (findwitness(testpnfa4,thestr,init.list(),final.list()),init,final)\n",
    "        #w = (findwitness(testnormal,thestr,init.list(),final.list()),init,final)\n",
    "        print(thestr,w,'\\n')"
   ]
  },
  {
   "cell_type": "code",
   "execution_count": 3,
   "metadata": {},
   "outputs": [
    {
     "data": {
      "text/plain": [
       "[(\n",
       "{'0': [  0   1]                      \n",
       "[3/4 1/4], '1': [3/4 1/4]         [0]\n",
       "[1/2 1/2]}               , [1 0], [1]\n",
       ")]"
      ]
     },
     "execution_count": 3,
     "metadata": {},
     "output_type": "execute_result"
    }
   ],
   "source": [
    "SW[\"001110\"]"
   ]
  },
  {
   "cell_type": "code",
   "execution_count": 18,
   "metadata": {},
   "outputs": [
    {
     "data": {
      "text/plain": [
       "6"
      ]
     },
     "execution_count": 18,
     "metadata": {},
     "output_type": "execute_result"
    }
   ],
   "source": [
    "NC[\"00000011110\"]"
   ]
  },
  {
   "cell_type": "code",
   "execution_count": 47,
   "metadata": {},
   "outputs": [
    {
     "data": {
      "text/plain": [
       "(\n",
       "{'0': [  0   1]                      \n",
       "[3/4 1/4], '1': [3/4 1/4]         [0]\n",
       "[1/4 3/4]}               , [1 0], [1]\n",
       ")"
      ]
     },
     "execution_count": 47,
     "metadata": {},
     "output_type": "execute_result"
    }
   ],
   "source": [
    "w = SW[\"000000110\"][0]; w"
   ]
  },
  {
   "cell_type": "code",
   "execution_count": 19,
   "metadata": {},
   "outputs": [
    {
     "name": "stdout",
     "output_type": "stream",
     "text": [
      "0 1\n",
      "10 13/16\n",
      "000 13/16\n",
      "0010 23/32\n",
      "00000 181/256\n",
      "000010 341/512\n",
      "0000000 2653/4096\n",
      "00000010 5213/8192\n",
      "000000110 10333/16384\n",
      "0000001110 20573/32768\n",
      "00000011110 41053/65536\n",
      "000000111110 82013/131072\n",
      "0000001111110 163933/262144\n",
      "00000011111110 327773/524288\n",
      "000000111111110 655453/1048576\n"
     ]
    }
   ],
   "source": [
    "wlist = list_probs_witness(w,lengths=range(1,16))\n",
    "thing = [print(*s) for s in highest_prob(wlist,lengths=\"all\")]"
   ]
  },
  {
   "cell_type": "code",
   "execution_count": 22,
   "metadata": {},
   "outputs": [
    {
     "name": "stdout",
     "output_type": "stream",
     "text": [
      "0.625044345855713 0.625040054321289 4.29153442382812e-6\n"
     ]
    }
   ],
   "source": [
    "#0000001111111110 1310813/2097152\n",
    "#0000111111111110 327701/524288\n",
    "print(N(1310813/2097152), N(327701/524288),N(1310813/2097152-327701/524288))"
   ]
  },
  {
   "cell_type": "code",
   "execution_count": 31,
   "metadata": {},
   "outputs": [
    {
     "data": {
      "text/plain": [
       "(\n",
       "{'0': [  0   1]                      \n",
       "[3/5 2/5], '1': [1/5 4/5]         [1]\n",
       "[2/5 3/5]}               , [1 0], [0]\n",
       ")"
      ]
     },
     "execution_count": 31,
     "metadata": {},
     "output_type": "execute_result"
    }
   ],
   "source": [
    "w1 = SW[\"00001010\"][3]; w1"
   ]
  },
  {
   "cell_type": "code",
   "execution_count": 43,
   "metadata": {},
   "outputs": [
    {
     "data": {
      "text/plain": [
       "(\n",
       "{'0': [  0   1   0]                            \n",
       "[  0 1/2 1/2]                                  \n",
       "[1/2   0 1/2], '1': [1/2   0 1/2]           [0]\n",
       "[1/2 1/2   0]                               [0]\n",
       "[  1   0   0]}                   , [1 0 0], [1]\n",
       ")"
      ]
     },
     "execution_count": 43,
     "metadata": {},
     "output_type": "execute_result"
    }
   ],
   "source": [
    "w2 = SW[\"0010100\"][0]; w2"
   ]
  },
  {
   "cell_type": "code",
   "execution_count": 55,
   "metadata": {},
   "outputs": [
    {
     "data": {
      "text/plain": [
       "0.0156250000000000"
      ]
     },
     "execution_count": 55,
     "metadata": {},
     "output_type": "execute_result"
    }
   ],
   "source": [
    "probgap(w2,\"010100\").n()"
   ]
  },
  {
   "cell_type": "code",
   "execution_count": 53,
   "metadata": {},
   "outputs": [
    {
     "name": "stdout",
     "output_type": "stream",
     "text": [
      "1 1/2\n",
      "00 1/2\n",
      "000 1/2\n",
      "0100 1/2\n",
      "00100 1/2\n",
      "010100 1/2\n",
      "0010100 1/2\n",
      "01010100 1/2\n",
      "001010100 1/2\n",
      "0101010100 1/2\n",
      "00101010100 1/2\n",
      "010101010100 1/2\n",
      "0010101010100 1/2\n",
      "01010101010100 1/2\n",
      "001010101010100 1/2\n"
     ]
    }
   ],
   "source": [
    "wlist2 = list_probs_witness(w2,lengths=range(1,16))\n",
    "thing = [print(*s) for s in highest_prob(wlist2,lengths=\"all\")]"
   ]
  },
  {
   "cell_type": "code",
   "execution_count": 2,
   "metadata": {},
   "outputs": [
    {
     "name": "stdout",
     "output_type": "stream",
     "text": [
      "6561\n"
     ]
    }
   ],
   "source": [
    "test2x8 = bruteforce(2,8); print(len(test2x8))"
   ]
  },
  {
   "cell_type": "code",
   "execution_count": 63,
   "metadata": {},
   "outputs": [
    {
     "name": "stdout",
     "output_type": "stream",
     "text": [
      "46656\n"
     ]
    }
   ],
   "source": [
    "testmats3 = bruteforce(3,2); print(len(testmats3))"
   ]
  },
  {
   "cell_type": "code",
   "execution_count": 64,
   "metadata": {},
   "outputs": [
    {
     "name": "stdout",
     "output_type": "stream",
     "text": [
      "1000000\n"
     ]
    }
   ],
   "source": [
    "testmats33 = bruteforce(3,3); print(len(testmats33))"
   ]
  },
  {
   "cell_type": "code",
   "execution_count": 5,
   "metadata": {},
   "outputs": [
    {
     "name": "stdout",
     "output_type": "stream",
     "text": [
      "842560\n"
     ]
    }
   ],
   "source": [
    "testmats2 = bruteforce(2,30,maxdenom=True); print(len(testmats2))"
   ]
  },
  {
   "cell_type": "code",
   "execution_count": null,
   "metadata": {},
   "outputs": [],
   "source": [
    "desiredgap = 0\n",
    "minprob = 0#1/2 #if rho(w) below this value, don't even bother to consider the PFA\n",
    "v = [1,0]\n",
    "f = [1,0]\n",
    "#v = [1,0,0]\n",
    "#f = [1,0,0]\n",
    "#f = list(reversed(f))\n",
    "w = \"01110\"\n",
    "positivegaps = [] #list of gaps found which > 0\n",
    "for mat in testmats2[::]:\n",
    "    aswit = towit(mat,v,f)\n",
    "    theprob = accprob_witness(aswit,w)\n",
    "    if theprob < minprob: continue\n",
    "    testgap = probgap(aswit,w)\n",
    "    if testgap < desiredgap: continue\n",
    "    if testgap > 0:\n",
    "        positivegaps.append(testgap)\n",
    "    if testgap > desiredgap:\n",
    "        print(testgap, theprob, mat, '\\n')\n",
    "print(sorted(set(positivegaps)))"
   ]
  },
  {
   "cell_type": "code",
   "execution_count": 19,
   "metadata": {},
   "outputs": [
    {
     "data": {
      "text/plain": [
       "0.171851851851852"
      ]
     },
     "execution_count": 19,
     "metadata": {},
     "output_type": "execute_result"
    }
   ],
   "source": [
    "N(116/675) #this was max gap of 0110 over bruteforce(2,30,maxdenom=True)"
   ]
  },
  {
   "cell_type": "code",
   "execution_count": null,
   "metadata": {},
   "outputs": [],
   "source": [
    "testmats4 = bruteforce(4,2,permute=False); print(len(testmats4))"
   ]
  },
  {
   "cell_type": "code",
   "execution_count": 26,
   "metadata": {},
   "outputs": [
    {
     "data": {
      "text/plain": [
       "(\n",
       "{'0': [1/3 2/3   0]                      \n",
       "[  1   0   0]                            \n",
       "[2/3 1/3   0], '1': [0 0 1]           [1]\n",
       "[0 0 1]                               [0]\n",
       "[0 1 0]}                   , [1 0 0], [0]\n",
       ")"
      ]
     },
     "execution_count": 26,
     "metadata": {},
     "output_type": "execute_result"
    }
   ],
   "source": [
    "the2681 = towit( {'0': matrix( [[1/3,2/3,0], [1,0,0], [2/3,1/3,0]]), '1': matrix( [[0,0,1],[0,0,1],[0,1,0]])}, [1,0,0], [1,0,0]); the2681"
   ]
  },
  {
   "cell_type": "code",
   "execution_count": 33,
   "metadata": {},
   "outputs": [
    {
     "data": {
      "text/plain": [
       "26/81"
      ]
     },
     "execution_count": 33,
     "metadata": {},
     "output_type": "execute_result"
    }
   ],
   "source": [
    "probgap(the2681,\"0110\")"
   ]
  },
  {
   "cell_type": "code",
   "execution_count": 34,
   "metadata": {},
   "outputs": [
    {
     "data": {
      "text/plain": [
       "(\n",
       "{'0': [  1/6   5/6]                      \n",
       "[29/30  1/30], '1': [2/3 1/3]         [1]\n",
       "[  0   1]}                   , [1 0], [0]\n",
       ")"
      ]
     },
     "execution_count": 34,
     "metadata": {},
     "output_type": "execute_result"
    }
   ],
   "source": [
    "the675 = towit({'0': matrix([[1/6,5/6], [29/30,1/30]]), '1': matrix([[2/3,1/3],[0,1]])}, [1,0], [1,0]); the675"
   ]
  },
  {
   "cell_type": "code",
   "execution_count": 40,
   "metadata": {},
   "outputs": [
    {
     "data": {
      "text/plain": [
       "0.257777777777778"
      ]
     },
     "execution_count": 40,
     "metadata": {},
     "output_type": "execute_result"
    }
   ],
   "source": [
    "probgap(the675,\"010\").n()"
   ]
  },
  {
   "cell_type": "code",
   "execution_count": 80,
   "metadata": {},
   "outputs": [
    {
     "data": {
      "text/plain": [
       "-4/5*x + 29/30"
      ]
     },
     "execution_count": 80,
     "metadata": {},
     "output_type": "execute_result"
    }
   ],
   "source": [
    "pfa2ifs(the675)[0](x)"
   ]
  },
  {
   "cell_type": "code",
   "execution_count": 81,
   "metadata": {},
   "outputs": [
    {
     "data": {
      "text/plain": [
       "2/3*x"
      ]
     },
     "execution_count": 81,
     "metadata": {},
     "output_type": "execute_result"
    }
   ],
   "source": [
    "pfa2ifs(the675)[1](x)"
   ]
  },
  {
   "cell_type": "code",
   "execution_count": 44,
   "metadata": {},
   "outputs": [
    {
     "data": {
      "text/plain": [
       "(\n",
       "{'0': [  0   1]                      \n",
       "[1/2 1/2], '1': [1/2 1/2]         [1]\n",
       "[  0   1]}               , [1 0], [0]\n",
       ")"
      ]
     },
     "execution_count": 44,
     "metadata": {},
     "output_type": "execute_result"
    }
   ],
   "source": [
    "the12 = towit( {'0': matrix([[0,1],[1/2,1/2]]), '1': matrix([[1/2,1/2],[0,1]])}, (1,0), (1,0)); the12"
   ]
  },
  {
   "cell_type": "code",
   "execution_count": 132,
   "metadata": {},
   "outputs": [
    {
     "name": "stdout",
     "output_type": "stream",
     "text": [
      "({'0': [ 4187/25000 20813/25000]\n",
      "[     99/100       1/100], '1': [661/1000 339/1000]\n",
      "[       0        1]}, [1 0], [1]\n",
      "[0]) 0.177359372289238\n"
     ]
    }
   ],
   "source": [
    "r1 = QQ(.16748)\n",
    "r2 = QQ(.99)\n",
    "r3 = QQ(.661)\n",
    "r4 = QQ(0)\n",
    "test675 = towit({'0': matrix(QQ,[[r1,1-r1], [r2,1-r2]]), '1': matrix(QQ,[[r3,1-r3],[r4,1-r4]])}, [1,0], [1,0])\n",
    "print(test675, probgap(test675,\"0110\").n())"
   ]
  },
  {
   "cell_type": "code",
   "execution_count": 95,
   "metadata": {},
   "outputs": [
    {
     "data": {
      "text/plain": [
       "(\n",
       "{'0': [  83/500  417/500]                                \n",
       "[993/1000   7/1000], '1': [667/1000 333/1000]         [1]\n",
       "[       0        1]}                         , [1 0], [0]\n",
       ")"
      ]
     },
     "execution_count": 95,
     "metadata": {},
     "output_type": "execute_result"
    }
   ],
   "source": [
    "test675 = ifs2pfa((0.993 - 0.827*x, 0.667*x, 1)); test675"
   ]
  },
  {
   "cell_type": "code",
   "execution_count": 96,
   "metadata": {},
   "outputs": [
    {
     "data": {
      "text/plain": [
       "0.174885392280000"
      ]
     },
     "execution_count": 96,
     "metadata": {},
     "output_type": "execute_result"
    }
   ],
   "source": [
    "probgap(test675,\"0110\").n()"
   ]
  },
  {
   "cell_type": "code",
   "execution_count": 102,
   "metadata": {},
   "outputs": [
    {
     "name": "stdout",
     "output_type": "stream",
     "text": [
      "-62/75*x + 149/150 0.660000000000000*x 1\n"
     ]
    }
   ],
   "source": [
    "print(pfa2ifs(test675)[0](x), pfa2ifs(test675)[1](x), pfa2ifs(test675)[2])"
   ]
  },
  {
   "cell_type": "code",
   "execution_count": 156,
   "metadata": {},
   "outputs": [
    {
     "name": "stdout",
     "output_type": "stream",
     "text": [
      "({'0': [ 4187/25000 20813/25000]\n",
      "[     99/100       1/100], '1': [16529/25000  8471/25000]\n",
      "[          0           1]}, [1 0], [1]\n",
      "[0]) 0.177500653466754\n"
     ]
    }
   ],
   "source": [
    "r1 = QQ(.16748)\n",
    "r2 = QQ(.99)\n",
    "r3 = QQ(.66116)\n",
    "r4 = QQ(0.00000000)\n",
    "test675 = towit({'0': matrix(QQ,[[r1,1-r1], [r2,1-r2]]), '1': matrix(QQ,[[r3,1-r3],[r4,1-r4]])}, [1,0], [1,0])\n",
    "print(test675, probgap(test675,\"0110\").n())"
   ]
  },
  {
   "cell_type": "code",
   "execution_count": null,
   "metadata": {},
   "outputs": [],
   "source": [
    "#highest gap from denom-30 2-state PFAs for 01110\n",
    "#      \"3817/32400 22969/24300 {'0': [1/6 5/6]\\n\",\n",
    "#      \"[  1   0], '1': [11/15  4/15]\\n\",\n",
    "#      \"[    0     1]} \\n\","
   ]
  },
  {
   "cell_type": "code",
   "execution_count": 127,
   "metadata": {},
   "outputs": [
    {
     "name": "stdout",
     "output_type": "stream",
     "text": [
      "4 possible entries\n",
      "9 rows\n",
      "729 matrices\n",
      "531441 matrix tuples\n",
      "13041\n"
     ]
    }
   ],
   "source": [
    "testpartial34 = bruteforceprobs(3,[0,1,1/4,1/2],info=True,oneminus=False)\n",
    "deadpartial34 = [m for m in testpartial34 if checkdeadstate( towit(m,[1,0,0],[1,0,0]) )]\n",
    "print(len(deadpartial34))"
   ]
  },
  {
   "cell_type": "code",
   "execution_count": null,
   "metadata": {},
   "outputs": [],
   "source": [
    "desiredgap = QQ(.25)\n",
    "minprob = QQ(.5) #if rho(w) below this value, don't even bother to consider the PFA\n",
    "#v = [1,0]\n",
    "#f = [1,0]\n",
    "v = [1,0,0]\n",
    "f = [1,0,0]\n",
    "#f = list(reversed(f))\n",
    "w = \"01110\"\n",
    "positivegaps = [] #list of gaps found which > 0\n",
    "posgapauts = [] #list of representative corresponding PFAs\n",
    "desiredgaps = [] #list of PFAs + gaps if > desiredgap\n",
    "for mat in testpartial34[::]:\n",
    "    aswit = towit(mat,v,f)\n",
    "    maybelist = ishighestprob(aswit,sigma)\n",
    "    if maybelist == None: continue # this is a faster check to discard ones where you have a negative gap\n",
    "    theprob = maybelist[0][1] # if maybelist is a full list, we know the first entry is always for sigma\n",
    "    if theprob < minprob: continue\n",
    "    # find the gap manually from the probs we already computed\n",
    "    testgap = min([theprob - listentry[1] for listentry in maybelist])\n",
    "#    if testgap < desiredgap: continue\n",
    "    if not testgap in positivegaps:\n",
    "        posgapauts.append( (testgap, mat) ) #collect exactly one representative of the current gap\n",
    "        positivegaps.append(testgap)\n",
    "    if testgap > desiredgap:\n",
    "        desiredgaps.append( (testgap,mat))\n",
    "        print(testgap, theprob, mat, '\\n')\n",
    "#        break\n",
    "print(sorted(set(positivegaps)))\n",
    "print(desiredgaps)"
   ]
  },
  {
   "cell_type": "code",
   "execution_count": 54,
   "metadata": {},
   "outputs": [
    {
     "name": "stdout",
     "output_type": "stream",
     "text": [
      "010000101 ({'0': [  0   1   0]\n",
      "[1/4 1/2 1/4]\n",
      "[  0   0   1], '1': [1/4 1/4 1/2]\n",
      "[1/2 1/4 1/4]\n",
      "[  0   0   1]}, [1 0 0], [1]\n",
      "[0]\n",
      "[0])\n",
      "001001010 ({'0': [1/4 1/2 1/4]\n",
      "[  0   1   0]\n",
      "[  0   0   1], '1': [0 1 0]\n",
      "[1 0 0]\n",
      "[0 0 1]}, [1 0 0], [0]\n",
      "[0]\n",
      "[1])\n",
      "101111010 ({'0': [1/4 1/4 1/2]\n",
      "[1/2 1/4 1/4]\n",
      "[  0   0   1], '1': [  0   1   0]\n",
      "[1/4 1/2 1/4]\n",
      "[  0   0   1]}, [1 0 0], [1]\n",
      "[0]\n",
      "[0])\n",
      "110110101 ({'0': [0 1 0]\n",
      "[1 0 0]\n",
      "[0 0 1], '1': [1/4 1/2 1/4]\n",
      "[  0   1   0]\n",
      "[  0   0   1]}, [1 0 0], [0]\n",
      "[0]\n",
      "[1])\n"
     ]
    }
   ],
   "source": [
    "# check all witnesses for dead states\n",
    "for s in SW.keys():\n",
    "    if SW[s] == None or not s in SC.keys(): continue\n",
    "    for swit in SW[s]:\n",
    "        if checkdeadstate(swit):\n",
    "            print(s,swit)"
   ]
  },
  {
   "cell_type": "code",
   "execution_count": 59,
   "metadata": {},
   "outputs": [],
   "source": [
    "# studying the two strings starting with 0 i found which have A_P witnesses with dead states\n",
    "deads1 = '010000101'\n",
    "deads2 = '001001010'\n",
    "deadw1 = SW[deads1][0]\n",
    "deadw2 = SW[deads2][0]"
   ]
  },
  {
   "cell_type": "code",
   "execution_count": 84,
   "metadata": {},
   "outputs": [
    {
     "data": {
      "text/plain": [
       "0.00155639648437500"
      ]
     },
     "execution_count": 84,
     "metadata": {},
     "output_type": "execute_result"
    }
   ],
   "source": [
    "probgap(deadw1,deads1).n()"
   ]
  },
  {
   "cell_type": "code",
   "execution_count": 62,
   "metadata": {},
   "outputs": [
    {
     "data": {
      "text/plain": [
       "0.00390625000000000"
      ]
     },
     "execution_count": 62,
     "metadata": {},
     "output_type": "execute_result"
    }
   ],
   "source": [
    "probgap(deadw2,deads2).n()"
   ]
  },
  {
   "cell_type": "code",
   "execution_count": 71,
   "metadata": {},
   "outputs": [
    {
     "name": "stdout",
     "output_type": "stream",
     "text": [
      "[({'0': [1/3   0 2/3]\n",
      "[  0   0   1]\n",
      "[1/3 1/3 1/3], '1': [2/3   0 1/3]\n",
      "[2/3 1/3   0]\n",
      "[  1   0   0]}, [1 0 0], [1]\n",
      "[0]\n",
      "[0]), ({'0': [1/3   0 2/3]\n",
      "[  0   0   1]\n",
      "[1/3 1/3 1/3], '1': [2/3   0 1/3]\n",
      "[1/3 2/3   0]\n",
      "[  1   0   0]}, [1 0 0], [1]\n",
      "[0]\n",
      "[0]), ({'0': [1/3   0 2/3]\n",
      "[  0 1/3 2/3]\n",
      "[  1   0   0], '1': [  0   1   0]\n",
      "[1/3   0 2/3]\n",
      "[  1   0   0]}, [1 0 0], [1]\n",
      "[0]\n",
      "[0]), ({'0': [  0 1/3 2/3]\n",
      "[  1   0   0]\n",
      "[1/3 2/3   0], '1': [1/3 1/3 1/3]\n",
      "[2/3 1/3   0]\n",
      "[2/3 1/3   0]}, [1 0 0], [1]\n",
      "[0]\n",
      "[0]), ({'0': [  0 2/3 1/3]\n",
      "[1/3   0 2/3]\n",
      "[  0   1   0], '1': [  0 1/3 2/3]\n",
      "[1/3 2/3   0]\n",
      "[2/3 1/3   0]}, [1 0 0], [1]\n",
      "[0]\n",
      "[0])]\n"
     ]
    }
   ],
   "source": [
    "# let's see what other witnesses we can find\n",
    "v = [1,0,0]\n",
    "f = [1,0,0]\n",
    "wits33 = findwitness(testmats33,deads1,v,f,stop=5)\n",
    "print(wits33)"
   ]
  },
  {
   "cell_type": "code",
   "execution_count": null,
   "metadata": {},
   "outputs": [],
   "source": [
    "#NEXT TASK: use dead33 (above) and similar to see what kinds of strings can be witnessed by PFAs with dead states"
   ]
  },
  {
   "cell_type": "code",
   "execution_count": 91,
   "metadata": {},
   "outputs": [
    {
     "name": "stdout",
     "output_type": "stream",
     "text": [
      "29701\n"
     ]
    }
   ],
   "source": [
    "#winnow down to only ones with dead states...although you have to specify initial and final states to do this\n",
    "dead33 = []\n",
    "for mat in testmats33:\n",
    "    if checkdeadstate(towit(mat,[1,0,0],[1,0,0])):\n",
    "        dead33.append(mat)\n",
    "print(len(dead33))"
   ]
  },
  {
   "cell_type": "code",
   "execution_count": 105,
   "metadata": {},
   "outputs": [
    {
     "name": "stdout",
     "output_type": "stream",
     "text": [
      "19900\n"
     ]
    }
   ],
   "source": [
    "dead332 = []\n",
    "for mat in dead33:\n",
    "    if checkdeadstate(towit(mat,[1,0,0],[1,0,0])):\n",
    "        dead332.append(mat)\n",
    "print(len(dead332))"
   ]
  },
  {
   "cell_type": "code",
   "execution_count": 107,
   "metadata": {},
   "outputs": [],
   "source": [
    "dead33 = dead332"
   ]
  },
  {
   "cell_type": "code",
   "execution_count": 116,
   "metadata": {},
   "outputs": [
    {
     "name": "stdout",
     "output_type": "stream",
     "text": [
      "15266\n"
     ]
    }
   ],
   "source": [
    "uniq334 = finduniques(dead33,4,[1,0,0],[1,0,0])\n",
    "print(len(uniq334))"
   ]
  },
  {
   "cell_type": "code",
   "execution_count": 119,
   "metadata": {},
   "outputs": [
    {
     "name": "stdout",
     "output_type": "stream",
     "text": [
      "13370\n",
      "15366\n"
     ]
    }
   ],
   "source": [
    "uniq335 = finduniques(dead33,5,[1,0,0],[1,0,0])\n",
    "print(len(uniq335))\n",
    "uniq336 = finduniques(dead33,6,[1,0,0],[1,0,0])\n",
    "print(len(uniq336))"
   ]
  },
  {
   "cell_type": "code",
   "execution_count": 121,
   "metadata": {},
   "outputs": [
    {
     "name": "stdout",
     "output_type": "stream",
     "text": [
      "{('1111', 2), ('0101', 2), ('1110', 2), ('0111', 2), ('1010', 2), ('0110', 2), ('0000', 2), ('0001', 2), ('1000', 2), ('1100', 2), ('1001', 2), ('0010', 2), ('1101', 2), ('0011', 2)}\n"
     ]
    }
   ],
   "source": [
    "intermed4 = [u[1][0] for u in uniq334]\n",
    "print(set([(wo,SC[w]) for wo in intermed4]))"
   ]
  },
  {
   "cell_type": "code",
   "execution_count": 122,
   "metadata": {},
   "outputs": [
    {
     "name": "stdout",
     "output_type": "stream",
     "text": [
      "{('10010', 2), ('10101', 2), ('01011', 2), ('10000', 2), ('01001', 2), ('10111', 2), ('11100', 2), ('10110', 2), ('00001', 2), ('10100', 2), ('01110', 2), ('01000', 2), ('11101', 2), ('01101', 2), ('01111', 2), ('01010', 2), ('00010', 2), ('10001', 2), ('00011', 2), ('11111', 2), ('11110', 2), ('11010', 2), ('00000', 2), ('00101', 2)}\n",
      "{('011111', 2), ('110110', 2), ('100100', 2), ('000101', 2), ('010100', 2), ('111010', 2), ('110101', 2), ('110000', 2), ('010001', 2), ('001001', 2), ('000001', 2), ('111110', 2), ('010010', 2), ('111111', 2), ('100011', 2), ('001010', 2), ('101101', 2), ('011110', 2), ('110100', 2), ('001011', 2), ('001101', 2), ('100010', 2), ('001111', 2), ('011100', 2), ('000011', 2), ('100000', 2), ('101110', 2), ('101000', 2), ('000000', 2), ('111101', 2), ('010111', 2), ('100001', 2), ('101010', 2), ('000010', 2), ('010101', 2), ('111100', 2), ('101011', 2), ('110010', 2), ('011011', 2), ('011101', 2)}\n"
     ]
    }
   ],
   "source": [
    "intermed5 = [u[1][0] for u in uniq335]\n",
    "print(set([(wo,SC[w]) for wo in intermed5]))\n",
    "intermed6 = [u[1][0] for u in uniq336]\n",
    "print(set([(wo,SC[w]) for wo in intermed6]))"
   ]
  },
  {
   "cell_type": "code",
   "execution_count": 139,
   "metadata": {},
   "outputs": [
    {
     "name": "stdout",
     "output_type": "stream",
     "text": [
      "9930\n",
      "set() \n",
      "\n",
      "8838\n",
      "set() \n",
      "\n",
      "9894\n",
      "set() \n",
      "\n"
     ]
    }
   ],
   "source": [
    "uniqs34 = {}\n",
    "for l in range(6,9):\n",
    "    uniqs34[l] = finduniques(deadpartial34,l,[1,0,0],[1,0,0])\n",
    "    print(len(uniqs34[l]))\n",
    "    intermed34 = [u[1][0] for u in uniqs34[l]]\n",
    "    print(set([(wo,SC[w]) for wo in intermed34 if SC[w] > 2]), '\\n')"
   ]
  },
  {
   "cell_type": "code",
   "execution_count": 133,
   "metadata": {},
   "outputs": [
    {
     "name": "stdout",
     "output_type": "stream",
     "text": [
      "set()\n"
     ]
    }
   ],
   "source": [
    "intermed34 = [u[1][0] for u in uniq34]\n",
    "print(set([(wo,SC[w]) for wo in intermed34 if SC[w] > 2]))"
   ]
  },
  {
   "cell_type": "code",
   "execution_count": null,
   "metadata": {},
   "outputs": [],
   "source": [
    "load(\"PFAcode.sage\")"
   ]
  },
  {
   "cell_type": "code",
   "execution_count": null,
   "metadata": {},
   "outputs": [],
   "source": [
    "# everything below is a really shitty idea. Lesson learned: substituting for symbolic variables is EXPENSIVE."
   ]
  },
  {
   "cell_type": "code",
   "execution_count": 318,
   "metadata": {},
   "outputs": [],
   "source": [
    "# dictionary of symbolic 3x3 matrix products corr. to binary strings\n",
    "SB3 = {}\n",
    "a = SR.var(\"a\",6)\n",
    "b = SR.var(\"b\",6)\n",
    "P0 = matrix(SR, [[ a[0],a[1],1-a[0]-a[1]], [a[2],a[3],1-a[2]-a[3]], [a[4],a[5],1-a[4]-a[5]]])\n",
    "P1 = matrix(SR, [[ b[0],b[1],1-b[0]-b[1]], [b[2],b[3],1-b[2]-b[3]], [b[4],b[5],1-b[4]-b[5]]])\n",
    "SB3['0'] = P0\n",
    "SB3['1'] = P1"
   ]
  },
  {
   "cell_type": "code",
   "execution_count": null,
   "metadata": {},
   "outputs": [],
   "source": [
    "%%time\n",
    "# l = new length to add\n",
    "for l in range(2,9):\n",
    "    currentkeys = list(SB3.keys())\n",
    "    for s in currentkeys:\n",
    "        if len(s) == l-1:\n",
    "            SB3[s+'0'] = (SB3[s]*P0).expand()\n",
    "            SB3[s+'1'] = (SB3[s]*P1).expand()\n",
    "#.simplify_full() takes much longer. we'll see how much the size balloons though\n",
    "#actually - doing /nothing/ to it seems to take even less space, somehow.\n",
    "#but....no, i need to test which is actually faster to do computations with."
   ]
  },
  {
   "cell_type": "code",
   "execution_count": null,
   "metadata": {},
   "outputs": [],
   "source": [
    "pickletofile(SB3,\"SB3\")"
   ]
  },
  {
   "cell_type": "code",
   "execution_count": 306,
   "metadata": {},
   "outputs": [],
   "source": [
    "teststring = \"01101000\" #test this both ways\n",
    "myplugins = [ [0,1/4, 0,3/4, 1,0], [1/4,0, 0,1, 1/4,3/4] ] #mimicking testaut below\n",
    "v = matrix([1,0,0])\n",
    "f = matrix([0,0,1]).transpose()"
   ]
  },
  {
   "cell_type": "code",
   "execution_count": 316,
   "metadata": {},
   "outputs": [
    {
     "name": "stdout",
     "output_type": "stream",
     "text": [
      "CPU times: user 30.2 s, sys: 5.94 ms, total: 30.3 s\n",
      "Wall time: 30.2 s\n"
     ]
    }
   ],
   "source": [
    "%%time\n",
    "fromstrings = [tuptostr(it) for it in itertools.product(range(2),repeat=len(teststring))]\n",
    "problist = []\n",
    "sigprob = accprob_fromsymb(myplugins,teststring,v,f)\n",
    "problist.append((teststring,sigprob))\n",
    "for s in fromstrings:\n",
    "    if s == teststring: continue\n",
    "    compareprob = accprob_fromsymb(myplugins,s,v,f)\n",
    "    if compareprob >= sigprob:\n",
    "        break\n",
    "    problist.append((s,compareprob)) # fall through to add the prob to our growing list"
   ]
  },
  {
   "cell_type": "code",
   "execution_count": 277,
   "metadata": {},
   "outputs": [
    {
     "data": {
      "text/plain": [
       "(\n",
       "{'0': [  0 1/4 3/4]                            \n",
       "[  0 3/4 1/4]                                  \n",
       "[  1   0   0], '1': [1/4   0 3/4]           [0]\n",
       "[  0   1   0]                               [0]\n",
       "[1/4 3/4   0]}                   , [1 0 0], [1]\n",
       ")"
      ]
     },
     "execution_count": 277,
     "metadata": {},
     "output_type": "execute_result"
    }
   ],
   "source": [
    "testaut = SW[\"01101000\"][0]; testaut"
   ]
  },
  {
   "cell_type": "code",
   "execution_count": 320,
   "metadata": {},
   "outputs": [
    {
     "name": "stdout",
     "output_type": "stream",
     "text": [
      "CPU times: user 56.1 ms, sys: 2.01 ms, total: 58.1 ms\n",
      "Wall time: 58.6 ms\n"
     ]
    }
   ],
   "source": [
    "%%time\n",
    "testautlist = ishighestprob(testaut,teststring)"
   ]
  },
  {
   "cell_type": "code",
   "execution_count": null,
   "metadata": {},
   "outputs": [],
   "source": [
    "len(testautlist)"
   ]
  },
  {
   "cell_type": "code",
   "execution_count": 307,
   "metadata": {},
   "outputs": [],
   "source": [
    "def accprob_fromsymb(plugins,sigma,start,accept):\n",
    "    newa = dict(zip(a, plugins[0]))\n",
    "    newb = dict(zip(b, plugins[1]))\n",
    "    A = start * (SB3[sigma].substitute( [dict(zip(a, plugins[0])), dict(zip(b,plugins[1]))] )) * accept\n",
    "    return A[0][0]"
   ]
  },
  {
   "cell_type": "code",
   "execution_count": 308,
   "metadata": {},
   "outputs": [
    {
     "data": {
      "text/plain": [
       "10707/32768"
      ]
     },
     "execution_count": 308,
     "metadata": {},
     "output_type": "execute_result"
    }
   ],
   "source": [
    "accprob_fromsymb(myplugins,teststring,v,f)"
   ]
  },
  {
   "cell_type": "code",
   "execution_count": null,
   "metadata": {},
   "outputs": [],
   "source": []
  }
 ],
 "metadata": {
  "kernelspec": {
   "display_name": "SageMath 9.4",
   "language": "sage",
   "name": "sagemath"
  },
  "language_info": {
   "codemirror_mode": {
    "name": "ipython",
    "version": 3
   },
   "file_extension": ".py",
   "mimetype": "text/x-python",
   "name": "python",
   "nbconvert_exporter": "python",
   "pygments_lexer": "ipython3",
   "version": "3.9.5"
  },
  "toc-autonumbering": false,
  "toc-showcode": true,
  "toc-showmarkdowntxt": false,
  "toc-showtags": false
 },
 "nbformat": 4,
 "nbformat_minor": 4
}
