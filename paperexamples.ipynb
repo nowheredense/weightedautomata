{
 "cells": [
  {
   "cell_type": "code",
   "execution_count": 1,
   "id": "7de3bdb4-4383-4b35-9993-d68f15ccd9db",
   "metadata": {},
   "outputs": [],
   "source": [
    "%run -i 'WeightedAutomaton.py'"
   ]
  },
  {
   "cell_type": "code",
   "execution_count": 2,
   "id": "abc9bf89-f0b9-42c7-82ce-e7c7349eab73",
   "metadata": {},
   "outputs": [
    {
     "data": {
      "text/plain": [
       "True"
      ]
     },
     "execution_count": 2,
     "metadata": {},
     "output_type": "execute_result"
    }
   ],
   "source": [
    "# Examples are numbered in order by appearance in the paper\n",
    "Ex1 = WeightedAutomaton({'0':[[0,1,0,0,0],\n",
    "                               [0,0,1,0,0],\n",
    "                               [0,1/2,0,1/2,0],\n",
    "                               [0,0,0,0,1],\n",
    "                               [0,0,0,0,1]],\n",
    "                          '1':[[0,0,0,0,1],\n",
    "                               [1,0,0,0,0],\n",
    "                               [0,0,0,0,1],\n",
    "                               [0,0,1/2,1/2,0],\n",
    "                               [0,0,0,0,1]]},\n",
    "                         [1,0,0,0,0], [1,0,0,0,0])\n",
    "Ex1.is_highest('0001101')"
   ]
  },
  {
   "cell_type": "code",
   "execution_count": 3,
   "id": "f3f9eb70-c501-46e9-945e-3c488499ab4e",
   "metadata": {},
   "outputs": [
    {
     "data": {
      "text/plain": [
       "True"
      ]
     },
     "execution_count": 3,
     "metadata": {},
     "output_type": "execute_result"
    }
   ],
   "source": [
    "Ex2 = WeightedAutomaton({'0': [[0,1/2,1/2],\n",
    "                               [0,1/2,1/2],\n",
    "                               [0,1,0]],\n",
    "                         '1': [[0,0,1],\n",
    "                               [1,0,0],\n",
    "                               [0,1,0]]},\n",
    "                        [1,0,0], [1,0,0])\n",
    "Ex2.is_highest('0001101')"
   ]
  },
  {
   "cell_type": "code",
   "execution_count": 4,
   "id": "753269e4-7fdd-4b47-a9ee-9e8d50219bb0",
   "metadata": {},
   "outputs": [
    {
     "name": "stdout",
     "output_type": "stream",
     "text": [
      "1/4\n",
      "1/8\n",
      "1/16\n",
      "1/32\n",
      "1/64\n",
      "1/128\n",
      "1/256\n",
      "1/512\n",
      "1/1024\n",
      "1/2048\n"
     ]
    }
   ],
   "source": [
    "Ex3 = WeightedAutomaton({'0': [[0,1],\n",
    "                               [1/2,1/2]],\n",
    "                         '1': [[1/2,1/2],\n",
    "                               [0,1]]},\n",
    "                        [1,0], [1,0])\n",
    "for i in range(10):\n",
    "    print(Ex3.gap('0'+'1'*i+'0'))"
   ]
  },
  {
   "cell_type": "code",
   "execution_count": 5,
   "id": "ee4cdb77-0e24-484d-af10-e6d1a9da9e43",
   "metadata": {},
   "outputs": [
    {
     "name": "stdout",
     "output_type": "stream",
     "text": [
      "[91/243, '01000'] [1/243, '01000', '11000']\n",
      "[91/243, '101000'] [1/243, '101000', '111000']\n",
      "[91/243, '1101000'] [1/243, '1101000', '1111000']\n",
      "[91/243, '11101000'] [1/243, '11101000', '11111000']\n",
      "[91/243, '111101000'] [1/243, '111101000', '111111000']\n",
      "[91/243, '1111101000'] [1/243, '1111101000', '1111111000']\n",
      "[91/243, '11111101000'] [1/243, '11111101000', '11111111000']\n",
      "[91/243, '111111101000'] [1/243, '111111101000', '111111111000']\n",
      "[91/243, '1111111101000'] [1/243, '1111111101000', '1111111111000']\n",
      "[91/243, '11111111101000'] [1/243, '11111111101000', '11111111111000']\n",
      "[91/243, '111111111101000'] [1/243, '111111111101000', '111111111111000']\n",
      "[91/243, '1111111111101000'] [1/243, '1111111111101000', '1111111111111000']\n",
      "[91/243, '11111111111101000'] [1/243, '11111111111101000', '11111111111111000']\n",
      "[91/243, '111111111111101000'] [1/243, '111111111111101000', '111111111111111000']\n",
      "[91/243, '1111111111111101000'] [1/243, '1111111111111101000', '1111111111111111000']\n",
      "[91/243, '11111111111111101000'] [1/243, '11111111111111101000', '11111111111111111000']\n"
     ]
    }
   ],
   "source": [
    "Ex4 = WeightedAutomaton({'0': [[0,1,0],\n",
    "                               [2/3,0,1/3],\n",
    "                               [1/3,0,2/3]],\n",
    "                         '1': [[1/3,2/3,0],\n",
    "                               [2/3,1/3,0],\n",
    "                               [0,0,1]]},\n",
    "                        [0,0,1], [1,0,0])\n",
    "# warning: takes a while\n",
    "for n in range(16):\n",
    "    theprobs = Ex4.probs_of_length(n+5)\n",
    "    print(theprobs.highest_prob(), theprobs.highest_gap())"
   ]
  },
  {
   "cell_type": "code",
   "execution_count": 6,
   "id": "694e10b8-e6ec-4513-b532-dff7c0a96beb",
   "metadata": {},
   "outputs": [
    {
     "name": "stdout",
     "output_type": "stream",
     "text": [
      "True\n",
      "0.560926443842400\n"
     ]
    }
   ],
   "source": [
    "Ex5 = WeightedAutomaton({'0': [[0,0,1],\n",
    "                               [.22151,.77485,.00364],\n",
    "                               [.9995,0,.0005]],\n",
    "                         '1': [[0,.5622,.4378],\n",
    "                               [1,0,0],\n",
    "                               [0,1,0]]},\n",
    "                        [1,0,0], [0,0,1], ring=QQ)\n",
    "print(Ex5.is_pfa())\n",
    "print(Ex5.gap('0110').n())"
   ]
  },
  {
   "cell_type": "code",
   "execution_count": 7,
   "id": "6ddb7d3b-c078-40e4-b68c-22ee051dc6b6",
   "metadata": {},
   "outputs": [
    {
     "name": "stdout",
     "output_type": "stream",
     "text": [
      "True\n",
      "0.177500615015413\n"
     ]
    }
   ],
   "source": [
    "Ex6 = WeightedAutomaton({'0': [[.16748,.83252],\n",
    "                               [.98999,.01001]],\n",
    "                         '1': [[.66116,.33884],\n",
    "                               [0,1]]},\n",
    "                        [1,0], [1,0], ring=QQ)\n",
    "print(Ex6.is_pfa())\n",
    "print(Ex6.gap('0110').n())"
   ]
  },
  {
   "cell_type": "code",
   "execution_count": 8,
   "id": "0a2fe62b-8293-42cb-a943-06bcde777cdd",
   "metadata": {},
   "outputs": [
    {
     "name": "stdout",
     "output_type": "stream",
     "text": [
      "[1/8, '0100', '0101']\n",
      "[9/8, '10000', '10100']\n",
      "[9/32, '010000', '010100']\n",
      "[81/32, '1000000', '1010000']\n",
      "[81/128, '01000000', '01010000']\n",
      "[729/128, '100000000', '101000000']\n",
      "[729/512, '0100000000', '0101000000']\n",
      "[6561/512, '10000000000', '10100000000']\n",
      "[6561/2048, '010000000000', '010100000000']\n"
     ]
    }
   ],
   "source": [
    "Ex7 = WeightedAutomaton({'0': [[-1,2],\n",
    "                                [1/2,1/2]],\n",
    "                          '1': [[1/2,1/2],\n",
    "                                [1,0]]},\n",
    "                         [0,1], [1,0])\n",
    "for i in range(4,13):\n",
    "    print(Ex7.probs_of_length(i).highest_gap())"
   ]
  },
  {
   "cell_type": "code",
   "execution_count": null,
   "id": "179d0078-fbb6-42f0-9666-eb1e0c0f1eaf",
   "metadata": {},
   "outputs": [],
   "source": []
  }
 ],
 "metadata": {
  "kernelspec": {
   "display_name": "SageMath 9.4",
   "language": "sage",
   "name": "sagemath"
  },
  "language_info": {
   "codemirror_mode": {
    "name": "ipython",
    "version": 3
   },
   "file_extension": ".py",
   "mimetype": "text/x-python",
   "name": "python",
   "nbconvert_exporter": "python",
   "pygments_lexer": "ipython3",
   "version": "3.9.5"
  }
 },
 "nbformat": 4,
 "nbformat_minor": 5
}
