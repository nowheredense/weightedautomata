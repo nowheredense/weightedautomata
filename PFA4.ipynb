{
 "cells": [
  {
   "cell_type": "code",
   "execution_count": 1,
   "metadata": {},
   "outputs": [],
   "source": [
    "import itertools\n",
    "import numpy\n",
    "import urllib,json\n",
    "import pickle\n",
    "\n",
    "RRR = RealField(100);\n",
    "eps = var('eps');\n",
    "\n",
    "#object: what to dump; name: string without \".pickle\"\n",
    "def pickletofile(object,name):\n",
    "    thefile = open(name+\".pickle\",'wb');\n",
    "    pickle.dump(object,thefile);\n",
    "    thefile.close();\n",
    "    return\n",
    "\n",
    "#filename: string without \".pickle\"\n",
    "def unpicklefile(filename):\n",
    "    thefile = open(filename+\".pickle\",'rb');\n",
    "    theobj = pickle.load(thefile);\n",
    "    thefile.close();\n",
    "    return theobj\n",
    "\n",
    "def savewits():\n",
    "    pickletofile(SC,\"stoch_complexity\");\n",
    "    pickletofile(SW,\"witnesses\");\n",
    "    return;\n",
    "\n",
    "#NOTE: use dictionary NC for strings of length 2 through 10.\n",
    "#expects sigma to be an array/list, like usual\n",
    "def nfacomplexity(sigma):\n",
    "    theurl = \"http://math.hawaii.edu/~bjoern/complexity-api/?string=\"+''.join(str(ch) for ch in sigma);\n",
    "    response = urllib.urlopen(theurl);\n",
    "    data = json.loads(response.read());\n",
    "    return int(data.get('complexity'))\n",
    "\n",
    "#returns bit flip of a string (given as a tuple)\n",
    "def flip(sigma):\n",
    "    l = [];\n",
    "    for ch in sigma:\n",
    "        l.append(1-ch);\n",
    "    return tuple(l)\n",
    "\n",
    "#flips every string in an iterable, returns a Set\n",
    "def flipset(strings):\n",
    "    theset = [];\n",
    "    for s in strings:\n",
    "        theset.append(flip(s));\n",
    "    return Set(theset)\n",
    "\n",
    "#switches the order of a pair of matrices\n",
    "def switchmats(matpair):\n",
    "    return [matpair[1],matpair[0]]\n",
    "\n",
    "#expects accept_states to be a list\n",
    "def accprob(transmatrices,sigma,accept_states):\n",
    "    assert transmatrices[0].nrows() == transmatrices[0].ncols() == transmatrices[1].nrows() == transmatrices[1].ncols() == len(accept_states);\n",
    "    n = transmatrices[0].nrows();\n",
    "    Id = identity_matrix(n);\n",
    "    v = Matrix(Id[0]);\n",
    "    f = Matrix(accept_states).transpose();\n",
    "    \n",
    "    A = v*Id;\n",
    "    for ch in sigma:\n",
    "        assert int(ch) == 0 or int(ch) == 1;\n",
    "        A = A*transmatrices[int(ch)];\n",
    "    A = A*f;\n",
    "    return A[0][0];\n",
    "\n",
    "#expects accept_states to be a matrix already\n",
    "def accprob_vector(transmatrices,sigma,accept_states):\n",
    "    #assert transmatrices[0].nrows() == transmatrices[0].ncols() == transmatrices[1].nrows() == transmatrices[1].ncols() == len(accept_states);\n",
    "    n = transmatrices[0].nrows();\n",
    "    Id = identity_matrix(n);\n",
    "    v = Matrix(Id[0]);\n",
    "    f = accept_states;\n",
    "    \n",
    "    A = v*Id;\n",
    "    for ch in sigma:\n",
    "        assert int(ch) == 0 or int(ch) == 1;\n",
    "        A = A*transmatrices[int(ch)];\n",
    "    A = A*f;\n",
    "    return A[0][0];\n",
    "\n",
    " \n",
    "def probmatrix(transmatrices,sigma):\n",
    "    assert transmatrices[0].nrows() == transmatrices[0].ncols() == transmatrices[1].nrows() == transmatrices[1].ncols();\n",
    "    A = identity_matrix(transmatrices[0].nrows());\n",
    "    for ch in sigma:\n",
    "        assert int(ch) == 0 or int(ch) == 1;\n",
    "        A = A*transmatrices[int(ch)];\n",
    "    return A;\n",
    "    \n",
    "def list_probs(transmatrices,accept_states=None,upto=11,startfrom=1):\n",
    "    assert transmatrices[0].nrows() == transmatrices[0].ncols() == transmatrices[1].nrows() == transmatrices[1].ncols();\n",
    "    n = transmatrices[0].nrows();\n",
    "    Id = identity_matrix(n);\n",
    "    v = Matrix(Id[0]);\n",
    "    if accept_states == None:\n",
    "        f = Matrix(Id[n-1]).transpose();\n",
    "    else:\n",
    "        f = Matrix(accept_states).transpose();\n",
    "    \n",
    "    problist = []; #list of strings with their acceptance probabilities\n",
    "    for i in range(startfrom,upto):\n",
    "        l = list(itertools.product([0,1],repeat=i));\n",
    "        for st in l:\n",
    "            A = v*Id;\n",
    "            for ch in st:\n",
    "                assert int(ch) == 0 or int(ch) == 1;\n",
    "                A = A*transmatrices[int(ch)];\n",
    "            A = A*f;\n",
    "            problist.append((st,A[0][0]));\n",
    "        \n",
    "    return problist;\n",
    "\n",
    "#pass a list of binary strings to test, instead of a range\n",
    "def list_probs_fromwords(transmatrices,accept_states,words=None):\n",
    "    assert transmatrices[0].nrows() == transmatrices[0].ncols() == transmatrices[1].nrows() == transmatrices[1].ncols() == len(accept_states);\n",
    "    n = transmatrices[0].nrows();\n",
    "    Id = identity_matrix(n);\n",
    "    v = Matrix(Id[0]);\n",
    "    f = Matrix(accept_states).transpose();\n",
    "    if words == None:\n",
    "        words = list(itertools.product([0,1],repeat=11));\n",
    "    \n",
    "    problist = []; #list of strings with their acceptance probabilities\n",
    "    for st in words:\n",
    "        A = v*Id;\n",
    "        for ch in st:\n",
    "            assert int(ch) == 0 or int(ch) == 1;\n",
    "            A = A*transmatrices[int(ch)];\n",
    "        A = A*f;\n",
    "        problist.append((st,A[0][0]));\n",
    "        \n",
    "    return problist;\n",
    "    \n",
    "#expects a list in exactly the format returned by list_probs. if length>0, only looks at strings of exactly that length\n",
    "def highest_prob(problist,length=0):\n",
    "    assert length >= 0;\n",
    "    if length == 0:\n",
    "        sublist = problist;\n",
    "    elif length > 0:\n",
    "        sublist = [l for l in problist if len(l[0]) == length];\n",
    "    highprob = max([l[1] for l in sublist]);\n",
    "    highstr = [st for st in sublist if st[1] == highprob];\n",
    "    return highstr;\n",
    "    \n",
    "def sortproblist(problist):\n",
    "    return sorted(problist,key=lambda x:x[1],reverse=True);\n",
    "    \n",
    "    \n",
    "#check transition matrices for rows summing to 1\n",
    "def checkmatrices(P):\n",
    "    assert P[0].nrows() == P[0].ncols() == P[1].nrows() == P[1].ncols();\n",
    "    n = P[0].nrows();\n",
    "    \n",
    "    for i in range(2):\n",
    "        for j in range(n):\n",
    "            s = sum(P[i][j]);\n",
    "            if s != 1:\n",
    "                if s > 1:\n",
    "                    relto1 = \" > 1\";\n",
    "                elif s < 1:\n",
    "                    relto1 = \" < 1\";\n",
    "                print \"P\"+str(i)+\" row \"+str(j+1)+\" sum is \"+str(RRR(s))+relto1;\n",
    "                \n",
    "#expects a list in format returned by list_probs; if length>0, only consider strings of that length\n",
    "def checkstd(problist,length=0):\n",
    "    assert length >= 0;\n",
    "    if length == 0:\n",
    "        sublist = problist;\n",
    "    elif length > 0:\n",
    "        sublist = [l for l in problist if len(l[0]) == length];\n",
    "    std_list = stats.std([p[1] for p in sublist]);\n",
    "    high = highest_prob(sublist)[0];\n",
    "    for p in sublist:\n",
    "        if p[0] != high[0]:\n",
    "            diff = high[1] - std_list;\n",
    "            if diff <= p[1]:\n",
    "                print str(high[0])+\" is less than std = \"+str(std_list)+\" from \"+str(p[0])+\" (with prob \"+str(p[1])+\")\";\n",
    "                \n",
    "#return list of pairs of nstates x nstates matrices\n",
    "#(1/step) will be the increment of transition probabilities\n",
    "#if half=True, don't include (a) both ways to order a\n",
    "#pair of matrices; (b) pairs where both mats are the same.\n",
    "#if info=True, print sizes of stuff along the way\n",
    "def bruteforce(nstates,step,half=False,info=False):\n",
    "    linit = Compositions(nstates+step,length=nstates);\n",
    "    if info == True: print str(len(linit))+\" partitions\";\n",
    "    lrows = [ [0]*nstates ];\n",
    "    for t in linit:\n",
    "        r = []; #do arithmetic on t by hand\n",
    "        for i in t:\n",
    "            r.append(QQ(i-1)/step);\n",
    "        lrows.append(r);\n",
    "    if info == True: print str(len(lrows))+\" rows\";\n",
    "    mats = Tuples(lrows,nstates).list();\n",
    "    if info == True: print str(len(mats))+\" matrices\";\n",
    "    if half == False:\n",
    "        mats2 = Tuples(mats,2).list();\n",
    "    else:\n",
    "        mats2 = list(itertools.combinations(mats,2));\n",
    "    if info == True: print str(len(mats2))+\" matrix pairs\";\n",
    "    Pnew = [];\n",
    "    for P in mats2:\n",
    "        Pnew.append([Matrix(QQ,P[0]),Matrix(QQ,P[1])]);\n",
    "    return Pnew;\n",
    "\n",
    "#do bruteforce() algo on only a given list of vectors (as lists)\n",
    "#assumes all vectors are of the same length\n",
    "#does NOT check vectors sum to 1\n",
    "def bruteforcevecs(vecs,half=False,info=False):\n",
    "    if info == True: print str(len(vecs))+\" rows\";\n",
    "    n = len(vecs[0]);\n",
    "    mats = Tuples(vecs,n).list();\n",
    "    if info == True: print str(len(mats))+\" matrices\";\n",
    "    if half == False:\n",
    "        mats2 = Tuples(mats,2).list();\n",
    "    else:\n",
    "        mats2 = list(itertools.combinations(mats,2));\n",
    "    if info == True: print str(len(mats2))+\" matrix pairs\";\n",
    "    Pnew = [];\n",
    "    for P in mats2:\n",
    "        Pnew.append([Matrix(QQ,P[0]),Matrix(QQ,P[1])]);\n",
    "    return Pnew;\n",
    "\n",
    "#do bruteforce() algo using only the given list of transition\n",
    "#probabilities as entries\n",
    "def bruteforceprobs(nstates,probs,half=False,info=False):\n",
    "    if info == True: print str(len(probs))+\" possible entries\";\n",
    "    lrowsall = Tuples(probs,nstates).list();\n",
    "    lrows = [];\n",
    "    for r in lrowsall:\n",
    "        s = sum(r);\n",
    "        if s == 0 or s == 1: lrows.append(r);\n",
    "    if info == True: print str(len(lrows))+\" rows\";\n",
    "    mats = Tuples(lrows,nstates).list();\n",
    "    if info == True: print str(len(mats))+\" matrices\";\n",
    "    if half == False:\n",
    "        mats2 = Tuples(mats,2).list();\n",
    "    else:\n",
    "        mats2 = list(itertools.combinations(mats,2));\n",
    "    if info == True: print str(len(mats2))+\" matrix pairs\";\n",
    "    Pnew = [];\n",
    "    for P in mats2:\n",
    "        Pnew.append([Matrix(QQ,P[0]),Matrix(QQ,P[1])]);\n",
    "    return Pnew;\n",
    "\n",
    "#expects a list of pairs of matrices as returned by bruteforce()\n",
    "#strlen = length of strings to try, accept_states = vector (list)\n",
    "def finduniques(matpairs,strlen,accept_states=None):\n",
    "    uniques = [];\n",
    "    if accept_states == None:\n",
    "        n = matpairs[0][0].nrows();\n",
    "        accept_states = list(identity_matrix(n)[n-1]);\n",
    "    words = list(itertools.product([0,1],repeat=strlen));\n",
    "    for P in matpairs:\n",
    "        probs = list_probs_fromwords(P,accept_states,words);\n",
    "        high = highest_prob(probs);\n",
    "        if len(high) == 1:\n",
    "            uniques.append([P,high]);\n",
    "    return uniques;\n",
    "\n",
    "#updates PFA complexities and adds new witnesses to SW\n",
    "#uniqlist should be in the format output by finduniques()\n",
    "#ASSUMES ALL MATRICES IN uniqlist ARE OF THE SAME SIZE!!!!!\n",
    "#specify the _same_ list of accept states for all of them.\n",
    "#return number of new witnesses added\n",
    "def addwits(uniqlist,accept_states=None):\n",
    "    n = uniqlist[0][0][0].nrows();\n",
    "    count = 0;\n",
    "    if accept_states == None:\n",
    "        f = Matrix(identity_matrix(n)[n-1]).transpose();\n",
    "    else:\n",
    "        f = Matrix(accept_states).transpose();\n",
    "    for u in uniqlist:\n",
    "        s = u[1][0][0];\n",
    "        if SC.has_key(s) == False or SC[s] > n:\n",
    "            SC[s] = n;\n",
    "        if SC[s] == n:\n",
    "            try:\n",
    "                ind = SW[s].index((u[0],f));\n",
    "            except ValueError:\n",
    "                SW[s].append((u[0],f));\n",
    "                count = count + 1;\n",
    "    return count;\n",
    "\n",
    "#like addwits(), but only adds if there isn't a witness yet for\n",
    "#each particular string\n",
    "#uniqlist should be in the format output by finduniques()\n",
    "#ASSUMES ALL MATRICES IN uniqlist ARE OF THE SAME SIZE!!!!!\n",
    "#specify the _same_ list of accept states for all of them.\n",
    "#return number of new witnesses added\n",
    "def addwitsnew(uniqlist,accept_states=None):\n",
    "    n = uniqlist[0][0][0].nrows();\n",
    "    count = 0;\n",
    "    for u in uniqlist:\n",
    "        s = u[1][0][0];\n",
    "        if len(SW[s]) > 0 and SC.has_key(s) == True:\n",
    "            continue;\n",
    "        count = count + addonewit(u,s,accept_states);\n",
    "    return count;\n",
    "\n",
    "#adds thewit (a pair of matrices) as a witness for sigma to SW\n",
    "#also updates SC if appropriate\n",
    "#only does it if this witnesses minimal complexity\n",
    "#return 0 if nothing was added or updated;\n",
    "#       1 if only a new witness;\n",
    "#       2 if new witness and complexity updated.\n",
    "def addonewit(thewit,sigma,accept_states=None):\n",
    "    n = thewit[0].nrows();\n",
    "    ret = 0;\n",
    "    if accept_states == None:\n",
    "        f = Matrix(identity_matrix(n)[n-1]).transpose();\n",
    "    else:\n",
    "        f = Matrix(accept_states).transpose();\n",
    "    if SC.has_key(sigma) == False or SC[sigma] > n:\n",
    "        SC[sigma] = n;\n",
    "        ret = ret + 1;\n",
    "    if SC[sigma] == n:\n",
    "        try:\n",
    "            ind = SW[sigma].index(thewit);\n",
    "        except ValueError:\n",
    "            SW[sigma].append((thewit,f));\n",
    "            ret = ret + 1;\n",
    "    return ret;\n",
    "\n",
    "#same as addonewit(), but accept_states should now already be a\n",
    "#matrix in the correct form\n",
    "def addonewit_vec(thewit,sigma,accept_states):\n",
    "    n = thewit[0].nrows();\n",
    "    ret = 0;\n",
    "    if SC.has_key(sigma) == False or SC[sigma] > n:\n",
    "        SC[sigma] = n;\n",
    "        ret = ret + 1;\n",
    "    if SC[sigma] == n:\n",
    "        try:\n",
    "            ind = SW[sigma].index(thewit);\n",
    "        except ValueError:\n",
    "            SW[sigma].append((thewit,accept_states));\n",
    "            ret = ret + 1;\n",
    "    return ret;\n",
    "    \n",
    "\n",
    "#among PFAs given by matpairs, returns the first found which\n",
    "#has sigma as its highest-prob word among strings of len(sigma).\n",
    "#assumes all matrices have the same size.\n",
    "def findwitness(matpairs,sigma,accept_states=None):\n",
    "    if accept_states == None:\n",
    "        n = matpairs[0][0].nrows();\n",
    "        f = matrix(identity_matrix(n)[n-1]).transpose();\n",
    "    else:\n",
    "        f = matrix(accept_states).transpose();\n",
    "    words = list(itertools.product([0,1],repeat=len(sigma)));\n",
    "    words.remove(sigma);\n",
    "    \n",
    "    for P in matpairs:\n",
    "        sigprob = accprob_vector(P,sigma,f);\n",
    "        if sigprob == 0:\n",
    "            continue;\n",
    "        iscandidate = True;\n",
    "        for s in words:\n",
    "            testprob = accprob_vector(P,s,f);\n",
    "            if testprob >= sigprob:\n",
    "                iscandidate = False;\n",
    "                break;\n",
    "        if iscandidate == True:\n",
    "            return P;\n",
    "    return None;\n",
    "\n",
    "#expects a list in the format given by finduniques\n",
    "#sigma should be a TUPLE, not an array! (?)\n",
    "#returns the first pair of matrices in uniqlist witnessing the\n",
    "#PFA complexity of sigma\n",
    "def firstwitness(uniqlist,sigma):\n",
    "    return [u[0] for u in uniqlist if u[1][0][0] == sigma][0]\n",
    "\n",
    "#expects a dictionary like SC or NC\n",
    "#returns Set of keys in compdict with value=complexity\n",
    "#restricts to length strlen if strlen>0; o/w no restr on length\n",
    "#if less=True, returns keys with value<=complexity\n",
    "def lookup(compdict,complexity,strlen=0,less=False):\n",
    "    if strlen == 0 and less == False:\n",
    "        return Set([k for k in compdict.keys() if compdict[k] == complexity]);\n",
    "    elif strlen > 0 and less == False:\n",
    "        return Set([k for k in compdict.keys() if compdict[k] == complexity and len(k) == strlen]);\n",
    "    elif strlen == 0 and less == True:\n",
    "        return Set([k for k in compdict.keys() if compdict[k] <= complexity]);\n",
    "    elif strlen > 0 and less == True:\n",
    "        return Set([k for k in compdict.keys() if compdict[k] <= complexity and len(k) == strlen]);\n",
    "\n",
    "\n",
    "#return largest denominator in a pair of rational matrices\n",
    "def matdenom(matpair):\n",
    "    themax = 1;\n",
    "    for i in range(2):\n",
    "        for r in matpair[i]: #rows\n",
    "            for e in r: #element\n",
    "                d = QQ(e).denominator();\n",
    "                themax = lcm(d,themax);\n",
    "    return themax;\n",
    "\n",
    "#return first witness for PFA complexity of sigma in SW with\n",
    "#matdenom <= denom\n",
    "def firstwitdenom(sigma,denom):\n",
    "    if SW.has_key(sigma) == False or len(SW[sigma]) == 0:\n",
    "        return None;\n",
    "    for mats in SW[sigma]:\n",
    "        if matdenom(mats[0]) <= denom:\n",
    "            return mats;\n",
    "    return None;\n",
    "\n",
    "#return list of witnesses for PFA complexity of sigma in SW\n",
    "#with matdenom = denom\n",
    "def witsdenom(sigma,denom):\n",
    "    if SW.has_key(sigma) == False or len(SW[sigma]) == 0:\n",
    "        return None;\n",
    "    thelist = [];\n",
    "    for mats in SW[sigma]:\n",
    "        if matdenom(mats[0]) == denom:\n",
    "            thelist.append(mats);\n",
    "    if thelist == []:\n",
    "        return None;\n",
    "    return thelist;\n",
    "\n",
    "#return lowest denominator out of all witnesses for sigma in SW\n",
    "def mindenom(sigma):\n",
    "    if SW.has_key(sigma) == False or len(SW[sigma]) == 0:\n",
    "        return None;\n",
    "    return min([matdenom(w[0]) for w in SW[sigma]]);\n",
    "\n",
    "#return highest denominator out of all witnesses for sigma in SW\n",
    "def maxdenom(sigma):\n",
    "    if SW.has_key(sigma) == False or len(SW[sigma]) == 0:\n",
    "        return None;\n",
    "    return max([matdenom(w[0]) for w in SW[sigma]]);\n",
    "\n",
    "#determine if matpair represents an actual aut (as in Rabin)\n",
    "def isactualaut(matpair):\n",
    "    for i in range(2):\n",
    "        for r in matpair[i]: #rows\n",
    "            for e in r: #entries\n",
    "                if e == 0:\n",
    "                    return False;\n",
    "    return True;\n",
    "\n",
    "#substitute epses (tuple of epsilons, one per row) into matpairs\n",
    "#for the variable eps\n",
    "def matsub(matpairs,epses):\n",
    "    assert len(epses[0]) == len(epses[1]) == matpairs[0].nrows();\n",
    "    newmat = [ [], [] ];\n",
    "    for i in range(2):\n",
    "        for e in range(len(epses[i])):\n",
    "            newmat[i].append(matpairs[i][e].substitute(eps=epses[i][e]));\n",
    "    return [Matrix(newmat[0]), Matrix(newmat[1])];\n",
    "\n",
    "#just returns the digraph of the aut described by matpair\n",
    "def autgraph(matpair):\n",
    "    n = matpair[0].nrows();\n",
    "    gr = DiGraph(n,loops=True,multiedges=True);\n",
    "    for l in range(2): #letter seen\n",
    "        for i in range(n): #transition from state i...\n",
    "            for j in range(n): #to state j\n",
    "                if matpair[l][i][j] > 0:\n",
    "                    gr.add_edge(i,j,label=str(l)+\" (\"+str(matpair[l][i][j])+\")\");\n",
    "    return gr;\n",
    "\n",
    "#plots the specified aut from SW\n",
    "def autplotwit(sigma,ind):\n",
    "    matpair = SW[sigma][ind][0];\n",
    "    f = SW[sigma][ind][1];\n",
    "    n = f.nrows();\n",
    "    gr = autgraph(matpair);\n",
    "    acc = [i for i in range(n) if f[i][0] == 1];\n",
    "    notacc = Set(range(n)).difference(Set(acc)).list();\n",
    "    return gr.plot(edge_labels=True,vertex_size=400,layout='spring',iterations=2,vertex_colors={'white': notacc,'yellow': acc});\n",
    "\n",
    "#expects a matrix pair defining the automaton\n",
    "def autplot(matpair,accept_states=None):\n",
    "    n = matpair[0].nrows();\n",
    "    if accept_states == None:\n",
    "        f = Matrix(identity_matrix(n)[n-1]).transpose();\n",
    "        acc = [n-1];\n",
    "    else:\n",
    "        f = Matrix(accept_states).transpose();\n",
    "        acc = [i for i in range(n) if accept_states[i] == 1];\n",
    "    gr = autgraph(matpair);\n",
    "    notacc = Set(range(n)).difference(Set(acc)).list();\n",
    "    return gr.plot(edge_labels=True,vertex_size=400,layout='spring',iterations=2,vertex_colors={'white': notacc,'yellow': acc});\n",
    "\n",
    "#expects a digraph (probably the output of autgraph())\n",
    "def autgraphplot(autg,accept_states=None):\n",
    "    n = autg.order();\n",
    "    if accept_states == None:\n",
    "        f = Matrix(identity_matrix(n)[n-1]).transpose();\n",
    "        acc = [n-1];\n",
    "    else:\n",
    "        f = Matrix(accept_states).transpose();\n",
    "        acc = [i for i in range(n) if accept_states[i] == 1];\n",
    "    notacc = Set(range(n)).difference(Set(acc)).list();\n",
    "    return autg.plot(edge_labels=True,vertex_size=400,layout='spring',iterations=2,vertex_colors={'white': notacc,'yellow': acc});"
   ]
  },
  {
   "cell_type": "code",
   "execution_count": 2,
   "metadata": {},
   "outputs": [],
   "source": [
    "#run immediately when restarting\n",
    "SC = unpicklefile(\"stoch_complexity\");\n",
    "NC = unpicklefile(\"nfa_complexity\");\n",
    "SW = unpicklefile(\"witnesses\");"
   ]
  },
  {
   "cell_type": "code",
   "execution_count": 134,
   "metadata": {},
   "outputs": [
    {
     "name": "stdout",
     "output_type": "stream",
     "text": [
      "1054\n",
      "len 3 complexity 1: 2 (NFA: 2)\n",
      "len 3 complexity 2: 6 (NFA: 6)\n",
      "len 3 complexity 3: 0 (NFA: 0)\n",
      "total witnesses 6\n",
      "\n",
      "len 4 complexity 1: 2 (NFA: 2)\n",
      "len 4 complexity 2: 14 (NFA: 6)\n",
      "len 4 complexity 3: 0 (NFA: 8)\n",
      "total witnesses 406\n",
      "\n",
      "len 5 complexity 1: 2 (NFA: 2)\n",
      "len 5 complexity 2: 20 (NFA: 6)\n",
      "len 5 complexity 3: 10 (NFA: 24)\n",
      "total witnesses 354\n",
      "\n",
      "len 6 complexity 1: 2 (NFA: 2)\n",
      "len 6 complexity 2: 28 (NFA: 6)\n",
      "len 6 complexity 3: 34 (NFA: 26)\n",
      "total witnesses 658\n",
      "\n",
      "len 7 complexity 1: 2 (NFA: 2)\n",
      "len 7 complexity 2: 32 (NFA: 6)\n",
      "len 7 complexity 3: 94 (NFA: 22)\n",
      "total witnesses 182\n",
      "\n",
      "len 8 complexity 1: 2 (NFA: 2)\n",
      "len 8 complexity 2: 40 (NFA: 6)\n",
      "len 8 complexity 3: 214 (NFA: 20)\n",
      "total witnesses 754\n",
      "\n",
      "len 9 complexity 1: 2 (NFA: 2)\n",
      "len 9 complexity 2: 44 (NFA: 6)\n",
      "len 9 complexity 3: 309 (NFA: 20)\n",
      "len 9 complexity 4: 2 (NFA: 78)\n",
      "total classified 357/512\n",
      "total witnesses 746\n",
      "\n",
      "len 10 complexity 1: 2 (NFA: 2)\n",
      "len 10 complexity 2: 23 (NFA: 6)\n",
      "len 10 complexity 3: 137 (NFA: 20)\n",
      "len 10 complexity 4: 7 (NFA: 64)\n",
      "total classified 169/1024\n",
      "total witnesses 471\n",
      "\n",
      "# strings of each length with PFA=NFA complexity:\n",
      "3: 8\n",
      "4: 8\n",
      "5: 18\n",
      "6: 20\n",
      "7: 18\n",
      "8: 16\n",
      "9: 16\n",
      "10: 22\n"
     ]
    }
   ],
   "source": [
    "#STATS\n",
    "print len(SC)\n",
    "for l in range(3,11):\n",
    "    if l<9:\n",
    "        top=4;\n",
    "    else:\n",
    "        top=5;\n",
    "    for c in range(1,top):\n",
    "        print \"len \"+str(l)+\" complexity \"+str(c)+\": \"+str(lookup(SC,c,l).cardinality())+\" (NFA: \"+str(lookup(NC,c,l).cardinality())+\")\"\n",
    "    nu = lookup(SC,100,l,less=True).cardinality();\n",
    "    if nu < 2^l:\n",
    "        print \"total classified \"+str(nu)+\"/\"+str(2^l);\n",
    "    witsum = sum([len(SW[k]) for k in SW.keys() if len(k)==l]);\n",
    "    print \"total witnesses \"+str(witsum);\n",
    "    print \"\"\n",
    "print \"# strings of each length with PFA=NFA complexity:\"\n",
    "for l in range(3,11):\n",
    "    print str(l)+\": \"+str(len([k for k in SC.keys() if len(k) == l and SC[k] == NC[k]]))"
   ]
  },
  {
   "cell_type": "code",
   "execution_count": 3,
   "metadata": {},
   "outputs": [],
   "source": [
    "test2x2 = bruteforce(2,2);\n",
    "test2x3 = bruteforce(2,3);\n",
    "test2x4 = bruteforce(2,4);\n",
    "test2x5 = bruteforce(2,5);\n",
    "test2x6 = bruteforce(2,6);\n",
    "test2x7 = bruteforce(2,7);\n",
    "test2x8 = bruteforce(2,8);\n",
    "half3x2 = bruteforce(3,2,half=True);\n",
    "\n",
    "somevecs = [ [1,0,0],[0,1,0],[0,0,1],[0,0,0],[1/4,1/4,1/2],\n",
    "           [1/4,1/2,1/4],[1/2,1/4,1/4]];\n",
    "some3x4 = bruteforcevecs(somevecs,half=True);\n",
    "\n",
    "l3 = Set(itertools.product([0,1],repeat=3));\n",
    "l4 = Set(itertools.product([0,1],repeat=4));\n",
    "l5 = Set(itertools.product([0,1],repeat=5));\n",
    "l6 = Set(itertools.product([0,1],repeat=6));\n",
    "l7 = Set(itertools.product([0,1],repeat=7));\n",
    "l8 = Set(itertools.product([0,1],repeat=8));\n",
    "l9 = Set(itertools.product([0,1],repeat=9));\n",
    "l10 = Set(itertools.product([0,1],repeat=10));\n",
    "l11 = Set(itertools.product([0,1],repeat=11));"
   ]
  },
  {
   "cell_type": "code",
   "execution_count": null,
   "metadata": {},
   "outputs": [],
   "source": [
    "half3x3 = bruteforce(3,3,half=True);\n",
    "print len(half3x3);\n",
    "test2x10 = unpicklefile(\"test2x10\");\n",
    "print len(test2x10);\n",
    "test2x15 = unpicklefile(\"test2x15\");\n",
    "print len(test2x15);\n",
    "test2x20 = unpicklefile(\"test2x20\");\n",
    "print len(test2x20);\n",
    "test3x2 = unpicklefile(\"test3x2\");\n",
    "print len(test3x2);\n",
    "#test4x1 = unpicklefile(\"test4x1\");\n",
    "#test3x4 = unpicklefile(\"test3x4\");"
   ]
  },
  {
   "cell_type": "code",
   "execution_count": 5,
   "metadata": {},
   "outputs": [
    {
     "name": "stdout",
     "output_type": "stream",
     "text": [
      "256\n",
      "625\n",
      "1296\n",
      "2401\n",
      "4096\n",
      "6561\n",
      "10000\n",
      "58653\n",
      "58653\n"
     ]
    }
   ],
   "source": [
    "print len(test2x2);\n",
    "print len(test2x3);\n",
    "print len(test2x4);\n",
    "print len(test2x5);\n",
    "print len(test2x6);\n",
    "print len(test2x7);\n",
    "print len(test2x8);\n",
    "print len(half3x2);\n",
    "print len(some3x4);"
   ]
  },
  {
   "cell_type": "code",
   "execution_count": 9,
   "metadata": {},
   "outputs": [
    {
     "name": "stdout",
     "output_type": "stream",
     "text": [
      "117649\n",
      "1771561\n"
     ]
    }
   ],
   "source": [
    "test3x3 = unpicklefile(\"test3x3\");\n",
    "print len(test3x3);\n",
    "test2x29 = unpicklefile(\"test2x29\");\n",
    "print len(test2x29);\n",
    "test2x36 = unpicklefile(\"test2x36\");\n",
    "print len(test2x36);"
   ]
  },
  {
   "cell_type": "code",
   "execution_count": 66,
   "metadata": {},
   "outputs": [
    {
     "name": "stdout",
     "output_type": "stream",
     "text": [
      "[((0, 0, 1, 1, 0), 1278/3125)]\n"
     ]
    }
   ],
   "source": [
    "A1 = [Matrix(QQ,[[2/5,3/5],[1,0]]), Matrix(QQ,[[4/5,1/5],[2/5,3/5]])];\n",
    "listA1 = list_probs(A1,[0,1],startfrom=5,upto=6);\n",
    "print highest_prob(listA1)"
   ]
  },
  {
   "cell_type": "code",
   "execution_count": 79,
   "metadata": {},
   "outputs": [
    {
     "name": "stdout",
     "output_type": "stream",
     "text": [
      "[[[[  0   0]\n",
      "[3/5 2/5], [  0   1]\n",
      "[2/5 3/5]], [((1, 0, 1, 1, 1), 459/625)]], [[[  0   0]\n",
      "[2/5 3/5], [  0   1]\n",
      "[1/5 4/5]], [((1, 0, 1, 1, 1), 522/625)]]]\n"
     ]
    }
   ],
   "source": [
    "#A_N(00110)=3: https://math.hawaii.edu/wordpress/bjoern/complexity-of-00110/\n",
    "#A_N(00010)=3\n",
    "#A_N(00011)=3\n",
    "#A_N(10111)=3\n",
    "print [u for u in uniq1 if u[1][0][0] == (1,0,1,1,1)]"
   ]
  },
  {
   "cell_type": "code",
   "execution_count": 76,
   "metadata": {},
   "outputs": [
    {
     "name": "stdout",
     "output_type": "stream",
     "text": [
      "[((0, 0, 0, 1, 1), 471/625)]\n"
     ]
    }
   ],
   "source": [
    "A2 = [Matrix(QQ,[[0,1],[4/5,1/5]]), Matrix(QQ,[[2/5,3/5],[1/5,4/5]])];\n",
    "listA2 = list_probs(A2,[0,1],startfrom=5,upto=6);\n",
    "print highest_prob(listA2)"
   ]
  },
  {
   "cell_type": "code",
   "execution_count": 78,
   "metadata": {},
   "outputs": [
    {
     "name": "stdout",
     "output_type": "stream",
     "text": [
      "[((0, 0, 0, 1, 0), 1296/3125)]\n"
     ]
    }
   ],
   "source": [
    "A3 = [Matrix(QQ,[[2/5,3/5],[1,0]]), Matrix(QQ,[[3/5,2/5],[4/5,1/5]])];\n",
    "listA3 = list_probs(A3,[0,1],startfrom=5,upto=6);\n",
    "print highest_prob(listA3)"
   ]
  },
  {
   "cell_type": "code",
   "execution_count": 80,
   "metadata": {},
   "outputs": [
    {
     "name": "stdout",
     "output_type": "stream",
     "text": [
      "[((1, 0, 1, 1, 1), 522/625)]\n"
     ]
    }
   ],
   "source": [
    "A4 = [Matrix(QQ,[[0,0],[2/5,3/5]]), Matrix(QQ,[[0,1],[1/5,4/5]])];\n",
    "listA4 = list_probs(A4,[0,1],startfrom=5,upto=6);\n",
    "print highest_prob(listA4)"
   ]
  },
  {
   "cell_type": "code",
   "execution_count": 86,
   "metadata": {},
   "outputs": [],
   "source": [
    "#sortproblist(listA4)"
   ]
  },
  {
   "cell_type": "code",
   "execution_count": 153,
   "metadata": {},
   "outputs": [
    {
     "name": "stdout",
     "output_type": "stream",
     "text": [
      "725\n"
     ]
    }
   ],
   "source": [
    "uniq2 = finduniques(test1,6);\n",
    "print len(uniq2)"
   ]
  },
  {
   "cell_type": "code",
   "execution_count": 154,
   "metadata": {},
   "outputs": [
    {
     "name": "stdout",
     "output_type": "stream",
     "text": [
      "{(0, 0, 0, 0, 0, 0), (0, 0, 1, 1, 1, 1), (1, 0, 1, 0, 1, 0), (0, 0, 0, 0, 1, 0), (1, 1, 1, 1, 0, 1), (0, 1, 1, 1, 1, 1), (0, 1, 0, 0, 0, 0), (0, 1, 0, 1, 0, 1), (1, 1, 1, 1, 1, 0), (1, 1, 0, 1, 0, 1), (1, 1, 1, 1, 1, 1), (0, 0, 0, 0, 0, 1), (0, 0, 0, 1, 1, 1), (0, 0, 1, 1, 1, 0), (1, 1, 1, 0, 1, 0)}\n"
     ]
    }
   ],
   "source": [
    "print Set([u[1][0][0] for u in uniq2])"
   ]
  },
  {
   "cell_type": "code",
   "execution_count": 85,
   "metadata": {},
   "outputs": [
    {
     "name": "stdout",
     "output_type": "stream",
     "text": [
      "[[[[1/5 4/5]\n",
      "[  1   0], [2/5 3/5]\n",
      "[4/5 1/5]], [((1, 1, 1, 0, 1, 0), 7176/15625)]]]\n"
     ]
    }
   ],
   "source": [
    "print [u for u in uniq2 if u[1][0][0] == (1,1,1,0,1,0)]\n",
    "#A_N(111010)=4"
   ]
  },
  {
   "cell_type": "code",
   "execution_count": 158,
   "metadata": {},
   "outputs": [
    {
     "name": "stdout",
     "output_type": "stream",
     "text": [
      "725\n"
     ]
    }
   ],
   "source": [
    "uniq3 = finduniques(test1,8);\n",
    "print len(uniq3)"
   ]
  },
  {
   "cell_type": "code",
   "execution_count": 90,
   "metadata": {},
   "outputs": [
    {
     "name": "stdout",
     "output_type": "stream",
     "text": [
      "{(0, 1, 1, 1, 1, 1, 1, 1), (1, 1, 1, 0, 1, 0, 1, 0), (1, 1, 1, 1, 1, 1, 1, 1), (0, 0, 0, 1, 1, 1, 1, 1), (0, 0, 1, 1, 1, 1, 1, 0), (0, 0, 0, 0, 0, 0, 0, 1), (1, 0, 1, 0, 1, 0, 1, 0), (0, 1, 0, 1, 0, 1, 0, 1), (0, 0, 0, 0, 1, 1, 1, 0), (1, 1, 1, 1, 1, 1, 1, 0), (1, 1, 0, 1, 0, 1, 0, 1), (0, 0, 0, 0, 0, 0, 1, 0), (0, 0, 1, 1, 1, 1, 1, 1), (0, 0, 0, 0, 0, 0, 0, 0), (1, 1, 1, 1, 0, 1, 0, 1), (0, 0, 0, 0, 0, 1, 1, 1), (0, 1, 0, 0, 0, 0, 0, 0)}\n"
     ]
    }
   ],
   "source": [
    "print Set([u[1][0][0] for u in uniq3])"
   ]
  },
  {
   "cell_type": "code",
   "execution_count": 159,
   "metadata": {},
   "outputs": [
    {
     "name": "stdout",
     "output_type": "stream",
     "text": [
      "749\n"
     ]
    }
   ],
   "source": [
    "uniq4 = finduniques(test1,9);\n",
    "print len(uniq4)"
   ]
  },
  {
   "cell_type": "code",
   "execution_count": 100,
   "metadata": {},
   "outputs": [
    {
     "name": "stdout",
     "output_type": "stream",
     "text": [
      "{(0, 1, 1, 1, 1, 1, 1, 1, 0), (0, 1, 0, 1, 0, 1, 0, 1, 0), (0, 0, 0, 0, 0, 1, 1, 1, 1), (0, 0, 0, 0, 0, 0, 1, 0, 1), (0, 0, 0, 1, 1, 1, 1, 1, 1), (0, 0, 0, 0, 0, 1, 0, 1, 0), (0, 0, 0, 1, 0, 1, 0, 1, 0), (0, 0, 0, 0, 0, 0, 0, 0, 0), (0, 0, 1, 1, 1, 1, 1, 1, 0), (1, 1, 1, 1, 1, 1, 1, 1, 0), (0, 0, 0, 0, 0, 0, 0, 0, 1), (0, 0, 1, 1, 1, 1, 1, 1, 1), (1, 1, 1, 1, 1, 1, 1, 1, 1), (0, 0, 0, 0, 0, 0, 0, 1, 1), (0, 0, 0, 0, 1, 1, 1, 1, 0), (0, 1, 1, 1, 1, 1, 1, 1, 1), (1, 0, 1, 1, 1, 1, 1, 1, 1), (1, 0, 1, 0, 1, 0, 1, 0, 1), (0, 0, 0, 0, 1, 0, 1, 0, 1)}\n"
     ]
    }
   ],
   "source": [
    "print Set([u[1][0][0] for u in uniq4])"
   ]
  },
  {
   "cell_type": "code",
   "execution_count": 15,
   "metadata": {},
   "outputs": [
    {
     "name": "stdout",
     "output_type": "stream",
     "text": [
      "4950\n"
     ]
    }
   ],
   "source": [
    "test2x8 = bruteforce(2,8);\n",
    "print len(test2x8)"
   ]
  },
  {
   "cell_type": "code",
   "execution_count": 163,
   "metadata": {},
   "outputs": [
    {
     "name": "stdout",
     "output_type": "stream",
     "text": [
      "3623\n"
     ]
    }
   ],
   "source": [
    "uniq2x8_6 = finduniques(test2x8,6);\n",
    "print len(uniq2x8_6)"
   ]
  },
  {
   "cell_type": "code",
   "execution_count": 104,
   "metadata": {},
   "outputs": [
    {
     "name": "stdout",
     "output_type": "stream",
     "text": [
      "{(0, 0, 0, 0, 0, 0), (1, 0, 1, 0, 1, 0), (1, 1, 1, 1, 0, 1), (0, 1, 1, 1, 1, 1), (0, 0, 0, 0, 1, 1), (1, 1, 1, 1, 1, 0), (1, 1, 0, 1, 0, 1), (0, 0, 0, 0, 0, 1), (1, 1, 1, 0, 1, 0), (0, 0, 1, 1, 1, 1), (0, 0, 0, 0, 1, 0), (0, 1, 0, 0, 0, 0), (0, 1, 0, 1, 0, 1), (0, 0, 0, 1, 1, 1), (0, 0, 1, 1, 1, 0), (1, 1, 1, 1, 1, 1)}\n"
     ]
    }
   ],
   "source": [
    "print Set([u[1][0][0] for u in uniq2x8_6])"
   ]
  },
  {
   "cell_type": "code",
   "execution_count": 164,
   "metadata": {},
   "outputs": [
    {
     "name": "stdout",
     "output_type": "stream",
     "text": [
      "3687\n"
     ]
    }
   ],
   "source": [
    "uniq2x8_7 = finduniques(test2x8,7);\n",
    "print len(uniq2x8_7)"
   ]
  },
  {
   "cell_type": "code",
   "execution_count": 115,
   "metadata": {},
   "outputs": [
    {
     "name": "stdout",
     "output_type": "stream",
     "text": [
      "{(0, 0, 1, 0, 1, 0, 1), (0, 0, 0, 1, 0, 1, 0), (1, 0, 1, 1, 1, 1, 1), (0, 0, 0, 0, 0, 0, 1), (0, 0, 0, 0, 0, 0, 0), (0, 0, 0, 1, 1, 1, 1), (0, 1, 1, 1, 1, 1, 0), (0, 0, 0, 0, 1, 1, 1), (0, 1, 1, 1, 1, 1, 1), (0, 0, 0, 0, 1, 1, 0), (1, 1, 1, 1, 1, 1, 1), (0, 0, 1, 1, 1, 1, 1), (0, 0, 1, 1, 1, 1, 0), (0, 0, 0, 0, 0, 1, 0), (1, 0, 1, 0, 1, 0, 1), (0, 0, 0, 0, 0, 1, 1), (1, 1, 1, 1, 1, 1, 0), (0, 0, 0, 0, 1, 0, 1), (0, 1, 0, 1, 0, 1, 0)}\n"
     ]
    }
   ],
   "source": [
    "print Set([u[1][0][0] for u in uniq2x8_7])"
   ]
  },
  {
   "cell_type": "code",
   "execution_count": 177,
   "metadata": {},
   "outputs": [
    {
     "name": "stdout",
     "output_type": "stream",
     "text": [
      "3694\n",
      "{(0, 0, 0, 0, 0), (1, 1, 1, 1, 0), (0, 0, 0, 1, 1), (0, 0, 1, 0, 1), (0, 1, 1, 1, 1), (1, 0, 1, 0, 1), (0, 0, 1, 1, 0), (0, 1, 1, 1, 0), (0, 1, 0, 1, 0), (0, 0, 1, 1, 1), (1, 1, 1, 1, 1), (0, 0, 0, 0, 1), (0, 0, 0, 1, 0), (1, 0, 1, 1, 1)}\n"
     ]
    }
   ],
   "source": [
    "uniq2x8_5 = finduniques(test2x8,5);\n",
    "print len(uniq2x8_5);\n",
    "print Set([u[1][0][0] for u in uniq2x8_5])"
   ]
  },
  {
   "cell_type": "code",
   "execution_count": 265,
   "metadata": {},
   "outputs": [
    {
     "name": "stdout",
     "output_type": "stream",
     "text": [
      "3625\n",
      "{(0, 1, 1, 1, 1, 1, 1, 1), (1, 1, 1, 0, 1, 0, 1, 0), (1, 1, 1, 1, 1, 1, 1, 1), (0, 0, 0, 1, 1, 1, 1, 1), (1, 1, 1, 1, 1, 1, 0, 1), (0, 0, 1, 1, 1, 1, 1, 0), (0, 0, 0, 0, 0, 0, 0, 1), (1, 0, 1, 0, 1, 0, 1, 0), (0, 1, 0, 1, 0, 1, 0, 1), (0, 0, 0, 0, 1, 1, 1, 0), (1, 1, 1, 1, 1, 1, 1, 0), (1, 1, 0, 1, 0, 1, 0, 1), (0, 0, 0, 0, 0, 0, 1, 0), (0, 0, 1, 1, 1, 1, 1, 1), (0, 0, 0, 0, 0, 0, 0, 0), (1, 1, 1, 1, 0, 1, 0, 1), (0, 0, 0, 0, 0, 1, 1, 1), (0, 0, 0, 0, 1, 1, 1, 1), (0, 1, 0, 0, 0, 0, 0, 0)}\n"
     ]
    }
   ],
   "source": [
    "uniq2x8_8 = finduniques(test2x8,8);\n",
    "print len(uniq2x8_8);\n",
    "print Set([u[1][0][0] for u in uniq2x8_8])"
   ]
  },
  {
   "cell_type": "code",
   "execution_count": 14,
   "metadata": {},
   "outputs": [
    {
     "name": "stdout",
     "output_type": "stream",
     "text": [
      "2016\n"
     ]
    }
   ],
   "source": [
    "test2x6 = bruteforce(2,6);\n",
    "print len(test2x6)"
   ]
  },
  {
   "cell_type": "code",
   "execution_count": 187,
   "metadata": {},
   "outputs": [
    {
     "name": "stdout",
     "output_type": "stream",
     "text": [
      "1373\n",
      "{(0, 0, 0, 0, 0), (1, 1, 1, 1, 0), (0, 0, 0, 1, 1), (0, 1, 1, 1, 1), (1, 0, 1, 0, 1), (0, 0, 1, 1, 0), (0, 1, 1, 1, 0), (0, 1, 0, 1, 0), (0, 0, 1, 1, 1), (1, 1, 1, 1, 1), (0, 0, 0, 0, 1), (0, 0, 0, 1, 0), (1, 0, 1, 1, 1)}\n"
     ]
    }
   ],
   "source": [
    "uniq2x6_5 = finduniques(test2x6,5);\n",
    "print len(uniq2x6_5);\n",
    "print Set([u[1][0][0] for u in uniq2x6_5])"
   ]
  },
  {
   "cell_type": "code",
   "execution_count": 188,
   "metadata": {},
   "outputs": [
    {
     "name": "stdout",
     "output_type": "stream",
     "text": [
      "1328\n",
      "1369\n",
      "14\n",
      "17\n"
     ]
    }
   ],
   "source": [
    "uniq2x6_6 = finduniques(test2x6,6);\n",
    "print len(uniq2x6_6);\n",
    "uniq2x6_7 = finduniques(test2x6,7);\n",
    "print len(uniq2x6_7);\n",
    "print Set([u[1][0][0] for u in uniq2x6_6]).cardinality();\n",
    "print Set([u[1][0][0] for u in uniq2x6_7]).cardinality();"
   ]
  },
  {
   "cell_type": "code",
   "execution_count": 192,
   "metadata": {},
   "outputs": [
    {
     "name": "stdout",
     "output_type": "stream",
     "text": [
      "10296\n"
     ]
    }
   ],
   "source": [
    "test2x10 = bruteforce(2,10);\n",
    "print len(test2x10)"
   ]
  },
  {
   "cell_type": "code",
   "execution_count": 193,
   "metadata": {},
   "outputs": [
    {
     "name": "stdout",
     "output_type": "stream",
     "text": [
      "8125\n",
      "14\n"
     ]
    }
   ],
   "source": [
    "uniq2x10_5 = finduniques(test2x10,5);\n",
    "print len(uniq2x10_5);\n",
    "print Set([u[1][0][0] for u in uniq2x10_5]).cardinality()"
   ]
  },
  {
   "cell_type": "code",
   "execution_count": 211,
   "metadata": {},
   "outputs": [
    {
     "name": "stdout",
     "output_type": "stream",
     "text": [
      " 11\n"
     ]
    }
   ],
   "source": [
    "uniq2x10_4 = finduniques(test2x10,4);\n",
    "print Set([u[1][0][0] for u in uniq2x10_4]).cardinality()"
   ]
  },
  {
   "cell_type": "code",
   "execution_count": 218,
   "metadata": {},
   "outputs": [
    {
     "name": "stdout",
     "output_type": "stream",
     "text": [
      "7999\n",
      "16\n"
     ]
    }
   ],
   "source": [
    "uniq2x10_6 = finduniques(test2x10,6);\n",
    "print len(uniq2x10_6);\n",
    "print Set([u[1][0][0] for u in uniq2x10_6]).cardinality()"
   ]
  },
  {
   "cell_type": "code",
   "execution_count": 233,
   "metadata": {},
   "outputs": [
    {
     "name": "stdout",
     "output_type": "stream",
     "text": [
      "8111\n",
      "19\n"
     ]
    }
   ],
   "source": [
    "uniq2x10_7 = finduniques(test2x10,7);\n",
    "print len(uniq2x10_7);\n",
    "print Set([u[1][0][0] for u in uniq2x10_7]).cardinality()"
   ]
  },
  {
   "cell_type": "code",
   "execution_count": 243,
   "metadata": {},
   "outputs": [
    {
     "name": "stdout",
     "output_type": "stream",
     "text": [
      "116886\n"
     ]
    }
   ],
   "source": [
    "test2x20 = bruteforce(2,20);\n",
    "print len(test2x20)"
   ]
  },
  {
   "cell_type": "code",
   "execution_count": 244,
   "metadata": {},
   "outputs": [
    {
     "name": "stdout",
     "output_type": "stream",
     "text": [
      "102860\n",
      "11\n"
     ]
    }
   ],
   "source": [
    "uniq2x20_4 = finduniques(test2x20,4);\n",
    "print len(uniq2x20_4);\n",
    "print Set([u[1][0][0] for u in uniq2x20_4]).cardinality()"
   ]
  },
  {
   "cell_type": "code",
   "execution_count": 272,
   "metadata": {},
   "outputs": [
    {
     "name": "stdout",
     "output_type": "stream",
     "text": [
      "103434\n",
      "14\n"
     ]
    }
   ],
   "source": [
    "uniq2x20_5 = finduniques(test2x20,5);\n",
    "print len(uniq2x20_5);\n",
    "print Set([u[1][0][0] for u in uniq2x20_5]).cardinality()"
   ]
  },
  {
   "cell_type": "code",
   "execution_count": 4,
   "metadata": {},
   "outputs": [
    {
     "name": "stdout",
     "output_type": "stream",
     "text": [
      "58653\n"
     ]
    }
   ],
   "source": [
    "test3x2 = bruteforce(3,2);\n",
    "print len(test3x2)"
   ]
  },
  {
   "cell_type": "code",
   "execution_count": 6,
   "metadata": {},
   "outputs": [
    {
     "name": "stdout",
     "output_type": "stream",
     "text": [
      "22333\n"
     ]
    }
   ],
   "source": [
    "uniq3x2_6 = finduniques(test3x2,4);\n",
    "print len(uniq3x2_6)"
   ]
  },
  {
   "cell_type": "code",
   "execution_count": 8,
   "metadata": {},
   "outputs": [
    {
     "name": "stdout",
     "output_type": "stream",
     "text": [
      "{(1, 1, 0, 1), (1, 0, 0, 0), (1, 0, 1, 0), (0, 0, 0, 1), (1, 1, 1, 1), (0, 1, 0, 0), (0, 1, 1, 0), (0, 0, 1, 1), (1, 0, 1, 1), (1, 1, 1, 0), (1, 1, 0, 0), (0, 1, 1, 1), (1, 0, 0, 1), (0, 0, 1, 0), (0, 0, 0, 0), (0, 1, 0, 1)}\n"
     ]
    }
   ],
   "source": [
    "str3x2_6 = Set([u[1][0][0] for u in uniq3x2_6]);\n",
    "print str3x2_6"
   ]
  },
  {
   "cell_type": "code",
   "execution_count": 9,
   "metadata": {},
   "outputs": [
    {
     "data": {
      "text/plain": [
       "16"
      ]
     },
     "execution_count": 9,
     "metadata": {},
     "output_type": "execute_result"
    }
   ],
   "source": [
    "len(str3x2_6.list())"
   ]
  },
  {
   "cell_type": "code",
   "execution_count": 10,
   "metadata": {},
   "outputs": [],
   "source": [
    "test3_umats = [u[0] for u in uniq3x2_6];"
   ]
  },
  {
   "cell_type": "code",
   "execution_count": 11,
   "metadata": {},
   "outputs": [
    {
     "name": "stdout",
     "output_type": "stream",
     "text": [
      "19729\n"
     ]
    }
   ],
   "source": [
    "uniqnest3 = finduniques(test3_umats,6);\n",
    "print len(uniqnest3)"
   ]
  },
  {
   "cell_type": "code",
   "execution_count": 13,
   "metadata": {},
   "outputs": [
    {
     "name": "stdout",
     "output_type": "stream",
     "text": [
      "64\n"
     ]
    }
   ],
   "source": [
    "strnest3 = Set([u[1][0][0] for u in uniqnest3]);\n",
    "print len(strnest3.list())"
   ]
  },
  {
   "cell_type": "code",
   "execution_count": null,
   "metadata": {},
   "outputs": [],
   "source": [
    "#implication: every string of length 6 has stochastic complexity\n",
    "#at most 3."
   ]
  },
  {
   "cell_type": "code",
   "execution_count": 37,
   "metadata": {},
   "outputs": [
    {
     "data": {
      "text/plain": [
       "4"
      ]
     },
     "execution_count": 37,
     "metadata": {},
     "output_type": "execute_result"
    }
   ],
   "source": [
    "nfacomplexity([1,1,1,0,0,1])"
   ]
  },
  {
   "cell_type": "code",
   "execution_count": 48,
   "metadata": {},
   "outputs": [
    {
     "name": "stdout",
     "output_type": "stream",
     "text": [
      "[((1, 1, 1, 0, 0, 1), 17/64)]\n"
     ]
    }
   ],
   "source": [
    "A5 = firstwitness(uniqnest3,(1,1,1,0,0,1));\n",
    "listA5 = list_probs(A5,[0,0,1],startfrom=6,upto=7);\n",
    "print highest_prob(listA5)"
   ]
  },
  {
   "cell_type": "code",
   "execution_count": 50,
   "metadata": {},
   "outputs": [
    {
     "name": "stdout",
     "output_type": "stream",
     "text": [
      "17790\n"
     ]
    }
   ],
   "source": [
    "uniqnest4 = finduniques([u[0] for u in uniqnest3],7);\n",
    "print len(uniqnest4)"
   ]
  },
  {
   "cell_type": "code",
   "execution_count": 51,
   "metadata": {},
   "outputs": [
    {
     "name": "stdout",
     "output_type": "stream",
     "text": [
      "109\n"
     ]
    }
   ],
   "source": [
    "strnest4 = Set([u[1][0][0] for u in uniqnest4]);\n",
    "print len(strnest4.list())"
   ]
  },
  {
   "cell_type": "code",
   "execution_count": 104,
   "metadata": {},
   "outputs": [
    {
     "data": {
      "text/plain": [
       "{(1, 1, 0, 1, 1, 1, 0), (0, 1, 0, 1, 1, 0, 0), (1, 0, 1, 0, 0, 0, 1), (1, 1, 0, 0, 1, 1, 1), (1, 1, 0, 1, 0, 0, 0), (0, 1, 1, 1, 0, 0, 0), (0, 1, 0, 0, 0, 1, 1), (1, 1, 1, 0, 0, 0, 0), (1, 1, 0, 0, 0, 1, 0), (0, 0, 1, 0, 1, 1, 0), (0, 0, 1, 1, 0, 0, 0), (0, 1, 0, 0, 1, 1, 0), (1, 1, 0, 0, 1, 0, 0), (1, 1, 0, 0, 1, 0, 1), (1, 0, 1, 1, 1, 0, 0), (1, 0, 0, 1, 1, 0, 1), (1, 0, 0, 0, 1, 0, 1), (0, 0, 0, 1, 1, 0, 0), (0, 0, 1, 1, 1, 0, 1)}"
      ]
     },
     "execution_count": 104,
     "metadata": {},
     "output_type": "execute_result"
    }
   ],
   "source": [
    "l7 = Set(itertools.product([0,1],repeat=7));\n",
    "l7.difference(strnest4) #strings of length 7 NOT witnessed by\n",
    "#this particular sample of auts"
   ]
  },
  {
   "cell_type": "code",
   "execution_count": 56,
   "metadata": {},
   "outputs": [
    {
     "data": {
      "text/plain": [
       "[((1, 1, 0, 1, 1, 1, 0), 4),\n",
       " ((0, 1, 0, 1, 1, 0, 0), 4),\n",
       " ((1, 0, 1, 0, 0, 0, 1), 4),\n",
       " ((1, 1, 0, 0, 1, 1, 1), 4),\n",
       " ((1, 1, 0, 1, 0, 0, 0), 4),\n",
       " ((0, 1, 1, 1, 0, 0, 0), 4),\n",
       " ((0, 1, 0, 0, 0, 1, 1), 4),\n",
       " ((1, 1, 1, 0, 0, 0, 0), 4),\n",
       " ((1, 1, 0, 0, 0, 1, 0), 4),\n",
       " ((0, 0, 1, 0, 1, 1, 0), 4),\n",
       " ((0, 0, 1, 1, 0, 0, 0), 4),\n",
       " ((0, 1, 0, 0, 1, 1, 0), 4),\n",
       " ((1, 1, 0, 0, 1, 0, 0), 4),\n",
       " ((1, 1, 0, 0, 1, 0, 1), 4),\n",
       " ((1, 0, 1, 1, 1, 0, 0), 4),\n",
       " ((1, 0, 0, 1, 1, 0, 1), 4),\n",
       " ((1, 0, 0, 0, 1, 0, 1), 4),\n",
       " ((0, 0, 0, 1, 1, 0, 0), 4),\n",
       " ((0, 0, 1, 1, 1, 0, 1), 4)]"
      ]
     },
     "execution_count": 56,
     "metadata": {},
     "output_type": "execute_result"
    }
   ],
   "source": [
    "[(l,nfacomplexity(l)) for l in l7.difference(strnest4)]"
   ]
  },
  {
   "cell_type": "code",
   "execution_count": 58,
   "metadata": {},
   "outputs": [],
   "source": [
    "sample4 = uniqnest4[1000:3000];"
   ]
  },
  {
   "cell_type": "code",
   "execution_count": 63,
   "metadata": {},
   "outputs": [
    {
     "data": {
      "text/plain": [
       "43"
      ]
     },
     "execution_count": 63,
     "metadata": {},
     "output_type": "execute_result"
    }
   ],
   "source": [
    "len(Set([u[1][0][0] for u in sample4]).list())"
   ]
  },
  {
   "cell_type": "code",
   "execution_count": 64,
   "metadata": {},
   "outputs": [],
   "source": [
    "uniqsample4 = finduniques([u[0] for u in sample4],8);"
   ]
  },
  {
   "cell_type": "code",
   "execution_count": 65,
   "metadata": {},
   "outputs": [
    {
     "name": "stdout",
     "output_type": "stream",
     "text": [
      "49\n"
     ]
    }
   ],
   "source": [
    "strsample4 = Set([u[1][0][0] for u in uniqsample4]);\n",
    "print strsample4.cardinality()"
   ]
  },
  {
   "cell_type": "code",
   "execution_count": 68,
   "metadata": {},
   "outputs": [
    {
     "data": {
      "text/plain": [
       "[\n",
       "[  0   0   1]  [1/2 1/2   0]\n",
       "[1/2 1/2   0]  [  0   0   0]\n",
       "[  0   0   0], [1/2   0 1/2]\n",
       "]"
      ]
     },
     "execution_count": 68,
     "metadata": {},
     "output_type": "execute_result"
    }
   ],
   "source": [
    "firstwitness(uniqsample4,(0, 1, 1, 1, 0, 1, 1, 0))"
   ]
  },
  {
   "cell_type": "code",
   "execution_count": 69,
   "metadata": {},
   "outputs": [
    {
     "data": {
      "text/plain": [
       "[\n",
       "[0 1 0]  [  0   0   1]\n",
       "[1 0 0]  [1/2   0 1/2]\n",
       "[0 0 0], [  0 1/2 1/2]\n",
       "]"
      ]
     },
     "execution_count": 69,
     "metadata": {},
     "output_type": "execute_result"
    }
   ],
   "source": [
    "firstwitness(uniqsample4,(0, 0, 0, 0, 1, 1, 1, 1))"
   ]
  },
  {
   "cell_type": "code",
   "execution_count": 105,
   "metadata": {},
   "outputs": [
    {
     "name": "stdout",
     "output_type": "stream",
     "text": [
      "[[1/2   0 1/2]\n",
      "[1/2 1/2   0]\n",
      "[  0   0   0], [  0   0   1]\n",
      "[  0   0   0]\n",
      "[  0 1/2 1/2]]\n"
     ]
    }
   ],
   "source": [
    "testwit = firstwitness(uniqsample4,(0, 1, 1, 0, 0, 0, 0, 1));\n",
    "print testwit"
   ]
  },
  {
   "cell_type": "code",
   "execution_count": 111,
   "metadata": {},
   "outputs": [],
   "source": [
    "#what does this example (testwit) accept among longer strings?\n",
    "testwitlist = list_probs(testwit,[0,0,1],startfrom=8,upto=15);"
   ]
  },
  {
   "cell_type": "code",
   "execution_count": 79,
   "metadata": {},
   "outputs": [
    {
     "name": "stdout",
     "output_type": "stream",
     "text": [
      "885115\n"
     ]
    }
   ],
   "source": [
    "test3x3 = bruteforce(3,3);\n",
    "print len(test3x3)"
   ]
  },
  {
   "cell_type": "code",
   "execution_count": 94,
   "metadata": {},
   "outputs": [],
   "source": [
    "test3x3sample = test3x3[560000:562000];"
   ]
  },
  {
   "cell_type": "code",
   "execution_count": 95,
   "metadata": {},
   "outputs": [
    {
     "name": "stdout",
     "output_type": "stream",
     "text": [
      "1326\n"
     ]
    }
   ],
   "source": [
    "uniq3x3sample_7 = finduniques(test3x3sample,7);\n",
    "print len(uniq3x3sample_7)"
   ]
  },
  {
   "cell_type": "code",
   "execution_count": 96,
   "metadata": {},
   "outputs": [
    {
     "name": "stdout",
     "output_type": "stream",
     "text": [
      "98\n"
     ]
    }
   ],
   "source": [
    "str3x3sample_7 = Set([u[1][0][0] for u in uniq3x3sample_7]);\n",
    "print str3x3sample_7.cardinality()"
   ]
  },
  {
   "cell_type": "code",
   "execution_count": 101,
   "metadata": {},
   "outputs": [
    {
     "name": "stdout",
     "output_type": "stream",
     "text": [
      "{(0, 1, 0, 0, 1, 1, 0), (0, 1, 0, 1, 1, 0, 0), (1, 1, 0, 0, 1, 0, 1), (1, 1, 0, 0, 1, 1, 1), (1, 0, 0, 1, 1, 0, 1), (1, 0, 0, 0, 1, 0, 1), (0, 0, 1, 0, 1, 1, 0), (0, 0, 0, 1, 1, 0, 0), (0, 0, 1, 1, 1, 0, 1)}\n"
     ]
    }
   ],
   "source": [
    "#these are strings that this sample witnesses of length 7 that\n",
    "#weren't witnessed by the earlier \"nest4\" automata.\n",
    "new3x3sample_7 = str3x3sample_7.intersection(l7.difference(strnest4));\n",
    "print new3x3sample_7"
   ]
  },
  {
   "cell_type": "code",
   "execution_count": 119,
   "metadata": {},
   "outputs": [
    {
     "name": "stdout",
     "output_type": "stream",
     "text": [
      "{(1, 1, 0, 1, 1, 1, 0), (0, 1, 1, 1, 0, 0, 0), (1, 0, 1, 0, 0, 0, 1), (1, 1, 0, 1, 0, 0, 0), (1, 1, 0, 0, 1, 0, 0), (1, 0, 1, 1, 1, 0, 0), (0, 1, 0, 0, 0, 1, 1), (1, 1, 1, 0, 0, 0, 0), (1, 1, 0, 0, 0, 1, 0), (0, 0, 1, 1, 0, 0, 0)}\n"
     ]
    }
   ],
   "source": [
    "#remaining 10 strings of length 7 we haven't witnessed yet\n",
    "target7 = l7.difference(strnest4).difference(str3x3sample_7);\n",
    "print target7"
   ]
  },
  {
   "cell_type": "code",
   "execution_count": 120,
   "metadata": {},
   "outputs": [
    {
     "name": "stdout",
     "output_type": "stream",
     "text": [
      "1228\n"
     ]
    }
   ],
   "source": [
    "test3x3sample2 = test3x3[400000:402000];\n",
    "uniq3x3sample_7_2 = finduniques(test3x3sample2,7);\n",
    "print len(uniq3x3sample_7_2)"
   ]
  },
  {
   "cell_type": "code",
   "execution_count": 121,
   "metadata": {},
   "outputs": [
    {
     "name": "stdout",
     "output_type": "stream",
     "text": [
      "{(1, 1, 0, 1, 1, 1, 0), (1, 1, 0, 0, 0, 1, 0), (1, 0, 1, 1, 1, 0, 0)}\n"
     ]
    }
   ],
   "source": [
    "str3x3sample_7_2 = Set([u[1][0][0] for u in uniq3x3sample_7_2]);\n",
    "print str3x3sample_7_2.intersection(target7)"
   ]
  },
  {
   "cell_type": "code",
   "execution_count": 122,
   "metadata": {},
   "outputs": [
    {
     "name": "stdout",
     "output_type": "stream",
     "text": [
      "{(0, 1, 0, 0, 0, 1, 1), (0, 1, 1, 1, 0, 0, 0), (0, 0, 1, 1, 0, 0, 0), (1, 0, 1, 0, 0, 0, 1), (1, 1, 0, 1, 0, 0, 0), (1, 1, 1, 0, 0, 0, 0), (1, 1, 0, 0, 1, 0, 0)}\n"
     ]
    }
   ],
   "source": [
    "#remaining 7 strings of length 7\n",
    "target7_2 = target7.difference(str3x3sample_7_2);\n",
    "print target7_2"
   ]
  },
  {
   "cell_type": "code",
   "execution_count": 125,
   "metadata": {},
   "outputs": [
    {
     "name": "stdout",
     "output_type": "stream",
     "text": [
      "1160\n"
     ]
    }
   ],
   "source": [
    "test3x3sample3 = test3x3[650000:652000];\n",
    "uniq3x3sample_7_3 = finduniques(test3x3sample3,7);\n",
    "print len(uniq3x3sample_7_3)"
   ]
  },
  {
   "cell_type": "code",
   "execution_count": 126,
   "metadata": {},
   "outputs": [
    {
     "name": "stdout",
     "output_type": "stream",
     "text": [
      "{(1, 0, 1, 0, 0, 0, 1)}\n"
     ]
    }
   ],
   "source": [
    "str3x3sample_7_3 = Set([u[1][0][0] for u in uniq3x3sample_7_3]);\n",
    "print str3x3sample_7_3.intersection(target7_2)"
   ]
  },
  {
   "cell_type": "code",
   "execution_count": 127,
   "metadata": {},
   "outputs": [
    {
     "name": "stdout",
     "output_type": "stream",
     "text": [
      "{(0, 1, 0, 0, 0, 1, 1), (0, 1, 1, 1, 0, 0, 0), (0, 0, 1, 1, 0, 0, 0), (1, 1, 0, 1, 0, 0, 0), (1, 1, 1, 0, 0, 0, 0), (1, 1, 0, 0, 1, 0, 0)}\n"
     ]
    }
   ],
   "source": [
    "#remaining 6 strings of length 7\n",
    "target7_3 = target7_2.difference(str3x3sample_7_3);\n",
    "print target7_3"
   ]
  },
  {
   "cell_type": "code",
   "execution_count": 136,
   "metadata": {},
   "outputs": [
    {
     "name": "stdout",
     "output_type": "stream",
     "text": [
      "1313\n"
     ]
    }
   ],
   "source": [
    "test3x3sample4 = test3x3[390000:392000];\n",
    "uniq3x3sample_7_4 = finduniques(test3x3sample4,7);\n",
    "print len(uniq3x3sample_7_4)"
   ]
  },
  {
   "cell_type": "code",
   "execution_count": 137,
   "metadata": {},
   "outputs": [
    {
     "name": "stdout",
     "output_type": "stream",
     "text": [
      "{(0, 1, 0, 0, 0, 1, 1)}\n"
     ]
    }
   ],
   "source": [
    "str3x3sample_7_4 = Set([u[1][0][0] for u in uniq3x3sample_7_4]);\n",
    "print str3x3sample_7_4.intersection(target7_3)"
   ]
  },
  {
   "cell_type": "code",
   "execution_count": 303,
   "metadata": {},
   "outputs": [
    {
     "name": "stdout",
     "output_type": "stream",
     "text": [
      "{(1, 1, 1, 0, 0, 0, 0), (0, 0, 1, 1, 0, 0, 0), (1, 1, 0, 0, 1, 0, 0), (0, 1, 1, 1, 0, 0, 0), (1, 1, 0, 1, 0, 0, 0)}\n"
     ]
    }
   ],
   "source": [
    "#remaining 5 strings of length 7\n",
    "target7_4 = target7_3.difference(str3x3sample_7_4);\n",
    "print target7_4"
   ]
  },
  {
   "cell_type": "code",
   "execution_count": 305,
   "metadata": {},
   "outputs": [
    {
     "name": "stdout",
     "output_type": "stream",
     "text": [
      "897\n"
     ]
    }
   ],
   "source": [
    "test3x3sample5 = test3x3[501000:503000];\n",
    "uniq3x3sample_7_5 = finduniques(test3x3sample5,7);\n",
    "print len(uniq3x3sample_7_5)"
   ]
  },
  {
   "cell_type": "code",
   "execution_count": 306,
   "metadata": {},
   "outputs": [
    {
     "name": "stdout",
     "output_type": "stream",
     "text": [
      "{(1, 1, 0, 0, 1, 0, 0), (1, 1, 0, 1, 0, 0, 0)}\n"
     ]
    }
   ],
   "source": [
    "str3x3sample_7_5 = Set([u[1][0][0] for u in uniq3x3sample_7_5]);\n",
    "print str3x3sample_7_5.intersection(target7_4)"
   ]
  },
  {
   "cell_type": "code",
   "execution_count": 307,
   "metadata": {},
   "outputs": [
    {
     "name": "stdout",
     "output_type": "stream",
     "text": [
      "{(1, 1, 1, 0, 0, 0, 0), (0, 0, 1, 1, 0, 0, 0), (0, 1, 1, 1, 0, 0, 0)}\n"
     ]
    }
   ],
   "source": [
    "#remaining 3 of length 7\n",
    "target7_5 = target7_4.difference(str3x3sample_7_5);\n",
    "print target7_5"
   ]
  },
  {
   "cell_type": "code",
   "execution_count": 315,
   "metadata": {},
   "outputs": [
    {
     "name": "stdout",
     "output_type": "stream",
     "text": [
      "1136\n"
     ]
    }
   ],
   "source": [
    "test3x3sample6 = test3x3[503000:505000];\n",
    "uniq3x3sample_7_6 = finduniques(test3x3sample6,7);\n",
    "print len(uniq3x3sample_7_6)"
   ]
  },
  {
   "cell_type": "code",
   "execution_count": 317,
   "metadata": {},
   "outputs": [
    {
     "name": "stdout",
     "output_type": "stream",
     "text": [
      "{(0, 1, 1, 1, 0, 0, 0)}\n"
     ]
    }
   ],
   "source": [
    "str3x3sample_7_6 = Set([u[1][0][0] for u in uniq3x3sample_7_6]);\n",
    "print str3x3sample_7_6.intersection(target7_5)"
   ]
  },
  {
   "cell_type": "code",
   "execution_count": 318,
   "metadata": {},
   "outputs": [
    {
     "name": "stdout",
     "output_type": "stream",
     "text": [
      "{(1, 1, 1, 0, 0, 0, 0), (0, 0, 1, 1, 0, 0, 0)}\n"
     ]
    }
   ],
   "source": [
    "#remaining 2 of length 7\n",
    "target7_6 = target7_5.difference(str3x3sample_7_6);\n",
    "print target7_6"
   ]
  },
  {
   "cell_type": "code",
   "execution_count": 330,
   "metadata": {},
   "outputs": [
    {
     "name": "stdout",
     "output_type": "stream",
     "text": [
      "1425\n"
     ]
    }
   ],
   "source": [
    "test3x3sample7 = test3x3[507000:509000];\n",
    "uniq3x3sample_7_7 = finduniques(test3x3sample7,7);\n",
    "print len(uniq3x3sample_7_7)"
   ]
  },
  {
   "cell_type": "code",
   "execution_count": 331,
   "metadata": {},
   "outputs": [
    {
     "name": "stdout",
     "output_type": "stream",
     "text": [
      "{}\n"
     ]
    }
   ],
   "source": [
    "str3x3sample_7_7 = Set([u[1][0][0] for u in uniq3x3sample_7_7]);\n",
    "print str3x3sample_7_7.intersection(target7_6)"
   ]
  },
  {
   "cell_type": "code",
   "execution_count": 336,
   "metadata": {},
   "outputs": [
    {
     "name": "stdout",
     "output_type": "stream",
     "text": [
      "(1, 1, 1, 0, 0, 0, 0) None\n",
      "(0, 0, 1, 1, 0, 0, 0) [[2/3 1/3   0]\n",
      "[  0 2/3 1/3]\n",
      "[2/3   0 1/3], [  1   0   0]\n",
      "[  0   1   0]\n",
      "[1/3   0 2/3]]\n"
     ]
    }
   ],
   "source": [
    "nextsam = test3x3[499000:501000];\n",
    "print target7_6[0],findwitness(nextsam,target7_6[0]);\n",
    "print target7_6[1],findwitness(nextsam,target7_6[1]);"
   ]
  },
  {
   "cell_type": "code",
   "execution_count": 343,
   "metadata": {},
   "outputs": [
    {
     "name": "stdout",
     "output_type": "stream",
     "text": [
      "(1, 1, 1, 0, 0, 0, 0) [[  0   0   1]\n",
      "[  0 1/3 2/3]\n",
      "[2/3   0 1/3], [  0 1/3 2/3]\n",
      "[1/3   0 2/3]\n",
      "[1/3 1/3 1/3]]\n"
     ]
    }
   ],
   "source": [
    "print target7_6[0],findwitness(test3x3[515000:520000],target7_6[0],[1,0,0]);"
   ]
  },
  {
   "cell_type": "code",
   "execution_count": 380,
   "metadata": {},
   "outputs": [
    {
     "name": "stdout",
     "output_type": "stream",
     "text": [
      "(1, 1, 1, 0, 0, 0, 0) [[  0   0   0]\n",
      "[  0 1/3 2/3]\n",
      "[1/3 2/3   0], [2/3   0 1/3]\n",
      "[  0   0   0]\n",
      "[  0 2/3 1/3]]\n"
     ]
    }
   ],
   "source": [
    "print target7_6[0],findwitness(test3x3[600000:700000],target7_6[0]);"
   ]
  },
  {
   "cell_type": "code",
   "execution_count": null,
   "metadata": {},
   "outputs": [],
   "source": [
    "l3 = Set(itertools.product([0,1],repeat=3));\n",
    "for s in l3:\n",
    "    if SC[s] == 2:\n",
    "        print s,findwitness(test2x5,s);\n",
    "        print \"\""
   ]
  },
  {
   "cell_type": "code",
   "execution_count": null,
   "metadata": {},
   "outputs": [],
   "source": [
    "for s in l4:\n",
    "    if SC[s] == 2:\n",
    "        print s,NC[s],findwitness(test2x5,s);\n",
    "        print \"\""
   ]
  },
  {
   "cell_type": "code",
   "execution_count": 95,
   "metadata": {},
   "outputs": [
    {
     "name": "stdout",
     "output_type": "stream",
     "text": [
      "[((1, 1, 0, 1), 4999872502227473875121/5000000000000000000000)]\n",
      "\n",
      "1.99985300317498e-6\n",
      "\n",
      "[((1, 1, 0, 1), 4999872502227473875121/5000000000000000000000), ((0, 0, 0, 1), 249993125148122900011/250000000000000000000), ((0, 1, 1, 1), 99996900056099516001331/100000000000000000000000), ((1, 0, 0, 1), 187500062379377099989/250000000000000000000), ((0, 1, 0, 1), 2500077496625036024879/5000000000000000000000), ((1, 0, 1, 1), 2499925002402468925121/5000000000000000000000), ((1, 1, 1, 0), 2499897502677473875121/5000000000000000000000), ((0, 0, 1, 0), 124994375170622900011/250000000000000000000), ((1, 0, 1, 0), 62501312401877099989/250000000000000000000), ((0, 1, 0, 0), 62497500156872450011/250000000000000000000), ((1, 0, 0, 0), 1562515629374875001/12500000000000000000), ((0, 0, 1, 1), 129996800031074879/5000000000000000000000), ((1, 1, 1, 1), 2199953800375098669/100000000000000000000000), ((0, 1, 1, 0), 102497075036024879/5000000000000000000000), ((0, 0, 0, 0), 234368125124999/12500000000000000000), ((1, 1, 0, 0), 4437388126649989/250000000000000000000)]\n"
     ]
    }
   ],
   "source": [
    "eps = RRR(.00001);\n",
    "eta = RRR(.00000000001);\n",
    "P1 = [Matrix(QQ,[[1-eps,eps],[1/2+eps,1/2-eps]]), Matrix(QQ,[[eps,1-eps],[1-eps/10,eps/10]])];\n",
    "listP1 = list_probs(P1,[0,1],startfrom=4,upto=5);\n",
    "print highest_prob(listP1)\n",
    "print \"\"\n",
    "sortP1 = sortproblist(listP1);\n",
    "print RR(sortP1[0][1] - sortP1[1][1]);\n",
    "print \"\"\n",
    "print sortP1"
   ]
  },
  {
   "cell_type": "code",
   "execution_count": null,
   "metadata": {},
   "outputs": [],
   "source": [
    "sigma = (1,1,0,1);\n",
    "uniqsig = finduniques(test2x6,4);\n",
    "uniqmats = Set([u for u in uniqsig if u[1][0][0] == sigma]);\n",
    "for u in uniqmats:\n",
    "    print u;\n",
    "    print \"\""
   ]
  },
  {
   "cell_type": "code",
   "execution_count": 89,
   "metadata": {},
   "outputs": [
    {
     "name": "stdout",
     "output_type": "stream",
     "text": [
      "[((1, 1, 0, 1), 209351342658110152006727063107329999/321738731022393249110838386650000000)]\n",
      "\n",
      "[((1, 1, 0, 1), 209351342658110152006727063107329999/321738731022393249110838386650000000), ((0, 1, 1, 1), 104155419800991866119551305882453583/160869365511196624555419193325000000), ((0, 0, 0, 1), 7415215796162273211192666845641707304364194355151050722227539767/12421897324787989452513299920734809579317031958620987786700000000), ((1, 0, 0, 1), 187674966398480944936601085659632559/321738731022393249110838386650000000), ((0, 1, 0, 1), 2317092982363811420421890843638948524236069793400482021612697133/4140632441595996484171099973578269859772343986206995928900000000), ((1, 0, 1, 1), 157326189851789163625504495986024999/321738731022393249110838386650000000), ((1, 1, 1, 0), 78132226019707632951719364655041633/160869365511196624555419193325000000), ((0, 0, 1, 0), 1788534245857418317175990786240404248137417818119415911206566739/4140632441595996484171099973578269859772343986206995928900000000), ((1, 0, 1, 0), 1732087868485362653152261154971565871889910559404931105790927683/4140632441595996484171099973578269859772343986206995928900000000), ((0, 1, 0, 0), 1688330940770795202259050166879990612959030656265957790062097389/4140632441595996484171099973578269859772343986206995928900000000), ((1, 0, 0, 0), 1673634456024757145404565542706492809402081767325524733109413539/4140632441595996484171099973578269859772343986206995928900000000), ((0, 0, 0, 0), 208148337358379316127507723546085898200507993079746994931723/517579055199499560521387496697283732471542998275874491112500), ((0, 0, 1, 1), 128019457847232878259465875360723467/321738731022393249110838386650000000), ((0, 1, 1, 0), 816944314750236000266829673999783923436400956175780266274393661/2070316220797998242085549986789134929886171993103497964450000000), ((1, 1, 0, 0), 126801998489044142204830462905639867/321738731022393249110838386650000000), ((1, 1, 1, 1), 485199/12500000)]\n"
     ]
    }
   ],
   "source": [
    "eps = RRR(.01);\n",
    "P2 = [Matrix(QQ,[[2/3-eps,1/3+eps],[1/2+eps,1/2-eps]]), Matrix(QQ,[[eps,1-eps],[1-eps,eps]])];\n",
    "listP2 = list_probs(P2,[0,1],startfrom=4,upto=5);\n",
    "print highest_prob(listP2)\n",
    "print \"\"\n",
    "print sortproblist(listP2)"
   ]
  },
  {
   "cell_type": "code",
   "execution_count": 241,
   "metadata": {},
   "outputs": [
    {
     "name": "stdout",
     "output_type": "stream",
     "text": [
      "{}\n",
      "{(0, 1, 0, 1, 1), (1, 0, 0, 1, 0), (1, 1, 0, 1, 1), (0, 1, 1, 0, 1), (1, 0, 0, 1, 1), (1, 0, 1, 1, 0), (0, 1, 1, 0, 0), (1, 0, 1, 0, 0), (0, 1, 0, 0, 1), (0, 0, 1, 0, 0)}\n"
     ]
    }
   ],
   "source": [
    "l4 = Set(itertools.product([0,1],repeat=4));\n",
    "l5 = Set(itertools.product([0,1],repeat=5));\n",
    "l4_not2 = Set([s for s in SC.keys() if len(s) == 4 and SC[s] > 2]);\n",
    "l5_not2 = Set([s for s in SC.keys() if len(s) == 5 and SC[s] > 2]);\n",
    "print l4_not2 #strings of len 4 not yet known A_S=2\n",
    "print l5_not2 #strings of length 5 not yet known A_S=2\n",
    "#note, there are only 8 str each of len 4 & 5 of A_N<=2."
   ]
  },
  {
   "cell_type": "code",
   "execution_count": 96,
   "metadata": {},
   "outputs": [
    {
     "name": "stdout",
     "output_type": "stream",
     "text": [
      "2 2\n"
     ]
    }
   ],
   "source": [
    "print SC[(1,1,1,0,0,0,0)],SC[(1,1,1,0,0,0,0,0)]"
   ]
  },
  {
   "cell_type": "code",
   "execution_count": 225,
   "metadata": {},
   "outputs": [
    {
     "name": "stdout",
     "output_type": "stream",
     "text": [
      "[[3/4 1/4]\n",
      "[5/8 3/8], [7/8 1/8]\n",
      "[1/4 3/4]]\n"
     ]
    }
   ],
   "source": [
    "#print findwitness(test2x8,(1,1,0,0),[1,0]);\n",
    "print findwitness(test2x8,(1,1,1,0,0,0,0),[1,0]);"
   ]
  },
  {
   "cell_type": "code",
   "execution_count": 366,
   "metadata": {},
   "outputs": [
    {
     "name": "stdout",
     "output_type": "stream",
     "text": [
      "1\n"
     ]
    }
   ],
   "source": [
    "awit = findwitness(test2x8,(1,1,1,0,0,0),[1,0]);\n",
    "if awit != None:\n",
    "    print addonewit(awit,(1,1,1,0,0,0),[1,0])"
   ]
  },
  {
   "cell_type": "code",
   "execution_count": 41,
   "metadata": {},
   "outputs": [
    {
     "name": "stdout",
     "output_type": "stream",
     "text": [
      "128\n"
     ]
    }
   ],
   "source": [
    "test2x2half = copy(test2x2);\n",
    "for mats in test2x2half:\n",
    "    test2x2half.remove(switchmats(mats));\n",
    "print len(test2x2half)"
   ]
  },
  {
   "cell_type": "code",
   "execution_count": 151,
   "metadata": {},
   "outputs": [
    {
     "name": "stdout",
     "output_type": "stream",
     "text": [
      "[(0, 0, 1, 1, 0, 1, 0, 0), (0, 0, 0, 1, 1, 0, 1, 0), (1, 1, 1, 0, 0, 1, 0, 1), (1, 1, 0, 0, 1, 0, 1, 1)]\n"
     ]
    }
   ],
   "source": [
    "print [s for s in lookup(SC,3,8) if len(SW[s])==0 or mindenom(s) > 2]"
   ]
  },
  {
   "cell_type": "code",
   "execution_count": 46,
   "metadata": {},
   "outputs": [],
   "source": [
    "#to fix accidentally having added a wit with vec the wrong shape\n",
    "for s in lookup(SC,3,8):\n",
    "    for w in SW[s]:\n",
    "        if w[1].nrows() != 3:\n",
    "            print s,w,len(SW[s])\n",
    "            #print addonewit(w[0],s,list(w[1].transpose()));\n",
    "            print addonewit_vec(w[0],s,w[1].transpose());\n",
    "            SW[s].remove(w)\n",
    "            print \"\""
   ]
  },
  {
   "cell_type": "code",
   "execution_count": 47,
   "metadata": {},
   "outputs": [
    {
     "name": "stdout",
     "output_type": "stream",
     "text": [
      "(0, 1, 0, 0, 1, 0, 0, 0, 0) 2\n",
      "(0, 1, 0, 0, 0, 0, 0, 0, 1) 2\n",
      "(1, 0, 1, 0, 0, 1, 0, 0, 1) 2\n",
      "(1, 0, 0, 0, 1, 0, 0, 0, 1) 2\n",
      "(1, 0, 0, 1, 0, 0, 0, 1, 0) 2\n",
      "(1, 0, 1, 0, 0, 0, 0, 1, 0) 2\n",
      "(0, 0, 0, 1, 0, 0, 0, 1, 0) 2\n",
      "(0, 1, 1, 1, 1, 1, 0, 1, 0) 2\n",
      "(0, 0, 1, 0, 0, 1, 0, 0, 1) 2\n",
      "(0, 0, 0, 0, 0, 1, 0, 0, 0) 2\n",
      "(1, 0, 1, 0, 0, 0, 0, 0, 0) 2\n",
      "(0, 1, 1, 1, 1, 1, 0, 1, 1) 2\n",
      "(1, 0, 0, 1, 0, 0, 0, 0, 1) 2\n",
      "(0, 1, 0, 1, 0, 0, 1, 0, 0) 2\n",
      "(0, 0, 0, 0, 1, 0, 0, 0, 1) 2\n",
      "(0, 0, 0, 0, 1, 0, 0, 1, 0) 2\n",
      "(0, 0, 0, 0, 1, 0, 0, 0, 0) 2\n",
      "(0, 0, 1, 0, 0, 0, 0, 0, 1) 2\n",
      "(1, 0, 0, 0, 1, 0, 0, 0, 0) 2\n",
      "(0, 0, 1, 1, 1, 1, 1, 0, 1) 2\n",
      "(0, 0, 1, 0, 1, 0, 1, 0, 0) 2\n",
      "(1, 0, 0, 0, 0, 1, 0, 0, 0) 2\n",
      "(0, 1, 0, 0, 0, 0, 0, 1, 1) 2\n",
      "(0, 0, 1, 0, 0, 0, 1, 0, 0) 2\n",
      "(1, 0, 0, 0, 0, 0, 1, 1, 0) 2\n",
      "(0, 0, 1, 0, 0, 1, 0, 0, 0) 2\n"
     ]
    }
   ],
   "source": [
    "#make sure the bitflip of every string also has a witness\n",
    "for s in l9:\n",
    "    if len(SW[s])>0 and len(SW[flip(s)])==0:\n",
    "        m = SW[s][0][0];\n",
    "        f = SW[s][0][1];\n",
    "        print flip(s),addonewit_vec(switchmats(m),flip(s),f);"
   ]
  },
  {
   "cell_type": "code",
   "execution_count": 215,
   "metadata": {
    "scrolled": false
   },
   "outputs": [
    {
     "name": "stdout",
     "output_type": "stream",
     "text": [
      "10\r"
     ]
    }
   ],
   "source": [
    "c = 0;\n",
    "for s in lookup(SC,3,5):\n",
    "#for s in notmatching:\n",
    "#for s in lookup(SC,3,8):\n",
    "#for s in singles:\n",
    "    #if len(SW[s]) > 0:# or mindenom(s) > 2:\n",
    "    #    continue;\n",
    "    if len(s) < 5 or SC[s] == 2:\n",
    "        continue;\n",
    "    c = c + 1;\n",
    "    if c < 0:\n",
    "        continue;\n",
    "    if c > 50:\n",
    "        break;\n",
    "    sys.stdout.write(\"%d\\r\" % (c) );\n",
    "    f = [1,0];\n",
    "    wits = findwitness(test2x29[100500:500000:89],s,f);\n",
    "    if wits != None:\n",
    "        print s,wits,addonewit(wits,s,f);\n",
    "        print \"\";\n",
    "        print flip(s),switchmats(wits),addonewit(switchmats(wits),flip(s),f);\n",
    "        print \"\";"
   ]
  },
  {
   "cell_type": "code",
   "execution_count": 191,
   "metadata": {},
   "outputs": [],
   "source": [
    "savewits()"
   ]
  },
  {
   "cell_type": "code",
   "execution_count": 190,
   "metadata": {},
   "outputs": [
    {
     "name": "stdout",
     "output_type": "stream",
     "text": [
      "(1, 1, 0, 0, 0, 1, 1, 0, 0) [[1/3 1/3 1/3]\n",
      "[  0 1/3 2/3]\n",
      "[1/3   0 2/3], [1/3 2/3   0]\n",
      "[  0 2/3 1/3]\n",
      "[  1   0   0]] 2\n",
      "\n",
      "(0, 0, 1, 1, 1, 0, 0, 1, 1) [[1/3 2/3   0]\n",
      "[  0 2/3 1/3]\n",
      "[  1   0   0], [1/3 1/3 1/3]\n",
      "[  0 1/3 2/3]\n",
      "[1/3   0 2/3]] 2\n",
      "\n",
      "(0, 1, 0, 0, 0, 1, 1, 0, 1) [[2/3 1/3   0]\n",
      "[  0 1/3 2/3]\n",
      "[2/3   0 1/3], [  0 1/3 2/3]\n",
      "[  0 1/3 2/3]\n",
      "[  1   0   0]] 2\n",
      "\n",
      "(1, 0, 1, 1, 1, 0, 0, 1, 0) [[  0 1/3 2/3]\n",
      "[  0 1/3 2/3]\n",
      "[  1   0   0], [2/3 1/3   0]\n",
      "[  0 1/3 2/3]\n",
      "[2/3   0 1/3]] 2\n",
      "\n",
      "(1, 0, 0, 1, 1, 1, 0, 0, 1) [[  0 1/3 2/3]\n",
      "[2/3 1/3   0]\n",
      "[  0 2/3 1/3], [1/3   0 2/3]\n",
      "[  0 1/3 2/3]\n",
      "[  1   0   0]] 2\n",
      "\n",
      "(0, 1, 1, 0, 0, 0, 1, 1, 0) [[1/3   0 2/3]\n",
      "[  0 1/3 2/3]\n",
      "[  1   0   0], [  0 1/3 2/3]\n",
      "[2/3 1/3   0]\n",
      "[  0 2/3 1/3]] 2\n",
      "\n",
      "(0, 1, 0, 0, 1, 1, 0, 1, 1) [[2/3 1/3   0]\n",
      "[1/3 1/3 1/3]\n",
      "[1/3   0 2/3], [  0 2/3 1/3]\n",
      "[1/3   0 2/3]\n",
      "[2/3 1/3   0]] 2\n",
      "\n",
      "(1, 0, 1, 1, 0, 0, 1, 0, 0) [[  0 2/3 1/3]\n",
      "[1/3   0 2/3]\n",
      "[2/3 1/3   0], [2/3 1/3   0]\n",
      "[1/3 1/3 1/3]\n",
      "[1/3   0 2/3]] 2\n",
      "\n",
      "50\r"
     ]
    }
   ],
   "source": [
    "#really inefficient (for larger sets of strings)\n",
    "c = 0;\n",
    "for s in l9.difference(lookup(SC,2,9,less=True)):\n",
    "    if len(SW[s]) > 0:\n",
    "        continue;\n",
    "    c = c + 1;\n",
    "    if c < 0:\n",
    "        continue;\n",
    "    if c > 50:\n",
    "        break;\n",
    "    sys.stdout.write(\"%d\\r\" % (c) );\n",
    "    f = [0,0,1];\n",
    "    #wits = findwitness(test3x2[1::100],s,f);\n",
    "    wits = findwitness(test3x3[269500:450000:91],s,f);\n",
    "    #wits = findwitness(test2x15[::13],s,f);\n",
    "    if wits != None:\n",
    "        print s,wits,addonewit(wits,s,f);\n",
    "        print \"\";\n",
    "        print flip(s),switchmats(wits),addonewit(switchmats(wits),flip(s),f);\n",
    "        print \"\";"
   ]
  },
  {
   "cell_type": "code",
   "execution_count": 210,
   "metadata": {},
   "outputs": [],
   "source": [
    "sig = (0, 0, 1, 0, 0, 0, 0);\n",
    "f = [0,1];\n",
    "awit = findwitness(test2x20,sig,f);\n",
    "if awit != None:\n",
    "    print addonewit(awit,sig,f)\n",
    "#no 2-state witnesses with s=20:\n",
    "#(1,0,0,1,0,0)\n",
    "#(0, 0, 1, 0, 0, 0, 0)\n",
    "#with s=10:\n",
    "#(0, 1, 1, 1, 0, 1, 1, 1)"
   ]
  },
  {
   "cell_type": "code",
   "execution_count": 182,
   "metadata": {},
   "outputs": [
    {
     "name": "stdout",
     "output_type": "stream",
     "text": [
      "3 (1, 0, 0) 2 2 flip 2 2\n",
      "2 (1, 0) 2 2 flip 2 2\n",
      "5 (1, 0, 0, 0, 0) 2 2 flip 2 2\n",
      "7 (1, 0, 0, 0, 0, 0, 0) 2 2 flip 2 2\n",
      "9 (1, 0, 0, 0, 0, 0, 0, 0, 0) 2 2 flip 2 2\n",
      "10 (1, 0, 0, 0, 0, 0, 0, 0, 0, 0) 2 2 flip 2 2\n",
      "6 (1, 0, 0, 0, 0, 0) 2 2 flip 2 2\n",
      "4 (1, 0, 0, 0) 2 2 flip 2 2\n",
      "8 (1, 0, 0, 0, 0, 0, 0, 0) 2 2 flip 2 2\n",
      "\n",
      "5 (0, 1, 0, 0, 0) 2 3 flip 2 3\n",
      "10 (0, 1, 0, 0, 0, 0, 0, 0, 0, 0) 2 3 flip 2 3\n",
      "8 (0, 1, 0, 0, 0, 0, 0, 0) 2 3 flip 2 3\n",
      "3 (0, 1, 0) 2 2 flip 2 2\n",
      "9 (0, 1, 0, 0, 0, 0, 0, 0, 0) 2 3 flip 2 3\n",
      "6 (0, 1, 0, 0, 0, 0) 2 3 flip 2 3\n",
      "2 (0, 1) 2 2 flip 2 2\n",
      "4 (0, 1, 0, 0) 2 3 flip 2 3\n",
      "7 (0, 1, 0, 0, 0, 0, 0) 2 3 flip 2 3\n",
      "\n",
      "9 (0, 0, 1, 0, 0, 0, 0, 0, 0) 3 4 flip 3 4\n",
      "5 (0, 0, 1, 0, 0) 3 3 flip 3 3\n",
      "4 (0, 0, 1, 0) 2 3 flip 2 3\n",
      "6 (0, 0, 1, 0, 0, 0) 3 4 flip 3 4\n",
      "8 (0, 0, 1, 0, 0, 0, 0, 0) 3 4 flip 3 4\n",
      "3 (0, 0, 1) 2 2 flip 2 2\n",
      "7 (0, 0, 1, 0, 0, 0, 0) 3 4 flip 3 4\n",
      "\n",
      "9 (0, 0, 0, 1, 0, 0, 0, 0, 0) 3 5 flip 3 5\n",
      "6 (0, 0, 0, 1, 0, 0) 3 4 flip 3 4\n",
      "4 (0, 0, 0, 1) 2 2 flip 2 2\n",
      "8 (0, 0, 0, 1, 0, 0, 0, 0) 3 5 flip 3 5\n",
      "5 (0, 0, 0, 1, 0) 2 3 flip 2 3\n",
      "7 (0, 0, 0, 1, 0, 0, 0) 3 4 flip 3 4\n",
      "\n",
      "7 (0, 0, 0, 0, 1, 0, 0) 3 4 flip 3 4\n",
      "8 (0, 0, 0, 0, 1, 0, 0, 0) 3 5 flip 3 5\n",
      "5 (0, 0, 0, 0, 1) 2 2 flip 2 2\n",
      "6 (0, 0, 0, 0, 1, 0) 2 3 flip 2 3\n",
      "\n",
      "7 (0, 0, 0, 0, 0, 1, 0) 2 3 flip 2 3\n",
      "8 (0, 0, 0, 0, 0, 1, 0, 0) 3 4 flip 3 4\n",
      "6 (0, 0, 0, 0, 0, 1) 2 2 flip 2 2\n",
      "\n",
      "7 (0, 0, 0, 0, 0, 0, 1) 2 2 flip 2 2\n",
      "8 (0, 0, 0, 0, 0, 0, 1, 0) 2 3 flip 2 3\n",
      "9 (0, 0, 0, 0, 0, 0, 1, 0, 0) 3 4 flip 3 4\n",
      "\n",
      "9 (0, 0, 0, 0, 0, 0, 0, 1, 0) 2 3 flip 2 3\n",
      "8 (0, 0, 0, 0, 0, 0, 0, 1) 2 2 flip 2 2\n",
      "\n",
      "9 (0, 0, 0, 0, 0, 0, 0, 0, 1) 2 2 flip 2 2\n",
      "\n",
      "10 (0, 0, 0, 0, 0, 0, 0, 0, 0, 1) 2 2 flip 2 2\n",
      "\n",
      "\n"
     ]
    }
   ],
   "source": [
    "singles = [k for k in SC.keys() if sum(k) == 1 and len(k) < 11];\n",
    "for i in range(11):\n",
    "    for k in [k for k in singles if len(k)>i and k[i]==1]:\n",
    "        print len(k),k,SC[k],NC[k],\"flip\",SC[flip(k)],NC[flip(k)];\n",
    "    print \"\""
   ]
  },
  {
   "cell_type": "code",
   "execution_count": 38,
   "metadata": {},
   "outputs": [
    {
     "data": {
      "text/plain": [
       "[]"
      ]
     },
     "execution_count": 38,
     "metadata": {},
     "output_type": "execute_result"
    }
   ],
   "source": [
    "[w[0] for w in SW[(0,1,0,0)] if isactualaut(w[0]) == True]"
   ]
  },
  {
   "cell_type": "code",
   "execution_count": 44,
   "metadata": {},
   "outputs": [],
   "source": [
    "for k in SC.keys():\n",
    "    if NC.has_key(k) == False:\n",
    "        continue;\n",
    "    if SC[k] > NC[k]:# and 4<len(k)<8:\n",
    "        print k,SC[k],NC[k];"
   ]
  },
  {
   "cell_type": "code",
   "execution_count": 45,
   "metadata": {},
   "outputs": [
    {
     "name": "stdout",
     "output_type": "stream",
     "text": [
      "(1, 0, 1, 1, 0) 3\n",
      "(1, 0, 0, 1, 0) 3\n",
      "(1, 0) 2\n",
      "(1, 1, 0) 2\n",
      "(0, 1, 1) 2\n",
      "(1, 0, 1) 2\n",
      "(0, 1, 1, 0, 0) 3\n",
      "(0, 1, 0) 2\n",
      "(0, 1, 0, 0, 1) 3\n",
      "(0, 1, 0, 1, 1) 3\n",
      "(1, 0, 1, 0, 0) 3\n",
      "(1, 0, 0, 1, 1) 3\n",
      "(0, 0, 1, 0, 0) 3\n",
      "(1, 1, 0, 1, 1) 3\n",
      "(0, 1) 2\n",
      "(0, 1, 1, 0, 1) 3\n",
      "(0, 0, 1) 2\n",
      "(1, 0, 0) 2\n"
     ]
    }
   ],
   "source": [
    "for k in SC.keys():\n",
    "    if SC[k] == floor(len(k)/2) + 1:\n",
    "        print k,SC[k];"
   ]
  },
  {
   "cell_type": "code",
   "execution_count": 331,
   "metadata": {},
   "outputs": [
    {
     "name": "stdout",
     "output_type": "stream",
     "text": [
      "{(1, 1, 0, 1, 1, 0), (0, 1, 0, 0, 1, 0), (1, 1, 0, 0, 1, 1), (1, 0, 1, 0, 1, 1), (0, 0, 1, 0, 0, 1), (0, 1, 1, 0, 1, 1), (0, 0, 1, 1, 0, 0), (0, 1, 0, 1, 0, 0), (1, 0, 0, 0, 1, 1), (1, 0, 1, 1, 0, 1), (0, 1, 1, 1, 0, 0), (1, 0, 0, 1, 0, 0)}\n"
     ]
    }
   ],
   "source": [
    "print lookup(SC,3,6).intersection(lookup(NC,3,6))"
   ]
  },
  {
   "cell_type": "code",
   "execution_count": 43,
   "metadata": {},
   "outputs": [
    {
     "name": "stdout",
     "output_type": "stream",
     "text": [
      "0\n"
     ]
    }
   ],
   "source": [
    "notmatching = [s for s in SC.keys() if SC.has_key(flip(s))==True and SC[s] > SC[flip(s)]];\n",
    "print len(notmatching)"
   ]
  },
  {
   "cell_type": "code",
   "execution_count": 41,
   "metadata": {},
   "outputs": [
    {
     "name": "stdout",
     "output_type": "stream",
     "text": [
      "(1, 0, 0, 0, 0, 0, 0, 1, 0) 4 (0, 1, 1, 1, 1, 1, 1, 0, 1) 3\n"
     ]
    }
   ],
   "source": [
    "for s in notmatching:\n",
    "    print s,SC[s],flip(s),SC[flip(s)]"
   ]
  },
  {
   "cell_type": "code",
   "execution_count": 42,
   "metadata": {},
   "outputs": [
    {
     "name": "stdout",
     "output_type": "stream",
     "text": [
      "(1, 0, 0, 0, 0, 0, 0, 1, 0)\n",
      "2\n"
     ]
    }
   ],
   "source": [
    "#to fix witnesses for notmatching (ONLY RUN ONCE!)\n",
    "for s in notmatching:\n",
    "    print s;\n",
    "    SW[s] = [];\n",
    "    m = SW[flip(s)][0][0];\n",
    "    f = SW[flip(s)][0][1];\n",
    "    print addonewit_vec(switchmats(m),s,f)"
   ]
  },
  {
   "cell_type": "code",
   "execution_count": 46,
   "metadata": {},
   "outputs": [
    {
     "name": "stdout",
     "output_type": "stream",
     "text": [
      "3681\n",
      "{(0, 0, 0, 0, 1, 1, 1, 1, 1)}\n"
     ]
    }
   ],
   "source": [
    "uniq2x8_9 = finduniques(test2x8,9);\n",
    "print len(uniq2x8_9);\n",
    "print Set([u[1][0][0] for u in uniq2x8_9]).difference(Set([k for k in SC.keys() if len(k) == 9 and SC[k] < 3]))"
   ]
  },
  {
   "cell_type": "code",
   "execution_count": 89,
   "metadata": {},
   "outputs": [
    {
     "name": "stdout",
     "output_type": "stream",
     "text": [
      "1477\n",
      "{(1, 1, 1, 1, 1, 1, 1, 0, 0), (0, 1, 0, 0, 0, 0, 0, 0, 0), (1, 1, 0, 0, 0, 0, 0, 0, 0), (1, 1, 1, 0, 0, 0, 0, 0, 0), (0, 0, 0, 0, 0, 0, 1, 1, 1), (1, 1, 1, 1, 0, 1, 0, 1, 0), (1, 1, 0, 1, 0, 1, 0, 1, 0), (1, 1, 1, 1, 0, 0, 0, 0, 0), (0, 0, 0, 0, 0, 1, 1, 1, 0), (0, 0, 0, 1, 1, 1, 1, 1, 0)}\n"
     ]
    }
   ],
   "source": [
    "uniq2x6_9_bw = finduniques(test2x6,9,[1,0]);\n",
    "print len(uniq2x6_9_bw);\n",
    "print Set([u[1][0][0] for u in uniq2x6_9_bw]).difference(Set([k for k in SC.keys() if len(k) == 9 and SC[k] < 3]))"
   ]
  },
  {
   "cell_type": "code",
   "execution_count": 131,
   "metadata": {},
   "outputs": [
    {
     "name": "stdout",
     "output_type": "stream",
     "text": [
      "8361\n",
      "{(1, 1, 1, 1, 1, 0, 1, 0, 1), (1, 1, 1, 1, 1, 1, 0, 1, 0), (1, 0, 0, 0, 0, 0, 0, 0, 0), (1, 1, 1, 1, 1, 1, 0, 0, 0), (1, 1, 1, 1, 1, 0, 0, 0, 0), (1, 1, 1, 0, 1, 0, 1, 0, 1)}\n"
     ]
    }
   ],
   "source": [
    "#already tried with f=[0,1]\n",
    "uniq2x10_9_bw = finduniques(test2x10,9,[1,0]);\n",
    "print len(uniq2x10_9_bw);\n",
    "print Set([u[1][0][0] for u in uniq2x10_9_bw]).difference(Set([k for k in SC.keys() if len(k) == 9 and SC[k] < 3]))"
   ]
  },
  {
   "cell_type": "code",
   "execution_count": 356,
   "metadata": {},
   "outputs": [
    {
     "name": "stdout",
     "output_type": "stream",
     "text": [
      "3030\n",
      "{}\n"
     ]
    }
   ],
   "source": [
    "uniq2x6_8_bw = finduniques(test2x6,8,[1,0]);\n",
    "print len(uniq2x6_8_bw);\n",
    "print Set([u[1][0][0] for u in uniq2x6_8_bw]).difference(Set([k for k in SC.keys() if len(k) == 8 and SC[k] < 3]))"
   ]
  },
  {
   "cell_type": "code",
   "execution_count": 357,
   "metadata": {},
   "outputs": [],
   "source": [
    "addwits(uniq2x6_8_bw,[1,0])"
   ]
  },
  {
   "cell_type": "code",
   "execution_count": 240,
   "metadata": {},
   "outputs": [
    {
     "name": "stdout",
     "output_type": "stream",
     "text": [
      "8467\n",
      "{(0, 0, 1, 0, 1, 0, 1, 0), (1, 1, 1, 1, 1, 0, 0, 0), (1, 1, 1, 1, 1, 1, 0, 0)}\n"
     ]
    }
   ],
   "source": [
    "uniq2x10_8_bw = finduniques(test2x10,8,[1,0]);\n",
    "print len(uniq2x10_8_bw);\n",
    "print Set([u[1][0][0] for u in uniq2x10_8_bw]).difference(Set([k for k in SC.keys() if len(k) == 8 and SC[k] < 3]))"
   ]
  },
  {
   "cell_type": "code",
   "execution_count": null,
   "metadata": {},
   "outputs": [],
   "source": [
    "uniq2x10_7_bw = finduniques(test2x10,7,[1,0]);\n",
    "print len(uniq2x10_7_bw);\n",
    "print Set([u[1][0][0] for u in uniq2x10_7_bw]).difference(Set([k for k in SC.keys() if len(k) == 7 and SC[k] < 3]))"
   ]
  },
  {
   "cell_type": "code",
   "execution_count": 443,
   "metadata": {},
   "outputs": [
    {
     "name": "stdout",
     "output_type": "stream",
     "text": [
      "74\n",
      "{(0, 1, 1, 1, 1, 1, 1, 1), (1, 1, 1, 1, 1, 1, 1, 1), (1, 1, 1, 1, 1, 1, 1, 0), (0, 0, 0, 0, 0, 0, 0, 0), (1, 0, 0, 0, 0, 0, 0, 0), (0, 0, 0, 0, 0, 0, 0, 1), (1, 0, 1, 0, 1, 0, 1, 0), (0, 1, 0, 1, 0, 1, 0, 1)}\n",
      "38\n"
     ]
    }
   ],
   "source": [
    "uniq2x2_8 = finduniques(test2x2,8);\n",
    "print len(uniq2x2_8);\n",
    "print Set([u[1][0][0] for u in uniq2x2_8])\n",
    "print addwits(uniq2x2_8)"
   ]
  },
  {
   "cell_type": "code",
   "execution_count": 320,
   "metadata": {},
   "outputs": [
    {
     "name": "stdout",
     "output_type": "stream",
     "text": [
      "690\n",
      "{}\n"
     ]
    }
   ],
   "source": [
    "#uniq2x4_10 = finduniques(test2x4,10);\n",
    "print len(uniq2x4_10);\n",
    "print Set([u[1][0][0] for u in uniq2x4_10]).difference(Set([k for k in SC.keys() if len(k) == 10 and SC[k] < 3]))"
   ]
  },
  {
   "cell_type": "code",
   "execution_count": 105,
   "metadata": {},
   "outputs": [
    {
     "name": "stdout",
     "output_type": "stream",
     "text": [
      "3\n",
      "1014\n"
     ]
    }
   ],
   "source": [
    "print len([k for k in SW.keys() if len(SW[k]) == 0 and SC.has_key(k) and SC[k] > 1]);\n",
    "print len([k for k in SW.keys() if len(SW[k]) > 0]);"
   ]
  },
  {
   "cell_type": "code",
   "execution_count": 25,
   "metadata": {},
   "outputs": [
    {
     "name": "stdout",
     "output_type": "stream",
     "text": [
      "28\n"
     ]
    }
   ],
   "source": [
    "#uniq1 = finduniques(test3x3[101000:102000],6,[1,0,0]);\n",
    "f1 = [0,0,1];\n",
    "#uniq1 = finduniques(test2x29[203000:350000:47],5,f1);\n",
    "uniq1 = finduniques(test3,9,f1);\n",
    "print len(uniq1)\n",
    "#print Set([u[1][0][0] for u in uniq1]).difference(lookup(SC,3,less=True)).cardinality()"
   ]
  },
  {
   "cell_type": "code",
   "execution_count": 28,
   "metadata": {},
   "outputs": [
    {
     "name": "stdout",
     "output_type": "stream",
     "text": [
      "2\n"
     ]
    }
   ],
   "source": [
    "#print addwits(uniq1,f1);\n",
    "#only bother adding witnesses if we don't already have one\n",
    "c = 0;\n",
    "for u in uniq1:\n",
    "    s = u[1][0][0];\n",
    "    if not SW.has_key(s) or not SC.has_key(s) or SC[s] > u[0][0].nrows() or len(SW[s]) == 0:\n",
    "        c = c + addonewit(u[0],s,f1);\n",
    "print c"
   ]
  },
  {
   "cell_type": "code",
   "execution_count": 26,
   "metadata": {},
   "outputs": [
    {
     "name": "stdout",
     "output_type": "stream",
     "text": [
      "(1, 1, 1, 1, 1, 1, 1, 0, 0) 2 3\n",
      "(0, 0, 0, 0, 0, 0, 0, 0, 0) 1 1\n",
      "(0, 1, 1, 1, 1, 1, 1, 0, 0) 3 4\n",
      "(1, 1, 1, 1, 1, 1, 1, 1, 0) 2 2\n",
      "(0, 0, 0, 0, 0, 0, 0, 0, 1) 2 2\n",
      "(1, 1, 1, 1, 1, 1, 1, 1, 1) 1 1\n",
      "(0, 1, 1, 1, 1, 1, 0, 0, 1) n/a 4\n",
      "(0, 1, 1, 1, 1, 1, 1, 1, 1) 2 2\n",
      "(0, 0, 0, 0, 0, 0, 0, 1, 1) 2 3\n",
      "(1, 0, 1, 0, 1, 0, 1, 0, 1) 2 2\n",
      "(0, 0, 0, 0, 0, 0, 1, 1, 0) 2 4\n"
     ]
    }
   ],
   "source": [
    "for s in Set([u[1][0][0] for u in uniq1]):\n",
    "    if SC.has_key(s):\n",
    "        print s,SC[s],NC[s];\n",
    "    else:\n",
    "        print s,\"n/a\",NC[s];"
   ]
  },
  {
   "cell_type": "code",
   "execution_count": 29,
   "metadata": {},
   "outputs": [],
   "source": [
    "savewits()"
   ]
  },
  {
   "cell_type": "code",
   "execution_count": null,
   "metadata": {},
   "outputs": [],
   "source": [
    "print [len(SW[k]) for k in lookup(SC,2,10)]\n",
    "print lookup(SC,2,10)"
   ]
  },
  {
   "cell_type": "code",
   "execution_count": null,
   "metadata": {},
   "outputs": [],
   "source": [
    "[(k,SW[k][0],maxdenom(SW[k][0][0])) for k in lookup(SC,2,4) if len(SW[k]) > 0]"
   ]
  },
  {
   "cell_type": "code",
   "execution_count": 302,
   "metadata": {},
   "outputs": [
    {
     "name": "stdout",
     "output_type": "stream",
     "text": [
      "[((1, 0, 0, 0), 390640623000074999/1250000000000000000)]\n",
      "\n",
      "1/100000 1/20\n",
      "[((1, 0, 0, 0), 390640623000074999/1250000000000000000), ((0, 0, 0, 0), 3906265621875074999/12500000000000000000), ((1, 0, 0, 1), 78113124000054999/250000000000000000), ((0, 0, 0, 1), 781103122875054999/2500000000000000000), ((0, 0, 1, 0), 468840620750049999/2500000000000000000), ((1, 0, 1, 0), 46881249125049999/250000000000000000), ((1, 1, 0, 0), 46880624500044999/250000000000000000), ((0, 0, 1, 1), 93749371275024999/500000000000000000), ((0, 1, 0, 0), 468721876749999999/2500000000000000000), ((1, 0, 1, 1), 9374374650024999/50000000000000000), ((1, 1, 0, 1), 9374374650024999/50000000000000000), ((0, 1, 0, 1), 93726875999979999/500000000000000000), ((1, 1, 1, 0), 3126875350014999/50000000000000000), ((0, 1, 1, 0), 31263126249969999/500000000000000000), ((1, 1, 1, 1), 625249999989999/10000000000000000), ((0, 1, 1, 1), 6251374774944999/100000000000000000)]\n"
     ]
    }
   ],
   "source": [
    "#sigma=1000 test\n",
    "eps1 = QQ(.00001);\n",
    "eta = eps1*5000\n",
    "P3 = [Matrix(QQ,[[1/2+eps1,1/2-eps1],[1-eps1,eps1]]), Matrix(QQ,[[1/2+10*eps1,1/2-10*eps1],[0,0]])];\n",
    "listP3 = list_probs(P3,[0,1],startfrom=4,upto=5);\n",
    "print highest_prob(listP3)\n",
    "print \"\"\n",
    "print eps1,eta\n",
    "print sortproblist(listP3)"
   ]
  },
  {
   "cell_type": "code",
   "execution_count": null,
   "metadata": {},
   "outputs": [],
   "source": [
    "[(k,firstwitdenom(k,2)) for k in lookup(SC,2) if len(SW[k])>0 and NC[k] > 2 and firstwitdenom(k,2) != None]"
   ]
  },
  {
   "cell_type": "code",
   "execution_count": 234,
   "metadata": {},
   "outputs": [
    {
     "data": {
      "text/plain": [
       "4"
      ]
     },
     "execution_count": 234,
     "metadata": {},
     "output_type": "execute_result"
    }
   ],
   "source": [
    "NC[(0, 1, 1, 1, 1, 1, 1, 1, 0, 0)]"
   ]
  },
  {
   "cell_type": "code",
   "execution_count": 10,
   "metadata": {},
   "outputs": [
    {
     "data": {
      "text/plain": [
       "[(\n",
       "[[  0   1]           \n",
       "[1/2 1/2], [0 0]  [1]\n",
       "[0 1]]          , [0]\n",
       "),\n",
       " (\n",
       "[[  0   1]               \n",
       "[1/2 1/2], [1/2 1/2]  [1]\n",
       "[  0   1]]          , [0]\n",
       ")]"
      ]
     },
     "execution_count": 10,
     "metadata": {},
     "output_type": "execute_result"
    }
   ],
   "source": [
    "witsdenom((0, 1, 1, 1, 1, 1, 1, 1, 0),2)"
   ]
  },
  {
   "cell_type": "code",
   "execution_count": null,
   "metadata": {},
   "outputs": [],
   "source": [
    "[(k,NC[k],SW[k][0]) for k in SW.keys() if len(k) == 10 and len(SW[k]) > 0 and NC[k] > 2]"
   ]
  },
  {
   "cell_type": "code",
   "execution_count": 333,
   "metadata": {},
   "outputs": [],
   "source": [
    "#test 2x2 normal form schematic combos\n",
    "eps = var('eps');\n",
    "rows = [(0,0),(1-eps,eps),(eps,1-eps),(1/2+eps,1/2-eps),(1/2-eps,1/2+eps)];\n",
    "mats = Tuples(rows,2).list();\n",
    "mats2 = Tuples(mats,2).list();\n",
    "nf2x2 = [];\n",
    "for P in mats2:\n",
    "    nf2x2.append([Matrix(P[0]),Matrix(P[1])]);"
   ]
  },
  {
   "cell_type": "code",
   "execution_count": null,
   "metadata": {},
   "outputs": [],
   "source": [
    "epses1 = [[1/100,1/100],[1/100,1/100]];\n",
    "nf2x2_100 = [];\n",
    "for P in nf2x2:\n",
    "    nf2x2_100.append(matsub(P,epses1));\n",
    "uniqnf2x2_100 = finduniques(nf2x2_100,5,[1,0]);\n",
    "print len(uniqnf2x2_100)\n",
    "print [u for u in uniqnf2x2_100 if SC[u[1][0][0]] > 2]"
   ]
  },
  {
   "cell_type": "code",
   "execution_count": 403,
   "metadata": {},
   "outputs": [
    {
     "name": "stdout",
     "output_type": "stream",
     "text": [
      "{(0, 0, 0, 0, 0), (1, 1, 1, 1, 1)}\n"
     ]
    }
   ],
   "source": [
    "print Set([u[1][0][0] for u in uniqnf2x2_100]).difference(lookup(SC,2))"
   ]
  },
  {
   "cell_type": "code",
   "execution_count": 104,
   "metadata": {},
   "outputs": [
    {
     "data": {
      "text/plain": [
       "3"
      ]
     },
     "execution_count": 104,
     "metadata": {},
     "output_type": "execute_result"
    }
   ],
   "source": [
    "len([k for k in SW.keys() if SC.has_key(k) and SC[k] == 3 and len(SW[k]) == 0])"
   ]
  },
  {
   "cell_type": "code",
   "execution_count": 227,
   "metadata": {},
   "outputs": [
    {
     "name": "stdout",
     "output_type": "stream",
     "text": [
      "(0, 0, 0, 1) 2 300\n",
      "([[1 0]\n",
      "[0 0], [2/3 1/3]\n",
      "[  0   0]], [0]\n",
      "[1])\n",
      "\n",
      "(0, 0, 1, 1) 3 2\n",
      "([[  0   1]\n",
      "[3/4 1/4], [3/4 1/4]\n",
      "[1/2 1/2]], [1]\n",
      "[0])\n",
      "\n",
      "(0, 1, 0, 0) 3 15\n",
      "([[  0   1]\n",
      "[2/3 1/3], [  0   0]\n",
      "[1/3 2/3]], [0]\n",
      "[1])\n",
      "\n",
      "(0, 1, 1, 0) 3 3\n",
      "([[  0   1]\n",
      "[1/2 1/2], [0 0]\n",
      "[0 1]], [1]\n",
      "[0])\n",
      "\n",
      "(0, 0, 1, 0) 3 33\n",
      "([[  0   1]\n",
      "[2/3 1/3], [2/3 1/3]\n",
      "[1/3 2/3]], [0]\n",
      "[1])\n",
      "\n",
      "(0, 1, 0, 1) 2 155\n",
      "([[2/3 1/3]\n",
      "[  1   0], [1/3 2/3]\n",
      "[  1   0]], [0]\n",
      "[1])\n",
      "\n",
      "(0, 1, 1, 1) 2 264\n",
      "([[2/3 1/3]\n",
      "[  0   0], [1/3 2/3]\n",
      "[  1   0]], [0]\n",
      "[1])\n",
      "\n"
     ]
    }
   ],
   "source": [
    "for s in l4.difference(lookup(SC,1)):\n",
    "    if s[0] == 1:\n",
    "        continue;\n",
    "    print s,NC[s],len(SW[s])\n",
    "    print firstwitdenom(s,4)\n",
    "    print \"\""
   ]
  },
  {
   "cell_type": "code",
   "execution_count": 37,
   "metadata": {},
   "outputs": [
    {
     "name": "stdout",
     "output_type": "stream",
     "text": [
      "(1, 1, 0, 0) [[3/4 1/4]\n",
      "[1/2 1/2], [  0   1]\n",
      "[3/4 1/4]]\n"
     ]
    }
   ],
   "source": [
    "sig=flip((0,0,1,1));\n",
    "wits = findwitness(test2x4,sig,[1,0]);\n",
    "print sig,wits"
   ]
  },
  {
   "cell_type": "code",
   "execution_count": 133,
   "metadata": {},
   "outputs": [
    {
     "data": {
      "text/plain": [
       "3637"
      ]
     },
     "execution_count": 133,
     "metadata": {},
     "output_type": "execute_result"
    }
   ],
   "source": [
    "sum([len(SW[k]) for k in SW.keys()])"
   ]
  },
  {
   "cell_type": "code",
   "execution_count": 28,
   "metadata": {},
   "outputs": [
    {
     "name": "stdout",
     "output_type": "stream",
     "text": [
      "(1, 1, 1, 1, 0, 1, 0, 1)   5835  5823\r"
     ]
    }
   ],
   "source": [
    "#correctness check\n",
    "c = 0;\n",
    "for k in SW.keys():\n",
    "    for W in SW[k]:\n",
    "        sys.stdout.write(str(k)+\"   %d\\r\" % (c) );\n",
    "        #sys.stdout.flush();\n",
    "        c = c + 1;\n",
    "        if SC.has_key(k) and W[0].nrows() > SC[k]:\n",
    "            print \"mat size > SC\",k,W;\n",
    "            print \"\";\n",
    "            SW[k].remove(W);\n",
    "            continue;\n",
    "        if findwitness([W[0]],k,W[1].list()) == None:\n",
    "            print k,W;\n",
    "            print \"\";\n",
    "            SW[k].remove(W);"
   ]
  },
  {
   "cell_type": "code",
   "execution_count": 197,
   "metadata": {},
   "outputs": [
    {
     "data": {
      "image/png": "[encoded data removed]",
      "text/plain": [
       "Graphics object consisting of 18 graphics primitives"
      ]
     },
     "execution_count": 197,
     "metadata": {},
     "output_type": "execute_result"
    }
   ],
   "source": [
    "autplotwit((0,1,1,0,1),0)"
   ]
  },
  {
   "cell_type": "code",
   "execution_count": 27,
   "metadata": {},
   "outputs": [
    {
     "name": "stdout",
     "output_type": "stream",
     "text": [
      "7 possible entries\n",
      "8 rows\n",
      "64 matrices\n",
      "2016 matrix pairs\n"
     ]
    }
   ],
   "source": [
    "#test1 = bruteforcevecs([ [0,0,1,0],[0,0,0,1],\n",
    "#                        [0,0,0,0],[1/2,1/4,1/4,0],[0,1/2,1/4,1/4]],\n",
    "#                      info=True)\n",
    "test1 = bruteforceprobs(2,[1/1000,999/1000,1/2,1/2-1/1000,1/2+1/1000,1,0],half=True,info=True)"
   ]
  },
  {
   "cell_type": "code",
   "execution_count": 114,
   "metadata": {},
   "outputs": [
    {
     "name": "stdout",
     "output_type": "stream",
     "text": [
      "2 possible entries\n",
      "4 rows\n",
      "256 matrices\n",
      "32640 matrix pairs\n"
     ]
    }
   ],
   "source": [
    "test2 = bruteforceprobs(4,[1/100,97/100],half=True,info=True)"
   ]
  },
  {
   "cell_type": "code",
   "execution_count": 4,
   "metadata": {},
   "outputs": [
    {
     "name": "stdout",
     "output_type": "stream",
     "text": [
      "4 possible entries\n",
      "10 rows\n",
      "1000 matrices\n",
      "499500 matrix pairs\n"
     ]
    }
   ],
   "source": [
    "test3=bruteforceprobs(3,[1/4,3/8,5/8,0],half=True,info=True)"
   ]
  },
  {
   "cell_type": "code",
   "execution_count": null,
   "metadata": {},
   "outputs": [],
   "source": [
    "eps1=1/1000\n",
    "test4=bruteforceprobs(3,[eps1,1-eps1,1/2-eps1,1/2+eps1,1/3-eps1,2/3+eps1,1/3+eps1,2/3-eps1,0],half=True,info=True)"
   ]
  },
  {
   "cell_type": "code",
   "execution_count": 160,
   "metadata": {},
   "outputs": [
    {
     "name": "stdout",
     "output_type": "stream",
     "text": [
      "2539\n",
      "(1, 1, 0, 1, 0) 2 3\n",
      "(1, 1, 1, 1, 0) 2 2\n",
      "(1, 1, 1, 0, 1) 2 3\n",
      "(1, 0, 1, 0, 1) 2 2\n",
      "(1, 0, 0, 0, 0) 2 2\n",
      "(0, 0, 1, 1, 1) 2 3\n",
      "(0, 0, 0, 0, 1) 2 2\n",
      "(0, 0, 0, 1, 0) 2 3\n",
      "(1, 1, 0, 0, 0) 2 3\n",
      "(0, 0, 0, 0, 0) 1 1\n",
      "(0, 0, 1, 0, 1) 2 3\n",
      "(1, 0, 0, 0, 1) 2 3\n",
      "(0, 1, 0, 0, 0) 2 3\n",
      "(0, 1, 1, 1, 0) 2 3\n",
      "(0, 1, 0, 1, 0) 2 2\n",
      "(1, 0, 1, 1, 1) 2 3\n",
      "(1, 1, 1, 1, 1) 1 1\n",
      "(0, 1, 1, 1, 1) 2 2\n"
     ]
    }
   ],
   "source": [
    "f2 = [1,0];\n",
    "#uniq2 = finduniques(test2[11000:12000:],10,f2);\n",
    "#uniq2 = finduniques(test3[301000:302000:13],10,f2);\n",
    "uniq2 = finduniques(test4[::],5,f2);\n",
    "print len(uniq2)\n",
    "for s in Set([u[1][0][0] for u in uniq2]):\n",
    "    if SC.has_key(s):\n",
    "        print s,SC[s],NC[s];\n",
    "    else:\n",
    "        print s,\"n/a\",NC[s];"
   ]
  },
  {
   "cell_type": "code",
   "execution_count": 161,
   "metadata": {},
   "outputs": [],
   "source": [
    "#only bother adding witnesses if we don't already have one\n",
    "#c = 0;\n",
    "for u in uniq2:\n",
    "    s = u[1][0][0];\n",
    "    #don't bother if NC is lower, either\n",
    "    if NC.has_key(s) and NC[s] < u[0][0].nrows(): continue;\n",
    "    if not SW.has_key(s) or not SC.has_key(s) or SC[s] > u[0][0].nrows() or len(SW[s]) == 0:\n",
    "        a = addonewit(u[0],s,f2);\n",
    "        if a > 0:\n",
    "            #c = c + a;\n",
    "            print s,SC[s],a;\n",
    "#print c"
   ]
  },
  {
   "cell_type": "code",
   "execution_count": 152,
   "metadata": {},
   "outputs": [],
   "source": [
    "savewits()"
   ]
  },
  {
   "cell_type": "code",
   "execution_count": null,
   "metadata": {},
   "outputs": [],
   "source": []
  }
 ],
 "metadata": {
  "kernelspec": {
   "display_name": "SageMath 8.9",
   "language": "sage",
   "name": "sagemath"
  },
  "language": "python",
  "language_info": {
   "codemirror_mode": {
    "name": "ipython",
    "version": 2
   },
   "file_extension": ".py",
   "mimetype": "text/x-python",
   "name": "python",
   "nbconvert_exporter": "python",
   "pygments_lexer": "ipython2",
   "version": "2.7.15"
  }
 },
 "nbformat": 4,
 "nbformat_minor": 2
}
