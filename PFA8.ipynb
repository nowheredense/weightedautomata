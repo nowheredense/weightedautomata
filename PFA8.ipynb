{
 "cells": [
  {
   "cell_type": "code",
   "execution_count": 1,
   "metadata": {
    "tags": []
   },
   "outputs": [],
   "source": [
    "%run -i PFAcode.ipynb"
   ]
  },
  {
   "cell_type": "code",
   "execution_count": null,
   "metadata": {},
   "outputs": [],
   "source": [
    "#STATS (binary strings only)\n",
    "print(len(SC))\n",
    "for l in range(3,11):\n",
    "    if l<9:\n",
    "        top=4;\n",
    "    else:\n",
    "        top=5;\n",
    "    for c in range(1,top):\n",
    "        print(\"len \"+str(l)+\" complexity \"+str(c)+\": \"+str(lookup(SC,c,l).cardinality())+\" (NFA: \"+str(lookup(NC,c,l).cardinality())+\")\")\n",
    "    nu = lookup(SC,100,l,less=True).cardinality();\n",
    "    if nu < 2^l:\n",
    "        print(\"total classified \"+str(nu)+\"/\"+str(2^l));\n",
    "    witsum = sum([len(SW[k]) for k in SW.keys() if len(k)==l]);\n",
    "    print(\"total witnesses \"+str(witsum));\n",
    "    print(\"\");\n",
    "print(\"# strings of each length with PFA=NFA complexity:\");\n",
    "for l in range(3,11):\n",
    "    print(str(l)+\": \"+str(len([k for k in SC.keys() if len(k) == l and SC[k] == NC[k]])))\n",
    "print(\"# strings of each length with PFA=NFA complexity + 1:\")\n",
    "for l in range(3,11):\n",
    "    print(str(l)+\": \"+str(len([k for k in SC.keys() if len(k) == l and SC[k] == NC[k] + 1])))"
   ]
  },
  {
   "cell_type": "code",
   "execution_count": 3,
   "metadata": {},
   "outputs": [],
   "source": [
    "test2x2 = bruteforce(2,2);\n",
    "test2x3 = bruteforce(2,3);\n",
    "test2x4 = bruteforce(2,4);\n",
    "test2x5 = bruteforce(2,5);\n",
    "test2x6 = bruteforce(2,6);\n",
    "test2x7 = bruteforce(2,7);\n",
    "test2x8 = bruteforce(2,8);\n",
    "test3x2 = bruteforce(3,2);\n",
    "half3x3 = bruteforce(3,3,permute=False);"
   ]
  },
  {
   "cell_type": "code",
   "execution_count": 33,
   "metadata": {},
   "outputs": [],
   "source": [
    "three2x2 = bruteforce(2,2,range(3));\n",
    "three2x3 = bruteforce(2,3,range(3));\n",
    "three2x4 = bruteforce(2,4,range(3));\n",
    "three2x5 = bruteforce(2,5,range(3));\n",
    "three2x6 = bruteforce(2,6,range(3));\n",
    "three2x8 = bruteforce(2,8,range(3));"
   ]
  },
  {
   "cell_type": "code",
   "execution_count": 6,
   "metadata": {},
   "outputs": [],
   "source": [
    "somevecs = [ [1,0,0],[0,1,0],[0,0,1],[1/4,1/4,1/2],\n",
    "           [1/4,1/2,1/4],[1/2,1/4,1/4]];\n",
    "some3x4 = bruteforcevecs(maketuple(somevecs),permute=True);\n",
    "\n",
    "somevecs2 = [ [1,0,0],[0,1,0],[0,0,1], [1/4,0,3/4],\n",
    "             [1/4,3/4,0], [3/4,0,1/4], [3/4,1/4,0],\n",
    "             [0,1/4,3/4], [0,3/4,1/4]];\n",
    "some3x4_2 = bruteforcevecs(maketuple(somevecs2),permute=False);"
   ]
  },
  {
   "cell_type": "code",
   "execution_count": 7,
   "metadata": {},
   "outputs": [
    {
     "name": "stdout",
     "output_type": "stream",
     "text": [
      "46656\n",
      "499500\n",
      "46656\n",
      "265356\n"
     ]
    }
   ],
   "source": [
    "print(len(test3x2))\n",
    "print(len(half3x3))\n",
    "print(len(some3x4))\n",
    "print(len(some3x4_2))"
   ]
  },
  {
   "cell_type": "code",
   "execution_count": 3,
   "metadata": {},
   "outputs": [],
   "source": [
    "#given a list of strings (as tuples/lists), a pool of matrix dicts, and start/accept states,\n",
    "#try to find a witness for each string in the pool.\n",
    "#will print any successes, and stop after trying maxattempts strings. If maxattemps=0, try all of them.\n",
    "#won't attempt to find witnesses if one already exists.\n",
    "def tryfindwitness(strings,pool,start_states=None,accept_states=None,maxattempts=50):\n",
    "    c = 0;\n",
    "    for s in strings:\n",
    "        if (s in SW.keys() and len(SW[s]) > 0) or NC[s] == 1:\n",
    "            continue;\n",
    "        c = c + 1;\n",
    "        if c < 0:\n",
    "            continue;\n",
    "        if c > maxattempts and maxattempts != 0:\n",
    "            break;\n",
    "        #sys.stdout.write(\"%d\\r\" % (c) );\n",
    "        print(c,s);\n",
    "        v = start_states;\n",
    "        f = accept_states;\n",
    "        wits = findwitness(pool,s,v,f);\n",
    "        if wits != None:\n",
    "            print(s,wits,addonewit(wits,s,v,f));\n",
    "            print(\"\");\n",
    "            print(flip(s),switchmats(wits),addonewit(switchmats(wits),flip(s),v,f));\n",
    "            print(\"\");\n",
    "        else:\n",
    "            print(\"no witness found\");\n",
    "            print(\"\");"
   ]
  },
  {
   "cell_type": "code",
   "execution_count": 20,
   "metadata": {},
   "outputs": [],
   "source": [
    "savewits()"
   ]
  },
  {
   "cell_type": "code",
   "execution_count": 4,
   "metadata": {},
   "outputs": [
    {
     "name": "stdout",
     "output_type": "stream",
     "text": [
      "344\n",
      "449\n",
      "390\n"
     ]
    }
   ],
   "source": [
    "rand10 = [s for s in NC.keys() if len(s)==10 and isNFArand(s)];\n",
    "print(len(rand10))\n",
    "rand11 = [s for s in NC.keys() if len(s)==11 and isNFArand(s)];\n",
    "print(len(rand11))\n",
    "rand12 = [s for s in NC.keys() if len(s)>=12 and isNFArand(s)];\n",
    "print(len(rand12))"
   ]
  },
  {
   "cell_type": "code",
   "execution_count": 9,
   "metadata": {},
   "outputs": [
    {
     "name": "stdout",
     "output_type": "stream",
     "text": [
      "4659\n",
      "21202\n"
     ]
    }
   ],
   "source": [
    "pool2_1 = test2x2+test2x3+test2x4+test2x5+test2x6\n",
    "print(len(pool2_1))\n",
    "pool2_2 = test2x8+bruteforce(2,10)\n",
    "print(len(pool2_2))"
   ]
  },
  {
   "cell_type": "code",
   "execution_count": 35,
   "metadata": {},
   "outputs": [
    {
     "name": "stdout",
     "output_type": "stream",
     "text": [
      "194481\n"
     ]
    }
   ],
   "source": [
    "test2x20 = bruteforce(2,20)\n",
    "print(len(test2x20))"
   ]
  },
  {
   "cell_type": "code",
   "execution_count": 10,
   "metadata": {},
   "outputs": [
    {
     "name": "stdout",
     "output_type": "stream",
     "text": [
      "546156\n"
     ]
    }
   ],
   "source": [
    "pool3_1 = test3x2+half3x3\n",
    "print(len(pool3_1))"
   ]
  },
  {
   "cell_type": "code",
   "execution_count": null,
   "metadata": {},
   "outputs": [],
   "source": [
    "tryfindwitness(rand12,pool3_1,[1,0,0],[0,0,1],maxattempts=10)"
   ]
  },
  {
   "cell_type": "code",
   "execution_count": null,
   "metadata": {},
   "outputs": [],
   "source": [
    "tryfindwitness(rand12,pool3_1,[1,0,0],[1,0,0],maxattempts=10)"
   ]
  },
  {
   "cell_type": "code",
   "execution_count": 53,
   "metadata": {},
   "outputs": [],
   "source": [
    "savewits()"
   ]
  },
  {
   "cell_type": "code",
   "execution_count": 20,
   "metadata": {},
   "outputs": [],
   "source": [
    "#https://gist.github.com/the-moog/94b09b49232731bd2a3cedd24501e23b\n",
    "import threading\n",
    "from IPython.display import display\n",
    "import ipywidgets as widgets\n",
    "import time\n",
    "\n",
    "def get_ioloop():\n",
    "    import IPython, zmq\n",
    "    ipython = IPython.get_ipython()\n",
    "    if ipython and hasattr(ipython, 'kernel'):\n",
    "        return zmq.eventloop.ioloop.IOLoop.instance()\n",
    "\n",
    "\n",
    "#The IOloop is shared\n",
    "ioloop = get_ioloop()\n",
    "\n",
    "\n",
    "class MyThread(threading.Thread):\n",
    "    def __init__(self):\n",
    "        super().__init__()\n",
    "        \n",
    "        self.progress = widgets.FloatProgress(value=0, min=0, max=10)\n",
    "        \n",
    "        self._quit = threading.Event()\n",
    "        self.start()\n",
    "    \n",
    "    def run(self):\n",
    "        i = 0\n",
    "        while not self._quit.isSet():\n",
    "            def update_progress(i=i):\n",
    "                if self._quit.isSet():\n",
    "                    return\n",
    "                if self.progress.value == 10:\n",
    "                    self.progress.value = 0\n",
    "                self.progress.value = i\n",
    "\n",
    "            time.sleep(2)\n",
    "\n",
    "            ioloop.add_callback(update_progress)\n",
    "\n",
    "            i += 1\n",
    "            if i > 10:\n",
    "                i = 0\n",
    "        self.progress.value = 10\n",
    "        print(\"Quit\")\n",
    "            \n",
    "    def quit(self):\n",
    "        self._quit.set()\n",
    "\n",
    "def run_progress():\n",
    "    thread = MyThread()\n",
    "    display(thread.progress)\n",
    "    return thread"
   ]
  },
  {
   "cell_type": "code",
   "execution_count": 21,
   "metadata": {},
   "outputs": [
    {
     "data": {
      "application/vnd.jupyter.widget-view+json": {
       "model_id": "be747fa85e4d4437ab1002de606290d2",
       "version_major": 2,
       "version_minor": 0
      },
      "text/plain": [
       "FloatProgress(value=0.0, max=10.0)"
      ]
     },
     "metadata": {},
     "output_type": "display_data"
    }
   ],
   "source": [
    "t1 = run_progress()"
   ]
  },
  {
   "cell_type": "code",
   "execution_count": 27,
   "metadata": {},
   "outputs": [
    {
     "name": "stdout",
     "output_type": "stream",
     "text": [
      "Quit\n"
     ]
    }
   ],
   "source": [
    "t1.quit()"
   ]
  },
  {
   "cell_type": "code",
   "execution_count": null,
   "metadata": {},
   "outputs": [],
   "source": [
    "proc = multiprocessing.Process(target=tryfindwitness,args=(rand10,pool2_1,[1,0],[0,1],maxattempts=10));\n",
    "proc.start()"
   ]
  },
  {
   "cell_type": "code",
   "execution_count": 146,
   "metadata": {
    "tags": []
   },
   "outputs": [
    {
     "name": "stdout",
     "output_type": "stream",
     "text": [
      "6\r"
     ]
    }
   ],
   "source": [
    "#really inefficient (for larger sets of strings)\n",
    "c = 0;\n",
    "for s in rand5:\n",
    "    #if len(SW[s]) > 0:\n",
    "    #    continue;\n",
    "    c = c + 1;\n",
    "    if c < 0:\n",
    "        continue;\n",
    "    if c > 50:\n",
    "        break;\n",
    "    sys.stdout.write(\"%d\\r\" % (c) );\n",
    "    v = [1,0];\n",
    "    f = [0,1];\n",
    "    #f = list(reversed(f));\n",
    "    wits = findwitness(test4state[::],s,v,f);\n",
    "    #wits = findwitness(half3x3[269502::91],s,v,f);\n",
    "    #wits = findwitness(test2x15[::13],s,v,f);\n",
    "    if wits != None:\n",
    "        print(s,wits,addonewit(wits,s,v,f));\n",
    "        print(\"\");\n",
    "        print(flip(s),switchmats(wits),addonewit(switchmats(wits),flip(s),v,f));\n",
    "        print(\"\");"
   ]
  },
  {
   "cell_type": "code",
   "execution_count": null,
   "metadata": {},
   "outputs": [],
   "source": [
    "[(k,NC[k]) for k in NC.keys() if isNFArand(k) and len(k) < 5]"
   ]
  },
  {
   "cell_type": "code",
   "execution_count": 163,
   "metadata": {},
   "outputs": [],
   "source": [
    "strs = [k for k in NC.keys() if isNFArand(k) and len(k) < 6];"
   ]
  },
  {
   "cell_type": "code",
   "execution_count": 5,
   "metadata": {},
   "outputs": [],
   "source": [
    "#test if s is a substring of t. Expects them as iterables!\n",
    "def testsubstr(s,t):\n",
    "    if len(s) >= len(t) and s != t: return False;\n",
    "    is_substr = False;\n",
    "    for ind in range(len(t)-len(s)+1):\n",
    "        if s == t[ind:ind+len(s)]:\n",
    "            is_substr = True;\n",
    "    return is_substr;"
   ]
  },
  {
   "cell_type": "code",
   "execution_count": null,
   "metadata": {},
   "outputs": [],
   "source": [
    "for s in strs:\n",
    "    for t in strs:\n",
    "        #if s == t or s == tuple(reversed(t)) or s == tuple(flip(t)): continue;\n",
    "        #avoid strings of same length, and duplication\n",
    "        if len(s) >= len(t): continue\n",
    "        if testsubstr(s,t): continue\n",
    "        if testsubstr(s,tuple(reversed(t))): continue\n",
    "        if testsubstr(s,tuple(flip(t))): continue\n",
    "        if testsubstr(s,tuple(flip(reversed(t)))): continue\n",
    "        #I KNOW there has to be a better way to do this\n",
    "        con = []\n",
    "        con.append([s+t,\"s+t\"])\n",
    "        con.append([t+s,\"t+s\"])\n",
    "        con.append([s+tuple(reversed(t)),\"s+rev(t)\"])\n",
    "        con.append([s+tuple(flip(t)),\"s+fl(t)\"])\n",
    "        con.append([s+tuple(flip(reversed(t))),\"s+flrev(t)\"])\n",
    "        con.append([t+tuple(reversed(s)),\"t+rev(s)\"])\n",
    "        con.append([t+tuple(flip(s)),\"t+fl(s)\"])\n",
    "        con.append([t+tuple(flip(reversed(s))),\"t+flrev(s)\"])\n",
    "        testrand = []\n",
    "        for i in range(len(con)):\n",
    "            teststr = con[i][0]\n",
    "            if not (teststr in NC.keys()):\n",
    "                #print(teststr)\n",
    "                NC[teststr] = nfacomplexity(teststr)\n",
    "                pickletofile(NC,\"nfa_complexity\")\n",
    "                sleep(1)\n",
    "            testrand.append(isNFArand(teststr))\n",
    "        value = False #disjunction of all truth values - want to see if they all fail\n",
    "        for i in range(len(testrand)):\n",
    "            value = value or i\n",
    "        #continue if any of them succeeded\n",
    "        #if value: continue\n",
    "        print(s,t)\n",
    "        for i in range(len(con)):\n",
    "            print(con[i],NC[con[i][0]])\n",
    "        print(\"\")"
   ]
  },
  {
   "cell_type": "code",
   "execution_count": null,
   "metadata": {},
   "outputs": [],
   "source": [
    "#fully distinct strings of length 5 with A_P=3:\n",
    "rand5 = [k for k in S2[5] if k[0]==0 and SC[k]==3]; rand5"
   ]
  },
  {
   "cell_type": "code",
   "execution_count": 45,
   "metadata": {},
   "outputs": [
    {
     "name": "stdout",
     "output_type": "stream",
     "text": [
      "456976\n"
     ]
    }
   ],
   "source": [
    "test2x25 = bruteforce(2,25);\n",
    "print(len(test2x25))"
   ]
  },
  {
   "cell_type": "code",
   "execution_count": 49,
   "metadata": {},
   "outputs": [],
   "source": [
    "uniq2x20 = finduniques(test2x20,strlen=5,start_states=[1,0],accept_states=[0,1]);"
   ]
  },
  {
   "cell_type": "code",
   "execution_count": 50,
   "metadata": {},
   "outputs": [
    {
     "data": {
      "text/plain": [
       "170548"
      ]
     },
     "execution_count": 50,
     "metadata": {},
     "output_type": "execute_result"
    }
   ],
   "source": [
    "len(uniq2x20)"
   ]
  },
  {
   "cell_type": "code",
   "execution_count": 6,
   "metadata": {
    "tags": []
   },
   "outputs": [],
   "source": [
    "def tracegaps(string,autlist,start=(1,0),accept=(0,1)):\n",
    "    gap = QQ(1);\n",
    "#FIXME: replace 2 with size of alphabet\n",
    "    numhigher = 2^len(string) - 1;\n",
    "    c = 0;\n",
    "    for aut in autlist:\n",
    "        c = c+1;\n",
    "        sys.stdout.write(\"%d\\r\" % (c) );\n",
    "        thelen = ZZ(len(string));\n",
    "        thelist = sortproblist(list_probs(aut,start_states=start,accept_states=accept,lengths=thelen));\n",
    "        highstr = highest_prob(thelist);\n",
    "        #get index within thelist of string\n",
    "        thelist_juststr = [s[0] for s in thelist];\n",
    "        highstr_juststr = [s[0] for s in highstr];\n",
    "        theind = thelist_juststr.index(string);\n",
    "        #if string is among those with highest probability, print that info but\n",
    "        #don't update the gap or index, because it could be a rather indiscriminate automaton.\n",
    "        if string in highstr_juststr:\n",
    "            if len(highstr_juststr) == 1:\n",
    "                print(\"c = \"+str(c));\n",
    "                print(\"WITNESS FOUND\",highstr,aut);\n",
    "                print(\"\");\n",
    "            elif 1 < len(highstr_juststr) < numhigher: #exclude case where lots of strings are accepted with same prob\n",
    "                print(\"c = \"+str(c));\n",
    "                print(str(string)+\" among highest-prob strings: \"+str(highstr),aut);\n",
    "                print(\"\");\n",
    "        #logic: if theind < numhigher, only then decide whether to update the gap\n",
    "        #if theind < numhigher and the gap is bigger, print that gap without updating it\n",
    "        else:\n",
    "            acc = accprob(aut,start_states=start,accept_states=accept,sigma=string);\n",
    "            if acc == 0: continue;\n",
    "            thisgap = highstr[0][1] - acc;\n",
    "            if theind <= numhigher or numhigher == 0:\n",
    "                if thisgap <=0: #this code should never execute\n",
    "                    print(\"c = \"+str(c));\n",
    "                    print(\"Gap of \"+str(thisgap)+\" with index \"+str(theind)+\", not updating\",aut);\n",
    "                    print(\"\");\n",
    "                elif thisgap < gap and theind <= numhigher:\n",
    "                    print(\"c = \"+str(c));\n",
    "                    gap = thisgap;\n",
    "                    numhigher = theind;\n",
    "                    print(\"Gap of \"+str(gap)+\" and non-increased index \"+str(theind),aut);\n",
    "                    print(thelist[0:theind+2]);\n",
    "                    print(\"\");\n",
    "                elif thisgap >= gap and theind < numhigher:\n",
    "                    print(\"c = \"+str(c));\n",
    "                    gap = thisgap; #experimental: tolerate increasing the gap if we get closer to the top\n",
    "                    numhigher = theind;\n",
    "                    print(\"Larger gap of \"+str(thisgap)+\", but new index \"+str(theind),aut);\n",
    "                    print(thelist[0:theind+2]);\n",
    "                    print(\"\");\n",
    "    return;"
   ]
  },
  {
   "cell_type": "code",
   "execution_count": 86,
   "metadata": {},
   "outputs": [
    {
     "data": {
      "text/plain": [
       "65536"
      ]
     },
     "execution_count": 86,
     "metadata": {},
     "output_type": "execute_result"
    }
   ],
   "source": [
    "test2state = bruteforcevecs(( #(0.99,0.01),(0.01,0.99),\n",
    "                             (0.54,0.46),(0.46,0.54),\n",
    "                             (0.55,0.45),(0.45,0.55),\n",
    "                             (0.49,0.51),(0.51,0.49),\n",
    "                             (0.89,0.11),(0.11,0.89),(0.88,0.12),(0.12,0.88),(0.545,0.455),(0.455,0.545),\n",
    "                             (0.44,0.56),(0.56,0.44),(0.5425,1-0.5425),(1-0.5425,0.5425)),\n",
    "                           makerational=True);\n",
    "len(test2state)"
   ]
  },
  {
   "cell_type": "code",
   "execution_count": 8,
   "metadata": {
    "tags": []
   },
   "outputs": [
    {
     "data": {
      "text/plain": [
       "160000"
      ]
     },
     "execution_count": 8,
     "metadata": {},
     "output_type": "execute_result"
    }
   ],
   "source": [
    "test3state = bruteforceprobs(2, [0.49,0.11,0.44,0.455,0.4475,0.45,0.4575,0.455,0.4525,0.46]);\n",
    "len(test3state)"
   ]
  },
  {
   "cell_type": "code",
   "execution_count": null,
   "metadata": {},
   "outputs": [],
   "source": [
    "tracegaps( (0,1,1,0,1), test3state[21500:], (1,0),(0,1))"
   ]
  },
  {
   "cell_type": "code",
   "execution_count": null,
   "metadata": {
    "tags": []
   },
   "outputs": [],
   "source": [
    "tracegaps( (0,0,1,0,0), test3state, (1,0),(1,0))"
   ]
  },
  {
   "cell_type": "code",
   "execution_count": 102,
   "metadata": {
    "collapsed": true,
    "jupyter": {
     "outputs_hidden": true
    },
    "tags": []
   },
   "outputs": [
    {
     "name": "stdout",
     "output_type": "stream",
     "text": [
      "Gap of 3906/1953125 and new index 2 {0: [24/25  1/25]\n",
      "[ 9/25 16/25], 1: [22/25  3/25]\n",
      "[    1     0]}\n",
      "[((0, 0, 0, 0, 1), 8559/78125), ((1, 1, 0, 0, 1), 42093/390625), ((0, 1, 1, 0, 1), 210069/1953125), ((1, 0, 1, 0, 1), 42003/390625), ((1, 0, 0, 0, 1), 8397/78125), ((1, 1, 1, 0, 1), 209907/1953125), ((0, 1, 0, 0, 1), 41931/390625), ((0, 0, 1, 1, 1), 209409/1953125), ((0, 1, 0, 1, 1), 209319/1953125), ((1, 1, 1, 1, 1), 1046343/9765625), ((1, 0, 0, 1, 1), 41853/390625), ((1, 0, 1, 1, 1), 209247/1953125), ((0, 1, 1, 1, 1), 1046181/9765625), ((0, 0, 1, 0, 1), 41841/390625), ((1, 1, 0, 1, 1), 209157/1953125), ((0, 0, 0, 1, 1), 41691/390625), ((0, 0, 0, 1, 0), 8309/78125), ((1, 1, 0, 1, 0), 40843/390625), ((0, 0, 1, 0, 0), 8159/78125), ((0, 1, 1, 1, 0), 203819/1953125), ((1, 0, 1, 1, 0), 40753/390625), ((1, 0, 0, 1, 0), 8147/78125), ((1, 1, 1, 1, 0), 203657/1953125), ((0, 1, 0, 1, 0), 40681/390625), ((0, 0, 1, 1, 0), 40591/390625), ((0, 1, 0, 0, 0), 8069/78125), ((1, 1, 1, 0, 0), 40093/390625), ((1, 0, 0, 0, 0), 1603/15625), ((1, 0, 1, 0, 0), 7997/78125), ((0, 1, 1, 0, 0), 39931/390625), ((1, 1, 0, 0, 0), 7907/78125), ((0, 0, 0, 0, 0), 1441/15625)]\n",
      "\n",
      "Gap of 9828/9765625 and new index 1 {0: [  4/5   1/5]\n",
      "[11/25 14/25], 1: [13/25 12/25]\n",
      "[    1     0]}\n",
      "[((1, 1, 0, 0, 1), 3260868/9765625), ((0, 1, 1, 0, 1), 650208/1953125), ((1, 1, 1, 1, 1), 3247932/9765625), ((0, 0, 0, 0, 1), 649452/1953125), ((1, 0, 1, 0, 1), 3241968/9765625), ((0, 0, 1, 1, 1), 644748/1953125), ((0, 1, 0, 1, 1), 639708/1953125), ((1, 0, 0, 1, 1), 3189468/9765625), ((1, 0, 0, 0, 1), 3186024/9765625), ((0, 1, 0, 0, 1), 635844/1953125), ((0, 0, 1, 0, 1), 632064/1953125), ((1, 1, 0, 1, 0), 3151493/9765625), ((1, 1, 1, 0, 1), 3142176/9765625), ((0, 1, 1, 1, 0), 628333/1953125), ((0, 0, 0, 1, 0), 627577/1953125), ((1, 0, 1, 1, 0), 3132593/9765625), ((1, 0, 1, 1, 1), 3114876/9765625), ((1, 1, 1, 0, 0), 3112118/9765625), ((0, 0, 0, 1, 1), 621564/1953125), ((0, 1, 1, 1, 1), 620556/1953125), ((0, 0, 1, 0, 0), 619702/1953125), ((1, 1, 0, 1, 1), 3089676/9765625), ((0, 1, 0, 0, 0), 616867/1953125), ((1, 0, 0, 0, 0), 3079232/9765625), ((1, 0, 0, 1, 0), 3076649/9765625), ((0, 1, 0, 1, 0), 613969/1953125), ((0, 0, 1, 1, 0), 610189/1953125), ((1, 0, 1, 0, 0), 3037274/9765625), ((0, 0, 0, 0, 0), 606661/1953125), ((1, 1, 1, 1, 0), 3032801/9765625), ((0, 1, 1, 0, 0), 606094/1953125), ((1, 1, 0, 0, 0), 3023099/9765625)]\n",
      "\n",
      "456976\r"
     ]
    }
   ],
   "source": [
    "tracegaps( (0,1,1,0,1), test2x25, (1,0),(0,1))"
   ]
  },
  {
   "cell_type": "code",
   "execution_count": null,
   "metadata": {},
   "outputs": [],
   "source": [
    "tracegaps( (0,0,1,0,0), test2x20, (1,0),(0,1))"
   ]
  },
  {
   "cell_type": "code",
   "execution_count": 145,
   "metadata": {},
   "outputs": [
    {
     "data": {
      "text/plain": [
       "456976"
      ]
     },
     "execution_count": 145,
     "metadata": {},
     "output_type": "execute_result"
    }
   ],
   "source": [
    "test4state = bruteforceprobs(2, [0.01,0.49,0.499,0.48,0.2,0.44,0.455,0.4475,0.45,0.4575,0.455,0.4525,0.46]);\n",
    "len(test4state)"
   ]
  },
  {
   "cell_type": "code",
   "execution_count": 5,
   "metadata": {},
   "outputs": [
    {
     "name": "stdout",
     "output_type": "stream",
     "text": [
      "2085136\n"
     ]
    }
   ],
   "source": [
    "probs5 = [0.01,0.001];\n",
    "new1 = 0.430;\n",
    "while new1 <= 0.460:\n",
    "    probs5.append(new1);\n",
    "    new1 = new1 + 0.005;\n",
    "new2 = 0.490;\n",
    "while new2 < 0.500:\n",
    "    probs5.append(new2);\n",
    "    new2 = new2 + 0.001;\n",
    "test5state = bruteforceprobs(2,probs5);\n",
    "print(len(test5state))"
   ]
  },
  {
   "cell_type": "code",
   "execution_count": 33,
   "metadata": {
    "collapsed": true,
    "jupyter": {
     "outputs_hidden": true
    },
    "tags": []
   },
   "outputs": [
    {
     "name": "stdout",
     "output_type": "stream",
     "text": [
      "c = 71\n",
      "Gap of 616623/19531250 and non-increased index 4 {0: [99/100  1/100]\n",
      "[43/100 57/100], 1: [ 89/200 111/200]\n",
      "[113/200  87/200]}\n",
      "[((0, 0, 0, 0, 1), 43167261/78125000), ((1, 0, 0, 0, 1), 42269973/78125000), ((1, 1, 0, 0, 1), 41777229/78125000), ((0, 1, 0, 0, 1), 41584953/78125000), ((0, 1, 1, 0, 1), 40700769/78125000), ((1, 1, 1, 0, 1), 40659567/78125000)]\n",
      "\n",
      "c = 109\n",
      "Gap of 125185023/4000000000 and non-increased index 4 {0: [ 99/100   1/100]\n",
      "[ 87/200 113/200], 1: [ 89/200 111/200]\n",
      "[113/200  87/200]}\n",
      "[((0, 0, 0, 0, 1), 11051184507/20000000000), ((1, 0, 0, 0, 1), 21655153677/40000000000), ((1, 1, 0, 0, 1), 1337703177/2500000000), ((0, 1, 0, 0, 1), 2663319453/5000000000), ((0, 1, 1, 0, 1), 81447339/156250000), ((1, 1, 1, 0, 1), 325462683/625000000)]\n",
      "\n",
      "c = 147\n",
      "Gap of 15510627/500000000 and non-increased index 4 {0: [99/100  1/100]\n",
      "[ 11/25  14/25], 1: [ 89/200 111/200]\n",
      "[113/200  87/200]}\n",
      "[((0, 0, 0, 0, 1), 11051547/20000000), ((1, 0, 0, 0, 1), 21667857/40000000), ((1, 1, 0, 0, 1), 13385277/25000000), ((0, 1, 0, 0, 1), 26651853/50000000), ((0, 1, 1, 0, 1), 4074657/7812500), ((1, 1, 1, 0, 1), 32564883/62500000)]\n",
      "\n",
      "c = 149\n",
      "Gap of 2223/100000000 and non-increased index 2 {0: [57/100 43/100]\n",
      "[ 11/25  14/25], 1: [ 89/200 111/200]\n",
      "[113/200  87/200]}\n",
      "[((0, 0, 0, 0, 1), 1239266487/2500000000), ((1, 1, 0, 0, 1), 309813453/625000000), ((0, 1, 1, 0, 1), 38725341/78125000), ((1, 0, 1, 0, 1), 619602531/1250000000)]\n",
      "\n",
      "c = 188\n",
      "Gap of 27/1562500 and non-increased index 2 {0: [113/200  87/200]\n",
      "[ 89/200 111/200], 1: [ 89/200 111/200]\n",
      "[113/200  87/200]}\n",
      "[((0, 0, 0, 0, 1), 38726103/78125000), ((1, 1, 0, 0, 1), 38725941/78125000), ((0, 1, 1, 0, 1), 38724753/78125000), ((1, 0, 1, 0, 1), 38724591/78125000)]\n",
      "\n",
      "c = 227\n",
      "Gap of 8349/625000000 and non-increased index 2 {0: [14/25 11/25]\n",
      "[ 9/20 11/20], 1: [ 89/200 111/200]\n",
      "[113/200  87/200]}\n",
      "[((0, 0, 0, 0, 1), 309801777/625000000), ((1, 1, 0, 0, 1), 309801777/625000000), ((0, 1, 1, 0, 1), 77448357/156250000), ((1, 0, 1, 0, 1), 619584579/1250000000)]\n",
      "\n",
      "c = 266\n",
      "Gap of 363/31250000 and non-increased index 2 {0: [111/200  89/200]\n",
      "[ 91/200 109/200], 1: [ 89/200 111/200]\n",
      "[113/200  87/200]}\n",
      "[((1, 1, 0, 0, 1), 1548981/3125000), ((0, 0, 0, 0, 1), 2478363/5000000), ((0, 1, 1, 0, 1), 15489447/31250000), ((1, 0, 1, 0, 1), 6195759/12500000)]\n",
      "\n",
      "c = 305\n",
      "Gap of 6237/625000000 and non-increased index 2 {0: [11/20  9/20]\n",
      "[23/50 27/50], 1: [ 89/200 111/200]\n",
      "[113/200  87/200]}\n",
      "[((1, 1, 0, 0, 1), 309790797/625000000), ((0, 0, 0, 0, 1), 247831617/500000000), ((0, 1, 1, 0, 1), 3872307/7812500), ((1, 0, 0, 0, 1), 2478270243/5000000000)]\n",
      "\n",
      "c = 818\n",
      "Gap of 17457/4000000000 and non-increased index 2 {0: [  9/20  11/20]\n",
      "[57/100 43/100], 1: [   9/20   11/20]\n",
      "[113/200  87/200]}\n",
      "[((0, 0, 1, 0, 1), 123392973/250000000), ((1, 0, 1, 0, 1), 123392973/250000000), ((0, 1, 1, 0, 1), 1974270111/4000000000), ((1, 1, 1, 0, 1), 1974270111/4000000000)]\n",
      "\n",
      "c = 895\n",
      "Gap of 255507/320000000000 and non-increased index 2 {0: [ 91/200 109/200]\n",
      "[  14/25   11/25], 1: [   9/20   11/20]\n",
      "[113/200  87/200]}\n",
      "[((1, 1, 1, 0, 1), 15785290777/32000000000), ((1, 0, 1, 0, 1), 15785268559/32000000000), ((0, 1, 1, 0, 1), 157852652263/320000000000), ((0, 0, 1, 0, 1), 157852452301/320000000000)]\n",
      "\n",
      "c = 1074\n",
      "Gap of 985527/2000000000000 and non-increased index 2 {0: [63/125 62/125]\n",
      "[51/100 49/100], 1: [   9/20   11/20]\n",
      "[113/200  87/200]}\n",
      "[((1, 1, 1, 0, 1), 39464070111/80000000000), ((1, 0, 1, 0, 1), 98660080851/200000000000), ((0, 1, 1, 0, 1), 61662547953/125000000000), ((0, 0, 1, 0, 1), 308312736591/625000000000)]\n",
      "\n",
      "c = 5234\n",
      "Gap of 351/2560000000 and non-increased index 2 {0: [ 99/200 101/200]\n",
      "[  14/25   11/25], 1: [ 49/100  51/100]\n",
      "[113/200  87/200]}\n",
      "[((1, 1, 1, 0, 1), 607281621/1280000000), ((1, 0, 1, 0, 1), 3036407871/6400000000), ((0, 1, 1, 0, 1), 1214562891/2560000000), ((0, 0, 1, 0, 1), 6072814221/12800000000)]\n",
      "\n",
      "c = 6232\n",
      "Gap of 3441/160000000000 and non-increased index 2 {0: [ 111/200   89/200]\n",
      "[493/1000 507/1000], 1: [ 49/100  51/100]\n",
      "[113/200  87/200]}\n",
      "[((1, 1, 0, 0, 1), 18976789779/40000000000), ((1, 1, 1, 1, 1), 121451451/256000000), ((0, 1, 1, 0, 1), 3036286227/6400000000), ((1, 0, 1, 0, 1), 18976788849/40000000000)]\n",
      "\n",
      "c = 7714\n",
      "Larger gap of 21944811/250000000000000, but new index 1 {0: [111/200  89/200]\n",
      "[247/500 253/500], 1: [491/1000 509/1000]\n",
      "[ 113/200   87/200]}\n",
      "[((1, 1, 0, 0, 1), 118482871574441/250000000000000), ((0, 1, 1, 0, 1), 11848284962963/25000000000000), ((1, 0, 1, 0, 1), 118482847875941/250000000000000)]\n",
      "\n",
      "c = 72125\n",
      "Gap of 43617/3906250000000 and non-increased index 1 {0: [  11/20    9/20]\n",
      "[251/500 249/500], 1: [249/500 251/500]\n",
      "[  14/25   11/25]}\n",
      "[((1, 1, 0, 0, 1), 115403695387/244140625000), ((0, 1, 1, 0, 1), 73858363303/156250000000), ((1, 0, 1, 0, 1), 461614769923/976562500000)]\n",
      "\n",
      "c = 73531\n",
      "Gap of 8076339/1000000000000000 and non-increased index 1 {0: [   11/20     9/20]\n",
      "[503/1000 497/1000], 1: [499/1000 501/1000]\n",
      "[   14/25    11/25]}\n",
      "[((1, 1, 0, 0, 1), 472196458815189/1000000000000000), ((0, 1, 1, 0, 1), 9443929014777/20000000000000), ((1, 0, 1, 0, 1), 472196450214189/1000000000000000)]\n",
      "\n",
      "1885136\r"
     ]
    }
   ],
   "source": [
    "tracegaps( (0,1,1,0,1), test5state[200000:], (1,0),(0,1) )"
   ]
  },
  {
   "cell_type": "code",
   "execution_count": 52,
   "metadata": {},
   "outputs": [
    {
     "name": "stdout",
     "output_type": "stream",
     "text": [
      "51 possible entries\n",
      "51 rows\n",
      "2601 matrices\n",
      "6765201 matrix tuples\n",
      "6765201\n"
     ]
    }
   ],
   "source": [
    "probs6 = [];\n",
    "new1 = 0.450;\n",
    "while new1 < 0.460:\n",
    "    probs6.append(new1);\n",
    "    new1 = new1 + 0.002;\n",
    "new2 = 0.490;\n",
    "while new2 <= 0.500:\n",
    "    probs6.append(new2);\n",
    "    new2 = new2 + 0.0005;\n",
    "test6state = bruteforceprobs(2,probs6,info=True);\n",
    "print(len(test6state))"
   ]
  },
  {
   "cell_type": "code",
   "execution_count": 53,
   "metadata": {
    "collapsed": true,
    "jupyter": {
     "outputs_hidden": true
    },
    "tags": []
   },
   "outputs": [
    {
     "name": "stdout",
     "output_type": "stream",
     "text": [
      "c = 2\n",
      "Gap of 11/10000 and non-increased index 22 {0: [137/250 113/250]\n",
      "[  11/20    9/20], 1: [11/20  9/20]\n",
      "[11/20  9/20]}\n",
      "[((0, 0, 0, 1, 0), 4511/10000), ((0, 0, 1, 1, 0), 4511/10000), ((0, 1, 0, 1, 0), 4511/10000), ((0, 1, 1, 1, 0), 4511/10000), ((1, 0, 0, 1, 0), 4511/10000), ((1, 0, 1, 1, 0), 4511/10000), ((1, 1, 0, 1, 0), 4511/10000), ((1, 1, 1, 1, 0), 4511/10000), ((0, 1, 0, 0, 0), 1127744511/2500000000), ((1, 1, 0, 0, 0), 1127744511/2500000000), ((0, 0, 0, 0, 0), 7048403193613/15625000000000), ((1, 0, 0, 0, 0), 563872255489/1250000000000), ((0, 0, 1, 0, 0), 2255489/5000000), ((0, 1, 1, 0, 0), 2255489/5000000), ((1, 0, 1, 0, 0), 2255489/5000000), ((1, 1, 1, 0, 0), 2255489/5000000), ((0, 0, 0, 0, 1), 9/20), ((0, 0, 0, 1, 1), 9/20), ((0, 0, 1, 0, 1), 9/20), ((0, 0, 1, 1, 1), 9/20), ((0, 1, 0, 0, 1), 9/20), ((0, 1, 0, 1, 1), 9/20), ((0, 1, 1, 0, 1), 9/20), ((0, 1, 1, 1, 1), 9/20)]\n",
      "\n",
      "c = 52\n",
      "Gap of 1127254509/1250000000000 and non-increased index 22 {0: [  11/20    9/20]\n",
      "[137/250 113/250], 1: [11/20  9/20]\n",
      "[11/20  9/20]}\n",
      "[((0, 0, 0, 0, 0), 563627254509/1250000000000), ((1, 0, 0, 0, 0), 563627254509/1250000000000), ((0, 1, 0, 0, 0), 1127254509/2500000000), ((1, 1, 0, 0, 0), 1127254509/2500000000), ((0, 0, 1, 0, 0), 2254509/5000000), ((0, 1, 1, 0, 0), 2254509/5000000), ((1, 0, 1, 0, 0), 2254509/5000000), ((1, 1, 1, 0, 0), 2254509/5000000), ((0, 0, 0, 1, 0), 4509/10000), ((0, 0, 1, 1, 0), 4509/10000), ((0, 1, 0, 1, 0), 4509/10000), ((0, 1, 1, 1, 0), 4509/10000), ((1, 0, 0, 1, 0), 4509/10000), ((1, 0, 1, 1, 0), 4509/10000), ((1, 1, 0, 1, 0), 4509/10000), ((1, 1, 1, 1, 0), 4509/10000), ((0, 0, 0, 0, 1), 9/20), ((0, 0, 0, 1, 1), 9/20), ((0, 0, 1, 0, 1), 9/20), ((0, 0, 1, 1, 1), 9/20), ((0, 1, 0, 0, 1), 9/20), ((0, 1, 0, 1, 1), 9/20), ((0, 1, 1, 0, 1), 9/20), ((0, 1, 1, 1, 1), 9/20)]\n",
      "\n",
      "c = 2602\n",
      "(0, 1, 1, 0, 1) among highest-prob strings: [((0, 0, 0, 0, 1), 4511/10000), ((0, 0, 1, 0, 1), 4511/10000), ((0, 1, 0, 0, 1), 4511/10000), ((0, 1, 1, 0, 1), 4511/10000), ((1, 0, 0, 0, 1), 4511/10000), ((1, 0, 1, 0, 1), 4511/10000), ((1, 1, 0, 0, 1), 4511/10000), ((1, 1, 1, 0, 1), 4511/10000)] {0: [11/20  9/20]\n",
      "[11/20  9/20], 1: [137/250 113/250]\n",
      "[  11/20    9/20]}\n",
      "\n",
      "c = 2653\n",
      "Gap of 49/62500000000 and non-increased index 4 {0: [  11/20    9/20]\n",
      "[137/250 113/250], 1: [137/250 113/250]\n",
      "[  11/20    9/20]}\n",
      "[((0, 0, 0, 0, 1), 563872745491/1250000000000), ((1, 0, 0, 0, 1), 7048409318637/15625000000000), ((1, 1, 0, 0, 1), 7048409318613/15625000000000), ((0, 1, 0, 0, 1), 563872745489/1250000000000), ((0, 1, 1, 0, 1), 563872744511/1250000000000), ((1, 1, 1, 0, 1), 7048409306387/15625000000000)]\n",
      "\n",
      "c = 5204\n",
      "Gap of 11/312500000000 and non-increased index 3 {0: [137/250 113/250]\n",
      "[  11/20    9/20], 1: [273/500 227/500]\n",
      "[  11/20    9/20]}\n",
      "[((1, 0, 1, 0, 1), 3532778262227/7812500000000), ((0, 0, 1, 0, 1), 1766389131113/3906250000000), ((1, 1, 1, 0, 1), 1766389130977/3906250000000), ((0, 1, 1, 0, 1), 55199660343/122070312500), ((1, 0, 0, 0, 1), 7065556387227/15625000000000)]\n",
      "\n",
      "c = 7857\n",
      "Gap of 423/31250000000000 and non-increased index 3 {0: [273/500 227/500]\n",
      "[137/250 113/250], 1: [68/125 57/125]\n",
      "[ 11/20   9/20]}\n",
      "[((1, 0, 1, 0, 1), 1770630622569/3906250000000), ((0, 0, 1, 0, 1), 14165044980543/31250000000000), ((1, 1, 1, 0, 1), 3541261245039/7812500000000), ((0, 1, 1, 0, 1), 14165044980129/31250000000000), ((1, 0, 0, 0, 1), 1770630613773/3906250000000)]\n",
      "\n",
      "c = 29226\n",
      "Larger gap of 29258361/4000000000000000, but new index 1 {0: [  273/500   227/500]\n",
      "[1013/2000  987/2000], 1: [507/1000 493/1000]\n",
      "[   11/20     9/20]}\n",
      "[((1, 1, 0, 0, 1), 1890700910068237/4000000000000000), ((0, 1, 1, 0, 1), 472675220202469/1000000000000000), ((1, 0, 1, 0, 1), 1890700879495237/4000000000000000)]\n",
      "\n",
      "c = 182840\n",
      "Gap of 63603/40000000000000 and non-increased index 1 {0: [271/500 229/500]\n",
      "[101/200  99/200], 1: [503/1000 497/1000]\n",
      "[ 137/250  113/250]}\n",
      "[((1, 1, 0, 0, 1), 19023927604433/40000000000000), ((0, 1, 1, 0, 1), 1902392754083/4000000000000), ((1, 0, 1, 0, 1), 19023927537833/40000000000000)]\n",
      "\n",
      "1767179\r"
     ]
    },
    {
     "ename": "KeyboardInterrupt",
     "evalue": "",
     "output_type": "error",
     "traceback": [
      "\u001b[1;31m---------------------------------------------------------------------------\u001b[0m",
      "\u001b[1;31mNotImplementedError\u001b[0m                       Traceback (most recent call last)",
      "\u001b[1;32m/opt/SageMath/local/lib/python3.9/site-packages/sage/matrix/matrix0.pyx\u001b[0m in \u001b[0;36msage.matrix.matrix0.Matrix.change_ring (build/cythonized/sage/matrix/matrix0.c:11328)\u001b[1;34m()\u001b[0m\n\u001b[0;32m   1644\u001b[0m         \u001b[1;32mtry\u001b[0m\u001b[1;33m:\u001b[0m\u001b[1;33m\u001b[0m\u001b[1;33m\u001b[0m\u001b[0m\n\u001b[1;32m-> 1645\u001b[1;33m             \u001b[1;32mreturn\u001b[0m \u001b[0mself\u001b[0m\u001b[1;33m.\u001b[0m\u001b[0m_change_ring\u001b[0m\u001b[1;33m(\u001b[0m\u001b[0mring\u001b[0m\u001b[1;33m)\u001b[0m\u001b[1;33m\u001b[0m\u001b[1;33m\u001b[0m\u001b[0m\n\u001b[0m\u001b[0;32m   1646\u001b[0m         \u001b[1;32mexcept\u001b[0m \u001b[1;33m(\u001b[0m\u001b[0mAttributeError\u001b[0m\u001b[1;33m,\u001b[0m \u001b[0mNotImplementedError\u001b[0m\u001b[1;33m)\u001b[0m\u001b[1;33m:\u001b[0m\u001b[1;33m\u001b[0m\u001b[1;33m\u001b[0m\u001b[0m\n",
      "\u001b[1;32m/opt/SageMath/local/lib/python3.9/site-packages/sage/matrix/matrix_integer_dense.pyx\u001b[0m in \u001b[0;36msage.matrix.matrix_integer_dense.Matrix_integer_dense._change_ring (build/cythonized/sage/matrix/matrix_integer_dense.cpp:46162)\u001b[1;34m()\u001b[0m\n\u001b[0;32m   5519\u001b[0m         \u001b[1;32melse\u001b[0m\u001b[1;33m:\u001b[0m\u001b[1;33m\u001b[0m\u001b[1;33m\u001b[0m\u001b[0m\n\u001b[1;32m-> 5520\u001b[1;33m             \u001b[1;32mraise\u001b[0m \u001b[0mNotImplementedError\u001b[0m\u001b[1;33m\u001b[0m\u001b[1;33m\u001b[0m\u001b[0m\n\u001b[0m\u001b[0;32m   5521\u001b[0m \u001b[1;33m\u001b[0m\u001b[0m\n",
      "\u001b[1;31mNotImplementedError\u001b[0m: ",
      "\nDuring handling of the above exception, another exception occurred:\n",
      "\u001b[1;31mKeyboardInterrupt\u001b[0m                         Traceback (most recent call last)",
      "\u001b[1;32m<ipython-input-53-f47d4e2cb0a5>\u001b[0m in \u001b[0;36m<module>\u001b[1;34m\u001b[0m\n\u001b[1;32m----> 1\u001b[1;33m \u001b[0mtracegaps\u001b[0m\u001b[1;33m(\u001b[0m \u001b[1;33m(\u001b[0m\u001b[0mInteger\u001b[0m\u001b[1;33m(\u001b[0m\u001b[1;36m0\u001b[0m\u001b[1;33m)\u001b[0m\u001b[1;33m,\u001b[0m\u001b[0mInteger\u001b[0m\u001b[1;33m(\u001b[0m\u001b[1;36m1\u001b[0m\u001b[1;33m)\u001b[0m\u001b[1;33m,\u001b[0m\u001b[0mInteger\u001b[0m\u001b[1;33m(\u001b[0m\u001b[1;36m1\u001b[0m\u001b[1;33m)\u001b[0m\u001b[1;33m,\u001b[0m\u001b[0mInteger\u001b[0m\u001b[1;33m(\u001b[0m\u001b[1;36m0\u001b[0m\u001b[1;33m)\u001b[0m\u001b[1;33m,\u001b[0m\u001b[0mInteger\u001b[0m\u001b[1;33m(\u001b[0m\u001b[1;36m1\u001b[0m\u001b[1;33m)\u001b[0m\u001b[1;33m)\u001b[0m\u001b[1;33m,\u001b[0m \u001b[0mtest6state\u001b[0m\u001b[1;33m,\u001b[0m \u001b[1;33m(\u001b[0m\u001b[0mInteger\u001b[0m\u001b[1;33m(\u001b[0m\u001b[1;36m1\u001b[0m\u001b[1;33m)\u001b[0m\u001b[1;33m,\u001b[0m\u001b[0mInteger\u001b[0m\u001b[1;33m(\u001b[0m\u001b[1;36m0\u001b[0m\u001b[1;33m)\u001b[0m\u001b[1;33m)\u001b[0m\u001b[1;33m,\u001b[0m\u001b[1;33m(\u001b[0m\u001b[0mInteger\u001b[0m\u001b[1;33m(\u001b[0m\u001b[1;36m0\u001b[0m\u001b[1;33m)\u001b[0m\u001b[1;33m,\u001b[0m\u001b[0mInteger\u001b[0m\u001b[1;33m(\u001b[0m\u001b[1;36m1\u001b[0m\u001b[1;33m)\u001b[0m\u001b[1;33m)\u001b[0m \u001b[1;33m)\u001b[0m\u001b[1;33m\u001b[0m\u001b[1;33m\u001b[0m\u001b[0m\n\u001b[0m",
      "\u001b[1;32m<ipython-input-50-61224a679e62>\u001b[0m in \u001b[0;36mtracegaps\u001b[1;34m(string, autlist, start, accept)\u001b[0m\n\u001b[0;32m      8\u001b[0m         \u001b[0msys\u001b[0m\u001b[1;33m.\u001b[0m\u001b[0mstdout\u001b[0m\u001b[1;33m.\u001b[0m\u001b[0mwrite\u001b[0m\u001b[1;33m(\u001b[0m\u001b[1;34m\"%d\\r\"\u001b[0m \u001b[1;33m%\u001b[0m \u001b[1;33m(\u001b[0m\u001b[0mc\u001b[0m\u001b[1;33m)\u001b[0m \u001b[1;33m)\u001b[0m\u001b[1;33m;\u001b[0m\u001b[1;33m\u001b[0m\u001b[1;33m\u001b[0m\u001b[0m\n\u001b[0;32m      9\u001b[0m         \u001b[0mthelen\u001b[0m \u001b[1;33m=\u001b[0m \u001b[0mZZ\u001b[0m\u001b[1;33m(\u001b[0m\u001b[0mlen\u001b[0m\u001b[1;33m(\u001b[0m\u001b[0mstring\u001b[0m\u001b[1;33m)\u001b[0m\u001b[1;33m)\u001b[0m\u001b[1;33m;\u001b[0m\u001b[1;33m\u001b[0m\u001b[1;33m\u001b[0m\u001b[0m\n\u001b[1;32m---> 10\u001b[1;33m         \u001b[0mthelist\u001b[0m \u001b[1;33m=\u001b[0m \u001b[0msortproblist\u001b[0m\u001b[1;33m(\u001b[0m\u001b[0mlist_probs\u001b[0m\u001b[1;33m(\u001b[0m\u001b[0maut\u001b[0m\u001b[1;33m,\u001b[0m\u001b[0mstart_states\u001b[0m\u001b[1;33m=\u001b[0m\u001b[0mstart\u001b[0m\u001b[1;33m,\u001b[0m\u001b[0maccept_states\u001b[0m\u001b[1;33m=\u001b[0m\u001b[0maccept\u001b[0m\u001b[1;33m,\u001b[0m\u001b[0mlengths\u001b[0m\u001b[1;33m=\u001b[0m\u001b[0mthelen\u001b[0m\u001b[1;33m)\u001b[0m\u001b[1;33m)\u001b[0m\u001b[1;33m;\u001b[0m\u001b[1;33m\u001b[0m\u001b[1;33m\u001b[0m\u001b[0m\n\u001b[0m\u001b[0;32m     11\u001b[0m         \u001b[0mhighstr\u001b[0m \u001b[1;33m=\u001b[0m \u001b[0mhighest_prob\u001b[0m\u001b[1;33m(\u001b[0m\u001b[0mthelist\u001b[0m\u001b[1;33m)\u001b[0m\u001b[1;33m;\u001b[0m\u001b[1;33m\u001b[0m\u001b[1;33m\u001b[0m\u001b[0m\n\u001b[0;32m     12\u001b[0m         \u001b[1;31m#get index within thelist of string\u001b[0m\u001b[1;33m\u001b[0m\u001b[1;33m\u001b[0m\u001b[1;33m\u001b[0m\u001b[0m\n",
      "\u001b[1;32m<ipython-input-1-929962dd41ad>\u001b[0m in \u001b[0;36mlist_probs\u001b[1;34m(transmatrices, start_states, accept_states, lengths)\u001b[0m\n\u001b[0;32m    143\u001b[0m                 \u001b[1;32massert\u001b[0m \u001b[0mch\u001b[0m \u001b[1;32min\u001b[0m \u001b[0malph\u001b[0m\u001b[1;33m;\u001b[0m\u001b[1;33m\u001b[0m\u001b[1;33m\u001b[0m\u001b[0m\n\u001b[0;32m    144\u001b[0m                 \u001b[0mA\u001b[0m \u001b[1;33m=\u001b[0m \u001b[0mA\u001b[0m\u001b[1;33m*\u001b[0m\u001b[0mtransmatrices\u001b[0m\u001b[1;33m[\u001b[0m\u001b[0mch\u001b[0m\u001b[1;33m]\u001b[0m\u001b[1;33m;\u001b[0m\u001b[1;33m\u001b[0m\u001b[1;33m\u001b[0m\u001b[0m\n\u001b[1;32m--> 145\u001b[1;33m             \u001b[0mA\u001b[0m \u001b[1;33m=\u001b[0m \u001b[0mA\u001b[0m\u001b[1;33m*\u001b[0m\u001b[0mf\u001b[0m\u001b[1;33m;\u001b[0m\u001b[1;33m\u001b[0m\u001b[1;33m\u001b[0m\u001b[0m\n\u001b[0m\u001b[0;32m    146\u001b[0m             \u001b[0mproblist\u001b[0m\u001b[1;33m.\u001b[0m\u001b[0mappend\u001b[0m\u001b[1;33m(\u001b[0m\u001b[1;33m(\u001b[0m\u001b[0mst\u001b[0m\u001b[1;33m,\u001b[0m\u001b[0mA\u001b[0m\u001b[1;33m[\u001b[0m\u001b[0mInteger\u001b[0m\u001b[1;33m(\u001b[0m\u001b[1;36m0\u001b[0m\u001b[1;33m)\u001b[0m\u001b[1;33m]\u001b[0m\u001b[1;33m[\u001b[0m\u001b[0mInteger\u001b[0m\u001b[1;33m(\u001b[0m\u001b[1;36m0\u001b[0m\u001b[1;33m)\u001b[0m\u001b[1;33m]\u001b[0m\u001b[1;33m)\u001b[0m\u001b[1;33m)\u001b[0m\u001b[1;33m;\u001b[0m\u001b[1;33m\u001b[0m\u001b[1;33m\u001b[0m\u001b[0m\n\u001b[0;32m    147\u001b[0m \u001b[1;33m\u001b[0m\u001b[0m\n",
      "\u001b[1;32m/opt/SageMath/local/lib/python3.9/site-packages/sage/structure/element.pyx\u001b[0m in \u001b[0;36msage.structure.element.Matrix.__mul__ (build/cythonized/sage/structure/element.c:23948)\u001b[1;34m()\u001b[0m\n\u001b[0;32m   3813\u001b[0m \u001b[1;33m\u001b[0m\u001b[0m\n\u001b[0;32m   3814\u001b[0m         \u001b[1;32mif\u001b[0m \u001b[0mBOTH_ARE_ELEMENT\u001b[0m\u001b[1;33m(\u001b[0m\u001b[0mcl\u001b[0m\u001b[1;33m)\u001b[0m\u001b[1;33m:\u001b[0m\u001b[1;33m\u001b[0m\u001b[1;33m\u001b[0m\u001b[0m\n\u001b[1;32m-> 3815\u001b[1;33m             \u001b[1;32mreturn\u001b[0m \u001b[0mcoercion_model\u001b[0m\u001b[1;33m.\u001b[0m\u001b[0mbin_op\u001b[0m\u001b[1;33m(\u001b[0m\u001b[0mleft\u001b[0m\u001b[1;33m,\u001b[0m \u001b[0mright\u001b[0m\u001b[1;33m,\u001b[0m \u001b[0mmul\u001b[0m\u001b[1;33m)\u001b[0m\u001b[1;33m\u001b[0m\u001b[1;33m\u001b[0m\u001b[0m\n\u001b[0m\u001b[0;32m   3816\u001b[0m \u001b[1;33m\u001b[0m\u001b[0m\n\u001b[0;32m   3817\u001b[0m         \u001b[0mcdef\u001b[0m \u001b[0mlong\u001b[0m \u001b[0mvalue\u001b[0m\u001b[1;33m\u001b[0m\u001b[1;33m\u001b[0m\u001b[0m\n",
      "\u001b[1;32m/opt/SageMath/local/lib/python3.9/site-packages/sage/structure/coerce.pyx\u001b[0m in \u001b[0;36msage.structure.coerce.CoercionModel.bin_op (build/cythonized/sage/structure/coerce.c:10585)\u001b[1;34m()\u001b[0m\n\u001b[0;32m   1192\u001b[0m         \u001b[1;32mif\u001b[0m \u001b[0maction\u001b[0m \u001b[1;32mis\u001b[0m \u001b[1;32mnot\u001b[0m \u001b[1;32mNone\u001b[0m\u001b[1;33m:\u001b[0m\u001b[1;33m\u001b[0m\u001b[1;33m\u001b[0m\u001b[0m\n\u001b[0;32m   1193\u001b[0m             \u001b[1;32mif\u001b[0m \u001b[1;33m(\u001b[0m\u001b[1;33m<\u001b[0m\u001b[0mAction\u001b[0m\u001b[1;33m>\u001b[0m\u001b[0maction\u001b[0m\u001b[1;33m)\u001b[0m\u001b[1;33m.\u001b[0m\u001b[0m_is_left\u001b[0m\u001b[1;33m:\u001b[0m\u001b[1;33m\u001b[0m\u001b[1;33m\u001b[0m\u001b[0m\n\u001b[1;32m-> 1194\u001b[1;33m                 \u001b[1;32mreturn\u001b[0m \u001b[1;33m(\u001b[0m\u001b[1;33m<\u001b[0m\u001b[0mAction\u001b[0m\u001b[1;33m>\u001b[0m\u001b[0maction\u001b[0m\u001b[1;33m)\u001b[0m\u001b[1;33m.\u001b[0m\u001b[0m_act_\u001b[0m\u001b[1;33m(\u001b[0m\u001b[0mx\u001b[0m\u001b[1;33m,\u001b[0m \u001b[0my\u001b[0m\u001b[1;33m)\u001b[0m\u001b[1;33m\u001b[0m\u001b[1;33m\u001b[0m\u001b[0m\n\u001b[0m\u001b[0;32m   1195\u001b[0m             \u001b[1;32melse\u001b[0m\u001b[1;33m:\u001b[0m\u001b[1;33m\u001b[0m\u001b[1;33m\u001b[0m\u001b[0m\n\u001b[0;32m   1196\u001b[0m                 \u001b[1;32mreturn\u001b[0m \u001b[1;33m(\u001b[0m\u001b[1;33m<\u001b[0m\u001b[0mAction\u001b[0m\u001b[1;33m>\u001b[0m\u001b[0maction\u001b[0m\u001b[1;33m)\u001b[0m\u001b[1;33m.\u001b[0m\u001b[0m_act_\u001b[0m\u001b[1;33m(\u001b[0m\u001b[0my\u001b[0m\u001b[1;33m,\u001b[0m \u001b[0mx\u001b[0m\u001b[1;33m)\u001b[0m\u001b[1;33m\u001b[0m\u001b[1;33m\u001b[0m\u001b[0m\n",
      "\u001b[1;32m/opt/SageMath/local/lib/python3.9/site-packages/sage/matrix/action.pyx\u001b[0m in \u001b[0;36msage.matrix.action.MatrixMatrixAction._act_ (build/cythonized/sage/matrix/action.c:4908)\u001b[1;34m()\u001b[0m\n\u001b[0;32m    258\u001b[0m             \u001b[0mA\u001b[0m \u001b[1;33m=\u001b[0m \u001b[0mA\u001b[0m\u001b[1;33m.\u001b[0m\u001b[0mchange_ring\u001b[0m\u001b[1;33m(\u001b[0m\u001b[0mself\u001b[0m\u001b[1;33m.\u001b[0m\u001b[0m_codomain\u001b[0m\u001b[1;33m.\u001b[0m\u001b[0m_base\u001b[0m\u001b[1;33m)\u001b[0m\u001b[1;33m\u001b[0m\u001b[1;33m\u001b[0m\u001b[0m\n\u001b[0;32m    259\u001b[0m         \u001b[1;32mif\u001b[0m \u001b[0mB\u001b[0m\u001b[1;33m.\u001b[0m\u001b[0m_parent\u001b[0m\u001b[1;33m.\u001b[0m\u001b[0m_base\u001b[0m \u001b[1;32mis\u001b[0m \u001b[1;32mnot\u001b[0m \u001b[0mself\u001b[0m\u001b[1;33m.\u001b[0m\u001b[0m_codomain\u001b[0m\u001b[1;33m.\u001b[0m\u001b[0m_base\u001b[0m\u001b[1;33m:\u001b[0m\u001b[1;33m\u001b[0m\u001b[1;33m\u001b[0m\u001b[0m\n\u001b[1;32m--> 260\u001b[1;33m             \u001b[0mB\u001b[0m \u001b[1;33m=\u001b[0m \u001b[0mB\u001b[0m\u001b[1;33m.\u001b[0m\u001b[0mchange_ring\u001b[0m\u001b[1;33m(\u001b[0m\u001b[0mself\u001b[0m\u001b[1;33m.\u001b[0m\u001b[0m_codomain\u001b[0m\u001b[1;33m.\u001b[0m\u001b[0m_base\u001b[0m\u001b[1;33m)\u001b[0m\u001b[1;33m\u001b[0m\u001b[1;33m\u001b[0m\u001b[0m\n\u001b[0m\u001b[0;32m    261\u001b[0m         \u001b[1;32mif\u001b[0m \u001b[0mself\u001b[0m\u001b[1;33m.\u001b[0m\u001b[0mfix_sparseness\u001b[0m\u001b[1;33m:\u001b[0m\u001b[1;33m\u001b[0m\u001b[1;33m\u001b[0m\u001b[0m\n\u001b[0;32m    262\u001b[0m             \u001b[1;32mif\u001b[0m \u001b[0mB\u001b[0m\u001b[1;33m.\u001b[0m\u001b[0mis_sparse_c\u001b[0m\u001b[1;33m(\u001b[0m\u001b[1;33m)\u001b[0m\u001b[1;33m:\u001b[0m\u001b[1;33m\u001b[0m\u001b[1;33m\u001b[0m\u001b[0m\n",
      "\u001b[1;32m/opt/SageMath/local/lib/python3.9/site-packages/sage/matrix/matrix0.pyx\u001b[0m in \u001b[0;36msage.matrix.matrix0.Matrix.change_ring (build/cythonized/sage/matrix/matrix0.c:11458)\u001b[1;34m()\u001b[0m\n\u001b[0;32m   1646\u001b[0m         \u001b[1;32mexcept\u001b[0m \u001b[1;33m(\u001b[0m\u001b[0mAttributeError\u001b[0m\u001b[1;33m,\u001b[0m \u001b[0mNotImplementedError\u001b[0m\u001b[1;33m)\u001b[0m\u001b[1;33m:\u001b[0m\u001b[1;33m\u001b[0m\u001b[1;33m\u001b[0m\u001b[0m\n\u001b[0;32m   1647\u001b[0m             \u001b[0mM\u001b[0m \u001b[1;33m=\u001b[0m \u001b[0msage\u001b[0m\u001b[1;33m.\u001b[0m\u001b[0mmatrix\u001b[0m\u001b[1;33m.\u001b[0m\u001b[0mmatrix_space\u001b[0m\u001b[1;33m.\u001b[0m\u001b[0mMatrixSpace\u001b[0m\u001b[1;33m(\u001b[0m\u001b[0mring\u001b[0m\u001b[1;33m,\u001b[0m \u001b[0mself\u001b[0m\u001b[1;33m.\u001b[0m\u001b[0m_nrows\u001b[0m\u001b[1;33m,\u001b[0m \u001b[0mself\u001b[0m\u001b[1;33m.\u001b[0m\u001b[0m_ncols\u001b[0m\u001b[1;33m,\u001b[0m \u001b[0msparse\u001b[0m\u001b[1;33m=\u001b[0m\u001b[0mself\u001b[0m\u001b[1;33m.\u001b[0m\u001b[0mis_sparse\u001b[0m\u001b[1;33m(\u001b[0m\u001b[1;33m)\u001b[0m\u001b[1;33m)\u001b[0m\u001b[1;33m\u001b[0m\u001b[1;33m\u001b[0m\u001b[0m\n\u001b[1;32m-> 1648\u001b[1;33m             \u001b[0mmat\u001b[0m \u001b[1;33m=\u001b[0m \u001b[0mM\u001b[0m\u001b[1;33m(\u001b[0m\u001b[0mself\u001b[0m\u001b[1;33m.\u001b[0m\u001b[0mlist\u001b[0m\u001b[1;33m(\u001b[0m\u001b[1;33m)\u001b[0m\u001b[1;33m,\u001b[0m \u001b[0mcoerce\u001b[0m\u001b[1;33m=\u001b[0m\u001b[1;32mTrue\u001b[0m\u001b[1;33m,\u001b[0m \u001b[0mcopy\u001b[0m\u001b[1;33m=\u001b[0m\u001b[1;32mFalse\u001b[0m\u001b[1;33m)\u001b[0m\u001b[1;33m\u001b[0m\u001b[1;33m\u001b[0m\u001b[0m\n\u001b[0m\u001b[0;32m   1649\u001b[0m             \u001b[1;32mif\u001b[0m \u001b[0mself\u001b[0m\u001b[1;33m.\u001b[0m\u001b[0m_subdivisions\u001b[0m \u001b[1;32mis\u001b[0m \u001b[1;32mnot\u001b[0m \u001b[1;32mNone\u001b[0m\u001b[1;33m:\u001b[0m\u001b[1;33m\u001b[0m\u001b[1;33m\u001b[0m\u001b[0m\n\u001b[0;32m   1650\u001b[0m                 \u001b[0mmat\u001b[0m\u001b[1;33m.\u001b[0m\u001b[0msubdivide\u001b[0m\u001b[1;33m(\u001b[0m\u001b[0mself\u001b[0m\u001b[1;33m.\u001b[0m\u001b[0msubdivisions\u001b[0m\u001b[1;33m(\u001b[0m\u001b[1;33m)\u001b[0m\u001b[1;33m)\u001b[0m\u001b[1;33m\u001b[0m\u001b[1;33m\u001b[0m\u001b[0m\n",
      "\u001b[1;32m/opt/SageMath/local/lib/python3.9/site-packages/sage/matrix/matrix_space.py\u001b[0m in \u001b[0;36m__call__\u001b[1;34m(self, entries, coerce, copy)\u001b[0m\n\u001b[0;32m    848\u001b[0m             \u001b[1;33m[\u001b[0m\u001b[0mt\u001b[0m\u001b[1;33m]\u001b[0m\u001b[1;33m\u001b[0m\u001b[1;33m\u001b[0m\u001b[0m\n\u001b[0;32m    849\u001b[0m         \"\"\"\n\u001b[1;32m--> 850\u001b[1;33m         \u001b[1;32mreturn\u001b[0m \u001b[0mself\u001b[0m\u001b[1;33m.\u001b[0m\u001b[0melement_class\u001b[0m\u001b[1;33m(\u001b[0m\u001b[0mself\u001b[0m\u001b[1;33m,\u001b[0m \u001b[0mentries\u001b[0m\u001b[1;33m,\u001b[0m \u001b[0mcopy\u001b[0m\u001b[1;33m,\u001b[0m \u001b[0mcoerce\u001b[0m\u001b[1;33m)\u001b[0m\u001b[1;33m\u001b[0m\u001b[1;33m\u001b[0m\u001b[0m\n\u001b[0m\u001b[0;32m    851\u001b[0m \u001b[1;33m\u001b[0m\u001b[0m\n\u001b[0;32m    852\u001b[0m     \u001b[1;32mdef\u001b[0m \u001b[0mchange_ring\u001b[0m\u001b[1;33m(\u001b[0m\u001b[0mself\u001b[0m\u001b[1;33m,\u001b[0m \u001b[0mR\u001b[0m\u001b[1;33m)\u001b[0m\u001b[1;33m:\u001b[0m\u001b[1;33m\u001b[0m\u001b[1;33m\u001b[0m\u001b[0m\n",
      "\u001b[1;32m/opt/SageMath/local/lib/python3.9/site-packages/sage/matrix/matrix0.pyx\u001b[0m in \u001b[0;36msage.matrix.matrix0.Matrix.__cinit__ (build/cythonized/sage/matrix/matrix0.c:4240)\u001b[1;34m()\u001b[0m\n\u001b[0;32m    118\u001b[0m         \u001b[0mself\u001b[0m\u001b[1;33m.\u001b[0m\u001b[0m_parent\u001b[0m \u001b[1;33m=\u001b[0m \u001b[0mP\u001b[0m\u001b[1;33m\u001b[0m\u001b[1;33m\u001b[0m\u001b[0m\n\u001b[0;32m    119\u001b[0m         \u001b[0mself\u001b[0m\u001b[1;33m.\u001b[0m\u001b[0m_base_ring\u001b[0m \u001b[1;33m=\u001b[0m \u001b[0mP\u001b[0m\u001b[1;33m.\u001b[0m\u001b[0m_base\u001b[0m\u001b[1;33m\u001b[0m\u001b[1;33m\u001b[0m\u001b[0m\n\u001b[1;32m--> 120\u001b[1;33m         \u001b[0mself\u001b[0m\u001b[1;33m.\u001b[0m\u001b[0m_nrows\u001b[0m \u001b[1;33m=\u001b[0m \u001b[0mP\u001b[0m\u001b[1;33m.\u001b[0m\u001b[0mnrows\u001b[0m\u001b[1;33m(\u001b[0m\u001b[1;33m)\u001b[0m\u001b[1;33m\u001b[0m\u001b[1;33m\u001b[0m\u001b[0m\n\u001b[0m\u001b[0;32m    121\u001b[0m         \u001b[0mself\u001b[0m\u001b[1;33m.\u001b[0m\u001b[0m_ncols\u001b[0m \u001b[1;33m=\u001b[0m \u001b[0mP\u001b[0m\u001b[1;33m.\u001b[0m\u001b[0mncols\u001b[0m\u001b[1;33m(\u001b[0m\u001b[1;33m)\u001b[0m\u001b[1;33m\u001b[0m\u001b[1;33m\u001b[0m\u001b[0m\n\u001b[0;32m    122\u001b[0m         \u001b[0mself\u001b[0m\u001b[1;33m.\u001b[0m\u001b[0mhash\u001b[0m \u001b[1;33m=\u001b[0m \u001b[1;33m-\u001b[0m\u001b[1;36m1\u001b[0m\u001b[1;33m\u001b[0m\u001b[1;33m\u001b[0m\u001b[0m\n",
      "\u001b[1;32m/opt/SageMath/local/lib/python3.9/site-packages/sage/matrix/matrix_space.py\u001b[0m in \u001b[0;36mnrows\u001b[1;34m(self)\u001b[0m\n\u001b[0;32m   2024\u001b[0m         \u001b[1;32mreturn\u001b[0m \u001b[0mself\u001b[0m\u001b[1;33m.\u001b[0m\u001b[0m__ncols\u001b[0m\u001b[1;33m\u001b[0m\u001b[1;33m\u001b[0m\u001b[0m\n\u001b[0;32m   2025\u001b[0m \u001b[1;33m\u001b[0m\u001b[0m\n\u001b[1;32m-> 2026\u001b[1;33m     \u001b[1;32mdef\u001b[0m \u001b[0mnrows\u001b[0m\u001b[1;33m(\u001b[0m\u001b[0mself\u001b[0m\u001b[1;33m)\u001b[0m\u001b[1;33m:\u001b[0m\u001b[1;33m\u001b[0m\u001b[1;33m\u001b[0m\u001b[0m\n\u001b[0m\u001b[0;32m   2027\u001b[0m         \"\"\"\n\u001b[0;32m   2028\u001b[0m         \u001b[0mReturn\u001b[0m \u001b[0mthe\u001b[0m \u001b[0mnumber\u001b[0m \u001b[0mof\u001b[0m \u001b[0mrows\u001b[0m \u001b[0mof\u001b[0m \u001b[0mmatrices\u001b[0m \u001b[1;32min\u001b[0m \u001b[0mthis\u001b[0m \u001b[0mspace\u001b[0m\u001b[1;33m.\u001b[0m\u001b[1;33m\u001b[0m\u001b[1;33m\u001b[0m\u001b[0m\n",
      "\u001b[1;32msrc/cysignals/signals.pyx\u001b[0m in \u001b[0;36mcysignals.signals.python_check_interrupt\u001b[1;34m()\u001b[0m\n",
      "\u001b[1;31mKeyboardInterrupt\u001b[0m: "
     ]
    }
   ],
   "source": [
    "tracegaps( (0,1,1,0,1), test6state, (1,0),(0,1) )"
   ]
  },
  {
   "cell_type": "code",
   "execution_count": 67,
   "metadata": {},
   "outputs": [
    {
     "data": {
      "text/plain": [
       "{(0, 0, 0, 0, 1, 1, 1, 1), (1, 1, 1, 1, 0, 1, 0, 1), (0, 0, 0, 0, 1, 0, 1, 0), (0, 0, 0, 0, 1, 1, 1, 0), (1, 1, 1, 1, 0, 0, 0, 0), (1, 1, 1, 1, 0, 0, 0, 1)}"
      ]
     },
     "execution_count": 67,
     "metadata": {},
     "output_type": "execute_result"
    }
   ],
   "source": [
    "lookup(NC,5,8).intersection(lookup(SC,2,8))"
   ]
  },
  {
   "cell_type": "code",
   "execution_count": 114,
   "metadata": {},
   "outputs": [
    {
     "name": "stdout",
     "output_type": "stream",
     "text": [
      "({0: [1/8 7/8]\n",
      "[5/8 3/8], 1: [  0   1]\n",
      "[3/4 1/4]}, [1 0], [0]\n",
      "[1]) 0.592529296875000 gap 0.00109863281250000\n",
      "\n"
     ]
    }
   ],
   "source": [
    "thisx = (0, 0, 0, 0, 1, 0, 1, 0)\n",
    "mingap = 0.001\n",
    "v = (1,0)\n",
    "f = (1,0)\n",
    "f = list(reversed(f))\n",
    "thiswits = findwitness(test2x8,thisx,v,f,stop=0)\n",
    "for w in thiswits:\n",
    "    slist = sortproblist(list_probs_fromwits(w,lengths=Integer(len(thisx))))\n",
    "    thisgap = N(slist[0][1] - slist[1][1])\n",
    "    if thisgap > mingap:\n",
    "        print(w,N(slist[0][1]),\"gap\",thisgap)\n",
    "        print(\"\")"
   ]
  },
  {
   "cell_type": "code",
   "execution_count": null,
   "metadata": {},
   "outputs": [],
   "source": [
    "SW[thisx]"
   ]
  },
  {
   "cell_type": "code",
   "execution_count": 92,
   "metadata": {},
   "outputs": [],
   "source": [
    "savewits()"
   ]
  },
  {
   "cell_type": "code",
   "execution_count": null,
   "metadata": {},
   "outputs": [],
   "source": [
    "[s for s in SC.keys() if SC[s] >= floor(len(s)/2)+1]"
   ]
  },
  {
   "cell_type": "code",
   "execution_count": 10,
   "metadata": {},
   "outputs": [
    {
     "name": "stdout",
     "output_type": "stream",
     "text": [
      "4 possible entries\n",
      "9 rows\n",
      "729 matrices\n",
      "265356 matrix tuples\n"
     ]
    }
   ],
   "source": [
    "some3x5 = bruteforceprobs(3,(0,1/5),permute=False,info=True)"
   ]
  },
  {
   "cell_type": "code",
   "execution_count": 17,
   "metadata": {},
   "outputs": [
    {
     "name": "stdout",
     "output_type": "stream",
     "text": [
      "(0, 0, 1, 1, 1) 3\n",
      "(0, 0, 1, 1, 1, 0) 3\n",
      "(0, 0, 1, 1, 1, 1) 3\n",
      "\n",
      "(1, 1, 0, 0, 0) 3\n",
      "(1, 1, 0, 0, 0, 0) 3\n",
      "(1, 1, 0, 0, 0, 1) 3\n",
      "\n"
     ]
    }
   ],
   "source": [
    "for s in NC.keys():\n",
    "    if len(s) > 6: continue;\n",
    "    if not isNFArand(s): continue;\n",
    "    test = False;\n",
    "    if isNFArand(s+(0,)) or isNFArand(s+(1,)): test = True;\n",
    "    if test == False:\n",
    "        print(s,NC[s])\n",
    "        print(s+(0,),NC[s+(0,)])\n",
    "        print(s+(1,),NC[s+(1,)])\n",
    "        print(\"\")"
   ]
  },
  {
   "cell_type": "code",
   "execution_count": 22,
   "metadata": {},
   "outputs": [
    {
     "data": {
      "text/plain": [
       "[(\n",
       "{0: [     1/100     99/100]                            \n",
       "[5001/10000 4999/10000], 1: [51/100 49/100]         [1]\n",
       "[ 1/100 99/100]}                           , [1 0], [0]\n",
       "),\n",
       " (\n",
       "{0: [  0   1]                      \n",
       "[1/2 1/2], 1: [1/2 1/2]         [1]\n",
       "[  0   1]}             , [1 0], [0]\n",
       "),\n",
       " (\n",
       "{0: [5/8 3/8]                      \n",
       "[  1   0], 1: [3/4 1/4]         [1]\n",
       "[1/2 1/2]}             , [1 0], [0]\n",
       ")]"
      ]
     },
     "execution_count": 22,
     "metadata": {},
     "output_type": "execute_result"
    }
   ],
   "source": [
    "SW[(0,1,1,0)]"
   ]
  },
  {
   "cell_type": "code",
   "execution_count": 25,
   "metadata": {},
   "outputs": [
    {
     "name": "stdout",
     "output_type": "stream",
     "text": [
      "({0: [     1/100     99/100]\n",
      "[5001/10000 4999/10000], 1: [51/100 49/100]\n",
      "[ 1/100 99/100]}, [1 0], [1]\n",
      "[0]) 0.491523250000000 gap 0.0576232624500000\n",
      "\n",
      "({0: [  0   1]\n",
      "[1/2 1/2], 1: [1/2 1/2]\n",
      "[  0   1]}, [1 0], [1]\n",
      "[0]) 0.500000000000000 gap 0.0625000000000000\n",
      "\n",
      "({0: [5/8 3/8]\n",
      "[  1   0], 1: [3/4 1/4]\n",
      "[1/2 1/2]}, [1 0], [1]\n",
      "[0]) 0.750976562500000 gap 0.00292968750000000\n",
      "\n"
     ]
    }
   ],
   "source": [
    "for w in SW[(0,1,1,0)]:\n",
    "    slist = sortproblist(list_probs_fromwits(w,lengths=4))\n",
    "    thisgap = N(slist[0][1] - slist[1][1])\n",
    "    print(w,N(slist[0][1]),\"gap\",thisgap)\n",
    "    print(\"\")"
   ]
  },
  {
   "cell_type": "code",
   "execution_count": null,
   "metadata": {},
   "outputs": [],
   "source": [
    "for w in SW[(0,1,1,0)]:\n",
    "    slist = sortproblist(list_probs_fromwits(w,lengths=5))\n",
    "    print(w,slist)\n",
    "    print(\"\")"
   ]
  },
  {
   "cell_type": "code",
   "execution_count": 129,
   "metadata": {},
   "outputs": [
    {
     "name": "stdout",
     "output_type": "stream",
     "text": [
      "141\n"
     ]
    }
   ],
   "source": [
    "v = (1,0)\n",
    "f = (0,1)\n",
    "f=tuple(reversed(f))\n",
    "uniq3 = finduniques(three2x2,7,v,f);\n",
    "print(len(uniq3))"
   ]
  },
  {
   "cell_type": "code",
   "execution_count": 130,
   "metadata": {},
   "outputs": [
    {
     "name": "stdout",
     "output_type": "stream",
     "text": [
      "6\n"
     ]
    }
   ],
   "source": [
    "selectlist = [u for u in uniq3 if usesletters(u[1][0],3)];\n",
    "print(len(selectlist))"
   ]
  },
  {
   "cell_type": "code",
   "execution_count": 132,
   "metadata": {},
   "outputs": [
    {
     "data": {
      "text/plain": [
       "12"
      ]
     },
     "execution_count": 132,
     "metadata": {},
     "output_type": "execute_result"
    }
   ],
   "source": [
    "addwitsnew(selectlist,v,f)"
   ]
  },
  {
   "cell_type": "code",
   "execution_count": 133,
   "metadata": {},
   "outputs": [],
   "source": [
    "savewits()"
   ]
  },
  {
   "cell_type": "code",
   "execution_count": 8,
   "metadata": {},
   "outputs": [
    {
     "name": "stdout",
     "output_type": "stream",
     "text": [
      "6\n"
     ]
    }
   ],
   "source": [
    "print(len(S3[4].difference(Set(SC.keys()))))"
   ]
  },
  {
   "cell_type": "code",
   "execution_count": 7,
   "metadata": {},
   "outputs": [
    {
     "name": "stdout",
     "output_type": "stream",
     "text": [
      "({0: [1/2 1/2   0]\n",
      "[  1   0   0]\n",
      "[  1   0   0], 1: [1/2   0 1/2]\n",
      "[  1   0   0]\n",
      "[1/2 1/2   0]}, [1 0 0], [0]\n",
      "[0]\n",
      "[1])\n"
     ]
    }
   ],
   "source": [
    "sig = (0,1,1,0,1)\n",
    "witsig = SW[(0,1,1,0,1)][0]\n",
    "print(witsig)"
   ]
  },
  {
   "cell_type": "code",
   "execution_count": 154,
   "metadata": {},
   "outputs": [
    {
     "name": "stdout",
     "output_type": "stream",
     "text": [
      "path [0, 0, 0, 0, 0, 2] has prob 1/32\n",
      "path [0, 1, 0, 0, 0, 2] has prob 1/16\n",
      "path [0, 0, 2, 0, 0, 2] has prob 1/32\n",
      "path [0, 0, 2, 1, 0, 2] has prob 1/16\n",
      "path [0, 0, 0, 2, 0, 2] has prob 1/16\n",
      "path [0, 1, 0, 2, 0, 2] has prob 1/8\n"
     ]
    }
   ],
   "source": [
    "pathlist(SW[(0,1,1,0,1)][0][0],(0,1,1,0,1),(0,0,1))"
   ]
  },
  {
   "cell_type": "code",
   "execution_count": 153,
   "metadata": {},
   "outputs": [
    {
     "name": "stdout",
     "output_type": "stream",
     "text": [
      "path [0, 0, 0, 0, 0, 2] has prob 1/32\n",
      "path [0, 1, 0, 0, 0, 2] has prob 1/16\n",
      "path [0, 0, 1, 0, 0, 2] has prob 1/16\n",
      "path [0, 0, 0, 1, 0, 2] has prob 1/16\n",
      "path [0, 1, 0, 1, 0, 2] has prob 1/8\n"
     ]
    }
   ],
   "source": [
    "pathlist(SW[(0,1,1,0,1)][0][0],(0,0,0,0,1),(0,0,1))"
   ]
  },
  {
   "cell_type": "code",
   "execution_count": 149,
   "metadata": {},
   "outputs": [],
   "source": [
    "pathlist(SW[(0,1,1,0,1)][0][0],(1,1,0,1,0),(0,0,1))"
   ]
  },
  {
   "cell_type": "code",
   "execution_count": 151,
   "metadata": {},
   "outputs": [
    {
     "data": {
      "text/plain": [
       "[((0, 1, 1, 0, 1), 3/8),\n",
       " ((0, 0, 0, 0, 1), 11/32),\n",
       " ((0, 0, 0, 1, 1), 11/32),\n",
       " ((0, 0, 1, 0, 1), 11/32),\n",
       " ((0, 1, 0, 0, 1), 11/32),\n",
       " ((0, 1, 0, 1, 1), 11/32),\n",
       " ((1, 0, 0, 0, 1), 11/32),\n",
       " ((1, 0, 0, 1, 1), 11/32),\n",
       " ((1, 0, 1, 0, 1), 11/32),\n",
       " ((1, 1, 1, 0, 1), 11/32),\n",
       " ((1, 1, 0, 0, 1), 5/16),\n",
       " ((1, 1, 0, 1, 1), 5/16),\n",
       " ((0, 1, 1, 1, 1), 9/32),\n",
       " ((1, 1, 1, 1, 1), 9/32),\n",
       " ((0, 0, 1, 1, 1), 1/4),\n",
       " ((1, 0, 1, 1, 1), 1/4),\n",
       " ((0, 0, 0, 0, 0), 0),\n",
       " ((0, 0, 0, 1, 0), 0),\n",
       " ((0, 0, 1, 0, 0), 0),\n",
       " ((0, 0, 1, 1, 0), 0),\n",
       " ((0, 1, 0, 0, 0), 0),\n",
       " ((0, 1, 0, 1, 0), 0),\n",
       " ((0, 1, 1, 0, 0), 0),\n",
       " ((0, 1, 1, 1, 0), 0),\n",
       " ((1, 0, 0, 0, 0), 0),\n",
       " ((1, 0, 0, 1, 0), 0),\n",
       " ((1, 0, 1, 0, 0), 0),\n",
       " ((1, 0, 1, 1, 0), 0),\n",
       " ((1, 1, 0, 0, 0), 0),\n",
       " ((1, 1, 0, 1, 0), 0),\n",
       " ((1, 1, 1, 0, 0), 0),\n",
       " ((1, 1, 1, 1, 0), 0)]"
      ]
     },
     "execution_count": 151,
     "metadata": {},
     "output_type": "execute_result"
    }
   ],
   "source": [
    "sortproblist(list_probs_fromwits(SW[(0,1,1,0,1)][0],lengths=5))"
   ]
  },
  {
   "cell_type": "code",
   "execution_count": 6,
   "metadata": {},
   "outputs": [],
   "source": [
    "a,b,c,d,e,f,g,h,i=var('a,b,c,d,e,f,g,h,i')"
   ]
  },
  {
   "cell_type": "code",
   "execution_count": 157,
   "metadata": {},
   "outputs": [],
   "source": [
    "M = Matrix( [[ a,b,c,(a+b)/2,(a+b)/2,c],\n",
    "             [d,e,f,d,e,f],\n",
    "             [g,h,i,g,h,i]] )"
   ]
  },
  {
   "cell_type": "code",
   "execution_count": 167,
   "metadata": {},
   "outputs": [
    {
     "data": {
      "text/plain": [
       "[ 1  0  0  4 -1 -2]\n",
       "[ 0  1  0  0  1  0]\n",
       "[ 0  0  1  0  0  1]"
      ]
     },
     "execution_count": 167,
     "metadata": {},
     "output_type": "execute_result"
    }
   ],
   "source": [
    "Matrix(QQ, [[1/16,5/16,5/8, 1/4,1/4,1/2],\n",
    "            [0,1,0,0,1,0],\n",
    "            [0,0,1,0,0,1]]).rref()"
   ]
  },
  {
   "cell_type": "code",
   "execution_count": 175,
   "metadata": {},
   "outputs": [
    {
     "data": {
      "text/plain": [
       "[         1          0          0          1 -b/a + c/a  b/a - c/a]\n",
       "[         0          1          0          0          1          0]\n",
       "[         0          0          1          0          0          1]"
      ]
     },
     "execution_count": 175,
     "metadata": {},
     "output_type": "execute_result"
    }
   ],
   "source": [
    "Matrix([[a,b,c,a,c,b],\n",
    "            [0,1,0,0,1,0],\n",
    "            [0,0,1,0,0,1]]).rref()"
   ]
  },
  {
   "cell_type": "code",
   "execution_count": null,
   "metadata": {},
   "outputs": [
    {
     "data": {
      "text/plain": [
       "[ 1/48   1/3 31/48]\n",
       "[    0     1     0]\n",
       "[    0     0     1]"
      ]
     },
     "execution_count": 168,
     "metadata": {},
     "output_type": "execute_result"
    }
   ],
   "source": [
    "Matrix( [[1/16,5/16,5/8],[0,1,0],[0,0,1]]) * Matrix([[4,-1,-2],[0,1,0],[0,0,1]]) * Matrix( [[1/12,1/3,7/12],[0,1,0],[0,0,1]])"
   ]
  },
  {
   "cell_type": "code",
   "execution_count": 176,
   "metadata": {},
   "outputs": [
    {
     "data": {
      "text/plain": [
       "[0 0 0]\n",
       "[0 0 0]\n",
       "[1 0 0]"
      ]
     },
     "execution_count": 176,
     "metadata": {},
     "output_type": "execute_result"
    }
   ],
   "source": [
    "Matrix([0,0,1]).transpose()*Matrix([1,0,0])"
   ]
  },
  {
   "cell_type": "code",
   "execution_count": 84,
   "metadata": {},
   "outputs": [],
   "source": [
    "#returns an m-adic PFA, a la Salomaa/Turakainen. It is a tuple: (matrices, initial, accepting) (as in SW)\n",
    "#input: homo, a dict giving a homomorphism. Keys are generators of the language, values are their images (all strings)\n",
    "def madic(homo):\n",
    "    alph = list(homo.keys());\n",
    "    m = max([int(a) for a in alph])+1;\n",
    "    themats = {}; #matrix dict to generate\n",
    "    for letter in alph:\n",
    "        phi = madic_expansion(homo[letter],m);\n",
    "        malpha = m^(-len(homo[letter]));\n",
    "        themats.update({letter: Matrix(QQ, [[malpha, 1-malpha-phi, phi],\n",
    "                                           [0,1,0],\n",
    "                                           [0,0,1]])});\n",
    "    return (themats, Matrix([1,0,0]), Matrix([0,0,1]).transpose());\n",
    "\n",
    "#given a PFA in \"witness\" form, return a new PFA whose transition matrices are multiplied by the matrices\n",
    "#in mask. That is, matrices[letter] becomes matrices[letter]*mask[letter]. (Right multiplication by default,\n",
    "#but set left=True if you want left multiplication.)\n",
    "#Does NOT check the types of anything or the sizes of matrices\n",
    "def multiplyPFA(thePFA,mask,left=False):\n",
    "    newmats = {};\n",
    "    for letter in thePFA[0].keys():\n",
    "        assert letter in mask.keys();\n",
    "        if left:\n",
    "            newmats.update({letter:mask[letter]*thePFA[0][letter]});\n",
    "        else:\n",
    "            newmats.update({letter:thePFA[0][letter]*mask[letter]});\n",
    "    return (newmats,thePFA[1],thePFA[2]);"
   ]
  },
  {
   "cell_type": "code",
   "execution_count": 85,
   "metadata": {},
   "outputs": [
    {
     "name": "stdout",
     "output_type": "stream",
     "text": [
      "({'0': [1/2 1/2   0]\n",
      "[  0   1   0]\n",
      "[  0   0   1], '1': [1/2   0 1/2]\n",
      "[  0   1   0]\n",
      "[  0   0   1]}, [1 0 0], [0]\n",
      "[0]\n",
      "[1])\n"
     ]
    }
   ],
   "source": [
    "testhom = {'0':'0', '1':'1'};\n",
    "testmad = madic(testhom)\n",
    "print(testmad)"
   ]
  },
  {
   "cell_type": "code",
   "execution_count": 86,
   "metadata": {},
   "outputs": [
    {
     "name": "stdout",
     "output_type": "stream",
     "text": [
      "({'0': [1/2   0 1/2]\n",
      "[  0   0   1]\n",
      "[  0   1   0], '1': [1/2 1/2   0]\n",
      "[  0   0   1]\n",
      "[  0   1   0]}, [1 0 0], [0]\n",
      "[0]\n",
      "[1])\n"
     ]
    }
   ],
   "source": [
    "col23switch = Matrix([[1,0,0],[0,0,1],[0,1,0]]);\n",
    "row23switch = Matrix([[1,1,-1],[0,0,1],[0,1,0]]);\n",
    "testmask = {'0': col23switch, '1':col23switch};\n",
    "newtestmad = multiplyPFA(testmad,testmask);\n",
    "print(newtestmad)"
   ]
  },
  {
   "cell_type": "code",
   "execution_count": 151,
   "metadata": {},
   "outputs": [
    {
     "name": "stdout",
     "output_type": "stream",
     "text": [
      "((1, 1), 3/4) (1, 1)\n",
      "((1, 0), 1/2) (1, 0)\n",
      "((0, 1), 1/4) (0, 1)\n",
      "((0, 0), 0) (0, 0)\n"
     ]
    }
   ],
   "source": [
    "for entry in sortproblist(list_probs_witness(testmad,lengths=2)):\n",
    "    print(entry,homo_image(testhom,entry[0]))"
   ]
  },
  {
   "cell_type": "code",
   "execution_count": 155,
   "metadata": {},
   "outputs": [
    {
     "name": "stdout",
     "output_type": "stream",
     "text": [
      "((1, 0), 3/4) 0.11000000000000000000000000000000000000000000000000000\n",
      "((0,), 1/2) 0.10000000000000000000000000000000000000000000000000000\n",
      "((1, 1), 1/2) 0.10000000000000000000000000000000000000000000000000000\n",
      "((0, 0), 1/4) 0.010000000000000000000000000000000000000000000000000000\n",
      "((), 0) 0.0000000000000000000000000000000000000000000000000000\n",
      "((1,), 0) 0.0000000000000000000000000000000000000000000000000000\n",
      "((0, 1), 0) 0.0000000000000000000000000000000000000000000000000000\n"
     ]
    }
   ],
   "source": [
    "for entry in sortproblist(list_probs_witness(newtestmad,lengths=range(3))):\n",
    "    print(entry,entry[1].n().str(base=2))"
   ]
  },
  {
   "cell_type": "code",
   "execution_count": 163,
   "metadata": {},
   "outputs": [
    {
     "data": {
      "text/plain": [
       "'0.10101000000000000000000000000000000000000000000000000'"
      ]
     },
     "execution_count": 163,
     "metadata": {},
     "output_type": "execute_result"
    }
   ],
   "source": [
    "accprob_witness(newtestmad,(0,0,0,0,0,0,1)).n().str(base=2)"
   ]
  },
  {
   "cell_type": "code",
   "execution_count": 13,
   "metadata": {},
   "outputs": [],
   "source": [
    "gfa1 = bruteforcevecs(maketuple(([1,0],[0,1],[1/2,0],[0,1/2],[1/2,1/2],[0,0])))"
   ]
  },
  {
   "cell_type": "code",
   "execution_count": 14,
   "metadata": {},
   "outputs": [
    {
     "data": {
      "text/plain": [
       "1296"
      ]
     },
     "execution_count": 14,
     "metadata": {},
     "output_type": "execute_result"
    }
   ],
   "source": [
    "len(gfa1)"
   ]
  },
  {
   "cell_type": "code",
   "execution_count": 62,
   "metadata": {},
   "outputs": [],
   "source": [
    "f0(x) = 1/2 + (1/6)*x\n",
    "f1(x) = 1/4 + (1/3)*x"
   ]
  },
  {
   "cell_type": "code",
   "execution_count": 2,
   "metadata": {},
   "outputs": [],
   "source": [
    "def composelist(funclist):\n",
    "    l = len(funclist);\n",
    "    assert l >= 2;\n",
    "    outfun = funclist[l-1];\n",
    "    for n in range(1,l):\n",
    "        outfun = compose(funclist[l-n-1],outfun);\n",
    "    newf(x) = outfun; #I have no idea why this is necessary, Sage is SO clunky\n",
    "    return newf;"
   ]
  },
  {
   "cell_type": "code",
   "execution_count": 63,
   "metadata": {},
   "outputs": [
    {
     "data": {
      "text/plain": [
       "259/432"
      ]
     },
     "execution_count": 63,
     "metadata": {},
     "output_type": "execute_result"
    }
   ],
   "source": [
    "composelist([f0,f0,f1])(1)"
   ]
  },
  {
   "cell_type": "code",
   "execution_count": 143,
   "metadata": {},
   "outputs": [
    {
     "data": {
      "text/plain": [
       "(\n",
       "{'0': [1/2   0 1/2]                            \n",
       "[  0   0   1]                                  \n",
       "[  0   1   0], '1': [  1   0   0]           [0]\n",
       "[1/2 1/2   0]                               [0]\n",
       "[1/2 1/2   0]}                   , [1 0 0], [1]\n",
       ")"
      ]
     },
     "execution_count": 143,
     "metadata": {},
     "output_type": "execute_result"
    }
   ],
   "source": [
    "twit = SW[\"00001000\"][0]; twit"
   ]
  },
  {
   "cell_type": "code",
   "execution_count": 149,
   "metadata": {},
   "outputs": [],
   "source": [
    "twitlist = sortproblist(list_probs_witness(twit,lengths=range(3,18)))"
   ]
  },
  {
   "cell_type": "code",
   "execution_count": 150,
   "metadata": {},
   "outputs": [
    {
     "data": {
      "text/plain": [
       "[('000', 5/8),\n",
       " ('010', 5/8),\n",
       " ('0010', 11/16),\n",
       " ('00010', 23/32),\n",
       " ('01000', 23/32),\n",
       " ('001000', 49/64),\n",
       " ('0001000', 101/128),\n",
       " ('00001000', 205/256),\n",
       " ('000001000', 413/512),\n",
       " ('000100000', 413/512),\n",
       " ('0000100000', 837/1024),\n",
       " ('00000100000', 1685/2048),\n",
       " ('000000100000', 3381/4096),\n",
       " ('0000000100000', 6773/8192),\n",
       " ('0000010000000', 6773/8192),\n",
       " ('00000010000000', 13589/16384),\n",
       " ('000000010000000', 27221/32768),\n",
       " ('0000000010000000', 54485/65536),\n",
       " ('00000000010000000', 109013/131072),\n",
       " ('00000001000000000', 109013/131072)]"
      ]
     },
     "execution_count": 150,
     "metadata": {},
     "output_type": "execute_result"
    }
   ],
   "source": [
    "highest_prob(twitlist,lengths=\"all\")"
   ]
  },
  {
   "cell_type": "code",
   "execution_count": 6,
   "metadata": {},
   "outputs": [
    {
     "data": {
      "text/plain": [
       "[(\n",
       "{'0': [1/2 1/2   0]                            \n",
       "[  0   0   1]                                  \n",
       "[  0   1   0], '1': [  0 1/2 1/2]           [0]\n",
       "[1/2 1/2   0]                               [0]\n",
       "[  1   0   0]}                   , [1 0 0], [1]\n",
       ")]"
      ]
     },
     "execution_count": 6,
     "metadata": {},
     "output_type": "execute_result"
    }
   ],
   "source": [
    "SW[\"01000\"]"
   ]
  },
  {
   "cell_type": "code",
   "execution_count": 7,
   "metadata": {},
   "outputs": [],
   "source": [
    "twit2 = SW[\"01000\"][0]\n",
    "twitlist2 = sortproblist(list_probs_witness(twit2,lengths=range(3,16)))"
   ]
  },
  {
   "cell_type": "code",
   "execution_count": 8,
   "metadata": {},
   "outputs": [
    {
     "data": {
      "text/plain": [
       "[('010', 1/2),\n",
       " ('100', 1/2),\n",
       " ('0000', 5/8),\n",
       " ('01000', 9/16),\n",
       " ('000000', 21/32),\n",
       " ('0100000', 37/64),\n",
       " ('00000000', 85/128),\n",
       " ('010000000', 149/256),\n",
       " ('0000000000', 341/512),\n",
       " ('01000000000', 597/1024),\n",
       " ('000000000000', 1365/2048),\n",
       " ('0100000000000', 2389/4096),\n",
       " ('00000000000000', 5461/8192),\n",
       " ('010000000000000', 9557/16384)]"
      ]
     },
     "execution_count": 8,
     "metadata": {},
     "output_type": "execute_result"
    }
   ],
   "source": [
    "highest_prob(twitlist2,lengths=\"all\")"
   ]
  },
  {
   "cell_type": "code",
   "execution_count": 39,
   "metadata": {},
   "outputs": [
    {
     "data": {
      "text/plain": [
       "[(\n",
       "{'0': [  0   0   1]                            \n",
       "[1/2   0 1/2]                                  \n",
       "[  0 1/2 1/2], '1': [1/2   0 1/2]           [0]\n",
       "[  0   1   0]                               [0]\n",
       "[1/2 1/2   0]}                   , [1 0 0], [1]\n",
       ")]"
      ]
     },
     "execution_count": 39,
     "metadata": {},
     "output_type": "execute_result"
    }
   ],
   "source": [
    "SW[\"01001010\"]"
   ]
  },
  {
   "cell_type": "code",
   "execution_count": 11,
   "metadata": {},
   "outputs": [
    {
     "name": "stdout",
     "output_type": "stream",
     "text": [
      "010 3/4\n",
      "110 3/4\n",
      "1010 11/16\n",
      "1110 11/16\n",
      "01010 3/4\n",
      "001010 3/4\n",
      "101010 3/4\n",
      "1001010 95/128\n",
      "1101010 95/128\n",
      "01001010 3/4\n",
      "001001010 3/4\n",
      "101001010 3/4\n",
      "1001001010 767/1024\n",
      "1101001010 767/1024\n",
      "01001001010 3/4\n",
      "001001001010 3/4\n",
      "101001001010 3/4\n",
      "1001001001010 6143/8192\n",
      "1101001001010 6143/8192\n",
      "01001001001010 3/4\n",
      "001001001001010 3/4\n",
      "101001001001010 3/4\n"
     ]
    }
   ],
   "source": [
    "twit3 = SW[\"01001010\"][0]\n",
    "twitlist3 = sortproblist(list_probs_witness(twit3,lengths=range(3,16)))\n",
    "s=[print(*p) for p in highest_prob(twitlist3,lengths=\"all\")]"
   ]
  },
  {
   "cell_type": "code",
   "execution_count": 42,
   "metadata": {},
   "outputs": [
    {
     "data": {
      "text/plain": [
       "[(\n",
       "{'0': [1/6 5/6]                      \n",
       "[5/6 1/6], '1': [1/3 2/3]         [1]\n",
       "[1/2 1/2]}               , [1 0], [0]\n",
       "),\n",
       " (\n",
       "{'0': [1/6 5/6]                      \n",
       "[2/3 1/3], '1': [1/3 2/3]         [1]\n",
       "[1/2 1/2]}               , [1 0], [0]\n",
       "),\n",
       " (\n",
       "{'0': [  0   1]                      \n",
       "[5/6 1/6], '1': [1/6 5/6]         [1]\n",
       "[1/3 2/3]}               , [1 0], [0]\n",
       "),\n",
       " (\n",
       "{'0': [  0   1]                      \n",
       "[3/5 2/5], '1': [1/5 4/5]         [1]\n",
       "[2/5 3/5]}               , [1 0], [0]\n",
       "),\n",
       " (\n",
       "{'0': [1/6 5/6]                      \n",
       "[2/3 1/3], '1': [  0   1]         [0]\n",
       "[5/6 1/6]}               , [1 0], [1]\n",
       ")]"
      ]
     },
     "execution_count": 42,
     "metadata": {},
     "output_type": "execute_result"
    }
   ],
   "source": [
    "SW[\"00001010\"]"
   ]
  },
  {
   "cell_type": "code",
   "execution_count": 3,
   "metadata": {},
   "outputs": [
    {
     "name": "stdout",
     "output_type": "stream",
     "text": [
      "111 31/36\n",
      "0000 25/48\n",
      "11111 991/1296\n",
      "000010 317/576\n",
      "1111111 32551/46656\n",
      "00001010 3889/6912\n",
      "111111111 1093711/1679616\n",
      "0000101010 47093/82944\n",
      "11111111111 37420471/60466176\n",
      "000010101010 567241/995328\n",
      "1111111111111 1298308831/2176782336\n",
      "00001010101010 6817517/11943936\n",
      "111111111111110 15198673499/26121388032\n"
     ]
    }
   ],
   "source": [
    "twit4 = SW[\"00001010\"][4]\n",
    "twitlist4 = sortproblist(list_probs_witness(twit4,lengths=range(3,16)))\n",
    "s=[print(*p) for p in highest_prob(twitlist4,lengths=\"all\")]"
   ]
  },
  {
   "cell_type": "code",
   "execution_count": 4,
   "metadata": {},
   "outputs": [
    {
     "name": "stdout",
     "output_type": "stream",
     "text": [
      "110 10/27\n",
      "0000 14/27\n",
      "11010 101/243\n",
      "000000 110/243\n",
      "1101010 931/2187\n",
      "00000010 949/2187\n",
      "110101010 8423/19683\n",
      "0000001010 8459/19683\n",
      "11010101010 75895/177147\n",
      "000000101010 75967/177147\n",
      "1101010101010 683231/1594323\n",
      "00000010101010 683375/1594323\n",
      "110101010101010 6149431/14348907\n"
     ]
    }
   ],
   "source": [
    "twit5=SW[\"00000010\"][0];\n",
    "twitlist5 = sortproblist(list_probs_witness(twit5,lengths=range(3,16)))\n",
    "s=[print(*p) for p in highest_prob(twitlist5,lengths=\"all\")]"
   ]
  },
  {
   "cell_type": "code",
   "execution_count": 5,
   "metadata": {},
   "outputs": [
    {
     "data": {
      "text/plain": [
       "(\n",
       "{'0': [  0   1]                      \n",
       "[2/3 1/3], '1': [1/6 5/6]         [1]\n",
       "[1/2 1/2]}               , [1 0], [0]\n",
       ")"
      ]
     },
     "execution_count": 5,
     "metadata": {},
     "output_type": "execute_result"
    }
   ],
   "source": [
    "twit5"
   ]
  },
  {
   "cell_type": "code",
   "execution_count": 12,
   "metadata": {},
   "outputs": [
    {
     "name": "stdout",
     "output_type": "stream",
     "text": [
      "000 399/512\n",
      "1010 595/1024\n",
      "00000 23135/32768\n",
      "101010 41167/65536\n",
      "0000010 1403339/2097152\n",
      "10101010 2699515/4194304\n",
      "000001010 88190375/134217728\n",
      "1010101010 174130327/268435456\n",
      "00000101010 5610094259/8589934592\n",
      "101010101010 11172929635/17179869184\n",
      "0000010101010 358330148015/549755813888\n",
      "10101010101010 715667859487/1099511627776\n",
      "000001010101010 22918095897179/35184372088832\n"
     ]
    }
   ],
   "source": [
    "twit6=SW[\"0000010\"][0]\n",
    "twitlist6 = sortproblist(list_probs_witness(twit6,lengths=range(3,16)))\n",
    "s=[print(*p) for p in highest_prob(twitlist6,lengths=\"all\")]"
   ]
  },
  {
   "cell_type": "code",
   "execution_count": 13,
   "metadata": {},
   "outputs": [
    {
     "data": {
      "text/plain": [
       "(\n",
       "{'0': [1/8 7/8]                      \n",
       "[  1   0], '1': [1/2 1/2]         [0]\n",
       "[7/8 1/8]}               , [1 0], [1]\n",
       ")"
      ]
     },
     "execution_count": 13,
     "metadata": {},
     "output_type": "execute_result"
    }
   ],
   "source": [
    "twit6"
   ]
  },
  {
   "cell_type": "code",
   "execution_count": null,
   "metadata": {},
   "outputs": [],
   "source": []
  }
 ],
 "metadata": {
  "kernelspec": {
   "display_name": "SageMath 9.4",
   "language": "sage",
   "name": "sagemath"
  },
  "language_info": {
   "codemirror_mode": {
    "name": "ipython",
    "version": 3
   },
   "file_extension": ".py",
   "mimetype": "text/x-python",
   "name": "python",
   "nbconvert_exporter": "python",
   "pygments_lexer": "ipython3",
   "version": "3.9.5"
  },
  "toc-autonumbering": false,
  "toc-showcode": true,
  "toc-showmarkdowntxt": false,
  "toc-showtags": false
 },
 "nbformat": 4,
 "nbformat_minor": 4
}
