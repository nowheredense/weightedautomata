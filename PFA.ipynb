{
 "cells": [
  {
   "cell_type": "code",
   "execution_count": 3,
   "metadata": {},
   "outputs": [
    {
     "data": {
      "text/plain": [
       "[((1, 1, 1), 13/72)]"
      ]
     },
     "execution_count": 3,
     "metadata": {},
     "output_type": "execute_result"
    }
   ],
   "source": [
    "import itertools\n",
    "\n",
    "P = [Matrix([[1/2,1/2,0],[1/2,1/2,0],[0,0,0]]), Matrix([[1/3,2/3,0],[0,3/4,1/4],[0,0,0]])];\n",
    "v = Matrix([1,0,0]);\n",
    "Id = identity_matrix(3);\n",
    "strings = [];\n",
    "for i in range(1,15):\n",
    "    l = list(itertools.product([0,1],repeat=i));\n",
    "    for st in l:j\n",
    "        strings.append(st);\n",
    "\n",
    "problist = []; #just the list of strings with their acceptance probabilities\n",
    "\n",
    "for st in strings:   \n",
    "    A = v*Id;\n",
    "    for ch in st:\n",
    "        A = A*P[int(ch)];\n",
    "    problist.append((st,A[0][2]));\n",
    "\n",
    "#remove strings w/prob 0\n",
    "#countzeros = 0;\n",
    "#for l in problist:\n",
    "#    if l[1] == 0:\n",
    "#        problist.remove(l);\n",
    "#        countzeros += 1;\n",
    "\n",
    "#print(str(countzeros) + \" strings not accepted, \" + str(len(problist)) + \" remain\");\n",
    "#print(sorted(problist,key=lambda x:x[1],reverse=True));\n",
    "#print strings with the highest acceptance probability\n",
    "highprob = max([l[1] for l in problist]);\n",
    "highstr = [st for st in problist if st[1] == highprob];\n",
    "print(highstr);"
   ]
  },
  {
   "cell_type": "code",
   "execution_count": 5,
   "metadata": {},
   "outputs": [
    {
     "data": {
      "text/plain": []
     },
     "execution_count": 5,
     "metadata": {},
     "output_type": "execute_result"
    }
   ],
   "source": [
    "import itertools\n",
    "\n",
    "def accprob(transmatrices,sigma):\n",
    "    assert transmatrices[0].nrows() == transmatrices[0].ncols() == transmatrices[1].nrows() == transmatrices[1].ncols();\n",
    "    n = transmatrices[0].nrows();\n",
    "    Id = identity_matrix(n);\n",
    "    v = Matrix(Id[0]);\n",
    "    \n",
    "    A = v*Id;\n",
    "    for ch in sigma:\n",
    "        assert int(ch) == 0 or int(ch) == 1;\n",
    "        A = A*transmatrices[int(ch)];\n",
    "    return A[0][n-1];\n",
    "\n",
    "\n",
    "def probmatrix(transmatrices,sigma):\n",
    "    assert transmatrices[0].nrows() == transmatrices[0].ncols() == transmatrices[1].nrows() == transmatrices[1].ncols();\n",
    "    A = identity_matrix(transmatrices[0].nrows());\n",
    "    for ch in sigma:\n",
    "        assert int(ch) == 0 or int(ch) == 1;\n",
    "        A = A*transmatrices[int(ch)];\n",
    "    return A;\n",
    "    \n",
    "\n",
    "def list_probs(transmatrices,upto=11,startfrom=1):\n",
    "    assert transmatrices[0].nrows() == transmatrices[0].ncols() == transmatrices[1].nrows() == transmatrices[1].ncols();\n",
    "    n = transmatrices[0].nrows();\n",
    "    Id = identity_matrix(n);\n",
    "    v = Matrix(Id[0]);\n",
    "    \n",
    "    strings = [];\n",
    "    for i in range(startfrom,upto):\n",
    "        l = list(itertools.product([0,1],repeat=i));\n",
    "        for st in l:\n",
    "            strings.append(st);\n",
    "\n",
    "    problist = []; #list of strings with their acceptance probabilities\n",
    "    for st in strings:   \n",
    "        A = v*Id;\n",
    "        for ch in st:\n",
    "            assert int(ch) == 0 or int(ch) == 1;\n",
    "            A = A*transmatrices[int(ch)];\n",
    "        problist.append((st,A[0][n-1]));\n",
    "    return problist;\n",
    "    \n",
    "#expects a list in exactly the format returned by list_probs\n",
    "def highest_prob(problist):\n",
    "    highprob = max([l[1] for l in problist]);\n",
    "    highstr = [st for st in problist if st[1] == highprob];\n",
    "    return highstr;\n",
    "    \n",
    "def sortproblist(problist):\n",
    "    return sorted(problist,key=lambda x:x[1],reverse=True);\n",
    "    \n",
    "    \n",
    "#check transition matrices for rows summing to 1 (except last row)\n",
    "def checkmatrices(P):\n",
    "    assert P[0].nrows() == P[0].ncols() == P[1].nrows() == P[1].ncols();\n",
    "    n = P[0].nrows();\n",
    "    \n",
    "    for i in range(2):\n",
    "        for j in range(n-1):\n",
    "            s = sum(P[i][j]);\n",
    "            if s != 1:\n",
    "                print \"P\"+str(i)+\" row \"+str(j+1)+\" sum is \"+str(s);"
   ]
  },
  {
   "cell_type": "code",
   "execution_count": 6,
   "metadata": {},
   "outputs": [
    {
     "data": {
      "text/plain": [
       "[((1, 1), 0.00249600000000000)]"
      ]
     },
     "execution_count": 6,
     "metadata": {},
     "output_type": "execute_result"
    }
   ],
   "source": [
    "P = [Matrix([[.998,.001,.001],[.998,.001,.001],[0,0,0]]), Matrix([[.5,.499,.001],[.596,.4,.004],[0,0,0]])];\n",
    "checkmatrices(P)\n",
    "\n",
    "problist = list_probs(P,14);\n",
    "print highest_prob(problist);\n",
    "#print sortproblist(problist);"
   ]
  },
  {
   "cell_type": "code",
   "execution_count": 20,
   "metadata": {},
   "outputs": [
    {
     "data": {
      "text/plain": [
       "[((1, 1, 1), 41003/250000)] 0.164012000000000"
      ]
     },
     "execution_count": 20,
     "metadata": {},
     "output_type": "execute_result"
    }
   ],
   "source": [
    "P0 = [Matrix(QQ,[[.5,.4,.1],[.4,.5,.1],[0,0,0]]), Matrix(QQ,[[.42,.5,.08],[.01,.73,.26],[0,0,0]])];\n",
    "checkmatrices(P0)\n",
    "\n",
    "problist = list_probs(P0,12);\n",
    "high = highest_prob(problist);\n",
    "print high,RR(high[0][1]);"
   ]
  },
  {
   "cell_type": "code",
   "execution_count": 21,
   "metadata": {},
   "outputs": [
    {
     "data": {
      "text/plain": [
       "[((0, 1, 1), 621/4000)] 0.155250000000000"
      ]
     },
     "execution_count": 21,
     "metadata": {},
     "output_type": "execute_result"
    }
   ],
   "source": [
    "P00 = [Matrix(QQ,[[.3,.3,.3,.1],[.4,.2,.3,.1],[.4,.2,.3,.1],[0,0,0,0]]), Matrix(QQ,[[.4,.43,.1,.07],[.05,.6,.1,.25],[.05,.89,.05,.01],[0,0,0,0]])];\n",
    "checkmatrices(P00)\n",
    "\n",
    "problist = list_probs(P00,12);\n",
    "high = highest_prob(problist);\n",
    "print high,RR(high[0][1]);"
   ]
  },
  {
   "cell_type": "code",
   "execution_count": 7,
   "metadata": {},
   "outputs": [
    {
     "data": {
      "text/plain": [
       "[((0, 0, 0, 0), 5029582377006153999/100000000000000000000000)] 0.0000502958237700615"
      ]
     },
     "execution_count": 7,
     "metadata": {},
     "output_type": "execute_result"
    }
   ],
   "source": [
    "P1 = [Matrix(QQ,[[.4,.4999999,.1,.0000001],[.1,.5,.3999,.0001],[.3,.5,.199999,.000001],[0,0,0,0]]), Matrix(QQ,[[.4,.4,.199999,.000001],[.399998,.4,.2,.000002],[.3,.3,.3999999,.0000001],[0,0,0,0]])];\n",
    "checkmatrices(P1)\n",
    "\n",
    "problist = list_probs(P1,13);\n",
    "high = highest_prob(problist);\n",
    "print high,RR(high[0][1]);\n",
    "#print sortproblist(problist);"
   ]
  },
  {
   "cell_type": "code",
   "execution_count": 11,
   "metadata": {},
   "outputs": [
    {
     "data": {
      "text/plain": [
       "[((0, 0, 0, 0, 0, 0), 5299895048479858398661722279999/1000000000000000000000000000000000000)] 5.29989504847986e-6"
      ]
     },
     "execution_count": 11,
     "metadata": {},
     "output_type": "execute_result"
    }
   ],
   "source": [
    "P2 = [Matrix(QQ,[[.4,.4999999,.1,.0000001],[.1,.5,.39999,.00001],[.3,.5,.199999,.000001],[0,0,0,0]]), Matrix(QQ,[[.4,.4,.199999,.000001],[.399998,.4,.2,.000002],[.3,.3,.3999999,.0000001],[0,0,0,0]])];\n",
    "checkmatrices(P2)\n",
    "\n",
    "problist = list_probs(P2,13);\n",
    "high = highest_prob(problist);\n",
    "print high,RR(high[0][1]);\n",
    "#print sortproblist(problist);"
   ]
  },
  {
   "cell_type": "code",
   "execution_count": 8,
   "metadata": {},
   "outputs": [
    {
     "data": {
      "text/plain": [
       "[((0, 1), 7049999/5000000000000)] 1.40999980000000e-6"
      ]
     },
     "execution_count": 8,
     "metadata": {},
     "output_type": "execute_result"
    }
   ],
   "source": [
    "P3 = [Matrix(QQ,[[.4,.4999999,.1,.0000001],[.1,.5,.399999,.000001],[.3,.5,.199999,.000001],[0,0,0,0]]), Matrix(QQ,[[.4,.4,.199999,.000001],[.399998,.4,.2,.000002],[.3,.3,.3999999,.0000001],[0,0,0,0]])];\n",
    "checkmatrices(P3)\n",
    "\n",
    "problist = list_probs(P3,13);\n",
    "high = highest_prob(problist);\n",
    "print high,RR(high[0][1]);\n",
    "#print sortproblist(problist);"
   ]
  },
  {
   "cell_type": "code",
   "execution_count": 10,
   "metadata": {},
   "outputs": [
    {
     "data": {
      "text/plain": [
       "7.98398660500804e-7\n",
       "5.29836707951128e-6\n",
       "1.40999980000000e-6\n",
       "1.40999980000000e-6"
      ]
     },
     "execution_count": 10,
     "metadata": {},
     "output_type": "execute_result"
    }
   ],
   "source": [
    "print RR(accprob(P3,\"0000\"))\n",
    "print RR(accprob(P2,\"0000\"))\n",
    "print RR(accprob(P1,\"01\"))\n",
    "print RR(accprob(P2,\"01\"))"
   ]
  },
  {
   "cell_type": "code",
   "execution_count": 12,
   "metadata": {},
   "outputs": [
    {
     "data": {
      "text/plain": [
       "[((0, 0, 0, 0, 0, 0, 1), 102999650764474412214928490217579700001/100000000000000000000000000000000000000000000)] 1.02999650764474e-6"
      ]
     },
     "execution_count": 12,
     "metadata": {},
     "output_type": "execute_result"
    }
   ],
   "source": [
    "P4 = [Matrix(QQ,[[.4,.4999999,.1,.0000001],[.1,.5,.399999,.000001],[.3,.5,.199999,.000001],[0,0,0,0]]), Matrix(QQ,[[.4,.4,.19999999,.00000001],[.399998,.4,.2,.000002],[.3,.3,.3999999,.0000001],[0,0,0,0]])];\n",
    "checkmatrices(P4)\n",
    "\n",
    "problist = list_probs(P4,12);\n",
    "high = highest_prob(problist);\n",
    "print high,RR(high[0][1]);\n",
    "#print sortproblist(problist);"
   ]
  },
  {
   "cell_type": "code",
   "execution_count": 16,
   "metadata": {},
   "outputs": [
    {
     "data": {
      "text/plain": []
     },
     "execution_count": 16,
     "metadata": {},
     "output_type": "execute_result"
    }
   ],
   "source": []
  },
  {
   "cell_type": "code",
   "execution_count": 13,
   "metadata": {},
   "outputs": [
    {
     "data": {
      "text/plain": [
       "[p11 p12 p13 p14]\n",
       "[p21 p22 p23 p24]\n",
       "[p31 p32 p33 p34]\n",
       "[  0   0   0   0]\n",
       "\n",
       "[q11 q12 q13 q14]\n",
       "[q21 q22 q23 q24]\n",
       "[q31 q32 q33 q34]\n",
       "[  0   0   0   0]"
      ]
     },
     "execution_count": 13,
     "metadata": {},
     "output_type": "execute_result"
    }
   ],
   "source": [
    "#R4 = PolynomialRing(QQ,32,'x');\n",
    "R4 = PolynomialRing(QQ,names=('p11','p12','p13','p14','p21','p22','p23','p24','p31','p32','p33','p34','x0','x1','x2','x3','q11','q12','q13','q14','q21','q22','q23','q24','q31','q32','q33','q34','y0','y1','y2','y3'));\n",
    "Q0 = matrix(R4,4,4,R4.gens()[0:16]);\n",
    "Q0[3] = [0,0,0,0];\n",
    "Q1 = matrix(R4,4,4,R4.gens()[16:32]);\n",
    "Q1[3] = [0,0,0,0];\n",
    "print Q0\n",
    "print \"\"\n",
    "print Q1\n",
    "v1 = matrix(identity_matrix(4)[0]);"
   ]
  },
  {
   "cell_type": "code",
   "execution_count": 17,
   "metadata": {},
   "outputs": [
    {
     "data": {
      "text/plain": [
       "p11^2*p14 + p12*p14*p21 + p11*p12*p24 + p12*p22*p24 + p13*p14*p31 + p13*p24*p32 + p11*p13*p34 + p12*p23*p34 + p13*p33*p34\n",
       "\n",
       "p11^2*q14 + p12*p21*q14 + p13*p31*q14 + p11*p12*q24 + p12*p22*q24 + p13*p32*q24 + p11*p13*q34 + p12*p23*q34 + p13*p33*q34\n",
       "\n",
       "p11*p14*q11 + p11*p24*q12 + p11*p34*q13 + p12*p14*q21 + p12*p24*q22 + p12*p34*q23 + p13*p14*q31 + p13*p24*q32 + p13*p34*q33\n",
       "\n",
       "p11*p14*q11 + p12*p24*q11 + p13*p34*q11 + p14*p21*q12 + p22*p24*q12 + p23*p34*q12 + p14*p31*q13 + p24*p32*q13 + p33*p34*q13"
      ]
     },
     "execution_count": 17,
     "metadata": {},
     "output_type": "execute_result"
    }
   ],
   "source": [
    "print accprob([Q0,Q1],\"000\")\n",
    "print \"\"\n",
    "print accprob([Q0,Q1],\"001\")\n",
    "print \"\"\n",
    "print accprob([Q0,Q1],\"010\")\n",
    "print \"\"\n",
    "print accprob([Q0,Q1],\"100\")"
   ]
  },
  {
   "cell_type": "code",
   "execution_count": 14,
   "metadata": {},
   "outputs": [
    {
     "data": {
      "text/plain": [
       "p11^3*p14 + 2*p11*p12*p14*p21 + p12*p14*p21*p22 + p11^2*p12*p24 + p12^2*p21*p24 + p11*p12*p22*p24 + p12*p22^2*p24 + 2*p11*p13*p14*p31 + p12*p14*p23*p31 + p12*p13*p24*p31 + p13*p14*p21*p32 + p11*p13*p24*p32 + p13*p22*p24*p32 + p12*p23*p24*p32 + p13*p14*p31*p33 + p13*p24*p32*p33 + p11^2*p13*p34 + p12*p13*p21*p34 + p11*p12*p23*p34 + p12*p22*p23*p34 + p13^2*p31*p34 + p13*p23*p32*p34 + p11*p13*p33*p34 + p12*p23*p33*p34 + p13*p33^2*p34"
      ]
     },
     "execution_count": 14,
     "metadata": {},
     "output_type": "execute_result"
    }
   ],
   "source": [
    "print accprob([Q0,Q1],\"0000\")"
   ]
  },
  {
   "cell_type": "code",
   "execution_count": 15,
   "metadata": {},
   "outputs": [
    {
     "data": {
      "text/plain": [
       "[-1/10, 0, 0, 9/10]\n",
       "[-0.0796761535616775?, 0, 0.3313133408419423?, 0.7983628127197351?]\n",
       "[0, 0.00004840202882661392?, 0.10000090045291870?, 0.9999496975182547?]\n",
       "[0, 1.000003500018651?e-6, 0.2000000499970719?, 0.9999988499994282?]\n",
       "[0, 3.399990319165121?e-6, 0.10000090003267884?, 0.9999946999770020?]\n",
       "[0, 1.000003500018651?e-6, 0.2000000499970719?, 0.9999988499994282?]\n",
       "[-1.099990780185952?e-6, 0, 0.10000089999067797?, 0.9999992000001022?]\n",
       "[0, 1.000003500018651?e-6, 0.2000000499970719?, 0.9999988499994282?]\n",
       "[-1.099990780185952?e-6, 0, 0.10000089999067797?, 0.9999992000001022?]\n",
       "[0, 1.000002015011396?e-6, 0.1999996787485436?, 0.9999992212494415?]\n",
       "\n",
       "[-0.01005223047587358?, 0, 0, 0.6624522304758736?]\n",
       "[-0.001998543240487948?, -9.687502151489074?e-17, 0, 0.9999597482450600?]\n",
       "[-0.001999915757438843?, -6.800371659827696?e-18, 0, 0.9999935207593109?]\n",
       "[-0.002000053004045225?, 0, 2.199959561077749?e-18, 0.9999968980056472?]\n",
       "[-0.002000041839200821?, 0, 2.199957383032764?e-18, 0.9999975303394861?]\n",
       "\n",
       "[0, 0, 1/10000, 6561/10000]\n",
       "[0, 5.488507524122285?e-18, 0.00010000360186032401?, 0.9997988052545476?]\n",
       "[0, 1.336320780243640?e-22, 0.00010000360017931917?, 0.9999788000765489?]\n",
       "[0, 1.464050914327138?e-24, 0.0001000036000113112?, 0.9999968000042489?]\n",
       "[0, 1.464050914327138?e-24, 0.0001000036000113112?, 0.9999968000042489?]\n",
       "\n",
       "[0, 0, 1/1000000, 531441/1000000]\n",
       "[0, 1.285823609857648?e-26, 1.000054028391360?e-6, 0.9996982230620776?]\n",
       "[0, 1.544778025017615?e-33, 1.000054003175833?e-6, 0.9999682002833627?]\n",
       "[0, 1.771471910250476?e-36, 1.000054000655668?e-6, 0.9999952000102133?]\n",
       "[0, 1.771471910250476?e-36, 1.000054000655668?e-6, 0.9999952000102133?]\n",
       "\n",
       "[-0.03108273422582492?, 0, 0, 0.815082734225825?]\n",
       "[-0.009992564530282316?, -9.68761377119764?e-11, 0, 0.999960804627459?]\n",
       "[-0.00999942632302375?, -6.800449875441092?e-12, 0, 0.9999946663301242?]\n",
       "[-0.01000011247698538?, 0, 2.199984859805987?e-12, 0.9999980524750854?]\n",
       "[-0.01000007522922439?, 0, 2.199985948780593?e-12, 0.9999983122273244?]\n",
       "\n",
       "[0, 0, 3.120842793965719?e-7, 0.4793597479157206?]\n",
       "[-1.000753451348528?e-7, -2.569826830670606?e-32, 0, 0.9997097984572098?]\n",
       "[-1.000089529482358?e-7, -3.089454098416810?e-39, 0, 0.9999682758572434?]\n",
       "[-1.0000231742614220?e-7, -3.543066052926485?e-42, 0, 0.9999941255686811?]\n",
       "[-1.0000194891528460?e-7, -3.543067806860050?e-42, 0, 0.9999943455681121?]"
      ]
     },
     "execution_count": 15,
     "metadata": {},
     "output_type": "execute_result"
    }
   ],
   "source": [
    "print sorted(P00[0].eigenvalues())\n",
    "print sorted(P00[1].eigenvalues())\n",
    "print sorted(P1[0].eigenvalues())\n",
    "print sorted(P1[1].eigenvalues())\n",
    "print sorted(P2[0].eigenvalues())\n",
    "print sorted(P2[1].eigenvalues())\n",
    "print sorted(P3[0].eigenvalues())\n",
    "print sorted(P3[1].eigenvalues())\n",
    "print sorted(P4[0].eigenvalues())\n",
    "print sorted(P4[1].eigenvalues())\n",
    "print \"\"\n",
    "#highest for P00\n",
    "print sorted(probmatrix(P00,\"011\").eigenvalues())\n",
    "print sorted(probmatrix(P1,\"011\").eigenvalues())\n",
    "print sorted(probmatrix(P2,\"011\").eigenvalues())\n",
    "print sorted(probmatrix(P3,\"011\").eigenvalues())\n",
    "print sorted(probmatrix(P4,\"011\").eigenvalues())\n",
    "print \"\"\n",
    "#highest for P1\n",
    "print sorted(probmatrix(P00,\"0000\").eigenvalues())\n",
    "print sorted(probmatrix(P1,\"0000\").eigenvalues())\n",
    "print sorted(probmatrix(P2,\"0000\").eigenvalues())\n",
    "print sorted(probmatrix(P3,\"0000\").eigenvalues())\n",
    "print sorted(probmatrix(P4,\"0000\").eigenvalues())\n",
    "print \"\"\n",
    "#highest for P2\n",
    "print sorted(probmatrix(P00,\"000000\").eigenvalues())\n",
    "print sorted(probmatrix(P1,\"000000\").eigenvalues())\n",
    "print sorted(probmatrix(P2,\"000000\").eigenvalues())\n",
    "print sorted(probmatrix(P3,\"000000\").eigenvalues())\n",
    "print sorted(probmatrix(P4,\"000000\").eigenvalues())\n",
    "print \"\"\n",
    "#highest for P3\n",
    "print sorted(probmatrix(P00,\"01\").eigenvalues())\n",
    "print sorted(probmatrix(P1,\"01\").eigenvalues())\n",
    "print sorted(probmatrix(P2,\"01\").eigenvalues())\n",
    "print sorted(probmatrix(P3,\"01\").eigenvalues())\n",
    "print sorted(probmatrix(P4,\"01\").eigenvalues())\n",
    "print \"\"\n",
    "#highest for P4\n",
    "print sorted(probmatrix(P00,\"0000001\").eigenvalues())\n",
    "print sorted(probmatrix(P1,\"0000001\").eigenvalues())\n",
    "print sorted(probmatrix(P2,\"0000001\").eigenvalues())\n",
    "print sorted(probmatrix(P3,\"0000001\").eigenvalues())\n",
    "print sorted(probmatrix(P4,\"0000001\").eigenvalues())"
   ]
  },
  {
   "cell_type": "code",
   "execution_count": 19,
   "metadata": {},
   "outputs": [
    {
     "data": {
      "text/plain": []
     },
     "execution_count": 19,
     "metadata": {},
     "output_type": "execute_result"
    }
   ],
   "source": []
  }
 ],
 "metadata": {
  "kernelspec": {
   "display_name": "SageMath",
   "name": "sagemath"
  },
  "language": "python"
 },
 "nbformat": 4,
 "nbformat_minor": 2
}
