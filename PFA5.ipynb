{
 "cells": [
  {
   "cell_type": "code",
   "execution_count": 45,
   "metadata": {},
   "outputs": [],
   "source": [
    "import itertools\n",
    "import numpy\n",
    "import urllib,json\n",
    "import pickle\n",
    "\n",
    "RRR = RealField(100);\n",
    "eps = var('eps');\n",
    "\n",
    "#stolen from https://ask.sagemath.org/question/8390/creating-an-array-of-variables/\n",
    "class VariableGenerator(object): \n",
    "     def __init__(self, prefix): \n",
    "         self.__prefix = prefix \n",
    "     @cached_method \n",
    "     def __getitem__(self, key): \n",
    "         return SR.var(\"%s%s\"%(self.__prefix,key)) \n",
    "\n",
    "#object: what to dump; name: string without \".pickle\"\n",
    "def pickletofile(object,name):\n",
    "    thefile = open(name+\".pickle\",'wb');\n",
    "    pickle.dump(object,thefile);\n",
    "    thefile.close();\n",
    "    return\n",
    "\n",
    "#filename: string without \".pickle\"\n",
    "def unpicklefile(filename):\n",
    "    thefile = open(filename+\".pickle\",'rb');\n",
    "    theobj = pickle.load(thefile);\n",
    "    thefile.close();\n",
    "    return theobj\n",
    "\n",
    "def savewits():\n",
    "    pickletofile(SC,\"stoch_complexity\");\n",
    "    pickletofile(SW,\"witnesses\");\n",
    "    return;\n",
    "\n",
    "#NOTE: use dictionary NC for strings of length 2 through 10.\n",
    "#expects sigma to be an array/list, like usual\n",
    "def nfacomplexity(sigma):\n",
    "    theurl = \"http://math.hawaii.edu/~bjoern/complexity-api/?string=\"+''.join(str(ch) for ch in sigma);\n",
    "    response = urllib.urlopen(theurl);\n",
    "    data = json.loads(response.read());\n",
    "    return int(data.get('complexity'))\n",
    "\n",
    "#returns bit flip of a string (given as a tuple)\n",
    "def flip(sigma):\n",
    "    l = [];\n",
    "    for ch in sigma:\n",
    "        l.append(1-ch);\n",
    "    return tuple(l)\n",
    "\n",
    "#flips every string in an iterable, returns a Set\n",
    "def flipset(strings):\n",
    "    theset = [];\n",
    "    for s in strings:\n",
    "        theset.append(flip(s));\n",
    "    return Set(theset)\n",
    "\n",
    "#switches the order of a pair of matrices\n",
    "def switchmats(matpair):\n",
    "    return [matpair[1],matpair[0]]\n",
    "\n",
    "#expects start_states & accept_states to be lists\n",
    "def accprob(transmatrices,sigma,start_states=None,accept_states=None):\n",
    "    assert transmatrices[0].nrows() == transmatrices[0].ncols() == transmatrices[1].nrows() == transmatrices[1].ncols() == len(accept_states);\n",
    "    n = transmatrices[0].nrows();\n",
    "    Id = identity_matrix(n);\n",
    "    if start_states == None:\n",
    "        v = Matrix(Id[0]);\n",
    "    else:\n",
    "        v = Matrix(start_states);\n",
    "    if accept_states == None:\n",
    "        f = Matrix(Id[n-1]).transpose();\n",
    "    else:\n",
    "        f = Matrix(accept_states).transpose();\n",
    "    A = v*Id;\n",
    "    for ch in sigma:\n",
    "        assert int(ch) == 0 or int(ch) == 1;\n",
    "        A = A*transmatrices[int(ch)];\n",
    "    A = A*f;\n",
    "    return A[0][0];\n",
    "\n",
    "#expects start_states & accept_states to be matrices already\n",
    "def accprob_vector(transmatrices,sigma,start_states,accept_states):\n",
    "    #assert transmatrices[0].nrows() == transmatrices[0].ncols() == transmatrices[1].nrows() == transmatrices[1].ncols() == len(accept_states);\n",
    "    n = transmatrices[0].nrows();\n",
    "    Id = identity_matrix(n);\n",
    "    v = start_states;\n",
    "    f = accept_states;\n",
    "    A = v*Id;\n",
    "    for ch in sigma:\n",
    "        assert int(ch) == 0 or int(ch) == 1;\n",
    "        A = A*transmatrices[int(ch)];\n",
    "    A = A*f;\n",
    "    return A[0][0];\n",
    " \n",
    "def probmatrix(transmatrices,sigma):\n",
    "    assert transmatrices[0].nrows() == transmatrices[0].ncols() == transmatrices[1].nrows() == transmatrices[1].ncols();\n",
    "    A = identity_matrix(transmatrices[0].nrows());\n",
    "    for ch in sigma:\n",
    "        assert int(ch) == 0 or int(ch) == 1;\n",
    "        A = A*transmatrices[int(ch)];\n",
    "    return A;\n",
    "    \n",
    "#lengths can be either an integer or a list\n",
    "def list_probs(transmatrices,start_states=None,accept_states=None,lengths=range(1,5)):\n",
    "    assert transmatrices[0].nrows() == transmatrices[0].ncols() == transmatrices[1].nrows() == transmatrices[1].ncols();\n",
    "    n = transmatrices[0].nrows();\n",
    "    Id = identity_matrix(n);\n",
    "    if start_states == None:\n",
    "        v = Matrix(Id[0]);\n",
    "    else:\n",
    "        v = Matrix(start_states);\n",
    "    if accept_states == None:\n",
    "        f = Matrix(Id[n-1]).transpose();\n",
    "    else:\n",
    "        f = Matrix(accept_states).transpose();\n",
    "    if isinstance(lengths,sage.rings.integer.Integer):\n",
    "        lenlist = [lengths];\n",
    "    else:\n",
    "        lenlist = lengths;\n",
    "    \n",
    "    problist = []; #list of strings with their acceptance probabilities\n",
    "    for i in lenlist:\n",
    "        l = list(itertools.product([0,1],repeat=i));\n",
    "        for st in l:\n",
    "            A = v*Id;\n",
    "            for ch in st:\n",
    "                assert int(ch) == 0 or int(ch) == 1;\n",
    "                A = A*transmatrices[int(ch)];\n",
    "            A = A*f;\n",
    "            problist.append((st,A[0][0]));\n",
    "        \n",
    "    return problist;\n",
    "\n",
    "#pass a list of binary strings to test, instead of a range\n",
    "def list_probs_fromwords(transmatrices,start_states,accept_states,words=None):\n",
    "    assert transmatrices[0].nrows() == transmatrices[0].ncols() == transmatrices[1].nrows() == transmatrices[1].ncols() == len(accept_states);\n",
    "    n = transmatrices[0].nrows();\n",
    "    Id = identity_matrix(n);\n",
    "    v = Matrix(start_states);\n",
    "    f = Matrix(accept_states).transpose();\n",
    "    if words == None:\n",
    "        words = list(itertools.product([0,1],repeat=11));\n",
    "    \n",
    "    problist = []; #list of strings with their acceptance probabilities\n",
    "    for st in words:\n",
    "        A = v*Id;\n",
    "        for ch in st:\n",
    "            assert int(ch) == 0 or int(ch) == 1;\n",
    "            A = A*transmatrices[int(ch)];\n",
    "        A = A*f;\n",
    "        problist.append((st,A[0][0]));\n",
    "        \n",
    "    return problist;\n",
    "    \n",
    "#expects a list in exactly the format returned by list_probs. if length>0, only looks at strings of exactly that length\n",
    "def highest_prob(problist,length=0):\n",
    "    assert length >= 0;\n",
    "    if length == 0:\n",
    "        sublist = problist;\n",
    "    elif length > 0:\n",
    "        sublist = [l for l in problist if len(l[0]) == length];\n",
    "    highprob = max([l[1] for l in sublist]);\n",
    "    highstr = [st for st in sublist if st[1] == highprob];\n",
    "    return highstr;\n",
    "    \n",
    "def sortproblist(problist):\n",
    "    return sorted(problist,key=lambda x:x[1],reverse=True);\n",
    "    \n",
    "    \n",
    "#check transition matrices for rows summing to 1\n",
    "def checkmatrices(P):\n",
    "    assert P[0].nrows() == P[0].ncols() == P[1].nrows() == P[1].ncols();\n",
    "    n = P[0].nrows();\n",
    "    \n",
    "    for i in range(2):\n",
    "        for j in range(n):\n",
    "            s = sum(P[i][j]);\n",
    "            if s != 1:\n",
    "                if s > 1: relto1 = \" > 1\";\n",
    "                elif s < 1: relto1 = \" < 1\";\n",
    "                print \"P\"+str(i)+\" row \"+str(j+1)+\" sum is \"+str(RRR(s))+relto1;\n",
    "                \n",
    "#return list of pairs of nstates x nstates matrices\n",
    "#(1/step) will be the increment of transition probabilities\n",
    "#if half=True, don't include (a) both ways to order a\n",
    "#pair of matrices; (b) pairs where both mats are the same.\n",
    "#if info=True, print sizes of stuff along the way\n",
    "def bruteforce(nstates,step,half=False,info=False):\n",
    "    linit = Compositions(nstates+step,length=nstates);\n",
    "    if info: print str(len(linit))+\" partitions\";\n",
    "    lrows = [ [0]*nstates ];\n",
    "    for t in linit:\n",
    "        r = []; #do arithmetic on t by hand\n",
    "        for i in t:\n",
    "            r.append(QQ(i-1)/step);\n",
    "        lrows.append(r);\n",
    "    if info: print str(len(lrows))+\" rows\";\n",
    "    mats = Tuples(lrows,nstates).list();\n",
    "    if info: print str(len(mats))+\" matrices\";\n",
    "    if not half:\n",
    "        mats2 = Tuples(mats,2).list();\n",
    "    else:\n",
    "        mats2 = list(itertools.combinations(mats,2));\n",
    "    if info: print str(len(mats2))+\" matrix pairs\";\n",
    "    Pnew = [];\n",
    "    for P in mats2:\n",
    "        Pnew.append([Matrix(QQ,P[0]),Matrix(QQ,P[1])]);\n",
    "    return Pnew;\n",
    "\n",
    "#do bruteforce() algo on only a given list of vectors (as lists)\n",
    "#assumes all vectors are of the same length\n",
    "#does NOT check vectors sum to 1\n",
    "def bruteforcevecs(vecs,half=False,info=False):\n",
    "    if info: print str(len(vecs))+\" rows\";\n",
    "    n = len(vecs[0]);\n",
    "    mats = Tuples(vecs,n).list();\n",
    "    if info: print str(len(mats))+\" matrices\";\n",
    "    if not half:\n",
    "        mats2 = Tuples(mats,2).list();\n",
    "    else:\n",
    "        mats2 = list(itertools.combinations(mats,2));\n",
    "    if info: print str(len(mats2))+\" matrix pairs\";\n",
    "    Pnew = [];\n",
    "    for P in mats2:\n",
    "        Pnew.append([Matrix(QQ,P[0]),Matrix(QQ,P[1])]);\n",
    "    return Pnew;\n",
    "\n",
    "#do bruteforce() algo using only the given list of transition\n",
    "#probabilities as entries\n",
    "#if useeps=True, the matrices will just be over SR\n",
    "def bruteforceprobs(nstates,probs,half=False,info=False,useeps=False):\n",
    "    for p in probs:\n",
    "        if p<0 or p>1:\n",
    "            probs.remove(p);\n",
    "    pro = Set(probs);\n",
    "    if info: print str(pro.cardinality())+\" possible entries\";\n",
    "    lrowsall = Tuples(pro.list(),nstates).list();\n",
    "    lrows = [];\n",
    "    for r in lrowsall:\n",
    "        s = sum(r);\n",
    "        if s == 0 or s == 1: lrows.append(r);\n",
    "    if info: print str(len(lrows))+\" rows\";\n",
    "    mats = Tuples(lrows,nstates).list();\n",
    "    if info: print str(len(mats))+\" matrices\";\n",
    "    if not half:\n",
    "        mats2 = Tuples(mats,2).list();\n",
    "    else:\n",
    "        mats2 = list(itertools.combinations(mats,2));\n",
    "    if info: print str(len(mats2))+\" matrix pairs\";\n",
    "    Pnew = [];\n",
    "    if useeps:\n",
    "        for P in mats2:\n",
    "            Pnew.append([Matrix(P[0]),Matrix(P[1])]);\n",
    "    else:\n",
    "        for P in mats2:\n",
    "            Pnew.append([Matrix(QQ,P[0]),Matrix(QQ,P[1])]);\n",
    "    return Pnew;\n",
    "\n",
    "#expects a list of pairs of matrices as returned by bruteforce()\n",
    "#strlen = length of strings to try, accept_states = vector (list)\n",
    "def finduniques(matpairs,strlen,start_states=None,accept_states=None):\n",
    "    uniques = [];\n",
    "    n = matpairs[0][0].nrows();\n",
    "    if start_states == None:\n",
    "        start_states = list(identity_matrix(n)[0]);\n",
    "    if accept_states == None:\n",
    "        accept_states = list(identity_matrix(n)[n-1]);\n",
    "    words = list(itertools.product([0,1],repeat=strlen));\n",
    "    for P in matpairs:\n",
    "        probs = list_probs_fromwords(P,start_states,accept_states,words);\n",
    "        high = highest_prob(probs);\n",
    "        if len(high) == 1:\n",
    "            uniques.append([P,high]);\n",
    "    return uniques;\n",
    "\n",
    "#updates PFA complexities and adds new witnesses to SW\n",
    "#uniqlist should be in the format output by finduniques()\n",
    "#ASSUMES ALL MATRICES IN uniqlist ARE OF THE SAME SIZE!!!!!\n",
    "#specify the _same_ list of accept states for all of them.\n",
    "#return number of new witnesses added\n",
    "def addwits(uniqlist,start_states=None,accept_states=None):\n",
    "    n = uniqlist[0][0][0].nrows();\n",
    "    count = 0;\n",
    "    if start_states == None:\n",
    "        v = Matrix(identity_matrix(n)[0]);\n",
    "    else:\n",
    "        v = Matrix(start_states);\n",
    "    if accept_states == None:\n",
    "        f = Matrix(identity_matrix(n)[n-1]).transpose();\n",
    "    else:\n",
    "        f = Matrix(accept_states).transpose();\n",
    "    for u in uniqlist:\n",
    "        s = u[1][0][0];\n",
    "        if not SC.has_key(s) or SC[s] > n:\n",
    "            SC[s] = n;\n",
    "        if SC[s] == n:\n",
    "            try:\n",
    "                ind = SW[s].index((u[0],v,f));\n",
    "            except ValueError:\n",
    "                SW[s].append((u[0],v,f));\n",
    "                count = count + 1;\n",
    "    return count;\n",
    "\n",
    "#like addwits(), but only adds if there isn't a witness yet for\n",
    "#each particular string\n",
    "#uniqlist should be in the format output by finduniques()\n",
    "#ASSUMES ALL MATRICES IN uniqlist ARE OF THE SAME SIZE!!!!!\n",
    "#specify the _same_ list of accept states for all of them.\n",
    "#return number of new witnesses added\n",
    "def addwitsnew(uniqlist,start_states=None,accept_states=None):\n",
    "    n = uniqlist[0][0][0].nrows();\n",
    "    count = 0;\n",
    "    for u in uniqlist:\n",
    "        s = u[1][0][0];\n",
    "        if len(SW[s]) > 0 and SC.has_key(s):\n",
    "            continue;\n",
    "        count = count + addonewit(u,s,start_states,accept_states);\n",
    "    return count;\n",
    "\n",
    "#adds thewit (a pair of matrices) as a witness for sigma to SW\n",
    "#also updates SC if appropriate\n",
    "#only does it if this witnesses minimal complexity\n",
    "#return 0 if nothing was added or updated;\n",
    "#       1 if only a new witness;\n",
    "#       2 if new witness and complexity updated.\n",
    "def addonewit(thewit,sigma,start_states=None,accept_states=None):\n",
    "    assert len(thewit) == 2;\n",
    "    n = thewit[0].nrows();\n",
    "    assert n == thewit[1].nrows() == thewit[0].ncols() == thewit[1].ncols();\n",
    "    ret = 0;\n",
    "    if start_states == None:\n",
    "        v = Matrix(identity_matrix(n)[0]);\n",
    "    else:\n",
    "        assert n == len(start_states);\n",
    "        v = Matrix(start_states);\n",
    "    if accept_states == None:\n",
    "        f = Matrix(identity_matrix(n)[n-1]).transpose();\n",
    "    else:\n",
    "        assert n == len(accept_states);\n",
    "        f = Matrix(accept_states).transpose();\n",
    "    if not SC.has_key(sigma) or SC[sigma] > n:\n",
    "        SC[sigma] = n;\n",
    "        ret = ret + 1;\n",
    "    if SC[sigma] == n:\n",
    "        try:\n",
    "            ind = SW[sigma].index((thewit,v,f));\n",
    "        except ValueError:\n",
    "            SW[sigma].append((thewit,v,f));\n",
    "            ret = ret + 1;\n",
    "    return ret;\n",
    "\n",
    "#same as addonewit(), but start/accept_states should now already be a\n",
    "#matrix in the correct form\n",
    "def addonewit_vec(thewit,sigma,start_states,accept_states):\n",
    "    n = thewit[0].nrows();\n",
    "    ret = 0;\n",
    "    if not SC.has_key(sigma) or SC[sigma] > n:\n",
    "        SC[sigma] = n;\n",
    "        ret = ret + 1;\n",
    "    if SC[sigma] == n:\n",
    "        try:\n",
    "            ind = SW[sigma].index((thewit,start_states,accept_states));\n",
    "        except ValueError:\n",
    "            SW[sigma].append((thewit,start_states,accept_states));\n",
    "            ret = ret + 1;\n",
    "    return ret;\n",
    "    \n",
    "\n",
    "#among PFAs given by matpairs, returns the first found which\n",
    "#has sigma as its highest-prob word among strings of len(sigma).\n",
    "#assumes all matrices have the same size.\n",
    "#if stop>0, find the first stop witnesses (if possible).\n",
    "#if stop=0, find all witnesses, if possible.\n",
    "def findwitness(matpairs,sigma,start_states=None,accept_states=None,stop=1):\n",
    "    n = matpairs[0][0].nrows();\n",
    "    if start_states == None:\n",
    "        v = Matrix(identity_matrix(n)[0]);\n",
    "    else:\n",
    "        v = Matrix(start_states);\n",
    "    if accept_states == None:\n",
    "        f = matrix(identity_matrix(n)[n-1]).transpose();\n",
    "    else:\n",
    "        f = matrix(accept_states).transpose();\n",
    "    words = list(itertools.product([0,1],repeat=len(sigma)));\n",
    "    words.remove(sigma);\n",
    "    \n",
    "    found = 0;\n",
    "    wits = [];\n",
    "    for P in matpairs:\n",
    "        sigprob = accprob_vector(P,sigma,v,f);\n",
    "        if sigprob == 0:\n",
    "            continue;\n",
    "        iscandidate = True;\n",
    "        for s in words:\n",
    "            testprob = accprob_vector(P,s,v,f);\n",
    "            if testprob >= sigprob:\n",
    "                iscandidate = False;\n",
    "                break;\n",
    "        if iscandidate:\n",
    "            if stop != 1:\n",
    "                wits.append((P,v,f));\n",
    "            elif stop == 1:\n",
    "                return P; #the traditional behavior\n",
    "            found = found + 1;\n",
    "            if stop > 0 and found >= stop:\n",
    "                return wits;\n",
    "    if len(wits) == 0:\n",
    "        return None;\n",
    "    else:\n",
    "        return wits;\n",
    "\n",
    "#expects a list in the format given by finduniques\n",
    "#sigma should be a TUPLE, not an array! (?)\n",
    "#returns the first pair of matrices in uniqlist witnessing the\n",
    "#PFA complexity of sigma\n",
    "def firstwitness(uniqlist,sigma):\n",
    "    return [u[0] for u in uniqlist if u[1][0][0] == sigma][0]\n",
    "\n",
    "#expects a dictionary like SC or NC\n",
    "#returns Set of keys in compdict with value=complexity\n",
    "#restricts to length strlen if strlen>0; o/w no restr on length\n",
    "#if less=True, returns keys with value<=complexity\n",
    "def lookup(compdict,complexity,strlen=0,less=False):\n",
    "    if strlen == 0 and not less:\n",
    "        return Set([k for k in compdict.keys() if compdict[k] == complexity]);\n",
    "    elif strlen > 0 and not less:\n",
    "        return Set([k for k in compdict.keys() if compdict[k] == complexity and len(k) == strlen]);\n",
    "    elif strlen == 0 and less:\n",
    "        return Set([k for k in compdict.keys() if compdict[k] <= complexity]);\n",
    "    elif strlen > 0 and less:\n",
    "        return Set([k for k in compdict.keys() if compdict[k] <= complexity and len(k) == strlen]);\n",
    "\n",
    "\n",
    "#return largest denominator in a pair of rational matrices\n",
    "def matdenom(matpair):\n",
    "    themax = 1;\n",
    "    for i in range(2):\n",
    "        for r in matpair[i]: #rows\n",
    "            for e in r: #element\n",
    "                d = QQ(e).denominator();\n",
    "                themax = lcm(d,themax);\n",
    "    return themax;\n",
    "\n",
    "#return first witness for PFA complexity of sigma in SW with\n",
    "#matdenom <= denom\n",
    "def firstwitdenom(sigma,denom):\n",
    "    if not SW.has_key(sigma) or len(SW[sigma]) == 0:\n",
    "        return None;\n",
    "    for mats in SW[sigma]:\n",
    "        if matdenom(mats[0]) <= denom:\n",
    "            return mats;\n",
    "    return None;\n",
    "\n",
    "#return list of witnesses for PFA complexity of sigma in SW\n",
    "#with matdenom = denom\n",
    "def witsdenom(sigma,denom):\n",
    "    if not SW.has_key(sigma) or len(SW[sigma]) == 0:\n",
    "        return None;\n",
    "    thelist = [];\n",
    "    for mats in SW[sigma]:\n",
    "        if matdenom(mats[0]) == denom:\n",
    "            thelist.append(mats);\n",
    "    if thelist == []:\n",
    "        return None;\n",
    "    return thelist;\n",
    "\n",
    "#return lowest denominator out of all witnesses for sigma in SW\n",
    "def mindenom(sigma):\n",
    "    if not SW.has_key(sigma) or len(SW[sigma]) == 0:\n",
    "        return None;\n",
    "    return min([matdenom(w[0]) for w in SW[sigma]]);\n",
    "\n",
    "#return highest denominator out of all witnesses for sigma in SW\n",
    "def maxdenom(sigma):\n",
    "    if not SW.has_key(sigma) or len(SW[sigma]) == 0:\n",
    "        return None;\n",
    "    return max([matdenom(w[0]) for w in SW[sigma]]);\n",
    "\n",
    "#determine if matpair represents an actual aut (as in Rabin)\n",
    "def isactualaut(matpair):\n",
    "    for i in range(2):\n",
    "        for r in matpair[i]: #rows\n",
    "            for e in r: #entries\n",
    "                if e == 0:\n",
    "                    return False;\n",
    "    return True;\n",
    "\n",
    "#substitute epses (tuple of epsilons, one tuple per matrix,\n",
    "#one epsilon per row) into matpairs for the variable eps\n",
    "def matsub(matpairs,epses):\n",
    "    assert len(epses[0]) == len(epses[1]) == matpairs[0].nrows();\n",
    "    newmat = [ [], [] ];\n",
    "    for i in range(2):\n",
    "        for e in range(len(epses[i])):\n",
    "            newmat[i].append(matpairs[i][e].substitute(eps=epses[i][e]));\n",
    "    return [Matrix(QQ,newmat[0]), Matrix(QQ,newmat[1])];\n",
    "\n",
    "#just returns the digraph of the aut described by matpair\n",
    "def autgraph(matpair):\n",
    "    n = matpair[0].nrows();\n",
    "    gr = DiGraph(n,loops=True,multiedges=True);\n",
    "    for l in range(2): #letter seen\n",
    "        for i in range(n): #transition from state i...\n",
    "            for j in range(n): #to state j\n",
    "                if matpair[l][i][j] > 0:\n",
    "                    gr.add_edge(i,j,label=str(l)+\" (\"+str(matpair[l][i][j])+\")\");\n",
    "    return gr;\n",
    "\n",
    "#plots the specified aut from SW\n",
    "#its=# of iterations for plotting algo\n",
    "def autplotwit(sigma,ind,its=2):\n",
    "    matpair = SW[sigma][ind][0];\n",
    "    f = SW[sigma][ind][1];\n",
    "    n = f.nrows();\n",
    "    gr = autgraph(matpair);\n",
    "    acc = [i for i in range(n) if f[i][0] == 1];\n",
    "    notacc = Set(range(n)).difference(Set(acc)).list();\n",
    "    return gr.plot(edge_labels=True,vertex_size=400,layout='spring',iterations=its,vertex_colors={'white': notacc,'yellow': acc});\n",
    "\n",
    "#expects a matrix pair defining the automaton\n",
    "def autplot(matpair,accept_states=None,its=2):\n",
    "    n = matpair[0].nrows();\n",
    "    if accept_states == None:\n",
    "        f = Matrix(identity_matrix(n)[n-1]).transpose();\n",
    "        acc = [n-1];\n",
    "    else:\n",
    "        f = Matrix(accept_states).transpose();\n",
    "        acc = [i for i in range(n) if accept_states[i] == 1];\n",
    "    gr = autgraph(matpair);\n",
    "    notacc = Set(range(n)).difference(Set(acc)).list();\n",
    "    return gr.plot(edge_labels=True,vertex_size=400,layout='spring',iterations=its,vertex_colors={'white': notacc,'yellow': acc});\n",
    "\n",
    "#expects a digraph (probably the output of autgraph())\n",
    "def autgraphplot(autg,accept_states=None,its=2):\n",
    "    n = autg.order();\n",
    "    if accept_states == None:\n",
    "        f = Matrix(identity_matrix(n)[n-1]).transpose();\n",
    "        acc = [n-1];\n",
    "    else:\n",
    "        f = Matrix(accept_states).transpose();\n",
    "        acc = [i for i in range(n) if accept_states[i] == 1];\n",
    "    notacc = Set(range(n)).difference(Set(acc)).list();\n",
    "    return autg.plot(edge_labels=True,vertex_size=400,layout='spring',iterations=its,vertex_colors={'white': notacc,'yellow': acc});"
   ]
  },
  {
   "cell_type": "code",
   "execution_count": 2,
   "metadata": {},
   "outputs": [],
   "source": [
    "#run immediately when restarting\n",
    "SC = unpicklefile(\"stoch_complexity\");\n",
    "NC = unpicklefile(\"nfa_complexity\");\n",
    "SW = unpicklefile(\"witnesses\");"
   ]
  },
  {
   "cell_type": "code",
   "execution_count": 3,
   "metadata": {
    "scrolled": true
   },
   "outputs": [
    {
     "name": "stdout",
     "output_type": "stream",
     "text": [
      "1119\n",
      "len 3 complexity 1: 2 (NFA: 2)\n",
      "len 3 complexity 2: 6 (NFA: 6)\n",
      "len 3 complexity 3: 0 (NFA: 0)\n",
      "total witnesses 6\n",
      "\n",
      "len 4 complexity 1: 2 (NFA: 2)\n",
      "len 4 complexity 2: 14 (NFA: 6)\n",
      "len 4 complexity 3: 0 (NFA: 8)\n",
      "total witnesses 410\n",
      "\n",
      "len 5 complexity 1: 2 (NFA: 2)\n",
      "len 5 complexity 2: 20 (NFA: 6)\n",
      "len 5 complexity 3: 10 (NFA: 24)\n",
      "total witnesses 354\n",
      "\n",
      "len 6 complexity 1: 2 (NFA: 2)\n",
      "len 6 complexity 2: 28 (NFA: 6)\n",
      "len 6 complexity 3: 34 (NFA: 26)\n",
      "total witnesses 658\n",
      "\n",
      "len 7 complexity 1: 2 (NFA: 2)\n",
      "len 7 complexity 2: 32 (NFA: 6)\n",
      "len 7 complexity 3: 94 (NFA: 22)\n",
      "total witnesses 182\n",
      "\n",
      "len 8 complexity 1: 2 (NFA: 2)\n",
      "len 8 complexity 2: 40 (NFA: 6)\n",
      "len 8 complexity 3: 214 (NFA: 20)\n",
      "total witnesses 756\n",
      "\n",
      "len 9 complexity 1: 2 (NFA: 2)\n",
      "len 9 complexity 2: 44 (NFA: 6)\n",
      "len 9 complexity 3: 370 (NFA: 20)\n",
      "len 9 complexity 4: 0 (NFA: 78)\n",
      "total classified 416/512\n",
      "total witnesses 790\n",
      "\n",
      "len 10 complexity 1: 2 (NFA: 2)\n",
      "len 10 complexity 2: 24 (NFA: 6)\n",
      "len 10 complexity 3: 143 (NFA: 20)\n",
      "len 10 complexity 4: 6 (NFA: 64)\n",
      "total classified 175/1024\n",
      "total witnesses 473\n",
      "\n",
      "# strings of each length with PFA=NFA complexity:\n",
      "3: 8\n",
      "4: 8\n",
      "5: 18\n",
      "6: 20\n",
      "7: 18\n",
      "8: 16\n",
      "9: 16\n",
      "10: 21\n"
     ]
    }
   ],
   "source": [
    "#STATS\n",
    "print len(SC)\n",
    "for l in range(3,11):\n",
    "    if l<9:\n",
    "        top=4;\n",
    "    else:\n",
    "        top=5;\n",
    "    for c in range(1,top):\n",
    "        print \"len \"+str(l)+\" complexity \"+str(c)+\": \"+str(lookup(SC,c,l).cardinality())+\" (NFA: \"+str(lookup(NC,c,l).cardinality())+\")\"\n",
    "    nu = lookup(SC,100,l,less=True).cardinality();\n",
    "    if nu < 2^l:\n",
    "        print \"total classified \"+str(nu)+\"/\"+str(2^l);\n",
    "    witsum = sum([len(SW[k]) for k in SW.keys() if len(k)==l]);\n",
    "    print \"total witnesses \"+str(witsum);\n",
    "    print \"\"\n",
    "print \"# strings of each length with PFA=NFA complexity:\"\n",
    "for l in range(3,11):\n",
    "    print str(l)+\": \"+str(len([k for k in SC.keys() if len(k) == l and SC[k] == NC[k]]))"
   ]
  },
  {
   "cell_type": "code",
   "execution_count": 3,
   "metadata": {},
   "outputs": [],
   "source": [
    "test2x2 = bruteforce(2,2);\n",
    "test2x3 = bruteforce(2,3);\n",
    "test2x4 = bruteforce(2,4);\n",
    "test2x5 = bruteforce(2,5);\n",
    "test2x6 = bruteforce(2,6);\n",
    "test2x7 = bruteforce(2,7);\n",
    "test2x8 = bruteforce(2,8);\n",
    "test3x2 = bruteforce(3,2);\n",
    "\n",
    "somevecs = [ [1,0,0],[0,1,0],[0,0,1],[0,0,0],[1/4,1/4,1/2],\n",
    "           [1/4,1/2,1/4],[1/2,1/4,1/4]];\n",
    "some3x4 = bruteforcevecs(somevecs,half=True);\n",
    "\n",
    "S = {};\n",
    "for i in range(2,12):\n",
    "    S[i] = Set(itertools.product([0,1],repeat=i));"
   ]
  },
  {
   "cell_type": "code",
   "execution_count": null,
   "metadata": {},
   "outputs": [],
   "source": [
    "half3x3 = bruteforce(3,3,half=True);\n",
    "print len(half3x3);\n",
    "test2x10 = unpicklefile(\"test2x10\");\n",
    "print len(test2x10);\n",
    "test2x15 = unpicklefile(\"test2x15\");\n",
    "print len(test2x15);\n",
    "test2x20 = unpicklefile(\"test2x20\");\n",
    "print len(test2x20);\n",
    "#test4x1 = unpicklefile(\"test4x1\");\n",
    "#test3x4 = unpicklefile(\"test3x4\");"
   ]
  },
  {
   "cell_type": "code",
   "execution_count": null,
   "metadata": {},
   "outputs": [],
   "source": [
    "test3x3 = unpicklefile(\"test3x3\");\n",
    "print len(test3x3);\n",
    "test2x29 = unpicklefile(\"test2x29\");\n",
    "print len(test2x29);\n",
    "test2x36 = unpicklefile(\"test2x36\");\n",
    "print len(test2x36);"
   ]
  },
  {
   "cell_type": "code",
   "execution_count": null,
   "metadata": {},
   "outputs": [],
   "source": [
    "#correctness check\n",
    "c = 0;\n",
    "for k in SW.keys():\n",
    "    for W in SW[k]:\n",
    "        sys.stdout.write(str(k)+\"   %d\\r\" % (c) );\n",
    "        #sys.stdout.flush();\n",
    "        c = c + 1;\n",
    "        if SC.has_key(k) and W[0][0].nrows() > SC[k]:\n",
    "            print \"mat size > SC\",k,W;\n",
    "            print \"\";\n",
    "            SW[k].remove(W);\n",
    "            continue;\n",
    "        if findwitness([W[0]],k,W[1].list(),W[2].list()) == None:\n",
    "            print k,W;\n",
    "            print \"\";\n",
    "            SW[k].remove(W);"
   ]
  },
  {
   "cell_type": "code",
   "execution_count": 35,
   "metadata": {},
   "outputs": [],
   "source": [
    "for k in SC.keys():\n",
    "    if NC.has_key(k) == False:\n",
    "        continue;\n",
    "    if SC[k] > NC[k]:# and 4<len(k)<8:\n",
    "        print k,SC[k],NC[k];"
   ]
  },
  {
   "cell_type": "code",
   "execution_count": 8,
   "metadata": {},
   "outputs": [],
   "source": [
    "#make sure the bitflip of every string also has a witness\n",
    "for s in S[9]:\n",
    "    if len(SW[s])>0 and len(SW[flip(s)])==0:\n",
    "        m = SW[s][0][0];\n",
    "        v = SW[s][0][1];\n",
    "        f = SW[s][0][2];\n",
    "        print flip(s),addonewit_vec(switchmats(m),flip(s),v,f);"
   ]
  },
  {
   "cell_type": "code",
   "execution_count": 127,
   "metadata": {},
   "outputs": [
    {
     "name": "stdout",
     "output_type": "stream",
     "text": [
      "0\n"
     ]
    }
   ],
   "source": [
    "notmatching = [s for s in SC.keys() if SC.has_key(flip(s))==True and SC[s] > SC[flip(s)]];\n",
    "print len(notmatching)"
   ]
  },
  {
   "cell_type": "code",
   "execution_count": 15,
   "metadata": {},
   "outputs": [],
   "source": [
    "for s in notmatching:\n",
    "    print s,SC[s],flip(s),SC[flip(s)]"
   ]
  },
  {
   "cell_type": "code",
   "execution_count": 16,
   "metadata": {},
   "outputs": [],
   "source": [
    "#to fix witnesses for notmatching (ONLY RUN ONCE!)\n",
    "for s in notmatching:\n",
    "    print s;\n",
    "    SW[s] = [];\n",
    "    m = SW[flip(s)][0][0];\n",
    "    v = SW[flip(s)][0][1];\n",
    "    f = SW[flip(s)][0][2];\n",
    "    print addonewit_vec(switchmats(m),s,v,f)"
   ]
  },
  {
   "cell_type": "code",
   "execution_count": 188,
   "metadata": {},
   "outputs": [
    {
     "name": "stdout",
     "output_type": "stream",
     "text": [
      "6\r"
     ]
    }
   ],
   "source": [
    "c = 0;\n",
    "#for s in lookup(SC,3,5):\n",
    "for s in lookup(SC,4):\n",
    "#for s in notmatching:\n",
    "#for s in lookup(SC,3,8):\n",
    "#for s in singles:\n",
    "    #if len(SW[s]) > 0:# or mindenom(s) > 2:\n",
    "    #    continue;\n",
    "    if len(s) < 5 or SC[s] == 2:\n",
    "        continue;\n",
    "    c = c + 1;\n",
    "    if c < 0:\n",
    "        continue;\n",
    "    if c > 50:\n",
    "        break;\n",
    "    sys.stdout.write(\"%d\\r\" % (c) );\n",
    "    v = [1/2,1/2];\n",
    "    f = [0,1];\n",
    "    #f = list(reversed(f));\n",
    "    wits = findwitness(test2x6[::],s,v,f);\n",
    "    if wits != None:\n",
    "        print s,wits,addonewit(wits,s,v,f);\n",
    "        print \"\";\n",
    "        print flip(s),switchmats(wits),addonewit(switchmats(wits),flip(s),v,f);\n",
    "        print \"\";"
   ]
  },
  {
   "cell_type": "code",
   "execution_count": 171,
   "metadata": {},
   "outputs": [],
   "source": [
    "savewits()"
   ]
  },
  {
   "cell_type": "code",
   "execution_count": null,
   "metadata": {},
   "outputs": [],
   "source": [
    "#really inefficient (for larger sets of strings)\n",
    "c = 0;\n",
    "for s in S[9].difference(lookup(SC,2,9,less=True)):\n",
    "    if len(SW[s]) > 0:\n",
    "        continue;\n",
    "    c = c + 1;\n",
    "    if c < 0:\n",
    "        continue;\n",
    "    if c > 50:\n",
    "        break;\n",
    "    sys.stdout.write(\"%d\\r\" % (c) );\n",
    "    v = [1,0,0];\n",
    "    f = [0,0,1];\n",
    "    #wits = findwitness(test3x2[1::100],s,f);\n",
    "    wits = findwitness(test3x3[269500:450000:91],s,v,f);\n",
    "    #wits = findwitness(test2x15[::13],s,f);\n",
    "    if wits != None:\n",
    "        print s,wits,addonewit(wits,s,v,f);\n",
    "        print \"\";\n",
    "        print flip(s),switchmats(wits),addonewit(switchmats(wits),flip(s),v,f);\n",
    "        print \"\";"
   ]
  },
  {
   "cell_type": "code",
   "execution_count": 154,
   "metadata": {},
   "outputs": [
    {
     "name": "stdout",
     "output_type": "stream",
     "text": [
      "[0, 99/100, 101/100, 1/100, -1/100, 49/100, 51/100, 51/100, 49/100, 999/1000, 1001/1000, 1/1000, -1/1000, 499/1000, 501/1000, 501/1000, 499/1000, 9999/10000, 10001/10000, 1/10000, -1/10000, 4999/10000, 5001/10000, 5001/10000, 4999/10000] 25\n",
      "13 possible entries\n",
      "13 rows\n",
      "169 matrices\n",
      "28561 matrix pairs\n"
     ]
    }
   ],
   "source": [
    "epses = [1/100,1/1000,1/10000];\n",
    "probs = [0];\n",
    "for e in epses:\n",
    "    for d in [1,2]:\n",
    "        f5 = 1/d-e;\n",
    "        f6 = 1/d+e;\n",
    "        probs.append(f5);\n",
    "        probs.append(f6);\n",
    "        probs.append(1-f5);\n",
    "        probs.append(1-f6);\n",
    "print probs,len(probs)\n",
    "test1 = bruteforceprobs(2,probs,half=False,info=True)\n",
    "#test1 = bruteforceprobs(2,[eps1,1-eps1,1/2-eps1,1/2+eps1,eps1/10,1-eps1/10],half=True,info=True)"
   ]
  },
  {
   "cell_type": "code",
   "execution_count": 155,
   "metadata": {},
   "outputs": [
    {
     "name": "stdout",
     "output_type": "stream",
     "text": [
      "[0, 1, 1, 0, 0, 1/2, 1/2, 1/2, 1/2, 99/100, 101/100, 1/100, -1/100, 49/100, 51/100, 51/100, 49/100, 999/1000, 1001/1000, 1/1000, -1/1000, 499/1000, 501/1000, 501/1000, 499/1000, 9999/10000, 10001/10000, 1/10000, -1/10000, 4999/10000, 5001/10000, 5001/10000, 4999/10000, 99999/100000, 100001/100000, 1/100000, -1/100000, 49999/100000, 50001/100000, 50001/100000, 49999/100000] 41\n",
      "19 possible entries\n",
      "20 rows\n",
      "400 matrices\n",
      "79800 matrix pairs\n"
     ]
    }
   ],
   "source": [
    "epses1a = [0,1/100,1/1000,1/10000,1/100000];\n",
    "probs1a = [0];\n",
    "for e in epses1a:\n",
    "    for d in [1,2]:\n",
    "        f5 = 1/d-e;\n",
    "        f6 = 1/d+e;\n",
    "        probs1a.append(f5);\n",
    "        probs1a.append(f6);\n",
    "        probs1a.append(1-f5);\n",
    "        probs1a.append(1-f6);\n",
    "print probs1a,len(probs1a)\n",
    "test1a = bruteforceprobs(2,probs1a,half=True,info=True)"
   ]
  },
  {
   "cell_type": "code",
   "execution_count": 27,
   "metadata": {},
   "outputs": [
    {
     "name": "stdout",
     "output_type": "stream",
     "text": [
      "3 possible entries\n",
      "5 rows\n",
      "625 matrices\n",
      "195000 matrix pairs\n"
     ]
    }
   ],
   "source": [
    "test2 = bruteforceprobs(4,[1/100,97/100,0],half=True,info=True)"
   ]
  },
  {
   "cell_type": "code",
   "execution_count": 6,
   "metadata": {},
   "outputs": [
    {
     "name": "stdout",
     "output_type": "stream",
     "text": [
      "4 possible entries\n",
      "10 rows\n",
      "1000 matrices\n",
      "499500 matrix pairs\n"
     ]
    }
   ],
   "source": [
    "test3=bruteforceprobs(3,[1/4,3/8,5/8,0],half=True,info=True)"
   ]
  },
  {
   "cell_type": "code",
   "execution_count": 157,
   "metadata": {},
   "outputs": [
    {
     "name": "stdout",
     "output_type": "stream",
     "text": [
      "13 possible entries\n",
      "13 rows\n",
      "169 matrices\n",
      "14196 matrix pairs\n"
     ]
    }
   ],
   "source": [
    "eps1=1/1000\n",
    "test4=bruteforceprobs(2,[eps1,1-eps1,1/2-eps1,1/2+eps1,1/3-eps1,2/3+eps1,1/3+eps1,2/3-eps1,1/4-eps1,3/4+eps1,1/4+eps1,3/4-eps1,0],half=True,info=True)"
   ]
  },
  {
   "cell_type": "code",
   "execution_count": 156,
   "metadata": {},
   "outputs": [
    {
     "name": "stdout",
     "output_type": "stream",
     "text": [
      "7391\n",
      "(1, 1, 1, 0, 0) 2 3\n",
      "(1, 1, 0, 1, 0) 2 3\n",
      "(1, 1, 1, 1, 0) 2 2\n",
      "(1, 1, 1, 0, 1) 2 3\n",
      "(1, 0, 1, 0, 1) 2 2\n",
      "(1, 0, 0, 0, 0) 2 2\n",
      "(0, 0, 1, 1, 1) 2 3\n",
      "(0, 0, 0, 0, 1) 2 2\n",
      "(0, 0, 0, 1, 0) 2 3\n",
      "(1, 1, 0, 0, 0) 2 3\n",
      "(0, 0, 0, 0, 0) 1 1\n",
      "(0, 0, 1, 0, 1) 2 3\n",
      "(0, 0, 0, 1, 1) 2 3\n",
      "(0, 1, 1, 1, 0) 2 3\n",
      "(0, 1, 0, 1, 0) 2 2\n",
      "(1, 0, 0, 0, 1) 2 3\n",
      "(1, 1, 1, 1, 1) 1 1\n",
      "(0, 1, 1, 1, 1) 2 2\n"
     ]
    }
   ],
   "source": [
    "v2 = [1/2,1/2];\n",
    "f2 = [0,1];\n",
    "#f2 = list(reversed(f2));\n",
    "#uniq2 = finduniques(test2x5,5,v2,f2);\n",
    "uniq2 = finduniques(test1a[1::10],5,v2,f2);\n",
    "#uniq2 = finduniques(test2[11000:12000:],10,v2,f2);\n",
    "#uniq2 = finduniques(test3[301000:302000:13],10,v2,f2);\n",
    "#uniq2 = finduniques(test4[12500:13000:],10,v2,f2);\n",
    "print len(uniq2)\n",
    "for s in Set([u[1][0][0] for u in uniq2]):\n",
    "    if SC.has_key(s):\n",
    "        print s,SC[s],NC[s];\n",
    "    else:\n",
    "        print s,\"n/a\",NC[s];"
   ]
  },
  {
   "cell_type": "code",
   "execution_count": 39,
   "metadata": {},
   "outputs": [],
   "source": [
    "#only bother adding witnesses if we don't already have one\n",
    "#c = 0;\n",
    "for u in uniq2:\n",
    "    s = u[1][0][0];\n",
    "    #don't bother if NC is lower, either\n",
    "    if NC.has_key(s) and NC[s] < u[0][0].nrows(): continue;\n",
    "    if not SW.has_key(s) or not SC.has_key(s) or SC[s] > u[0][0].nrows() or len(SW[s]) == 0:\n",
    "        a = addonewit(u[0],s,v2,f2);\n",
    "        if a > 0:\n",
    "            #c = c + a;\n",
    "            print s,SC[s],a;\n",
    "#print c"
   ]
  },
  {
   "cell_type": "code",
   "execution_count": 22,
   "metadata": {},
   "outputs": [],
   "source": [
    "savewits()"
   ]
  },
  {
   "cell_type": "code",
   "execution_count": 22,
   "metadata": {},
   "outputs": [
    {
     "name": "stdout",
     "output_type": "stream",
     "text": [
      "[((0, 0, 0, 0), 6249999/12500000)]\n"
     ]
    }
   ],
   "source": [
    "#0011 witness test\n",
    "W1 = [Matrix([[1/2+eps,1/2-eps],[1/2-eps,1/2+eps]]), \n",
    "      Matrix([[1-eps,eps],[eps,1-eps]])];\n",
    "epses1 = [[.01,.01],[10^(-10),10^(-11)]];\n",
    "W1sub = matsub(W1,epses1);\n",
    "W1list = list_probs(W1sub,[1,0],[0,1],range(4,16));\n",
    "print highest_prob(W1list,4)\n",
    "#print \"\"\n",
    "#print sortproblist(W1list)"
   ]
  },
  {
   "cell_type": "code",
   "execution_count": 23,
   "metadata": {},
   "outputs": [
    {
     "name": "stdout",
     "output_type": "stream",
     "text": [
      "1 (0, 0, 0, 0)\n",
      "1 (0, 0, 0, 0, 0)\n",
      "1 (0, 0, 0, 0, 0, 0)\n",
      "1 (0, 0, 0, 0, 0, 0, 1)\n",
      "1 (0, 0, 0, 0, 0, 0, 1, 1)\n",
      "1 (0, 0, 0, 0, 0, 0, 1, 1, 1)\n",
      "1 (0, 0, 0, 0, 0, 0, 1, 1, 1, 1)\n",
      "1 (0, 0, 0, 0, 0, 0, 1, 1, 1, 1, 1)\n",
      "1 (0, 0, 0, 0, 0, 0, 1, 1, 1, 1, 1, 1)\n",
      "1 (0, 0, 0, 0, 0, 0, 1, 1, 1, 1, 1, 1, 1)\n",
      "1 (0, 0, 0, 0, 0, 0, 1, 1, 1, 1, 1, 1, 1, 1)\n",
      "1 (0, 0, 0, 0, 0, 0, 1, 1, 1, 1, 1, 1, 1, 1, 1)\n"
     ]
    }
   ],
   "source": [
    "for i in range(4,16):\n",
    "    hi = highest_prob(W1list,i);\n",
    "    print len(hi),hi[0][0]"
   ]
  },
  {
   "cell_type": "code",
   "execution_count": 26,
   "metadata": {},
   "outputs": [
    {
     "name": "stdout",
     "output_type": "stream",
     "text": [
      "0.0156250000000000 1.00000000000000e-10\n"
     ]
    }
   ],
   "source": [
    "print .5^6, RR(10^(-10))"
   ]
  },
  {
   "cell_type": "code",
   "execution_count": 177,
   "metadata": {},
   "outputs": [
    {
     "name": "stdout",
     "output_type": "stream",
     "text": [
      "[((0, 0, 0, 0), 1), ((0, 0, 1, 1), 1), ((1, 0, 0, 1), 1), ((1, 1, 0, 0), 1), ((1, 1, 1, 1), 1)]\n",
      "1\n"
     ]
    }
   ],
   "source": [
    "#0011 test2\n",
    "W12 = [Matrix(QQ,[[0,1],[1,0]]), \n",
    "       Matrix(QQ,[[1,0],[0,0]])];\n",
    "W12list = list_probs(W12,[1,0],[1,0],4);\n",
    "print highest_prob(W12list)\n",
    "print accprob(W12,(0,0,1,1),(1,0),(1,0))"
   ]
  },
  {
   "cell_type": "code",
   "execution_count": 44,
   "metadata": {},
   "outputs": [],
   "source": [
    "a1,b1,c1,d1,a2,b2,c2,d2=var('a1,b1,c1,d1,a2,b2,c2,d2')\n",
    "W12a = [Matrix([[a1,b1],[c1,d1]]),\n",
    "        Matrix([[a2,b2],[c2,d2]])];"
   ]
  },
  {
   "cell_type": "code",
   "execution_count": 42,
   "metadata": {},
   "outputs": [
    {
     "name": "stdout",
     "output_type": "stream",
     "text": [
      "(0,)\n"
     ]
    },
    {
     "data": {
      "text/html": [
       "<html><script type=\"math/tex; mode=display\">\\newcommand{\\Bold}[1]{\\mathbf{#1}}b_{1}</script></html>"
      ],
      "text/plain": [
       "b1"
      ]
     },
     "metadata": {},
     "output_type": "display_data"
    },
    {
     "name": "stdout",
     "output_type": "stream",
     "text": [
      "\n",
      "(0, 0)\n"
     ]
    },
    {
     "data": {
      "text/html": [
       "<html><script type=\"math/tex; mode=display\">\\newcommand{\\Bold}[1]{\\mathbf{#1}}a_{1} b_{1} + b_{1} d_{1}</script></html>"
      ],
      "text/plain": [
       "a1*b1 + b1*d1"
      ]
     },
     "metadata": {},
     "output_type": "display_data"
    },
    {
     "name": "stdout",
     "output_type": "stream",
     "text": [
      "\n",
      "(0, 0, 1)\n"
     ]
    },
    {
     "data": {
      "text/html": [
       "<html><script type=\"math/tex; mode=display\">\\newcommand{\\Bold}[1]{\\mathbf{#1}}{\\left(a_{1}^{2} + b_{1} c_{1}\\right)} b_{2} + {\\left(a_{1} b_{1} + b_{1} d_{1}\\right)} d_{2}</script></html>"
      ],
      "text/plain": [
       "(a1^2 + b1*c1)*b2 + (a1*b1 + b1*d1)*d2"
      ]
     },
     "metadata": {},
     "output_type": "display_data"
    },
    {
     "name": "stdout",
     "output_type": "stream",
     "text": [
      "\n",
      "(0, 0, 1, 1)\n"
     ]
    },
    {
     "data": {
      "text/html": [
       "<html><script type=\"math/tex; mode=display\">\\newcommand{\\Bold}[1]{\\mathbf{#1}}{\\left({\\left(a_{1}^{2} + b_{1} c_{1}\\right)} a_{2} + {\\left(a_{1} b_{1} + b_{1} d_{1}\\right)} c_{2}\\right)} b_{2} + {\\left({\\left(a_{1}^{2} + b_{1} c_{1}\\right)} b_{2} + {\\left(a_{1} b_{1} + b_{1} d_{1}\\right)} d_{2}\\right)} d_{2}</script></html>"
      ],
      "text/plain": [
       "((a1^2 + b1*c1)*a2 + (a1*b1 + b1*d1)*c2)*b2 + ((a1^2 + b1*c1)*b2 + (a1*b1 + b1*d1)*d2)*d2"
      ]
     },
     "metadata": {},
     "output_type": "display_data"
    },
    {
     "name": "stdout",
     "output_type": "stream",
     "text": [
      "\n",
      "(0, 0, 1, 1, 1)\n"
     ]
    },
    {
     "data": {
      "text/html": [
       "<html><script type=\"math/tex; mode=display\">\\newcommand{\\Bold}[1]{\\mathbf{#1}}{\\left({\\left({\\left(a_{1}^{2} + b_{1} c_{1}\\right)} a_{2} + {\\left(a_{1} b_{1} + b_{1} d_{1}\\right)} c_{2}\\right)} a_{2} + {\\left({\\left(a_{1}^{2} + b_{1} c_{1}\\right)} b_{2} + {\\left(a_{1} b_{1} + b_{1} d_{1}\\right)} d_{2}\\right)} c_{2}\\right)} b_{2} + {\\left({\\left({\\left(a_{1}^{2} + b_{1} c_{1}\\right)} a_{2} + {\\left(a_{1} b_{1} + b_{1} d_{1}\\right)} c_{2}\\right)} b_{2} + {\\left({\\left(a_{1}^{2} + b_{1} c_{1}\\right)} b_{2} + {\\left(a_{1} b_{1} + b_{1} d_{1}\\right)} d_{2}\\right)} d_{2}\\right)} d_{2}</script></html>"
      ],
      "text/plain": [
       "(((a1^2 + b1*c1)*a2 + (a1*b1 + b1*d1)*c2)*a2 + ((a1^2 + b1*c1)*b2 + (a1*b1 + b1*d1)*d2)*c2)*b2 + (((a1^2 + b1*c1)*a2 + (a1*b1 + b1*d1)*c2)*b2 + ((a1^2 + b1*c1)*b2 + (a1*b1 + b1*d1)*d2)*d2)*d2"
      ]
     },
     "metadata": {},
     "output_type": "display_data"
    },
    {
     "name": "stdout",
     "output_type": "stream",
     "text": [
      "\n",
      "(0, 0, 1, 1, 1, 1)\n"
     ]
    },
    {
     "data": {
      "text/html": [
       "<html><script type=\"math/tex; mode=display\">\\newcommand{\\Bold}[1]{\\mathbf{#1}}{\\left({\\left({\\left({\\left(a_{1}^{2} + b_{1} c_{1}\\right)} a_{2} + {\\left(a_{1} b_{1} + b_{1} d_{1}\\right)} c_{2}\\right)} a_{2} + {\\left({\\left(a_{1}^{2} + b_{1} c_{1}\\right)} b_{2} + {\\left(a_{1} b_{1} + b_{1} d_{1}\\right)} d_{2}\\right)} c_{2}\\right)} a_{2} + {\\left({\\left({\\left(a_{1}^{2} + b_{1} c_{1}\\right)} a_{2} + {\\left(a_{1} b_{1} + b_{1} d_{1}\\right)} c_{2}\\right)} b_{2} + {\\left({\\left(a_{1}^{2} + b_{1} c_{1}\\right)} b_{2} + {\\left(a_{1} b_{1} + b_{1} d_{1}\\right)} d_{2}\\right)} d_{2}\\right)} c_{2}\\right)} b_{2} + {\\left({\\left({\\left({\\left(a_{1}^{2} + b_{1} c_{1}\\right)} a_{2} + {\\left(a_{1} b_{1} + b_{1} d_{1}\\right)} c_{2}\\right)} a_{2} + {\\left({\\left(a_{1}^{2} + b_{1} c_{1}\\right)} b_{2} + {\\left(a_{1} b_{1} + b_{1} d_{1}\\right)} d_{2}\\right)} c_{2}\\right)} b_{2} + {\\left({\\left({\\left(a_{1}^{2} + b_{1} c_{1}\\right)} a_{2} + {\\left(a_{1} b_{1} + b_{1} d_{1}\\right)} c_{2}\\right)} b_{2} + {\\left({\\left(a_{1}^{2} + b_{1} c_{1}\\right)} b_{2} + {\\left(a_{1} b_{1} + b_{1} d_{1}\\right)} d_{2}\\right)} d_{2}\\right)} d_{2}\\right)} d_{2}</script></html>"
      ],
      "text/plain": [
       "((((a1^2 + b1*c1)*a2 + (a1*b1 + b1*d1)*c2)*a2 + ((a1^2 + b1*c1)*b2 + (a1*b1 + b1*d1)*d2)*c2)*a2 + (((a1^2 + b1*c1)*a2 + (a1*b1 + b1*d1)*c2)*b2 + ((a1^2 + b1*c1)*b2 + (a1*b1 + b1*d1)*d2)*d2)*c2)*b2 + ((((a1^2 + b1*c1)*a2 + (a1*b1 + b1*d1)*c2)*a2 + ((a1^2 + b1*c1)*b2 + (a1*b1 + b1*d1)*d2)*c2)*b2 + (((a1^2 + b1*c1)*a2 + (a1*b1 + b1*d1)*c2)*b2 + ((a1^2 + b1*c1)*b2 + (a1*b1 + b1*d1)*d2)*d2)*d2)*d2"
      ]
     },
     "metadata": {},
     "output_type": "display_data"
    },
    {
     "name": "stdout",
     "output_type": "stream",
     "text": [
      "\n",
      "(0, 0, 1, 1, 1, 1, 1)\n"
     ]
    },
    {
     "data": {
      "text/html": [
       "<html><script type=\"math/tex; mode=display\">\\newcommand{\\Bold}[1]{\\mathbf{#1}}{\\left({\\left({\\left({\\left({\\left(a_{1}^{2} + b_{1} c_{1}\\right)} a_{2} + {\\left(a_{1} b_{1} + b_{1} d_{1}\\right)} c_{2}\\right)} a_{2} + {\\left({\\left(a_{1}^{2} + b_{1} c_{1}\\right)} b_{2} + {\\left(a_{1} b_{1} + b_{1} d_{1}\\right)} d_{2}\\right)} c_{2}\\right)} a_{2} + {\\left({\\left({\\left(a_{1}^{2} + b_{1} c_{1}\\right)} a_{2} + {\\left(a_{1} b_{1} + b_{1} d_{1}\\right)} c_{2}\\right)} b_{2} + {\\left({\\left(a_{1}^{2} + b_{1} c_{1}\\right)} b_{2} + {\\left(a_{1} b_{1} + b_{1} d_{1}\\right)} d_{2}\\right)} d_{2}\\right)} c_{2}\\right)} a_{2} + {\\left({\\left({\\left({\\left(a_{1}^{2} + b_{1} c_{1}\\right)} a_{2} + {\\left(a_{1} b_{1} + b_{1} d_{1}\\right)} c_{2}\\right)} a_{2} + {\\left({\\left(a_{1}^{2} + b_{1} c_{1}\\right)} b_{2} + {\\left(a_{1} b_{1} + b_{1} d_{1}\\right)} d_{2}\\right)} c_{2}\\right)} b_{2} + {\\left({\\left({\\left(a_{1}^{2} + b_{1} c_{1}\\right)} a_{2} + {\\left(a_{1} b_{1} + b_{1} d_{1}\\right)} c_{2}\\right)} b_{2} + {\\left({\\left(a_{1}^{2} + b_{1} c_{1}\\right)} b_{2} + {\\left(a_{1} b_{1} + b_{1} d_{1}\\right)} d_{2}\\right)} d_{2}\\right)} d_{2}\\right)} c_{2}\\right)} b_{2} + {\\left({\\left({\\left({\\left({\\left(a_{1}^{2} + b_{1} c_{1}\\right)} a_{2} + {\\left(a_{1} b_{1} + b_{1} d_{1}\\right)} c_{2}\\right)} a_{2} + {\\left({\\left(a_{1}^{2} + b_{1} c_{1}\\right)} b_{2} + {\\left(a_{1} b_{1} + b_{1} d_{1}\\right)} d_{2}\\right)} c_{2}\\right)} a_{2} + {\\left({\\left({\\left(a_{1}^{2} + b_{1} c_{1}\\right)} a_{2} + {\\left(a_{1} b_{1} + b_{1} d_{1}\\right)} c_{2}\\right)} b_{2} + {\\left({\\left(a_{1}^{2} + b_{1} c_{1}\\right)} b_{2} + {\\left(a_{1} b_{1} + b_{1} d_{1}\\right)} d_{2}\\right)} d_{2}\\right)} c_{2}\\right)} b_{2} + {\\left({\\left({\\left({\\left(a_{1}^{2} + b_{1} c_{1}\\right)} a_{2} + {\\left(a_{1} b_{1} + b_{1} d_{1}\\right)} c_{2}\\right)} a_{2} + {\\left({\\left(a_{1}^{2} + b_{1} c_{1}\\right)} b_{2} + {\\left(a_{1} b_{1} + b_{1} d_{1}\\right)} d_{2}\\right)} c_{2}\\right)} b_{2} + {\\left({\\left({\\left(a_{1}^{2} + b_{1} c_{1}\\right)} a_{2} + {\\left(a_{1} b_{1} + b_{1} d_{1}\\right)} c_{2}\\right)} b_{2} + {\\left({\\left(a_{1}^{2} + b_{1} c_{1}\\right)} b_{2} + {\\left(a_{1} b_{1} + b_{1} d_{1}\\right)} d_{2}\\right)} d_{2}\\right)} d_{2}\\right)} d_{2}\\right)} d_{2}</script></html>"
      ],
      "text/plain": [
       "(((((a1^2 + b1*c1)*a2 + (a1*b1 + b1*d1)*c2)*a2 + ((a1^2 + b1*c1)*b2 + (a1*b1 + b1*d1)*d2)*c2)*a2 + (((a1^2 + b1*c1)*a2 + (a1*b1 + b1*d1)*c2)*b2 + ((a1^2 + b1*c1)*b2 + (a1*b1 + b1*d1)*d2)*d2)*c2)*a2 + ((((a1^2 + b1*c1)*a2 + (a1*b1 + b1*d1)*c2)*a2 + ((a1^2 + b1*c1)*b2 + (a1*b1 + b1*d1)*d2)*c2)*b2 + (((a1^2 + b1*c1)*a2 + (a1*b1 + b1*d1)*c2)*b2 + ((a1^2 + b1*c1)*b2 + (a1*b1 + b1*d1)*d2)*d2)*d2)*c2)*b2 + (((((a1^2 + b1*c1)*a2 + (a1*b1 + b1*d1)*c2)*a2 + ((a1^2 + b1*c1)*b2 + (a1*b1 + b1*d1)*d2)*c2)*a2 + (((a1^2 + b1*c1)*a2 + (a1*b1 + b1*d1)*c2)*b2 + ((a1^2 + b1*c1)*b2 + (a1*b1 + b1*d1)*d2)*d2)*c2)*b2 + ((((a1^2 + b1*c1)*a2 + (a1*b1 + b1*d1)*c2)*a2 + ((a1^2 + b1*c1)*b2 + (a1*b1 + b1*d1)*d2)*c2)*b2 + (((a1^2 + b1*c1)*a2 + (a1*b1 + b1*d1)*c2)*b2 + ((a1^2 + b1*c1)*b2 + (a1*b1 + b1*d1)*d2)*d2)*d2)*d2)*d2"
      ]
     },
     "metadata": {},
     "output_type": "display_data"
    },
    {
     "name": "stdout",
     "output_type": "stream",
     "text": [
      "\n"
     ]
    }
   ],
   "source": [
    "for s in [(0,),(0,0),(0,0,1),(0,0,1,1),(0,0,1,1,1),\n",
    "          (0,0,1,1,1,1),(0,0,1,1,1,1,1)]:\n",
    "    print s\n",
    "    pretty_print(accprob(W12a,s,(1,0),(0,1)))\n",
    "    print \"\""
   ]
  },
  {
   "cell_type": "code",
   "execution_count": 41,
   "metadata": {},
   "outputs": [
    {
     "name": "stdout",
     "output_type": "stream",
     "text": [
      "(0,)\n"
     ]
    },
    {
     "data": {
      "text/html": [
       "<html><script type=\"math/tex; mode=display\">\\newcommand{\\Bold}[1]{\\mathbf{#1}}b_{1}</script></html>"
      ],
      "text/plain": [
       "b1"
      ]
     },
     "metadata": {},
     "output_type": "display_data"
    },
    {
     "name": "stdout",
     "output_type": "stream",
     "text": [
      "\n",
      "(0, 0)\n"
     ]
    },
    {
     "data": {
      "text/html": [
       "<html><script type=\"math/tex; mode=display\">\\newcommand{\\Bold}[1]{\\mathbf{#1}}a_{1} b_{1} + b_{1} d_{1}</script></html>"
      ],
      "text/plain": [
       "a1*b1 + b1*d1"
      ]
     },
     "metadata": {},
     "output_type": "display_data"
    },
    {
     "name": "stdout",
     "output_type": "stream",
     "text": [
      "\n",
      "(0, 0, 0)\n"
     ]
    },
    {
     "data": {
      "text/html": [
       "<html><script type=\"math/tex; mode=display\">\\newcommand{\\Bold}[1]{\\mathbf{#1}}{\\left(a_{1}^{2} + b_{1} c_{1}\\right)} b_{1} + {\\left(a_{1} b_{1} + b_{1} d_{1}\\right)} d_{1}</script></html>"
      ],
      "text/plain": [
       "(a1^2 + b1*c1)*b1 + (a1*b1 + b1*d1)*d1"
      ]
     },
     "metadata": {},
     "output_type": "display_data"
    },
    {
     "name": "stdout",
     "output_type": "stream",
     "text": [
      "\n",
      "(0, 0, 0, 0)\n"
     ]
    },
    {
     "data": {
      "text/html": [
       "<html><script type=\"math/tex; mode=display\">\\newcommand{\\Bold}[1]{\\mathbf{#1}}{\\left({\\left(a_{1}^{2} + b_{1} c_{1}\\right)} a_{1} + {\\left(a_{1} b_{1} + b_{1} d_{1}\\right)} c_{1}\\right)} b_{1} + {\\left({\\left(a_{1}^{2} + b_{1} c_{1}\\right)} b_{1} + {\\left(a_{1} b_{1} + b_{1} d_{1}\\right)} d_{1}\\right)} d_{1}</script></html>"
      ],
      "text/plain": [
       "((a1^2 + b1*c1)*a1 + (a1*b1 + b1*d1)*c1)*b1 + ((a1^2 + b1*c1)*b1 + (a1*b1 + b1*d1)*d1)*d1"
      ]
     },
     "metadata": {},
     "output_type": "display_data"
    },
    {
     "name": "stdout",
     "output_type": "stream",
     "text": [
      "\n",
      "(0, 0, 0, 1)\n"
     ]
    },
    {
     "data": {
      "text/html": [
       "<html><script type=\"math/tex; mode=display\">\\newcommand{\\Bold}[1]{\\mathbf{#1}}{\\left({\\left(a_{1}^{2} + b_{1} c_{1}\\right)} a_{1} + {\\left(a_{1} b_{1} + b_{1} d_{1}\\right)} c_{1}\\right)} b_{2} + {\\left({\\left(a_{1}^{2} + b_{1} c_{1}\\right)} b_{1} + {\\left(a_{1} b_{1} + b_{1} d_{1}\\right)} d_{1}\\right)} d_{2}</script></html>"
      ],
      "text/plain": [
       "((a1^2 + b1*c1)*a1 + (a1*b1 + b1*d1)*c1)*b2 + ((a1^2 + b1*c1)*b1 + (a1*b1 + b1*d1)*d1)*d2"
      ]
     },
     "metadata": {},
     "output_type": "display_data"
    },
    {
     "name": "stdout",
     "output_type": "stream",
     "text": [
      "\n",
      "(0, 0, 0, 1, 1)\n"
     ]
    },
    {
     "data": {
      "text/html": [
       "<html><script type=\"math/tex; mode=display\">\\newcommand{\\Bold}[1]{\\mathbf{#1}}{\\left({\\left({\\left(a_{1}^{2} + b_{1} c_{1}\\right)} a_{1} + {\\left(a_{1} b_{1} + b_{1} d_{1}\\right)} c_{1}\\right)} a_{2} + {\\left({\\left(a_{1}^{2} + b_{1} c_{1}\\right)} b_{1} + {\\left(a_{1} b_{1} + b_{1} d_{1}\\right)} d_{1}\\right)} c_{2}\\right)} b_{2} + {\\left({\\left({\\left(a_{1}^{2} + b_{1} c_{1}\\right)} a_{1} + {\\left(a_{1} b_{1} + b_{1} d_{1}\\right)} c_{1}\\right)} b_{2} + {\\left({\\left(a_{1}^{2} + b_{1} c_{1}\\right)} b_{1} + {\\left(a_{1} b_{1} + b_{1} d_{1}\\right)} d_{1}\\right)} d_{2}\\right)} d_{2}</script></html>"
      ],
      "text/plain": [
       "(((a1^2 + b1*c1)*a1 + (a1*b1 + b1*d1)*c1)*a2 + ((a1^2 + b1*c1)*b1 + (a1*b1 + b1*d1)*d1)*c2)*b2 + (((a1^2 + b1*c1)*a1 + (a1*b1 + b1*d1)*c1)*b2 + ((a1^2 + b1*c1)*b1 + (a1*b1 + b1*d1)*d1)*d2)*d2"
      ]
     },
     "metadata": {},
     "output_type": "display_data"
    },
    {
     "name": "stdout",
     "output_type": "stream",
     "text": [
      "\n",
      "(0, 0, 0, 1, 1, 1)\n"
     ]
    },
    {
     "data": {
      "text/html": [
       "<html><script type=\"math/tex; mode=display\">\\newcommand{\\Bold}[1]{\\mathbf{#1}}{\\left({\\left({\\left({\\left(a_{1}^{2} + b_{1} c_{1}\\right)} a_{1} + {\\left(a_{1} b_{1} + b_{1} d_{1}\\right)} c_{1}\\right)} a_{2} + {\\left({\\left(a_{1}^{2} + b_{1} c_{1}\\right)} b_{1} + {\\left(a_{1} b_{1} + b_{1} d_{1}\\right)} d_{1}\\right)} c_{2}\\right)} a_{2} + {\\left({\\left({\\left(a_{1}^{2} + b_{1} c_{1}\\right)} a_{1} + {\\left(a_{1} b_{1} + b_{1} d_{1}\\right)} c_{1}\\right)} b_{2} + {\\left({\\left(a_{1}^{2} + b_{1} c_{1}\\right)} b_{1} + {\\left(a_{1} b_{1} + b_{1} d_{1}\\right)} d_{1}\\right)} d_{2}\\right)} c_{2}\\right)} b_{2} + {\\left({\\left({\\left({\\left(a_{1}^{2} + b_{1} c_{1}\\right)} a_{1} + {\\left(a_{1} b_{1} + b_{1} d_{1}\\right)} c_{1}\\right)} a_{2} + {\\left({\\left(a_{1}^{2} + b_{1} c_{1}\\right)} b_{1} + {\\left(a_{1} b_{1} + b_{1} d_{1}\\right)} d_{1}\\right)} c_{2}\\right)} b_{2} + {\\left({\\left({\\left(a_{1}^{2} + b_{1} c_{1}\\right)} a_{1} + {\\left(a_{1} b_{1} + b_{1} d_{1}\\right)} c_{1}\\right)} b_{2} + {\\left({\\left(a_{1}^{2} + b_{1} c_{1}\\right)} b_{1} + {\\left(a_{1} b_{1} + b_{1} d_{1}\\right)} d_{1}\\right)} d_{2}\\right)} d_{2}\\right)} d_{2}</script></html>"
      ],
      "text/plain": [
       "((((a1^2 + b1*c1)*a1 + (a1*b1 + b1*d1)*c1)*a2 + ((a1^2 + b1*c1)*b1 + (a1*b1 + b1*d1)*d1)*c2)*a2 + (((a1^2 + b1*c1)*a1 + (a1*b1 + b1*d1)*c1)*b2 + ((a1^2 + b1*c1)*b1 + (a1*b1 + b1*d1)*d1)*d2)*c2)*b2 + ((((a1^2 + b1*c1)*a1 + (a1*b1 + b1*d1)*c1)*a2 + ((a1^2 + b1*c1)*b1 + (a1*b1 + b1*d1)*d1)*c2)*b2 + (((a1^2 + b1*c1)*a1 + (a1*b1 + b1*d1)*c1)*b2 + ((a1^2 + b1*c1)*b1 + (a1*b1 + b1*d1)*d1)*d2)*d2)*d2"
      ]
     },
     "metadata": {},
     "output_type": "display_data"
    },
    {
     "name": "stdout",
     "output_type": "stream",
     "text": [
      "\n",
      "(0, 0, 0, 1, 1, 1, 1)\n"
     ]
    },
    {
     "data": {
      "text/html": [
       "<html><script type=\"math/tex; mode=display\">\\newcommand{\\Bold}[1]{\\mathbf{#1}}{\\left({\\left({\\left({\\left({\\left(a_{1}^{2} + b_{1} c_{1}\\right)} a_{1} + {\\left(a_{1} b_{1} + b_{1} d_{1}\\right)} c_{1}\\right)} a_{2} + {\\left({\\left(a_{1}^{2} + b_{1} c_{1}\\right)} b_{1} + {\\left(a_{1} b_{1} + b_{1} d_{1}\\right)} d_{1}\\right)} c_{2}\\right)} a_{2} + {\\left({\\left({\\left(a_{1}^{2} + b_{1} c_{1}\\right)} a_{1} + {\\left(a_{1} b_{1} + b_{1} d_{1}\\right)} c_{1}\\right)} b_{2} + {\\left({\\left(a_{1}^{2} + b_{1} c_{1}\\right)} b_{1} + {\\left(a_{1} b_{1} + b_{1} d_{1}\\right)} d_{1}\\right)} d_{2}\\right)} c_{2}\\right)} a_{2} + {\\left({\\left({\\left({\\left(a_{1}^{2} + b_{1} c_{1}\\right)} a_{1} + {\\left(a_{1} b_{1} + b_{1} d_{1}\\right)} c_{1}\\right)} a_{2} + {\\left({\\left(a_{1}^{2} + b_{1} c_{1}\\right)} b_{1} + {\\left(a_{1} b_{1} + b_{1} d_{1}\\right)} d_{1}\\right)} c_{2}\\right)} b_{2} + {\\left({\\left({\\left(a_{1}^{2} + b_{1} c_{1}\\right)} a_{1} + {\\left(a_{1} b_{1} + b_{1} d_{1}\\right)} c_{1}\\right)} b_{2} + {\\left({\\left(a_{1}^{2} + b_{1} c_{1}\\right)} b_{1} + {\\left(a_{1} b_{1} + b_{1} d_{1}\\right)} d_{1}\\right)} d_{2}\\right)} d_{2}\\right)} c_{2}\\right)} b_{2} + {\\left({\\left({\\left({\\left({\\left(a_{1}^{2} + b_{1} c_{1}\\right)} a_{1} + {\\left(a_{1} b_{1} + b_{1} d_{1}\\right)} c_{1}\\right)} a_{2} + {\\left({\\left(a_{1}^{2} + b_{1} c_{1}\\right)} b_{1} + {\\left(a_{1} b_{1} + b_{1} d_{1}\\right)} d_{1}\\right)} c_{2}\\right)} a_{2} + {\\left({\\left({\\left(a_{1}^{2} + b_{1} c_{1}\\right)} a_{1} + {\\left(a_{1} b_{1} + b_{1} d_{1}\\right)} c_{1}\\right)} b_{2} + {\\left({\\left(a_{1}^{2} + b_{1} c_{1}\\right)} b_{1} + {\\left(a_{1} b_{1} + b_{1} d_{1}\\right)} d_{1}\\right)} d_{2}\\right)} c_{2}\\right)} b_{2} + {\\left({\\left({\\left({\\left(a_{1}^{2} + b_{1} c_{1}\\right)} a_{1} + {\\left(a_{1} b_{1} + b_{1} d_{1}\\right)} c_{1}\\right)} a_{2} + {\\left({\\left(a_{1}^{2} + b_{1} c_{1}\\right)} b_{1} + {\\left(a_{1} b_{1} + b_{1} d_{1}\\right)} d_{1}\\right)} c_{2}\\right)} b_{2} + {\\left({\\left({\\left(a_{1}^{2} + b_{1} c_{1}\\right)} a_{1} + {\\left(a_{1} b_{1} + b_{1} d_{1}\\right)} c_{1}\\right)} b_{2} + {\\left({\\left(a_{1}^{2} + b_{1} c_{1}\\right)} b_{1} + {\\left(a_{1} b_{1} + b_{1} d_{1}\\right)} d_{1}\\right)} d_{2}\\right)} d_{2}\\right)} d_{2}\\right)} d_{2}</script></html>"
      ],
      "text/plain": [
       "(((((a1^2 + b1*c1)*a1 + (a1*b1 + b1*d1)*c1)*a2 + ((a1^2 + b1*c1)*b1 + (a1*b1 + b1*d1)*d1)*c2)*a2 + (((a1^2 + b1*c1)*a1 + (a1*b1 + b1*d1)*c1)*b2 + ((a1^2 + b1*c1)*b1 + (a1*b1 + b1*d1)*d1)*d2)*c2)*a2 + ((((a1^2 + b1*c1)*a1 + (a1*b1 + b1*d1)*c1)*a2 + ((a1^2 + b1*c1)*b1 + (a1*b1 + b1*d1)*d1)*c2)*b2 + (((a1^2 + b1*c1)*a1 + (a1*b1 + b1*d1)*c1)*b2 + ((a1^2 + b1*c1)*b1 + (a1*b1 + b1*d1)*d1)*d2)*d2)*c2)*b2 + (((((a1^2 + b1*c1)*a1 + (a1*b1 + b1*d1)*c1)*a2 + ((a1^2 + b1*c1)*b1 + (a1*b1 + b1*d1)*d1)*c2)*a2 + (((a1^2 + b1*c1)*a1 + (a1*b1 + b1*d1)*c1)*b2 + ((a1^2 + b1*c1)*b1 + (a1*b1 + b1*d1)*d1)*d2)*c2)*b2 + ((((a1^2 + b1*c1)*a1 + (a1*b1 + b1*d1)*c1)*a2 + ((a1^2 + b1*c1)*b1 + (a1*b1 + b1*d1)*d1)*c2)*b2 + (((a1^2 + b1*c1)*a1 + (a1*b1 + b1*d1)*c1)*b2 + ((a1^2 + b1*c1)*b1 + (a1*b1 + b1*d1)*d1)*d2)*d2)*d2)*d2"
      ]
     },
     "metadata": {},
     "output_type": "display_data"
    },
    {
     "name": "stdout",
     "output_type": "stream",
     "text": [
      "\n"
     ]
    }
   ],
   "source": [
    "for s in [(0,),(0,0),(0,0,0),(0,0,0,0),(0,0,0,1),(0,0,0,1,1),\n",
    "          (0,0,0,1,1,1),(0,0,0,1,1,1,1)]:\n",
    "    print s\n",
    "    pretty_print(accprob(W12a,s,(1,0),(0,1)))\n",
    "    print \"\""
   ]
  },
  {
   "cell_type": "code",
   "execution_count": 47,
   "metadata": {},
   "outputs": [],
   "source": [
    "a0 = VariableGenerator('a0')\n",
    "b0 = VariableGenerator('b0')\n",
    "c0 = VariableGenerator('c0')\n",
    "d0 = VariableGenerator('d0')\n",
    "a1 = VariableGenerator('a1')\n",
    "b1 = VariableGenerator('b1')\n",
    "c1 = VariableGenerator('c1')\n",
    "d1 = VariableGenerator('d1')"
   ]
  },
  {
   "cell_type": "code",
   "execution_count": 59,
   "metadata": {},
   "outputs": [],
   "source": [
    "#idea: {a,b,c,d}_ij = prob seeing i on the jth symbol\n",
    "#(so, ofc, each is the same value for all j)\n",
    "P0 = [];\n",
    "P1 = [];\n",
    "for i in range(16):\n",
    "    P0.append(Matrix([[a0[i],b0[i]],[c0[i],d0[i]]]))\n",
    "    P1.append(Matrix([[a1[i],b1[i]],[c1[i],d1[i]]]))"
   ]
  },
  {
   "cell_type": "code",
   "execution_count": 61,
   "metadata": {},
   "outputs": [
    {
     "data": {
      "text/html": [
       "<html><script type=\"math/tex; mode=display\">\\newcommand{\\Bold}[1]{\\mathbf{#1}}{\\left({\\left({\\left({\\left({\\left(a_{00} a_{01} + b_{00} c_{01}\\right)} a_{02} + {\\left(a_{00} b_{01} + b_{00} d_{01}\\right)} c_{02}\\right)} a_{13} + {\\left({\\left(a_{00} a_{01} + b_{00} c_{01}\\right)} b_{02} + {\\left(a_{00} b_{01} + b_{00} d_{01}\\right)} d_{02}\\right)} c_{13}\\right)} a_{14} + {\\left({\\left({\\left(a_{00} a_{01} + b_{00} c_{01}\\right)} a_{02} + {\\left(a_{00} b_{01} + b_{00} d_{01}\\right)} c_{02}\\right)} b_{13} + {\\left({\\left(a_{00} a_{01} + b_{00} c_{01}\\right)} b_{02} + {\\left(a_{00} b_{01} + b_{00} d_{01}\\right)} d_{02}\\right)} d_{13}\\right)} c_{14}\\right)} a_{15} + {\\left({\\left({\\left({\\left(a_{00} a_{01} + b_{00} c_{01}\\right)} a_{02} + {\\left(a_{00} b_{01} + b_{00} d_{01}\\right)} c_{02}\\right)} a_{13} + {\\left({\\left(a_{00} a_{01} + b_{00} c_{01}\\right)} b_{02} + {\\left(a_{00} b_{01} + b_{00} d_{01}\\right)} d_{02}\\right)} c_{13}\\right)} b_{14} + {\\left({\\left({\\left(a_{00} a_{01} + b_{00} c_{01}\\right)} a_{02} + {\\left(a_{00} b_{01} + b_{00} d_{01}\\right)} c_{02}\\right)} b_{13} + {\\left({\\left(a_{00} a_{01} + b_{00} c_{01}\\right)} b_{02} + {\\left(a_{00} b_{01} + b_{00} d_{01}\\right)} d_{02}\\right)} d_{13}\\right)} d_{14}\\right)} c_{15}\\right)} b_{16} + {\\left({\\left({\\left({\\left({\\left(a_{00} a_{01} + b_{00} c_{01}\\right)} a_{02} + {\\left(a_{00} b_{01} + b_{00} d_{01}\\right)} c_{02}\\right)} a_{13} + {\\left({\\left(a_{00} a_{01} + b_{00} c_{01}\\right)} b_{02} + {\\left(a_{00} b_{01} + b_{00} d_{01}\\right)} d_{02}\\right)} c_{13}\\right)} a_{14} + {\\left({\\left({\\left(a_{00} a_{01} + b_{00} c_{01}\\right)} a_{02} + {\\left(a_{00} b_{01} + b_{00} d_{01}\\right)} c_{02}\\right)} b_{13} + {\\left({\\left(a_{00} a_{01} + b_{00} c_{01}\\right)} b_{02} + {\\left(a_{00} b_{01} + b_{00} d_{01}\\right)} d_{02}\\right)} d_{13}\\right)} c_{14}\\right)} b_{15} + {\\left({\\left({\\left({\\left(a_{00} a_{01} + b_{00} c_{01}\\right)} a_{02} + {\\left(a_{00} b_{01} + b_{00} d_{01}\\right)} c_{02}\\right)} a_{13} + {\\left({\\left(a_{00} a_{01} + b_{00} c_{01}\\right)} b_{02} + {\\left(a_{00} b_{01} + b_{00} d_{01}\\right)} d_{02}\\right)} c_{13}\\right)} b_{14} + {\\left({\\left({\\left(a_{00} a_{01} + b_{00} c_{01}\\right)} a_{02} + {\\left(a_{00} b_{01} + b_{00} d_{01}\\right)} c_{02}\\right)} b_{13} + {\\left({\\left(a_{00} a_{01} + b_{00} c_{01}\\right)} b_{02} + {\\left(a_{00} b_{01} + b_{00} d_{01}\\right)} d_{02}\\right)} d_{13}\\right)} d_{14}\\right)} d_{15}\\right)} d_{16}</script></html>"
      ],
      "text/plain": [
       "(((((a00*a01 + b00*c01)*a02 + (a00*b01 + b00*d01)*c02)*a13 + ((a00*a01 + b00*c01)*b02 + (a00*b01 + b00*d01)*d02)*c13)*a14 + (((a00*a01 + b00*c01)*a02 + (a00*b01 + b00*d01)*c02)*b13 + ((a00*a01 + b00*c01)*b02 + (a00*b01 + b00*d01)*d02)*d13)*c14)*a15 + ((((a00*a01 + b00*c01)*a02 + (a00*b01 + b00*d01)*c02)*a13 + ((a00*a01 + b00*c01)*b02 + (a00*b01 + b00*d01)*d02)*c13)*b14 + (((a00*a01 + b00*c01)*a02 + (a00*b01 + b00*d01)*c02)*b13 + ((a00*a01 + b00*c01)*b02 + (a00*b01 + b00*d01)*d02)*d13)*d14)*c15)*b16 + (((((a00*a01 + b00*c01)*a02 + (a00*b01 + b00*d01)*c02)*a13 + ((a00*a01 + b00*c01)*b02 + (a00*b01 + b00*d01)*d02)*c13)*a14 + (((a00*a01 + b00*c01)*a02 + (a00*b01 + b00*d01)*c02)*b13 + ((a00*a01 + b00*c01)*b02 + (a00*b01 + b00*d01)*d02)*d13)*c14)*b15 + ((((a00*a01 + b00*c01)*a02 + (a00*b01 + b00*d01)*c02)*a13 + ((a00*a01 + b00*c01)*b02 + (a00*b01 + b00*d01)*d02)*c13)*b14 + (((a00*a01 + b00*c01)*a02 + (a00*b01 + b00*d01)*c02)*b13 + ((a00*a01 + b00*c01)*b02 + (a00*b01 + b00*d01)*d02)*d13)*d14)*d15)*d16"
      ]
     },
     "metadata": {},
     "output_type": "display_data"
    }
   ],
   "source": [
    "A = identity_matrix(2);\n",
    "for i in range(7):\n",
    "    if i <= 2: #start with (bound+1) zeros\n",
    "        A = A*P0[i];\n",
    "    else:\n",
    "        A = A*P1[i];\n",
    "pretty_print(A[0][1]) #upper right entry"
   ]
  },
  {
   "cell_type": "code",
   "execution_count": 178,
   "metadata": {},
   "outputs": [
    {
     "data": {
      "text/plain": [
       "[((0, 1, 1, 1, 1, 1, 1, 0), 1/2)]"
      ]
     },
     "execution_count": 178,
     "metadata": {},
     "output_type": "execute_result"
    }
   ],
   "source": [
    "#0110 witness (W3)\n",
    "W3 = [Matrix(QQ,[[0,1],[1/2,1/2]]),Matrix(QQ,[[0,0],[0,1]])];\n",
    "highest_prob(list_probs(W3,(1,0),(1,0),8))"
   ]
  },
  {
   "cell_type": "code",
   "execution_count": 72,
   "metadata": {},
   "outputs": [
    {
     "name": "stdout",
     "output_type": "stream",
     "text": [
      "60\n",
      "{(1, 0, 1, 0), (1, 1, 1, 0), (0, 0, 1, 0)}\n"
     ]
    }
   ],
   "source": [
    "#playing with 0010 witness\n",
    "W4 = [Matrix([[eps,1-eps],[1/2+eps,1/2-eps]]), \n",
    "     Matrix([[1/2-eps,1/2+eps],[1/2-eps,1/2+eps]])];\n",
    "epses2 = [.01,.001,.0001]; #values to build from\n",
    "epspairs = Tuples(epses2,2).list();\n",
    "epsmats = Tuples(epspairs,2).list();\n",
    "W4subs = [];\n",
    "for e in epsmats:\n",
    "    W4subs.append(matsub(W4,e));\n",
    "uniqW4 = finduniques(W4subs,4,[1,0],[0,1]);\n",
    "print len(uniqW4)\n",
    "print Set([u[1][0][0] for u in uniqW4])"
   ]
  },
  {
   "cell_type": "code",
   "execution_count": null,
   "metadata": {},
   "outputs": [],
   "source": [
    "for u in uniqW4:\n",
    "    if u[1][0][0]==(0,0,1,0):\n",
    "        print u\n",
    "        print matdenom(u[0])\n",
    "        print \"\""
   ]
  },
  {
   "cell_type": "code",
   "execution_count": 180,
   "metadata": {},
   "outputs": [
    {
     "name": "stdout",
     "output_type": "stream",
     "text": [
      "[((0, 1, 1, 1, 1, 1), 615/1024)]\n",
      "\n",
      "189/512\n",
      "[((0, 1, 1, 1, 1, 1), 615/1024), ((0, 1, 1, 1, 1, 0), 459/1024), ((0, 1, 0, 0, 1, 1), 189/512), ((0, 1, 1, 1, 0, 0), 351/1024), ((0, 1, 0, 1, 1, 1), 171/512), ((0, 1, 0, 0, 0, 1), 135/512), ((0, 1, 0, 0, 1, 0), 135/512), ((0, 1, 0, 1, 1, 0), 135/512), ((0, 1, 1, 0, 0, 1), 135/512), ((0, 1, 1, 0, 1, 1), 135/512), ((0, 1, 0, 0, 0, 0), 243/1024), ((0, 1, 1, 0, 0, 0), 243/1024), ((0, 1, 1, 1, 0, 1), 117/512), ((0, 1, 0, 1, 0, 0), 81/512), ((0, 1, 1, 0, 1, 0), 81/512), ((0, 1, 0, 1, 0, 1), 27/256), ((0, 0, 0, 0, 0, 0), 0), ((0, 0, 0, 0, 0, 1), 0), ((0, 0, 0, 0, 1, 0), 0), ((0, 0, 0, 0, 1, 1), 0), ((0, 0, 0, 1, 0, 0), 0), ((0, 0, 0, 1, 0, 1), 0), ((0, 0, 0, 1, 1, 0), 0), ((0, 0, 0, 1, 1, 1), 0), ((0, 0, 1, 0, 0, 0), 0), ((0, 0, 1, 0, 0, 1), 0), ((0, 0, 1, 0, 1, 0), 0), ((0, 0, 1, 0, 1, 1), 0), ((0, 0, 1, 1, 0, 0), 0), ((0, 0, 1, 1, 0, 1), 0), ((0, 0, 1, 1, 1, 0), 0), ((0, 0, 1, 1, 1, 1), 0), ((1, 0, 0, 0, 0, 0), 0), ((1, 0, 0, 0, 0, 1), 0), ((1, 0, 0, 0, 1, 0), 0), ((1, 0, 0, 0, 1, 1), 0), ((1, 0, 0, 1, 0, 0), 0), ((1, 0, 0, 1, 0, 1), 0), ((1, 0, 0, 1, 1, 0), 0), ((1, 0, 0, 1, 1, 1), 0), ((1, 0, 1, 0, 0, 0), 0), ((1, 0, 1, 0, 0, 1), 0), ((1, 0, 1, 0, 1, 0), 0), ((1, 0, 1, 0, 1, 1), 0), ((1, 0, 1, 1, 0, 0), 0), ((1, 0, 1, 1, 0, 1), 0), ((1, 0, 1, 1, 1, 0), 0), ((1, 0, 1, 1, 1, 1), 0), ((1, 1, 0, 0, 0, 0), 0), ((1, 1, 0, 0, 0, 1), 0), ((1, 1, 0, 0, 1, 0), 0), ((1, 1, 0, 0, 1, 1), 0), ((1, 1, 0, 1, 0, 0), 0), ((1, 1, 0, 1, 0, 1), 0), ((1, 1, 0, 1, 1, 0), 0), ((1, 1, 0, 1, 1, 1), 0), ((1, 1, 1, 0, 0, 0), 0), ((1, 1, 1, 0, 0, 1), 0), ((1, 1, 1, 0, 1, 0), 0), ((1, 1, 1, 0, 1, 1), 0), ((1, 1, 1, 1, 0, 0), 0), ((1, 1, 1, 1, 0, 1), 0), ((1, 1, 1, 1, 1, 0), 0), ((1, 1, 1, 1, 1, 1), 0)]\n"
     ]
    }
   ],
   "source": [
    "#010011 tests\n",
    "W51 = [Matrix(QQ,[[0,1,0],[0,0,0],[1/4,0,3/4]]),\n",
    "       Matrix(QQ,[[0,0,0],[0,1/4,3/4],[0,1/2,1/2]])];\n",
    "W51list = list_probs(W51,(1,0,0),(0,0,1),6);\n",
    "print highest_prob(W51list)\n",
    "print \"\"\n",
    "print accprob(W51,(0,1,0,0,1,1),(1,0,0),(0,0,1))\n",
    "print sortproblist(W51list)"
   ]
  },
  {
   "cell_type": "code",
   "execution_count": 127,
   "metadata": {},
   "outputs": [
    {
     "name": "stdout",
     "output_type": "stream",
     "text": [
      "[([[  0   1   0]\n",
      "[  0   0   0]\n",
      "[1/2   0 1/2], [1/2 1/2   0]\n",
      "[  0 1/2 1/2]\n",
      "[  0   0   0]], [0]\n",
      "[0]\n",
      "[1]), ([[  0   0   1]\n",
      "[1/2 1/2   0]\n",
      "[  0   0   0], [1/2   0 1/2]\n",
      "[  0   0   0]\n",
      "[  0 1/2 1/2]], [0]\n",
      "[1]\n",
      "[0])]\n"
     ]
    },
    {
     "data": {
      "image/png": "[encoded data removed]",
      "text/plain": [
       "Graphics object consisting of 20 graphics primitives"
      ]
     },
     "execution_count": 127,
     "metadata": {},
     "output_type": "execute_result"
    }
   ],
   "source": [
    "print SW[(0,1,0,0,1,1)]\n",
    "autplotwit((0,1,0,0,1,1),1)"
   ]
  },
  {
   "cell_type": "code",
   "execution_count": 183,
   "metadata": {},
   "outputs": [
    {
     "name": "stdout",
     "output_type": "stream",
     "text": [
      "[[1/2 1/2   0]\n",
      "[  0 1/2 1/2]\n",
      "[  0   0   0], [0 0 1]\n",
      "[1 0 0]\n",
      "[0 0 0]]\n"
     ]
    }
   ],
   "source": [
    "witW5 = findwitness(test3x2,(0,1,0,0,1,1),(1/2,1/2,0),(0,1,1),stop=1)\n",
    "print witW5"
   ]
  },
  {
   "cell_type": "code",
   "execution_count": 185,
   "metadata": {},
   "outputs": [
    {
     "name": "stdout",
     "output_type": "stream",
     "text": [
      "None\n"
     ]
    }
   ],
   "source": [
    "witW52 = findwitness(test2x8,(0,1,0,0,1,1),(1/2,1/2),(1,0))\n",
    "print witW52"
   ]
  },
  {
   "cell_type": "code",
   "execution_count": null,
   "metadata": {
    "scrolled": false
   },
   "outputs": [],
   "source": [
    "for P in witW5:\n",
    "    autplot(P[0],P[1].list(),its=4).show()\n",
    "    print \"\""
   ]
  },
  {
   "cell_type": "code",
   "execution_count": 201,
   "metadata": {},
   "outputs": [
    {
     "name": "stdout",
     "output_type": "stream",
     "text": [
      "5\n",
      "[[5001/10000 4999/10000]\n",
      "[         0          0], [     0      0]\n",
      "[ 1/100 99/100]]\n",
      "\n",
      "[[  49/100   51/100]\n",
      "[999/1000   1/1000], [     0      0]\n",
      "[ 1/100 99/100]]\n",
      "\n",
      "[[4999/10000 5001/10000]\n",
      "[    51/100     49/100], [99/100  1/100]\n",
      "[ 1/100 99/100]]\n",
      "\n",
      "[[499/1000 501/1000]\n",
      "[  51/100   49/100], [99/100  1/100]\n",
      "[ 1/100 99/100]]\n",
      "\n",
      "[[501/1000 499/1000]\n",
      "[501/1000 499/1000], [99/100  1/100]\n",
      "[ 1/100 99/100]]\n",
      "\n"
     ]
    }
   ],
   "source": [
    "sig=(0,1,1,1);\n",
    "f3=[0,1];\n",
    "wit1 = findwitness(test1[::],sig,f3,stop=5)\n",
    "print len(wit1)\n",
    "for w in wit1:\n",
    "    print w[0]\n",
    "    print \"\""
   ]
  },
  {
   "cell_type": "code",
   "execution_count": 33,
   "metadata": {},
   "outputs": [],
   "source": [
    "savewits()"
   ]
  },
  {
   "cell_type": "code",
   "execution_count": 123,
   "metadata": {},
   "outputs": [
    {
     "name": "stdout",
     "output_type": "stream",
     "text": [
      "5 possible entries\n",
      "5 rows\n",
      "25 matrices\n",
      "300 matrix pairs\n"
     ]
    }
   ],
   "source": [
    "test5 = bruteforceprobs(2,[eps,1-eps,1/2+eps,1/2-eps,0],half=True,info=True,useeps=True)"
   ]
  },
  {
   "cell_type": "code",
   "execution_count": 124,
   "metadata": {},
   "outputs": [
    {
     "name": "stdout",
     "output_type": "stream",
     "text": [
      "99\n",
      "{(0, 1, 1, 1), (0, 0, 0, 0), (1, 1, 1, 1), (0, 1, 0, 1)}\n"
     ]
    }
   ],
   "source": [
    "epses3 = [[.01,.01],[.01,.01]];\n",
    "test5sub = [];\n",
    "for P in test5:\n",
    "    test5sub.append(matsub(P,epses3));\n",
    "uniq5 = finduniques(test5sub,4,[1,0],[1,1]);\n",
    "print len(uniq5)\n",
    "print Set([u[1][0][0] for u in uniq5])"
   ]
  },
  {
   "cell_type": "code",
   "execution_count": 90,
   "metadata": {},
   "outputs": [
    {
     "name": "stdout",
     "output_type": "stream",
     "text": [
      "216\n",
      "{(1, 1, 1, 0), (0, 0, 0, 0), (1, 0, 1, 0), (0, 1, 1, 1), (0, 1, 0, 1), (1, 1, 1, 1), (1, 0, 0, 1), (0, 1, 1, 0), (0, 0, 1, 1), (0, 0, 0, 1)}\n"
     ]
    }
   ],
   "source": [
    "uniq5a = finduniques(test5sub,4,[1,0]);\n",
    "print len(uniq5a)\n",
    "print Set([u[1][0][0] for u in uniq5a])"
   ]
  },
  {
   "cell_type": "code",
   "execution_count": null,
   "metadata": {},
   "outputs": [],
   "source": [
    "for u in uniq5a:\n",
    "    if u[1][0][0]==(0,1,1,0):\n",
    "        print u\n",
    "        print matdenom(u[0])\n",
    "        print \"\""
   ]
  },
  {
   "cell_type": "code",
   "execution_count": 166,
   "metadata": {},
   "outputs": [
    {
     "data": {
      "text/plain": [
       "[((0, 1, 0, 0), 17/27),\n",
       " ((0, 0, 0, 1), 14/27),\n",
       " ((0, 0, 0, 0), 13/27),\n",
       " ((0, 1, 0, 1), 10/27),\n",
       " ((0, 1, 1, 0), 10/27),\n",
       " ((0, 1, 1, 1), 8/27),\n",
       " ((0, 0, 1, 0), 5/27),\n",
       " ((0, 0, 1, 1), 4/27),\n",
       " ((1, 0, 0, 0), 0),\n",
       " ((1, 0, 0, 1), 0),\n",
       " ((1, 0, 1, 0), 0),\n",
       " ((1, 0, 1, 1), 0),\n",
       " ((1, 1, 0, 0), 0),\n",
       " ((1, 1, 0, 1), 0),\n",
       " ((1, 1, 1, 0), 0),\n",
       " ((1, 1, 1, 1), 0)]"
      ]
     },
     "execution_count": 166,
     "metadata": {},
     "output_type": "execute_result"
    }
   ],
   "source": [
    "W21 = [Matrix(QQ,[[0,1],[2/3,1/3]]), Matrix(QQ,[[0,0],[1/3,2/3]])];\n",
    "sortproblist(list_probs(W21,startfrom=4,upto=5,accept_states=(0,1)))"
   ]
  },
  {
   "cell_type": "code",
   "execution_count": 165,
   "metadata": {},
   "outputs": [
    {
     "data": {
      "text/plain": [
       "17/27"
      ]
     },
     "execution_count": 165,
     "metadata": {},
     "output_type": "execute_result"
    }
   ],
   "source": [
    "2/3*2/3 + 2/3*1/9 + 1/3*1/3"
   ]
  },
  {
   "cell_type": "code",
   "execution_count": 228,
   "metadata": {},
   "outputs": [
    {
     "data": {
      "text/plain": [
       "[((0, 1, 1, 1, 1, 1, 1, 0), 1/2)]"
      ]
     },
     "execution_count": 228,
     "metadata": {},
     "output_type": "execute_result"
    }
   ],
   "source": [
    "#concatenation tests\n",
    "#0110^0110 (W3^W3)\n",
    "W3W3 = [Matrix(QQ,[[0,1,0,0],[0,1/2,1/2,0],\n",
    "                   [0,0,0,1],[0,0,1/2,1/2]]),\n",
    "        Matrix(QQ,[[0,0,0,0],[0,1,0,0],\n",
    "                   [0,0,0,0],[0,0,0,1]])];\n",
    "highest_prob(list_probs(W3W3,accept_states=(0,0,1,0),lengths=8))"
   ]
  },
  {
   "cell_type": "code",
   "execution_count": 227,
   "metadata": {},
   "outputs": [
    {
     "data": {
      "text/plain": [
       "[(\n",
       "[[  0   0   1]                            \n",
       "[  0 1/2 1/2]                             \n",
       "[  1   0   0], [  0 1/2 1/2]           [0]\n",
       "[  1   0   0]                          [0]\n",
       "[1/2 1/2   0]]              , [1 0 0], [1]\n",
       "),\n",
       " (\n",
       "[[  0   1   0]                            \n",
       "[  1   0   0]                             \n",
       "[1/2 1/2   0], [  0   0   1]           [0]\n",
       "[1/2   0 1/2]                          [1]\n",
       "[  1   0   0]]              , [1 0 0], [0]\n",
       "),\n",
       " (\n",
       "[[1/2   0 1/2]                      \n",
       "[  1   0   0]                       \n",
       "[  0   0   0], [0 0 1]           [1]\n",
       "[1 0 0]                          [0]\n",
       "[0 1 0]]              , [1 0 0], [0]\n",
       ")]"
      ]
     },
     "execution_count": 227,
     "metadata": {},
     "output_type": "execute_result"
    }
   ],
   "source": [
    "SW[(0,1,1,0,0,1,1,0)]"
   ]
  },
  {
   "cell_type": "code",
   "execution_count": 32,
   "metadata": {},
   "outputs": [
    {
     "data": {
      "image/png": "[encoded data removed]",
      "text/plain": [
       "Graphics object consisting of 24 graphics primitives"
      ]
     },
     "metadata": {},
     "output_type": "display_data"
    },
    {
     "name": "stdout",
     "output_type": "stream",
     "text": [
      "\n"
     ]
    },
    {
     "data": {
      "image/png": "[encoded data removed]",
      "text/plain": [
       "Graphics object consisting of 18 graphics primitives"
      ]
     },
     "metadata": {},
     "output_type": "display_data"
    },
    {
     "name": "stdout",
     "output_type": "stream",
     "text": [
      "\n"
     ]
    },
    {
     "data": {
      "image/png": "[encoded data removed]",
      "text/plain": [
       "Graphics object consisting of 22 graphics primitives"
      ]
     },
     "metadata": {},
     "output_type": "display_data"
    },
    {
     "name": "stdout",
     "output_type": "stream",
     "text": [
      "\n"
     ]
    }
   ],
   "source": [
    "for i in range(len(SW[(0,1,1,0,0,1,1,0)])):\n",
    "    autplotwit((0,1,1,0,0,1,1,0),i,its=5).show();\n",
    "    print \"\""
   ]
  },
  {
   "cell_type": "code",
   "execution_count": 226,
   "metadata": {},
   "outputs": [
    {
     "name": "stdout",
     "output_type": "stream",
     "text": [
      "5 rows\n",
      "625 matrices\n",
      "195000 matrix pairs\n"
     ]
    }
   ],
   "source": [
    "somevecs2 = [[0,0,0,0],[0,1,0,0],[0,0,0,1],[0,1/2,1/2,0],\n",
    "            [0,0,1/2,1/2]];\n",
    "some4x2 = bruteforcevecs(somevecs2,half=True,info=True)"
   ]
  },
  {
   "cell_type": "code",
   "execution_count": null,
   "metadata": {},
   "outputs": [],
   "source": [
    "witW3W31 = findwitness(some4x2,sigma=(0,1,1,0,0,1,1,0),accept_states=(0,0,1,0));\n",
    "print witW3W31"
   ]
  },
  {
   "cell_type": "code",
   "execution_count": 8,
   "metadata": {},
   "outputs": [
    {
     "data": {
      "text/plain": [
       "4"
      ]
     },
     "execution_count": 8,
     "metadata": {},
     "output_type": "execute_result"
    }
   ],
   "source": [
    "NC[(0,1,1,0,0,1,1,0)]"
   ]
  },
  {
   "cell_type": "code",
   "execution_count": 23,
   "metadata": {},
   "outputs": [
    {
     "name": "stdout",
     "output_type": "stream",
     "text": [
      "[([[1/2 1/2   0]\n",
      "[  1   0   0]\n",
      "[1/2 1/2   0], [  0 1/2 1/2]\n",
      "[  1   0   0]\n",
      "[  1   0   0]], [0]\n",
      "[1]\n",
      "[0]), ([[1/2 1/2   0]\n",
      "[  1   0   0]\n",
      "[1/2 1/2   0], [  0 1/2 1/2]\n",
      "[1/2   0 1/2]\n",
      "[  1   0   0]], [0]\n",
      "[1]\n",
      "[0]), ([[  0   1   0]\n",
      "[  1   0   0]\n",
      "[1/2 1/2   0], [  0 1/2 1/2]\n",
      "[1/2   0 1/2]\n",
      "[  1   0   0]], [0]\n",
      "[1]\n",
      "[0]), ([[  0   1   0]\n",
      "[1/2 1/2   0]\n",
      "[1/2 1/2   0], [  0 1/2 1/2]\n",
      "[1/2   0 1/2]\n",
      "[  1   0   0]], [0]\n",
      "[1]\n",
      "[0]), ([[  0   1   0]\n",
      "[  1   0   0]\n",
      "[1/2   0 1/2], [  0 1/2 1/2]\n",
      "[1/2   0 1/2]\n",
      "[  1   0   0]], [0]\n",
      "[1]\n",
      "[0]), ([[  0   1   0]\n",
      "[  1   0   0]\n",
      "[  0 1/2 1/2], [  0 1/2 1/2]\n",
      "[1/2   0 1/2]\n",
      "[  1   0   0]], [0]\n",
      "[1]\n",
      "[0]), ([[  0   1   0]\n",
      "[  1   0   0]\n",
      "[1/2 1/2   0], [  0   0   1]\n",
      "[1/2   0 1/2]\n",
      "[  1   0   0]], [0]\n",
      "[1]\n",
      "[0]), ([[  0   1   0]\n",
      "[1/2 1/2   0]\n",
      "[1/2 1/2   0], [  0   0   1]\n",
      "[1/2   0 1/2]\n",
      "[  1   0   0]], [0]\n",
      "[1]\n",
      "[0]), ([[1/2 1/2   0]\n",
      "[  1   0   0]\n",
      "[1/2 1/2   0], [  0 1/2 1/2]\n",
      "[  1   0   0]\n",
      "[1/2   0 1/2]], [0]\n",
      "[1]\n",
      "[0]), ([[1/2 1/2   0]\n",
      "[1/2   0 1/2]\n",
      "[  0   1   0], [  0   1   0]\n",
      "[1/2   0 1/2]\n",
      "[1/2   0 1/2]], [0]\n",
      "[1]\n",
      "[0])]\n"
     ]
    }
   ],
   "source": [
    "witw3w3 = findwitness(test3x2,sigma=(0,1,1,0,0,1,1,0),accept_states=(0,1,0),stop=10);\n",
    "print witw3w3#,addonewit(thewit=witw3w3,accept_states=(0,1,0),sigma=(0,1,1,0,0,1,1,0))"
   ]
  },
  {
   "cell_type": "code",
   "execution_count": 25,
   "metadata": {},
   "outputs": [
    {
     "data": {
      "text/plain": [
       "1"
      ]
     },
     "execution_count": 25,
     "metadata": {},
     "output_type": "execute_result"
    }
   ],
   "source": [
    "addonewit_vec(witw3w3[6][0],sigma=(0,1,1,0,0,1,1,0),accept_states=witw3w3[6][1])"
   ]
  },
  {
   "cell_type": "code",
   "execution_count": 55,
   "metadata": {},
   "outputs": [],
   "source": [
    "for s in lookup(SC,3):\n",
    "    strs = \"\";\n",
    "    for i in range(len(s)):\n",
    "        strs = strs + str(s[i]);\n",
    "    for t in lookup(SC,2):\n",
    "        if len(s)>=len(t): continue;\n",
    "        strt = \"\";\n",
    "        for i in range(len(t)):\n",
    "            strt = strt + str(t[i]);\n",
    "        if strt.startswith(strs):# and SC[t]>SC[s]:\n",
    "            print s,SC[s],t,SC[t]"
   ]
  },
  {
   "cell_type": "code",
   "execution_count": 5,
   "metadata": {},
   "outputs": [],
   "source": [
    "t = (0,1,1,0,1);\n",
    "for s in S[8]:\n",
    "    if bytearray(t) in bytearray(s) and SC[s] != SC[t]:\n",
    "        print s,SC[s]"
   ]
  },
  {
   "cell_type": "code",
   "execution_count": 82,
   "metadata": {},
   "outputs": [
    {
     "name": "stdout",
     "output_type": "stream",
     "text": [
      "(0, 0, 0, 1, 1, 0) 2 (0, 1, 1, 0, 0, 0) 3\n",
      "(0, 0, 1, 1, 1, 0) 2 (0, 1, 1, 1, 0, 0) 3\n",
      "(0, 0, 1, 1, 0) 2 (0, 1, 1, 0, 0) 3\n",
      "(0, 1, 0, 0, 0, 1) 2 (1, 0, 0, 0, 1, 0) 3\n",
      "(0, 0, 1, 0, 1, 0) 2 (0, 1, 0, 1, 0, 0) 3\n",
      "(0, 0, 1, 0, 1) 2 (1, 0, 1, 0, 0) 3\n",
      "(0, 0, 0, 1, 0, 1) 2 (1, 0, 1, 0, 0, 0) 3\n"
     ]
    }
   ],
   "source": [
    "for s in S[5].union(S[6]):\n",
    "    revs = tuple(reversed(s));\n",
    "    if s[0] == 1: continue;\n",
    "    if not SC.has_key(revs): continue;\n",
    "    if SC[s] < SC[revs]:\n",
    "        print s,SC[s],revs,SC[revs];"
   ]
  },
  {
   "cell_type": "code",
   "execution_count": 88,
   "metadata": {},
   "outputs": [
    {
     "name": "stdout",
     "output_type": "stream",
     "text": [
      "([[2/5 3/5]\n",
      "[3/5 2/5], [1/5 4/5]\n",
      "[  1   0]], [1 0], [1]\n",
      "[0])\n",
      "[1917/3125 1208/3125]\n"
     ]
    }
   ],
   "source": [
    "t = (0,0,1,0,1);\n",
    "testw = SW[t][0];\n",
    "print testw\n",
    "tmat = probmatrix(testw[0],t);\n",
    "print testw[1]*tmat"
   ]
  },
  {
   "cell_type": "code",
   "execution_count": 93,
   "metadata": {},
   "outputs": [
    {
     "name": "stdout",
     "output_type": "stream",
     "text": [
      "[1917/3125, 1208/3125]\n",
      "[[2/5 3/5]\n",
      "[3/5 2/5], [1/5   1]\n",
      "[4/5   0]]\n",
      "[1917/3125 1208/3125]\n",
      "[1933/3125 1192/3125]\n",
      "[1917/3125 1933/3125]\n",
      "[1208/3125 1192/3125]\n"
     ]
    }
   ],
   "source": [
    "#revstart = [1917/3125,1208/3125];\n",
    "#revend = [1,0];\n",
    "revmats = [testw[0][0].transpose(),testw[0][1].transpose()];\n",
    "print revstart\n",
    "print revmats\n",
    "#revmats aren't matrices fitting our definition!\n",
    "#it \"works\" in the sense that it does witness the same # states for\n",
    "#the reversed string. But it doesn't seem to easily lead to a\n",
    "#witness that is actually valid.\n",
    "#I guess it does work as-is when the string is witnessed by a\n",
    "#pair of matrices that are both right- and left-stochastic.\n",
    "#for lengths 5 and 6, anyway, there seems to be a hint of a pattern\n",
    "#for which strings' A_P is different from their reversals'.\n",
    "print tmat\n",
    "print probmatrix(revmats,tuple(reversed(t)))"
   ]
  },
  {
   "cell_type": "code",
   "execution_count": 94,
   "metadata": {},
   "outputs": [
    {
     "name": "stdout",
     "output_type": "stream",
     "text": [
      "[[2/5 3/5]\n",
      "[3/5 2/5], [1/6 5/6]\n",
      "[  1   0]]\n",
      "[((1, 0, 1, 0, 0), 1917/3125)]\n",
      "\n",
      "[((1, 0, 1, 0, 0), 1917/3125), ((1, 0, 1, 0, 1), 1901/3125), ((1, 0, 0, 0, 0), 1873/3125), ((1, 0, 0, 0, 1), 1869/3125), ((1, 0, 0, 1, 0), 1857/3125), ((1, 0, 1, 1, 0), 1853/3125), ((1, 0, 0, 1, 1), 1841/3125), ((1, 1, 1, 0, 0), 1793/3125), ((1, 0, 1, 1, 1), 1789/3125), ((1, 1, 1, 0, 1), 1729/3125), ((1, 1, 0, 0, 0), 1617/3125), ((1, 1, 0, 0, 1), 1601/3125), ((0, 0, 1, 0, 0), 1573/3125), ((0, 0, 1, 0, 1), 1569/3125), ((0, 0, 0, 0, 0), 1562/3125), ((0, 0, 0, 0, 1), 1561/3125), ((0, 0, 0, 1, 0), 1558/3125), ((0, 0, 1, 1, 0), 1557/3125), ((0, 0, 0, 1, 1), 1554/3125), ((1, 1, 0, 1, 0), 1553/3125), ((0, 1, 1, 0, 0), 1542/3125), ((0, 0, 1, 1, 1), 1541/3125), ((1, 1, 1, 1, 0), 1537/3125), ((0, 1, 1, 0, 1), 1526/3125), ((0, 1, 0, 0, 0), 1498/3125), ((0, 1, 0, 0, 1), 1494/3125), ((1, 1, 0, 1, 1), 1489/3125), ((0, 1, 0, 1, 0), 1482/3125), ((0, 1, 1, 1, 0), 1478/3125), ((0, 1, 0, 1, 1), 1466/3125), ((0, 1, 1, 1, 1), 1414/3125), ((1, 1, 1, 1, 1), 1281/3125)]\n"
     ]
    }
   ],
   "source": [
    "newrevmats = [revmats[0], Matrix(QQ,[[1/6,5/6],[1,0]])]\n",
    "print newrevmats\n",
    "revlist = list_probs(revmats,accept_states=list(testw[1]),\n",
    "                     start_states=list(testw[2].transpose()),lengths=5)\n",
    "print highest_prob(revlist)\n",
    "print \"\"\n",
    "print sortproblist(revlist)"
   ]
  },
  {
   "cell_type": "code",
   "execution_count": 7,
   "metadata": {},
   "outputs": [
    {
     "name": "stdout",
     "output_type": "stream",
     "text": [
      "(0, 1, 1, 1, 0) 2 (1, 0, 0, 1, 1) 3\n",
      "(0, 1, 1, 0, 0) 3 (0, 0, 0, 1, 1) 2\n",
      "(0, 1, 1, 1, 1) 2 (1, 1, 0, 1, 1) 3\n",
      "(1, 1, 0, 1, 0) 2 (1, 0, 1, 1, 0) 3\n",
      "(1, 1, 0, 1, 1) 3 (1, 1, 1, 1, 0) 2\n",
      "(1, 0, 0, 0, 1) 2 (0, 1, 1, 0, 0) 3\n",
      "(1, 0, 0, 0, 0) 2 (0, 0, 1, 0, 0) 3\n",
      "(1, 0, 0, 1, 1) 3 (1, 1, 1, 0, 0) 2\n",
      "(0, 0, 1, 0, 1) 2 (0, 1, 0, 0, 1) 3\n",
      "(0, 0, 1, 0, 0) 3 (0, 0, 0, 0, 1) 2\n",
      "(1, 0, 1, 0, 1) 2 (0, 1, 1, 0, 1) 3\n",
      "(1, 0, 1, 1, 0) 3 (1, 0, 1, 0, 1) 2\n",
      "(1, 0, 1, 0, 0) 3 (0, 0, 1, 0, 1) 2\n",
      "(0, 1, 0, 0, 1) 3 (0, 1, 0, 1, 0) 2\n",
      "(0, 1, 0, 1, 0) 2 (1, 0, 0, 1, 0) 3\n",
      "(0, 1, 0, 1, 1) 3 (1, 1, 0, 1, 0) 2\n"
     ]
    }
   ],
   "source": [
    "for s1 in S[3]:\n",
    "    for s2 in S[2]:\n",
    "        str1 = s1 + s2;\n",
    "        str2 = s2 + s1;\n",
    "        if SC[str1] != SC[str2]:\n",
    "            print str1,SC[str1],str2,SC[str2]"
   ]
  },
  {
   "cell_type": "code",
   "execution_count": 240,
   "metadata": {},
   "outputs": [],
   "source": [
    "x = Matrix([.5,.2,.3]);\n",
    "y = Matrix([1,0,0]);\n",
    "f = Matrix([1,0,0]).transpose();\n",
    "A = Matrix([[.4,.6,0],\n",
    "            [.2,.3,.5],\n",
    "            [.4,.1,.5]]);\n",
    "B = Matrix([[.1,.5,.4],\n",
    "            [.4,0,.6],\n",
    "            [.5,.5,0]]);"
   ]
  },
  {
   "cell_type": "code",
   "execution_count": 241,
   "metadata": {},
   "outputs": [
    {
     "data": {
      "text/plain": [
       "True"
      ]
     },
     "execution_count": 241,
     "metadata": {},
     "output_type": "execute_result"
    }
   ],
   "source": [
    "x*A*f > x*B*f"
   ]
  },
  {
   "cell_type": "code",
   "execution_count": 242,
   "metadata": {},
   "outputs": [
    {
     "data": {
      "text/plain": [
       "True"
      ]
     },
     "execution_count": 242,
     "metadata": {},
     "output_type": "execute_result"
    }
   ],
   "source": [
    "y*A*f > y*B*f"
   ]
  },
  {
   "cell_type": "code",
   "execution_count": 243,
   "metadata": {},
   "outputs": [
    {
     "name": "stdout",
     "output_type": "stream",
     "text": [
      "[0.360000000000000] [0.280000000000000]\n",
      "[0.400000000000000] [0.100000000000000]\n"
     ]
    }
   ],
   "source": [
    "print x*A*f,x*B*f\n",
    "print y*A*f,y*B*f"
   ]
  },
  {
   "cell_type": "code",
   "execution_count": null,
   "metadata": {},
   "outputs": [],
   "source": []
  }
 ],
 "metadata": {
  "kernelspec": {
   "display_name": "SageMath 8.9",
   "language": "sage",
   "name": "sagemath"
  },
  "language_info": {
   "codemirror_mode": {
    "name": "ipython",
    "version": 2
   },
   "file_extension": ".py",
   "mimetype": "text/x-python",
   "name": "python",
   "nbconvert_exporter": "python",
   "pygments_lexer": "ipython2",
   "version": "2.7.15"
  }
 },
 "nbformat": 4,
 "nbformat_minor": 2
}
