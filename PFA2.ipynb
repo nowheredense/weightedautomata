{
 "cells": [
  {
   "cell_type": "code",
   "execution_count": 5,
   "metadata": {},
   "outputs": [
    {
     "data": {
      "text/plain": []
     },
     "execution_count": 5,
     "metadata": {},
     "output_type": "execute_result"
    }
   ],
   "source": [
    "import itertools\n",
    "RRR = RealField(100);\n",
    "\n",
    "def accprob(transmatrices,sigma):\n",
    "    assert transmatrices[0].nrows() == transmatrices[0].ncols() == transmatrices[1].nrows() == transmatrices[1].ncols();\n",
    "    n = transmatrices[0].nrows();\n",
    "    Id = identity_matrix(n);\n",
    "    v = Matrix(Id[0]);\n",
    "    \n",
    "    A = v*Id;\n",
    "    for ch in sigma:\n",
    "        assert int(ch) == 0 or int(ch) == 1;\n",
    "        A = A*transmatrices[int(ch)];\n",
    "    return A[0][n-1];\n",
    "\n",
    "\n",
    "def probmatrix(transmatrices,sigma):\n",
    "    assert transmatrices[0].nrows() == transmatrices[0].ncols() == transmatrices[1].nrows() == transmatrices[1].ncols();\n",
    "    A = identity_matrix(transmatrices[0].nrows());\n",
    "    for ch in sigma:\n",
    "        assert int(ch) == 0 or int(ch) == 1;\n",
    "        A = A*transmatrices[int(ch)];\n",
    "    return A;\n",
    "    \n",
    "\n",
    "def list_probsold(transmatrices,upto=11,startfrom=1):\n",
    "    assert transmatrices[0].nrows() == transmatrices[0].ncols() == transmatrices[1].nrows() == transmatrices[1].ncols();\n",
    "    n = transmatrices[0].nrows();\n",
    "    Id = identity_matrix(n);\n",
    "    v = Matrix(Id[0]);\n",
    "    \n",
    "    strings = [];\n",
    "    for i in range(startfrom,upto):\n",
    "        l = list(itertools.product([0,1],repeat=i));\n",
    "        for st in l:\n",
    "            strings.append(st);\n",
    "\n",
    "    problist = []; #list of strings with their acceptance probabilities\n",
    "    for st in strings:   \n",
    "        A = v*Id;\n",
    "        for ch in st:\n",
    "            assert int(ch) == 0 or int(ch) == 1;\n",
    "            A = A*transmatrices[int(ch)];\n",
    "        problist.append((st,A[0][n-1]));\n",
    "    return problist;\n",
    "    \n",
    "def list_probs(transmatrices,upto=11,startfrom=1):\n",
    "    assert transmatrices[0].nrows() == transmatrices[0].ncols() == transmatrices[1].nrows() == transmatrices[1].ncols();\n",
    "    n = transmatrices[0].nrows();\n",
    "    Id = identity_matrix(n);\n",
    "    v = Matrix(Id[0]);\n",
    "    \n",
    "    problist = []; #list of strings with their acceptance probabilities\n",
    "    for i in range(startfrom,upto):\n",
    "        l = list(itertools.product([0,1],repeat=i));\n",
    "        for st in l:\n",
    "            #strings.append(st);\n",
    "            A = v*Id;\n",
    "            for ch in st:\n",
    "                assert int(ch) == 0 or int(ch) == 1;\n",
    "                A = A*transmatrices[int(ch)];\n",
    "            problist.append((st,A[0][n-1]));\n",
    "        \n",
    "    return problist;\n",
    "    \n",
    "#expects a list in exactly the format returned by list_probs\n",
    "def highest_prob(problist):\n",
    "    highprob = max([l[1] for l in problist]);\n",
    "    highstr = [st for st in problist if st[1] == highprob];\n",
    "    return highstr;\n",
    "    \n",
    "def sortproblist(problist):\n",
    "    return sorted(problist,key=lambda x:x[1],reverse=True);\n",
    "    \n",
    "    \n",
    "#check transition matrices for rows summing to 1 (except last row)\n",
    "def checkmatrices(P):\n",
    "    assert P[0].nrows() == P[0].ncols() == P[1].nrows() == P[1].ncols();\n",
    "    n = P[0].nrows();\n",
    "    \n",
    "    for i in range(2):\n",
    "        for j in range(n-1):\n",
    "            s = sum(P[i][j]);\n",
    "            if s != 1:\n",
    "                print \"P\"+str(i)+\" row \"+str(j+1)+\" sum is \"+str(RRR(s));"
   ]
  },
  {
   "cell_type": "code",
   "execution_count": 6,
   "metadata": {},
   "outputs": [
    {
     "data": {
      "text/plain": [
       "[((1, 1, 1, 1, 1, 1, 1, 1, 1, 1, 1, 1), 0.0268033071142567)]"
      ]
     },
     "execution_count": 6,
     "metadata": {},
     "output_type": "execute_result"
    }
   ],
   "source": [
    "P = [Matrix([[.998,.001,.001],[.998,.001,.001],[0,0,1]]), Matrix([[.5,.499,.001],[.596,.4,.004],[0,0,1]])];\n",
    "checkmatrices(P)\n",
    "\n",
    "problist = list_probs(P,13);\n",
    "print highest_prob(problist);\n",
    "#print sortproblist(problist);"
   ]
  },
  {
   "cell_type": "code",
   "execution_count": 20,
   "metadata": {},
   "outputs": [
    {
     "data": {
      "text/plain": [
       "[((1, 0, 0, 0, 0, 0, 0, 0, 0, 0, 0, 0), 162737246786634638719/976562500000000000000)] 0.166642940709514"
      ]
     },
     "execution_count": 20,
     "metadata": {},
     "output_type": "execute_result"
    }
   ],
   "source": [
    "P0 = [Matrix(QQ,[[.5,.49,.01],[.4,.58,.02],[0,0,1]]), Matrix(QQ,[[.39,.6,.01],[.29,.7,.01],[0,0,1]])];\n",
    "checkmatrices(P0)\n",
    "\n",
    "problist = list_probs(P0,13);\n",
    "high = highest_prob(problist);\n",
    "print high,RR(high[0][1]);\n",
    "#print sortproblist(problist);"
   ]
  },
  {
   "cell_type": "code",
   "execution_count": 21,
   "metadata": {},
   "outputs": [
    {
     "data": {
      "text/plain": [
       "[((0, 1, 1, 1, 1, 1, 1, 1, 1, 1, 1, 1, 1, 1), 60487622209577708804359/64000000000000000000000)] 0.945119097024652"
      ]
     },
     "execution_count": 21,
     "metadata": {},
     "output_type": "execute_result"
    }
   ],
   "source": [
    "P00 = [Matrix(QQ,[[.3,.3,.3,.1],[.4,.2,.3,.1],[.4,.2,.3,.1],[0,0,0,1]]), Matrix(QQ,[[.4,.43,.1,.07],[.05,.6,.1,.25],[.05,.89,.05,.01],[0,0,0,1]])];\n",
    "checkmatrices(P00)\n",
    "\n",
    "problist = list_probs(P00,15);\n",
    "high = highest_prob(problist);\n",
    "print high,RR(high[0][1]);"
   ]
  },
  {
   "cell_type": "code",
   "execution_count": 7,
   "metadata": {},
   "outputs": [
    {
     "data": {
      "text/plain": [
       "[((0, 0, 0, 0, 0, 0, 0, 0, 0, 0, 0, 0), 55310790615860048767812367185826011746771343191937479215136422753999/100000000000000000000000000000000000000000000000000000000000000000000000)] 0.000553107906158600"
      ]
     },
     "execution_count": 7,
     "metadata": {},
     "output_type": "execute_result"
    }
   ],
   "source": [
    "P1 = [Matrix(QQ,[[.4,.4999999,.1,.0000001],[.1,.5,.3999,.0001],[.3,.5,.199999,.000001],[0,0,0,1]]), Matrix(QQ,[[.4,.4,.199999,.000001],[.399998,.4,.2,.000002],[.3,.3,.3999999,.0000001],[0,0,0,1]])];\n",
    "checkmatrices(P1)\n",
    "\n",
    "problist = list_probs(P1,13);\n",
    "high = highest_prob(problist);\n",
    "print high,RR(high[0][1]);\n",
    "#print sortproblist(problist);"
   ]
  },
  {
   "cell_type": "code",
   "execution_count": 11,
   "metadata": {},
   "outputs": [
    {
     "data": {
      "text/plain": [
       "[((0, 0, 0, 0, 0, 0, 0, 0, 0, 0, 0, 0), 58220908856769362486100569238856239271756400461855702818301756279999/1000000000000000000000000000000000000000000000000000000000000000000000000)] 0.0000582209088567694"
      ]
     },
     "execution_count": 11,
     "metadata": {},
     "output_type": "execute_result"
    }
   ],
   "source": [
    "P2 = [Matrix(QQ,[[.4,.4999999,.1,.0000001],[.1,.5,.39999,.00001],[.3,.5,.199999,.000001],[0,0,0,1]]), Matrix(QQ,[[.4,.4,.199999,.000001],[.399998,.4,.2,.000002],[.3,.3,.3999999,.0000001],[0,0,0,1]])];\n",
    "checkmatrices(P2)\n",
    "\n",
    "problist = list_probs(P2,13);\n",
    "high = highest_prob(problist);\n",
    "print high,RR(high[0][1]);\n",
    "#print sortproblist(problist);"
   ]
  },
  {
   "cell_type": "code",
   "execution_count": 8,
   "metadata": {},
   "outputs": [
    {
     "data": {
      "text/plain": [
       "[((1, 1, 1, 1, 1, 1, 1, 1, 1, 1, 1, 1, 1), 14887405423878273668438236352712381058557252213067564646301936065296092178393471800001/1000000000000000000000000000000000000000000000000000000000000000000000000000000000000000000)] 0.0000148874054238783"
      ]
     },
     "execution_count": 8,
     "metadata": {},
     "output_type": "execute_result"
    }
   ],
   "source": [
    "P3 = [Matrix(QQ,[[.4,.4999999,.1,.0000001],[.1,.5,.399999,.000001],[.3,.5,.199999,.000001],[0,0,0,1]]), Matrix(QQ,[[.4,.4,.199999,.000001],[.399998,.4,.2,.000002],[.3,.3,.3999999,.0000001],[0,0,0,1]])];\n",
    "checkmatrices(P3)\n",
    "\n",
    "problist = list_probs(P3,14);\n",
    "high = highest_prob(problist);\n",
    "print high,RR(high[0][1]);\n",
    "#print sortproblist(problist);"
   ]
  },
  {
   "cell_type": "code",
   "execution_count": 12,
   "metadata": {},
   "outputs": [
    {
     "data": {
      "text/plain": [
       "[(0, 1, 1, 0, 1, 0, 1, 0, 1, 0, 1, 0, 1)] 0.0000103571635975503"
      ]
     },
     "execution_count": 12,
     "metadata": {},
     "output_type": "execute_result"
    }
   ],
   "source": [
    "P4 = [Matrix(QQ,[[.4,.4999999,.1,.0000001],[.1,.5,.399999,.000001],[.3,.5,.199999,.000001],[0,0,0,1]]), Matrix(QQ,[[.4,.4,.19999999,.00000001],[.399998,.4,.2,.000002],[.3,.3,.3999999,.0000001],[0,0,0,1]])];\n",
    "checkmatrices(P4)\n",
    "\n",
    "problist = list_probs(P4,14);\n",
    "high = highest_prob(problist);\n",
    "print [h[0] for h in high],RR(high[0][1]);\n",
    "#print sortproblist(problist);"
   ]
  },
  {
   "cell_type": "code",
   "execution_count": 27,
   "metadata": {},
   "outputs": [
    {
     "data": {
      "text/plain": [
       "[(0, 1, 0, 0, 0, 0, 0, 0, 0, 0, 0, 0, 1)] 0.00971084800304101"
      ]
     },
     "execution_count": 27,
     "metadata": {},
     "output_type": "execute_result"
    }
   ],
   "source": [
    "eps = RRR(.0001);\n",
    "P4_2 = [Matrix(RR,[[.4,.5-eps,.1,eps],[.1,.5,.4-10*eps,10*eps],[.3,.5,.2-10*eps,10*eps],[0,0,0,1]]), Matrix(RR,[[.4,.4,.2-eps/10,eps/10],[.4-18*eps,.4,.2,18*eps],[.3,.3,.4-eps,eps],[0,0,0,1]])];\n",
    "checkmatrices(P4_2)\n",
    "\n",
    "problist = list_probs(P4_2,14);\n",
    "high = highest_prob(problist);\n",
    "print [h[0] for h in high],RR(high[0][1]);"
   ]
  },
  {
   "cell_type": "code",
   "execution_count": 28,
   "metadata": {},
   "outputs": [
    {
     "data": {
      "text/plain": []
     },
     "execution_count": 28,
     "metadata": {},
     "output_type": "execute_result"
    }
   ],
   "source": []
  },
  {
   "cell_type": "code",
   "execution_count": 13,
   "metadata": {},
   "outputs": [
    {
     "data": {
      "text/plain": [
       "[p11 p12 p13 p14]\n",
       "[p21 p22 p23 p24]\n",
       "[p31 p32 p33 p34]\n",
       "[  0   0   0   0]\n",
       "\n",
       "[q11 q12 q13 q14]\n",
       "[q21 q22 q23 q24]\n",
       "[q31 q32 q33 q34]\n",
       "[  0   0   0   0]"
      ]
     },
     "execution_count": 13,
     "metadata": {},
     "output_type": "execute_result"
    }
   ],
   "source": [
    "#R4 = PolynomialRing(QQ,32,'x');\n",
    "R4 = PolynomialRing(QQ,names=('p11','p12','p13','p14','p21','p22','p23','p24','p31','p32','p33','p34','x0','x1','x2','x3','q11','q12','q13','q14','q21','q22','q23','q24','q31','q32','q33','q34','y0','y1','y2','y3'));\n",
    "Q0 = matrix(R4,4,4,R4.gens()[0:16]);\n",
    "Q0[3] = [0,0,0,0];\n",
    "Q1 = matrix(R4,4,4,R4.gens()[16:32]);\n",
    "Q1[3] = [0,0,0,0];\n",
    "print Q0\n",
    "print \"\"\n",
    "print Q1\n",
    "v1 = matrix(identity_matrix(4)[0]);"
   ]
  },
  {
   "cell_type": "code",
   "execution_count": 17,
   "metadata": {},
   "outputs": [
    {
     "data": {
      "text/plain": [
       "p11^2*p14 + p12*p14*p21 + p11*p12*p24 + p12*p22*p24 + p13*p14*p31 + p13*p24*p32 + p11*p13*p34 + p12*p23*p34 + p13*p33*p34\n",
       "\n",
       "p11^2*q14 + p12*p21*q14 + p13*p31*q14 + p11*p12*q24 + p12*p22*q24 + p13*p32*q24 + p11*p13*q34 + p12*p23*q34 + p13*p33*q34\n",
       "\n",
       "p11*p14*q11 + p11*p24*q12 + p11*p34*q13 + p12*p14*q21 + p12*p24*q22 + p12*p34*q23 + p13*p14*q31 + p13*p24*q32 + p13*p34*q33\n",
       "\n",
       "p11*p14*q11 + p12*p24*q11 + p13*p34*q11 + p14*p21*q12 + p22*p24*q12 + p23*p34*q12 + p14*p31*q13 + p24*p32*q13 + p33*p34*q13"
      ]
     },
     "execution_count": 17,
     "metadata": {},
     "output_type": "execute_result"
    }
   ],
   "source": [
    "print accprob([Q0,Q1],\"000\")\n",
    "print \"\"\n",
    "print accprob([Q0,Q1],\"001\")\n",
    "print \"\"\n",
    "print accprob([Q0,Q1],\"010\")\n",
    "print \"\"\n",
    "print accprob([Q0,Q1],\"100\")"
   ]
  },
  {
   "cell_type": "code",
   "execution_count": 22,
   "metadata": {},
   "outputs": [
    {
     "data": {
      "text/plain": [
       "epsilon = 0.2\n",
       "(0, 1, 1, 0, 1, 1, 0, 1, 1, 0, 1) 0.989972992000000\n",
       "\n",
       "epsilon = 0.201\n",
       "(0, 1, 1, 0, 1, 1, 0, 1, 1, 0, 1) 0.989922421882324\n",
       "\n",
       "epsilon = 0.202\n",
       "(0, 1, 1, 0, 1, 1, 0, 1, 1, 0, 1) 0.989872621223647\n",
       "\n",
       "epsilon = 0.203\n",
       "(0, 1, 1, 0, 1, 1, 0, 1, 1, 0, 1) 0.989823591635066\n",
       "\n",
       "epsilon = 0.20400000000000001\n",
       "(0, 1, 1, 1, 0, 1, 1, 1, 0, 1, 1) 0.989799649179576\n",
       "\n",
       "epsilon = 0.20500000000000002\n",
       "(0, 1, 1, 1, 0, 1, 1, 1, 0, 1, 1) 0.989780425759660\n",
       "\n",
       "epsilon = 0.20600000000000002\n",
       "(0, 1, 1, 1, 0, 1, 1, 1, 0, 1, 1) 0.989761655934650\n",
       "\n",
       "epsilon = 0.20700000000000002\n",
       "(0, 1, 1, 1, 0, 1, 1, 1, 0, 1, 1) 0.989743331487207\n",
       "\n",
       "epsilon = 0.20800000000000002\n",
       "(0, 1, 1, 1, 0, 1, 1, 1, 0, 1, 1) 0.989725444161607\n",
       "\n",
       "epsilon = 0.20900000000000002\n",
       "(0, 1, 1, 1, 0, 1, 1, 1, 0, 1, 1) 0.989707985667425\n",
       "\n",
       "epsilon = 0.21000000000000002\n",
       "(0, 1, 1, 1, 0, 1, 1, 1, 0, 1, 1) 0.989690947683156\n",
       "\n",
       "epsilon = 0.21100000000000002\n",
       "(0, 1, 1, 1, 0, 1, 1, 1, 0, 1, 1) 0.989674321859769\n",
       "\n",
       "epsilon = 0.21200000000000002\n",
       "(0, 1, 1, 1, 0, 1, 1, 1, 0, 1, 1) 0.989658099824199\n",
       "\n",
       "epsilon = 0.21300000000000002\n",
       "(0, 1, 1, 1, 0, 1, 1, 1, 0, 1, 1) 0.989642273182774\n",
       "\n",
       "epsilon = 0.21400000000000002\n",
       "(0, 1, 1, 1, 0, 1, 1, 1, 0, 1, 1) 0.989626833524576\n",
       "\n",
       "epsilon = 0.21500000000000002\n",
       "(0, 1, 1, 1, 0, 1, 1, 1, 0, 1, 1) 0.989611772424738\n",
       "\n",
       "epsilon = 0.21600000000000003\n",
       "(0, 1, 1, 1, 0, 1, 1, 1, 0, 1, 1) 0.989597081447682\n",
       "\n",
       "epsilon = 0.21700000000000003\n",
       "(0, 1, 1, 1, 0, 1, 1, 1, 0, 1, 1) 0.989582752150281\n",
       "\n",
       "epsilon = 0.21800000000000003\n",
       "(0, 1, 1, 1, 0, 1, 1, 1, 0, 1, 1) 0.989568776084968\n",
       "\n",
       "epsilon = 0.21900000000000003\n",
       "(0, 1, 1, 1, 0, 1, 1, 1, 0, 1, 1) 0.989555144802775\n",
       "\n",
       "epsilon = 0.22000000000000003\n",
       "(0, 1, 1, 1, 1, 1, 0, 1, 1, 1, 1) 0.989550367342253\n",
       "\n",
       "epsilon = 0.22100000000000003\n",
       "(0, 1, 1, 1, 1, 1, 0, 1, 1, 1, 1) 0.989569863784779\n",
       "\n",
       "epsilon = 0.22200000000000003\n",
       "(0, 1, 1, 1, 1, 1, 0, 1, 1, 1, 1) 0.989588960520334\n",
       "\n",
       "epsilon = 0.22300000000000003\n",
       "(0, 1, 1, 1, 1, 1, 1, 1, 1, 1, 1) 0.989635453952106\n",
       "\n",
       "epsilon = 0.22400000000000003\n",
       "(0, 1, 1, 1, 1, 1, 1, 1, 1, 1, 1) 0.989686146241102\n",
       "\n",
       "epsilon = 0.22500000000000003\n",
       "(0, 1, 1, 1, 1, 1, 1, 1, 1, 1, 1) 0.989735482733432\n",
       "\n",
       "epsilon = 0.22600000000000003\n",
       "(0, 1, 1, 1, 1, 1, 1, 1, 1, 1, 1) 0.989783474634698\n",
       "\n",
       "epsilon = 0.22700000000000004\n",
       "(0, 1, 1, 1, 1, 1, 1, 1, 1, 1, 1) 0.989830132978895\n",
       "\n",
       "epsilon = 0.22800000000000004\n",
       "(0, 1, 1, 1, 1, 1, 1, 1, 1, 1, 1) 0.989875468626518\n",
       "\n",
       "epsilon = 0.22900000000000004\n",
       "(0, 1, 1, 1, 1, 1, 1, 1, 1, 1, 1) 0.989919492262799"
      ]
     },
     "execution_count": 22,
     "metadata": {},
     "output_type": "execute_result"
    }
   ],
   "source": [
    "import numpy\n",
    "for eps in numpy.arange(.2,.23,.001):\n",
    "    #eps = eps + .01;\n",
    "    P5 = [Matrix(QQ,[[eps,1-2*eps,eps],[1-2*eps,eps,eps],[0,0,1]]), Matrix(QQ,[[1-2*eps,eps,eps],[eps,eps,1-2*eps],[0,0,1]])];\n",
    "    problist = list_probs(P5,12);\n",
    "    high = highest_prob(problist);\n",
    "    print \"epsilon =\",eps;\n",
    "    print high[0][0],RR(high[0][1]);\n",
    "    print \"\";"
   ]
  },
  {
   "cell_type": "code",
   "execution_count": 23,
   "metadata": {},
   "outputs": [
    {
     "data": {
      "text/plain": [
       "epsilon = 0.20314000000000000000000000000\n",
       "[(0, 1, 1, 0, 1, 1, 0, 1, 1, 0, 1)] 0.98981678910332015836880088179\n",
       "\n",
       "epsilon = 0.20314100000000000000000000000\n",
       "[(0, 1, 1, 0, 1, 1, 0, 1, 1, 0, 1)] 0.98981674056827152173756178978\n",
       "\n",
       "epsilon = 0.20314200000000000000000000000\n",
       "[(0, 1, 1, 0, 1, 1, 0, 1, 1, 0, 1)] 0.98981669203399547692514562696\n",
       "\n",
       "epsilon = 0.20314300000000000000000000000\n",
       "[(0, 1, 1, 0, 1, 1, 0, 1, 1, 0, 1)] 0.98981664350049202508757445140\n",
       "\n",
       "epsilon = 0.20314400000000000000000000000\n",
       "[(0, 1, 1, 0, 1, 1, 0, 1, 1, 0, 1)] 0.98981659496776116738059601186\n",
       "\n",
       "epsilon = 0.20314500000000000000000000000\n",
       "[(0, 1, 1, 0, 1, 1, 0, 1, 1, 0, 1)] 0.98981654643580290495968375108\n",
       "\n",
       "epsilon = 0.20314600000000000000000000000\n",
       "[(0, 1, 1, 0, 1, 1, 0, 1, 1, 0, 1)] 0.98981649790461723898003680909\n",
       "\n",
       "epsilon = 0.20314700000000000000000000000\n",
       "[(0, 1, 1, 0, 1, 1, 0, 1, 1, 0, 1)] 0.98981644937420417059658002652\n",
       "\n",
       "epsilon = 0.20314800000000000000000000000\n",
       "[(0, 1, 1, 0, 1, 1, 0, 1, 1, 0, 1)] 0.98981640084456370096396394796\n",
       "\n",
       "epsilon = 0.20314900000000000000000000000\n",
       "[(0, 1, 1, 1, 0, 1, 1, 1, 0, 1, 1)] 0.98981637168176056313443598729\n",
       "bifurcation!\n",
       "\n",
       "epsilon = 0.20314810000000000000000000000\n",
       "[(0, 1, 1, 0, 1, 1, 0, 1, 1, 0, 1)] 0.98981639599164214697644444056\n",
       "\n",
       "epsilon = 0.20314820000000000000000000000\n",
       "[(0, 1, 1, 0, 1, 1, 0, 1, 1, 0, 1)] 0.98981639113872831898913155440\n",
       "\n",
       "epsilon = 0.20314830000000000000000000000\n",
       "[(0, 1, 1, 0, 1, 1, 0, 1, 1, 0, 1)] 0.98981638628582221700317948744\n",
       "\n",
       "epsilon = 0.20314840000000000000000000000\n",
       "[(0, 1, 1, 1, 0, 1, 1, 1, 0, 1, 1)] 0.98981638359116287190044292997\n",
       "bifurcation!"
      ]
     },
     "execution_count": 23,
     "metadata": {},
     "output_type": "execute_result"
    }
   ],
   "source": [
    "RRR = RealField(100);\n",
    "\n",
    "lasthigh = [];\n",
    "eps = RRR(.20314);\n",
    "maxprec = 8;\n",
    "incr = RRR(.000001);\n",
    "    \n",
    "while eps<.20315 and incr > (.1)^maxprec:\n",
    "    P5 = [Matrix(RRR,[[eps,1-2*eps,eps],[1-2*eps,eps,eps],[0,0,1]]), Matrix(RRR,[[1-2*eps,eps,eps],[eps,eps,1-2*eps],[0,0,1]])];\n",
    "    problist = list_probs(P5,12);\n",
    "    high = highest_prob(problist);\n",
    "    print \"epsilon =\",eps;\n",
    "    print [h[0] for h in high],RRR(high[0][1]);\n",
    "    if high[0][0] != lasthigh and lasthigh != []:\n",
    "        print \"bifurcation!\";\n",
    "        eps = RRR(eps - incr);\n",
    "        incr = RRR(.1)*incr;\n",
    "    else:\n",
    "        lasthigh = high[0][0];\n",
    "    eps = RRR(eps + incr);\n",
    "    print \"\";"
   ]
  },
  {
   "cell_type": "code",
   "execution_count": 29,
   "metadata": {},
   "outputs": [
    {
     "data": {
      "text/plain": []
     },
     "execution_count": 29,
     "metadata": {},
     "output_type": "execute_result"
    }
   ],
   "source": []
  },
  {
   "cell_type": "code",
   "execution_count": 24,
   "metadata": {},
   "outputs": [
    {
     "data": {
      "text/plain": [
       "[(1, 0, 1, 0, 0, 0, 0, 0, 0, 0, 0, 0)] 0.91456563663607501448459141720"
      ]
     },
     "execution_count": 24,
     "metadata": {},
     "output_type": "execute_result"
    }
   ],
   "source": [
    "eps = RRR(.13889555475533735);\n",
    "P6 = [Matrix(RRR,[[eps/2,1-eps,eps/2],[1-3*eps,eps,2*eps],[0,0,1]]), Matrix(RRR,[[eps,1-2*eps,eps],[(1-eps)/2,(1-eps)/2,eps],[0,0,1]])];\n",
    "checkmatrices(P6);\n",
    "problist = list_probs(P6,13);\n",
    "high = highest_prob(problist);\n",
    "#print \"epsilon =\",eps;\n",
    "print [h[0] for h in high],RRR(high[0][1]);"
   ]
  },
  {
   "cell_type": "code",
   "execution_count": 25,
   "metadata": {},
   "outputs": [
    {
     "data": {
      "text/plain": [
       "[(1, 1, 1, 1, 1, 1)] 0.99999900000000000000000000000"
      ]
     },
     "execution_count": 25,
     "metadata": {},
     "output_type": "execute_result"
    }
   ],
   "source": [
    "eps = RRR(.1);\n",
    "P7 = [Matrix(RRR,[[(1-eps)/2,(1+eps)/2],[0,1]]), Matrix(RRR,[[eps,1-eps],[0,1]])];\n",
    "checkmatrices(P7);\n",
    "problist = list_probs(P7,7);\n",
    "high = highest_prob(problist);\n",
    "#print \"epsilon =\",eps;\n",
    "print [h[0] for h in high],RRR(high[0][1]);"
   ]
  },
  {
   "cell_type": "code",
   "execution_count": 26,
   "metadata": {},
   "outputs": [
    {
     "data": {
      "text/plain": [
       "00000: 0.049009950100000000000000000000 = 0.049009950100000000000000000000\n",
       "\n",
       "10101: 0.95569050410000000000000000000 = 0.95569050410000000000000000000\n",
       "\n",
       "01101: 0.66536756210000000000000000000 = 0.66536756210000000000000000000\n",
       "[(1, 0, 1, 0, 1)] 0.95569050410000000000000000000"
      ]
     },
     "execution_count": 26,
     "metadata": {},
     "output_type": "execute_result"
    }
   ],
   "source": [
    "eps = RRR(.01);\n",
    "#eps = var('eps');\n",
    "#P8 = [Matrix([[eps,1-2*eps,eps],[1-2*eps,eps,eps],[0,0,1]]), Matrix([[eps,(2/3)*(1-eps),(1/3)*(1-eps)],[eps,1-2*eps,eps],[0,0,1]])];\n",
    "#P8 = [Matrix([[eps,(2/3)*(1-eps),(1/3)*(1-eps)],[1-2*eps,eps,eps],[0,0,1]]), Matrix([[eps,1-2*eps,eps],[eps,1-2*eps,eps],[0,0,1]])];\n",
    "P8 = [Matrix([[eps,1-2*eps,eps],[1-2*eps,eps,eps],[0,0,1]]), Matrix([[eps,(1/3)*(1-eps),(2/3)*(1-eps)],[eps,1-2*eps,eps],[0,0,1]])];\n",
    "\n",
    "checkmatrices(P8);\n",
    "problist = list_probs(P8,6);\n",
    "ap0=expand(accprob(P8,\"00000\"));\n",
    "ap1= expand(accprob(P8,\"10101\"));\n",
    "ap2= expand(accprob(P8,\"01101\"));\n",
    "print \"00000:\",ap0,\"=\",accprob(P8,\"00000\");\n",
    "print \"\";\n",
    "print \"10101:\",ap1,\"=\",accprob(P8,\"10101\");\n",
    "print \"\";\n",
    "print \"01101:\",ap2,\"=\",accprob(P8,\"01101\");\n",
    "high = highest_prob(problist);\n",
    "print [h[0] for h in high],RRR(high[0][1]);\n",
    "#print \"00000:\",expand(accprob(P8,\"00000\"));\n",
    "#print \"10101:\",expand(accprob(P8,\"10101\"));\n",
    "#print \"01101:\",expand(accprob(P8,\"01101\"));"
   ]
  },
  {
   "cell_type": "code",
   "execution_count": 30,
   "metadata": {},
   "outputs": [
    {
     "data": {
      "text/plain": [
       "0.60876298560000000000000000000"
      ]
     },
     "execution_count": 30,
     "metadata": {},
     "output_type": "execute_result"
    }
   ],
   "source": [
    "expand((1-2*eps)^4*2*(1-eps)/3)"
   ]
  },
  {
   "cell_type": "code",
   "execution_count": 31,
   "metadata": {},
   "outputs": [
    {
     "data": {
      "text/plain": [
       "[1 1 0 0]\n",
       "[0 1 1 0]\n",
       "[1 0 0 1]\n",
       "[0 0 0 0]"
      ]
     },
     "execution_count": 31,
     "metadata": {},
     "output_type": "execute_result"
    }
   ],
   "source": [
    "#test Sage DFAs\n",
    "A = Automaton([(0,1,0),(0,0,1),(1,2,0),(1,1,1),(2,0,0),(2,3,1)],initial_states=[0],final_states=[3]);\n",
    "A.adjacency_matrix()"
   ]
  },
  {
   "cell_type": "code",
   "execution_count": 32,
   "metadata": {},
   "outputs": [
    {
     "data": {
      "text/plain": [
       "[[1], [0, 0, 1], [0, 1, 0, 1], [0, 0, 0, 0, 1], [0, 1, 1, 0, 1]]"
      ]
     },
     "execution_count": 32,
     "metadata": {},
     "output_type": "execute_result"
    }
   ],
   "source": [
    "B = Automaton([(1,2,0),(1,3,1),(2,1,0),(2,2,1)],initial_states=[1],final_states=[3]);\n",
    "list(B.language(5))"
   ]
  },
  {
   "cell_type": "code",
   "execution_count": 34,
   "metadata": {},
   "outputs": [
    {
     "data": {
      "text/plain": [
       "[[0, 1, 1, 0, 1, 1]]"
      ]
     },
     "execution_count": 34,
     "metadata": {},
     "output_type": "execute_result"
    }
   ],
   "source": [
    "C = automata.Word([0,1,1,0,1,1]);\n",
    "list(C.language(6))"
   ]
  },
  {
   "cell_type": "code",
   "execution_count": 36,
   "metadata": {},
   "outputs": [
    {
     "data": {
      "text/plain": [
       "[0 1 0 0 0 0 0]\n",
       "[0 0 1 0 0 0 0]\n",
       "[0 0 0 1 0 0 0]\n",
       "[0 0 0 0 1 0 0]\n",
       "[0 0 0 0 0 1 0]\n",
       "[0 0 0 0 0 0 1]\n",
       "[0 0 0 0 0 0 0]"
      ]
     },
     "execution_count": 36,
     "metadata": {},
     "output_type": "execute_result"
    }
   ],
   "source": [
    "C.adjacency_matrix()"
   ]
  },
  {
   "cell_type": "code",
   "execution_count": 38,
   "metadata": {},
   "outputs": [
    {
     "data": {
      "text/plain": [
       "[[0, 1, 1, 0, 1],\n",
       " [0, 0, 1, 1, 0, 1],\n",
       " [0, 1, 1, 0, 1, 0],\n",
       " [0, 1, 1, 0, 1, 1],\n",
       " [1, 0, 1, 1, 0, 1],\n",
       " [0, 0, 0, 1, 1, 0, 1],\n",
       " [0, 0, 1, 1, 0, 1, 0],\n",
       " [0, 0, 1, 1, 0, 1, 1],\n",
       " [0, 1, 0, 1, 1, 0, 1],\n",
       " [0, 1, 1, 0, 1, 0, 0],\n",
       " [0, 1, 1, 0, 1, 0, 1],\n",
       " [0, 1, 1, 0, 1, 1, 0],\n",
       " [0, 1, 1, 0, 1, 1, 1],\n",
       " [1, 0, 0, 1, 1, 0, 1],\n",
       " [1, 0, 1, 1, 0, 1, 0],\n",
       " [1, 0, 1, 1, 0, 1, 1],\n",
       " [1, 1, 0, 1, 1, 0, 1]]"
      ]
     },
     "execution_count": 38,
     "metadata": {},
     "output_type": "execute_result"
    }
   ],
   "source": [
    "D = automata.ContainsWord([0,1,1,0,1],input_alphabet=[0,1]);\n",
    "list(D.language(7))"
   ]
  },
  {
   "cell_type": "code",
   "execution_count": 37,
   "metadata": {},
   "outputs": [
    {
     "data": {
      "text/plain": []
     },
     "execution_count": 37,
     "metadata": {},
     "output_type": "execute_result"
    }
   ],
   "source": []
  }
 ],
 "metadata": {
  "kernelspec": {
   "display_name": "SageMath",
   "name": "sagemath"
  },
  "language": "python"
 },
 "nbformat": 4,
 "nbformat_minor": 2
}
