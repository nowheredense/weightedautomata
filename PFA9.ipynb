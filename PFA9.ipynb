{
 "cells": [
  {
   "cell_type": "code",
   "execution_count": 46,
   "metadata": {
    "tags": []
   },
   "outputs": [],
   "source": [
    "%run -i PFAcode.ipynb"
   ]
  },
  {
   "cell_type": "code",
   "execution_count": 73,
   "metadata": {},
   "outputs": [],
   "source": [
    "#always start by running the above cell. Nothing else in this notebook is necessary; feel free to treat it as\n",
    "#usage examples. Let me know if I can clarify anything. (Functions in PFAcode file are commented too.)"
   ]
  },
  {
   "cell_type": "code",
   "execution_count": 5,
   "metadata": {},
   "outputs": [],
   "source": [
    "#STATS (binary strings only)\n",
    "print(len(SC))\n",
    "for l in range(3,11):\n",
    "    if l<9:\n",
    "        top=4;\n",
    "    else:\n",
    "        top=5;\n",
    "    for c in range(1,top):\n",
    "        print(\"len \"+str(l)+\" complexity \"+str(c)+\": \"+str(lookup(SC,c,l).cardinality())+\" (NFA: \"+str(lookup(NC,c,l).cardinality())+\")\")\n",
    "    nu = lookup(SC,100,l,less=True).cardinality();\n",
    "    if nu < 2^l:\n",
    "        print(\"total classified \"+str(nu)+\"/\"+str(2^l));\n",
    "    witsum = sum([len(SW[k]) for k in SW.keys() if len(k)==l]);\n",
    "    print(\"total witnesses \"+str(witsum));\n",
    "    print(\"\");\n",
    "print(\"# strings of each length with PFA=NFA complexity:\");\n",
    "for l in range(3,11):\n",
    "    print(str(l)+\": \"+str(len([k for k in SC.keys() if len(k) == l and SC[k] == NC[k]])))\n",
    "print(\"# strings of each length with PFA=NFA complexity + 1:\")\n",
    "for l in range(3,11):\n",
    "    print(str(l)+\": \"+str(len([k for k in SC.keys() if len(k) == l and SC[k] == NC[k] + 1])))"
   ]
  },
  {
   "cell_type": "code",
   "execution_count": null,
   "metadata": {},
   "outputs": [],
   "source": [
    "test2x2 = bruteforce(2,2);\n",
    "test2x3 = bruteforce(2,3);\n",
    "test2x4 = bruteforce(2,4);\n",
    "test2x5 = bruteforce(2,5);\n",
    "test2x6 = bruteforce(2,6);\n",
    "test2x7 = bruteforce(2,7);\n",
    "test2x8 = bruteforce(2,8);\n",
    "test3x2 = bruteforce(3,2);\n",
    "half3x3 = bruteforce(3,3,permute=False);"
   ]
  },
  {
   "cell_type": "code",
   "execution_count": 33,
   "metadata": {},
   "outputs": [],
   "source": [
    "three2x2 = bruteforce(2,2,range(3));\n",
    "three2x3 = bruteforce(2,3,range(3));\n",
    "three2x4 = bruteforce(2,4,range(3));\n",
    "three2x5 = bruteforce(2,5,range(3));\n",
    "three2x6 = bruteforce(2,6,range(3));\n",
    "three2x8 = bruteforce(2,8,range(3));"
   ]
  },
  {
   "cell_type": "code",
   "execution_count": 6,
   "metadata": {},
   "outputs": [],
   "source": [
    "somevecs = [ [1,0,0],[0,1,0],[0,0,1],[1/4,1/4,1/2],\n",
    "           [1/4,1/2,1/4],[1/2,1/4,1/4]];\n",
    "some3x4 = bruteforcevecs(maketuple(somevecs),permute=True);\n",
    "\n",
    "somevecs2 = [ [1,0,0],[0,1,0],[0,0,1], [1/4,0,3/4],\n",
    "             [1/4,3/4,0], [3/4,0,1/4], [3/4,1/4,0],\n",
    "             [0,1/4,3/4], [0,3/4,1/4]];\n",
    "some3x4_2 = bruteforcevecs(maketuple(somevecs2),permute=False);"
   ]
  },
  {
   "cell_type": "code",
   "execution_count": 7,
   "metadata": {},
   "outputs": [
    {
     "name": "stdout",
     "output_type": "stream",
     "text": [
      "46656\n",
      "499500\n",
      "46656\n",
      "265356\n"
     ]
    }
   ],
   "source": [
    "print(len(test3x2))\n",
    "print(len(half3x3))\n",
    "print(len(some3x4))\n",
    "print(len(some3x4_2))"
   ]
  },
  {
   "cell_type": "code",
   "execution_count": 9,
   "metadata": {},
   "outputs": [
    {
     "name": "stdout",
     "output_type": "stream",
     "text": [
      "4659\n",
      "21202\n"
     ]
    }
   ],
   "source": [
    "pool2_1 = test2x2+test2x3+test2x4+test2x5+test2x6\n",
    "print(len(pool2_1))\n",
    "pool2_2 = test2x8+bruteforce(2,10)\n",
    "print(len(pool2_2))"
   ]
  },
  {
   "cell_type": "code",
   "execution_count": null,
   "metadata": {},
   "outputs": [],
   "source": [
    "tryfindwitness(rand12,pool3_1,[1,0,0],[0,0,1],maxattempts=10)"
   ]
  },
  {
   "cell_type": "code",
   "execution_count": null,
   "metadata": {},
   "outputs": [],
   "source": [
    "tryfindwitness(rand12,pool3_1,[1,0,0],[1,0,0],maxattempts=10)"
   ]
  },
  {
   "cell_type": "code",
   "execution_count": 53,
   "metadata": {},
   "outputs": [],
   "source": [
    "savewits()"
   ]
  },
  {
   "cell_type": "code",
   "execution_count": null,
   "metadata": {},
   "outputs": [],
   "source": [
    "#fully distinct strings of length 5 with A_P=3:\n",
    "rand5 = [k for k in S2[5] if k[0]==0 and SC[k]==3]; rand5"
   ]
  },
  {
   "cell_type": "code",
   "execution_count": 45,
   "metadata": {},
   "outputs": [
    {
     "name": "stdout",
     "output_type": "stream",
     "text": [
      "456976\n"
     ]
    }
   ],
   "source": [
    "test2x25 = bruteforce(2,25);\n",
    "print(len(test2x25))"
   ]
  },
  {
   "cell_type": "code",
   "execution_count": 49,
   "metadata": {},
   "outputs": [],
   "source": [
    "uniq2x20 = finduniques(test2x20,strlen=5,start_states=[1,0],accept_states=[0,1]);"
   ]
  },
  {
   "cell_type": "code",
   "execution_count": 2,
   "metadata": {},
   "outputs": [
    {
     "name": "stdout",
     "output_type": "stream",
     "text": [
      "3111696\n"
     ]
    }
   ],
   "source": [
    "theprobs = [0]+[1/d for d in range(21,41)]\n",
    "pool3 = bruteforceprobs(2,theprobs)\n",
    "print(len(pool3))"
   ]
  },
  {
   "cell_type": "code",
   "execution_count": 3,
   "metadata": {},
   "outputs": [
    {
     "name": "stdout",
     "output_type": "stream",
     "text": [
      "1632544\n"
     ]
    }
   ],
   "source": [
    "#%%capture output\n",
    "pool = []\n",
    "for d in range(21,26):\n",
    "    pool = pool + bruteforce(2,d,maxdenom=True);\n",
    "print(len(pool))"
   ]
  },
  {
   "cell_type": "code",
   "execution_count": 38,
   "metadata": {},
   "outputs": [
    {
     "name": "stdout",
     "output_type": "stream",
     "text": [
      "756398\n"
     ]
    }
   ],
   "source": [
    "uniq1 = finduniques(pool1,5,[1,0],[1,0])\n",
    "print(len(uniq1))"
   ]
  },
  {
   "cell_type": "code",
   "execution_count": 44,
   "metadata": {},
   "outputs": [],
   "source": [
    "for u in uniq1:\n",
    "    if u[1][0] in compl3: #u[1][0] is the unique highest-prob string here\n",
    "        print(u,'\\n')"
   ]
  },
  {
   "cell_type": "code",
   "execution_count": 6,
   "metadata": {},
   "outputs": [
    {
     "name": "stdout",
     "output_type": "stream",
     "text": [
      "762290\n"
     ]
    }
   ],
   "source": [
    "uniq2 = finduniques(pool1,4,[1,0],[1,0])\n",
    "print(len(uniq2))\n",
    "for u in uniq2:\n",
    "    if u[1][0] in compl3:\n",
    "        print(u,'\\n')"
   ]
  },
  {
   "cell_type": "code",
   "execution_count": 7,
   "metadata": {},
   "outputs": [],
   "source": [
    "#so: up through denominator 20, no witnesses for strings of length 4 or 5\n",
    "#currently thought to have complexity 3.\n",
    "#0100 is the smallest string that seems to have complexity 3.\n",
    "#note that 0010 has complexity 2!"
   ]
  },
  {
   "cell_type": "code",
   "execution_count": null,
   "metadata": {},
   "outputs": [],
   "source": [
    "%%capture output\n",
    "uniq3 = finduniques(pool,5,[1,0],[1,0])\n",
    "print(len(uniq3))\n",
    "for u in uniq3:\n",
    "    if SC[u[1][0]] == 3:\n",
    "        print(u,'\\n')"
   ]
  },
  {
   "cell_type": "code",
   "execution_count": null,
   "metadata": {},
   "outputs": [],
   "source": [
    "%%capture output\n",
    "uniq4 = finduniques(pool3,[4,5],[1,0],[1,0])\n",
    "print(len(uniq4))\n",
    "for u in uniq4:\n",
    "    if SC[u[1][0]] == 3:\n",
    "        print(u,'\\n')"
   ]
  },
  {
   "cell_type": "code",
   "execution_count": 20,
   "metadata": {},
   "outputs": [
    {
     "data": {
      "text/plain": [
       "[(\n",
       "{'0': [1/4 3/4]                      \n",
       "[  1   0], '1': [3/4 1/4]         [0]\n",
       "[1/2 1/2]}               , [1 0], [1]\n",
       "),\n",
       " (\n",
       "{'0': [  0   1]                      \n",
       "[3/4 1/4], '1': [3/4 1/4]         [0]\n",
       "[1/4 3/4]}               , [1 0], [1]\n",
       ")]"
      ]
     },
     "execution_count": 20,
     "metadata": {},
     "output_type": "execute_result"
    }
   ],
   "source": [
    "SW[\"000010\"]"
   ]
  },
  {
   "cell_type": "code",
   "execution_count": 17,
   "metadata": {},
   "outputs": [
    {
     "data": {
      "text/plain": [
       "[(\n",
       "{'0': [2/5 3/5]                      \n",
       "[4/5 1/5], '1': [1/5 4/5]         [1]\n",
       "[  1   0]}               , [1 0], [0]\n",
       ")]"
      ]
     },
     "execution_count": 17,
     "metadata": {},
     "output_type": "execute_result"
    }
   ],
   "source": [
    "SW[\"00010\"]"
   ]
  },
  {
   "cell_type": "code",
   "execution_count": 16,
   "metadata": {},
   "outputs": [
    {
     "name": "stdout",
     "output_type": "stream",
     "text": [
      "000 39/64\n",
      "0010 135/256\n",
      "00000 543/1024\n",
      "000010 2079/4096\n",
      "0000110 8223/16384\n",
      "00001110 32799/65536\n",
      "000011110 131103/262144\n",
      "0000111110 524319/1048576\n",
      "00001111110 2097183/4194304\n",
      "000011111110 8388639/16777216\n",
      "0000111111110 33554463/67108864\n",
      "00001111111110 134217759/268435456\n",
      "000011111111110 536870943/1073741824\n"
     ]
    }
   ],
   "source": [
    "twit = SW[\"000010\"][0]\n",
    "twitlist = list_probs_witness(twit,range(3,16))\n",
    "thing = [print(*s) for s in highest_prob(twitlist,lengths=\"all\")]"
   ]
  },
  {
   "cell_type": "code",
   "execution_count": 19,
   "metadata": {},
   "outputs": [
    {
     "name": "stdout",
     "output_type": "stream",
     "text": [
      "000 68/125\n",
      "1111 461/625\n",
      "00010 1794/3125\n",
      "111111 10501/15625\n",
      "0001010 45602/78125\n",
      "11111111 246141/390625\n",
      "000101010 1146066/1953125\n",
      "1111111111 5891381/9765625\n",
      "00010101010 28699778/48828125\n",
      "111111111110 144787298/244140625\n",
      "0001010101010 717879474/1220703125\n",
      "11111111111010 3599704634/6103515625\n",
      "000101010101010 17950067042/30517578125\n",
      "1111111111101010 89832793322/152587890625\n",
      "00010101010101010 448776317586/762939453125\n",
      "111111111110101010 2244541252826/3814697265625\n",
      "0001010101010101010 11219605071938/19073486328125\n",
      "11111111111010101010 56103302678858/95367431640625\n"
     ]
    }
   ],
   "source": [
    "twit2 = SW[\"00010\"][0]\n",
    "twitlist2 = list_probs_witness(twit2,range(3,21))\n",
    "thing = [print(*s) for s in highest_prob(twitlist2,lengths=\"all\")]"
   ]
  },
  {
   "cell_type": "code",
   "execution_count": 6,
   "metadata": {},
   "outputs": [],
   "source": [
    "ftwit=[4/5-2/5*x,1-4/5*x]"
   ]
  },
  {
   "cell_type": "code",
   "execution_count": 12,
   "metadata": {},
   "outputs": [
    {
     "name": "stdout",
     "output_type": "stream",
     "text": [
      "11101 -512/3125*x + 393/625 0.628800000000000 0.464960000000000\n",
      "00100 -64/3125*x + 1808/3125 0.578560000000000 0.558080000000000\n",
      "01100 -128/3125*x + 1856/3125 0.593920000000000 0.552960000000000\n",
      "01111 -512/3125*x + 2049/3125 0.655680000000000 0.491840000000000\n",
      "10010 -128/3125*x + 378/625 0.604800000000000 0.563840000000000\n",
      "00000 -32/3125*x + 1804/3125 0.577280000000000 0.567040000000000\n",
      "10011 -256/3125*x + 381/625 0.609600000000000 0.527680000000000\n",
      "10001 -128/3125*x + 353/625 0.564800000000000 0.523840000000000\n",
      "10110 -256/3125*x + 386/625 0.617600000000000 0.535680000000000\n",
      "11000 -128/3125*x + 372/625 0.595200000000000 0.554240000000000\n",
      "01000 -64/3125*x + 1828/3125 0.584960000000000 0.564480000000000\n",
      "00010 -64/3125*x + 1858/3125 0.594560000000000 0.574080000000000\n",
      "00110 -128/3125*x + 1866/3125 0.597120000000000 0.556160000000000\n",
      "11001 -256/3125*x + 369/625 0.590400000000000 0.508480000000000\n",
      "11011 -512/3125*x + 413/625 0.660800000000000 0.496960000000000\n",
      "01110 -256/3125*x + 1962/3125 0.627840000000000 0.545920000000000\n",
      "10111 -512/3125*x + 397/625 0.635200000000000 0.471360000000000\n",
      "11110 -512/3125*x + 418/625 0.668800000000000 0.504960000000000\n",
      "00001 -64/3125*x + 1733/3125 0.554560000000000 0.534080000000000\n",
      "10000 -64/3125*x + 364/625 0.582400000000000 0.561920000000000\n",
      "01011 -256/3125*x + 1937/3125 0.619840000000000 0.537920000000000\n",
      "00101 -128/3125*x + 1741/3125 0.557120000000000 0.516160000000000\n",
      "00011 -128/3125*x + 1841/3125 0.589120000000000 0.548160000000000\n",
      "10101 -256/3125*x + 361/625 0.577600000000000 0.495680000000000\n",
      "11010 -256/3125*x + 394/625 0.630400000000000 0.548480000000000\n",
      "11111 -1024/3125*x + 461/625 0.737600000000000 0.409920000000000\n",
      "10100 -128/3125*x + 368/625 0.588800000000000 0.547840000000000\n",
      "01001 -128/3125*x + 1781/3125 0.569920000000000 0.528960000000000\n",
      "11100 -256/3125*x + 384/625 0.614400000000000 0.532480000000000\n",
      "01101 -256/3125*x + 1837/3125 0.587840000000000 0.505920000000000\n",
      "01010 -128/3125*x + 1906/3125 0.609920000000000 0.568960000000000\n",
      "00111 -256/3125*x + 1857/3125 0.594240000000000 0.512320000000000\n"
     ]
    },
    {
     "name": "stderr",
     "output_type": "stream",
     "text": [
      "<ipython-input-12-3447df844b4d>:3: DeprecationWarning: Substitution using function-call syntax and unnamed arguments is deprecated and will be removed from a future release of Sage; you can use named arguments instead, like EXPR(x=..., y=...)\n",
      "See http://trac.sagemath.org/5930 for details.\n",
      "  newf = composelist(thelist)(x)\n"
     ]
    }
   ],
   "source": [
    "for s in S2[5]:\n",
    "    thelist = list(reversed([ftwit[int(ch)] for ch in s]))\n",
    "    newf = composelist(thelist)(x)\n",
    "    print(s,newf,newf(x=0).n(),newf(x=1).n())"
   ]
  },
  {
   "cell_type": "code",
   "execution_count": 8,
   "metadata": {},
   "outputs": [],
   "source": [
    "q=14/625"
   ]
  },
  {
   "cell_type": "code",
   "execution_count": 36,
   "metadata": {},
   "outputs": [
    {
     "data": {
      "text/plain": [
       "[(\n",
       "{'0': [1/6 5/6]                      \n",
       "[5/6 1/6], '1': [1/3 2/3]         [1]\n",
       "[1/2 1/2]}               , [1 0], [0]\n",
       "),\n",
       " (\n",
       "{'0': [1/6 5/6]                      \n",
       "[2/3 1/3], '1': [1/3 2/3]         [1]\n",
       "[1/2 1/2]}               , [1 0], [0]\n",
       "),\n",
       " (\n",
       "{'0': [  0   1]                      \n",
       "[5/6 1/6], '1': [1/6 5/6]         [1]\n",
       "[1/3 2/3]}               , [1 0], [0]\n",
       "),\n",
       " (\n",
       "{'0': [  0   1]                      \n",
       "[3/5 2/5], '1': [1/5 4/5]         [1]\n",
       "[2/5 3/5]}               , [1 0], [0]\n",
       "),\n",
       " (\n",
       "{'0': [1/6 5/6]                      \n",
       "[2/3 1/3], '1': [  0   1]         [0]\n",
       "[5/6 1/6]}               , [1 0], [1]\n",
       ")]"
      ]
     },
     "execution_count": 36,
     "metadata": {},
     "output_type": "execute_result"
    }
   ],
   "source": [
    "SW[\"00001010\"]"
   ]
  },
  {
   "cell_type": "code",
   "execution_count": 37,
   "metadata": {},
   "outputs": [
    {
     "name": "stdout",
     "output_type": "stream",
     "text": [
      "({'0': [1/6 5/6]\n",
      "[5/6 1/6], '1': [1/3 2/3]\n",
      "[1/2 1/2]}, [1 0], [1]\n",
      "[0])\n",
      "1 1/3\n",
      "00 13/18\n",
      "110 29/54\n",
      "0000 97/162\n",
      "11010 136/243\n",
      "000010 413/729\n",
      "1101010 2459/4374\n",
      "00001010 7387/13122\n",
      "110101010 11071/19683\n",
      "0000101010 33218/59049\n",
      "11010101010 199289/354294\n",
      "000010101010 597877/1062882\n",
      "1101010101010 896806/1594323\n",
      "00001010101010 2690423/4782969\n",
      "110101010101010 16142519/28697814\n",
      "({'0': [1/6 5/6]\n",
      "[2/3 1/3], '1': [1/3 2/3]\n",
      "[1/2 1/2]}, [1 0], [1]\n",
      "[0])\n",
      "1 1/3\n",
      "00 7/12\n",
      "110 4/9\n",
      "0000 23/48\n",
      "11010 49/108\n",
      "000010 263/576\n",
      "1101010 589/1296\n",
      "00001010 3143/6912\n",
      "110101010 7069/15552\n",
      "0000101010 37703/82944\n",
      "11010101010 84829/186624\n",
      "000010101010 452423/995328\n",
      "1101010101010 1017949/2239488\n",
      "00001010101010 5429063/11943936\n",
      "110101010101010 12215389/26873856\n",
      "({'0': [  0   1]\n",
      "[5/6 1/6], '1': [1/6 5/6]\n",
      "[1/3 2/3]}, [1 0], [1]\n",
      "[0])\n",
      "1 1/6\n",
      "00 5/6\n",
      "110 125/216\n",
      "0000 155/216\n",
      "11010 4945/7776\n",
      "000010 5095/7776\n",
      "1101010 180245/279936\n",
      "00001010 180995/279936\n",
      "110101010 6499945/10077696\n",
      "0000101010 6503695/10077696\n",
      "11010101010 234053645/362797056\n",
      "000010101010 234072395/362797056\n",
      "1101010101010 8426209345/13060694016\n",
      "00001010101010 8426303095/13060694016\n",
      "110101010101010 303344927045/470184984576\n",
      "({'0': [  0   1]\n",
      "[3/5 2/5], '1': [1/5 4/5]\n",
      "[2/5 3/5]}, [1 0], [1]\n",
      "[0])\n",
      "1 1/5\n",
      "00 3/5\n",
      "110 48/125\n",
      "0000 57/125\n",
      "11010 1269/3125\n",
      "000010 1296/3125\n",
      "1101010 31932/78125\n",
      "00001010 32013/78125\n",
      "110101010 798921/1953125\n",
      "0000101010 799164/1953125\n",
      "11010101010 19974888/48828125\n",
      "000010101010 19975617/48828125\n",
      "1101010101010 499377789/1220703125\n",
      "00001010101010 499379976/1220703125\n",
      "110101010101010 12484461492/30517578125\n",
      "({'0': [1/6 5/6]\n",
      "[2/3 1/3], '1': [  0   1]\n",
      "[5/6 1/6]}, [1 0], [0]\n",
      "[1])\n",
      "1 1\n",
      "00 5/12\n",
      "111 31/36\n",
      "0000 25/48\n",
      "11111 991/1296\n",
      "000010 317/576\n",
      "1111111 32551/46656\n",
      "00001010 3889/6912\n",
      "111111111 1093711/1679616\n",
      "0000101010 47093/82944\n",
      "11111111111 37420471/60466176\n",
      "000010101010 567241/995328\n",
      "1111111111111 1298308831/2176782336\n",
      "00001010101010 6817517/11943936\n",
      "111111111111110 15198673499/26121388032\n"
     ]
    }
   ],
   "source": [
    "for w in SW[\"00001010\"]:\n",
    "    wlist = list_probs_witness(w,range(1,16))\n",
    "    print(w)\n",
    "    thing = [print(*s) for s in highest_prob(wlist,lengths=\"all\")]"
   ]
  },
  {
   "cell_type": "code",
   "execution_count": 26,
   "metadata": {},
   "outputs": [],
   "source": [
    "for w in SW[\"10101\"]:\n",
    "    theset = set(w[0]['0'].columns() + w[0]['1'].columns());\n",
    "    if len(theset) < 4:\n",
    "        print(w)"
   ]
  },
  {
   "cell_type": "code",
   "execution_count": 79,
   "metadata": {},
   "outputs": [
    {
     "name": "stdout",
     "output_type": "stream",
     "text": [
      "({'0': [1/2 1/2]\n",
      "[1/4 3/4], '1': [1/2 1/2]\n",
      "[3/4 1/4]}, [1 0], [1]\n",
      "[0])\n",
      "0 1/2\n",
      "1 1/2\n",
      "01 5/8\n",
      "11 5/8\n",
      "001 21/32\n",
      "101 21/32\n",
      "0001 85/128\n",
      "1001 85/128\n",
      "00001 341/512\n",
      "10001 341/512\n",
      "000001 1365/2048\n",
      "100001 1365/2048\n",
      "0000001 5461/8192\n",
      "1000001 5461/8192\n",
      "00000001 21845/32768\n",
      "10000001 21845/32768\n",
      "000000001 87381/131072\n",
      "100000001 87381/131072\n",
      "0000000001 349525/524288\n",
      "1000000001 349525/524288\n",
      "00000000001 1398101/2097152\n",
      "10000000001 1398101/2097152\n",
      "000000000001 5592405/8388608\n",
      "100000000001 5592405/8388608\n",
      "0000000000001 22369621/33554432\n",
      "1000000000001 22369621/33554432\n",
      "00000000000001 89478485/134217728\n",
      "10000000000001 89478485/134217728\n",
      "000000000000001 357913941/536870912\n",
      "100000000000001 357913941/536870912\n"
     ]
    }
   ],
   "source": [
    "test1 = ({'0': matrix([[1/2,1/2],[1/4,3/4]]), '1': matrix([[1/2,1/2],[3/4,1/4]])},matrix([1,0]),matrix([1,0]).transpose())\n",
    "test1list = list_probs_witness(test1,range(1,16))\n",
    "print(test1)\n",
    "thing = [print(*s) for s in highest_prob(test1list,lengths=\"all\")]"
   ]
  },
  {
   "cell_type": "code",
   "execution_count": 70,
   "metadata": {
    "tags": []
   },
   "outputs": [],
   "source": [
    "for i in range(1,16):\n",
    "    thelen = len(set([s[1] for s in test1list if len(s[0])==i]))\n",
    "    if thelen != 2^i:\n",
    "        print(i,2^i,thelen)"
   ]
  },
  {
   "cell_type": "code",
   "execution_count": 81,
   "metadata": {},
   "outputs": [
    {
     "name": "stdout",
     "output_type": "stream",
     "text": [
      "({'0': [1/3 2/3]\n",
      "[1/4 3/4], '1': [2/3 1/3]\n",
      "[3/4 1/4]}, [1 0], [1]\n",
      "[0])\n",
      "1 2/3\n",
      "01 13/18\n",
      "001 157/216\n",
      "0001 1885/2592\n",
      "00001 22621/31104\n",
      "000001 271453/373248\n",
      "0000001 3257437/4478976\n",
      "00000001 39089245/53747712\n",
      "000000001 469070941/644972544\n",
      "0000000001 5628851293/7739670528\n",
      "00000000001 67546215517/92876046336\n",
      "000000000001 810554586205/1114512556032\n",
      "0000000000001 9726655034461/13374150672384\n",
      "00000000000001 116719860413533/160489808068608\n",
      "000000000000001 1400638324962397/1925877696823296\n"
     ]
    }
   ],
   "source": [
    "test2 = ({'0': matrix([[1/3,2/3],[1/4,3/4]]), '1': matrix([[2/3,1/3],[3/4,1/4]])},matrix([1,0]),matrix([1,0]).transpose())\n",
    "test2list = list_probs_witness(test2,range(1,16))\n",
    "print(test2)\n",
    "thing = [print(*s) for s in highest_prob(test2list,lengths=\"all\")]"
   ]
  },
  {
   "cell_type": "code",
   "execution_count": 24,
   "metadata": {
    "tags": []
   },
   "outputs": [],
   "source": [
    "for i in range(1,16):\n",
    "    thelen = len(set([s[1] for s in test2list if len(s[0])==i]))\n",
    "    if thelen != 2^i:\n",
    "        print(i,thelen)"
   ]
  },
  {
   "cell_type": "code",
   "execution_count": 45,
   "metadata": {},
   "outputs": [
    {
     "name": "stdout",
     "output_type": "stream",
     "text": [
      "({'0': [1/3 2/3]\n",
      "[1/4 3/4], '1': [1/3 2/3]\n",
      "[3/4 1/4]}, [1 0], [1]\n",
      "[0])\n",
      "0 1/3\n",
      "1 1/3\n",
      "01 11/18\n",
      "11 11/18\n",
      "001 137/216\n",
      "101 137/216\n",
      "0001 1649/2592\n",
      "1001 1649/2592\n",
      "00001 19793/31104\n",
      "10001 19793/31104\n",
      "000001 237521/373248\n",
      "100001 237521/373248\n",
      "0000001 2850257/4478976\n",
      "1000001 2850257/4478976\n",
      "00000001 34203089/53747712\n",
      "10000001 34203089/53747712\n",
      "000000001 410437073/644972544\n",
      "100000001 410437073/644972544\n",
      "0000000001 4925244881/7739670528\n",
      "1000000001 4925244881/7739670528\n",
      "00000000001 59102938577/92876046336\n",
      "10000000001 59102938577/92876046336\n",
      "000000000001 709235262929/1114512556032\n",
      "100000000001 709235262929/1114512556032\n",
      "0000000000001 8510823155153/13374150672384\n",
      "1000000000001 8510823155153/13374150672384\n",
      "00000000000001 102129877861841/160489808068608\n",
      "10000000000001 102129877861841/160489808068608\n",
      "000000000000001 1225558534342097/1925877696823296\n",
      "100000000000001 1225558534342097/1925877696823296\n"
     ]
    }
   ],
   "source": [
    "test3 = ({'0': matrix([[1/3,2/3],[1/4,3/4]]), '1': matrix([[1/3,2/3],[3/4,1/4]])},matrix([1,0]),matrix([1,0]).transpose())\n",
    "test3list = list_probs_witness(test3,range(1,16))\n",
    "print(test3)\n",
    "thing = [print(*s) for s in highest_prob(test3list,lengths=\"all\")]"
   ]
  },
  {
   "cell_type": "code",
   "execution_count": 14,
   "metadata": {
    "tags": []
   },
   "outputs": [
    {
     "name": "stdout",
     "output_type": "stream",
     "text": [
      "({'0': [  0   1]\n",
      "[1/4 3/4], '1': [  0   1]\n",
      "[1/2 1/2]}, [1 0], [1]\n",
      "[0])\n",
      "0 0\n",
      "1 0\n",
      "01 1/2\n",
      "11 1/2\n",
      "001 3/8\n",
      "101 3/8\n",
      "0101 7/16\n",
      "1101 7/16\n",
      "00101 27/64\n",
      "10101 27/64\n",
      "010101 55/128\n",
      "110101 55/128\n",
      "0010101 219/512\n",
      "1010101 219/512\n",
      "01010101 439/1024\n",
      "11010101 439/1024\n"
     ]
    }
   ],
   "source": [
    "test4 = ({'0': matrix([[0,1],[1/4,3/4]]), '1': matrix([[0,1],[1/2,1/2]])},matrix([1,0]),matrix([1,0]).transpose())\n",
    "test4list = list_probs_witness(test4,range(1,9))\n",
    "print(test4)\n",
    "thing = [print(*s) for s in highest_prob(test4list,lengths=\"all\")]"
   ]
  },
  {
   "cell_type": "code",
   "execution_count": null,
   "metadata": {},
   "outputs": [],
   "source": [
    "test5=( {'0': matrix([[1/2,0,1/2],[1,0,0],[1,0,0]]), '1': matrix([[1,0,0],[0,1,0],[0,0,1]])}, matrix([1,0,0]), matrix([0,0,1]).transpose())\n",
    "test5list = list_probs_witness(test5,range(1,16))\n",
    "print(test5)\n",
    "thing = [print(*s) for s in highest_prob(test5list,lengths=\"all\")]\n",
    "#result: almost everything gets the same prob, don't run as-is"
   ]
  },
  {
   "cell_type": "code",
   "execution_count": null,
   "metadata": {},
   "outputs": [],
   "source": [
    "test6=( {'0': matrix([[0,1],[1,0]]), '1': matrix([[1/2,1/2],[1/2,1/2]])}, matrix([1,0]), matrix([0,1]).transpose())\n",
    "test6list = list_probs_witness(test6,range(1,16))\n",
    "print(test6)\n",
    "thing = [print(*s) for s in highest_prob(test6list,lengths=\"all\")]"
   ]
  },
  {
   "cell_type": "code",
   "execution_count": 168,
   "metadata": {},
   "outputs": [
    {
     "data": {
      "text/plain": [
       "(x |--> -3/4*x + 1, x |--> 1/4*x + 1/4, 0)"
      ]
     },
     "execution_count": 168,
     "metadata": {},
     "output_type": "execute_result"
    }
   ],
   "source": [
    "pfa2ifs(SW[\"00110\"][0])"
   ]
  },
  {
   "cell_type": "code",
   "execution_count": 167,
   "metadata": {},
   "outputs": [
    {
     "data": {
      "text/plain": [
       "(x |--> -5/8*x + 1, x |--> 1/8*x + 1/2, 1)"
      ]
     },
     "execution_count": 167,
     "metadata": {},
     "output_type": "execute_result"
    }
   ],
   "source": [
    "pfa2ifs(SW[\"000110\"][0])"
   ]
  },
  {
   "cell_type": "code",
   "execution_count": 163,
   "metadata": {},
   "outputs": [
    {
     "data": {
      "text/plain": [
       "(x |--> -7/8*x + 1, x |--> 1/8*x + 1/4, 0)"
      ]
     },
     "execution_count": 163,
     "metadata": {},
     "output_type": "execute_result"
    }
   ],
   "source": [
    "pfa2ifs(SW[\"0000110\"][0])"
   ]
  },
  {
   "cell_type": "code",
   "execution_count": 165,
   "metadata": {},
   "outputs": [
    {
     "data": {
      "text/plain": [
       "(x |--> -3/4*x + 1, x |--> 1/2*x + 1/4, 1)"
      ]
     },
     "execution_count": 165,
     "metadata": {},
     "output_type": "execute_result"
    }
   ],
   "source": [
    "pfa2ifs(SW[\"000001110\"][0])"
   ]
  },
  {
   "cell_type": "code",
   "execution_count": 235,
   "metadata": {
    "tags": []
   },
   "outputs": [
    {
     "data": {
      "text/plain": [
       "(x |--> -47/2000*x + 1/4, x |--> 147/2000*x + 453/2000, 0)"
      ]
     },
     "execution_count": 235,
     "metadata": {},
     "output_type": "execute_result"
    }
   ],
   "source": [
    "pfa2ifs(test)"
   ]
  },
  {
   "cell_type": "code",
   "execution_count": 234,
   "metadata": {
    "tags": []
   },
   "outputs": [
    {
     "name": "stdout",
     "output_type": "stream",
     "text": [
      "[1, -47/2000]\n",
      "[1, 147/2000]\n",
      "[1, -1/4]\n",
      "[1, 3/10]\n"
     ]
    }
   ],
   "source": [
    "print(test[0]['0'].eigenvalues())\n",
    "print(test[0]['1'].eigenvalues())\n",
    "print(matrix(QQ,[[0,1],[1/4,3/4]]).eigenvalues())\n",
    "print(matrix(QQ,[[3/10,7/10],[0,1]]).eigenvalues())"
   ]
  },
  {
   "cell_type": "code",
   "execution_count": 244,
   "metadata": {
    "tags": []
   },
   "outputs": [
    {
     "data": {
      "text/plain": [
       "453/2000"
      ]
     },
     "execution_count": 244,
     "metadata": {},
     "output_type": "execute_result"
    }
   ],
   "source": [
    "3/10-147/2000"
   ]
  },
  {
   "cell_type": "code",
   "execution_count": 19,
   "metadata": {
    "tags": []
   },
   "outputs": [
    {
     "name": "stdout",
     "output_type": "stream",
     "text": [
      "({'0': [  0   1]\n",
      "[3/4 1/4], '1': [1/2 1/2]\n",
      "[1/4 3/4]}, [0 1], [1]\n",
      "[0])\n",
      "0 3/4\n",
      "10 9/16\n",
      "000 39/64\n",
      "0010 135/256\n",
      "00000 543/1024\n",
      "000010 2079/4096\n",
      "0000110 8223/16384\n",
      "00001110 32799/65536\n",
      "000011110 131103/262144\n",
      "0000111110 524319/1048576\n",
      "00001111110 2097183/4194304\n",
      "000011111110 8388639/16777216\n",
      "0000111111110 33554463/67108864\n",
      "00001111111110 134217759/268435456\n",
      "000011111111110 536870943/1073741824\n"
     ]
    }
   ],
   "source": [
    "eps=1/30\n",
    "eps=0\n",
    "#test=( {'0': matrix([[0,1],[1/6-eps/2,5/6+eps/2]]), '1': matrix([[5/6+eps,1/6-eps],[0,1]])}, matrix([0,1]), matrix([1,0]).transpose())\n",
    "#test=( {'0': matrix(QQ,[[0+eps,1-eps],[1/4,3/4]]),'1': matrix(QQ,[[3/10,7/10],[0+eps,1-eps]])}, matrix([0,1]), matrix([1,0]).transpose())\n",
    "test=( {'0': matrix(QQ,[[eps,1-eps],[3/4,1/4]]),'1': matrix(QQ,[[1/2,1/2],[1/4,3/4]])}, matrix([0,1]), matrix([1,0]).transpose())\n",
    "testlist = list_probs_witness(test,range(1,16))\n",
    "print(test)\n",
    "thing = [print(*s) for s in highest_prob(testlist,lengths=\"all\")]"
   ]
  },
  {
   "cell_type": "code",
   "execution_count": 18,
   "metadata": {
    "tags": []
   },
   "outputs": [],
   "source": [
    "uniq_prob_defect(testlist)"
   ]
  },
  {
   "cell_type": "code",
   "execution_count": null,
   "metadata": {
    "tags": []
   },
   "outputs": [],
   "source": [
    "for i in range(1,6):\n",
    "    th = [print(*s) for s in sortproblist([t for t in testlist if len(t[0])==i])]"
   ]
  },
  {
   "cell_type": "code",
   "execution_count": 124,
   "metadata": {},
   "outputs": [
    {
     "name": "stdout",
     "output_type": "stream",
     "text": [
      "00100001100 625/2048\n",
      "00111000101 625/2048\n",
      "00001000011 25193/92160\n",
      "00010111100 25193/92160\n",
      "\n",
      "000010000110 66967/110592\n",
      "000101111000 66967/110592\n",
      "001000011000 7115/12288\n",
      "001110001010 7115/12288\n",
      "010010110001 6181/12288\n",
      "011100100110 6181/12288\n",
      "010001101001 1991/4096\n",
      "011110010010 1991/4096\n",
      "010110001001 5821/12288\n",
      "011010100110 5821/12288\n",
      "010011010001 5701/12288\n",
      "011101000110 5701/12288\n",
      "010010000101 4889/12288\n",
      "010111010010 4889/12288\n",
      "100100001100 625/2048\n",
      "100111000101 625/2048\n",
      "001000011001 1125/4096\n",
      "001110001011 1125/4096\n",
      "100001000011 25193/92160\n",
      "100010111100 25193/92160\n",
      "000010000111 25193/102400\n",
      "000101111001 25193/102400\n",
      "\n"
     ]
    }
   ],
   "source": [
    "#list of probs that are repeated\n",
    "for i in range(11,13):\n",
    "    sortlist = sortproblist([s for s in testlist if len(s[0]) == i]);\n",
    "    j = 0;\n",
    "    while j < len(sortlist) - 1: #for each listed string w/prob (and we don't need to consider the last one)\n",
    "        k = 1;\n",
    "        if sortlist[j][1] == sortlist[j+1][1]:\n",
    "            thing = print(*sortlist[j]); #make sure to print initial member of group too\n",
    "            while j+k < len(sortlist) and sortlist[j][1] == sortlist[j+k][1]: #while we still have the same prob...\n",
    "                thing = print(*sortlist[j+k]); #continue printing\n",
    "                k = k + 1;\n",
    "        j = j + k; #increment far enough to avoid duplication\n",
    "    print(\"\");"
   ]
  },
  {
   "cell_type": "code",
   "execution_count": 13,
   "metadata": {
    "tags": []
   },
   "outputs": [
    {
     "data": {
      "text/plain": [
       "(\n",
       "{'0': [ 4/27 23/27]                          \n",
       "[ 4/27 23/27], '1': [ 4/25 21/25]         [1]\n",
       "[ 3/25 22/25]}                   , [1 0], [0]\n",
       ")"
      ]
     },
     "execution_count": 13,
     "metadata": {},
     "output_type": "execute_result"
    }
   ],
   "source": [
    "#DON'T run again---this one is intriguing, run uniq_prob_defect\n",
    "test"
   ]
  },
  {
   "cell_type": "code",
   "execution_count": 81,
   "metadata": {},
   "outputs": [
    {
     "name": "stdout",
     "output_type": "stream",
     "text": [
      "({'0': [ 1/27   8/9  2/27]\n",
      "[10/27  2/27   5/9]\n",
      "[ 7/27 14/27   2/9], '1': [ 95/252    5/12   13/63]\n",
      "[   5/18  61/252 121/252]\n",
      "[  71/84   13/84       0]}, [5/8 3/8   0], [1]\n",
      "[1]\n",
      "[0])\n",
      "[1, -0.5646295554962370?, -0.10203711117042969?]\n",
      "[1, -0.1904761904761905? - 0.2673201554460205?*I, -0.1904761904761905? + 0.2673201554460205?*I]\n",
      "\n",
      "0 161/216\n",
      "11 48343/63504\n",
      "011 5420959/6858432\n",
      "1011 10552135/13502538\n",
      "11011 171896640977/217768932864\n",
      "001011 249282276745/314987206464\n",
      "1001011 20917211773369/26458925342976\n",
      "11001011 2638072652727199/3333824593214976\n",
      "001001011 848161879430567/1071586476390528\n",
      "1001001011 160286163835378027/202529844037809792\n",
      "11001001011 80791541675160377575/102075041395056135168\n",
      "001001001011 116861954319518806793/147644256303563338368\n",
      "1001001001011 9816308163082635903539/12402117529499320422912\n",
      "11001001001011 1236865513135578348575375/1562666808716914373286912\n",
      "001001001001011 1192694432457631132304651/1506857279834167431383808\n",
      "1001001001001011 37569839567695267964126575/47466004314776274088589952\n"
     ]
    }
   ],
   "source": [
    "set_random_seed()\n",
    "#suitable for smaller denominators\n",
    "test=( {'0': random_stoch(3,27), '1': random_stoch(3,252)}, matrix(random_stoch_vector(3,16)), matrix([1,1,0]).transpose())\n",
    "testlist = list_probs_witness(test,range(1,17))\n",
    "print(test)\n",
    "#print(pfa2ifs(test))\n",
    "for m in test[0].values():\n",
    "    #eigval = copy(m.eigenvalues());\n",
    "    #eigval.remove(1);\n",
    "    #print(eigval);\n",
    "    print(m.eigenvalues());\n",
    "print(\"\")\n",
    "thing = [print(*s) for s in highest_prob(testlist,lengths=\"all\")]"
   ]
  },
  {
   "cell_type": "code",
   "execution_count": 82,
   "metadata": {
    "tags": []
   },
   "outputs": [
    {
     "name": "stdout",
     "output_type": "stream",
     "text": [
      "no repeated probs\n"
     ]
    }
   ],
   "source": [
    "#tells if any probs are repeated over all lengths\n",
    "sortlist = sortproblist(testlist);\n",
    "j = 0;\n",
    "any_repeated = False;\n",
    "while j < len(sortlist) - 1: #for each listed string w/prob (and we don't need to consider the last one)\n",
    "    k = 1;\n",
    "    if sortlist[j][1] == sortlist[j+1][1]:\n",
    "        thing = print(*sortlist[j]); #make sure to print initial member of group too\n",
    "        while j+k < len(sortlist) and sortlist[j][1] == sortlist[j+k][1]: #while we still have the same prob...\n",
    "            thing = print(*sortlist[j+k]); #continue printing\n",
    "            k = k + 1;\n",
    "        any_repeated = True;\n",
    "        break; #I don't need to see a giant list\n",
    "    j = j + k; #increment far enough to avoid duplication\n",
    "if not any_repeated: print(\"no repeated probs\");"
   ]
  },
  {
   "cell_type": "code",
   "execution_count": 83,
   "metadata": {
    "tags": []
   },
   "outputs": [],
   "source": [
    "uniq_prob_defect(testlist)"
   ]
  },
  {
   "cell_type": "code",
   "execution_count": 226,
   "metadata": {
    "tags": []
   },
   "outputs": [
    {
     "name": "stdout",
     "output_type": "stream",
     "text": [
      "[1/27, 8/27] [3/25, 7/25] [160/729, 209/729] [151/675, 179/675] [17/135, 113/675] [87/625, 103/625]\n",
      "[3/25, 7/25] [160/729, 209/729] [151/675, 179/675] [17/135, 113/675] [87/625, 103/625] [160/729, 7/25] [151/675, 179/675] [17/135, 113/675] [87/625, 103/625] [151/675, 179/675] {} {} {} {} [87/625, 103/625]\n"
     ]
    }
   ],
   "source": [
    "testifs = pfa2ifs(test)\n",
    "f0=testifs[0]\n",
    "f1=testifs[1]\n",
    "comps = [f0(x), f1(x), f0(f0(x)), f0(f1(x)), f1(f0(x)), f1(f1(x))]\n",
    "images = [RealSet.closed(ff(x=0),ff(x=1)) for ff in comps]\n",
    "thelen = len(images)\n",
    "intersections = [images[i].intersection(images[j]) for i in range(thelen-1) for j in range(i+1,thelen)]\n",
    "print(solve([x<f0(x)],x),solve([x<f1(x)],x),solve([f0(x)<f1(x)],x))\n",
    "print(*images)\n",
    "print(*intersections)"
   ]
  },
  {
   "cell_type": "code",
   "execution_count": null,
   "metadata": {
    "tags": []
   },
   "outputs": [],
   "source": [
    "for i in range(1,6):\n",
    "    th = [print(*s) for s in sortproblist([t for t in testlist if len(t[0])==i])]"
   ]
  },
  {
   "cell_type": "code",
   "execution_count": 74,
   "metadata": {
    "tags": []
   },
   "outputs": [
    {
     "ename": "KeyboardInterrupt",
     "evalue": "",
     "output_type": "error",
     "traceback": [
      "\u001b[0;31m---------------------------------------------------------------------------\u001b[0m",
      "\u001b[0;31mKeyboardInterrupt\u001b[0m                         Traceback (most recent call last)",
      "\u001b[0;32m<ipython-input-74-c57d029fbf8b>\u001b[0m in \u001b[0;36m<cell line: 3>\u001b[0;34m()\u001b[0m\n\u001b[1;32m      1\u001b[0m \u001b[0;31m#suitable for large denominators or reals\u001b[0m\u001b[0;34m\u001b[0m\u001b[0;34m\u001b[0m\u001b[0m\n\u001b[1;32m      2\u001b[0m \u001b[0mtest\u001b[0m\u001b[0;34m=\u001b[0m\u001b[0;34m(\u001b[0m \u001b[0;34m{\u001b[0m\u001b[0;34m'0'\u001b[0m\u001b[0;34m:\u001b[0m \u001b[0mrandom_stoch_real\u001b[0m\u001b[0;34m(\u001b[0m\u001b[0mInteger\u001b[0m\u001b[0;34m(\u001b[0m\u001b[0;36m4\u001b[0m\u001b[0;34m)\u001b[0m\u001b[0;34m)\u001b[0m\u001b[0;34m,\u001b[0m \u001b[0;34m'1'\u001b[0m\u001b[0;34m:\u001b[0m \u001b[0mrandom_stoch_real\u001b[0m\u001b[0;34m(\u001b[0m\u001b[0mInteger\u001b[0m\u001b[0;34m(\u001b[0m\u001b[0;36m4\u001b[0m\u001b[0;34m)\u001b[0m\u001b[0;34m)\u001b[0m\u001b[0;34m}\u001b[0m\u001b[0;34m,\u001b[0m \u001b[0mmatrix\u001b[0m\u001b[0;34m(\u001b[0m\u001b[0mrandom_stoch_real\u001b[0m\u001b[0;34m(\u001b[0m\u001b[0mInteger\u001b[0m\u001b[0;34m(\u001b[0m\u001b[0;36m4\u001b[0m\u001b[0;34m)\u001b[0m\u001b[0;34m)\u001b[0m\u001b[0;34m[\u001b[0m\u001b[0mInteger\u001b[0m\u001b[0;34m(\u001b[0m\u001b[0;36m0\u001b[0m\u001b[0;34m)\u001b[0m\u001b[0;34m]\u001b[0m\u001b[0;34m)\u001b[0m\u001b[0;34m,\u001b[0m \u001b[0mmatrix\u001b[0m\u001b[0;34m(\u001b[0m\u001b[0;34m[\u001b[0m\u001b[0mInteger\u001b[0m\u001b[0;34m(\u001b[0m\u001b[0;36m1\u001b[0m\u001b[0;34m)\u001b[0m\u001b[0;34m,\u001b[0m\u001b[0mInteger\u001b[0m\u001b[0;34m(\u001b[0m\u001b[0;36m0\u001b[0m\u001b[0;34m)\u001b[0m\u001b[0;34m,\u001b[0m\u001b[0mInteger\u001b[0m\u001b[0;34m(\u001b[0m\u001b[0;36m0\u001b[0m\u001b[0;34m)\u001b[0m\u001b[0;34m,\u001b[0m\u001b[0mInteger\u001b[0m\u001b[0;34m(\u001b[0m\u001b[0;36m0\u001b[0m\u001b[0;34m)\u001b[0m\u001b[0;34m]\u001b[0m\u001b[0;34m)\u001b[0m\u001b[0;34m.\u001b[0m\u001b[0mtranspose\u001b[0m\u001b[0;34m(\u001b[0m\u001b[0;34m)\u001b[0m\u001b[0;34m)\u001b[0m\u001b[0;34m\u001b[0m\u001b[0;34m\u001b[0m\u001b[0m\n\u001b[0;32m----> 3\u001b[0;31m \u001b[0mtestlist\u001b[0m \u001b[0;34m=\u001b[0m \u001b[0mlist_probs_witness\u001b[0m\u001b[0;34m(\u001b[0m\u001b[0mtest\u001b[0m\u001b[0;34m,\u001b[0m\u001b[0mrange\u001b[0m\u001b[0;34m(\u001b[0m\u001b[0mInteger\u001b[0m\u001b[0;34m(\u001b[0m\u001b[0;36m1\u001b[0m\u001b[0;34m)\u001b[0m\u001b[0;34m,\u001b[0m\u001b[0mInteger\u001b[0m\u001b[0;34m(\u001b[0m\u001b[0;36m16\u001b[0m\u001b[0;34m)\u001b[0m\u001b[0;34m)\u001b[0m\u001b[0;34m)\u001b[0m\u001b[0;34m\u001b[0m\u001b[0;34m\u001b[0m\u001b[0m\n\u001b[0m\u001b[1;32m      4\u001b[0m \u001b[0;32mfor\u001b[0m \u001b[0mm\u001b[0m \u001b[0;32min\u001b[0m \u001b[0mtest\u001b[0m\u001b[0;34m[\u001b[0m\u001b[0mInteger\u001b[0m\u001b[0;34m(\u001b[0m\u001b[0;36m0\u001b[0m\u001b[0;34m)\u001b[0m\u001b[0;34m]\u001b[0m\u001b[0;34m.\u001b[0m\u001b[0mvalues\u001b[0m\u001b[0;34m(\u001b[0m\u001b[0;34m)\u001b[0m\u001b[0;34m:\u001b[0m\u001b[0;34m\u001b[0m\u001b[0;34m\u001b[0m\u001b[0m\n\u001b[1;32m      5\u001b[0m     \u001b[0;31m#eigval = copy(m.eigenvalues());\u001b[0m\u001b[0;34m\u001b[0m\u001b[0;34m\u001b[0m\u001b[0m\n",
      "\u001b[0;32m<ipython-input-46-c339723b88f1>\u001b[0m in \u001b[0;36mlist_probs_witness\u001b[0;34m(witness, lengths)\u001b[0m\n\u001b[1;32m    161\u001b[0m \u001b[0;31m#expects to be passed a \"witness\" tuple, as from SW\u001b[0m\u001b[0;34m\u001b[0m\u001b[0;34m\u001b[0m\u001b[0m\n\u001b[1;32m    162\u001b[0m \u001b[0;32mdef\u001b[0m \u001b[0mlist_probs_witness\u001b[0m\u001b[0;34m(\u001b[0m\u001b[0mwitness\u001b[0m\u001b[0;34m,\u001b[0m\u001b[0mlengths\u001b[0m\u001b[0;34m=\u001b[0m\u001b[0mrange\u001b[0m\u001b[0;34m(\u001b[0m\u001b[0mInteger\u001b[0m\u001b[0;34m(\u001b[0m\u001b[0;36m1\u001b[0m\u001b[0;34m)\u001b[0m\u001b[0;34m,\u001b[0m\u001b[0mInteger\u001b[0m\u001b[0;34m(\u001b[0m\u001b[0;36m5\u001b[0m\u001b[0;34m)\u001b[0m\u001b[0;34m)\u001b[0m\u001b[0;34m)\u001b[0m\u001b[0;34m:\u001b[0m\u001b[0;34m\u001b[0m\u001b[0;34m\u001b[0m\u001b[0m\n\u001b[0;32m--> 163\u001b[0;31m     \u001b[0;32mreturn\u001b[0m \u001b[0mlist_probs\u001b[0m\u001b[0;34m(\u001b[0m\u001b[0mwitness\u001b[0m\u001b[0;34m[\u001b[0m\u001b[0mInteger\u001b[0m\u001b[0;34m(\u001b[0m\u001b[0;36m0\u001b[0m\u001b[0;34m)\u001b[0m\u001b[0;34m]\u001b[0m\u001b[0;34m,\u001b[0m\u001b[0mwitness\u001b[0m\u001b[0;34m[\u001b[0m\u001b[0mInteger\u001b[0m\u001b[0;34m(\u001b[0m\u001b[0;36m1\u001b[0m\u001b[0;34m)\u001b[0m\u001b[0;34m]\u001b[0m\u001b[0;34m.\u001b[0m\u001b[0mlist\u001b[0m\u001b[0;34m(\u001b[0m\u001b[0;34m)\u001b[0m\u001b[0;34m,\u001b[0m\u001b[0mwitness\u001b[0m\u001b[0;34m[\u001b[0m\u001b[0mInteger\u001b[0m\u001b[0;34m(\u001b[0m\u001b[0;36m2\u001b[0m\u001b[0;34m)\u001b[0m\u001b[0;34m]\u001b[0m\u001b[0;34m.\u001b[0m\u001b[0mlist\u001b[0m\u001b[0;34m(\u001b[0m\u001b[0;34m)\u001b[0m\u001b[0;34m,\u001b[0m\u001b[0mlengths\u001b[0m\u001b[0;34m)\u001b[0m\u001b[0;34m;\u001b[0m\u001b[0;34m\u001b[0m\u001b[0;34m\u001b[0m\u001b[0m\n\u001b[0m\u001b[1;32m    164\u001b[0m \u001b[0;34m\u001b[0m\u001b[0m\n\u001b[1;32m    165\u001b[0m \u001b[0;31m#pass a list of strings to test, instead of a range\u001b[0m\u001b[0;34m\u001b[0m\u001b[0;34m\u001b[0m\u001b[0m\n",
      "\u001b[0;32m<ipython-input-46-c339723b88f1>\u001b[0m in \u001b[0;36mlist_probs\u001b[0;34m(transmatrices, start_states, accept_states, lengths)\u001b[0m\n\u001b[1;32m    157\u001b[0m     \u001b[0;32mfor\u001b[0m \u001b[0mi\u001b[0m \u001b[0;32min\u001b[0m \u001b[0mlenlist\u001b[0m\u001b[0;34m:\u001b[0m\u001b[0;34m\u001b[0m\u001b[0;34m\u001b[0m\u001b[0m\n\u001b[1;32m    158\u001b[0m         \u001b[0mwords\u001b[0m \u001b[0;34m=\u001b[0m \u001b[0mwords\u001b[0m \u001b[0;34m+\u001b[0m \u001b[0;34m[\u001b[0m\u001b[0mtuptostr\u001b[0m\u001b[0;34m(\u001b[0m\u001b[0mit\u001b[0m\u001b[0;34m)\u001b[0m \u001b[0;32mfor\u001b[0m \u001b[0mit\u001b[0m \u001b[0;32min\u001b[0m \u001b[0mitertools\u001b[0m\u001b[0;34m.\u001b[0m\u001b[0mproduct\u001b[0m\u001b[0;34m(\u001b[0m\u001b[0malph\u001b[0m\u001b[0;34m,\u001b[0m\u001b[0mrepeat\u001b[0m\u001b[0;34m=\u001b[0m\u001b[0mi\u001b[0m\u001b[0;34m)\u001b[0m\u001b[0;34m]\u001b[0m\u001b[0;34m;\u001b[0m\u001b[0;34m\u001b[0m\u001b[0;34m\u001b[0m\u001b[0m\n\u001b[0;32m--> 159\u001b[0;31m     \u001b[0;32mreturn\u001b[0m \u001b[0mlist_probs_fromwords\u001b[0m\u001b[0;34m(\u001b[0m\u001b[0mtransmatrices\u001b[0m\u001b[0;34m,\u001b[0m\u001b[0mstart_states\u001b[0m\u001b[0;34m,\u001b[0m\u001b[0maccept_states\u001b[0m\u001b[0;34m,\u001b[0m\u001b[0mwords\u001b[0m\u001b[0;34m)\u001b[0m\u001b[0;34m;\u001b[0m\u001b[0;34m\u001b[0m\u001b[0;34m\u001b[0m\u001b[0m\n\u001b[0m\u001b[1;32m    160\u001b[0m \u001b[0;34m\u001b[0m\u001b[0m\n\u001b[1;32m    161\u001b[0m \u001b[0;31m#expects to be passed a \"witness\" tuple, as from SW\u001b[0m\u001b[0;34m\u001b[0m\u001b[0;34m\u001b[0m\u001b[0m\n",
      "\u001b[0;32m<ipython-input-46-c339723b88f1>\u001b[0m in \u001b[0;36mlist_probs_fromwords\u001b[0;34m(transmatrices, start_states, accept_states, words)\u001b[0m\n\u001b[1;32m    167\u001b[0m     \u001b[0mproblist\u001b[0m \u001b[0;34m=\u001b[0m \u001b[0;34m[\u001b[0m\u001b[0;34m]\u001b[0m\u001b[0;34m;\u001b[0m \u001b[0;31m#list of strings with their acceptance probabilities\u001b[0m\u001b[0;34m\u001b[0m\u001b[0;34m\u001b[0m\u001b[0m\n\u001b[1;32m    168\u001b[0m     \u001b[0;32mfor\u001b[0m \u001b[0mst\u001b[0m \u001b[0;32min\u001b[0m \u001b[0mwords\u001b[0m\u001b[0;34m:\u001b[0m\u001b[0;34m\u001b[0m\u001b[0;34m\u001b[0m\u001b[0m\n\u001b[0;32m--> 169\u001b[0;31m         \u001b[0mproblist\u001b[0m\u001b[0;34m.\u001b[0m\u001b[0mappend\u001b[0m\u001b[0;34m(\u001b[0m\u001b[0;34m(\u001b[0m\u001b[0mst\u001b[0m\u001b[0;34m,\u001b[0m\u001b[0maccprob\u001b[0m\u001b[0;34m(\u001b[0m\u001b[0mtransmatrices\u001b[0m\u001b[0;34m,\u001b[0m\u001b[0mst\u001b[0m\u001b[0;34m,\u001b[0m\u001b[0mstart_states\u001b[0m\u001b[0;34m,\u001b[0m\u001b[0maccept_states\u001b[0m\u001b[0;34m)\u001b[0m\u001b[0;34m)\u001b[0m\u001b[0;34m)\u001b[0m\u001b[0;34m;\u001b[0m\u001b[0;34m\u001b[0m\u001b[0;34m\u001b[0m\u001b[0m\n\u001b[0m\u001b[1;32m    170\u001b[0m     \u001b[0;32mreturn\u001b[0m \u001b[0mproblist\u001b[0m\u001b[0;34m;\u001b[0m\u001b[0;34m\u001b[0m\u001b[0;34m\u001b[0m\u001b[0m\n\u001b[1;32m    171\u001b[0m \u001b[0;34m\u001b[0m\u001b[0m\n",
      "\u001b[0;32m<ipython-input-46-c339723b88f1>\u001b[0m in \u001b[0;36maccprob\u001b[0;34m(transmatrices, sigma, start_states, accept_states)\u001b[0m\n\u001b[1;32m    122\u001b[0m     \u001b[0;32melse\u001b[0m\u001b[0;34m:\u001b[0m\u001b[0;34m\u001b[0m\u001b[0;34m\u001b[0m\u001b[0m\n\u001b[1;32m    123\u001b[0m         \u001b[0mf\u001b[0m \u001b[0;34m=\u001b[0m \u001b[0mMatrix\u001b[0m\u001b[0;34m(\u001b[0m\u001b[0maccept_states\u001b[0m\u001b[0;34m)\u001b[0m\u001b[0;34m.\u001b[0m\u001b[0mtranspose\u001b[0m\u001b[0;34m(\u001b[0m\u001b[0;34m)\u001b[0m\u001b[0;34m;\u001b[0m\u001b[0;34m\u001b[0m\u001b[0;34m\u001b[0m\u001b[0m\n\u001b[0;32m--> 124\u001b[0;31m     \u001b[0;32mreturn\u001b[0m \u001b[0maccprob_vector\u001b[0m\u001b[0;34m(\u001b[0m\u001b[0mtransmatrices\u001b[0m\u001b[0;34m,\u001b[0m\u001b[0msigma\u001b[0m\u001b[0;34m,\u001b[0m\u001b[0mv\u001b[0m\u001b[0;34m,\u001b[0m\u001b[0mf\u001b[0m\u001b[0;34m)\u001b[0m\u001b[0;34m;\u001b[0m\u001b[0;34m\u001b[0m\u001b[0;34m\u001b[0m\u001b[0m\n\u001b[0m\u001b[1;32m    125\u001b[0m \u001b[0;34m\u001b[0m\u001b[0m\n\u001b[1;32m    126\u001b[0m \u001b[0;31m#same, but expects start_states & accept_states to be matrices already\u001b[0m\u001b[0;34m\u001b[0m\u001b[0;34m\u001b[0m\u001b[0m\n",
      "\u001b[0;32m<ipython-input-46-c339723b88f1>\u001b[0m in \u001b[0;36maccprob_vector\u001b[0;34m(transmatrices, sigma, start_states, accept_states)\u001b[0m\n\u001b[1;32m    126\u001b[0m \u001b[0;31m#same, but expects start_states & accept_states to be matrices already\u001b[0m\u001b[0;34m\u001b[0m\u001b[0;34m\u001b[0m\u001b[0m\n\u001b[1;32m    127\u001b[0m \u001b[0;32mdef\u001b[0m \u001b[0maccprob_vector\u001b[0m\u001b[0;34m(\u001b[0m\u001b[0mtransmatrices\u001b[0m\u001b[0;34m,\u001b[0m\u001b[0msigma\u001b[0m\u001b[0;34m,\u001b[0m\u001b[0mstart_states\u001b[0m\u001b[0;34m,\u001b[0m\u001b[0maccept_states\u001b[0m\u001b[0;34m)\u001b[0m\u001b[0;34m:\u001b[0m\u001b[0;34m\u001b[0m\u001b[0;34m\u001b[0m\u001b[0m\n\u001b[0;32m--> 128\u001b[0;31m     \u001b[0mA\u001b[0m \u001b[0;34m=\u001b[0m \u001b[0mstart_states\u001b[0m\u001b[0;34m*\u001b[0m\u001b[0mprobmatrix\u001b[0m\u001b[0;34m(\u001b[0m\u001b[0mtransmatrices\u001b[0m\u001b[0;34m,\u001b[0m\u001b[0msigma\u001b[0m\u001b[0;34m)\u001b[0m\u001b[0;34m*\u001b[0m\u001b[0maccept_states\u001b[0m\u001b[0;34m;\u001b[0m\u001b[0;34m\u001b[0m\u001b[0;34m\u001b[0m\u001b[0m\n\u001b[0m\u001b[1;32m    129\u001b[0m     \u001b[0;32mreturn\u001b[0m \u001b[0mA\u001b[0m\u001b[0;34m[\u001b[0m\u001b[0mInteger\u001b[0m\u001b[0;34m(\u001b[0m\u001b[0;36m0\u001b[0m\u001b[0;34m)\u001b[0m\u001b[0;34m]\u001b[0m\u001b[0;34m[\u001b[0m\u001b[0mInteger\u001b[0m\u001b[0;34m(\u001b[0m\u001b[0;36m0\u001b[0m\u001b[0;34m)\u001b[0m\u001b[0;34m]\u001b[0m\u001b[0;34m;\u001b[0m\u001b[0;34m\u001b[0m\u001b[0;34m\u001b[0m\u001b[0m\n\u001b[1;32m    130\u001b[0m \u001b[0;34m\u001b[0m\u001b[0m\n",
      "\u001b[0;32m<ipython-input-46-c339723b88f1>\u001b[0m in \u001b[0;36mprobmatrix\u001b[0;34m(transmatrices, sigma)\u001b[0m\n\u001b[1;32m    140\u001b[0m     \u001b[0;32mfor\u001b[0m \u001b[0mch\u001b[0m \u001b[0;32min\u001b[0m \u001b[0msigma\u001b[0m\u001b[0;34m:\u001b[0m\u001b[0;34m\u001b[0m\u001b[0;34m\u001b[0m\u001b[0m\n\u001b[1;32m    141\u001b[0m         \u001b[0;32massert\u001b[0m \u001b[0mstr\u001b[0m\u001b[0;34m(\u001b[0m\u001b[0mch\u001b[0m\u001b[0;34m)\u001b[0m \u001b[0;32min\u001b[0m \u001b[0malph\u001b[0m\u001b[0;34m;\u001b[0m\u001b[0;34m\u001b[0m\u001b[0;34m\u001b[0m\u001b[0m\n\u001b[0;32m--> 142\u001b[0;31m         \u001b[0mA\u001b[0m \u001b[0;34m=\u001b[0m \u001b[0mA\u001b[0m\u001b[0;34m*\u001b[0m\u001b[0mtransmatrices\u001b[0m\u001b[0;34m[\u001b[0m\u001b[0mch\u001b[0m\u001b[0;34m]\u001b[0m\u001b[0;34m;\u001b[0m\u001b[0;34m\u001b[0m\u001b[0;34m\u001b[0m\u001b[0m\n\u001b[0m\u001b[1;32m    143\u001b[0m     \u001b[0;32mreturn\u001b[0m \u001b[0mA\u001b[0m\u001b[0;34m;\u001b[0m\u001b[0;34m\u001b[0m\u001b[0;34m\u001b[0m\u001b[0m\n\u001b[1;32m    144\u001b[0m \u001b[0;34m\u001b[0m\u001b[0m\n",
      "\u001b[0;32m/opt/tljh/user/envs/sage/lib/python3.9/site-packages/sage/structure/element.pyx\u001b[0m in \u001b[0;36msage.structure.element.Matrix.__mul__ (build/cythonized/sage/structure/element.c:23837)\u001b[0;34m()\u001b[0m\n\u001b[1;32m   3807\u001b[0m             \u001b[0;31m# better be square for the product to be defined.\u001b[0m\u001b[0;34m\u001b[0m\u001b[0;34m\u001b[0m\u001b[0m\n\u001b[1;32m   3808\u001b[0m             \u001b[0;32mif\u001b[0m \u001b[0;34m(\u001b[0m\u001b[0;34m<\u001b[0m\u001b[0mMatrix\u001b[0m\u001b[0;34m>\u001b[0m\u001b[0mleft\u001b[0m\u001b[0;34m)\u001b[0m\u001b[0;34m.\u001b[0m\u001b[0m_nrows\u001b[0m \u001b[0;34m==\u001b[0m \u001b[0;34m(\u001b[0m\u001b[0;34m<\u001b[0m\u001b[0mMatrix\u001b[0m\u001b[0;34m>\u001b[0m\u001b[0mleft\u001b[0m\u001b[0;34m)\u001b[0m\u001b[0;34m.\u001b[0m\u001b[0m_ncols\u001b[0m\u001b[0;34m:\u001b[0m\u001b[0;34m\u001b[0m\u001b[0;34m\u001b[0m\u001b[0m\n\u001b[0;32m-> 3809\u001b[0;31m                 \u001b[0;32mreturn\u001b[0m \u001b[0;34m(\u001b[0m\u001b[0;34m<\u001b[0m\u001b[0mMatrix\u001b[0m\u001b[0;34m>\u001b[0m\u001b[0mleft\u001b[0m\u001b[0;34m)\u001b[0m\u001b[0;34m.\u001b[0m\u001b[0m_matrix_times_matrix_\u001b[0m\u001b[0;34m(\u001b[0m\u001b[0;34m<\u001b[0m\u001b[0mMatrix\u001b[0m\u001b[0;34m>\u001b[0m\u001b[0mright\u001b[0m\u001b[0;34m)\u001b[0m\u001b[0;34m\u001b[0m\u001b[0;34m\u001b[0m\u001b[0m\n\u001b[0m\u001b[1;32m   3810\u001b[0m             \u001b[0;32melse\u001b[0m\u001b[0;34m:\u001b[0m\u001b[0;34m\u001b[0m\u001b[0;34m\u001b[0m\u001b[0m\n\u001b[1;32m   3811\u001b[0m                 \u001b[0mparent\u001b[0m \u001b[0;34m=\u001b[0m \u001b[0;34m(\u001b[0m\u001b[0;34m<\u001b[0m\u001b[0mMatrix\u001b[0m\u001b[0;34m>\u001b[0m\u001b[0mleft\u001b[0m\u001b[0;34m)\u001b[0m\u001b[0;34m.\u001b[0m\u001b[0m_parent\u001b[0m\u001b[0;34m\u001b[0m\u001b[0;34m\u001b[0m\u001b[0m\n",
      "\u001b[0;32m/opt/tljh/user/envs/sage/lib/python3.9/site-packages/sage/matrix/matrix_rational_dense.pyx\u001b[0m in \u001b[0;36msage.matrix.matrix_rational_dense.Matrix_rational_dense._matrix_times_matrix_ (build/cythonized/sage/matrix/matrix_rational_dense.cpp:11757)\u001b[0;34m()\u001b[0m\n\u001b[1;32m   1154\u001b[0m             \u001b[0mTypeError\u001b[0m\u001b[0;34m:\u001b[0m \u001b[0munsupported\u001b[0m \u001b[0moperand\u001b[0m \u001b[0mparent\u001b[0m\u001b[0;34m(\u001b[0m\u001b[0ms\u001b[0m\u001b[0;34m)\u001b[0m \u001b[0;32mfor\u001b[0m \u001b[0;34m*\u001b[0m\u001b[0;34m:\u001b[0m \u001b[0;34m'Full MatrixSpace of 2 by 3 dense matrices over Rational Field'\u001b[0m \u001b[0;32mand\u001b[0m \u001b[0;34m'Full MatrixSpace of 4 by 5 dense matrices over Rational Field'\u001b[0m\u001b[0;34m\u001b[0m\u001b[0;34m\u001b[0m\u001b[0m\n\u001b[1;32m   1155\u001b[0m         \"\"\"\n\u001b[0;32m-> 1156\u001b[0;31m         \u001b[0;32mreturn\u001b[0m \u001b[0mself\u001b[0m\u001b[0;34m.\u001b[0m\u001b[0m_multiply_flint\u001b[0m\u001b[0;34m(\u001b[0m\u001b[0mright\u001b[0m\u001b[0;34m)\u001b[0m\u001b[0;34m\u001b[0m\u001b[0;34m\u001b[0m\u001b[0m\n\u001b[0m\u001b[1;32m   1157\u001b[0m \u001b[0;34m\u001b[0m\u001b[0m\n\u001b[1;32m   1158\u001b[0m     \u001b[0;32mdef\u001b[0m \u001b[0m_multiply_flint\u001b[0m\u001b[0;34m(\u001b[0m\u001b[0mself\u001b[0m\u001b[0;34m,\u001b[0m \u001b[0mMatrix_rational_dense\u001b[0m \u001b[0mright\u001b[0m\u001b[0;34m)\u001b[0m\u001b[0;34m:\u001b[0m\u001b[0;34m\u001b[0m\u001b[0;34m\u001b[0m\u001b[0m\n",
      "\u001b[0;32m/opt/tljh/user/envs/sage/lib/python3.9/site-packages/sage/matrix/matrix_rational_dense.pyx\u001b[0m in \u001b[0;36msage.matrix.matrix_rational_dense.Matrix_rational_dense._multiply_flint (build/cythonized/sage/matrix/matrix_rational_dense.cpp:12033)\u001b[0;34m()\u001b[0m\n\u001b[1;32m   1182\u001b[0m         \u001b[0mans\u001b[0m \u001b[0;34m=\u001b[0m \u001b[0mMatrix_rational_dense\u001b[0m\u001b[0;34m.\u001b[0m\u001b[0m__new__\u001b[0m\u001b[0;34m(\u001b[0m\u001b[0mMatrix_rational_dense\u001b[0m\u001b[0;34m,\u001b[0m \u001b[0mparent\u001b[0m\u001b[0;34m,\u001b[0m \u001b[0;32mNone\u001b[0m\u001b[0;34m,\u001b[0m \u001b[0;32mNone\u001b[0m\u001b[0;34m,\u001b[0m \u001b[0;32mNone\u001b[0m\u001b[0;34m)\u001b[0m\u001b[0;34m\u001b[0m\u001b[0;34m\u001b[0m\u001b[0m\n\u001b[1;32m   1183\u001b[0m \u001b[0;34m\u001b[0m\u001b[0m\n\u001b[0;32m-> 1184\u001b[0;31m         \u001b[0msig_on\u001b[0m\u001b[0;34m(\u001b[0m\u001b[0;34m)\u001b[0m\u001b[0;34m\u001b[0m\u001b[0;34m\u001b[0m\u001b[0m\n\u001b[0m\u001b[1;32m   1185\u001b[0m         \u001b[0mfmpq_mat_mul\u001b[0m\u001b[0;34m(\u001b[0m\u001b[0mans\u001b[0m\u001b[0;34m.\u001b[0m\u001b[0m_matrix\u001b[0m\u001b[0;34m,\u001b[0m \u001b[0mself\u001b[0m\u001b[0;34m.\u001b[0m\u001b[0m_matrix\u001b[0m\u001b[0;34m,\u001b[0m \u001b[0;34m(\u001b[0m\u001b[0;34m<\u001b[0m\u001b[0mMatrix_rational_dense\u001b[0m\u001b[0;34m>\u001b[0m \u001b[0mright\u001b[0m\u001b[0;34m)\u001b[0m\u001b[0;34m.\u001b[0m\u001b[0m_matrix\u001b[0m\u001b[0;34m)\u001b[0m\u001b[0;34m\u001b[0m\u001b[0;34m\u001b[0m\u001b[0m\n\u001b[1;32m   1186\u001b[0m         \u001b[0msig_off\u001b[0m\u001b[0;34m(\u001b[0m\u001b[0;34m)\u001b[0m\u001b[0;34m\u001b[0m\u001b[0;34m\u001b[0m\u001b[0m\n",
      "\u001b[0;31mKeyboardInterrupt\u001b[0m: "
     ]
    }
   ],
   "source": [
    "#suitable for large denominators or reals\n",
    "test=( {'0': random_stoch_real(2), '1': random_stoch_real(2)}, matrix(random_stoch_real(2)[0]), matrix([1,0]).transpose())\n",
    "testlist = list_probs_witness(test,range(1,16))\n",
    "for m in test[0].values():\n",
    "    #eigval = copy(m.eigenvalues());\n",
    "    #eigval.remove(1);\n",
    "    print(m.change_ring(RR), m.eigenvalues());\n",
    "print(test[1].change_ring(RR))\n",
    "for s in highest_prob(testlist,lengths=\"all\"):\n",
    "    print(s[0],N(s[1]))"
   ]
  },
  {
   "cell_type": "code",
   "execution_count": null,
   "metadata": {
    "tags": []
   },
   "outputs": [],
   "source": [
    "#tells if any probs are repeated over all lengths\n",
    "sortlist = sortproblist(testlist);\n",
    "j = 0;\n",
    "any_repeated = False;\n",
    "while j < len(sortlist) - 1: #for each listed string w/prob (and we don't need to consider the last one)\n",
    "    k = 1;\n",
    "    if sortlist[j][1] == sortlist[j+1][1]:\n",
    "        thing = print(*sortlist[j]); #make sure to print initial member of group too\n",
    "        while j+k < len(sortlist) and sortlist[j][1] == sortlist[j+k][1]: #while we still have the same prob...\n",
    "            thing = print(*sortlist[j+k]); #continue printing\n",
    "            k = k + 1;\n",
    "        any_repeated = True;\n",
    "        break; #I don't need to see a giant list\n",
    "    j = j + k; #increment far enough to avoid duplication\n",
    "if not any_repeated: print(\"no repeated probs\");"
   ]
  },
  {
   "cell_type": "code",
   "execution_count": null,
   "metadata": {},
   "outputs": [],
   "source": [
    "uniq_prob_defect(testlist)"
   ]
  },
  {
   "cell_type": "code",
   "execution_count": 7,
   "metadata": {
    "tags": []
   },
   "outputs": [],
   "source": [
    "#print, for aproblist, which lengths have non-unique probabilities, and how many distinct probs there are of each length\n",
    "def uniq_prob_defect(aproblist):\n",
    "    lengths = set(sorted([len(p[0]) for p in aproblist])); #set of lengths of words given\n",
    "    for i in lengths:\n",
    "        thelen = len(set([s[1] for s in aproblist if len(s[0])==i])) #number of distinct probs per length\n",
    "        if thelen != 2^i:\n",
    "            print(i,2^i,thelen)"
   ]
  },
  {
   "cell_type": "code",
   "execution_count": 115,
   "metadata": {
    "tags": []
   },
   "outputs": [
    {
     "data": {
      "text/plain": [
       "2"
      ]
     },
     "execution_count": 115,
     "metadata": {},
     "output_type": "execute_result"
    }
   ],
   "source": [
    "addonewit_wit(test,)"
   ]
  },
  {
   "cell_type": "code",
   "execution_count": 8,
   "metadata": {
    "tags": []
   },
   "outputs": [],
   "source": [
    "savewits()"
   ]
  },
  {
   "cell_type": "code",
   "execution_count": null,
   "metadata": {
    "tags": []
   },
   "outputs": [],
   "source": [
    "for i in range(1,6):\n",
    "    th = [print(*s) for s in sortproblist([t for t in testlist if len(t[0])==i])]"
   ]
  },
  {
   "cell_type": "code",
   "execution_count": 20,
   "metadata": {},
   "outputs": [
    {
     "data": {
      "text/plain": [
       "(x |--> -3/4*x + 3/4, x |--> 1/4*x + 1/4, 0)"
      ]
     },
     "execution_count": 20,
     "metadata": {},
     "output_type": "execute_result"
    }
   ],
   "source": [
    "ifs21 = pfa2ifs(test); ifs21"
   ]
  },
  {
   "cell_type": "code",
   "execution_count": 123,
   "metadata": {
    "tags": []
   },
   "outputs": [
    {
     "data": {
      "text/plain": [
       "0.375000000000000"
      ]
     },
     "execution_count": 123,
     "metadata": {},
     "output_type": "execute_result"
    }
   ],
   "source": [
    "composelist([ifs21[0]]*2)(1/3).n()"
   ]
  },
  {
   "cell_type": "code",
   "execution_count": 104,
   "metadata": {
    "tags": []
   },
   "outputs": [
    {
     "data": {
      "text/plain": [
       "9/16*x + 3/16"
      ]
     },
     "execution_count": 104,
     "metadata": {},
     "output_type": "execute_result"
    }
   ],
   "source": [
    "composelist([ifs21[0]]*2)(x)"
   ]
  },
  {
   "cell_type": "code",
   "execution_count": null,
   "metadata": {
    "tags": []
   },
   "outputs": [
    {
     "data": {
      "text/plain": [
       "0.467330932617188"
      ]
     },
     "execution_count": 105,
     "metadata": {},
     "output_type": "execute_result"
    }
   ],
   "source": [
    "accprob_ifs(ifs21,\"00001010\").n()"
   ]
  },
  {
   "cell_type": "code",
   "execution_count": 24,
   "metadata": {
    "tags": []
   },
   "outputs": [],
   "source": [
    "ifslist = [ (1/2-1/2*x,1/2*x,1), (2/3-2/3*x,1-1/3*x,0), (1/4+1/4*x,3/4-1/4*x,1), (1/4+1/4*x,3/4-1/4*x,0), (1-x,1/4+1/4*x,1),\n",
    "           (3/4-3/4*x,3/4-1/4*x,0), (3/4-3/4*x,3/4-1/4*x,1), (1-x,1/4+1/4*x,0), (1/4-1/4*x,1/2-1/2*x,1), (1/4-1/4*x,1/2-1/2*x,0),\n",
    "           (1/4+5/12*x,3/4-5/12*x,1), (1/4+5/12*x,3/4-5/12*x,0), (1/4-1/4*x,3/4-3/4*x,1), (1/4-1/4*x,3/4-3/4*x,0), (1/2-1/2*x,1/2*x,0),\n",
    "           (2/3-2/3*x,1-1/3*x,1), (2/3-2/3*x,2/3*x,1), (1/6-1/6*x,5/6*x,1), (1/6-1/6*x,5/6*x,0), (4/5-2/5*x,1-4/5*x,1),\n",
    "           (3/4-3/4*x,1/4+1/4*x,0)\n",
    "          ]\n",
    "uniqindices = [i-1 for i in [1,2,3,5,6,9,11,13,17,18,20,21]]"
   ]
  },
  {
   "cell_type": "code",
   "execution_count": 52,
   "metadata": {},
   "outputs": [
    {
     "name": "stdout",
     "output_type": "stream",
     "text": [
      "1 [1/4*x + 1/4, -1/4*x + 1/2, -1/4*x + 1/4, 1/4*x]\n",
      "\n",
      "2 [4/9*x + 2/9, 2/9*x, 2/9*x + 7/9, 1/9*x + 2/3]\n",
      "\n",
      "3 [1/16*x + 5/16, -1/16*x + 7/16, -1/16*x + 11/16, 1/16*x + 9/16]\n",
      "\n",
      "5 [x, -1/4*x + 3/4, -1/4*x + 1/2, 1/16*x + 5/16]\n",
      "\n",
      "6 [9/16*x + 3/16, 3/16*x + 3/16, 3/16*x + 9/16, 1/16*x + 9/16]\n",
      "\n",
      "9 [1/16*x + 3/16, 1/8*x + 1/8, 1/8*x + 3/8, 1/4*x + 1/4]\n",
      "\n",
      "11 [25/144*x + 17/48, -25/144*x + 9/16, -25/144*x + 31/48, 25/144*x + 7/16]\n",
      "\n",
      "13 [1/16*x + 3/16, 3/16*x + 1/16, 3/16*x + 9/16, 9/16*x + 3/16]\n",
      "\n",
      "17 [4/9*x + 2/9, -4/9*x + 2/3, -4/9*x + 4/9, 4/9*x]\n",
      "\n",
      "18 [1/36*x + 5/36, -5/36*x + 1/6, -5/36*x + 5/36, 25/36*x]\n",
      "\n",
      "20 [4/25*x + 12/25, 8/25*x + 2/5, 8/25*x + 9/25, 16/25*x + 1/5]\n",
      "\n",
      "21 [9/16*x + 3/16, -3/16*x + 9/16, -3/16*x + 7/16, 1/16*x + 5/16]\n",
      "\n"
     ]
    }
   ],
   "source": [
    "for i in uniqindices:\n",
    "    f0=ifslist[i][0]\n",
    "    f1=ifslist[i][1]\n",
    "    comps = [f0(f0(x)), f0(f1(x)), f1(f0(x)), f1(f1(x))]\n",
    "    images = [RealSet.closed(ff(x=0),ff(x=1)) for ff in comps]\n",
    "    intersections = [images[i].intersection(images[j]) for i in range(3) for j in range(i+1,4)]\n",
    "    #print(i+1,solve([x<f0(x)],x),solve([x<f1(x)],x),solve([f0(x)<f1(x)],x))\n",
    "    #print(i+1,images, intersections)\n",
    "    print(i+1,comps)\n",
    "    print(\"\")"
   ]
  },
  {
   "cell_type": "code",
   "execution_count": 3,
   "metadata": {
    "tags": []
   },
   "outputs": [
    {
     "name": "stdout",
     "output_type": "stream",
     "text": [
      "1 25/54\n",
      "00 2/3\n",
      "010 13/24\n",
      "0000 9/16\n",
      "00010 33/64\n",
      "000000 129/256\n",
      "000110 129/256\n",
      "0000010 513/1024\n",
      "0001110 513/1024\n",
      "00000110 2049/4096\n",
      "00011110 2049/4096\n",
      "000001110 8193/16384\n",
      "000111110 8193/16384\n",
      "0000011110 32769/65536\n",
      "0001111110 32769/65536\n"
     ]
    }
   ],
   "source": [
    "a = QQ(0.75)\n",
    "f0=a-a*x\n",
    "f1=1/4+1/4*x\n",
    "ifs21_test = (f0.function(x),f1.function(x),23/27) #2/3, 1/4, 23/27 are the exceptional values of x0 (are there more?)\n",
    "list21 = list_probs_ifs(ifs21_test,range(1,11))\n",
    "thing = [print(*s) for s in highest_prob(list21,lengths=\"all\")]"
   ]
  },
  {
   "cell_type": "code",
   "execution_count": 6,
   "metadata": {
    "tags": []
   },
   "outputs": [
    {
     "name": "stdout",
     "output_type": "stream",
     "text": [
      "1 0.250000000000000\n",
      "00 0.187500000000000\n",
      "11 0.312500000000000\n",
      "001 0.296875000000000\n",
      "100 0.328125000000000\n",
      "111 0.328125000000000\n",
      "0000 0.292968750000000\n",
      "0011 0.324218750000000\n",
      "1001 0.332031250000000\n",
      "1111 0.332031250000000\n",
      "00001 0.323242187500000\n",
      "00111 0.331054687500000\n",
      "10011 0.333007812500000\n",
      "11111 0.333007812500000\n",
      "000011 0.330810546875000\n",
      "001111 0.332763671875000\n",
      "100111 0.333251953125000\n",
      "111111 0.333251953125000\n",
      "0000111 0.332702636718750\n",
      "0011111 0.333190917968750\n",
      "1001111 0.333312988281250\n",
      "1111111 0.333312988281250\n",
      "00001111 0.333175659179688\n",
      "00111111 0.333297729492188\n",
      "10011111 0.333328247070312\n",
      "11111111 0.333328247070312\n",
      "000011111 0.333293914794922\n",
      "001111111 0.333324432373047\n",
      "100111111 0.333332061767578\n",
      "111111111 0.333332061767578\n",
      "0000111111 0.333323478698730\n",
      "0011111111 0.333331108093262\n",
      "1001111111 0.333333015441895\n",
      "1111111111 0.333333015441895\n",
      "00001111111 0.333330869674683\n",
      "00111111111 0.333332777023315\n",
      "10011111111 0.333333253860474\n",
      "11111111111 0.333333253860474\n",
      "000011111111 0.333332717418671\n",
      "001111111111 0.333333194255829\n",
      "100111111111 0.333333313465118\n",
      "111111111111 0.333333313465118\n",
      "0000111111111 0.333333179354668\n",
      "0011111111111 0.333333298563957\n",
      "1001111111111 0.333333328366280\n",
      "1111111111111 0.333333328366280\n",
      "00001111111111 0.333333294838667\n",
      "00111111111111 0.333333324640989\n",
      "10011111111111 0.333333332091570\n",
      "11111111111111 0.333333332091570\n",
      "000011111111111 0.333333323709667\n",
      "001111111111111 0.333333331160247\n",
      "100111111111111 0.333333333022892\n",
      "111111111111111 0.333333333022892\n"
     ]
    }
   ],
   "source": [
    "for s in list21:\n",
    "    if s[1] < 1/3:\n",
    "        print(s[0],s[1].n())"
   ]
  },
  {
   "cell_type": "code",
   "execution_count": 23,
   "metadata": {
    "tags": []
   },
   "outputs": [],
   "source": [
    "uniq_prob_defect(list21)"
   ]
  },
  {
   "cell_type": "code",
   "execution_count": 15,
   "metadata": {
    "tags": []
   },
   "outputs": [
    {
     "data": {
      "text/plain": [
       "0.292968750000000"
      ]
     },
     "execution_count": 15,
     "metadata": {},
     "output_type": "execute_result"
    }
   ],
   "source": [
    "accprob_ifs(ifs21_test,\"0000\").n()"
   ]
  },
  {
   "cell_type": "code",
   "execution_count": 17,
   "metadata": {
    "tags": []
   },
   "outputs": [
    {
     "data": {
      "text/plain": [
       "0.530273437500000"
      ]
     },
     "execution_count": 17,
     "metadata": {},
     "output_type": "execute_result"
    }
   ],
   "source": [
    "accprob_ifs(ifs21_test,\"00000\").n()"
   ]
  },
  {
   "cell_type": "code",
   "execution_count": 20,
   "metadata": {
    "tags": []
   },
   "outputs": [
    {
     "data": {
      "text/plain": [
       "0.352294921875000"
      ]
     },
     "execution_count": 20,
     "metadata": {},
     "output_type": "execute_result"
    }
   ],
   "source": [
    "accprob_ifs(ifs21_test,\"000000\").n()"
   ]
  },
  {
   "cell_type": "code",
   "execution_count": 261,
   "metadata": {
    "tags": []
   },
   "outputs": [
    {
     "data": {
      "text/plain": [
       "(x |--> -3/4*x + 1, x |--> 1/4*x + 1/2, 1)"
      ]
     },
     "execution_count": 261,
     "metadata": {},
     "output_type": "execute_result"
    }
   ],
   "source": [
    "pfa2ifs(SW[\"000011\"][0])"
   ]
  },
  {
   "cell_type": "code",
   "execution_count": 320,
   "metadata": {
    "tags": []
   },
   "outputs": [
    {
     "data": {
      "text/plain": [
       "(x |--> -5/6*x + 5/6, x |--> -1/6*x + 1/3, 1)"
      ]
     },
     "execution_count": 320,
     "metadata": {},
     "output_type": "execute_result"
    }
   ],
   "source": [
    "test3 = pfa2ifs(SW[\"00001010\"][2]); test3"
   ]
  },
  {
   "cell_type": "code",
   "execution_count": 286,
   "metadata": {
    "tags": []
   },
   "outputs": [
    {
     "data": {
      "text/plain": [
       "(\n",
       "{'0': [  0   1]                      \n",
       "[5/6 1/6], '1': [1/6 5/6]         [1]\n",
       "[1/3 2/3]}               , [1 0], [0]\n",
       ")"
      ]
     },
     "execution_count": 286,
     "metadata": {},
     "output_type": "execute_result"
    }
   ],
   "source": [
    "SW[\"00001010\"][2]"
   ]
  },
  {
   "cell_type": "code",
   "execution_count": 321,
   "metadata": {
    "tags": []
   },
   "outputs": [
    {
     "name": "stdout",
     "output_type": "stream",
     "text": [
      "1 1/6\n",
      "00 5/6\n",
      "110 125/216\n",
      "0000 155/216\n",
      "11010 4945/7776\n",
      "000010 5095/7776\n",
      "1101010 180245/279936\n",
      "00001010 180995/279936\n",
      "110101010 6499945/10077696\n",
      "0000101010 6503695/10077696\n",
      "11010101010 234053645/362797056\n",
      "000010101010 234072395/362797056\n",
      "1101010101010 8426209345/13060694016\n",
      "00001010101010 8426303095/13060694016\n",
      "110101010101010 303344927045/470184984576\n"
     ]
    }
   ],
   "source": [
    "list3 = list_probs_ifs(test3,range(1,16))\n",
    "thing = [print(*s) for s in highest_prob(list3,lengths=\"all\")]"
   ]
  },
  {
   "cell_type": "code",
   "execution_count": 21,
   "metadata": {},
   "outputs": [
    {
     "name": "stdout",
     "output_type": "stream",
     "text": [
      "10 \t -a*b + a\n",
      "0010 \t a^3*b - a^2*b - a*b + a\n",
      "00010 \t -a^4*b + a^3*b - a^2*b - a*b + a\n",
      "000010 \t a^5*b - a^4*b + a^3*b - a^2*b - a*b + a\n",
      "0000110 \t a^5*b^2 - a^4*b^2 + a^3*b^2 - a^2*b^2 - a*b^2 - a*b + a\n",
      "00001110 \t a^5*b^3 - a^4*b^3 + a^3*b^3 - a^2*b^3 - a*b^3 - a*b^2 - a*b + a\n",
      "000011110 \t a^5*b^4 - a^4*b^4 + a^3*b^4 - a^2*b^4 - a*b^4 - a*b^3 - a*b^2 - a*b + a\n",
      "0000111110 \t a^5*b^5 - a^4*b^5 + a^3*b^5 - a^2*b^5 - a*b^5 - a*b^4 - a*b^3 - a*b^2 - a*b + a\n",
      "00001111110 \t a^5*b^6 - a^4*b^6 + a^3*b^6 - a^2*b^6 - a*b^6 - a*b^5 - a*b^4 - a*b^3 - a*b^2 - a*b + a\n",
      "0000 \t -a^4 + a^3 - a^2 + a\n",
      "0011 \t -a^2*b^2 + a*b^2 + b^2 + b\n",
      "00000 \t a^5 - a^4 + a^3 - a^2 + a\n",
      "000000 \t -a^6 + a^5 - a^4 + a^3 - a^2 + a\n",
      "001 \t -a^2*b + a*b + b\n",
      "0001 \t a^3*b - a^2*b + a*b + b\n",
      "00001 \t -a^4*b + a^3*b - a^2*b + a*b + b\n",
      "000011 \t -a^4*b^2 + a^3*b^2 - a^2*b^2 + a*b^2 + b^2 + b\n",
      "0000111 \t -a^4*b^3 + a^3*b^3 - a^2*b^3 + a*b^3 + b^3 + b^2 + b\n",
      "00001111 \t -a^4*b^4 + a^3*b^4 - a^2*b^4 + a*b^4 + b^4 + b^3 + b^2 + b\n",
      "000001 \t a^5*b - a^4*b + a^3*b - a^2*b + a*b + b\n",
      "0000011 \t a^5*b^2 - a^4*b^2 + a^3*b^2 - a^2*b^2 + a*b^2 + b^2 + b\n"
     ]
    }
   ],
   "source": [
    "a,b=var('a,b')\n",
    "#a=3/4;b=1/4\n",
    "g0=a-a*x\n",
    "g1=b+b*x\n",
    "gifs = (g0.function(x),g1.function(x),0)\n",
    "#for s in (\"000010\",\"0000100\",\"00001000\",\"0000110\",\"0000111\",\"0001100\",\"0000100\",\"0000101\",\"0001110\",\"00001110\",\"00001111\",\"00001100\"):\n",
    "#for s in (\"00\",\"10\",\"01\",\"11\",\"0\",\"00\",\"000\",\"010\",\"0000\",\"0010\",\"00001\",\"000011\",\"000010\",\"0000001\",\"00000010\"):\n",
    "for s in (\"10\",\"0010\",\"00010\",\"000010\",\"0000110\",\"00001110\",\"000011110\",\"0000111110\",\"00001111110\",\n",
    "          \"0000\",\"0011\",\"00000\",\"000000\",\"001\",\"0001\",\"00001\",\"000011\",\"0000111\",\"00001111\",\"000001\",\"0000011\"):\n",
    "    print(s,'\\t',expand(accprob_ifs(gifs,s)))"
   ]
  },
  {
   "cell_type": "code",
   "execution_count": 87,
   "metadata": {
    "tags": []
   },
   "outputs": [
    {
     "data": {
      "text/plain": [
       "(0.187500000000000, 0.750000000000000)"
      ]
     },
     "execution_count": 87,
     "metadata": {},
     "output_type": "execute_result"
    }
   ],
   "source": [
    "N(3/16),N(12/16)"
   ]
  },
  {
   "cell_type": "code",
   "execution_count": 88,
   "metadata": {
    "tags": []
   },
   "outputs": [
    {
     "data": {
      "text/plain": [
       "(0.562500000000000, 0.375000000000000)"
      ]
     },
     "execution_count": 88,
     "metadata": {},
     "output_type": "execute_result"
    }
   ],
   "source": [
    "N(9/16),N(6/16)"
   ]
  },
  {
   "cell_type": "code",
   "execution_count": 89,
   "metadata": {
    "tags": []
   },
   "outputs": [
    {
     "data": {
      "text/plain": [
       "(0.437500000000000, 0.250000000000000)"
      ]
     },
     "execution_count": 89,
     "metadata": {},
     "output_type": "execute_result"
    }
   ],
   "source": [
    "N(7/16),N(4/16)"
   ]
  },
  {
   "cell_type": "code",
   "execution_count": 90,
   "metadata": {
    "tags": []
   },
   "outputs": [
    {
     "data": {
      "text/plain": [
       "(0.312500000000000, 0.375000000000000)"
      ]
     },
     "execution_count": 90,
     "metadata": {},
     "output_type": "execute_result"
    }
   ],
   "source": [
    "N(5/16),N(6/16)"
   ]
  },
  {
   "cell_type": "code",
   "execution_count": 136,
   "metadata": {
    "tags": []
   },
   "outputs": [
    {
     "name": "stdout",
     "output_type": "stream",
     "text": [
      "[b^2 + b, b^3 + b^2 + b, b^4 + b^3 + b^2 + b]\n"
     ]
    }
   ],
   "source": [
    "print([expand(g1(x=g1(x=0))), expand(g1(x=g1(x=g1(x=0)))), expand(g1(x=g1(x=g1(x=g1(x=0)))))])"
   ]
  },
  {
   "cell_type": "code",
   "execution_count": 54,
   "metadata": {},
   "outputs": [],
   "source": [
    "#testmats = bruteforce(2,5);\n",
    "testmats = [];\n",
    "for t in range(5000):\n",
    "    testmats.append(random_PFA(2,200538));\n",
    "#testmatsnew = [];\n",
    "#for mats in testmats:\n",
    "#    for denom in [1000,55,741,892342]:\n",
    "#        testmatsnew.append( (mats, random_stoch_vector(2,denom), matrix([1,0]).transpose() ));"
   ]
  },
  {
   "cell_type": "code",
   "execution_count": 58,
   "metadata": {
    "tags": []
   },
   "outputs": [],
   "source": [
    "uniqnew = finduniques_witness(testmats,lengths=6);"
   ]
  },
  {
   "cell_type": "code",
   "execution_count": 59,
   "metadata": {
    "tags": []
   },
   "outputs": [
    {
     "data": {
      "text/plain": [
       "5000"
      ]
     },
     "execution_count": 59,
     "metadata": {},
     "output_type": "execute_result"
    }
   ],
   "source": [
    "len(uniqnew)"
   ]
  },
  {
   "cell_type": "code",
   "execution_count": 60,
   "metadata": {
    "tags": []
   },
   "outputs": [
    {
     "data": {
      "text/plain": [
       "{('000000', 1),\n",
       " ('000001', 2),\n",
       " ('000010', 2),\n",
       " ('000011', 2),\n",
       " ('000101', 2),\n",
       " ('000110', 2),\n",
       " ('000111', 2),\n",
       " ('001010', 2),\n",
       " ('001110', 2),\n",
       " ('001111', 2),\n",
       " ('010101', 2),\n",
       " ('011110', 2),\n",
       " ('011111', 2),\n",
       " ('100000', 2),\n",
       " ('100001', 2),\n",
       " ('101010', 2),\n",
       " ('110000', 2),\n",
       " ('110001', 2),\n",
       " ('110101', 2),\n",
       " ('111000', 2),\n",
       " ('111001', 2),\n",
       " ('111010', 2),\n",
       " ('111100', 2),\n",
       " ('111101', 2),\n",
       " ('111110', 2),\n",
       " ('111111', 1)}"
      ]
     },
     "execution_count": 60,
     "metadata": {},
     "output_type": "execute_result"
    }
   ],
   "source": [
    "set([(u[1][0],SC[u[1][0]]) for u in uniqnew])"
   ]
  },
  {
   "cell_type": "code",
   "execution_count": null,
   "metadata": {},
   "outputs": [],
   "source": []
  }
 ],
 "metadata": {
  "kernelspec": {
   "display_name": "SageMath 9.3 [conda env:sage]",
   "language": "sage",
   "name": "conda-env-sage-sagemath"
  },
  "language_info": {
   "codemirror_mode": {
    "name": "ipython",
    "version": 3
   },
   "file_extension": ".py",
   "mimetype": "text/x-python",
   "name": "python",
   "nbconvert_exporter": "python",
   "pygments_lexer": "ipython3",
   "version": "3.9.15"
  },
  "toc-autonumbering": false,
  "toc-showcode": true,
  "toc-showmarkdowntxt": false,
  "toc-showtags": false
 },
 "nbformat": 4,
 "nbformat_minor": 4
}
