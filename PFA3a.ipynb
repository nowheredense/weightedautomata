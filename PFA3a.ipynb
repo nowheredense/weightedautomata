{
 "cells": [
  {
   "cell_type": "code",
   "execution_count": 2,
   "metadata": {},
   "outputs": [
    {
     "data": {
      "text/plain": []
     },
     "execution_count": 2,
     "metadata": {},
     "output_type": "execute_result"
    }
   ],
   "source": [
    "import itertools\n",
    "RRR = RealField(100);\n",
    "\n",
    "def accprob(transmatrices,sigma,accept_states):\n",
    "    assert transmatrices[0].nrows() == transmatrices[0].ncols() == transmatrices[1].nrows() == transmatrices[1].ncols() == len(accept_states);\n",
    "    n = transmatrices[0].nrows();\n",
    "    Id = identity_matrix(n);\n",
    "    v = Matrix(Id[0]);\n",
    "    f = Matrix(accept_states).transpose();\n",
    "    \n",
    "    A = v*Id;\n",
    "    for ch in sigma:\n",
    "        assert int(ch) == 0 or int(ch) == 1;\n",
    "        A = A*transmatrices[int(ch)];\n",
    "    A = A*f;\n",
    "    return A[0][0];\n",
    "\n",
    " \n",
    "def probmatrix(transmatrices,sigma):\n",
    "    assert transmatrices[0].nrows() == transmatrices[0].ncols() == transmatrices[1].nrows() == transmatrices[1].ncols();\n",
    "    A = identity_matrix(transmatrices[0].nrows());\n",
    "    for ch in sigma:\n",
    "        assert int(ch) == 0 or int(ch) == 1;\n",
    "        A = A*transmatrices[int(ch)];\n",
    "    return A;\n",
    "    \n",
    "def list_probs(transmatrices,accept_states,upto=11,startfrom=1):\n",
    "    assert transmatrices[0].nrows() == transmatrices[0].ncols() == transmatrices[1].nrows() == transmatrices[1].ncols() == len(accept_states);\n",
    "    n = transmatrices[0].nrows();\n",
    "    Id = identity_matrix(n);\n",
    "    v = Matrix(Id[0]);\n",
    "    f = Matrix(accept_states).transpose();\n",
    "    \n",
    "    problist = []; #list of strings with their acceptance probabilities\n",
    "    for i in range(startfrom,upto):\n",
    "        l = list(itertools.product([0,1],repeat=i));\n",
    "        for st in l:\n",
    "            A = v*Id;\n",
    "            for ch in st:\n",
    "                assert int(ch) == 0 or int(ch) == 1;\n",
    "                A = A*transmatrices[int(ch)];\n",
    "            A = A*f;\n",
    "            problist.append((st,A[0][0]));\n",
    "        \n",
    "    return problist;\n",
    "    \n",
    "#expects a list in exactly the format returned by list_probs. if length>0, only looks at strings of exactly that length\n",
    "def highest_prob(problist,length=0):\n",
    "    assert length >= 0;\n",
    "    if length == 0:\n",
    "        sublist = problist;\n",
    "    elif length > 0:\n",
    "        sublist = [l for l in problist if len(l[0]) == length];\n",
    "    highprob = max([l[1] for l in sublist]);\n",
    "    highstr = [st for st in sublist if st[1] == highprob];\n",
    "    return highstr;\n",
    "    \n",
    "def sortproblist(problist):\n",
    "    return sorted(problist,key=lambda x:x[1],reverse=True);\n",
    "    \n",
    "    \n",
    "#check transition matrices for rows summing to 1\n",
    "def checkmatrices(P):\n",
    "    assert P[0].nrows() == P[0].ncols() == P[1].nrows() == P[1].ncols();\n",
    "    n = P[0].nrows();\n",
    "    \n",
    "    for i in range(2):\n",
    "        for j in range(n):\n",
    "            s = sum(P[i][j]);\n",
    "            if s != 1:\n",
    "                if s > 1:\n",
    "                    relto1 = \" > 1\";\n",
    "                elif s < 1:\n",
    "                    relto1 = \" < 1\";\n",
    "                print \"P\"+str(i)+\" row \"+str(j+1)+\" sum is \"+str(RRR(s))+relto1;\n",
    "                \n",
    "#expects a list in format returned by list_probs; if length>0, only consider strings of that length\n",
    "def checkstd(problist,length=0):\n",
    "    assert length >= 0;\n",
    "    if length == 0:\n",
    "        sublist = problist;\n",
    "    elif length > 0:\n",
    "        sublist = [l for l in problist if len(l[0]) == length];\n",
    "    std_list = stats.std([p[1] for p in sublist]);\n",
    "    high = highest_prob(sublist)[0];\n",
    "    for p in sublist:\n",
    "        if p[0] != high[0]:\n",
    "            diff = high[1] - std_list;\n",
    "            if diff <= p[1]:\n",
    "                print str(high[0])+\" is less than std = \"+str(std_list)+\" from \"+str(p[0])+\" (with prob \"+str(p[1])+\")\";"
   ]
  },
  {
   "cell_type": "code",
   "execution_count": 3,
   "metadata": {},
   "outputs": [
    {
     "data": {
      "text/plain": [
       "[((0, 1), 0.99850100000000000000000000000)]"
      ]
     },
     "execution_count": 3,
     "metadata": {},
     "output_type": "execute_result"
    }
   ],
   "source": [
    "# sigma = 01\n",
    "eps = RRR(.001);\n",
    "#AA01 = [Matrix(RRR,[[eps,1-eps],[0,0]]), Matrix(RRR,[[0,0],[eps,1-eps]])];\n",
    "#AA01 = [Matrix(RRR,[[0,1],[0,0]]), Matrix(RRR,[[0,0],[0,1]])];\n",
    "AA01 = [Matrix(RRR,[[eps,1-eps],[.5,.5]]), Matrix(RRR,[[.5,.5],[eps,1-eps]])];\n",
    "checkmatrices(AA01)\n",
    "\n",
    "l = list_probs(AA01,upto=6);\n",
    "print highest_prob(l,2)"
   ]
  },
  {
   "cell_type": "code",
   "execution_count": 4,
   "metadata": {},
   "outputs": [
    {
     "data": {
      "text/plain": [
       "[((0, 0, 1), 0.99999982500001999999900000000)]"
      ]
     },
     "execution_count": 4,
     "metadata": {},
     "output_type": "execute_result"
    }
   ],
   "source": [
    "# sigma = 001\n",
    "eps = RRR(.0000001);\n",
    "AA001 = [Matrix(RRR,[[1-eps,eps],[.5,.5]]), Matrix(RRR,[[eps,1-eps],[.5,.5]])];\n",
    "checkmatrices(AA001)\n",
    "\n",
    "l2 = list_probs(AA001,upto=9);\n",
    "print highest_prob(l2,3)"
   ]
  },
  {
   "cell_type": "code",
   "execution_count": 10,
   "metadata": {},
   "outputs": [
    {
     "data": {
      "text/plain": [
       "(0, 0, 1) is less than std = 0.32732673715595051322979025720 from (1, 0, 1) (with prob 0.74999997499999000000100000000)\n",
       "(0, 0, 1) is less than std = 0.32732673715595051322979025720 from (1, 1, 1) (with prob 0.74999992500000999999900000000)"
      ]
     },
     "execution_count": 10,
     "metadata": {},
     "output_type": "execute_result"
    }
   ],
   "source": [
    "checkstd(l2,3)"
   ]
  },
  {
   "cell_type": "code",
   "execution_count": 9,
   "metadata": {},
   "outputs": [
    {
     "data": {
      "text/plain": [
       "(0, 0, 1) is less than std = 0.31763103428978724401977571436 from (1, 0, 1) (with prob 0.74740100000000000000000000000)\n",
       "(0, 0, 1) is less than std = 0.31763103428978724401977571436 from (1, 1, 1) (with prob 0.74259900000000000000000000000)"
      ]
     },
     "execution_count": 9,
     "metadata": {},
     "output_type": "execute_result"
    }
   ],
   "source": [
    "l2_len3 = [p for p in l2 if len(p[0]) == 3];\n",
    "std_len3 = stats.std([p[1] for p in l2_len3]);\n",
    "highlen3 = highest_prob(l2_len3)[0];\n",
    "for p in l2_len3:\n",
    "    if p[0] != highlen3[0]:\n",
    "        diff = highlen3[1] - std_len3;\n",
    "        if diff <= p[1]:\n",
    "            print str(highlen3[0])+\" is less than std = \"+str(std_len3)+\" from \"+str(p[0])+\" (with prob \"+str(p[1])+\")\";"
   ]
  },
  {
   "cell_type": "code",
   "execution_count": 11,
   "metadata": {},
   "outputs": [
    {
     "data": {
      "text/plain": []
     },
     "execution_count": 11,
     "metadata": {},
     "output_type": "execute_result"
    }
   ],
   "source": [
    "checkstd(l2,2)"
   ]
  },
  {
   "cell_type": "code",
   "execution_count": 5,
   "metadata": {},
   "outputs": [
    {
     "data": {
      "text/plain": [
       "[((0, 0, 0, 0, 0, 0, 0, 1), 0.98045731947170510000000000000)]"
      ]
     },
     "execution_count": 5,
     "metadata": {},
     "output_type": "execute_result"
    }
   ],
   "source": [
    "print highest_prob(l2,8)"
   ]
  },
  {
   "cell_type": "code",
   "execution_count": 6,
   "metadata": {},
   "outputs": [
    {
     "data": {
      "text/plain": [
       "[((0, 1, 1, 0, 1), 750275851777/810000000000)]"
      ]
     },
     "execution_count": 6,
     "metadata": {},
     "output_type": "execute_result"
    }
   ],
   "source": [
    "# sigma = 01101\n",
    "eps = QQ(.01);\n",
    "AA3 = [Matrix(QQ,[[eps,1-2*eps,eps],[eps,eps,1-2*eps],[1/3,1/3,1/3]]), Matrix(QQ,[[1/3,1/3,1/3],[eps,1-2*eps,eps],[1-2*eps,eps,eps]])];\n",
    "checkmatrices(AA3)\n",
    "\n",
    "l3 = list_probs(AA3,upto=9,halt_last=False);\n",
    "print highest_prob(l3,5)"
   ]
  },
  {
   "cell_type": "code",
   "execution_count": 12,
   "metadata": {},
   "outputs": [
    {
     "data": {
      "text/plain": []
     },
     "execution_count": 12,
     "metadata": {},
     "output_type": "execute_result"
    }
   ],
   "source": [
    "checkstd(l3,5)"
   ]
  },
  {
   "cell_type": "code",
   "execution_count": 7,
   "metadata": {},
   "outputs": [
    {
     "data": {
      "text/plain": [
       "[((1, 0, 1, 0, 1), 5249999967500000199999991/13500000000000000000000000)]"
      ]
     },
     "execution_count": 7,
     "metadata": {},
     "output_type": "execute_result"
    }
   ],
   "source": [
    "# sigma = 01101, converting an NFA\n",
    "eps = QQ(.00000001);\n",
    "#[(1-eps)/2,eps,(1-eps)/2]\n",
    "#AA4 = [Matrix(QQ,[[eps,1-2*eps,eps],[1/3,1/3,1/3],[eps,1-2*eps,eps]]), Matrix(QQ,[[1/3,1/3,1/3],[1-eps,2*eps,1-eps],[eps,eps,1-2*eps]])];\n",
    "AA4 = [Matrix(QQ,[[1/3-eps,1/3+2*eps,1/3-eps],[1/3,1/3,1/3],[1/3-eps,1/3+2*eps,1/3-eps]]), Matrix(QQ,[[1/3,1/3,1/3],[(1-eps)/2,eps,(1-eps)/2],[1/3-eps,1/3-eps,1/3+2*eps]])];\n",
    "checkmatrices(AA4)\n",
    "\n",
    "l4 = list_probs(AA4,upto=9,halt_last=False);\n",
    "print highest_prob(l4,5)"
   ]
  },
  {
   "cell_type": "code",
   "execution_count": 8,
   "metadata": {},
   "outputs": [
    {
     "data": {
      "text/plain": [
       "[((0, 1, 1, 0, 1), (1))]"
      ]
     },
     "execution_count": 8,
     "metadata": {},
     "output_type": "execute_result"
    }
   ],
   "source": [
    "# NFA for sigma = 01101\n",
    "AA4_NFA = [Matrix([[0,1,0],[0,0,0],[0,1,0]]), Matrix([[0,0,0],[1,0,1],[0,0,1]])];\n",
    "\n",
    "l4_nfa = list_probs(AA4_NFA,[1,0,0],upto=9);\n",
    "print highest_prob(l4_nfa,5)"
   ]
  },
  {
   "cell_type": "code",
   "execution_count": 15,
   "metadata": {},
   "outputs": [
    {
     "data": {
      "text/plain": [
       "P0 row 2 sum is 0.99700000000000000000000000000 < 1\n",
       "P1 row 1 sum is 0.99700000000000000000000000000 < 1\n",
       "[((0, 1, 1, 0, 1), 26597295404239/81000000000000)]"
      ]
     },
     "execution_count": 15,
     "metadata": {},
     "output_type": "execute_result"
    }
   ],
   "source": [
    "# trying to convert leaving 0 rows\n",
    "eps = QQ(.001); #.0001 fails!\n",
    "#AA4_zeros = [Matrix(RRR,[[eps,1-2*eps,eps],[0,0,0],[eps,1-2*eps,eps]]), Matrix(RRR,[[0,0,0],[1-eps,2*eps,1-eps],[eps,eps,1-2*eps]])];\n",
    "#AA4_zeros = [Matrix(RRR,[[1/3-eps,1/3+2*eps,1/3-eps],[0,0,0],[1/3-eps,1/3+2*eps,1/3-eps]]), Matrix(RRR,[[0,0,0],[(1-eps)/2,eps,(1-eps)/2],[1/3-eps,1/3-eps,1/3+2*eps]])];\n",
    "#AA4_zeros = [Matrix(QQ,[[1/4,1/2,1/4],[0,0,0],[1/4,1/2,1/4]]), Matrix(QQ,[[0,0,0],[3/8,1/4,3/8],[1/4,1/4,1/2]])];\n",
    "AA4_zeros = [Matrix(QQ,[[1/4,1/2,1/4],[1/3-eps,1/3-eps,1/3-eps],[1/4,1/2,1/4]]), Matrix(QQ,[[1/3-eps,1/3-eps,1/3-eps],[3/8,1/4,3/8],[1/4,1/4,1/2]])];\n",
    "checkmatrices(AA4_zeros)\n",
    "\n",
    "l4_zeros = list_probs(AA4_zeros,upto=9,halt_last=False);\n",
    "print highest_prob(l4_zeros,5)"
   ]
  },
  {
   "cell_type": "code",
   "execution_count": 13,
   "metadata": {},
   "outputs": [
    {
     "data": {
      "text/plain": []
     },
     "execution_count": 13,
     "metadata": {},
     "output_type": "execute_result"
    }
   ],
   "source": [
    "#sortproblist([p for p in l4_zeros if len(p[0]) == 5])"
   ]
  },
  {
   "cell_type": "code",
   "execution_count": 14,
   "metadata": {},
   "outputs": [
    {
     "data": {
      "text/plain": [
       "0.010253906250000000000000000000"
      ]
     },
     "execution_count": 14,
     "metadata": {},
     "output_type": "execute_result"
    }
   ],
   "source": [
    "RRR(3/32-171/2048)"
   ]
  },
  {
   "cell_type": "code",
   "execution_count": 16,
   "metadata": {},
   "outputs": [
    {
     "data": {
      "text/plain": []
     },
     "execution_count": 16,
     "metadata": {},
     "output_type": "execute_result"
    }
   ],
   "source": [
    "#checkstd(l4_zeros,5)"
   ]
  },
  {
   "cell_type": "code",
   "execution_count": 17,
   "metadata": {},
   "outputs": [
    {
     "data": {
      "text/plain": [
       "[((1, 0, 0, 1, 0, 1, 0), (1))]"
      ]
     },
     "execution_count": 17,
     "metadata": {},
     "output_type": "execute_result"
    }
   ],
   "source": [
    "# NFA for sigma=1001010\n",
    "AA5_NFA = [Matrix([[0,0,0,0],[1,0,1,0],[0,0,0,1],[0,0,1,0]]), Matrix([[0,1,0,0],[0,0,0,0],[0,1,0,0],[0,0,0,1]])];\n",
    "\n",
    "l5_nfa = list_probs(AA5_NFA,[1,0,0,0],startfrom=7,upto=8);\n",
    "print highest_prob(l5_nfa)"
   ]
  },
  {
   "cell_type": "code",
   "execution_count": 18,
   "metadata": {},
   "outputs": [
    {
     "data": {
      "text/plain": [
       "P0 row 1 sum is 0.99600000000000000000000000000 < 1\n",
       "P1 row 1 sum is 1.0000000000000000000000000000 < 1\n",
       "P1 row 2 sum is 0.99600000000000000000000000000 < 1\n",
       "P1 row 3 sum is 1.0000000000000000000000000000 < 1\n",
       "[((1, 0, 0, 1, 0, 1, 0), 0.26418663039191702390306355738)]"
      ]
     },
     "execution_count": 18,
     "metadata": {},
     "output_type": "execute_result"
    }
   ],
   "source": [
    "#AA5_zeros = [Matrix(RRR,[[0,0,0,0],[3/8,1/8,3/8,1/8],[1/12,1/12,1/12,3/4],[1/12,1/12,3/4,1/12]]), Matrix(RRR,[[1/12,3/4,1/12,1/12],[0,0,0,0],[1/12,3/4,1/12,1/12],[1/12,1/12,1/12,3/4]])];\n",
    "\n",
    "eps = RRR(.001);\n",
    "AA5_zeros = [Matrix(RRR,[[1/4-eps,1/4-eps,1/4-eps,1/4-eps],[3/8,1/8,3/8,1/8],[1/12,1/12,1/12,3/4],[1/12,1/12,3/4,1/12]]), Matrix(RRR,[[1/12,3/4,1/12,1/12],[1/4-eps,1/4-eps,1/4-eps,1/4-eps],[1/12,3/4,1/12,1/12],[1/12,1/12,1/12,3/4]])];\n",
    "\n",
    "checkmatrices(AA5_zeros)\n",
    "\n",
    "l5_zeros = list_probs(AA5_zeros,startfrom=7,upto=8,halt_last=False);\n",
    "print highest_prob(l5_zeros)"
   ]
  },
  {
   "cell_type": "code",
   "execution_count": 19,
   "metadata": {},
   "outputs": [
    {
     "data": {
      "text/plain": [
       "[((0, 0, 0, 0, 0, 0, 1, 0, 0, 0), (1))]"
      ]
     },
     "execution_count": 19,
     "metadata": {},
     "output_type": "execute_result"
    }
   ],
   "source": [
    "# sigma = 0^610^3 NFA\n",
    "AA6_NFA = [Matrix([[0,1,0,0,0],[0,0,1,0,0],[0,0,0,1,0],[1,0,0,0,1],[0,0,0,0,1]]), Matrix([[0,0,0,0,0],[0,0,0,0,0],[0,0,0,0,0],[0,0,0,0,0],[0,0,1,0,0]])]\n",
    "\n",
    "#AA6_NFA = [Matrix([[0,1,0,0,0],[0,0,1,0,0],[0,0,0,1,0],[.5,0,0,0,.5],[0,0,0,0,1]]), Matrix([[.2,.2,.2,.2,.2],[.2,.2,.2,.2,.2],[.2,.2,.2,.2,.2],[.2,.2,.2,.2,.2],[0,0,1,0,0]])]\n",
    "\n",
    "l6_nfa = list_probs(AA6_NFA,[0,1,0,0,0],startfrom=10,upto=11);\n",
    "print highest_prob(l6_nfa)"
   ]
  },
  {
   "cell_type": "code",
   "execution_count": 20,
   "metadata": {},
   "outputs": [
    {
     "data": {
      "text/plain": [
       "P1 row 1 sum is 0.00000000000000000000000000000 < 1\n",
       "P1 row 2 sum is 0.00000000000000000000000000000 < 1\n",
       "P1 row 3 sum is 0.00000000000000000000000000000 < 1\n",
       "P1 row 4 sum is 0.00000000000000000000000000000 < 1\n",
       "[((0, 0, 0, 0, 0, 0, 1, 0, 0, 0), 0.209441250924369)]"
      ]
     },
     "execution_count": 20,
     "metadata": {},
     "output_type": "execute_result"
    }
   ],
   "source": [
    "eps4 = .01;\n",
    "#eps3 = .01;\n",
    "eps3 = eps4;\n",
    "#AA6_zeros = [Matrix(QQ,[[1/6,1/3,1/6,1/6,1/6],[1/6,1/6,1/3,1/6,1/6],[1/6,1/6,1/6,1/3,1/6],[1/3,1/9,1/9,1/9,1/3],[1/6,1/6,1/6,1/6,1/3]]), Matrix(QQ,[[0,0,0,0,0],[0,0,0,0,0],[0,0,0,0,0],[0,0,0,0,0],[1/6,1/6,1/3,1/6,1/6]])];\n",
    "AA6_zeros = [Matrix(RR,[[eps4,1-4*eps4,eps4,eps4,eps4],[eps4,eps4,1-4*eps4,eps4,eps4],[eps4,eps4,eps4,1-4*eps4,eps4],[(1-3*eps3)/2,eps3,eps3,eps3,(1-3*eps3)/2],[eps4,eps4,eps4,eps4,1-4*eps4]]), Matrix(RR,[[0,0,0,0,0],[0,0,0,0,0],[0,0,0,0,0],[0,0,0,0,0],[eps4,eps4,1-4*eps4,eps4,eps4]])];\n",
    "checkmatrices(AA6_zeros)\n",
    "\n",
    "l6_zeros = list_probs(AA6_zeros,[0,1,0,0,0],startfrom=10,upto=11);\n",
    "print highest_prob(l6_zeros)"
   ]
  },
  {
   "cell_type": "code",
   "execution_count": 21,
   "metadata": {},
   "outputs": [
    {
     "data": {
      "text/plain": []
     },
     "execution_count": 21,
     "metadata": {},
     "output_type": "execute_result"
    }
   ],
   "source": []
  }
 ],
 "metadata": {
  "kernelspec": {
   "display_name": "SageMath 9.4",
   "language": "sage",
   "name": "sagemath"
  },
  "language": "python",
  "language_info": {
   "codemirror_mode": {
    "name": "ipython",
    "version": 3
   },
   "file_extension": ".py",
   "mimetype": "text/x-python",
   "name": "python",
   "nbconvert_exporter": "python",
   "pygments_lexer": "ipython3",
   "version": "3.9.5"
  }
 },
 "nbformat": 4,
 "nbformat_minor": 4
}
