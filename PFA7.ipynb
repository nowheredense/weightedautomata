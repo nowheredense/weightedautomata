{
 "cells": [
  {
   "cell_type": "code",
   "execution_count": 1,
   "metadata": {
    "jupyter": {
     "source_hidden": true
    },
    "tags": []
   },
   "outputs": [],
   "source": [
    "import itertools\n",
    "import numpy\n",
    "import urllib,json\n",
    "import pickle\n",
    "import sys,trace\n",
    "import multiprocessing\n",
    "\n",
    "RRR = RealField(100);\n",
    "eps = var('eps');\n",
    "\n",
    "#stolen from https://ask.sagemath.org/question/8390/creating-an-array-of-variables/\n",
    "class VariableGenerator(object):\n",
    "     def __init__(self, prefix): \n",
    "         self.__prefix = prefix \n",
    "     @cached_method \n",
    "     def __getitem__(self, key): \n",
    "         return SR.var(\"%s%s\"%(self.__prefix,key))\n",
    "\n",
    "#object: what to dump; name: string without \".pickle\"\n",
    "def pickletofile(object,name):\n",
    "    thefile = open(name+\".pickle\",'wb');\n",
    "    pickle.dump(object,thefile);\n",
    "    thefile.close();\n",
    "    return\n",
    "\n",
    "#filename: string without \".pickle\"\n",
    "def unpicklefile(filename):\n",
    "    thefile = open(filename+\".pickle\",'rb');\n",
    "    theobj = pickle.load(thefile);\n",
    "    thefile.close();\n",
    "    return theobj\n",
    "\n",
    "def savewits():\n",
    "    pickletofile(SC,\"stoch_complexity\");\n",
    "    pickletofile(SW,\"witnesses\");\n",
    "    return;\n",
    "\n",
    "#NOTE: use dictionary NC for strings of length 2 through 10.\n",
    "#expects sigma to be an array/list, like usual\n",
    "def nfacomplexity(sigma):\n",
    "    theurl = \"http://math.hawaii.edu/~bjoern/complexity-api/?string=\"+''.join(str(ch) for ch in sigma);\n",
    "    response = urllib.request.urlopen(theurl);\n",
    "    data = json.loads(response.read());\n",
    "    return int(data.get('complexity'))\n",
    "\n",
    "#returns bit flip of a string (given as a tuple)\n",
    "def flip(sigma):\n",
    "    l = [];\n",
    "    for ch in sigma:\n",
    "        l.append(1-ch);\n",
    "    return tuple(l)\n",
    "\n",
    "#flips every string in an iterable, returns a Set\n",
    "def flipset(strings):\n",
    "    theset = [];\n",
    "    for s in strings:\n",
    "        theset.append(flip(s));\n",
    "    return Set(theset)\n",
    "\n",
    "#switches the order of a pair of matrices\n",
    "def switchmats(matpair):\n",
    "    return {0: matpair[1], 1: matpair[0]}\n",
    "\n",
    "#utility function: convert everything in an iterable to a tuple.\n",
    "#returns a tuple\n",
    "def maketuple(iterable):\n",
    "    newit = [];\n",
    "    for i in iterable:\n",
    "        newit.append(tuple(i));\n",
    "    return tuple(newit);\n",
    "\n",
    "#return True iff NFA complexity of sigma is maximal\n",
    "def isNFArand(sigma):\n",
    "    assert sigma in NC.keys();\n",
    "    return (NC[sigma] == floor(len(sigma)/2)+1);\n",
    "\n",
    "#return True iff sigma uses at least nlett different letters\n",
    "def usesletters(sigma,nlett):\n",
    "    return (len(set(sigma)) >= nlett);\n",
    "\n",
    "#returns \"0.string\" in base m. string should be a list or tuple\n",
    "def madic_expansion(string, m):\n",
    "    value = 0;\n",
    "    counter = 0;\n",
    "    while counter < len(string):\n",
    "        assert string[counter] < m; #should actually be an m-adic string\n",
    "        value = value + string[counter]*1/(m^(counter+1));\n",
    "        counter = counter + 1;\n",
    "    return value;\n",
    "\n",
    "#return image of string under a homomorphism homo\n",
    "#homo should be a dictionary {letter:image}; string a list or tuple\n",
    "def homo_image(homo,string):\n",
    "    image = [];\n",
    "    for ch in string:\n",
    "        assert ch in homo.keys(); #string should be in the domain of the homomorphism\n",
    "        image = image + list(homo[ch]);\n",
    "    return tuple(image);\n",
    "\n",
    "#expects start_states & accept_states to be lists\n",
    "#transmatrices should be a dictionary. Its keys will be interpreted\n",
    "#as letters of the input alphabet for the PFA\n",
    "def accprob(transmatrices,sigma,start_states=None,accept_states=None):\n",
    "    alph = list(transmatrices.keys());\n",
    "    assert len(alph)>0;\n",
    "    n = transmatrices[alph[0]].nrows();\n",
    "    Id = identity_matrix(n);\n",
    "    if start_states == None:\n",
    "        v = Matrix(Id[0]);\n",
    "    else:\n",
    "        v = Matrix(start_states);\n",
    "    if accept_states == None:\n",
    "        f = Matrix(Id[n-1]).transpose();\n",
    "    else:\n",
    "        f = Matrix(accept_states).transpose();\n",
    "    return accprob_vector(transmatrices,sigma,v,f);\n",
    "    #A = v*Id;\n",
    "    #for ch in sigma:\n",
    "    #    assert ch in alph;\n",
    "    #    A = A*transmatrices[ch];\n",
    "    #A = A*f;\n",
    "    #return A[0][0];\n",
    "\n",
    "#expects start_states & accept_states to be matrices already\n",
    "def accprob_vector(transmatrices,sigma,start_states,accept_states):\n",
    "    A = start_states*probmatrix(transmatrices,sigma)*accept_states;\n",
    "    return A[0][0];\n",
    "\n",
    "#expects a PFA given as a \"witness\" tuple consisting of (matrixdict, start_states, accept_states)\n",
    "def accprob_witness(thePFA,sigma):\n",
    "    return accprob_vector(thePFA[0],sigma,thePFA[1],thePFA[2]);\n",
    " \n",
    "#return transition probability matrix for the string sigma\n",
    "#transmatrices is a matrix dict giving the trans matrices for each letter\n",
    "def probmatrix(transmatrices,sigma):\n",
    "    alph = list(transmatrices.keys());\n",
    "    A = identity_matrix(transmatrices[alph[0]].nrows());\n",
    "    for ch in sigma:\n",
    "        assert ch in alph;\n",
    "        A = A*transmatrices[ch];\n",
    "    return A;\n",
    "\n",
    "#lengths can be either an integer or a list\n",
    "#return a list of pairs (string, accprob) for all strings of len in lengths.\n",
    "#transmatrices should be a dictionary, {letter:transmatrix}\n",
    "def list_probs(transmatrices,start_states=None,accept_states=None,lengths=range(1,5)): \n",
    "    alph = list(transmatrices.keys());\n",
    "    assert len(alph)>0;\n",
    "    n = transmatrices[alph[0]].nrows();\n",
    "    Id = identity_matrix(n);\n",
    "    if start_states == None:\n",
    "        v = Matrix(Id[0]);\n",
    "    else:\n",
    "        v = Matrix(start_states);\n",
    "    if accept_states == None:\n",
    "        f = Matrix(Id[n-1]).transpose();\n",
    "    else:\n",
    "        f = Matrix(accept_states).transpose();\n",
    "    #if lengths is just a single integer, make it into a list\n",
    "    if isinstance(lengths,sage.rings.integer.Integer):\n",
    "        lenlist = [lengths];\n",
    "    else:\n",
    "        lenlist = lengths;\n",
    "    \n",
    "    problist = []; #list of strings with their acceptance probabilities\n",
    "    for i in lenlist:\n",
    "        l = list(itertools.product(alph,repeat=i));\n",
    "        for st in l:\n",
    "            A = v*Id;\n",
    "            for ch in st:\n",
    "                assert ch in alph;\n",
    "                A = A*transmatrices[ch];\n",
    "            A = A*f;\n",
    "            problist.append((st,A[0][0]));\n",
    "        \n",
    "    return problist;\n",
    "\n",
    "#expects to be passed a \"witness\" tuple, as from SW\n",
    "def list_probs_witness(witness,lengths=range(1,5)):\n",
    "    return list_probs(witness[0],witness[1].list(),witness[2].list(),lengths);\n",
    "\n",
    "#pass a list of binary strings to test, instead of a range\n",
    "def list_probs_fromwords(transmatrices,start_states,accept_states,words=None):\n",
    "    alph = list(transmatrices.keys());\n",
    "    n = transmatrices[alph[0]].nrows();\n",
    "    Id = identity_matrix(n);\n",
    "    v = Matrix(start_states);\n",
    "    f = Matrix(accept_states).transpose();\n",
    "    if words == None:\n",
    "        words = list(itertools.product(alph,repeat=11));\n",
    "    \n",
    "    problist = []; #list of strings with their acceptance probabilities\n",
    "    for st in words:\n",
    "        A = v*Id;\n",
    "        for ch in st:\n",
    "            assert ch in alph;\n",
    "            A = A*transmatrices[ch];\n",
    "        A = A*f;\n",
    "        problist.append((st,A[0][0]));\n",
    "        \n",
    "    return problist;\n",
    "\n",
    "#expects a list in exactly the format returned by list_probs. if length>0, only looks at strings of exactly that length\n",
    "def highest_prob(problist,length=0):\n",
    "    assert length >= 0;\n",
    "    if length == 0:\n",
    "        sublist = problist;\n",
    "    elif length > 0:\n",
    "        sublist = [l for l in problist if len(l[0]) == length];\n",
    "    highprob = max([l[1] for l in sublist]);\n",
    "    highstr = [st for st in sublist if st[1] == highprob];\n",
    "    return highstr;\n",
    "    \n",
    "def sortproblist(problist):\n",
    "    return sorted(problist,key=lambda x:x[1],reverse=True);\n",
    "    \n",
    "#check transition matrices for rows summing to 1\n",
    "#P should be a dictionary of matrices\n",
    "def checkmatrices(P):\n",
    "    alph = list(transmatrices.keys());\n",
    "    n = P[keys[0]].nrows();\n",
    "    \n",
    "    for i in keys:\n",
    "        for j in range(n):\n",
    "            s = sum(P[i][j]);\n",
    "            if s != 1:\n",
    "                if s > 1: relto1 = \" > 1\";\n",
    "                elif s < 1: relto1 = \" < 1\";\n",
    "                print(\"P\"+str(i)+\" row \"+str(j+1)+\" sum is \"+str(RRR(s))+relto1);"
   ]
  },
  {
   "cell_type": "code",
   "execution_count": 2,
   "metadata": {
    "jupyter": {
     "source_hidden": true
    },
    "tags": []
   },
   "outputs": [],
   "source": [
    "#given list of row vectors and alphabet, returns all possible PFAs (matrix dicts) using those rows.\n",
    "#vecs = list of vectors (which should be tuples!)\n",
    "#if makerational=True, make all the matrices in the end over QQ. Don't bother otherwise\n",
    "def bruteforcevecs(vecs,alph=range(2),permute=True,info=False,makerational=True):\n",
    "    nstates = len(vecs[0]);\n",
    "    mats = Tuples(vecs,nstates);\n",
    "    #now convert every single element of mats to a tuple (immutable)\n",
    "    tmats = maketuple(mats);\n",
    "    if info: print(str(len(tmats))+\" matrices\");\n",
    "    #tmats = pool of possible matrices to pull from. Now build all\n",
    "    #possible dictionaries with alph as keys.\n",
    "    numletters = len(alph);\n",
    "    if permute:\n",
    "        mats2 = list(Tuples(tmats,numletters));\n",
    "    else:\n",
    "        mats2 = list(itertools.combinations(tmats,numletters));\n",
    "    if info: print(str(len(mats2))+\" matrix tuples\");\n",
    "    Pnew = []; #will be list of matrix dicts\n",
    "    for P in mats2:\n",
    "        newdict = {}; #we'll add to this a matrix for each letter, in order of appearance in P\n",
    "        if makerational:\n",
    "            for i in range(len(alph)):\n",
    "                newdict.update({alph[i]:Matrix(QQ,P[i])});\n",
    "        else:\n",
    "            for i in range(len(alph)):\n",
    "                newdict.update({alph[i]:Matrix(P[i])});\n",
    "        Pnew.append(newdict);\n",
    "    return Pnew;\n",
    "\n",
    "#return list of dictionaries of nstates x nstates matrices, over\n",
    "#the alphabet alph (which should be a list or tuple).\n",
    "#(1/step) will be the increment of transition probabilities\n",
    "#if permute=False, don't include (a) all ways to order a\n",
    "#tuple of matrices; (b) tuples where any two mats are the same.\n",
    "#if info=True, print sizes of stuff along the way\n",
    "#if prec>0, make the entries have precision prec. If prec=0, they're in QQ\n",
    "def bruteforce(nstates,step,alph=range(2),permute=True,info=False,prec=0):\n",
    "    assert(prec >= 0);\n",
    "    linit = Compositions(nstates+step,length=nstates);\n",
    "    if info: print(str(len(linit))+\" partitions\");\n",
    "    #lrows = [ [0]*nstates ];\n",
    "    lrows = []; #not including rows of all 0s anymore\n",
    "    if prec > 0:\n",
    "        RRp = RealField(prec);\n",
    "    for t in linit:\n",
    "        r = []; #do arithmetic on t by hand\n",
    "        for i in t:\n",
    "            if prec == 0:\n",
    "                r.append(QQ(i-1)/step);\n",
    "            else:\n",
    "                r.append(RRp(i-1)/step);\n",
    "        lrows.append(tuple(r));\n",
    "    trows = tuple(lrows);\n",
    "    if info: print(str(len(trows))+\" rows\");\n",
    "    return bruteforcevecs(trows,alph,permute,info,(prec==0));\n",
    "\n",
    "#do bruteforce() algo using only the given list of transition probabilities as entries\n",
    "#if oneminus=True: if a probability p is present but not 1-p, then 1-p will automatically be added\n",
    "#if useeps=True, the matrices will just be over SR. Automatically overrides makerational to False.\n",
    "#if makerational=True, convert all given probs to rationals\n",
    "def bruteforceprobs(nstates,probs,alph=range(2),permute=True,info=False,useeps=False,makerational=True,oneminus=True):\n",
    "    for p in probs:\n",
    "        if p<0 or p>1:\n",
    "            probs.remove(p);\n",
    "    if makerational and not useeps:\n",
    "        pro_list = [];\n",
    "        for p in probs:\n",
    "            pro_list.append(QQ(p));\n",
    "        if oneminus:\n",
    "            for p in pro_list:\n",
    "                if pro_list.count(1-p) == 0:\n",
    "                    pro_list.append(QQ(1-p));\n",
    "        pro = tuple(pro_list);\n",
    "    else:\n",
    "        pro_list = copy(probs);\n",
    "        if oneminus:\n",
    "            for p in pro_list:\n",
    "                if pro_list.count(1-p) == 0:\n",
    "                    pro_list.append(1-p);\n",
    "        pro = tuple(pro_list);\n",
    "    if info: print(str(len(pro))+\" possible entries\");\n",
    "    lrowsall = Tuples(pro,nstates).list();\n",
    "    lrows = [];\n",
    "    for r in lrowsall:\n",
    "        s = sum(r);\n",
    "        if s == 1: lrows.append(r);\n",
    "    if info: print(str(len(lrows))+\" rows\");\n",
    "    trows = maketuple(lrows);\n",
    "    if not useeps:\n",
    "        return bruteforcevecs(trows,alph,permute,info,makerational);\n",
    "    else:\n",
    "        return bruteforcevecs(trows,alph,permute,info,False);\n",
    "\n",
    "#expects a list of dictionaries of matrices as returned by bruteforce()\n",
    "#strlen = length of strings to try, accept_states = vector (list)\n",
    "def finduniques(matslist,strlen,start_states=None,accept_states=None):\n",
    "    alph = list(matslist[0].keys());\n",
    "    n = matslist[0][alph[0]].nrows();\n",
    "    uniques = [];\n",
    "    if start_states == None:\n",
    "        start_states = list(identity_matrix(n)[0]);\n",
    "    if accept_states == None:\n",
    "        accept_states = list(identity_matrix(n)[n-1]);\n",
    "    words = list(itertools.product(alph,repeat=strlen));\n",
    "    for P in matslist:\n",
    "        probs = list_probs_fromwords(P,start_states,accept_states,words);\n",
    "        high = highest_prob(probs);\n",
    "        if len(high) == 1:\n",
    "            uniques.append([P,high[0]]);\n",
    "    return uniques;"
   ]
  },
  {
   "cell_type": "code",
   "execution_count": 3,
   "metadata": {
    "jupyter": {
     "source_hidden": true
    },
    "tags": []
   },
   "outputs": [],
   "source": [
    "#updates PFA complexities and adds new witnesses to SW\n",
    "#uniqlist should be in the format output by finduniques()\n",
    "#ASSUMES ALL MATRICES IN uniqlist ARE OF THE SAME SIZE!!!!!\n",
    "#specify the _same_ list of accept states for all of them.\n",
    "#return number of new witnesses added\n",
    "def addwits(uniqlist,start_states=None,accept_states=None):\n",
    "    alph = list(uniqlist[0][0].keys());\n",
    "    n = uniqlist[0][0][alph[0]].nrows();\n",
    "    count = 0;\n",
    "    if start_states == None:\n",
    "        v = Matrix(identity_matrix(n)[0]);\n",
    "    else:\n",
    "        v = Matrix(start_states);\n",
    "    if accept_states == None:\n",
    "        f = Matrix(identity_matrix(n)[n-1]).transpose();\n",
    "    else:\n",
    "        f = Matrix(accept_states).transpose();\n",
    "    for u in uniqlist:\n",
    "        s = u[1][0];\n",
    "        count = count + addonewit(u[0],s,start_states,accept_states);\n",
    "    return count;\n",
    "\n",
    "#like addwits(), but only adds if there isn't a witness yet for\n",
    "#each particular string\n",
    "#uniqlist should be in the format output by finduniques()\n",
    "#ASSUMES ALL MATRICES IN uniqlist ARE OF THE SAME SIZE!!!!!\n",
    "#specify the _same_ list of accept states for all of them.\n",
    "#return number of new witnesses added\n",
    "def addwitsnew(uniqlist,start_states=None,accept_states=None):\n",
    "    alph = list(uniqlist[0][0].keys());\n",
    "    n = uniqlist[0][0][alph[0]].nrows();\n",
    "    count = 0;\n",
    "    for u in uniqlist:\n",
    "        s = u[1][0];\n",
    "        if s in SW.keys() and len(SW[s]) > 0 and s in SC.keys():\n",
    "            continue;\n",
    "        count = count + addonewit(u[0],s,start_states,accept_states);\n",
    "    return count;\n",
    "\n",
    "#adds thewit (a matrix dict) as a witness for sigma to SW\n",
    "#also updates SC if appropriate\n",
    "#only does it if this witnesses minimal complexity\n",
    "#return 0 if nothing was added or updated;\n",
    "#       1 if only a new witness;\n",
    "#       2 if new witness and complexity updated.\n",
    "def addonewit(thewit,sigma,start_states=None,accept_states=None):\n",
    "    n = thewit[sigma[0]].nrows();\n",
    "    ret = 0;\n",
    "    if start_states == None:\n",
    "        v = Matrix(identity_matrix(n)[0]);\n",
    "    else:\n",
    "        assert n == len(start_states);\n",
    "        v = Matrix(start_states);\n",
    "    if accept_states == None:\n",
    "        f = Matrix(identity_matrix(n)[n-1]).transpose();\n",
    "    else:\n",
    "        assert n == len(accept_states);\n",
    "        f = Matrix(accept_states).transpose();\n",
    "    if not sigma in SC.keys() or SC[sigma] > n:\n",
    "        SC[sigma] = n;\n",
    "        ret = ret + 1;\n",
    "    if SC[sigma] == n:\n",
    "        if not sigma in SW.keys(): SW[sigma] = [];\n",
    "        newwit = (thewit,v,f);\n",
    "        if not newwit in SW[sigma]:\n",
    "            SW[sigma].append(newwit);\n",
    "            ret = ret + 1;\n",
    "    return ret;\n",
    "\n",
    "#------------------------------------------------------------------------------------------------------\n",
    "\n",
    "#same as addonewit(), but start/accept_states should now already be a\n",
    "#matrix in the correct form\n",
    "def addonewit_vec(thewit,sigma,start_states,accept_states):\n",
    "    n = thewit[0].nrows();\n",
    "    ret = 0;\n",
    "    if not SC.has_key(sigma) or SC[sigma] > n:\n",
    "        SC[sigma] = n;\n",
    "        ret = ret + 1;\n",
    "    if SC[sigma] == n:\n",
    "        try:\n",
    "            ind = SW[sigma].index((thewit,start_states,accept_states));\n",
    "        except ValueError:\n",
    "            SW[sigma].append((thewit,start_states,accept_states));\n",
    "            ret = ret + 1;\n",
    "    return ret;\n",
    "    \n",
    "\n",
    "#among PFAs given by matdicts, returns the first found which\n",
    "#has sigma as its highest-prob word among strings of len(sigma).\n",
    "#assumes all matrices have the same size.\n",
    "#if stop>0, find the first stop witnesses (if possible).\n",
    "#if stop=0, find all witnesses, if possible.\n",
    "def findwitness(matdicts,sigma,start_states=None,accept_states=None,stop=1):\n",
    "    n = matdicts[0][sigma[0]].nrows();\n",
    "    if start_states == None:\n",
    "        v = Matrix(identity_matrix(n)[0]);\n",
    "    else:\n",
    "        v = Matrix(start_states);\n",
    "    if accept_states == None:\n",
    "        f = matrix(identity_matrix(n)[n-1]).transpose();\n",
    "    else:\n",
    "        f = matrix(accept_states).transpose();\n",
    "    words = list(itertools.product(list(matdicts[0].keys()),repeat=len(sigma)));\n",
    "    words.remove(sigma);\n",
    "    \n",
    "    found = 0;\n",
    "    wits = [];\n",
    "    for P in matdicts:\n",
    "        sigprob = accprob_vector(P,sigma,v,f);\n",
    "        if sigprob == 0:\n",
    "            continue;\n",
    "        iscandidate = True;\n",
    "        for s in words:\n",
    "            testprob = accprob_vector(P,s,v,f);\n",
    "            if testprob >= sigprob:\n",
    "                iscandidate = False;\n",
    "                break;\n",
    "        if iscandidate:\n",
    "            if stop != 1:\n",
    "                wits.append((P,v,f));\n",
    "            elif stop == 1:\n",
    "                return P; #the traditional behavior: don't put the single witness into a list\n",
    "            found = found + 1;\n",
    "            if stop > 0 and found >= stop:\n",
    "                return wits;\n",
    "    if len(wits) == 0:\n",
    "        return None;\n",
    "    else:\n",
    "        return wits;\n",
    "\n",
    "#expects a list in the format given by finduniques\n",
    "#sigma should be a TUPLE, not an array! (?)\n",
    "#returns the first pair of matrices in uniqlist witnessing the\n",
    "#PFA complexity of sigma\n",
    "def firstwitness(uniqlist,sigma):\n",
    "    return [u[0] for u in uniqlist if u[1][0][0] == sigma][0]\n",
    "\n",
    "#expects a dictionary like SC or NC\n",
    "#returns Set of keys in compdict with value=complexity\n",
    "#restricts to length strlen if strlen>0; o/w no restr on length\n",
    "#if less=True, returns keys with value<=complexity\n",
    "def lookup(compdict,complexity,strlen=0,less=False):\n",
    "    if strlen == 0 and not less:\n",
    "        return Set([k for k in compdict.keys() if compdict[k] == complexity]);\n",
    "    elif strlen > 0 and not less:\n",
    "        return Set([k for k in compdict.keys() if compdict[k] == complexity and len(k) == strlen]);\n",
    "    elif strlen == 0 and less:\n",
    "        return Set([k for k in compdict.keys() if compdict[k] <= complexity]);\n",
    "    elif strlen > 0 and less:\n",
    "        return Set([k for k in compdict.keys() if compdict[k] <= complexity and len(k) == strlen]);\n",
    "\n",
    "\n",
    "#return largest denominator in a pair of rational matrices\n",
    "def matdenom(matpair):\n",
    "    themax = 1;\n",
    "    for i in range(2):\n",
    "        for r in matpair[i]: #rows\n",
    "            for e in r: #element\n",
    "                d = QQ(e).denominator();\n",
    "                themax = lcm(d,themax);\n",
    "    return themax;\n",
    "\n",
    "#return first witness for PFA complexity of sigma in SW with\n",
    "#matdenom <= denom\n",
    "def firstwitdenom(sigma,denom):\n",
    "    if not SW.has_key(sigma) or len(SW[sigma]) == 0:\n",
    "        return None;\n",
    "    for mats in SW[sigma]:\n",
    "        if matdenom(mats[0]) <= denom:\n",
    "            return mats;\n",
    "    return None;\n",
    "\n",
    "#return list of witnesses for PFA complexity of sigma in SW\n",
    "#with matdenom = denom\n",
    "def witsdenom(sigma,denom):\n",
    "    if not SW.has_key(sigma) or len(SW[sigma]) == 0:\n",
    "        return None;\n",
    "    thelist = [];\n",
    "    for mats in SW[sigma]:\n",
    "        if matdenom(mats[0]) == denom:\n",
    "            thelist.append(mats);\n",
    "    if thelist == []:\n",
    "        return None;\n",
    "    return thelist;\n",
    "\n",
    "#return lowest denominator out of all witnesses for sigma in SW\n",
    "def mindenom(sigma):\n",
    "    if not SW.has_key(sigma) or len(SW[sigma]) == 0:\n",
    "        return None;\n",
    "    return min([matdenom(w[0]) for w in SW[sigma]]);\n",
    "\n",
    "#return highest denominator out of all witnesses for sigma in SW\n",
    "def maxdenom(sigma):\n",
    "    if not SW.has_key(sigma) or len(SW[sigma]) == 0:\n",
    "        return None;\n",
    "    return max([matdenom(w[0]) for w in SW[sigma]]);\n",
    "\n",
    "#determine if matpair represents an actual aut (as in Rabin)\n",
    "def isactualaut(matpair):\n",
    "    for i in range(2):\n",
    "        for r in matpair[i]: #rows\n",
    "            for e in r: #entries\n",
    "                if e == 0:\n",
    "                    return False;\n",
    "    return True;"
   ]
  },
  {
   "cell_type": "code",
   "execution_count": 18,
   "metadata": {
    "jupyter": {
     "source_hidden": true
    },
    "tags": []
   },
   "outputs": [],
   "source": [
    "#substitute epses (tuple of epsilons, one tuple per matrix,\n",
    "#one epsilon per row) into matpairs for the variable eps\n",
    "def matsub(matpairs,epses):\n",
    "    assert len(epses[0]) == len(epses[1]) == matpairs[0].nrows();\n",
    "    newmat = [ [], [] ];\n",
    "    for i in range(2):\n",
    "        for e in range(len(epses[i])):\n",
    "            newmat[i].append(matpairs[i][e].substitute(eps=epses[i][e]));\n",
    "    return [Matrix(QQ,newmat[0]), Matrix(QQ,newmat[1])];\n",
    "\n",
    "#just returns the digraph of the aut described by matpair\n",
    "def autgraph(matpair):\n",
    "    n = matpair[0].nrows();\n",
    "    gr = DiGraph(n,loops=True,multiedges=True);\n",
    "    for l in range(2): #letter seen\n",
    "        for i in range(n): #transition from state i...\n",
    "            for j in range(n): #to state j\n",
    "                if matpair[l][i][j] > 0:\n",
    "                    gr.add_edge(i,j,label=str(l)+\" (\"+str(matpair[l][i][j])+\")\");\n",
    "    return gr;\n",
    "\n",
    "#plots the specified aut from SW\n",
    "#its=# of iterations for plotting algo\n",
    "def autplotwit(sigma,ind,its=2):\n",
    "    matpair = SW[sigma][ind][0];\n",
    "    f = SW[sigma][ind][1];\n",
    "    n = f.nrows();\n",
    "    gr = autgraph(matpair);\n",
    "    acc = [i for i in range(n) if f[i][0] == 1];\n",
    "    notacc = Set(range(n)).difference(Set(acc)).list();\n",
    "    return gr.plot(edge_labels=True,vertex_size=400,layout='spring',iterations=its,vertex_colors={'white': notacc,'yellow': acc});\n",
    "\n",
    "#expects a matrix dict defining the automaton\n",
    "def autplot(matdict,accept_states=None,its=2):\n",
    "    n = matpair[matdict.keys()[0]].nrows();\n",
    "    if accept_states == None:\n",
    "        f = Matrix(identity_matrix(n)[n-1]).transpose();\n",
    "        acc = [n-1];\n",
    "    else:\n",
    "        f = Matrix(accept_states).transpose();\n",
    "        acc = [i for i in range(n) if accept_states[i] == 1];\n",
    "    gr = autgraph(matpair);\n",
    "    notacc = Set(range(n)).difference(Set(acc)).list();\n",
    "    return gr.plot(edge_labels=True,vertex_size=400,layout='spring',iterations=its,vertex_colors={'white': notacc,'yellow': acc});\n",
    "\n",
    "#expects a digraph (probably the output of autgraph())\n",
    "def autgraphplot(autg,accept_states=None,its=2):\n",
    "    n = autg.order();\n",
    "    if accept_states == None:\n",
    "        f = Matrix(identity_matrix(n)[n-1]).transpose();\n",
    "        acc = [n-1];\n",
    "    else:\n",
    "        f = Matrix(accept_states).transpose();\n",
    "        acc = [i for i in range(n) if accept_states[i] == 1];\n",
    "    notacc = Set(range(n)).difference(Set(acc)).list();\n",
    "    return autg.plot(edge_labels=True,vertex_size=400,layout='spring',iterations=its,vertex_colors={'white': notacc,'yellow': acc});\n",
    "\n",
    "#given PFA (as matrix dictionary and init/acc states) and string sigma, \n",
    "#print a list of all accepting paths for sigma (as a sequence of \n",
    "#states) and the probability accumulated along each path\n",
    "#accept_states must be a list/tuple\n",
    "#for simplicity, for now only works for a single start state\n",
    "def pathlist(matdict,sigma,accept_states=None):\n",
    "    alph = list(matdict.keys());\n",
    "    n = matdict[alph[0]].nrows(); # #states\n",
    "    l = len(sigma)+1; #length of path\n",
    "    #if start_states == None:\n",
    "    #    v = Matrix(identity_matrix(n)[0]);\n",
    "    #else:\n",
    "    #    v = Matrix(start_states);\n",
    "    if accept_states == None:\n",
    "        accept_states = matrix(identity_matrix(n)[n-1]).transpose().list();\n",
    "    #list of all possible sequences of states of the correct length\n",
    "    stateseqs = [];\n",
    "    for i in range(n):\n",
    "        if accept_states[i] == 1: #if ith state is accepting\n",
    "            for tup in Tuples(range(n),l-2):\n",
    "                tupli = list(tup);\n",
    "                tupli.insert(0,0); #begin with state 0 (before making any state transition)\n",
    "                tupli.append(i); #end with state i, which we know is accepting\n",
    "                stateseqs.append(tupli);\n",
    "    #list of all such paths with their probs\n",
    "    seqsnprobs = [];\n",
    "    for aseq in stateseqs:\n",
    "        pathprob = 1;\n",
    "        for k in range(l-1):\n",
    "            pathprob = pathprob*matdict[sigma[k]][aseq[k]][aseq[k+1]];\n",
    "        seqsnprobs.append((aseq,pathprob));\n",
    "    theoutput = \"\";\n",
    "    for s in seqsnprobs:\n",
    "        if s[1] > 0:\n",
    "            addstr = \"path \"+str(s[0])+\" has prob \"+str(s[1])+'\\n';\n",
    "            #print(addstr,flush=True)\n",
    "            theoutput = theoutput + addstr;\n",
    "    return theoutput;\n",
    "\n",
    "#expects theaut to be a \"witness\" triple. Still (for now) ignores the actual initial state distribution\n",
    "def pathlist_witness(theaut,sigma):\n",
    "    return pathlist(theaut[0],sigma,theaut[2].list());"
   ]
  },
  {
   "cell_type": "code",
   "execution_count": 5,
   "metadata": {
    "tags": []
   },
   "outputs": [],
   "source": [
    "#run immediately when restarting\n",
    "SC = unpicklefile(\"stoch_complexity\");\n",
    "NC = unpicklefile(\"nfa_complexity\");\n",
    "SW = unpicklefile(\"witnesses\");\n",
    "\n",
    "\n",
    "S2 = {}; #set of binary strings of reasonable length\n",
    "S2[0] = Set([]);\n",
    "for i in range(2,15):\n",
    "    S2[i] = Set(itertools.product([0,1],repeat=i));\n",
    "    S2[0] = S2[0].union(S2[i]);\n",
    "    \n",
    "S3 = {}; #ternary strings that use all 3 letters\n",
    "S3all = {}; #all ternary strings\n",
    "S3[0] = Set([]);\n",
    "S3all[0] = Set([]);\n",
    "for i in range(2,11):\n",
    "    initial = list(itertools.product([0,1,2],repeat=i));\n",
    "    final = [];\n",
    "    for s in initial:\n",
    "        if usesletters(s,3):\n",
    "            final.append(s);\n",
    "    S3[i] = Set(final);\n",
    "    S3[0] = S3[0].union(S3[i]);\n",
    "    S3all[i] = Set(initial);\n",
    "    S3all[0] = S3all[0].union(S3all[i]);"
   ]
  },
  {
   "cell_type": "code",
   "execution_count": null,
   "metadata": {},
   "outputs": [],
   "source": [
    "#STATS (binary strings only)\n",
    "print(len(SC))\n",
    "for l in range(3,11):\n",
    "    if l<9:\n",
    "        top=4;\n",
    "    else:\n",
    "        top=5;\n",
    "    for c in range(1,top):\n",
    "        print(\"len \"+str(l)+\" complexity \"+str(c)+\": \"+str(lookup(SC,c,l).cardinality())+\" (NFA: \"+str(lookup(NC,c,l).cardinality())+\")\")\n",
    "    nu = lookup(SC,100,l,less=True).cardinality();\n",
    "    if nu < 2^l:\n",
    "        print(\"total classified \"+str(nu)+\"/\"+str(2^l));\n",
    "    witsum = sum([len(SW[k]) for k in SW.keys() if len(k)==l]);\n",
    "    print(\"total witnesses \"+str(witsum));\n",
    "    print(\"\");\n",
    "print(\"# strings of each length with PFA=NFA complexity:\");\n",
    "for l in range(3,11):\n",
    "    print(str(l)+\": \"+str(len([k for k in SC.keys() if len(k) == l and SC[k] == NC[k]])))\n",
    "print(\"# strings of each length with PFA=NFA complexity + 1:\")\n",
    "for l in range(3,11):\n",
    "    print(str(l)+\": \"+str(len([k for k in SC.keys() if len(k) == l and SC[k] == NC[k] + 1])))"
   ]
  },
  {
   "cell_type": "code",
   "execution_count": 6,
   "metadata": {},
   "outputs": [],
   "source": [
    "test2x2 = bruteforce(2,2);\n",
    "test2x3 = bruteforce(2,3);\n",
    "test2x4 = bruteforce(2,4);\n",
    "test2x5 = bruteforce(2,5);\n",
    "test2x6 = bruteforce(2,6);\n",
    "test2x7 = bruteforce(2,7);\n",
    "test2x8 = bruteforce(2,8);\n",
    "test3x2 = bruteforce(3,2);\n",
    "half3x3 = bruteforce(3,3,permute=False);"
   ]
  },
  {
   "cell_type": "code",
   "execution_count": 33,
   "metadata": {},
   "outputs": [],
   "source": [
    "three2x2 = bruteforce(2,2,range(3));\n",
    "three2x3 = bruteforce(2,3,range(3));\n",
    "three2x4 = bruteforce(2,4,range(3));\n",
    "three2x5 = bruteforce(2,5,range(3));\n",
    "three2x6 = bruteforce(2,6,range(3));\n",
    "three2x8 = bruteforce(2,8,range(3));"
   ]
  },
  {
   "cell_type": "code",
   "execution_count": 6,
   "metadata": {},
   "outputs": [],
   "source": [
    "somevecs = [ [1,0,0],[0,1,0],[0,0,1],[1/4,1/4,1/2],\n",
    "           [1/4,1/2,1/4],[1/2,1/4,1/4]];\n",
    "some3x4 = bruteforcevecs(maketuple(somevecs),permute=True);\n",
    "\n",
    "somevecs2 = [ [1,0,0],[0,1,0],[0,0,1], [1/4,0,3/4],\n",
    "             [1/4,3/4,0], [3/4,0,1/4], [3/4,1/4,0],\n",
    "             [0,1/4,3/4], [0,3/4,1/4]];\n",
    "some3x4_2 = bruteforcevecs(maketuple(somevecs2),permute=False);"
   ]
  },
  {
   "cell_type": "code",
   "execution_count": 7,
   "metadata": {},
   "outputs": [
    {
     "name": "stdout",
     "output_type": "stream",
     "text": [
      "46656\n",
      "499500\n",
      "46656\n",
      "265356\n"
     ]
    }
   ],
   "source": [
    "print(len(test3x2))\n",
    "print(len(half3x3))\n",
    "print(len(some3x4))\n",
    "print(len(some3x4_2))"
   ]
  },
  {
   "cell_type": "code",
   "execution_count": 7,
   "metadata": {},
   "outputs": [],
   "source": [
    "#given a list of strings (as tuples/lists), a pool of matrix dicts, and start/accept states,\n",
    "#try to find a witness for each string in the pool.\n",
    "#will print any successes, and stop after trying maxattempts strings. If maxattemps=0, try all of them.\n",
    "#won't attempt to find witnesses if one already exists.\n",
    "def tryfindwitness(strings,pool,start_states=None,accept_states=None,maxattempts=50):\n",
    "    c = 0;\n",
    "    for s in strings:\n",
    "        if (s in SW.keys() and len(SW[s]) > 0) or NC[s] == 1:\n",
    "            continue;\n",
    "        c = c + 1;\n",
    "        if c < 0:\n",
    "            continue;\n",
    "        if c > maxattempts and maxattempts != 0:\n",
    "            break;\n",
    "        #sys.stdout.write(\"%d\\r\" % (c) );\n",
    "        print(c,s);\n",
    "        v = start_states;\n",
    "        f = accept_states;\n",
    "        wits = findwitness(pool,s,v,f);\n",
    "        if wits != None:\n",
    "            print(s,wits,addonewit(wits,s,v,f));\n",
    "            print(\"\");\n",
    "            print(flip(s),switchmats(wits),addonewit(switchmats(wits),flip(s),v,f));\n",
    "            print(\"\");\n",
    "        else:\n",
    "            print(\"no witness found\");\n",
    "            print(\"\");"
   ]
  },
  {
   "cell_type": "code",
   "execution_count": 20,
   "metadata": {},
   "outputs": [],
   "source": [
    "savewits()"
   ]
  },
  {
   "cell_type": "code",
   "execution_count": 8,
   "metadata": {},
   "outputs": [
    {
     "name": "stdout",
     "output_type": "stream",
     "text": [
      "344\n",
      "449\n",
      "390\n"
     ]
    }
   ],
   "source": [
    "rand10 = [s for s in NC.keys() if len(s)==10 and isNFArand(s)];\n",
    "print(len(rand10))\n",
    "rand11 = [s for s in NC.keys() if len(s)==11 and isNFArand(s)];\n",
    "print(len(rand11))\n",
    "rand12 = [s for s in NC.keys() if len(s)>=12 and isNFArand(s)];\n",
    "print(len(rand12))"
   ]
  },
  {
   "cell_type": "code",
   "execution_count": 9,
   "metadata": {},
   "outputs": [
    {
     "name": "stdout",
     "output_type": "stream",
     "text": [
      "4659\n",
      "21202\n"
     ]
    }
   ],
   "source": [
    "pool2_1 = test2x2+test2x3+test2x4+test2x5+test2x6\n",
    "print(len(pool2_1))\n",
    "pool2_2 = test2x8+bruteforce(2,10)\n",
    "print(len(pool2_2))"
   ]
  },
  {
   "cell_type": "code",
   "execution_count": 35,
   "metadata": {},
   "outputs": [
    {
     "name": "stdout",
     "output_type": "stream",
     "text": [
      "194481\n"
     ]
    }
   ],
   "source": [
    "test2x20 = bruteforce(2,20)\n",
    "print(len(test2x20))"
   ]
  },
  {
   "cell_type": "code",
   "execution_count": 10,
   "metadata": {},
   "outputs": [
    {
     "name": "stdout",
     "output_type": "stream",
     "text": [
      "546156\n"
     ]
    }
   ],
   "source": [
    "pool3_1 = test3x2+half3x3\n",
    "print(len(pool3_1))"
   ]
  },
  {
   "cell_type": "code",
   "execution_count": null,
   "metadata": {},
   "outputs": [],
   "source": [
    "tryfindwitness(rand12,pool3_1,[1,0,0],[0,0,1],maxattempts=10)"
   ]
  },
  {
   "cell_type": "code",
   "execution_count": null,
   "metadata": {},
   "outputs": [],
   "source": [
    "tryfindwitness(rand12,pool3_1,[1,0,0],[1,0,0],maxattempts=10)"
   ]
  },
  {
   "cell_type": "code",
   "execution_count": 53,
   "metadata": {},
   "outputs": [],
   "source": [
    "savewits()"
   ]
  },
  {
   "cell_type": "code",
   "execution_count": 20,
   "metadata": {},
   "outputs": [],
   "source": [
    "#https://gist.github.com/the-moog/94b09b49232731bd2a3cedd24501e23b\n",
    "import threading\n",
    "from IPython.display import display\n",
    "import ipywidgets as widgets\n",
    "import time\n",
    "\n",
    "def get_ioloop():\n",
    "    import IPython, zmq\n",
    "    ipython = IPython.get_ipython()\n",
    "    if ipython and hasattr(ipython, 'kernel'):\n",
    "        return zmq.eventloop.ioloop.IOLoop.instance()\n",
    "\n",
    "\n",
    "#The IOloop is shared\n",
    "ioloop = get_ioloop()\n",
    "\n",
    "\n",
    "class MyThread(threading.Thread):\n",
    "    def __init__(self):\n",
    "        super().__init__()\n",
    "        \n",
    "        self.progress = widgets.FloatProgress(value=0, min=0, max=10)\n",
    "        \n",
    "        self._quit = threading.Event()\n",
    "        self.start()\n",
    "    \n",
    "    def run(self):\n",
    "        i = 0\n",
    "        while not self._quit.isSet():\n",
    "            def update_progress(i=i):\n",
    "                if self._quit.isSet():\n",
    "                    return\n",
    "                if self.progress.value == 10:\n",
    "                    self.progress.value = 0\n",
    "                self.progress.value = i\n",
    "\n",
    "            time.sleep(2)\n",
    "\n",
    "            ioloop.add_callback(update_progress)\n",
    "\n",
    "            i += 1\n",
    "            if i > 10:\n",
    "                i = 0\n",
    "        self.progress.value = 10\n",
    "        print(\"Quit\")\n",
    "            \n",
    "    def quit(self):\n",
    "        self._quit.set()\n",
    "\n",
    "def run_progress():\n",
    "    thread = MyThread()\n",
    "    display(thread.progress)\n",
    "    return thread"
   ]
  },
  {
   "cell_type": "code",
   "execution_count": 21,
   "metadata": {},
   "outputs": [
    {
     "data": {
      "application/vnd.jupyter.widget-view+json": {
       "model_id": "be747fa85e4d4437ab1002de606290d2",
       "version_major": 2,
       "version_minor": 0
      },
      "text/plain": [
       "FloatProgress(value=0.0, max=10.0)"
      ]
     },
     "metadata": {},
     "output_type": "display_data"
    }
   ],
   "source": [
    "t1 = run_progress()"
   ]
  },
  {
   "cell_type": "code",
   "execution_count": 27,
   "metadata": {},
   "outputs": [
    {
     "name": "stdout",
     "output_type": "stream",
     "text": [
      "Quit\n"
     ]
    }
   ],
   "source": [
    "t1.quit()"
   ]
  },
  {
   "cell_type": "code",
   "execution_count": null,
   "metadata": {},
   "outputs": [],
   "source": [
    "proc = multiprocessing.Process(target=tryfindwitness,args=(rand10,pool2_1,[1,0],[0,1],maxattempts=10));\n",
    "proc.start()"
   ]
  },
  {
   "cell_type": "code",
   "execution_count": 146,
   "metadata": {
    "tags": []
   },
   "outputs": [
    {
     "name": "stdout",
     "output_type": "stream",
     "text": [
      "6\r"
     ]
    }
   ],
   "source": [
    "#really inefficient (for larger sets of strings)\n",
    "c = 0;\n",
    "for s in rand5:\n",
    "    #if len(SW[s]) > 0:\n",
    "    #    continue;\n",
    "    c = c + 1;\n",
    "    if c < 0:\n",
    "        continue;\n",
    "    if c > 50:\n",
    "        break;\n",
    "    sys.stdout.write(\"%d\\r\" % (c) );\n",
    "    v = [1,0];\n",
    "    f = [0,1];\n",
    "    #f = list(reversed(f));\n",
    "    wits = findwitness(test4state[::],s,v,f);\n",
    "    #wits = findwitness(half3x3[269502::91],s,v,f);\n",
    "    #wits = findwitness(test2x15[::13],s,v,f);\n",
    "    if wits != None:\n",
    "        print(s,wits,addonewit(wits,s,v,f));\n",
    "        print(\"\");\n",
    "        print(flip(s),switchmats(wits),addonewit(switchmats(wits),flip(s),v,f));\n",
    "        print(\"\");"
   ]
  },
  {
   "cell_type": "code",
   "execution_count": null,
   "metadata": {},
   "outputs": [],
   "source": [
    "[(k,NC[k]) for k in NC.keys() if isNFArand(k) and len(k) < 5]"
   ]
  },
  {
   "cell_type": "code",
   "execution_count": 163,
   "metadata": {},
   "outputs": [],
   "source": [
    "strs = [k for k in NC.keys() if isNFArand(k) and len(k) < 6];"
   ]
  },
  {
   "cell_type": "code",
   "execution_count": 89,
   "metadata": {},
   "outputs": [],
   "source": [
    "#test if s is a substring of t. Expects them as iterables!\n",
    "def testsubstr(s,t):\n",
    "    if len(s) >= len(t) and s != t: return False;\n",
    "    is_substr = False;\n",
    "    for ind in range(len(t)-len(s)+1):\n",
    "        if s == t[ind:ind+len(s)]:\n",
    "            is_substr = True;\n",
    "    return is_substr;"
   ]
  },
  {
   "cell_type": "code",
   "execution_count": null,
   "metadata": {},
   "outputs": [],
   "source": [
    "for s in strs:\n",
    "    for t in strs:\n",
    "        #if s == t or s == tuple(reversed(t)) or s == tuple(flip(t)): continue;\n",
    "        #avoid strings of same length, and duplication\n",
    "        if len(s) >= len(t): continue\n",
    "        if testsubstr(s,t): continue\n",
    "        if testsubstr(s,tuple(reversed(t))): continue\n",
    "        if testsubstr(s,tuple(flip(t))): continue\n",
    "        if testsubstr(s,tuple(flip(reversed(t)))): continue\n",
    "        #I KNOW there has to be a better way to do this\n",
    "        con = []\n",
    "        con.append([s+t,\"s+t\"])\n",
    "        con.append([t+s,\"t+s\"])\n",
    "        con.append([s+tuple(reversed(t)),\"s+rev(t)\"])\n",
    "        con.append([s+tuple(flip(t)),\"s+fl(t)\"])\n",
    "        con.append([s+tuple(flip(reversed(t))),\"s+flrev(t)\"])\n",
    "        con.append([t+tuple(reversed(s)),\"t+rev(s)\"])\n",
    "        con.append([t+tuple(flip(s)),\"t+fl(s)\"])\n",
    "        con.append([t+tuple(flip(reversed(s))),\"t+flrev(s)\"])\n",
    "        testrand = []\n",
    "        for i in range(len(con)):\n",
    "            teststr = con[i][0]\n",
    "            if not (teststr in NC.keys()):\n",
    "                #print(teststr)\n",
    "                NC[teststr] = nfacomplexity(teststr)\n",
    "                pickletofile(NC,\"nfa_complexity\")\n",
    "                sleep(1)\n",
    "            testrand.append(isNFArand(teststr))\n",
    "        value = False #disjunction of all truth values - want to see if they all fail\n",
    "        for i in range(len(testrand)):\n",
    "            value = value or i\n",
    "        #continue if any of them succeeded\n",
    "        #if value: continue\n",
    "        print(s,t)\n",
    "        for i in range(len(con)):\n",
    "            print(con[i],NC[con[i][0]])\n",
    "        print(\"\")"
   ]
  },
  {
   "cell_type": "code",
   "execution_count": null,
   "metadata": {},
   "outputs": [],
   "source": [
    "#fully distinct strings of length 5 with A_P=3:\n",
    "rand5 = [k for k in S2[5] if k[0]==0 and SC[k]==3]; rand5"
   ]
  },
  {
   "cell_type": "code",
   "execution_count": 45,
   "metadata": {},
   "outputs": [
    {
     "name": "stdout",
     "output_type": "stream",
     "text": [
      "456976\n"
     ]
    }
   ],
   "source": [
    "test2x25 = bruteforce(2,25);\n",
    "print(len(test2x25))"
   ]
  },
  {
   "cell_type": "code",
   "execution_count": 49,
   "metadata": {},
   "outputs": [],
   "source": [
    "uniq2x20 = finduniques(test2x20,strlen=5,start_states=[1,0],accept_states=[0,1]);"
   ]
  },
  {
   "cell_type": "code",
   "execution_count": 50,
   "metadata": {},
   "outputs": [
    {
     "data": {
      "text/plain": [
       "170548"
      ]
     },
     "execution_count": 50,
     "metadata": {},
     "output_type": "execute_result"
    }
   ],
   "source": [
    "len(uniq2x20)"
   ]
  },
  {
   "cell_type": "code",
   "execution_count": 50,
   "metadata": {
    "tags": []
   },
   "outputs": [],
   "source": [
    "def tracegaps(string,autlist,start=(1,0),accept=(0,1)):\n",
    "    gap = QQ(1);\n",
    "#FIXME: replace 2 with size of alphabet\n",
    "    numhigher = 2^len(string) - 1;\n",
    "    c = 0;\n",
    "    for aut in autlist:\n",
    "        c = c+1;\n",
    "        sys.stdout.write(\"%d\\r\" % (c) );\n",
    "        thelen = ZZ(len(string));\n",
    "        thelist = sortproblist(list_probs(aut,start_states=start,accept_states=accept,lengths=thelen));\n",
    "        highstr = highest_prob(thelist);\n",
    "        #get index within thelist of string\n",
    "        thelist_juststr = [s[0] for s in thelist];\n",
    "        highstr_juststr = [s[0] for s in highstr];\n",
    "        theind = thelist_juststr.index(string);\n",
    "        #if string is among those with highest probability, print that info but\n",
    "        #don't update the gap or index, because it could be a rather indiscriminate automaton.\n",
    "        if string in highstr_juststr:\n",
    "            if len(highstr_juststr) == 1:\n",
    "                print(\"c = \"+str(c));\n",
    "                print(\"WITNESS FOUND\",highstr,aut);\n",
    "                print(\"\");\n",
    "            elif 1 < len(highstr_juststr) < numhigher: #exclude case where lots of strings are accepted with same prob\n",
    "                print(\"c = \"+str(c));\n",
    "                print(str(string)+\" among highest-prob strings: \"+str(highstr),aut);\n",
    "                print(\"\");\n",
    "        #logic: if theind < numhigher, only then decide whether to update the gap\n",
    "        #if theind < numhigher and the gap is bigger, print that gap without updating it\n",
    "        else:\n",
    "            acc = accprob(aut,start_states=start,accept_states=accept,sigma=string);\n",
    "            if acc == 0: continue;\n",
    "            thisgap = highstr[0][1] - acc;\n",
    "            if theind <= numhigher or numhigher == 0:\n",
    "                if thisgap <=0: #this code should never execute\n",
    "                    print(\"c = \"+str(c));\n",
    "                    print(\"Gap of \"+str(thisgap)+\" with index \"+str(theind)+\", not updating\",aut);\n",
    "                    print(\"\");\n",
    "                elif thisgap < gap and theind <= numhigher:\n",
    "                    print(\"c = \"+str(c));\n",
    "                    gap = thisgap;\n",
    "                    numhigher = theind;\n",
    "                    print(\"Gap of \"+str(gap)+\" and non-increased index \"+str(theind),aut);\n",
    "                    print(thelist[0:theind+2]);\n",
    "                    print(\"\");\n",
    "                elif thisgap >= gap and theind < numhigher:\n",
    "                    print(\"c = \"+str(c));\n",
    "                    gap = thisgap; #experimental: tolerate increasing the gap if we get closer to the top\n",
    "                    numhigher = theind;\n",
    "                    print(\"Larger gap of \"+str(thisgap)+\", but new index \"+str(theind),aut);\n",
    "                    print(thelist[0:theind+2]);\n",
    "                    print(\"\");\n",
    "    return;"
   ]
  },
  {
   "cell_type": "code",
   "execution_count": 86,
   "metadata": {},
   "outputs": [
    {
     "data": {
      "text/plain": [
       "65536"
      ]
     },
     "execution_count": 86,
     "metadata": {},
     "output_type": "execute_result"
    }
   ],
   "source": [
    "test2state = bruteforcevecs(( #(0.99,0.01),(0.01,0.99),\n",
    "                             (0.54,0.46),(0.46,0.54),\n",
    "                             (0.55,0.45),(0.45,0.55),\n",
    "                             (0.49,0.51),(0.51,0.49),\n",
    "                             (0.89,0.11),(0.11,0.89),(0.88,0.12),(0.12,0.88),(0.545,0.455),(0.455,0.545),\n",
    "                             (0.44,0.56),(0.56,0.44),(0.5425,1-0.5425),(1-0.5425,0.5425)),\n",
    "                           makerational=True);\n",
    "len(test2state)"
   ]
  },
  {
   "cell_type": "code",
   "execution_count": 8,
   "metadata": {
    "tags": []
   },
   "outputs": [
    {
     "data": {
      "text/plain": [
       "160000"
      ]
     },
     "execution_count": 8,
     "metadata": {},
     "output_type": "execute_result"
    }
   ],
   "source": [
    "test3state = bruteforceprobs(2, [0.49,0.11,0.44,0.455,0.4475,0.45,0.4575,0.455,0.4525,0.46]);\n",
    "len(test3state)"
   ]
  },
  {
   "cell_type": "code",
   "execution_count": null,
   "metadata": {},
   "outputs": [],
   "source": [
    "tracegaps( (0,1,1,0,1), test3state[21500:], (1,0),(0,1))"
   ]
  },
  {
   "cell_type": "code",
   "execution_count": null,
   "metadata": {
    "tags": []
   },
   "outputs": [],
   "source": [
    "tracegaps( (0,0,1,0,0), test3state, (1,0),(1,0))"
   ]
  },
  {
   "cell_type": "code",
   "execution_count": 102,
   "metadata": {
    "collapsed": true,
    "jupyter": {
     "outputs_hidden": true
    },
    "tags": []
   },
   "outputs": [
    {
     "name": "stdout",
     "output_type": "stream",
     "text": [
      "Gap of 3906/1953125 and new index 2 {0: [24/25  1/25]\n",
      "[ 9/25 16/25], 1: [22/25  3/25]\n",
      "[    1     0]}\n",
      "[((0, 0, 0, 0, 1), 8559/78125), ((1, 1, 0, 0, 1), 42093/390625), ((0, 1, 1, 0, 1), 210069/1953125), ((1, 0, 1, 0, 1), 42003/390625), ((1, 0, 0, 0, 1), 8397/78125), ((1, 1, 1, 0, 1), 209907/1953125), ((0, 1, 0, 0, 1), 41931/390625), ((0, 0, 1, 1, 1), 209409/1953125), ((0, 1, 0, 1, 1), 209319/1953125), ((1, 1, 1, 1, 1), 1046343/9765625), ((1, 0, 0, 1, 1), 41853/390625), ((1, 0, 1, 1, 1), 209247/1953125), ((0, 1, 1, 1, 1), 1046181/9765625), ((0, 0, 1, 0, 1), 41841/390625), ((1, 1, 0, 1, 1), 209157/1953125), ((0, 0, 0, 1, 1), 41691/390625), ((0, 0, 0, 1, 0), 8309/78125), ((1, 1, 0, 1, 0), 40843/390625), ((0, 0, 1, 0, 0), 8159/78125), ((0, 1, 1, 1, 0), 203819/1953125), ((1, 0, 1, 1, 0), 40753/390625), ((1, 0, 0, 1, 0), 8147/78125), ((1, 1, 1, 1, 0), 203657/1953125), ((0, 1, 0, 1, 0), 40681/390625), ((0, 0, 1, 1, 0), 40591/390625), ((0, 1, 0, 0, 0), 8069/78125), ((1, 1, 1, 0, 0), 40093/390625), ((1, 0, 0, 0, 0), 1603/15625), ((1, 0, 1, 0, 0), 7997/78125), ((0, 1, 1, 0, 0), 39931/390625), ((1, 1, 0, 0, 0), 7907/78125), ((0, 0, 0, 0, 0), 1441/15625)]\n",
      "\n",
      "Gap of 9828/9765625 and new index 1 {0: [  4/5   1/5]\n",
      "[11/25 14/25], 1: [13/25 12/25]\n",
      "[    1     0]}\n",
      "[((1, 1, 0, 0, 1), 3260868/9765625), ((0, 1, 1, 0, 1), 650208/1953125), ((1, 1, 1, 1, 1), 3247932/9765625), ((0, 0, 0, 0, 1), 649452/1953125), ((1, 0, 1, 0, 1), 3241968/9765625), ((0, 0, 1, 1, 1), 644748/1953125), ((0, 1, 0, 1, 1), 639708/1953125), ((1, 0, 0, 1, 1), 3189468/9765625), ((1, 0, 0, 0, 1), 3186024/9765625), ((0, 1, 0, 0, 1), 635844/1953125), ((0, 0, 1, 0, 1), 632064/1953125), ((1, 1, 0, 1, 0), 3151493/9765625), ((1, 1, 1, 0, 1), 3142176/9765625), ((0, 1, 1, 1, 0), 628333/1953125), ((0, 0, 0, 1, 0), 627577/1953125), ((1, 0, 1, 1, 0), 3132593/9765625), ((1, 0, 1, 1, 1), 3114876/9765625), ((1, 1, 1, 0, 0), 3112118/9765625), ((0, 0, 0, 1, 1), 621564/1953125), ((0, 1, 1, 1, 1), 620556/1953125), ((0, 0, 1, 0, 0), 619702/1953125), ((1, 1, 0, 1, 1), 3089676/9765625), ((0, 1, 0, 0, 0), 616867/1953125), ((1, 0, 0, 0, 0), 3079232/9765625), ((1, 0, 0, 1, 0), 3076649/9765625), ((0, 1, 0, 1, 0), 613969/1953125), ((0, 0, 1, 1, 0), 610189/1953125), ((1, 0, 1, 0, 0), 3037274/9765625), ((0, 0, 0, 0, 0), 606661/1953125), ((1, 1, 1, 1, 0), 3032801/9765625), ((0, 1, 1, 0, 0), 606094/1953125), ((1, 1, 0, 0, 0), 3023099/9765625)]\n",
      "\n",
      "456976\r"
     ]
    }
   ],
   "source": [
    "tracegaps( (0,1,1,0,1), test2x25, (1,0),(0,1))"
   ]
  },
  {
   "cell_type": "code",
   "execution_count": null,
   "metadata": {},
   "outputs": [],
   "source": [
    "tracegaps( (0,0,1,0,0), test2x20, (1,0),(0,1))"
   ]
  },
  {
   "cell_type": "code",
   "execution_count": 145,
   "metadata": {},
   "outputs": [
    {
     "data": {
      "text/plain": [
       "456976"
      ]
     },
     "execution_count": 145,
     "metadata": {},
     "output_type": "execute_result"
    }
   ],
   "source": [
    "test4state = bruteforceprobs(2, [0.01,0.49,0.499,0.48,0.2,0.44,0.455,0.4475,0.45,0.4575,0.455,0.4525,0.46]);\n",
    "len(test4state)"
   ]
  },
  {
   "cell_type": "code",
   "execution_count": 5,
   "metadata": {},
   "outputs": [
    {
     "name": "stdout",
     "output_type": "stream",
     "text": [
      "2085136\n"
     ]
    }
   ],
   "source": [
    "probs5 = [0.01,0.001];\n",
    "new1 = 0.430;\n",
    "while new1 <= 0.460:\n",
    "    probs5.append(new1);\n",
    "    new1 = new1 + 0.005;\n",
    "new2 = 0.490;\n",
    "while new2 < 0.500:\n",
    "    probs5.append(new2);\n",
    "    new2 = new2 + 0.001;\n",
    "test5state = bruteforceprobs(2,probs5);\n",
    "print(len(test5state))"
   ]
  },
  {
   "cell_type": "code",
   "execution_count": 33,
   "metadata": {
    "collapsed": true,
    "jupyter": {
     "outputs_hidden": true
    },
    "tags": []
   },
   "outputs": [
    {
     "name": "stdout",
     "output_type": "stream",
     "text": [
      "c = 71\n",
      "Gap of 616623/19531250 and non-increased index 4 {0: [99/100  1/100]\n",
      "[43/100 57/100], 1: [ 89/200 111/200]\n",
      "[113/200  87/200]}\n",
      "[((0, 0, 0, 0, 1), 43167261/78125000), ((1, 0, 0, 0, 1), 42269973/78125000), ((1, 1, 0, 0, 1), 41777229/78125000), ((0, 1, 0, 0, 1), 41584953/78125000), ((0, 1, 1, 0, 1), 40700769/78125000), ((1, 1, 1, 0, 1), 40659567/78125000)]\n",
      "\n",
      "c = 109\n",
      "Gap of 125185023/4000000000 and non-increased index 4 {0: [ 99/100   1/100]\n",
      "[ 87/200 113/200], 1: [ 89/200 111/200]\n",
      "[113/200  87/200]}\n",
      "[((0, 0, 0, 0, 1), 11051184507/20000000000), ((1, 0, 0, 0, 1), 21655153677/40000000000), ((1, 1, 0, 0, 1), 1337703177/2500000000), ((0, 1, 0, 0, 1), 2663319453/5000000000), ((0, 1, 1, 0, 1), 81447339/156250000), ((1, 1, 1, 0, 1), 325462683/625000000)]\n",
      "\n",
      "c = 147\n",
      "Gap of 15510627/500000000 and non-increased index 4 {0: [99/100  1/100]\n",
      "[ 11/25  14/25], 1: [ 89/200 111/200]\n",
      "[113/200  87/200]}\n",
      "[((0, 0, 0, 0, 1), 11051547/20000000), ((1, 0, 0, 0, 1), 21667857/40000000), ((1, 1, 0, 0, 1), 13385277/25000000), ((0, 1, 0, 0, 1), 26651853/50000000), ((0, 1, 1, 0, 1), 4074657/7812500), ((1, 1, 1, 0, 1), 32564883/62500000)]\n",
      "\n",
      "c = 149\n",
      "Gap of 2223/100000000 and non-increased index 2 {0: [57/100 43/100]\n",
      "[ 11/25  14/25], 1: [ 89/200 111/200]\n",
      "[113/200  87/200]}\n",
      "[((0, 0, 0, 0, 1), 1239266487/2500000000), ((1, 1, 0, 0, 1), 309813453/625000000), ((0, 1, 1, 0, 1), 38725341/78125000), ((1, 0, 1, 0, 1), 619602531/1250000000)]\n",
      "\n",
      "c = 188\n",
      "Gap of 27/1562500 and non-increased index 2 {0: [113/200  87/200]\n",
      "[ 89/200 111/200], 1: [ 89/200 111/200]\n",
      "[113/200  87/200]}\n",
      "[((0, 0, 0, 0, 1), 38726103/78125000), ((1, 1, 0, 0, 1), 38725941/78125000), ((0, 1, 1, 0, 1), 38724753/78125000), ((1, 0, 1, 0, 1), 38724591/78125000)]\n",
      "\n",
      "c = 227\n",
      "Gap of 8349/625000000 and non-increased index 2 {0: [14/25 11/25]\n",
      "[ 9/20 11/20], 1: [ 89/200 111/200]\n",
      "[113/200  87/200]}\n",
      "[((0, 0, 0, 0, 1), 309801777/625000000), ((1, 1, 0, 0, 1), 309801777/625000000), ((0, 1, 1, 0, 1), 77448357/156250000), ((1, 0, 1, 0, 1), 619584579/1250000000)]\n",
      "\n",
      "c = 266\n",
      "Gap of 363/31250000 and non-increased index 2 {0: [111/200  89/200]\n",
      "[ 91/200 109/200], 1: [ 89/200 111/200]\n",
      "[113/200  87/200]}\n",
      "[((1, 1, 0, 0, 1), 1548981/3125000), ((0, 0, 0, 0, 1), 2478363/5000000), ((0, 1, 1, 0, 1), 15489447/31250000), ((1, 0, 1, 0, 1), 6195759/12500000)]\n",
      "\n",
      "c = 305\n",
      "Gap of 6237/625000000 and non-increased index 2 {0: [11/20  9/20]\n",
      "[23/50 27/50], 1: [ 89/200 111/200]\n",
      "[113/200  87/200]}\n",
      "[((1, 1, 0, 0, 1), 309790797/625000000), ((0, 0, 0, 0, 1), 247831617/500000000), ((0, 1, 1, 0, 1), 3872307/7812500), ((1, 0, 0, 0, 1), 2478270243/5000000000)]\n",
      "\n",
      "c = 818\n",
      "Gap of 17457/4000000000 and non-increased index 2 {0: [  9/20  11/20]\n",
      "[57/100 43/100], 1: [   9/20   11/20]\n",
      "[113/200  87/200]}\n",
      "[((0, 0, 1, 0, 1), 123392973/250000000), ((1, 0, 1, 0, 1), 123392973/250000000), ((0, 1, 1, 0, 1), 1974270111/4000000000), ((1, 1, 1, 0, 1), 1974270111/4000000000)]\n",
      "\n",
      "c = 895\n",
      "Gap of 255507/320000000000 and non-increased index 2 {0: [ 91/200 109/200]\n",
      "[  14/25   11/25], 1: [   9/20   11/20]\n",
      "[113/200  87/200]}\n",
      "[((1, 1, 1, 0, 1), 15785290777/32000000000), ((1, 0, 1, 0, 1), 15785268559/32000000000), ((0, 1, 1, 0, 1), 157852652263/320000000000), ((0, 0, 1, 0, 1), 157852452301/320000000000)]\n",
      "\n",
      "c = 1074\n",
      "Gap of 985527/2000000000000 and non-increased index 2 {0: [63/125 62/125]\n",
      "[51/100 49/100], 1: [   9/20   11/20]\n",
      "[113/200  87/200]}\n",
      "[((1, 1, 1, 0, 1), 39464070111/80000000000), ((1, 0, 1, 0, 1), 98660080851/200000000000), ((0, 1, 1, 0, 1), 61662547953/125000000000), ((0, 0, 1, 0, 1), 308312736591/625000000000)]\n",
      "\n",
      "c = 5234\n",
      "Gap of 351/2560000000 and non-increased index 2 {0: [ 99/200 101/200]\n",
      "[  14/25   11/25], 1: [ 49/100  51/100]\n",
      "[113/200  87/200]}\n",
      "[((1, 1, 1, 0, 1), 607281621/1280000000), ((1, 0, 1, 0, 1), 3036407871/6400000000), ((0, 1, 1, 0, 1), 1214562891/2560000000), ((0, 0, 1, 0, 1), 6072814221/12800000000)]\n",
      "\n",
      "c = 6232\n",
      "Gap of 3441/160000000000 and non-increased index 2 {0: [ 111/200   89/200]\n",
      "[493/1000 507/1000], 1: [ 49/100  51/100]\n",
      "[113/200  87/200]}\n",
      "[((1, 1, 0, 0, 1), 18976789779/40000000000), ((1, 1, 1, 1, 1), 121451451/256000000), ((0, 1, 1, 0, 1), 3036286227/6400000000), ((1, 0, 1, 0, 1), 18976788849/40000000000)]\n",
      "\n",
      "c = 7714\n",
      "Larger gap of 21944811/250000000000000, but new index 1 {0: [111/200  89/200]\n",
      "[247/500 253/500], 1: [491/1000 509/1000]\n",
      "[ 113/200   87/200]}\n",
      "[((1, 1, 0, 0, 1), 118482871574441/250000000000000), ((0, 1, 1, 0, 1), 11848284962963/25000000000000), ((1, 0, 1, 0, 1), 118482847875941/250000000000000)]\n",
      "\n",
      "c = 72125\n",
      "Gap of 43617/3906250000000 and non-increased index 1 {0: [  11/20    9/20]\n",
      "[251/500 249/500], 1: [249/500 251/500]\n",
      "[  14/25   11/25]}\n",
      "[((1, 1, 0, 0, 1), 115403695387/244140625000), ((0, 1, 1, 0, 1), 73858363303/156250000000), ((1, 0, 1, 0, 1), 461614769923/976562500000)]\n",
      "\n",
      "c = 73531\n",
      "Gap of 8076339/1000000000000000 and non-increased index 1 {0: [   11/20     9/20]\n",
      "[503/1000 497/1000], 1: [499/1000 501/1000]\n",
      "[   14/25    11/25]}\n",
      "[((1, 1, 0, 0, 1), 472196458815189/1000000000000000), ((0, 1, 1, 0, 1), 9443929014777/20000000000000), ((1, 0, 1, 0, 1), 472196450214189/1000000000000000)]\n",
      "\n",
      "1885136\r"
     ]
    }
   ],
   "source": [
    "tracegaps( (0,1,1,0,1), test5state[200000:], (1,0),(0,1) )"
   ]
  },
  {
   "cell_type": "code",
   "execution_count": 52,
   "metadata": {},
   "outputs": [
    {
     "name": "stdout",
     "output_type": "stream",
     "text": [
      "51 possible entries\n",
      "51 rows\n",
      "2601 matrices\n",
      "6765201 matrix tuples\n",
      "6765201\n"
     ]
    }
   ],
   "source": [
    "probs6 = [];\n",
    "new1 = 0.450;\n",
    "while new1 < 0.460:\n",
    "    probs6.append(new1);\n",
    "    new1 = new1 + 0.002;\n",
    "new2 = 0.490;\n",
    "while new2 <= 0.500:\n",
    "    probs6.append(new2);\n",
    "    new2 = new2 + 0.0005;\n",
    "test6state = bruteforceprobs(2,probs6,info=True);\n",
    "print(len(test6state))"
   ]
  },
  {
   "cell_type": "code",
   "execution_count": 53,
   "metadata": {
    "collapsed": true,
    "jupyter": {
     "outputs_hidden": true
    },
    "tags": []
   },
   "outputs": [
    {
     "name": "stdout",
     "output_type": "stream",
     "text": [
      "c = 2\n",
      "Gap of 11/10000 and non-increased index 22 {0: [137/250 113/250]\n",
      "[  11/20    9/20], 1: [11/20  9/20]\n",
      "[11/20  9/20]}\n",
      "[((0, 0, 0, 1, 0), 4511/10000), ((0, 0, 1, 1, 0), 4511/10000), ((0, 1, 0, 1, 0), 4511/10000), ((0, 1, 1, 1, 0), 4511/10000), ((1, 0, 0, 1, 0), 4511/10000), ((1, 0, 1, 1, 0), 4511/10000), ((1, 1, 0, 1, 0), 4511/10000), ((1, 1, 1, 1, 0), 4511/10000), ((0, 1, 0, 0, 0), 1127744511/2500000000), ((1, 1, 0, 0, 0), 1127744511/2500000000), ((0, 0, 0, 0, 0), 7048403193613/15625000000000), ((1, 0, 0, 0, 0), 563872255489/1250000000000), ((0, 0, 1, 0, 0), 2255489/5000000), ((0, 1, 1, 0, 0), 2255489/5000000), ((1, 0, 1, 0, 0), 2255489/5000000), ((1, 1, 1, 0, 0), 2255489/5000000), ((0, 0, 0, 0, 1), 9/20), ((0, 0, 0, 1, 1), 9/20), ((0, 0, 1, 0, 1), 9/20), ((0, 0, 1, 1, 1), 9/20), ((0, 1, 0, 0, 1), 9/20), ((0, 1, 0, 1, 1), 9/20), ((0, 1, 1, 0, 1), 9/20), ((0, 1, 1, 1, 1), 9/20)]\n",
      "\n",
      "c = 52\n",
      "Gap of 1127254509/1250000000000 and non-increased index 22 {0: [  11/20    9/20]\n",
      "[137/250 113/250], 1: [11/20  9/20]\n",
      "[11/20  9/20]}\n",
      "[((0, 0, 0, 0, 0), 563627254509/1250000000000), ((1, 0, 0, 0, 0), 563627254509/1250000000000), ((0, 1, 0, 0, 0), 1127254509/2500000000), ((1, 1, 0, 0, 0), 1127254509/2500000000), ((0, 0, 1, 0, 0), 2254509/5000000), ((0, 1, 1, 0, 0), 2254509/5000000), ((1, 0, 1, 0, 0), 2254509/5000000), ((1, 1, 1, 0, 0), 2254509/5000000), ((0, 0, 0, 1, 0), 4509/10000), ((0, 0, 1, 1, 0), 4509/10000), ((0, 1, 0, 1, 0), 4509/10000), ((0, 1, 1, 1, 0), 4509/10000), ((1, 0, 0, 1, 0), 4509/10000), ((1, 0, 1, 1, 0), 4509/10000), ((1, 1, 0, 1, 0), 4509/10000), ((1, 1, 1, 1, 0), 4509/10000), ((0, 0, 0, 0, 1), 9/20), ((0, 0, 0, 1, 1), 9/20), ((0, 0, 1, 0, 1), 9/20), ((0, 0, 1, 1, 1), 9/20), ((0, 1, 0, 0, 1), 9/20), ((0, 1, 0, 1, 1), 9/20), ((0, 1, 1, 0, 1), 9/20), ((0, 1, 1, 1, 1), 9/20)]\n",
      "\n",
      "c = 2602\n",
      "(0, 1, 1, 0, 1) among highest-prob strings: [((0, 0, 0, 0, 1), 4511/10000), ((0, 0, 1, 0, 1), 4511/10000), ((0, 1, 0, 0, 1), 4511/10000), ((0, 1, 1, 0, 1), 4511/10000), ((1, 0, 0, 0, 1), 4511/10000), ((1, 0, 1, 0, 1), 4511/10000), ((1, 1, 0, 0, 1), 4511/10000), ((1, 1, 1, 0, 1), 4511/10000)] {0: [11/20  9/20]\n",
      "[11/20  9/20], 1: [137/250 113/250]\n",
      "[  11/20    9/20]}\n",
      "\n",
      "c = 2653\n",
      "Gap of 49/62500000000 and non-increased index 4 {0: [  11/20    9/20]\n",
      "[137/250 113/250], 1: [137/250 113/250]\n",
      "[  11/20    9/20]}\n",
      "[((0, 0, 0, 0, 1), 563872745491/1250000000000), ((1, 0, 0, 0, 1), 7048409318637/15625000000000), ((1, 1, 0, 0, 1), 7048409318613/15625000000000), ((0, 1, 0, 0, 1), 563872745489/1250000000000), ((0, 1, 1, 0, 1), 563872744511/1250000000000), ((1, 1, 1, 0, 1), 7048409306387/15625000000000)]\n",
      "\n",
      "c = 5204\n",
      "Gap of 11/312500000000 and non-increased index 3 {0: [137/250 113/250]\n",
      "[  11/20    9/20], 1: [273/500 227/500]\n",
      "[  11/20    9/20]}\n",
      "[((1, 0, 1, 0, 1), 3532778262227/7812500000000), ((0, 0, 1, 0, 1), 1766389131113/3906250000000), ((1, 1, 1, 0, 1), 1766389130977/3906250000000), ((0, 1, 1, 0, 1), 55199660343/122070312500), ((1, 0, 0, 0, 1), 7065556387227/15625000000000)]\n",
      "\n",
      "c = 7857\n",
      "Gap of 423/31250000000000 and non-increased index 3 {0: [273/500 227/500]\n",
      "[137/250 113/250], 1: [68/125 57/125]\n",
      "[ 11/20   9/20]}\n",
      "[((1, 0, 1, 0, 1), 1770630622569/3906250000000), ((0, 0, 1, 0, 1), 14165044980543/31250000000000), ((1, 1, 1, 0, 1), 3541261245039/7812500000000), ((0, 1, 1, 0, 1), 14165044980129/31250000000000), ((1, 0, 0, 0, 1), 1770630613773/3906250000000)]\n",
      "\n",
      "c = 29226\n",
      "Larger gap of 29258361/4000000000000000, but new index 1 {0: [  273/500   227/500]\n",
      "[1013/2000  987/2000], 1: [507/1000 493/1000]\n",
      "[   11/20     9/20]}\n",
      "[((1, 1, 0, 0, 1), 1890700910068237/4000000000000000), ((0, 1, 1, 0, 1), 472675220202469/1000000000000000), ((1, 0, 1, 0, 1), 1890700879495237/4000000000000000)]\n",
      "\n",
      "c = 182840\n",
      "Gap of 63603/40000000000000 and non-increased index 1 {0: [271/500 229/500]\n",
      "[101/200  99/200], 1: [503/1000 497/1000]\n",
      "[ 137/250  113/250]}\n",
      "[((1, 1, 0, 0, 1), 19023927604433/40000000000000), ((0, 1, 1, 0, 1), 1902392754083/4000000000000), ((1, 0, 1, 0, 1), 19023927537833/40000000000000)]\n",
      "\n",
      "1767179\r"
     ]
    },
    {
     "ename": "KeyboardInterrupt",
     "evalue": "",
     "output_type": "error",
     "traceback": [
      "\u001b[1;31m---------------------------------------------------------------------------\u001b[0m",
      "\u001b[1;31mNotImplementedError\u001b[0m                       Traceback (most recent call last)",
      "\u001b[1;32m/opt/SageMath/local/lib/python3.9/site-packages/sage/matrix/matrix0.pyx\u001b[0m in \u001b[0;36msage.matrix.matrix0.Matrix.change_ring (build/cythonized/sage/matrix/matrix0.c:11328)\u001b[1;34m()\u001b[0m\n\u001b[0;32m   1644\u001b[0m         \u001b[1;32mtry\u001b[0m\u001b[1;33m:\u001b[0m\u001b[1;33m\u001b[0m\u001b[1;33m\u001b[0m\u001b[0m\n\u001b[1;32m-> 1645\u001b[1;33m             \u001b[1;32mreturn\u001b[0m \u001b[0mself\u001b[0m\u001b[1;33m.\u001b[0m\u001b[0m_change_ring\u001b[0m\u001b[1;33m(\u001b[0m\u001b[0mring\u001b[0m\u001b[1;33m)\u001b[0m\u001b[1;33m\u001b[0m\u001b[1;33m\u001b[0m\u001b[0m\n\u001b[0m\u001b[0;32m   1646\u001b[0m         \u001b[1;32mexcept\u001b[0m \u001b[1;33m(\u001b[0m\u001b[0mAttributeError\u001b[0m\u001b[1;33m,\u001b[0m \u001b[0mNotImplementedError\u001b[0m\u001b[1;33m)\u001b[0m\u001b[1;33m:\u001b[0m\u001b[1;33m\u001b[0m\u001b[1;33m\u001b[0m\u001b[0m\n",
      "\u001b[1;32m/opt/SageMath/local/lib/python3.9/site-packages/sage/matrix/matrix_integer_dense.pyx\u001b[0m in \u001b[0;36msage.matrix.matrix_integer_dense.Matrix_integer_dense._change_ring (build/cythonized/sage/matrix/matrix_integer_dense.cpp:46162)\u001b[1;34m()\u001b[0m\n\u001b[0;32m   5519\u001b[0m         \u001b[1;32melse\u001b[0m\u001b[1;33m:\u001b[0m\u001b[1;33m\u001b[0m\u001b[1;33m\u001b[0m\u001b[0m\n\u001b[1;32m-> 5520\u001b[1;33m             \u001b[1;32mraise\u001b[0m \u001b[0mNotImplementedError\u001b[0m\u001b[1;33m\u001b[0m\u001b[1;33m\u001b[0m\u001b[0m\n\u001b[0m\u001b[0;32m   5521\u001b[0m \u001b[1;33m\u001b[0m\u001b[0m\n",
      "\u001b[1;31mNotImplementedError\u001b[0m: ",
      "\nDuring handling of the above exception, another exception occurred:\n",
      "\u001b[1;31mKeyboardInterrupt\u001b[0m                         Traceback (most recent call last)",
      "\u001b[1;32m<ipython-input-53-f47d4e2cb0a5>\u001b[0m in \u001b[0;36m<module>\u001b[1;34m\u001b[0m\n\u001b[1;32m----> 1\u001b[1;33m \u001b[0mtracegaps\u001b[0m\u001b[1;33m(\u001b[0m \u001b[1;33m(\u001b[0m\u001b[0mInteger\u001b[0m\u001b[1;33m(\u001b[0m\u001b[1;36m0\u001b[0m\u001b[1;33m)\u001b[0m\u001b[1;33m,\u001b[0m\u001b[0mInteger\u001b[0m\u001b[1;33m(\u001b[0m\u001b[1;36m1\u001b[0m\u001b[1;33m)\u001b[0m\u001b[1;33m,\u001b[0m\u001b[0mInteger\u001b[0m\u001b[1;33m(\u001b[0m\u001b[1;36m1\u001b[0m\u001b[1;33m)\u001b[0m\u001b[1;33m,\u001b[0m\u001b[0mInteger\u001b[0m\u001b[1;33m(\u001b[0m\u001b[1;36m0\u001b[0m\u001b[1;33m)\u001b[0m\u001b[1;33m,\u001b[0m\u001b[0mInteger\u001b[0m\u001b[1;33m(\u001b[0m\u001b[1;36m1\u001b[0m\u001b[1;33m)\u001b[0m\u001b[1;33m)\u001b[0m\u001b[1;33m,\u001b[0m \u001b[0mtest6state\u001b[0m\u001b[1;33m,\u001b[0m \u001b[1;33m(\u001b[0m\u001b[0mInteger\u001b[0m\u001b[1;33m(\u001b[0m\u001b[1;36m1\u001b[0m\u001b[1;33m)\u001b[0m\u001b[1;33m,\u001b[0m\u001b[0mInteger\u001b[0m\u001b[1;33m(\u001b[0m\u001b[1;36m0\u001b[0m\u001b[1;33m)\u001b[0m\u001b[1;33m)\u001b[0m\u001b[1;33m,\u001b[0m\u001b[1;33m(\u001b[0m\u001b[0mInteger\u001b[0m\u001b[1;33m(\u001b[0m\u001b[1;36m0\u001b[0m\u001b[1;33m)\u001b[0m\u001b[1;33m,\u001b[0m\u001b[0mInteger\u001b[0m\u001b[1;33m(\u001b[0m\u001b[1;36m1\u001b[0m\u001b[1;33m)\u001b[0m\u001b[1;33m)\u001b[0m \u001b[1;33m)\u001b[0m\u001b[1;33m\u001b[0m\u001b[1;33m\u001b[0m\u001b[0m\n\u001b[0m",
      "\u001b[1;32m<ipython-input-50-61224a679e62>\u001b[0m in \u001b[0;36mtracegaps\u001b[1;34m(string, autlist, start, accept)\u001b[0m\n\u001b[0;32m      8\u001b[0m         \u001b[0msys\u001b[0m\u001b[1;33m.\u001b[0m\u001b[0mstdout\u001b[0m\u001b[1;33m.\u001b[0m\u001b[0mwrite\u001b[0m\u001b[1;33m(\u001b[0m\u001b[1;34m\"%d\\r\"\u001b[0m \u001b[1;33m%\u001b[0m \u001b[1;33m(\u001b[0m\u001b[0mc\u001b[0m\u001b[1;33m)\u001b[0m \u001b[1;33m)\u001b[0m\u001b[1;33m;\u001b[0m\u001b[1;33m\u001b[0m\u001b[1;33m\u001b[0m\u001b[0m\n\u001b[0;32m      9\u001b[0m         \u001b[0mthelen\u001b[0m \u001b[1;33m=\u001b[0m \u001b[0mZZ\u001b[0m\u001b[1;33m(\u001b[0m\u001b[0mlen\u001b[0m\u001b[1;33m(\u001b[0m\u001b[0mstring\u001b[0m\u001b[1;33m)\u001b[0m\u001b[1;33m)\u001b[0m\u001b[1;33m;\u001b[0m\u001b[1;33m\u001b[0m\u001b[1;33m\u001b[0m\u001b[0m\n\u001b[1;32m---> 10\u001b[1;33m         \u001b[0mthelist\u001b[0m \u001b[1;33m=\u001b[0m \u001b[0msortproblist\u001b[0m\u001b[1;33m(\u001b[0m\u001b[0mlist_probs\u001b[0m\u001b[1;33m(\u001b[0m\u001b[0maut\u001b[0m\u001b[1;33m,\u001b[0m\u001b[0mstart_states\u001b[0m\u001b[1;33m=\u001b[0m\u001b[0mstart\u001b[0m\u001b[1;33m,\u001b[0m\u001b[0maccept_states\u001b[0m\u001b[1;33m=\u001b[0m\u001b[0maccept\u001b[0m\u001b[1;33m,\u001b[0m\u001b[0mlengths\u001b[0m\u001b[1;33m=\u001b[0m\u001b[0mthelen\u001b[0m\u001b[1;33m)\u001b[0m\u001b[1;33m)\u001b[0m\u001b[1;33m;\u001b[0m\u001b[1;33m\u001b[0m\u001b[1;33m\u001b[0m\u001b[0m\n\u001b[0m\u001b[0;32m     11\u001b[0m         \u001b[0mhighstr\u001b[0m \u001b[1;33m=\u001b[0m \u001b[0mhighest_prob\u001b[0m\u001b[1;33m(\u001b[0m\u001b[0mthelist\u001b[0m\u001b[1;33m)\u001b[0m\u001b[1;33m;\u001b[0m\u001b[1;33m\u001b[0m\u001b[1;33m\u001b[0m\u001b[0m\n\u001b[0;32m     12\u001b[0m         \u001b[1;31m#get index within thelist of string\u001b[0m\u001b[1;33m\u001b[0m\u001b[1;33m\u001b[0m\u001b[1;33m\u001b[0m\u001b[0m\n",
      "\u001b[1;32m<ipython-input-1-929962dd41ad>\u001b[0m in \u001b[0;36mlist_probs\u001b[1;34m(transmatrices, start_states, accept_states, lengths)\u001b[0m\n\u001b[0;32m    143\u001b[0m                 \u001b[1;32massert\u001b[0m \u001b[0mch\u001b[0m \u001b[1;32min\u001b[0m \u001b[0malph\u001b[0m\u001b[1;33m;\u001b[0m\u001b[1;33m\u001b[0m\u001b[1;33m\u001b[0m\u001b[0m\n\u001b[0;32m    144\u001b[0m                 \u001b[0mA\u001b[0m \u001b[1;33m=\u001b[0m \u001b[0mA\u001b[0m\u001b[1;33m*\u001b[0m\u001b[0mtransmatrices\u001b[0m\u001b[1;33m[\u001b[0m\u001b[0mch\u001b[0m\u001b[1;33m]\u001b[0m\u001b[1;33m;\u001b[0m\u001b[1;33m\u001b[0m\u001b[1;33m\u001b[0m\u001b[0m\n\u001b[1;32m--> 145\u001b[1;33m             \u001b[0mA\u001b[0m \u001b[1;33m=\u001b[0m \u001b[0mA\u001b[0m\u001b[1;33m*\u001b[0m\u001b[0mf\u001b[0m\u001b[1;33m;\u001b[0m\u001b[1;33m\u001b[0m\u001b[1;33m\u001b[0m\u001b[0m\n\u001b[0m\u001b[0;32m    146\u001b[0m             \u001b[0mproblist\u001b[0m\u001b[1;33m.\u001b[0m\u001b[0mappend\u001b[0m\u001b[1;33m(\u001b[0m\u001b[1;33m(\u001b[0m\u001b[0mst\u001b[0m\u001b[1;33m,\u001b[0m\u001b[0mA\u001b[0m\u001b[1;33m[\u001b[0m\u001b[0mInteger\u001b[0m\u001b[1;33m(\u001b[0m\u001b[1;36m0\u001b[0m\u001b[1;33m)\u001b[0m\u001b[1;33m]\u001b[0m\u001b[1;33m[\u001b[0m\u001b[0mInteger\u001b[0m\u001b[1;33m(\u001b[0m\u001b[1;36m0\u001b[0m\u001b[1;33m)\u001b[0m\u001b[1;33m]\u001b[0m\u001b[1;33m)\u001b[0m\u001b[1;33m)\u001b[0m\u001b[1;33m;\u001b[0m\u001b[1;33m\u001b[0m\u001b[1;33m\u001b[0m\u001b[0m\n\u001b[0;32m    147\u001b[0m \u001b[1;33m\u001b[0m\u001b[0m\n",
      "\u001b[1;32m/opt/SageMath/local/lib/python3.9/site-packages/sage/structure/element.pyx\u001b[0m in \u001b[0;36msage.structure.element.Matrix.__mul__ (build/cythonized/sage/structure/element.c:23948)\u001b[1;34m()\u001b[0m\n\u001b[0;32m   3813\u001b[0m \u001b[1;33m\u001b[0m\u001b[0m\n\u001b[0;32m   3814\u001b[0m         \u001b[1;32mif\u001b[0m \u001b[0mBOTH_ARE_ELEMENT\u001b[0m\u001b[1;33m(\u001b[0m\u001b[0mcl\u001b[0m\u001b[1;33m)\u001b[0m\u001b[1;33m:\u001b[0m\u001b[1;33m\u001b[0m\u001b[1;33m\u001b[0m\u001b[0m\n\u001b[1;32m-> 3815\u001b[1;33m             \u001b[1;32mreturn\u001b[0m \u001b[0mcoercion_model\u001b[0m\u001b[1;33m.\u001b[0m\u001b[0mbin_op\u001b[0m\u001b[1;33m(\u001b[0m\u001b[0mleft\u001b[0m\u001b[1;33m,\u001b[0m \u001b[0mright\u001b[0m\u001b[1;33m,\u001b[0m \u001b[0mmul\u001b[0m\u001b[1;33m)\u001b[0m\u001b[1;33m\u001b[0m\u001b[1;33m\u001b[0m\u001b[0m\n\u001b[0m\u001b[0;32m   3816\u001b[0m \u001b[1;33m\u001b[0m\u001b[0m\n\u001b[0;32m   3817\u001b[0m         \u001b[0mcdef\u001b[0m \u001b[0mlong\u001b[0m \u001b[0mvalue\u001b[0m\u001b[1;33m\u001b[0m\u001b[1;33m\u001b[0m\u001b[0m\n",
      "\u001b[1;32m/opt/SageMath/local/lib/python3.9/site-packages/sage/structure/coerce.pyx\u001b[0m in \u001b[0;36msage.structure.coerce.CoercionModel.bin_op (build/cythonized/sage/structure/coerce.c:10585)\u001b[1;34m()\u001b[0m\n\u001b[0;32m   1192\u001b[0m         \u001b[1;32mif\u001b[0m \u001b[0maction\u001b[0m \u001b[1;32mis\u001b[0m \u001b[1;32mnot\u001b[0m \u001b[1;32mNone\u001b[0m\u001b[1;33m:\u001b[0m\u001b[1;33m\u001b[0m\u001b[1;33m\u001b[0m\u001b[0m\n\u001b[0;32m   1193\u001b[0m             \u001b[1;32mif\u001b[0m \u001b[1;33m(\u001b[0m\u001b[1;33m<\u001b[0m\u001b[0mAction\u001b[0m\u001b[1;33m>\u001b[0m\u001b[0maction\u001b[0m\u001b[1;33m)\u001b[0m\u001b[1;33m.\u001b[0m\u001b[0m_is_left\u001b[0m\u001b[1;33m:\u001b[0m\u001b[1;33m\u001b[0m\u001b[1;33m\u001b[0m\u001b[0m\n\u001b[1;32m-> 1194\u001b[1;33m                 \u001b[1;32mreturn\u001b[0m \u001b[1;33m(\u001b[0m\u001b[1;33m<\u001b[0m\u001b[0mAction\u001b[0m\u001b[1;33m>\u001b[0m\u001b[0maction\u001b[0m\u001b[1;33m)\u001b[0m\u001b[1;33m.\u001b[0m\u001b[0m_act_\u001b[0m\u001b[1;33m(\u001b[0m\u001b[0mx\u001b[0m\u001b[1;33m,\u001b[0m \u001b[0my\u001b[0m\u001b[1;33m)\u001b[0m\u001b[1;33m\u001b[0m\u001b[1;33m\u001b[0m\u001b[0m\n\u001b[0m\u001b[0;32m   1195\u001b[0m             \u001b[1;32melse\u001b[0m\u001b[1;33m:\u001b[0m\u001b[1;33m\u001b[0m\u001b[1;33m\u001b[0m\u001b[0m\n\u001b[0;32m   1196\u001b[0m                 \u001b[1;32mreturn\u001b[0m \u001b[1;33m(\u001b[0m\u001b[1;33m<\u001b[0m\u001b[0mAction\u001b[0m\u001b[1;33m>\u001b[0m\u001b[0maction\u001b[0m\u001b[1;33m)\u001b[0m\u001b[1;33m.\u001b[0m\u001b[0m_act_\u001b[0m\u001b[1;33m(\u001b[0m\u001b[0my\u001b[0m\u001b[1;33m,\u001b[0m \u001b[0mx\u001b[0m\u001b[1;33m)\u001b[0m\u001b[1;33m\u001b[0m\u001b[1;33m\u001b[0m\u001b[0m\n",
      "\u001b[1;32m/opt/SageMath/local/lib/python3.9/site-packages/sage/matrix/action.pyx\u001b[0m in \u001b[0;36msage.matrix.action.MatrixMatrixAction._act_ (build/cythonized/sage/matrix/action.c:4908)\u001b[1;34m()\u001b[0m\n\u001b[0;32m    258\u001b[0m             \u001b[0mA\u001b[0m \u001b[1;33m=\u001b[0m \u001b[0mA\u001b[0m\u001b[1;33m.\u001b[0m\u001b[0mchange_ring\u001b[0m\u001b[1;33m(\u001b[0m\u001b[0mself\u001b[0m\u001b[1;33m.\u001b[0m\u001b[0m_codomain\u001b[0m\u001b[1;33m.\u001b[0m\u001b[0m_base\u001b[0m\u001b[1;33m)\u001b[0m\u001b[1;33m\u001b[0m\u001b[1;33m\u001b[0m\u001b[0m\n\u001b[0;32m    259\u001b[0m         \u001b[1;32mif\u001b[0m \u001b[0mB\u001b[0m\u001b[1;33m.\u001b[0m\u001b[0m_parent\u001b[0m\u001b[1;33m.\u001b[0m\u001b[0m_base\u001b[0m \u001b[1;32mis\u001b[0m \u001b[1;32mnot\u001b[0m \u001b[0mself\u001b[0m\u001b[1;33m.\u001b[0m\u001b[0m_codomain\u001b[0m\u001b[1;33m.\u001b[0m\u001b[0m_base\u001b[0m\u001b[1;33m:\u001b[0m\u001b[1;33m\u001b[0m\u001b[1;33m\u001b[0m\u001b[0m\n\u001b[1;32m--> 260\u001b[1;33m             \u001b[0mB\u001b[0m \u001b[1;33m=\u001b[0m \u001b[0mB\u001b[0m\u001b[1;33m.\u001b[0m\u001b[0mchange_ring\u001b[0m\u001b[1;33m(\u001b[0m\u001b[0mself\u001b[0m\u001b[1;33m.\u001b[0m\u001b[0m_codomain\u001b[0m\u001b[1;33m.\u001b[0m\u001b[0m_base\u001b[0m\u001b[1;33m)\u001b[0m\u001b[1;33m\u001b[0m\u001b[1;33m\u001b[0m\u001b[0m\n\u001b[0m\u001b[0;32m    261\u001b[0m         \u001b[1;32mif\u001b[0m \u001b[0mself\u001b[0m\u001b[1;33m.\u001b[0m\u001b[0mfix_sparseness\u001b[0m\u001b[1;33m:\u001b[0m\u001b[1;33m\u001b[0m\u001b[1;33m\u001b[0m\u001b[0m\n\u001b[0;32m    262\u001b[0m             \u001b[1;32mif\u001b[0m \u001b[0mB\u001b[0m\u001b[1;33m.\u001b[0m\u001b[0mis_sparse_c\u001b[0m\u001b[1;33m(\u001b[0m\u001b[1;33m)\u001b[0m\u001b[1;33m:\u001b[0m\u001b[1;33m\u001b[0m\u001b[1;33m\u001b[0m\u001b[0m\n",
      "\u001b[1;32m/opt/SageMath/local/lib/python3.9/site-packages/sage/matrix/matrix0.pyx\u001b[0m in \u001b[0;36msage.matrix.matrix0.Matrix.change_ring (build/cythonized/sage/matrix/matrix0.c:11458)\u001b[1;34m()\u001b[0m\n\u001b[0;32m   1646\u001b[0m         \u001b[1;32mexcept\u001b[0m \u001b[1;33m(\u001b[0m\u001b[0mAttributeError\u001b[0m\u001b[1;33m,\u001b[0m \u001b[0mNotImplementedError\u001b[0m\u001b[1;33m)\u001b[0m\u001b[1;33m:\u001b[0m\u001b[1;33m\u001b[0m\u001b[1;33m\u001b[0m\u001b[0m\n\u001b[0;32m   1647\u001b[0m             \u001b[0mM\u001b[0m \u001b[1;33m=\u001b[0m \u001b[0msage\u001b[0m\u001b[1;33m.\u001b[0m\u001b[0mmatrix\u001b[0m\u001b[1;33m.\u001b[0m\u001b[0mmatrix_space\u001b[0m\u001b[1;33m.\u001b[0m\u001b[0mMatrixSpace\u001b[0m\u001b[1;33m(\u001b[0m\u001b[0mring\u001b[0m\u001b[1;33m,\u001b[0m \u001b[0mself\u001b[0m\u001b[1;33m.\u001b[0m\u001b[0m_nrows\u001b[0m\u001b[1;33m,\u001b[0m \u001b[0mself\u001b[0m\u001b[1;33m.\u001b[0m\u001b[0m_ncols\u001b[0m\u001b[1;33m,\u001b[0m \u001b[0msparse\u001b[0m\u001b[1;33m=\u001b[0m\u001b[0mself\u001b[0m\u001b[1;33m.\u001b[0m\u001b[0mis_sparse\u001b[0m\u001b[1;33m(\u001b[0m\u001b[1;33m)\u001b[0m\u001b[1;33m)\u001b[0m\u001b[1;33m\u001b[0m\u001b[1;33m\u001b[0m\u001b[0m\n\u001b[1;32m-> 1648\u001b[1;33m             \u001b[0mmat\u001b[0m \u001b[1;33m=\u001b[0m \u001b[0mM\u001b[0m\u001b[1;33m(\u001b[0m\u001b[0mself\u001b[0m\u001b[1;33m.\u001b[0m\u001b[0mlist\u001b[0m\u001b[1;33m(\u001b[0m\u001b[1;33m)\u001b[0m\u001b[1;33m,\u001b[0m \u001b[0mcoerce\u001b[0m\u001b[1;33m=\u001b[0m\u001b[1;32mTrue\u001b[0m\u001b[1;33m,\u001b[0m \u001b[0mcopy\u001b[0m\u001b[1;33m=\u001b[0m\u001b[1;32mFalse\u001b[0m\u001b[1;33m)\u001b[0m\u001b[1;33m\u001b[0m\u001b[1;33m\u001b[0m\u001b[0m\n\u001b[0m\u001b[0;32m   1649\u001b[0m             \u001b[1;32mif\u001b[0m \u001b[0mself\u001b[0m\u001b[1;33m.\u001b[0m\u001b[0m_subdivisions\u001b[0m \u001b[1;32mis\u001b[0m \u001b[1;32mnot\u001b[0m \u001b[1;32mNone\u001b[0m\u001b[1;33m:\u001b[0m\u001b[1;33m\u001b[0m\u001b[1;33m\u001b[0m\u001b[0m\n\u001b[0;32m   1650\u001b[0m                 \u001b[0mmat\u001b[0m\u001b[1;33m.\u001b[0m\u001b[0msubdivide\u001b[0m\u001b[1;33m(\u001b[0m\u001b[0mself\u001b[0m\u001b[1;33m.\u001b[0m\u001b[0msubdivisions\u001b[0m\u001b[1;33m(\u001b[0m\u001b[1;33m)\u001b[0m\u001b[1;33m)\u001b[0m\u001b[1;33m\u001b[0m\u001b[1;33m\u001b[0m\u001b[0m\n",
      "\u001b[1;32m/opt/SageMath/local/lib/python3.9/site-packages/sage/matrix/matrix_space.py\u001b[0m in \u001b[0;36m__call__\u001b[1;34m(self, entries, coerce, copy)\u001b[0m\n\u001b[0;32m    848\u001b[0m             \u001b[1;33m[\u001b[0m\u001b[0mt\u001b[0m\u001b[1;33m]\u001b[0m\u001b[1;33m\u001b[0m\u001b[1;33m\u001b[0m\u001b[0m\n\u001b[0;32m    849\u001b[0m         \"\"\"\n\u001b[1;32m--> 850\u001b[1;33m         \u001b[1;32mreturn\u001b[0m \u001b[0mself\u001b[0m\u001b[1;33m.\u001b[0m\u001b[0melement_class\u001b[0m\u001b[1;33m(\u001b[0m\u001b[0mself\u001b[0m\u001b[1;33m,\u001b[0m \u001b[0mentries\u001b[0m\u001b[1;33m,\u001b[0m \u001b[0mcopy\u001b[0m\u001b[1;33m,\u001b[0m \u001b[0mcoerce\u001b[0m\u001b[1;33m)\u001b[0m\u001b[1;33m\u001b[0m\u001b[1;33m\u001b[0m\u001b[0m\n\u001b[0m\u001b[0;32m    851\u001b[0m \u001b[1;33m\u001b[0m\u001b[0m\n\u001b[0;32m    852\u001b[0m     \u001b[1;32mdef\u001b[0m \u001b[0mchange_ring\u001b[0m\u001b[1;33m(\u001b[0m\u001b[0mself\u001b[0m\u001b[1;33m,\u001b[0m \u001b[0mR\u001b[0m\u001b[1;33m)\u001b[0m\u001b[1;33m:\u001b[0m\u001b[1;33m\u001b[0m\u001b[1;33m\u001b[0m\u001b[0m\n",
      "\u001b[1;32m/opt/SageMath/local/lib/python3.9/site-packages/sage/matrix/matrix0.pyx\u001b[0m in \u001b[0;36msage.matrix.matrix0.Matrix.__cinit__ (build/cythonized/sage/matrix/matrix0.c:4240)\u001b[1;34m()\u001b[0m\n\u001b[0;32m    118\u001b[0m         \u001b[0mself\u001b[0m\u001b[1;33m.\u001b[0m\u001b[0m_parent\u001b[0m \u001b[1;33m=\u001b[0m \u001b[0mP\u001b[0m\u001b[1;33m\u001b[0m\u001b[1;33m\u001b[0m\u001b[0m\n\u001b[0;32m    119\u001b[0m         \u001b[0mself\u001b[0m\u001b[1;33m.\u001b[0m\u001b[0m_base_ring\u001b[0m \u001b[1;33m=\u001b[0m \u001b[0mP\u001b[0m\u001b[1;33m.\u001b[0m\u001b[0m_base\u001b[0m\u001b[1;33m\u001b[0m\u001b[1;33m\u001b[0m\u001b[0m\n\u001b[1;32m--> 120\u001b[1;33m         \u001b[0mself\u001b[0m\u001b[1;33m.\u001b[0m\u001b[0m_nrows\u001b[0m \u001b[1;33m=\u001b[0m \u001b[0mP\u001b[0m\u001b[1;33m.\u001b[0m\u001b[0mnrows\u001b[0m\u001b[1;33m(\u001b[0m\u001b[1;33m)\u001b[0m\u001b[1;33m\u001b[0m\u001b[1;33m\u001b[0m\u001b[0m\n\u001b[0m\u001b[0;32m    121\u001b[0m         \u001b[0mself\u001b[0m\u001b[1;33m.\u001b[0m\u001b[0m_ncols\u001b[0m \u001b[1;33m=\u001b[0m \u001b[0mP\u001b[0m\u001b[1;33m.\u001b[0m\u001b[0mncols\u001b[0m\u001b[1;33m(\u001b[0m\u001b[1;33m)\u001b[0m\u001b[1;33m\u001b[0m\u001b[1;33m\u001b[0m\u001b[0m\n\u001b[0;32m    122\u001b[0m         \u001b[0mself\u001b[0m\u001b[1;33m.\u001b[0m\u001b[0mhash\u001b[0m \u001b[1;33m=\u001b[0m \u001b[1;33m-\u001b[0m\u001b[1;36m1\u001b[0m\u001b[1;33m\u001b[0m\u001b[1;33m\u001b[0m\u001b[0m\n",
      "\u001b[1;32m/opt/SageMath/local/lib/python3.9/site-packages/sage/matrix/matrix_space.py\u001b[0m in \u001b[0;36mnrows\u001b[1;34m(self)\u001b[0m\n\u001b[0;32m   2024\u001b[0m         \u001b[1;32mreturn\u001b[0m \u001b[0mself\u001b[0m\u001b[1;33m.\u001b[0m\u001b[0m__ncols\u001b[0m\u001b[1;33m\u001b[0m\u001b[1;33m\u001b[0m\u001b[0m\n\u001b[0;32m   2025\u001b[0m \u001b[1;33m\u001b[0m\u001b[0m\n\u001b[1;32m-> 2026\u001b[1;33m     \u001b[1;32mdef\u001b[0m \u001b[0mnrows\u001b[0m\u001b[1;33m(\u001b[0m\u001b[0mself\u001b[0m\u001b[1;33m)\u001b[0m\u001b[1;33m:\u001b[0m\u001b[1;33m\u001b[0m\u001b[1;33m\u001b[0m\u001b[0m\n\u001b[0m\u001b[0;32m   2027\u001b[0m         \"\"\"\n\u001b[0;32m   2028\u001b[0m         \u001b[0mReturn\u001b[0m \u001b[0mthe\u001b[0m \u001b[0mnumber\u001b[0m \u001b[0mof\u001b[0m \u001b[0mrows\u001b[0m \u001b[0mof\u001b[0m \u001b[0mmatrices\u001b[0m \u001b[1;32min\u001b[0m \u001b[0mthis\u001b[0m \u001b[0mspace\u001b[0m\u001b[1;33m.\u001b[0m\u001b[1;33m\u001b[0m\u001b[1;33m\u001b[0m\u001b[0m\n",
      "\u001b[1;32msrc/cysignals/signals.pyx\u001b[0m in \u001b[0;36mcysignals.signals.python_check_interrupt\u001b[1;34m()\u001b[0m\n",
      "\u001b[1;31mKeyboardInterrupt\u001b[0m: "
     ]
    }
   ],
   "source": [
    "tracegaps( (0,1,1,0,1), test6state, (1,0),(0,1) )"
   ]
  },
  {
   "cell_type": "code",
   "execution_count": 67,
   "metadata": {},
   "outputs": [
    {
     "data": {
      "text/plain": [
       "{(0, 0, 0, 0, 1, 1, 1, 1), (1, 1, 1, 1, 0, 1, 0, 1), (0, 0, 0, 0, 1, 0, 1, 0), (0, 0, 0, 0, 1, 1, 1, 0), (1, 1, 1, 1, 0, 0, 0, 0), (1, 1, 1, 1, 0, 0, 0, 1)}"
      ]
     },
     "execution_count": 67,
     "metadata": {},
     "output_type": "execute_result"
    }
   ],
   "source": [
    "lookup(NC,5,8).intersection(lookup(SC,2,8))"
   ]
  },
  {
   "cell_type": "code",
   "execution_count": 114,
   "metadata": {},
   "outputs": [
    {
     "name": "stdout",
     "output_type": "stream",
     "text": [
      "({0: [1/8 7/8]\n",
      "[5/8 3/8], 1: [  0   1]\n",
      "[3/4 1/4]}, [1 0], [0]\n",
      "[1]) 0.592529296875000 gap 0.00109863281250000\n",
      "\n"
     ]
    }
   ],
   "source": [
    "thisx = (0, 0, 0, 0, 1, 0, 1, 0)\n",
    "mingap = 0.001\n",
    "v = (1,0)\n",
    "f = (1,0)\n",
    "f = list(reversed(f))\n",
    "thiswits = findwitness(test2x8,thisx,v,f,stop=0)\n",
    "for w in thiswits:\n",
    "    slist = sortproblist(list_probs_fromwits(w,lengths=Integer(len(thisx))))\n",
    "    thisgap = N(slist[0][1] - slist[1][1])\n",
    "    if thisgap > mingap:\n",
    "        print(w,N(slist[0][1]),\"gap\",thisgap)\n",
    "        print(\"\")"
   ]
  },
  {
   "cell_type": "code",
   "execution_count": null,
   "metadata": {},
   "outputs": [],
   "source": [
    "SW[thisx]"
   ]
  },
  {
   "cell_type": "code",
   "execution_count": 92,
   "metadata": {},
   "outputs": [],
   "source": [
    "savewits()"
   ]
  },
  {
   "cell_type": "code",
   "execution_count": null,
   "metadata": {},
   "outputs": [],
   "source": [
    "[s for s in SC.keys() if SC[s] >= floor(len(s)/2)+1]"
   ]
  },
  {
   "cell_type": "code",
   "execution_count": 10,
   "metadata": {},
   "outputs": [
    {
     "name": "stdout",
     "output_type": "stream",
     "text": [
      "4 possible entries\n",
      "9 rows\n",
      "729 matrices\n",
      "265356 matrix tuples\n"
     ]
    }
   ],
   "source": [
    "some3x5 = bruteforceprobs(3,(0,1/5),permute=False,info=True)"
   ]
  },
  {
   "cell_type": "code",
   "execution_count": 17,
   "metadata": {},
   "outputs": [
    {
     "name": "stdout",
     "output_type": "stream",
     "text": [
      "(0, 0, 1, 1, 1) 3\n",
      "(0, 0, 1, 1, 1, 0) 3\n",
      "(0, 0, 1, 1, 1, 1) 3\n",
      "\n",
      "(1, 1, 0, 0, 0) 3\n",
      "(1, 1, 0, 0, 0, 0) 3\n",
      "(1, 1, 0, 0, 0, 1) 3\n",
      "\n"
     ]
    }
   ],
   "source": [
    "for s in NC.keys():\n",
    "    if len(s) > 6: continue;\n",
    "    if not isNFArand(s): continue;\n",
    "    test = False;\n",
    "    if isNFArand(s+(0,)) or isNFArand(s+(1,)): test = True;\n",
    "    if test == False:\n",
    "        print(s,NC[s])\n",
    "        print(s+(0,),NC[s+(0,)])\n",
    "        print(s+(1,),NC[s+(1,)])\n",
    "        print(\"\")"
   ]
  },
  {
   "cell_type": "code",
   "execution_count": 22,
   "metadata": {},
   "outputs": [
    {
     "data": {
      "text/plain": [
       "[(\n",
       "{0: [     1/100     99/100]                            \n",
       "[5001/10000 4999/10000], 1: [51/100 49/100]         [1]\n",
       "[ 1/100 99/100]}                           , [1 0], [0]\n",
       "),\n",
       " (\n",
       "{0: [  0   1]                      \n",
       "[1/2 1/2], 1: [1/2 1/2]         [1]\n",
       "[  0   1]}             , [1 0], [0]\n",
       "),\n",
       " (\n",
       "{0: [5/8 3/8]                      \n",
       "[  1   0], 1: [3/4 1/4]         [1]\n",
       "[1/2 1/2]}             , [1 0], [0]\n",
       ")]"
      ]
     },
     "execution_count": 22,
     "metadata": {},
     "output_type": "execute_result"
    }
   ],
   "source": [
    "SW[(0,1,1,0)]"
   ]
  },
  {
   "cell_type": "code",
   "execution_count": 25,
   "metadata": {},
   "outputs": [
    {
     "name": "stdout",
     "output_type": "stream",
     "text": [
      "({0: [     1/100     99/100]\n",
      "[5001/10000 4999/10000], 1: [51/100 49/100]\n",
      "[ 1/100 99/100]}, [1 0], [1]\n",
      "[0]) 0.491523250000000 gap 0.0576232624500000\n",
      "\n",
      "({0: [  0   1]\n",
      "[1/2 1/2], 1: [1/2 1/2]\n",
      "[  0   1]}, [1 0], [1]\n",
      "[0]) 0.500000000000000 gap 0.0625000000000000\n",
      "\n",
      "({0: [5/8 3/8]\n",
      "[  1   0], 1: [3/4 1/4]\n",
      "[1/2 1/2]}, [1 0], [1]\n",
      "[0]) 0.750976562500000 gap 0.00292968750000000\n",
      "\n"
     ]
    }
   ],
   "source": [
    "for w in SW[(0,1,1,0)]:\n",
    "    slist = sortproblist(list_probs_fromwits(w,lengths=4))\n",
    "    thisgap = N(slist[0][1] - slist[1][1])\n",
    "    print(w,N(slist[0][1]),\"gap\",thisgap)\n",
    "    print(\"\")"
   ]
  },
  {
   "cell_type": "code",
   "execution_count": null,
   "metadata": {},
   "outputs": [],
   "source": [
    "for w in SW[(0,1,1,0)]:\n",
    "    slist = sortproblist(list_probs_fromwits(w,lengths=5))\n",
    "    print(w,slist)\n",
    "    print(\"\")"
   ]
  },
  {
   "cell_type": "code",
   "execution_count": 129,
   "metadata": {},
   "outputs": [
    {
     "name": "stdout",
     "output_type": "stream",
     "text": [
      "141\n"
     ]
    }
   ],
   "source": [
    "v = (1,0)\n",
    "f = (0,1)\n",
    "f=tuple(reversed(f))\n",
    "uniq3 = finduniques(three2x2,7,v,f);\n",
    "print(len(uniq3))"
   ]
  },
  {
   "cell_type": "code",
   "execution_count": 130,
   "metadata": {},
   "outputs": [
    {
     "name": "stdout",
     "output_type": "stream",
     "text": [
      "6\n"
     ]
    }
   ],
   "source": [
    "selectlist = [u for u in uniq3 if usesletters(u[1][0],3)];\n",
    "print(len(selectlist))"
   ]
  },
  {
   "cell_type": "code",
   "execution_count": 132,
   "metadata": {},
   "outputs": [
    {
     "data": {
      "text/plain": [
       "12"
      ]
     },
     "execution_count": 132,
     "metadata": {},
     "output_type": "execute_result"
    }
   ],
   "source": [
    "addwitsnew(selectlist,v,f)"
   ]
  },
  {
   "cell_type": "code",
   "execution_count": 133,
   "metadata": {},
   "outputs": [],
   "source": [
    "savewits()"
   ]
  },
  {
   "cell_type": "code",
   "execution_count": 124,
   "metadata": {},
   "outputs": [
    {
     "name": "stdout",
     "output_type": "stream",
     "text": [
      "6\n"
     ]
    }
   ],
   "source": [
    "print(len(S3[4].difference(Set(SC.keys()))))"
   ]
  },
  {
   "cell_type": "code",
   "execution_count": 8,
   "metadata": {},
   "outputs": [
    {
     "name": "stdout",
     "output_type": "stream",
     "text": [
      "({0: [1/2 1/2   0]\n",
      "[  1   0   0]\n",
      "[  1   0   0], 1: [1/2   0 1/2]\n",
      "[  1   0   0]\n",
      "[1/2 1/2   0]}, [1 0 0], [0]\n",
      "[0]\n",
      "[1])\n"
     ]
    }
   ],
   "source": [
    "sig = (0,1,1,0,1)\n",
    "witsig = SW[(0,1,1,0,1)][0]\n",
    "print(witsig)"
   ]
  },
  {
   "cell_type": "code",
   "execution_count": 154,
   "metadata": {},
   "outputs": [
    {
     "name": "stdout",
     "output_type": "stream",
     "text": [
      "path [0, 0, 0, 0, 0, 2] has prob 1/32\n",
      "path [0, 1, 0, 0, 0, 2] has prob 1/16\n",
      "path [0, 0, 2, 0, 0, 2] has prob 1/32\n",
      "path [0, 0, 2, 1, 0, 2] has prob 1/16\n",
      "path [0, 0, 0, 2, 0, 2] has prob 1/16\n",
      "path [0, 1, 0, 2, 0, 2] has prob 1/8\n"
     ]
    }
   ],
   "source": [
    "pathlist(SW[(0,1,1,0,1)][0][0],(0,1,1,0,1),(0,0,1))"
   ]
  },
  {
   "cell_type": "code",
   "execution_count": 153,
   "metadata": {},
   "outputs": [
    {
     "name": "stdout",
     "output_type": "stream",
     "text": [
      "path [0, 0, 0, 0, 0, 2] has prob 1/32\n",
      "path [0, 1, 0, 0, 0, 2] has prob 1/16\n",
      "path [0, 0, 1, 0, 0, 2] has prob 1/16\n",
      "path [0, 0, 0, 1, 0, 2] has prob 1/16\n",
      "path [0, 1, 0, 1, 0, 2] has prob 1/8\n"
     ]
    }
   ],
   "source": [
    "pathlist(SW[(0,1,1,0,1)][0][0],(0,0,0,0,1),(0,0,1))"
   ]
  },
  {
   "cell_type": "code",
   "execution_count": 149,
   "metadata": {},
   "outputs": [],
   "source": [
    "pathlist(SW[(0,1,1,0,1)][0][0],(1,1,0,1,0),(0,0,1))"
   ]
  },
  {
   "cell_type": "code",
   "execution_count": 151,
   "metadata": {},
   "outputs": [
    {
     "data": {
      "text/plain": [
       "[((0, 1, 1, 0, 1), 3/8),\n",
       " ((0, 0, 0, 0, 1), 11/32),\n",
       " ((0, 0, 0, 1, 1), 11/32),\n",
       " ((0, 0, 1, 0, 1), 11/32),\n",
       " ((0, 1, 0, 0, 1), 11/32),\n",
       " ((0, 1, 0, 1, 1), 11/32),\n",
       " ((1, 0, 0, 0, 1), 11/32),\n",
       " ((1, 0, 0, 1, 1), 11/32),\n",
       " ((1, 0, 1, 0, 1), 11/32),\n",
       " ((1, 1, 1, 0, 1), 11/32),\n",
       " ((1, 1, 0, 0, 1), 5/16),\n",
       " ((1, 1, 0, 1, 1), 5/16),\n",
       " ((0, 1, 1, 1, 1), 9/32),\n",
       " ((1, 1, 1, 1, 1), 9/32),\n",
       " ((0, 0, 1, 1, 1), 1/4),\n",
       " ((1, 0, 1, 1, 1), 1/4),\n",
       " ((0, 0, 0, 0, 0), 0),\n",
       " ((0, 0, 0, 1, 0), 0),\n",
       " ((0, 0, 1, 0, 0), 0),\n",
       " ((0, 0, 1, 1, 0), 0),\n",
       " ((0, 1, 0, 0, 0), 0),\n",
       " ((0, 1, 0, 1, 0), 0),\n",
       " ((0, 1, 1, 0, 0), 0),\n",
       " ((0, 1, 1, 1, 0), 0),\n",
       " ((1, 0, 0, 0, 0), 0),\n",
       " ((1, 0, 0, 1, 0), 0),\n",
       " ((1, 0, 1, 0, 0), 0),\n",
       " ((1, 0, 1, 1, 0), 0),\n",
       " ((1, 1, 0, 0, 0), 0),\n",
       " ((1, 1, 0, 1, 0), 0),\n",
       " ((1, 1, 1, 0, 0), 0),\n",
       " ((1, 1, 1, 1, 0), 0)]"
      ]
     },
     "execution_count": 151,
     "metadata": {},
     "output_type": "execute_result"
    }
   ],
   "source": [
    "sortproblist(list_probs_fromwits(SW[(0,1,1,0,1)][0],lengths=5))"
   ]
  },
  {
   "cell_type": "code",
   "execution_count": 6,
   "metadata": {},
   "outputs": [],
   "source": [
    "a,b,c,d,e,f,g,h,i=var('a,b,c,d,e,f,g,h,i')"
   ]
  },
  {
   "cell_type": "code",
   "execution_count": 157,
   "metadata": {},
   "outputs": [],
   "source": [
    "M = Matrix( [[ a,b,c,(a+b)/2,(a+b)/2,c],\n",
    "             [d,e,f,d,e,f],\n",
    "             [g,h,i,g,h,i]] )"
   ]
  },
  {
   "cell_type": "code",
   "execution_count": 167,
   "metadata": {},
   "outputs": [
    {
     "data": {
      "text/plain": [
       "[ 1  0  0  4 -1 -2]\n",
       "[ 0  1  0  0  1  0]\n",
       "[ 0  0  1  0  0  1]"
      ]
     },
     "execution_count": 167,
     "metadata": {},
     "output_type": "execute_result"
    }
   ],
   "source": [
    "Matrix(QQ, [[1/16,5/16,5/8, 1/4,1/4,1/2],\n",
    "            [0,1,0,0,1,0],\n",
    "            [0,0,1,0,0,1]]).rref()"
   ]
  },
  {
   "cell_type": "code",
   "execution_count": 175,
   "metadata": {},
   "outputs": [
    {
     "data": {
      "text/plain": [
       "[         1          0          0          1 -b/a + c/a  b/a - c/a]\n",
       "[         0          1          0          0          1          0]\n",
       "[         0          0          1          0          0          1]"
      ]
     },
     "execution_count": 175,
     "metadata": {},
     "output_type": "execute_result"
    }
   ],
   "source": [
    "Matrix([[a,b,c,a,c,b],\n",
    "            [0,1,0,0,1,0],\n",
    "            [0,0,1,0,0,1]]).rref()"
   ]
  },
  {
   "cell_type": "code",
   "execution_count": null,
   "metadata": {},
   "outputs": [
    {
     "data": {
      "text/plain": [
       "[ 1/48   1/3 31/48]\n",
       "[    0     1     0]\n",
       "[    0     0     1]"
      ]
     },
     "execution_count": 168,
     "metadata": {},
     "output_type": "execute_result"
    }
   ],
   "source": [
    "Matrix( [[1/16,5/16,5/8],[0,1,0],[0,0,1]]) * Matrix([[4,-1,-2],[0,1,0],[0,0,1]]) * Matrix( [[1/12,1/3,7/12],[0,1,0],[0,0,1]])"
   ]
  },
  {
   "cell_type": "code",
   "execution_count": 176,
   "metadata": {},
   "outputs": [
    {
     "data": {
      "text/plain": [
       "[0 0 0]\n",
       "[0 0 0]\n",
       "[1 0 0]"
      ]
     },
     "execution_count": 176,
     "metadata": {},
     "output_type": "execute_result"
    }
   ],
   "source": [
    "Matrix([0,0,1]).transpose()*Matrix([1,0,0])"
   ]
  },
  {
   "cell_type": "code",
   "execution_count": 104,
   "metadata": {},
   "outputs": [],
   "source": [
    "#returns an m-adic PFA, a la Salomaa/Turakainen. It is a tuple: (matrices, initial, accepting) (as in SW)\n",
    "#input: homo, a dict giving a homomorphism. Keys are generators of the language, values are their images\n",
    "#    keys should be numbers, values should be tuples\n",
    "def madic(homo):\n",
    "    alph = list(homo.keys());\n",
    "    m = max(alph)+1;\n",
    "    themats = {}; #matrix dict to generate\n",
    "    for letter in alph:\n",
    "        phi = madic_expansion(homo[letter],m);\n",
    "        malpha = m^(-len(homo[letter]));\n",
    "        themats.update({letter: Matrix(QQ, [[malpha, 1-malpha-phi, phi],\n",
    "                                           [0,1,0],\n",
    "                                           [0,0,1]])});\n",
    "    return (themats, Matrix([1,0,0]), Matrix([0,0,1]).transpose());\n",
    "\n",
    "#given a PFA in \"witness\" form, return a new PFA whose transition matrices are multiplied by the matrices\n",
    "#in mask. That is, matrices[letter] becomes matrices[letter]*mask[letter]. (Right multiplication by default,\n",
    "#but set left=True if you want left multiplication.)\n",
    "#Does NOT check the types of anything or the sizes of matrices\n",
    "def multiplyPFA(thePFA,mask,left=False):\n",
    "    newmats = {};\n",
    "    for letter in thePFA[0].keys():\n",
    "        assert letter in mask.keys();\n",
    "        if left:\n",
    "            newmats.update({letter:mask[letter]*thePFA[0][letter]});\n",
    "        else:\n",
    "            newmats.update({letter:thePFA[0][letter]*mask[letter]});\n",
    "    return (newmats,thePFA[1],thePFA[2]);"
   ]
  },
  {
   "cell_type": "code",
   "execution_count": 142,
   "metadata": {},
   "outputs": [
    {
     "name": "stdout",
     "output_type": "stream",
     "text": [
      "({0: [1/2 1/2   0]\n",
      "[  0   1   0]\n",
      "[  0   0   1], 1: [1/2   0 1/2]\n",
      "[  0   1   0]\n",
      "[  0   0   1]}, [1 0 0], [0]\n",
      "[0]\n",
      "[1])\n"
     ]
    }
   ],
   "source": [
    "testhom = {0: (0,), 1: (1,)};\n",
    "testmad = madic(testhom)\n",
    "print(testmad)"
   ]
  },
  {
   "cell_type": "code",
   "execution_count": 150,
   "metadata": {},
   "outputs": [
    {
     "name": "stdout",
     "output_type": "stream",
     "text": [
      "({0: [1/2   0 1/2]\n",
      "[  0   0   1]\n",
      "[  0   1   0], 1: [1/2 1/2   0]\n",
      "[  0   0   1]\n",
      "[  0   1   0]}, [1 0 0], [0]\n",
      "[0]\n",
      "[1])\n"
     ]
    }
   ],
   "source": [
    "col23switch = Matrix([[1,0,0],[0,0,1],[0,1,0]]);\n",
    "row23switch = Matrix([[1,1,-1],[0,0,1],[0,1,0]]);\n",
    "testmask = {0: col23switch, 1:col23switch};\n",
    "newtestmad = multiplyPFA(testmad,testmask);\n",
    "print(newtestmad)"
   ]
  },
  {
   "cell_type": "code",
   "execution_count": 151,
   "metadata": {},
   "outputs": [
    {
     "name": "stdout",
     "output_type": "stream",
     "text": [
      "((1, 1), 3/4) (1, 1)\n",
      "((1, 0), 1/2) (1, 0)\n",
      "((0, 1), 1/4) (0, 1)\n",
      "((0, 0), 0) (0, 0)\n"
     ]
    }
   ],
   "source": [
    "for entry in sortproblist(list_probs_witness(testmad,lengths=2)):\n",
    "    print(entry,homo_image(testhom,entry[0]))"
   ]
  },
  {
   "cell_type": "code",
   "execution_count": 155,
   "metadata": {},
   "outputs": [
    {
     "name": "stdout",
     "output_type": "stream",
     "text": [
      "((1, 0), 3/4) 0.11000000000000000000000000000000000000000000000000000\n",
      "((0,), 1/2) 0.10000000000000000000000000000000000000000000000000000\n",
      "((1, 1), 1/2) 0.10000000000000000000000000000000000000000000000000000\n",
      "((0, 0), 1/4) 0.010000000000000000000000000000000000000000000000000000\n",
      "((), 0) 0.0000000000000000000000000000000000000000000000000000\n",
      "((1,), 0) 0.0000000000000000000000000000000000000000000000000000\n",
      "((0, 1), 0) 0.0000000000000000000000000000000000000000000000000000\n"
     ]
    }
   ],
   "source": [
    "for entry in sortproblist(list_probs_witness(newtestmad,lengths=range(3))):\n",
    "    print(entry,entry[1].n().str(base=2))"
   ]
  },
  {
   "cell_type": "code",
   "execution_count": 163,
   "metadata": {},
   "outputs": [
    {
     "data": {
      "text/plain": [
       "'0.10101000000000000000000000000000000000000000000000000'"
      ]
     },
     "execution_count": 163,
     "metadata": {},
     "output_type": "execute_result"
    }
   ],
   "source": [
    "accprob_witness(newtestmad,(0,0,0,0,0,0,1)).n().str(base=2)"
   ]
  },
  {
   "cell_type": "code",
   "execution_count": 5,
   "metadata": {},
   "outputs": [],
   "source": [
    "#suspected witness for 01^n0\n",
    "test010 = ({0:Matrix(QQ, [[0,1],[1/2,1/2]]), 1:Matrix(QQ,[[1/2,1/2],[0,1]])}, Matrix([1,0]), Matrix([1,0]).transpose());"
   ]
  },
  {
   "cell_type": "code",
   "execution_count": 24,
   "metadata": {},
   "outputs": [],
   "source": [
    "list010 = list_probs_witness(test010,lengths=range(15))"
   ]
  },
  {
   "cell_type": "code",
   "execution_count": 25,
   "metadata": {},
   "outputs": [
    {
     "name": "stdout",
     "output_type": "stream",
     "text": [
      "[((), 1)]\n",
      "[((1,), 1/2)]\n",
      "[((0, 0), 1/2)]\n",
      "[((0, 1, 0), 1/2)]\n",
      "[((0, 1, 1, 0), 1/2)]\n",
      "[((0, 1, 1, 1, 0), 1/2)]\n",
      "[((0, 1, 1, 1, 1, 0), 1/2)]\n",
      "[((0, 1, 1, 1, 1, 1, 0), 1/2)]\n",
      "[((0, 1, 1, 1, 1, 1, 1, 0), 1/2)]\n",
      "[((0, 1, 1, 1, 1, 1, 1, 1, 0), 1/2)]\n",
      "[((0, 1, 1, 1, 1, 1, 1, 1, 1, 0), 1/2)]\n",
      "[((0, 1, 1, 1, 1, 1, 1, 1, 1, 1, 0), 1/2)]\n",
      "[((0, 1, 1, 1, 1, 1, 1, 1, 1, 1, 1, 0), 1/2)]\n",
      "[((0, 1, 1, 1, 1, 1, 1, 1, 1, 1, 1, 1, 0), 1/2)]\n",
      "[((0, 1, 1, 1, 1, 1, 1, 1, 1, 1, 1, 1, 1, 0), 1/2)]\n"
     ]
    }
   ],
   "source": [
    "for l in range(15):\n",
    "    print(highest_prob(list010,l))"
   ]
  },
  {
   "cell_type": "code",
   "execution_count": 25,
   "metadata": {},
   "outputs": [
    {
     "name": "stdout",
     "output_type": "stream",
     "text": [
      "path [0, 1, 1, 0, 1, 0] has prob 1/8\n",
      "path [0, 1, 1, 1, 1, 0] has prob 1/4\n",
      "\n"
     ]
    }
   ],
   "source": [
    "print(pathlist_witness(test010,(0,1,0,1,0)))"
   ]
  },
  {
   "cell_type": "code",
   "execution_count": null,
   "metadata": {},
   "outputs": [],
   "source": []
  }
 ],
 "metadata": {
  "kernelspec": {
   "display_name": "SageMath 9.4",
   "language": "sage",
   "name": "sagemath"
  },
  "language_info": {
   "codemirror_mode": {
    "name": "ipython",
    "version": 3
   },
   "file_extension": ".py",
   "mimetype": "text/x-python",
   "name": "python",
   "nbconvert_exporter": "python",
   "pygments_lexer": "ipython3",
   "version": "3.9.5"
  },
  "toc-autonumbering": false,
  "toc-showcode": true,
  "toc-showmarkdowntxt": false,
  "toc-showtags": false
 },
 "nbformat": 4,
 "nbformat_minor": 4
}
