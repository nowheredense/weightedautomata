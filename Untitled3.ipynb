{
 "cells": [
  {
   "cell_type": "code",
   "execution_count": 21,
   "id": "188a9ffd-7e46-4371-8952-6e5bcca0c3b4",
   "metadata": {},
   "outputs": [],
   "source": [
    "class MarkovChain:\n",
    "    #states: a list of tuples (state, label), where \"label\" is understood as the symbol that will be output on that state\n",
    "    #tmatrix: a matrix, which will be the transition matrix\n",
    "    #start_dist: a probability vector (entered as a list or tuple) giving an initial distribution of states. The ordering of these states\n",
    "    #        \n",
    "    def __init__(self,states,tmatrix,start_dist):\n",
    "        self.states = [s[0] for s in states]\n",
    "        self.state_labels = states\n",
    "        assert tmatrix.nrows() == tmatrix.ncols() == len(states)\n",
    "        self.matrix = tmatrix\n",
    "        assert len(start_dist) == len(states)\n",
    "        self.start_vector = []\n",
    "    "
   ]
  },
  {
   "cell_type": "code",
   "execution_count": 22,
   "id": "e0933995-e7e9-4619-8bd4-313ba42317d3",
   "metadata": {},
   "outputs": [],
   "source": [
    "test1 = MarkovChain([('a',0),('b',1),('c',1)], Matrix(QQ,[[1/2,1/2,0],[0,1/2,1/2],[1/2,1/4,1/4]]),['a'])"
   ]
  },
  {
   "cell_type": "code",
   "execution_count": 25,
   "id": "1f1adce3-f0cb-4846-b81b-2e2d29e7f15f",
   "metadata": {},
   "outputs": [
    {
     "data": {
      "text/plain": [
       "[1/2 1/2   0]\n",
       "[  0 1/2 1/2]\n",
       "[1/2 1/4 1/4]"
      ]
     },
     "execution_count": 25,
     "metadata": {},
     "output_type": "execute_result"
    }
   ],
   "source": [
    "test1.matrix"
   ]
  },
  {
   "cell_type": "code",
   "execution_count": null,
   "id": "5b8f7c89-1942-4ba3-9599-79a15205bb07",
   "metadata": {},
   "outputs": [],
   "source": []
  }
 ],
 "metadata": {
  "kernelspec": {
   "display_name": "SageMath 9.4",
   "language": "sage",
   "name": "sagemath"
  },
  "language_info": {
   "codemirror_mode": {
    "name": "ipython",
    "version": 3
   },
   "file_extension": ".py",
   "mimetype": "text/x-python",
   "name": "python",
   "nbconvert_exporter": "python",
   "pygments_lexer": "ipython3",
   "version": "3.9.5"
  }
 },
 "nbformat": 4,
 "nbformat_minor": 5
}
