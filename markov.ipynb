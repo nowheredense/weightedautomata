{
 "cells": [
  {
   "cell_type": "code",
   "execution_count": 91,
   "id": "188a9ffd-7e46-4371-8952-6e5bcca0c3b4",
   "metadata": {},
   "outputs": [],
   "source": [
    "class MarkovChain:\n",
    "    #statedict: a dict {state: label, ...}, where \"label\" is understood as the symbol that will be output on that state\n",
    "    #tmatrix: a matrix, which will be the transition matrix\n",
    "    #start_dist: a probability vector (entered as a list or tuple) giving an initial distribution of states. The ordering of these states\n",
    "    #            is assumed to agree with the ordering you gave in states\n",
    "    def __init__(self,statedict,tmatrix,start_dist):\n",
    "        assert statedict.__class__ == dict\n",
    "        self.statenames = list(statedict.keys())\n",
    "        self.nstates = len(self.statenames)\n",
    "        self.state_dict = statedict #so this should be a dict\n",
    "        self.state_labels = [statedict[k] for k in self.statenames]\n",
    "        assert tmatrix.nrows() == tmatrix.ncols() == self.nstates\n",
    "        self.matrix = tmatrix\n",
    "        assert len(start_dist) == self.nstates\n",
    "        self.start_vector = Matrix(start_dist)\n",
    "    \n",
    "    #returns the output alphabet\n",
    "    def outputs(self):\n",
    "        return tuple(set([s[1] for s in states]))\n",
    "        \n",
    "    #returns a DiGraph object representing the operation of this Markov chain\n",
    "    #the vertices are states marked with their /names/, not labels\n",
    "    def digraph(self):\n",
    "        grdata = {}\n",
    "        for i in range(self.nstates): #transition from state i...\n",
    "            n = self.statenames[i]\n",
    "            grdata[n] = {} #add key w/empty dict as value: the key is the label for the ith state\n",
    "            for j in range(self.nstates):\n",
    "                if self.matrix[i][j] > 0: #...to state j\n",
    "                    grdata[n][self.statenames[j]] = [self.matrix[i][j]]\n",
    "        #print(grdata)\n",
    "        return DiGraph(grdata,loops=True,multiedges=True)"
   ]
  },
  {
   "cell_type": "code",
   "execution_count": 92,
   "id": "e0933995-e7e9-4619-8bd4-313ba42317d3",
   "metadata": {},
   "outputs": [],
   "source": [
    "test1 = MarkovChain({'a':0,'b':1,'c':1}, Matrix(QQ,[[1/2,1/2,0],[0,1/2,1/2],[1/2,1/4,1/4]]),[1,0,0])"
   ]
  },
  {
   "cell_type": "code",
   "execution_count": 93,
   "id": "1f1adce3-f0cb-4846-b81b-2e2d29e7f15f",
   "metadata": {},
   "outputs": [
    {
     "data": {
      "text/plain": [
       "[1/2 1/2   0]\n",
       "[  0 1/2 1/2]\n",
       "[1/2 1/4 1/4]"
      ]
     },
     "execution_count": 93,
     "metadata": {},
     "output_type": "execute_result"
    }
   ],
   "source": [
    "test1.matrix"
   ]
  },
  {
   "cell_type": "code",
   "execution_count": 94,
   "id": "66bddb00-109d-40ef-84f5-5769c7308acd",
   "metadata": {},
   "outputs": [],
   "source": [
    "td1 = test1.digraph()"
   ]
  },
  {
   "cell_type": "code",
   "execution_count": null,
   "id": "2c168354-b3d0-441c-84ee-c9758f8d95a0",
   "metadata": {},
   "outputs": [],
   "source": []
  }
 ],
 "metadata": {
  "kernelspec": {
   "display_name": "SageMath 9.4",
   "language": "sage",
   "name": "sagemath"
  },
  "language_info": {
   "codemirror_mode": {
    "name": "ipython",
    "version": 3
   },
   "file_extension": ".py",
   "mimetype": "text/x-python",
   "name": "python",
   "nbconvert_exporter": "python",
   "pygments_lexer": "ipython3",
   "version": "3.9.5"
  }
 },
 "nbformat": 4,
 "nbformat_minor": 5
}
