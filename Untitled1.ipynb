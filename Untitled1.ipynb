{
 "cells": [
  {
   "cell_type": "code",
   "execution_count": 1,
   "id": "b0a00c7d-3ecc-4abc-9610-056475b5aaf7",
   "metadata": {},
   "outputs": [],
   "source": [
    "a,b,c,d=var('a,b,c,d')\n",
    "assume(a>c, c>0, b>d, d>0)"
   ]
  },
  {
   "cell_type": "code",
   "execution_count": 6,
   "id": "b144575e-9dcc-481c-b567-caf877949da9",
   "metadata": {},
   "outputs": [],
   "source": [
    "assume(a<1,b<1)"
   ]
  },
  {
   "cell_type": "code",
   "execution_count": null,
   "id": "cb3dc5de-df0e-46ac-b251-585bbb9ad9ce",
   "metadata": {},
   "outputs": [],
   "source": [
    "assume(a-b<1, c-d<1)"
   ]
  },
  {
   "cell_type": "code",
   "execution_count": 17,
   "id": "cb27fc5b-44a0-47eb-8947-a8ff842ae701",
   "metadata": {},
   "outputs": [
    {
     "data": {
      "text/plain": [
       "[a > c, c > 0, b > d, d > 0, a < 1, b < 1, a - b < 1, c - d < 1]"
      ]
     },
     "execution_count": 17,
     "metadata": {},
     "output_type": "execute_result"
    }
   ],
   "source": [
    "assumptions()"
   ]
  },
  {
   "cell_type": "code",
   "execution_count": 22,
   "id": "8a794022-f220-46eb-a7b1-b0c18b5d12c7",
   "metadata": {},
   "outputs": [
    {
     "data": {
      "text/plain": [
       "[[b < d, -b^2*x + b*d*x + a*b - a*d - a + c > 0],\n",
       " [d < b, b^2*x - b*d*x - a*b + a*d + a - c > 0]]"
      ]
     },
     "execution_count": 22,
     "metadata": {},
     "output_type": "execute_result"
    }
   ],
   "source": [
    "solve([a-b*x<(a-c)/(b-d)], [x])"
   ]
  },
  {
   "cell_type": "code",
   "execution_count": 23,
   "id": "0f5251f0-1ab2-4df8-be98-3ce76b0693a6",
   "metadata": {},
   "outputs": [
    {
     "data": {
      "text/plain": [
       "[[b - d > 0, -b - 1 > 0, b > 0, b^2*x - b*d*x - a*b + a*d + a - c > 0, b*x - a + x > 0], [b - d > 0, -b - 1 > 0, b^2*x - b*d*x - a*b + a*d + a - c > 0, -b*x + a - x > 0], [b - d > 0, -b > 0, b + 1 > 0, b^2*x - b*d*x - a*b + a*d + a - c > 0, b*x - a + x > 0], [b - d > 0, b > 0, b^2*x - b*d*x - a*b + a*d + a - c > 0, -b*x + a - x > 0], [-b + d > 0, -b - 1 > 0, b > 0, -b^2*x + b*d*x + a*b - a*d - a + c > 0, b*x - a + x > 0], [-b + d > 0, -b - 1 > 0, -b^2*x + b*d*x + a*b - a*d - a + c > 0, -b*x + a - x > 0], [-b + d > 0, -b > 0, b + 1 > 0, -b^2*x + b*d*x + a*b - a*d - a + c > 0, b*x - a + x > 0], [-b + d > 0, b > 0, -b^2*x + b*d*x + a*b - a*d - a + c > 0, -b*x + a - x > 0]]"
      ]
     },
     "execution_count": 23,
     "metadata": {},
     "output_type": "execute_result"
    }
   ],
   "source": [
    "solve([a/(1+b)<a-b*x,a-b*x<(a-c)/(b-d)], [x])"
   ]
  },
  {
   "cell_type": "code",
   "execution_count": 24,
   "id": "ec0b9f56-32f1-4bee-8298-ef73b4d5cfa1",
   "metadata": {},
   "outputs": [
    {
     "data": {
      "text/plain": [
       "[[d < b,\n",
       "  -b^3*d*x + b^2*d^2*x + a*b^2*d - a*b*d^2 - b^2*c + b*c*d + a*b - a*d - a + c > 0],\n",
       " [b < d,\n",
       "  b^3*d*x - b^2*d^2*x - a*b^2*d + a*b*d^2 + b^2*c - b*c*d - a*b + a*d + a - c > 0]]"
      ]
     },
     "execution_count": 24,
     "metadata": {},
     "output_type": "execute_result"
    }
   ],
   "source": [
    "solve( [a-b*c+b*d*a - b^2*d*x > (a-c)/(b-d)], [x])"
   ]
  },
  {
   "cell_type": "code",
   "execution_count": null,
   "id": "eb268c8f-7ad7-4683-bba4-e27c6d960cb6",
   "metadata": {},
   "outputs": [],
   "source": []
  }
 ],
 "metadata": {
  "kernelspec": {
   "display_name": "SageMath 9.4",
   "language": "sage",
   "name": "sagemath"
  },
  "language_info": {
   "codemirror_mode": {
    "name": "ipython",
    "version": 3
   },
   "file_extension": ".py",
   "mimetype": "text/x-python",
   "name": "python",
   "nbconvert_exporter": "python",
   "pygments_lexer": "ipython3",
   "version": "3.9.5"
  }
 },
 "nbformat": 4,
 "nbformat_minor": 5
}
