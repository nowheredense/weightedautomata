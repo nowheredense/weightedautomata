{
 "cells": [
  {
   "cell_type": "code",
   "execution_count": 1,
   "id": "6225c687-f2e1-4d53-9a7c-d81e76889235",
   "metadata": {},
   "outputs": [],
   "source": [
    "load(\"WeightedAutomaton.py\")\n",
    "# Load database of witnesses for PFA complexity, so we have some more examples to play with later\n",
    "SW = WeightedAutomaton._loadwits(\"witnesses\")"
   ]
  },
  {
   "cell_type": "code",
   "execution_count": 2,
   "id": "649c0e38-defc-40ca-b2f2-fa3fa05ed9dc",
   "metadata": {},
   "outputs": [
    {
     "name": "stdout",
     "output_type": "stream",
     "text": [
      "0\n"
     ]
    },
    {
     "data": {
      "text/html": [
       "<div class=\"notruncate\">\n",
       "<table  class=\"table_form\">\n",
       "<tbody>\n",
       "<tr class =\"row-a\">\n",
       "<td style=\"text-align:left\">\\(\\left(\\begin{array}{rrr}\n",
       "\\frac{1}{2} & 0 & 1 \\\\\n",
       "0 & \\frac{1}{2} & 0 \\\\\n",
       "0 & 0 & 1\n",
       "\\end{array}\\right)\\)</td>\n",
       "</tr>\n",
       "</tbody>\n",
       "</table>\n",
       "</div>"
      ],
      "text/plain": [
       "<repr(<sage.misc.table.table at 0x7f9d0259b5e0>) failed: TypeError: object of type 'sage.matrix.matrix_rational_dense.Matrix_rational_dense' has no len()>"
      ]
     },
     "metadata": {},
     "output_type": "display_data"
    },
    {
     "name": "stdout",
     "output_type": "stream",
     "text": [
      "1\n"
     ]
    },
    {
     "data": {
      "text/html": [
       "<div class=\"notruncate\">\n",
       "<table  class=\"table_form\">\n",
       "<tbody>\n",
       "<tr class =\"row-a\">\n",
       "<td style=\"text-align:left\">\\(\\left(\\begin{array}{rrr}\n",
       "0 & 1 & 0 \\\\\n",
       "\\frac{1}{8} & 0 & \\frac{1}{2} \\\\\n",
       "0 & 0 & 1\n",
       "\\end{array}\\right)\\)</td>\n",
       "</tr>\n",
       "</tbody>\n",
       "</table>\n",
       "</div>"
      ],
      "text/plain": [
       "<repr(<sage.misc.table.table at 0x7f9d0259b730>) failed: TypeError: object of type 'sage.matrix.matrix_rational_dense.Matrix_rational_dense' has no len()>"
      ]
     },
     "metadata": {},
     "output_type": "display_data"
    },
    {
     "name": "stdout",
     "output_type": "stream",
     "text": [
      "2\n"
     ]
    },
    {
     "data": {
      "text/html": [
       "<div class=\"notruncate\">\n",
       "<table  class=\"table_form\">\n",
       "<tbody>\n",
       "<tr class =\"row-a\">\n",
       "<td style=\"text-align:left\">\\(\\left(\\begin{array}{rrr}\n",
       "1 & 1 & 0 \\\\\n",
       "0 & 0 & 0 \\\\\n",
       "0 & 0 & 1\n",
       "\\end{array}\\right)\\)</td>\n",
       "</tr>\n",
       "</tbody>\n",
       "</table>\n",
       "</div>"
      ],
      "text/plain": [
       "<repr(<sage.misc.table.table at 0x7f9d0259b8b0>) failed: TypeError: object of type 'sage.matrix.matrix_integer_dense.Matrix_integer_dense' has no len()>"
      ]
     },
     "metadata": {},
     "output_type": "display_data"
    },
    {
     "name": "stdout",
     "output_type": "stream",
     "text": [
      "Initial state distribution: [1/2, 1/2, 0]\n",
      "Final state distribution: [1, 0, 0]\n"
     ]
    }
   ],
   "source": [
    "# Create a WeightedAutomaton over the alphabet ['0','1','2'].\n",
    "# First, the transition matrices. \n",
    "mytransitions = {'0': matrix([[1/2,0,1], [0,1/2,0], [0,0,1]]),\n",
    "                 '1': matrix([[0,1,0], [1/8,0,1/2], [0,0,1]]),\n",
    "                 '2': matrix([[1,1,0], [0,0,0], [0,0,1]])}\n",
    "# Next, the initial and accepting state vectors\n",
    "initialstates = [1/2,1/2,0]\n",
    "acceptingstates = [1,0,0]\n",
    "# Put these together into a WeightedAutomaton and pretty-print it\n",
    "myWA = WeightedAutomaton(mytransitions,initialstates,acceptingstates)\n",
    "myWA.show()"
   ]
  },
  {
   "cell_type": "code",
   "execution_count": 3,
   "id": "9f837b7a-b288-4cb9-bc83-ac13b8bdc37d",
   "metadata": {},
   "outputs": [
    {
     "name": "stdout",
     "output_type": "stream",
     "text": [
      "3\n",
      "['0', '1', '2']\n",
      "Rational Field\n",
      "[0, 1, 2] \n",
      "\n",
      "{'0': [1/2   0   1]\n",
      "[  0 1/2   0]\n",
      "[  0   0   1], '1': [  0   1   0]\n",
      "[1/8   0 1/2]\n",
      "[  0   0   1], '2': [1 1 0]\n",
      "[0 0 0]\n",
      "[0 0 1]} \n",
      "\n",
      "[1/2 1/2   0] \n",
      "\n",
      "[1]\n",
      "[0]\n",
      "[0]\n"
     ]
    }
   ],
   "source": [
    "# Or, we can manually retrieve some basic properties of the automaton:\n",
    "print(myWA.size) # number of states\n",
    "print(myWA.alphabet) # underlying alphabet the WA reads from. These must always be strings.\n",
    "print(myWA.ring) # ring in which the entries of the transition matrices live\n",
    "print(myWA.states,'\\n') # list of names for the states. So far they can only be numbers (allowing arbitrary labels is planned).\n",
    "print(myWA.transitions,'\\n') # dictionary of transition matrices, exactly as given to the constructor\n",
    "print(myWA.initial_states,'\\n') # initial state distribution (row vector)\n",
    "print(myWA.accepting_states) # final state distribution (column vector)"
   ]
  },
  {
   "cell_type": "code",
   "execution_count": 4,
   "id": "b061c690-9640-4198-8083-3e6e6b1178f4",
   "metadata": {},
   "outputs": [
    {
     "data": {
      "text/plain": [
       "False"
      ]
     },
     "execution_count": 4,
     "metadata": {},
     "output_type": "execute_result"
    }
   ],
   "source": [
    "# This particular automaton is not stochastic, i.e., a PFA as defined by Rabin (or really the slight generalization\n",
    "# which allows any stochastic vector as the initial state distribution):\n",
    "myWA.is_pfa()"
   ]
  },
  {
   "cell_type": "code",
   "execution_count": 5,
   "id": "e032bb28-59fe-43a4-b5d3-555b25a37c79",
   "metadata": {},
   "outputs": [
    {
     "data": {
      "text/plain": [
       "True"
      ]
     },
     "execution_count": 5,
     "metadata": {},
     "output_type": "execute_result"
    }
   ],
   "source": [
    "# This WA happens to have a \"dead state\", i.e., a nonaccepting state with no out-transitions\n",
    "myWA.has_dead_state()"
   ]
  },
  {
   "cell_type": "code",
   "execution_count": 6,
   "id": "47c5b4ed-ec99-4acc-9db3-f3e7a0167756",
   "metadata": {},
   "outputs": [
    {
     "data": {
      "text/plain": [
       "True"
      ]
     },
     "execution_count": 6,
     "metadata": {},
     "output_type": "execute_result"
    }
   ],
   "source": [
    "# We can check each state individually to see if it's dead. In this case only state 2 is\n",
    "myWA.is_dead_state(2)"
   ]
  },
  {
   "cell_type": "code",
   "execution_count": 7,
   "id": "a2e82638-aa63-44f6-9eb2-5277d38b5878",
   "metadata": {},
   "outputs": [
    {
     "data": {
      "text/plain": [
       "1/1024"
      ]
     },
     "execution_count": 7,
     "metadata": {},
     "output_type": "execute_result"
    }
   ],
   "source": [
    "# Compute acceptance probability of the string 0200121\n",
    "myWA.prob('0200121')"
   ]
  },
  {
   "cell_type": "code",
   "execution_count": 8,
   "id": "5757b53a-1b9b-4177-ae1b-100f3af455b2",
   "metadata": {},
   "outputs": [
    {
     "data": {
      "text/plain": [
       "1/1024"
      ]
     },
     "execution_count": 8,
     "metadata": {},
     "output_type": "execute_result"
    }
   ],
   "source": [
    "# You can call myWA to get the same thing\n",
    "myWA('0200121')"
   ]
  },
  {
   "cell_type": "code",
   "execution_count": 9,
   "id": "c0548e6c-ca58-4653-bb72-7f00725264ff",
   "metadata": {},
   "outputs": [
    {
     "data": {
      "text/plain": [
       "233/128"
      ]
     },
     "execution_count": 9,
     "metadata": {},
     "output_type": "execute_result"
    }
   ],
   "source": [
    "# Display the 'probability' of going from state 0 to state 2 reading 0200121\n",
    "myWA.trans_prob(0,2,'0200121')"
   ]
  },
  {
   "cell_type": "code",
   "execution_count": 10,
   "id": "22f1f178-da55-425a-b2fc-84990197cf08",
   "metadata": {},
   "outputs": [
    {
     "data": {
      "text/plain": [
       "[ 1/1024   1/128 233/256]"
      ]
     },
     "execution_count": 10,
     "metadata": {},
     "output_type": "execute_result"
    }
   ],
   "source": [
    "# Show how the states of the automaton are weighted after the string is read, given as a row vector\n",
    "myWA.read('0200121')"
   ]
  },
  {
   "cell_type": "code",
   "execution_count": 11,
   "id": "506731ba-9d45-44b4-b23e-a02435bde026",
   "metadata": {},
   "outputs": [
    {
     "data": {
      "text/plain": [
       "-511/1024"
      ]
     },
     "execution_count": 11,
     "metadata": {},
     "output_type": "execute_result"
    }
   ],
   "source": [
    "# Compute its gap wrt myWA, that is, the minimum difference between the probs of 0200101 and of all other strings of the same length\n",
    "myWA.gap('0200121')\n",
    "# the value being negative means there are higher-probability strings of length 7."
   ]
  },
  {
   "cell_type": "code",
   "execution_count": 12,
   "id": "22a35fa4-65e1-499f-8e9f-30aa08f7babe",
   "metadata": {},
   "outputs": [
    {
     "data": {
      "text/plain": [
       "False"
      ]
     },
     "execution_count": 12,
     "metadata": {},
     "output_type": "execute_result"
    }
   ],
   "source": [
    "# Another way to see that this string isn't the most likely of length 7 is the following function, which is faster\n",
    "# since it immediately returns False when it sees a string with at least the same probability:\n",
    "myWA.is_highest('0200121')"
   ]
  },
  {
   "cell_type": "code",
   "execution_count": 13,
   "id": "7baa670f-7605-417f-9ea8-c4c49c3bc5ec",
   "metadata": {},
   "outputs": [
    {
     "data": {
      "text/plain": [
       "-511/1024"
      ]
     },
     "execution_count": 13,
     "metadata": {},
     "output_type": "execute_result"
    }
   ],
   "source": [
    "# If you're computing a lot of gaps over the same alphabet, you can pass in the precomputed set of all strings of a particular \n",
    "# length in order to save some runtime:\n",
    "strings7 = myWA.strings([7])\n",
    "myWA.gap('0200121',strings7)\n",
    "# This is mainly useful when doing brute-force calculations over large numbers of WAs."
   ]
  },
  {
   "cell_type": "code",
   "execution_count": 14,
   "id": "fc28b9fb-e4e4-4646-a81d-0bc80bb2ca92",
   "metadata": {},
   "outputs": [
    {
     "data": {
      "text/plain": [
       "False"
      ]
     },
     "execution_count": 14,
     "metadata": {},
     "output_type": "execute_result"
    }
   ],
   "source": [
    "# You can do the same with is_highest() to save time:\n",
    "myWA.is_highest('0200121',strings7)"
   ]
  },
  {
   "cell_type": "code",
   "execution_count": 15,
   "id": "9d1b1ef6-1bd5-413e-a71d-35ce173363e7",
   "metadata": {},
   "outputs": [
    {
     "data": {
      "text/plain": [
       "0"
      ]
     },
     "execution_count": 15,
     "metadata": {},
     "output_type": "execute_result"
    }
   ],
   "source": [
    "# If you don't care about non-positive gaps, you can set the optional parameter cutoff=True in gap() to immediately\n",
    "# return 0 if there is another string having at least the same probability. This saves time when testing lots of strings.\n",
    "myWA.gap('0200121',cutoff=True)"
   ]
  },
  {
   "cell_type": "code",
   "execution_count": 16,
   "id": "ab7fbf10-58e2-4cd2-b11e-d086475c1feb",
   "metadata": {},
   "outputs": [
    {
     "data": {
      "text/plain": [
       "[1/2, '22222']"
      ]
     },
     "execution_count": 16,
     "metadata": {},
     "output_type": "execute_result"
    }
   ],
   "source": [
    "# Find acceptance probabilities of all strings of length 5\n",
    "# The output is a ProbabilityList, a dict in the format 'string':probability.\n",
    "probs5 = myWA.probs_of_length(5)\n",
    "# Find the highest-probability string(s) of that length\n",
    "probs5.highest_prob()"
   ]
  },
  {
   "cell_type": "code",
   "execution_count": 17,
   "id": "060bd142-8e74-4fe4-8abf-fd369c647296",
   "metadata": {},
   "outputs": [
    {
     "data": {
      "text/plain": [
       "[1/4, '22222', '02222']"
      ]
     },
     "execution_count": 17,
     "metadata": {},
     "output_type": "execute_result"
    }
   ],
   "source": [
    "# Find the gap between the two highest-prob strings listed in probs5. Output is a list of the form [gap, highest, second-highest].\n",
    "probs5.highest_gap()"
   ]
  },
  {
   "cell_type": "code",
   "execution_count": 18,
   "id": "65b8a9d1-f817-4d04-a22b-c4f22e1442c0",
   "metadata": {},
   "outputs": [
    {
     "data": {
      "text/plain": [
       "[1/2, '2222', '22222', '222222', '2222222']"
      ]
     },
     "execution_count": 18,
     "metadata": {},
     "output_type": "execute_result"
    }
   ],
   "source": [
    "# Now do the same for all strings of lengths 4 through 7. Here we first generate a list of all such strings\n",
    "# to pass to myWA.probs():\n",
    "strings47 = myWA.strings(range(4,8))\n",
    "probs47 = myWA.probs(strings47)\n",
    "# Find the highest-probability string(s) among all those lengths. This time there are several sharing the same probability:\n",
    "probs47.highest_prob()"
   ]
  },
  {
   "cell_type": "code",
   "execution_count": 19,
   "id": "d8e91f7f-32b8-43bd-8d89-3d0aa7626f57",
   "metadata": {},
   "outputs": [
    {
     "data": {
      "text/plain": [
       "[1/4, '2222222', '0222222']"
      ]
     },
     "execution_count": 19,
     "metadata": {},
     "output_type": "execute_result"
    }
   ],
   "source": [
    "# Find the gap between the top two strings of length 7:\n",
    "probs47.highest_gap(7)\n",
    "# You can also pass a length argument to highest_prob() to find the highest-prob string(s) of just that length."
   ]
  },
  {
   "cell_type": "code",
   "execution_count": 20,
   "id": "66bf64e1-00be-403e-a70a-0040f0977fe0",
   "metadata": {},
   "outputs": [
    {
     "data": {
      "text/plain": [
       "[0, '2222', '22222']"
      ]
     },
     "execution_count": 20,
     "metadata": {},
     "output_type": "execute_result"
    }
   ],
   "source": [
    "# The gap between the top two strings of /all/ lengths is 0 because 2^n has probability 1/2 for each n:\n",
    "probs47.highest_gap()"
   ]
  },
  {
   "cell_type": "code",
   "execution_count": 21,
   "id": "696cf453-8e6d-45bb-9311-d9948754ffbf",
   "metadata": {},
   "outputs": [
    {
     "name": "stdout",
     "output_type": "stream",
     "text": [
      "13\n",
      "{'0101', '1010', '10000'}\n"
     ]
    }
   ],
   "source": [
    "# Let's see how many strings in the witness database are given a gap of more than 1/10 by a witness in the database.\n",
    "# First, make the set of binary strings of each length in advance to save runtime:\n",
    "S2 = {}\n",
    "maxlength = 7 # let's keep this to a manageable length\n",
    "for i in range(maxlength+1):\n",
    "    # any WA reading from a binary alphabet will do for this. We do want to stratify by length however\n",
    "    S2[i] = SW['0101'][0].strings([i])\n",
    "\n",
    "desiredgap = 1/10\n",
    "gapwitnesses = [] # this will contain the results of our search\n",
    "for s in SW.keys(): # keys are binary strings; values are lists of WAs giving s a positive gap\n",
    "    if len(s) > maxlength: continue\n",
    "    for A in SW[s]: # for each PFA listed, see how big its gap is\n",
    "        g = A.gap(s,S2[len(s)])\n",
    "        if g >= desiredgap:\n",
    "            gapwitnesses.append([s,g,A]) # add to our list\n",
    "print(len(gapwitnesses))\n",
    "# this is specifically the set of distinct strings represented\n",
    "print(set([gw[0] for gw in gapwitnesses]))"
   ]
  },
  {
   "cell_type": "code",
   "execution_count": 22,
   "id": "3522cc06-89c0-43d0-89af-e5a1dcfe69ee",
   "metadata": {},
   "outputs": [
    {
     "name": "stdout",
     "output_type": "stream",
     "text": [
      "[0.000000000000000, '0', '1']\n",
      "[0.500000000000000, '01', '11']\n",
      "[0.250000000000000, '101', '001']\n",
      "[0.125000000000000, '0001', '1001']\n",
      "[0.0625000000000000, '01101', '10001']\n",
      "[0.0625000000000000, '010101', '000001']\n",
      "[0.0156250000000000, '0110001', '1000001']\n",
      "[0.0156250000000000, '01010001', '00000001']\n",
      "[0.00390625000000000, '011000001', '100000001']\n",
      "[0.00390625000000000, '0101000001', '0000000001']\n",
      "[0.000976562500000000, '01100000001', '10000000001']\n",
      "[0.000976562500000000, '010100000001', '000000000001']\n"
     ]
    }
   ],
   "source": [
    "# Examine a witness to A_P(0110001) = 3 and see what its highest-prob strings are of a bunch of lengths:\n",
    "W = SW['0110001'][0]\n",
    "for l in range(1,13):\n",
    "    print(W.probs_of_length(l).highest_gap(numerical=True))"
   ]
  },
  {
   "cell_type": "code",
   "execution_count": 23,
   "id": "90a29096-f738-4691-81bf-56a9e7ae5d4e",
   "metadata": {},
   "outputs": [
    {
     "data": {
      "text/plain": [
       "True"
      ]
     },
     "execution_count": 23,
     "metadata": {},
     "output_type": "execute_result"
    }
   ],
   "source": [
    "# Let's play around with this example. First, create a copy since we don't want to accidentally mess up witnesses.pickle\n",
    "W1 = deepcopy(W)\n",
    "# switch the first and third states (has no effect on acceptance probabilities)\n",
    "W1.swap_states(0,2)\n",
    "# The read() function returns a row vector describing the state distribution after reading the specified word.\n",
    "# Set W1's initial state vector to that obtained after reading 011000:\n",
    "W1.initial_states = W1.read('011000')\n",
    "# Demonstrate that the gap of an extension of 011000 wrt W1 is at least what it would have been for W,\n",
    "# and that the inequality can be strict (see Proposition 3.3 in Gill 2024)\n",
    "W.gap('011000001') < W1.gap('001')"
   ]
  },
  {
   "cell_type": "code",
   "execution_count": 24,
   "id": "d56351a3-0bef-4803-ac21-3e0893e0418d",
   "metadata": {},
   "outputs": [
    {
     "name": "stdout",
     "output_type": "stream",
     "text": [
      "[1.59375000000000, '1', '0']\n",
      "[0.489583333333333, '01', '10']\n",
      "[0.0694444444444444, '111', '001']\n",
      "[0.126736111111111, '1101', '0001']\n",
      "[0.0604745370370370, '01101', '11001']\n",
      "[0.0140817901234568, '111101', '110001']\n",
      "[0.0419319058641975, '1101101', '0110001']\n",
      "[0.00972141846707819, '01101101', '11110001']\n",
      "[0.0104829764660494, '110110001', '011000001']\n",
      "[0.000707639424725652, '1101101101', '0110110001']\n",
      "[0.00262074411651235, '11011000001', '01100000001']\n",
      "[0.000176909856181413, '110110110001', '011011000001']\n"
     ]
    }
   ],
   "source": [
    "# Change the probability of going from state 2 to state 0 reading '1' to 1/3\n",
    "W1.set_transition(2,0,'1',1/3)\n",
    "# Actually, let's change it to 2/3, and this time let's rescale the other out-transitions from state 1 reading '1'\n",
    "# so that altogether they sum to 1:\n",
    "W1.set_transition(2,0,'1',2/3,reweight=True)\n",
    "# Do the same for the initial state distribution, setting the weight of state 0 to -1/2\n",
    "W1.set_initial(0,-1/2,reweight=True)\n",
    "# See how all this has changed the highest-probability strings\n",
    "for l in range(1,13):\n",
    "    print(W1.probs_of_length(l).highest_gap(numerical=True))"
   ]
  },
  {
   "cell_type": "code",
   "execution_count": 25,
   "id": "f531d21b-5fe8-4d90-9e3c-28cf9ace00fd",
   "metadata": {},
   "outputs": [],
   "source": [
    "# Create 3-state automaton over SR using the generators of a polynomial ring, aside from the final state vector\n",
    "# which we'll fix at [1,0,0].\n",
    "R = PolynomialRing(QQ,12,'q')\n",
    "q = R.gens()\n",
    "P0 = matrix(SR,2,2,q[0:4])\n",
    "P1 = matrix(SR,2,2,q[4:8])\n",
    "vi = q[8:10]\n",
    "vf = q[10:12]\n",
    "symbaut = WeightedAutomaton({'0':P0,'1':P1},vi,vf,ring=SR)"
   ]
  },
  {
   "cell_type": "code",
   "execution_count": 26,
   "id": "0620b8f8-79af-401a-9323-797a23ad3489",
   "metadata": {},
   "outputs": [],
   "source": [
    "# Let's use the conjugate gradient method to see how high of a gap we can find for the string 0110 among\n",
    "# 3-state generalized automata with coefficients in [-1,1]. Thanks to Patrick Lutz for suggesting this approach.\n",
    "# Forcing the WA to be a PFA is a lot messier to do with minimize_constrained(), so let's not bother for this example.\n",
    "# First, Sage only lets us _minimize_ stuff, so we have to consider the negative of the gap function:\n",
    "theword = '01101'\n",
    "neggap = -symbaut.gap(theword)\n",
    "# The function to actually be minimized (plug in the values of x to the variables q)\n",
    "f = lambda x: neggap.subs(dict(zip(q,x)))"
   ]
  },
  {
   "cell_type": "code",
   "execution_count": 27,
   "id": "37ce6755-b81c-4e02-befb-3e931903b62c",
   "metadata": {},
   "outputs": [
    {
     "name": "stdout",
     "output_type": "stream",
     "text": [
      "(0.5434950393537632, 0.9999999999029563, -0.13221469257774374, 0.5034272987915008, 0.5139988215364416, 0.5685278448936099, 1.0, 0.2559818931680029, 1.0, -0.08031545460682817, 1.0, -0.13316696286466193) 0.296835262992385\n"
     ]
    }
   ],
   "source": [
    "# Pick our starting values to be ones I found from a brute-force search a while ago. That one gave 01101 a gap of ~0.0176.\n",
    "# ***NOTE*** this may take some time to run, depending on your machine.\n",
    "coeffs = minimize_constrained(f, [[-1,1]]*12, [1/2,1/2, # P0\n",
    "                                               0,1/2,\n",
    "                                               1/4,3/4, # P1\n",
    "                                               1,0,\n",
    "                                               1,0, # initial vector\n",
    "                                               1,0], # final vector\n",
    "                              algorithm='l-bfgs-b')\n",
    "print(coeffs, -f([QQ(t) for t in coeffs]).n())"
   ]
  }
 ],
 "metadata": {
  "kernelspec": {
   "display_name": "SageMath 9.4",
   "language": "sage",
   "name": "sagemath"
  },
  "language_info": {
   "codemirror_mode": {
    "name": "ipython",
    "version": 3
   },
   "file_extension": ".py",
   "mimetype": "text/x-python",
   "name": "python",
   "nbconvert_exporter": "python",
   "pygments_lexer": "ipython3",
   "version": "3.9.5"
  }
 },
 "nbformat": 4,
 "nbformat_minor": 5
}
