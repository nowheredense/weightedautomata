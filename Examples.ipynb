{
 "cells": [
  {
   "cell_type": "code",
   "execution_count": 1,
   "id": "6225c687-f2e1-4d53-9a7c-d81e76889235",
   "metadata": {
    "tags": []
   },
   "outputs": [],
   "source": [
    "load(\"WeightedAutomaton.py\")\n",
    "# Load database of witnesses for PFA complexity, so we have some more examples to play with later\n",
    "SW = WeightedAutomaton._loadwits(\"witnesses\")"
   ]
  },
  {
   "cell_type": "code",
   "execution_count": 2,
   "id": "649c0e38-defc-40ca-b2f2-fa3fa05ed9dc",
   "metadata": {},
   "outputs": [
    {
     "name": "stdout",
     "output_type": "stream",
     "text": [
      "0\n"
     ]
    },
    {
     "data": {
      "text/html": [
       "<div class=\"notruncate\">\n",
       "<table  class=\"table_form\">\n",
       "<tbody>\n",
       "<tr class =\"row-a\">\n",
       "<td style=\"text-align:left\">\\(\\left(\\begin{array}{rrr}\n",
       "\\frac{1}{2} & 0 & 1 \\\\\n",
       "0 & \\frac{1}{2} & -1 \\\\\n",
       "0 & 0 & 1\n",
       "\\end{array}\\right)\\)</td>\n",
       "</tr>\n",
       "</tbody>\n",
       "</table>\n",
       "</div>"
      ],
      "text/plain": [
       "<repr(<sage.misc.table.table at 0x7fe5b10723d0>) failed: TypeError: object of type 'sage.matrix.matrix_polynomial_dense.Matrix_polynomial_dense' has no len()>"
      ]
     },
     "metadata": {},
     "output_type": "display_data"
    },
    {
     "name": "stdout",
     "output_type": "stream",
     "text": [
      "1\n"
     ]
    },
    {
     "data": {
      "text/html": [
       "<div class=\"notruncate\">\n",
       "<table  class=\"table_form\">\n",
       "<tbody>\n",
       "<tr class =\"row-a\">\n",
       "<td style=\"text-align:left\">\\(\\left(\\begin{array}{rrr}\n",
       "0 & 1 & 0 \\\\\n",
       "\\frac{1}{8} & 0 & \\frac{1}{2} \\\\\n",
       "0 & 0 & 1\n",
       "\\end{array}\\right)\\)</td>\n",
       "</tr>\n",
       "</tbody>\n",
       "</table>\n",
       "</div>"
      ],
      "text/plain": [
       "<repr(<sage.misc.table.table at 0x7fe5b1072bb0>) failed: TypeError: object of type 'sage.matrix.matrix_polynomial_dense.Matrix_polynomial_dense' has no len()>"
      ]
     },
     "metadata": {},
     "output_type": "display_data"
    },
    {
     "name": "stdout",
     "output_type": "stream",
     "text": [
      "2\n"
     ]
    },
    {
     "data": {
      "text/html": [
       "<div class=\"notruncate\">\n",
       "<table  class=\"table_form\">\n",
       "<tbody>\n",
       "<tr class =\"row-a\">\n",
       "<td style=\"text-align:left\">\\(\\left(\\begin{array}{rrr}\n",
       "1 & 1 & 0 \\\\\n",
       "0 & 0 & x \\\\\n",
       "0 & 0 & 1\n",
       "\\end{array}\\right)\\)</td>\n",
       "</tr>\n",
       "</tbody>\n",
       "</table>\n",
       "</div>"
      ],
      "text/plain": [
       "<repr(<sage.misc.table.table at 0x7fe5b1072d60>) failed: TypeError: object of type 'sage.matrix.matrix_polynomial_dense.Matrix_polynomial_dense' has no len()>"
      ]
     },
     "metadata": {},
     "output_type": "display_data"
    },
    {
     "name": "stdout",
     "output_type": "stream",
     "text": [
      "Initial state distribution: [1/2, 1/2, 0]\n",
      "Final state distribution: [1, 0, 0]\n"
     ]
    }
   ],
   "source": [
    "# Create a WeightedAutomaton over the alphabet ['0','1','2'].\n",
    "# First, the transition matrices. \n",
    "mytransitions = {'0': [[.5,0,1], [0,.5,-1], [0,0,1]],\n",
    "                 '1': [[0,1,0], [1/8,0,.5], [0,0,1]],\n",
    "                 '2': [[1,1,0], [0,0,x], [0,0,1]]}\n",
    "# Next, the initial and accepting state vectors\n",
    "initialstates = [.5,.5,0]\n",
    "acceptingstates = [1,0,0]\n",
    "# Put these together into a WeightedAutomaton and pretty-print it\n",
    "myWA = WeightedAutomaton(mytransitions,initialstates,acceptingstates,ring=QQ[x])\n",
    "myWA.show()\n",
    "# (The 'ring' argument is optional; default value is QQ. Setting it coerces all matrices and vectors to be over the specified ring.)"
   ]
  },
  {
   "cell_type": "code",
   "execution_count": 3,
   "id": "9f837b7a-b288-4cb9-bc83-ac13b8bdc37d",
   "metadata": {},
   "outputs": [
    {
     "name": "stdout",
     "output_type": "stream",
     "text": [
      "3\n",
      "['0', '1', '2']\n",
      "Univariate Polynomial Ring in x over Rational Field\n",
      "[0, 1, 2] \n",
      "\n",
      "{'0': [1/2   0   1]\n",
      "[  0 1/2  -1]\n",
      "[  0   0   1], '1': [  0   1   0]\n",
      "[1/8   0 1/2]\n",
      "[  0   0   1], '2': [1 1 0]\n",
      "[0 0 x]\n",
      "[0 0 1]} \n",
      "\n",
      "[1/2 1/2   0] \n",
      "\n",
      "[1]\n",
      "[0]\n",
      "[0]\n"
     ]
    }
   ],
   "source": [
    "# Or, we can manually retrieve some basic properties of the automaton:\n",
    "print(myWA.size) # number of states\n",
    "print(myWA.alphabet) # underlying alphabet the WA reads from. These must always be strings.\n",
    "print(myWA.ring) # ring in which the entries of the transition matrices live. Default is SR.\n",
    "print(myWA.states,'\\n') # list of names for the states. So far they can only be numbers (allowing arbitrary labels is planned).\n",
    "print(myWA.transitions,'\\n') # dictionary of transition matrices\n",
    "print(myWA.initial,'\\n') # initial state distribution (row vector)\n",
    "print(myWA.final) # final state distribution (column vector)"
   ]
  },
  {
   "cell_type": "code",
   "execution_count": 4,
   "id": "b061c690-9640-4198-8083-3e6e6b1178f4",
   "metadata": {},
   "outputs": [
    {
     "data": {
      "text/plain": [
       "False"
      ]
     },
     "execution_count": 4,
     "metadata": {},
     "output_type": "execute_result"
    }
   ],
   "source": [
    "# This particular automaton is not stochastic, i.e., a PFA as defined by Rabin (or really the slight generalization\n",
    "# which allows any stochastic vector as the initial state distribution):\n",
    "myWA.is_pfa()"
   ]
  },
  {
   "cell_type": "code",
   "execution_count": 5,
   "id": "04a4bd8a-3c47-4844-b288-3463cfedd846",
   "metadata": {},
   "outputs": [
    {
     "name": "stdout",
     "output_type": "stream",
     "text": [
      "True\n",
      "True\n"
     ]
    },
    {
     "data": {
      "text/plain": [
       "[\n",
       "{'0': [1/2   0]                          \n",
       "[  0 1/2], '1': [  0   1]                \n",
       "[1/8   0], '2': [1 1]                 [1]\n",
       "[0 0]}                   , [1/2 1/2], [0]\n",
       "]"
      ]
     },
     "execution_count": 5,
     "metadata": {},
     "output_type": "execute_result"
    }
   ],
   "source": [
    "# This WA happens to have a \"dead state\", i.e., a nonaccepting state with no out-transitions\n",
    "print(myWA.has_dead_state())\n",
    "# We can check each state individually to see if it's dead. In this case only state 2 is\n",
    "print(myWA.is_dead_state(2))\n",
    "# Let's delete state 2. Since it's dead, this won't change the acceptance probability function:\n",
    "myWA = myWA.delete_states([2]); myWA.list()"
   ]
  },
  {
   "cell_type": "code",
   "execution_count": 6,
   "id": "a2e82638-aa63-44f6-9eb2-5277d38b5878",
   "metadata": {},
   "outputs": [
    {
     "data": {
      "text/plain": [
       "1/1024"
      ]
     },
     "execution_count": 6,
     "metadata": {},
     "output_type": "execute_result"
    }
   ],
   "source": [
    "# Compute acceptance probability of the string 0200121\n",
    "myWA.prob('0200121')"
   ]
  },
  {
   "cell_type": "code",
   "execution_count": 7,
   "id": "5757b53a-1b9b-4177-ae1b-100f3af455b2",
   "metadata": {},
   "outputs": [
    {
     "data": {
      "text/plain": [
       "1/1024"
      ]
     },
     "execution_count": 7,
     "metadata": {},
     "output_type": "execute_result"
    }
   ],
   "source": [
    "# You can call myWA to get the same thing\n",
    "myWA('0200121')"
   ]
  },
  {
   "cell_type": "code",
   "execution_count": 8,
   "id": "c0548e6c-ca58-4653-bb72-7f00725264ff",
   "metadata": {},
   "outputs": [
    {
     "data": {
      "text/plain": [
       "1/64"
      ]
     },
     "execution_count": 8,
     "metadata": {},
     "output_type": "execute_result"
    }
   ],
   "source": [
    "# Display the probability of going from state 0 to state 1 reading 0200121\n",
    "myWA.trans_prob(0,1,'0200121')"
   ]
  },
  {
   "cell_type": "code",
   "execution_count": 9,
   "id": "22f1f178-da55-425a-b2fc-84990197cf08",
   "metadata": {},
   "outputs": [
    {
     "data": {
      "text/plain": [
       "[1/1024  1/128]"
      ]
     },
     "execution_count": 9,
     "metadata": {},
     "output_type": "execute_result"
    }
   ],
   "source": [
    "# Show how the states of the automaton are weighted after the string is read, given as a row vector\n",
    "myWA.read('0200121')"
   ]
  },
  {
   "cell_type": "code",
   "execution_count": 10,
   "id": "506731ba-9d45-44b4-b23e-a02435bde026",
   "metadata": {},
   "outputs": [
    {
     "data": {
      "text/plain": [
       "-511/1024"
      ]
     },
     "execution_count": 10,
     "metadata": {},
     "output_type": "execute_result"
    }
   ],
   "source": [
    "# Compute its gap wrt myWA, that is, the minimum difference between the probs of 0200101 and of all other strings of the same length\n",
    "myWA.gap('0200121')\n",
    "# the value being negative means there are higher-probability strings of length 7."
   ]
  },
  {
   "cell_type": "code",
   "execution_count": 11,
   "id": "22a35fa4-65e1-499f-8e9f-30aa08f7babe",
   "metadata": {},
   "outputs": [
    {
     "data": {
      "text/plain": [
       "False"
      ]
     },
     "execution_count": 11,
     "metadata": {},
     "output_type": "execute_result"
    }
   ],
   "source": [
    "# Another way to see that this string isn't the most likely of length 7 is the following function, which is faster\n",
    "# since it immediately returns False when it sees a string with at least the same probability:\n",
    "myWA.is_highest('0200121')"
   ]
  },
  {
   "cell_type": "code",
   "execution_count": 12,
   "id": "7baa670f-7605-417f-9ea8-c4c49c3bc5ec",
   "metadata": {},
   "outputs": [
    {
     "data": {
      "text/plain": [
       "-511/1024"
      ]
     },
     "execution_count": 12,
     "metadata": {},
     "output_type": "execute_result"
    }
   ],
   "source": [
    "# If you're computing a lot of gaps over the same alphabet, you can pass in the precomputed set of all strings of a particular \n",
    "# length in order to save some runtime:\n",
    "strings7 = myWA.strings([7])\n",
    "myWA.gap('0200121',strings7)\n",
    "# This is mainly useful when doing brute-force calculations over large numbers of WAs."
   ]
  },
  {
   "cell_type": "code",
   "execution_count": 13,
   "id": "fc28b9fb-e4e4-4646-a81d-0bc80bb2ca92",
   "metadata": {},
   "outputs": [
    {
     "data": {
      "text/plain": [
       "False"
      ]
     },
     "execution_count": 13,
     "metadata": {},
     "output_type": "execute_result"
    }
   ],
   "source": [
    "# You can do the same with is_highest() to save time:\n",
    "myWA.is_highest('0200121',strings7)"
   ]
  },
  {
   "cell_type": "code",
   "execution_count": 14,
   "id": "9d1b1ef6-1bd5-413e-a71d-35ce173363e7",
   "metadata": {},
   "outputs": [
    {
     "data": {
      "text/plain": [
       "0"
      ]
     },
     "execution_count": 14,
     "metadata": {},
     "output_type": "execute_result"
    }
   ],
   "source": [
    "# If you don't care about non-positive gaps, you can set the optional parameter cutoff in gap() to immediately\n",
    "# return 0 if there is another string whose difference in probability is less than cutoff. This saves time when testing lots of strings.\n",
    "myWA.gap('0200121',cutoff=0)"
   ]
  },
  {
   "cell_type": "code",
   "execution_count": 15,
   "id": "ab7fbf10-58e2-4cd2-b11e-d086475c1feb",
   "metadata": {},
   "outputs": [
    {
     "data": {
      "text/plain": [
       "[1/2, '22222']"
      ]
     },
     "execution_count": 15,
     "metadata": {},
     "output_type": "execute_result"
    }
   ],
   "source": [
    "# Find acceptance probabilities of all strings of length 5\n",
    "# The output is a ProbabilityList, a dict in the format 'string':probability.\n",
    "probs5 = myWA.probs_of_length(5)\n",
    "# Find the highest-probability string(s) of that length\n",
    "probs5.highest_prob()"
   ]
  },
  {
   "cell_type": "code",
   "execution_count": 16,
   "id": "060bd142-8e74-4fe4-8abf-fd369c647296",
   "metadata": {},
   "outputs": [
    {
     "data": {
      "text/plain": [
       "[1/4, '22222', '02222']"
      ]
     },
     "execution_count": 16,
     "metadata": {},
     "output_type": "execute_result"
    }
   ],
   "source": [
    "# Find the gap between the two highest-prob strings listed in probs5. Output is a list of the form [gap, highest, second-highest].\n",
    "probs5.highest_gap()"
   ]
  },
  {
   "cell_type": "code",
   "execution_count": 17,
   "id": "65b8a9d1-f817-4d04-a22b-c4f22e1442c0",
   "metadata": {},
   "outputs": [
    {
     "data": {
      "text/plain": [
       "[1/2, '2222', '22222', '222222', '2222222']"
      ]
     },
     "execution_count": 17,
     "metadata": {},
     "output_type": "execute_result"
    }
   ],
   "source": [
    "# Now do the same for all strings of lengths 4 through 7. Here we first generate a list of all such strings\n",
    "# to pass to myWA.probs():\n",
    "strings47 = myWA.strings(range(4,8))\n",
    "probs47 = myWA.probs(strings47)\n",
    "# Find the highest-probability string(s) among all those lengths. This time there are several sharing the same probability:\n",
    "probs47.highest_prob()"
   ]
  },
  {
   "cell_type": "code",
   "execution_count": 18,
   "id": "d8e91f7f-32b8-43bd-8d89-3d0aa7626f57",
   "metadata": {},
   "outputs": [
    {
     "data": {
      "text/plain": [
       "[1/4, '2222222', '0222222']"
      ]
     },
     "execution_count": 18,
     "metadata": {},
     "output_type": "execute_result"
    }
   ],
   "source": [
    "# Find the gap between the top two strings of length 7\n",
    "probs47.highest_gap(7)\n",
    "# You can also pass a length argument to highest_prob() to find the highest-prob string(s) of just that length."
   ]
  },
  {
   "cell_type": "code",
   "execution_count": 19,
   "id": "66bf64e1-00be-403e-a70a-0040f0977fe0",
   "metadata": {},
   "outputs": [
    {
     "data": {
      "text/plain": [
       "[0, '2222', '22222']"
      ]
     },
     "execution_count": 19,
     "metadata": {},
     "output_type": "execute_result"
    }
   ],
   "source": [
    "# The gap between the top two strings of /all/ lengths is 0 because 2^n has probability 1/2 for each n:\n",
    "probs47.highest_gap()"
   ]
  },
  {
   "cell_type": "code",
   "execution_count": 20,
   "id": "696cf453-8e6d-45bb-9311-d9948754ffbf",
   "metadata": {},
   "outputs": [
    {
     "name": "stdout",
     "output_type": "stream",
     "text": [
      "20\n",
      "{'010', '0101', '01110', '1010', '00001', '0110', '10000', '01101'}\n"
     ]
    }
   ],
   "source": [
    "# Let's see how many strings in the witness database are given a gap of more than 1/10 by a witness in the database.\n",
    "# First, make the set of binary strings of each length in advance to save runtime:\n",
    "S2 = {}\n",
    "maxlength = 7 # let's keep this to a manageable length\n",
    "for i in range(maxlength+1):\n",
    "    # any WA reading from a binary alphabet will do for this. We do want to stratify by length however\n",
    "    S2[i] = SW['0101'][0].strings([i])\n",
    "\n",
    "gapwitnesses = [] # this will contain the results of our search\n",
    "for s in SW.keys(): # keys are binary strings; values are lists of WAs giving s a positive gap\n",
    "    if len(s) > maxlength: continue\n",
    "    for A in SW[s]: # for each PFA listed, see how big its gap is. We don't care if it's 1/10 or less\n",
    "        g = A.gap(s,S2[len(s)],cutoff=1/10)\n",
    "        if g != 0:\n",
    "            gapwitnesses.append([s,g,A]) # add to our list\n",
    "print(len(gapwitnesses))\n",
    "# this is specifically the set of distinct strings represented\n",
    "print(set([gw[0] for gw in gapwitnesses]))"
   ]
  },
  {
   "cell_type": "code",
   "execution_count": 21,
   "id": "3522cc06-89c0-43d0-89af-e5a1dcfe69ee",
   "metadata": {},
   "outputs": [
    {
     "name": "stdout",
     "output_type": "stream",
     "text": [
      "[0.000000000000000, '0', '1']\n",
      "[0.500000000000000, '01', '11']\n",
      "[0.250000000000000, '101', '001']\n",
      "[0.125000000000000, '0001', '1001']\n",
      "[0.0625000000000000, '01101', '10001']\n",
      "[0.0625000000000000, '010101', '000001']\n",
      "[0.0156250000000000, '0110001', '1000001']\n",
      "[0.0156250000000000, '01010001', '00000001']\n",
      "[0.00390625000000000, '011000001', '100000001']\n",
      "[0.00390625000000000, '0101000001', '0000000001']\n",
      "[0.000976562500000000, '01100000001', '10000000001']\n",
      "[0.000976562500000000, '010100000001', '000000000001']\n"
     ]
    }
   ],
   "source": [
    "# Examine a witness to A_P(0110001) = 3 and see what its highest-prob strings are of a bunch of lengths, and what their gaps are\n",
    "W = SW['0110001'][0]\n",
    "for l in range(1,13):\n",
    "    print(W.probs_of_length(l).highest_gap(numerical=True))"
   ]
  },
  {
   "cell_type": "code",
   "execution_count": 22,
   "id": "90a29096-f738-4691-81bf-56a9e7ae5d4e",
   "metadata": {},
   "outputs": [
    {
     "data": {
      "text/plain": [
       "True"
      ]
     },
     "execution_count": 22,
     "metadata": {},
     "output_type": "execute_result"
    }
   ],
   "source": [
    "# Let's play around with this example. First, create a copy since we don't want to accidentally mess up the witness database\n",
    "W1 = deepcopy(W)\n",
    "# switch the first and third states (has no effect on acceptance probabilities)\n",
    "W1 = W1.swap_states(0,2)\n",
    "# The read() function returns a row vector describing the state distribution after reading the specified word.\n",
    "# Set W1's initial state vector to that obtained after reading 011000:\n",
    "W1.initial = W1.read('011000')\n",
    "# (be careful when setting the 'initial' property directly: make sure you're making it a row vector. You can use with_initial_vector() and with_final_vector() to avoid worrying about the internal representation.)\n",
    "\n",
    "# Demonstrate that the gap of an extension of 011000 wrt W1 is at least what it would have been for W,\n",
    "# and that the inequality can be strict (see Proposition 3.3 in Gill 2024)\n",
    "W.gap('011000001') < W1.gap('001')"
   ]
  },
  {
   "cell_type": "code",
   "execution_count": 23,
   "id": "d56351a3-0bef-4803-ac21-3e0893e0418d",
   "metadata": {},
   "outputs": [
    {
     "name": "stdout",
     "output_type": "stream",
     "text": [
      "[0.750000000000000, '1', '0']\n",
      "[0.166666666666667, '01', '10']\n",
      "[0.0642361111111111, '001', '111']\n",
      "[0.00434027777777778, '0001', '1011']\n",
      "[0.0198206018518519, '10101', '10111']\n",
      "[0.0133101851851852, '101101', '101001']\n",
      "[0.00576292438271605, '1011101', '1011001']\n",
      "[0.00276893647119342, '10111101', '10111001']\n",
      "[0.00175151641803841, '101111101', '101111001']\n",
      "[0.00140311088963192, '1011111101', '1011111001']\n",
      "[0.00132930309666019, '10111111101', '10111111001']\n",
      "[0.000719906613575166, '101111111101', '101111101101']\n"
     ]
    }
   ],
   "source": [
    "# Change the probability of going from state 2 to state 0 reading '1' to 1/3\n",
    "W1.set_transition(2,0,'1',1/3)\n",
    "# Change the prob. of going from state 1 to state 1 reading '1' to 2/3, and this time let's rescale the other out-transitions from state 1 reading '1' so that altogether they sum to 1:\n",
    "W1.set_transition(1,1,'1',2/3,reweight=True)\n",
    "# Do the same for the initial state distribution, setting the weight of state 0 to -1/2\n",
    "W1.set_initial(0,-1/2,reweight=True)\n",
    "# See how all this has changed the highest-probability strings\n",
    "for l in range(1,13):\n",
    "    print(W1.probs_of_length(l).highest_gap(numerical=True))"
   ]
  },
  {
   "cell_type": "code",
   "execution_count": 24,
   "id": "b91f029d-a061-46e6-b0ec-23d2dc8757bf",
   "metadata": {},
   "outputs": [
    {
     "name": "stdout",
     "output_type": "stream",
     "text": [
      "0.00000000000000000000000000\n",
      "0.0100000000000000000000000000\n",
      "0.0200000000000000000000000000\n",
      "0.0123000000000000000000000000\n",
      "0.000100000000000000000000000000\n",
      "0.0100000000000000000000000000\n",
      "0.0100010123010000000000000000\n",
      "0.000102010000000000000000000000\n",
      "0.0201020200000000000000000000\n",
      "0.0102010123000000000000000000\n"
     ]
    }
   ],
   "source": [
    "# Create a 4-adic PFA realizing the word homomorphism 0 |-> 00, 1 |-> 01, 2 |-> 02, 3 |-> 0123:\n",
    "A = WeightedAutomaton.madic({'0': '00', '1': '01', '2': '02', '3': '0123'})\n",
    "# Examine the 4-adic expansions of some acceptance probabilities:\n",
    "for s in A.alphabet + ['01', '10', '10131', '0121', '2122', '1213']:\n",
    "    print(A(s).n().str(base=4))"
   ]
  },
  {
   "cell_type": "code",
   "execution_count": 25,
   "id": "ea671637-d9dd-4d19-a935-7cfb984ebe82",
   "metadata": {},
   "outputs": [
    {
     "name": "stdout",
     "output_type": "stream",
     "text": [
      "Weighted finite automaton over the alphabet ['0', '1', '2', '3'] and coefficients in Rational Field with 9 states\n",
      "True\n"
     ]
    },
    {
     "data": {
      "text/plain": [
       "True"
      ]
     },
     "execution_count": 25,
     "metadata": {},
     "output_type": "execute_result"
    }
   ],
   "source": [
    "# Add some letters to W so we can play with it and A.\n",
    "# Here letter '2' will get the identity matrix by default, while we specify something different for '3':\n",
    "W2 = W.add_letter('2').add_letter('3',[[0,1,0],[0,0,1],[1,0,0]])\n",
    "# Take the tensor product of A with W2:\n",
    "prod = A*W2; print(prod)\n",
    "# This can also be done via prod = A.tensor_product(W2).\n",
    "# Since A and W2 are both PFAs, so is prod:\n",
    "print(prod.is_pfa())\n",
    "# Demonstrate the relation prod(x) = A(x)*W2(x):\n",
    "prod('01101') == A('01101')*W2('01101')"
   ]
  },
  {
   "cell_type": "code",
   "execution_count": 26,
   "id": "9d7c7fe6-eabc-49d7-b305-7a319ce285cb",
   "metadata": {},
   "outputs": [
    {
     "name": "stdout",
     "output_type": "stream",
     "text": [
      "True\n",
      "True\n",
      "True\n",
      "True\n"
     ]
    }
   ],
   "source": [
    "# Take a convex combination of W2 and A. This uses the direct sum operation +; each scalar is multiplied through to the initial state vector of the corresponding automaton\n",
    "AW2 = 1/3*A + 2/3*W2\n",
    "# The same result could be obtained with (1/3*A).direct_sum(2/3*W2).\n",
    "# Verify these operations are linear w.r.t. acceptance probabilities:\n",
    "print(AW2('10100') == 1/3*A('10100') + 2/3*W2('10100'))\n",
    "# Since this is a convex combination and A and W2 are PFAs, the result is a PFA:\n",
    "print(AW2.is_pfa())\n",
    "# To scale the transition probability function of a PFA by a constant while keeping it a PFA (albeit increasing the number of states), use scaled():\n",
    "Ascaled = A.scaled(1/3)\n",
    "# This is still a PFA and its transition probabilities are as you'd expect:\n",
    "print(Ascaled.is_pfa())\n",
    "print(Ascaled('10100') == 1/3*A('10100'))"
   ]
  },
  {
   "cell_type": "code",
   "execution_count": 27,
   "id": "0620b8f8-79af-401a-9323-797a23ad3489",
   "metadata": {},
   "outputs": [],
   "source": [
    "# Create 2-state symbolic automaton:\n",
    "symbaut = WeightedAutomaton.symbolic(2,varname='q')\n",
    "# make sure we have external access to the variables it uses\n",
    "q = symbaut.vars\n",
    "# Let's use the conjugate gradient method to see how high of a gap we can find for the string 01101 among\n",
    "# 2-state generalized automata with coefficients in [0,1]. Thanks to Patrick Lutz for suggesting this.\n",
    "# Sage only lets us *minimize* stuff, so we proceed by minimizing the negative of the gap function:\n",
    "theword = '01101'\n",
    "neggap = -symbaut.gap(theword)\n",
    "# The function to actually be minimized (plug in the values of x to the variables q)\n",
    "f = lambda x: neggap.subs(dict(zip(q,x)))"
   ]
  },
  {
   "cell_type": "code",
   "execution_count": 28,
   "id": "37ce6755-b81c-4e02-befb-3e931903b62c",
   "metadata": {
    "tags": []
   },
   "outputs": [
    {
     "name": "stdout",
     "output_type": "stream",
     "text": [
      "(0.42333080410397084, 1.0, 0.008089212990023614, 0.558243542222752, 0.4610990546748874, 0.6133562853301695, 1.0, 0.23603411073019287, 1.0, 0.0880504877587581, 1.0, 0.0) 0.279992036037740\n"
     ]
    }
   ],
   "source": [
    "# Pick our starting values to be ones I found from a brute-force search a while ago. That one gave 01101 a gap of roughly 0.0176.\n",
    "# ***NOTE*** this may take some time to run, depending on your machine.\n",
    "coeffs = minimize_constrained(f, [[0,1]]*12, [1/2,1/2, # P0\n",
    "                                               0,1/2,\n",
    "                                               1/4,3/4, # P1\n",
    "                                               1,0,\n",
    "                                               1,0, # initial vector\n",
    "                                               1,0], # final vector\n",
    "                              algorithm='l-bfgs-b')\n",
    "print(coeffs, -f([QQ(t) for t in coeffs]).n())"
   ]
  },
  {
   "cell_type": "code",
   "execution_count": 29,
   "id": "1487f339-d500-4e84-940f-eee248f693ce",
   "metadata": {},
   "outputs": [
    {
     "name": "stdout",
     "output_type": "stream",
     "text": [
      "[{'0': [123253021/291150608                   1]\n",
      "[  4586761/567021910  69893975/125203374], '1': [ 107316259/232740141 621548351/1013356129]\n",
      "[                   1  134208655/568598558]}, [                 1 28367363/322171560], [1]\n",
      "[0]]\n"
     ]
    },
    {
     "data": {
      "text/plain": [
       "[0.279992036037740, '01101', '00101']"
      ]
     },
     "execution_count": 29,
     "metadata": {},
     "output_type": "execute_result"
    }
   ],
   "source": [
    "# Verify the result by plugging these values back into symbaut. Also change ring to QQ because we want exact computations\n",
    "newaut = symbaut.subs(dict(zip(q,coeffs))).change_ring(QQ); print(newaut.list())\n",
    "newaut.probs_of_length(5).highest_gap(numerical=True)"
   ]
  },
  {
   "cell_type": "code",
   "execution_count": null,
   "id": "e90a93c2-cb2e-4357-9139-57e29bc62b65",
   "metadata": {},
   "outputs": [],
   "source": []
  }
 ],
 "metadata": {
  "kernelspec": {
   "display_name": "SageMath 9.4",
   "language": "sage",
   "name": "sagemath"
  },
  "language_info": {
   "codemirror_mode": {
    "name": "ipython",
    "version": 3
   },
   "file_extension": ".py",
   "mimetype": "text/x-python",
   "name": "python",
   "nbconvert_exporter": "python",
   "pygments_lexer": "ipython3",
   "version": "3.9.5"
  }
 },
 "nbformat": 4,
 "nbformat_minor": 5
}
