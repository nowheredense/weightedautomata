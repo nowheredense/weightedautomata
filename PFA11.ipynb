{
 "cells": [
  {
   "cell_type": "code",
   "execution_count": 87,
   "id": "7814da42-658f-430f-b800-b707caad0f19",
   "metadata": {},
   "outputs": [],
   "source": [
    "load(\"PFAcode.sage\")"
   ]
  },
  {
   "cell_type": "code",
   "execution_count": 5,
   "id": "2e5e290f-0832-46fd-ba78-4edfd7523596",
   "metadata": {},
   "outputs": [
    {
     "name": "stdout",
     "output_type": "stream",
     "text": [
      "256\n"
     ]
    }
   ],
   "source": [
    "NFA2 = bruteforcevecs(( (1,0),(0,0),(1,1),(0,1) )); print(len(NFA2))"
   ]
  },
  {
   "cell_type": "code",
   "execution_count": 6,
   "id": "ba4f0090-8c63-41de-a67f-aec52420b280",
   "metadata": {},
   "outputs": [
    {
     "name": "stdout",
     "output_type": "stream",
     "text": [
      "262144\n"
     ]
    }
   ],
   "source": [
    "NFA3 = bruteforcevecs(( (1,0,0),(0,1,0),(0,0,1),(1,1,0),(0,1,1),(1,0,1),(1,1,1),(0,0,0) )); print(len(NFA3))"
   ]
  },
  {
   "cell_type": "code",
   "execution_count": 7,
   "id": "5417dede-5a3c-4921-a004-7e6349f4b985",
   "metadata": {},
   "outputs": [],
   "source": [
    "# i wanted to see if you get any extra strings if uniqueness of paths is dropped...could also just try to come up with an example"
   ]
  },
  {
   "cell_type": "code",
   "execution_count": 27,
   "id": "d46aec09-bae3-411f-ae96-f39bd5a8d8d0",
   "metadata": {},
   "outputs": [
    {
     "data": {
      "text/plain": [
       "5"
      ]
     },
     "execution_count": 27,
     "metadata": {},
     "output_type": "execute_result"
    }
   ],
   "source": [
    "NC['0000101010']"
   ]
  },
  {
   "cell_type": "code",
   "execution_count": 69,
   "id": "8f091959-ffbc-494c-8703-86cbf64c87de",
   "metadata": {},
   "outputs": [
    {
     "name": "stdout",
     "output_type": "stream",
     "text": [
      "3 8\n",
      "4 14\n",
      "5 20\n",
      "6 26\n",
      "7 32\n",
      "8 38\n",
      "9 44\n"
     ]
    }
   ],
   "source": [
    "for l in range(3,10):\n",
    "    print(l, len([s for s in SC.keys() if len(s) == l and SC[s] == 2]))"
   ]
  },
  {
   "cell_type": "code",
   "execution_count": null,
   "id": "05eee591-9de0-45c4-be09-014aa00288c8",
   "metadata": {},
   "outputs": [],
   "source": [
    "uniqsn3 = {}\n",
    "for l in range(4,7):\n",
    "    uniqsn3[l] = finduniques(NFA3,l,[1,0,0],[1,0,0])\n",
    "    print(len(uniqsn3[l]))"
   ]
  },
  {
   "cell_type": "code",
   "execution_count": 70,
   "id": "bc2180f2-8750-4393-a978-776e8b0eda5b",
   "metadata": {},
   "outputs": [
    {
     "name": "stdout",
     "output_type": "stream",
     "text": [
      "217\n"
     ]
    }
   ],
   "source": [
    "N4 = set([s for s in NC.keys() if NC[s] == 4]); print(len(N3))"
   ]
  },
  {
   "cell_type": "code",
   "execution_count": 76,
   "id": "59064aff-dcaf-4e9f-9644-af3bb002bc48",
   "metadata": {},
   "outputs": [
    {
     "data": {
      "text/plain": [
       "['011000',\n",
       " '111000',\n",
       " '010011',\n",
       " '101110',\n",
       " '101001',\n",
       " '100111',\n",
       " '001011',\n",
       " '100101',\n",
       " '000100',\n",
       " '111010',\n",
       " '100010',\n",
       " '001000',\n",
       " '110010',\n",
       " '011001',\n",
       " '010111',\n",
       " '000110',\n",
       " '100110',\n",
       " '110111',\n",
       " '111001',\n",
       " '101000',\n",
       " '001101',\n",
       " '011101',\n",
       " '111011',\n",
       " '011010',\n",
       " '101100',\n",
       " '000101',\n",
       " '110100',\n",
       " '010001',\n",
       " '010110',\n",
       " '000111']"
      ]
     },
     "execution_count": 76,
     "metadata": {},
     "output_type": "execute_result"
    }
   ],
   "source": [
    "[s for s in NC.keys() if NC[s] == 4 and len(s) == 6]"
   ]
  },
  {
   "cell_type": "code",
   "execution_count": 86,
   "id": "e8795860-468d-4a40-95b9-b16ac07d5774",
   "metadata": {},
   "outputs": [],
   "source": [
    "string = '101000'\n",
    "v = [1,0,0]\n",
    "f = [0,0,1]\n",
    "#f = list(reversed(f))\n",
    "for nfa in NFA3:\n",
    "    myprob = accprob(nfa,string,v,f)\n",
    "    if myprob == 0: continue # want the string to be accepted, first of all\n",
    "    isanotherpositive = False # fuck you, Guido, for making me define a stupid extra variable instead of doing a multilevel break\n",
    "    for s in S2[6]:\n",
    "        if s == string: continue # consider only other strings\n",
    "        if accprob(nfa,s,v,f) > 0:\n",
    "            isanotherpositive = True\n",
    "            break\n",
    "    if isanotherpositive: continue # disregard the NFA if anything else has an accepting path\n",
    "    else: print(nfa); break"
   ]
  },
  {
   "cell_type": "code",
   "execution_count": null,
   "id": "04342a44-aba8-4405-a513-9d8716be1d6a",
   "metadata": {},
   "outputs": [],
   "source": []
  },
  {
   "cell_type": "code",
   "execution_count": null,
   "id": "3423fc52-38cb-42bd-b7c5-11c97de66deb",
   "metadata": {},
   "outputs": [],
   "source": []
  },
  {
   "cell_type": "code",
   "execution_count": 88,
   "id": "e3fd270a-6634-4003-9542-af805ffb63ec",
   "metadata": {},
   "outputs": [
    {
     "data": {
      "text/plain": [
       "(\n",
       "{'0': [1/2 1/2   0]                            \n",
       "[  1   0   0]                                  \n",
       "[  1   0   0], '1': [1/2   0 1/2]           [0]\n",
       "[  1   0   0]                               [0]\n",
       "[1/2 1/2   0]}                   , [1 0 0], [1]\n",
       ")"
      ]
     },
     "execution_count": 88,
     "metadata": {},
     "output_type": "execute_result"
    }
   ],
   "source": [
    "w1 = SW['01101'][0]; w1"
   ]
  },
  {
   "cell_type": "code",
   "execution_count": 89,
   "id": "bbc4ce2f-85d1-4a9a-aed2-d8dd61b4494a",
   "metadata": {},
   "outputs": [
    {
     "data": {
      "text/plain": [
       "0.0312500000000000"
      ]
     },
     "execution_count": 89,
     "metadata": {},
     "output_type": "execute_result"
    }
   ],
   "source": [
    "probgap(w1,'01101').n()"
   ]
  },
  {
   "cell_type": "code",
   "execution_count": null,
   "id": "d23717be-f5b7-4f91-909f-700370fec19a",
   "metadata": {},
   "outputs": [],
   "source": [
    "wlist1 = list_probs_witness(w1,lengths=range(1,16))\n",
    "thing = [print(*s) for s in highest_prob_fromlist(wlist1,lengths=\"all\")]"
   ]
  },
  {
   "cell_type": "code",
   "execution_count": 94,
   "id": "aa6d7a11-14b3-4a39-9976-e18c751896c9",
   "metadata": {},
   "outputs": [
    {
     "name": "stdout",
     "output_type": "stream",
     "text": [
      "path [0, 0, 0, 0, 0, 2] has prob 1/32\n",
      "path [0, 1, 0, 0, 0, 2] has prob 1/16\n",
      "path [0, 0, 2, 0, 0, 2] has prob 1/32\n",
      "path [0, 0, 2, 1, 0, 2] has prob 1/16\n",
      "path [0, 0, 0, 2, 0, 2] has prob 1/16\n",
      "path [0, 1, 0, 2, 0, 2] has prob 1/8\n",
      "\n"
     ]
    }
   ],
   "source": [
    "print(pathlist_witness(w1,'01101'))"
   ]
  },
  {
   "cell_type": "code",
   "execution_count": 97,
   "id": "caf6b164-ce34-4fd2-9282-84f852e82935",
   "metadata": {},
   "outputs": [
    {
     "ename": "KeyError",
     "evalue": "0",
     "output_type": "error",
     "traceback": [
      "\u001b[1;31m---------------------------------------------------------------------------\u001b[0m",
      "\u001b[1;31mKeyError\u001b[0m                                  Traceback (most recent call last)",
      "\u001b[1;32m<ipython-input-97-52dfd5c69597>\u001b[0m in \u001b[0;36m<module>\u001b[1;34m\u001b[0m\n\u001b[1;32m----> 1\u001b[1;33m \u001b[0mautplotwit\u001b[0m\u001b[1;33m(\u001b[0m\u001b[1;34m'01101'\u001b[0m\u001b[1;33m,\u001b[0m\u001b[0mInteger\u001b[0m\u001b[1;33m(\u001b[0m\u001b[1;36m0\u001b[0m\u001b[1;33m)\u001b[0m\u001b[1;33m)\u001b[0m\u001b[1;33m\u001b[0m\u001b[1;33m\u001b[0m\u001b[0m\n\u001b[0m",
      "\u001b[1;32m<string>\u001b[0m in \u001b[0;36mautplotwit\u001b[1;34m(sigma, ind, its)\u001b[0m\n",
      "\u001b[1;32m<string>\u001b[0m in \u001b[0;36mautgraph\u001b[1;34m(matpair)\u001b[0m\n",
      "\u001b[1;31mKeyError\u001b[0m: 0"
     ]
    }
   ],
   "source": [
    "autplotwit('01101',0)"
   ]
  },
  {
   "cell_type": "code",
   "execution_count": 99,
   "id": "d51b3eea-5384-4bc2-b4ba-224dab529bef",
   "metadata": {},
   "outputs": [],
   "source": [
    "load(\"PFAclass.sage\")"
   ]
  },
  {
   "cell_type": "code",
   "execution_count": 100,
   "id": "df715479-3215-4faf-9529-1e04f0252d07",
   "metadata": {},
   "outputs": [],
   "source": [
    "M = Matrix([[0,1,1],[0,2,0]])"
   ]
  },
  {
   "cell_type": "code",
   "execution_count": 101,
   "id": "cb9a3f9c-5403-4655-a2b5-15feba28d64d",
   "metadata": {},
   "outputs": [
    {
     "data": {
      "text/plain": [
       "(2, 3)"
      ]
     },
     "execution_count": 101,
     "metadata": {},
     "output_type": "execute_result"
    }
   ],
   "source": [
    "M.dimensions()"
   ]
  },
  {
   "cell_type": "code",
   "execution_count": null,
   "id": "e088b3fc-bbbe-4da7-ae5a-3711faf7249f",
   "metadata": {},
   "outputs": [],
   "source": []
  }
 ],
 "metadata": {
  "kernelspec": {
   "display_name": "SageMath 9.4",
   "language": "sage",
   "name": "sagemath"
  },
  "language_info": {
   "codemirror_mode": {
    "name": "ipython",
    "version": 3
   },
   "file_extension": ".py",
   "mimetype": "text/x-python",
   "name": "python",
   "nbconvert_exporter": "python",
   "pygments_lexer": "ipython3",
   "version": "3.9.5"
  }
 },
 "nbformat": 4,
 "nbformat_minor": 5
}
